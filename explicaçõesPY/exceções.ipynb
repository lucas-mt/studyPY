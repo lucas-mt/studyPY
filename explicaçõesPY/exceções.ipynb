{
 "cells": [
  {
   "cell_type": "markdown",
   "id": "7e006c10-e029-4240-94cb-e7bce3df443d",
   "metadata": {},
   "source": [
    "## ***Exceções***\n",
    "---"
   ]
  },
  {
   "cell_type": "markdown",
   "id": "7d5b42a0-ea7b-4d11-b664-9e99fc06fafe",
   "metadata": {},
   "source": [
    "o `except` pode ou não receber uma exceção em específico para tratar, no caso de não receber, ele tratará qualquer exceção que ocorrer, ou pode ser dado nomes às exceções"
   ]
  },
  {
   "cell_type": "markdown",
   "id": "264a033c-5b78-46e2-a6ad-8129ef5c8830",
   "metadata": {},
   "source": [
    "no caso abaixo é nomeado a exceção que ocorre, sem necessariamente ser especificada qual exceção tratar"
   ]
  },
  {
   "cell_type": "code",
   "execution_count": 1,
   "id": "92e97860-b55d-433e-b07e-1776c342db2b",
   "metadata": {},
   "outputs": [
    {
     "name": "stdin",
     "output_type": "stream",
     "text": [
      ">  oi\n"
     ]
    },
    {
     "name": "stdout",
     "output_type": "stream",
     "text": [
      "invalid literal for int() with base 10: 'oi'\n"
     ]
    }
   ],
   "source": [
    "try:\n",
    "    num = int(input('> '))\n",
    "    print(num)\n",
    "except Exception as erro:\n",
    "    print(erro)"
   ]
  },
  {
   "cell_type": "markdown",
   "id": "04c1b92d-00fa-4b66-8d86-ab5b47076b07",
   "metadata": {},
   "source": [
    "junto da variável, que nesse exemplo se chama `erro`, pode receber o verificador `__class__`, que retorna somente a classe da exceção"
   ]
  },
  {
   "cell_type": "code",
   "execution_count": 2,
   "id": "9529688b-24a2-4921-8b65-f975b185a7f4",
   "metadata": {},
   "outputs": [
    {
     "name": "stdin",
     "output_type": "stream",
     "text": [
      ">  oi\n"
     ]
    },
    {
     "name": "stdout",
     "output_type": "stream",
     "text": [
      "<class 'ValueError'>\n"
     ]
    }
   ],
   "source": [
    "try:\n",
    "    num = int(input('> '))\n",
    "    print(num)\n",
    "except Exception as erro:\n",
    "    print(erro.__class__)"
   ]
  },
  {
   "cell_type": "markdown",
   "id": "df3b3902-f12f-4f04-9fdb-08e33053ab55",
   "metadata": {},
   "source": [
    "ou"
   ]
  },
  {
   "cell_type": "markdown",
   "id": "1dff5ed8-e65a-414f-b2c1-1425d33e059b",
   "metadata": {},
   "source": [
    "ou pode ser dado especificado a exceção que deve ser tratado:"
   ]
  },
  {
   "cell_type": "code",
   "execution_count": 3,
   "id": "5d7f38a4-903c-415b-82f5-6f131fc4f88e",
   "metadata": {},
   "outputs": [
    {
     "name": "stdin",
     "output_type": "stream",
     "text": [
      ">  oi\n"
     ]
    },
    {
     "name": "stdout",
     "output_type": "stream",
     "text": [
      "deve ser passado um número não uma string\n"
     ]
    }
   ],
   "source": [
    "try:\n",
    "    num = int(input('> '))\n",
    "    print(num)\n",
    "except ValueError:\n",
    "    print('deve ser passado um número não uma string')"
   ]
  },
  {
   "cell_type": "markdown",
   "id": "bbacff03-9dc7-4ec4-849c-bb9650ed7d5e",
   "metadata": {},
   "source": [
    "ou pode simplesmente tratar de forma geral qualquer exceção que ocorra:"
   ]
  },
  {
   "cell_type": "code",
   "execution_count": 4,
   "id": "5c416484-0b15-4bfe-8e66-7f9d178db7e5",
   "metadata": {},
   "outputs": [
    {
     "name": "stdin",
     "output_type": "stream",
     "text": [
      ">  oi\n"
     ]
    },
    {
     "name": "stdout",
     "output_type": "stream",
     "text": [
      "opáaa! deu erro na execução.\n"
     ]
    }
   ],
   "source": [
    "try:\n",
    "    num = int(input('> '))\n",
    "    print(num)\n",
    "except:\n",
    "    print('opáaa! deu erro na execução.')"
   ]
  },
  {
   "cell_type": "markdown",
   "id": "a0aa8168-b4e6-4e0a-b26f-0358b9b27717",
   "metadata": {},
   "source": [
    "pode ser usado quantos `except` forem necessário para tratarem de diferentes erros, por exemplo:"
   ]
  },
  {
   "cell_type": "code",
   "execution_count": 5,
   "id": "2adf49a4-de9c-4b1d-91d2-45221ca012b1",
   "metadata": {},
   "outputs": [],
   "source": [
    "#except TypeError:\n",
    "#except ValueError:\n",
    "#except EOFError:\n",
    "#except RunTimeError:\n",
    "#except MemoryError:\n",
    "#except ConectionError:\n",
    "#except ModuleNotFoundError:\n",
    "#except IndexError:\n",
    "#except ZeroDivisionError:"
   ]
  },
  {
   "cell_type": "markdown",
   "id": "4fd1c3c4-1fec-4317-92c8-45e3d3db67e8",
   "metadata": {},
   "source": [
    "ou podem todas as exceções serem tratadas em um só `except` dentro de uma tuplas"
   ]
  },
  {
   "cell_type": "code",
   "execution_count": 6,
   "id": "b2868c58-ebc1-4fa8-a576-60b33f6f570a",
   "metadata": {},
   "outputs": [],
   "source": [
    "#except (TypeError, ValueError, EOFError, RunTimeError, MemoryError, ConectionError, ModuleNotFoundError, IndexError, ZeroDivisionError):"
   ]
  },
  {
   "cell_type": "markdown",
   "id": "86ed6f24-920b-44ae-b7a7-6897a9e3e95e",
   "metadata": {},
   "source": [
    "#### Raise"
   ]
  },
  {
   "cell_type": "markdown",
   "id": "c55eabee-f2b4-46e2-ac4e-67ecfd2bb3b4",
   "metadata": {},
   "source": [
    "o `raise` faz com que, mesmo o programa achando o `except` que trate a exceção, a exceção continua a percorrer o programa e caso não haja outro `except` que o trate, será gerada a mensagem `Traceback` normalmente:"
   ]
  },
  {
   "cell_type": "code",
   "execution_count": 7,
   "id": "f89e2db4-74e8-439c-83be-8b20ed46d0b0",
   "metadata": {},
   "outputs": [
    {
     "name": "stdin",
     "output_type": "stream",
     "text": [
      ">  oi\n"
     ]
    },
    {
     "ename": "ValueError",
     "evalue": "invalid literal for int() with base 10: 'oi'",
     "output_type": "error",
     "traceback": [
      "\u001b[1;31m---------------------------------------------------------------------------\u001b[0m",
      "\u001b[1;31mValueError\u001b[0m                                Traceback (most recent call last)",
      "\u001b[1;32m<ipython-input-7-bdf57ddb8742>\u001b[0m in \u001b[0;36m<module>\u001b[1;34m\u001b[0m\n\u001b[0;32m      1\u001b[0m \u001b[1;32mtry\u001b[0m\u001b[1;33m:\u001b[0m\u001b[1;33m\u001b[0m\u001b[1;33m\u001b[0m\u001b[0m\n\u001b[1;32m----> 2\u001b[1;33m     \u001b[0mnum\u001b[0m \u001b[1;33m=\u001b[0m \u001b[0mint\u001b[0m\u001b[1;33m(\u001b[0m\u001b[0minput\u001b[0m\u001b[1;33m(\u001b[0m\u001b[1;34m'> '\u001b[0m\u001b[1;33m)\u001b[0m\u001b[1;33m)\u001b[0m\u001b[1;33m\u001b[0m\u001b[1;33m\u001b[0m\u001b[0m\n\u001b[0m\u001b[0;32m      3\u001b[0m     \u001b[0mprint\u001b[0m\u001b[1;33m(\u001b[0m\u001b[0mnum\u001b[0m\u001b[1;33m)\u001b[0m\u001b[1;33m\u001b[0m\u001b[1;33m\u001b[0m\u001b[0m\n\u001b[0;32m      4\u001b[0m \u001b[1;32mexcept\u001b[0m\u001b[1;33m:\u001b[0m\u001b[1;33m\u001b[0m\u001b[1;33m\u001b[0m\u001b[0m\n\u001b[0;32m      5\u001b[0m     \u001b[1;32mraise\u001b[0m\u001b[1;33m\u001b[0m\u001b[1;33m\u001b[0m\u001b[0m\n",
      "\u001b[1;31mValueError\u001b[0m: invalid literal for int() with base 10: 'oi'"
     ]
    }
   ],
   "source": [
    "try:\n",
    "    num = int(input('> '))\n",
    "    print(num)\n",
    "except:\n",
    "    raise"
   ]
  },
  {
   "cell_type": "markdown",
   "id": "5d456b41-c2d4-421e-b257-3ce8fb647a32",
   "metadata": {},
   "source": [
    "o `raise` pode ser usado para criarmos nossas próprias mensagens de erro:"
   ]
  },
  {
   "cell_type": "code",
   "execution_count": 8,
   "id": "85030c08-7881-4cd8-8f7b-56c8670c419a",
   "metadata": {},
   "outputs": [
    {
     "name": "stdin",
     "output_type": "stream",
     "text": [
      ">  oi\n"
     ]
    },
    {
     "ename": "ValueError",
     "evalue": "programa não recebe o tipo <class 'ValueError'>: tipo int",
     "output_type": "error",
     "traceback": [
      "\u001b[1;31m---------------------------------------------------------------------------\u001b[0m",
      "\u001b[1;31mValueError\u001b[0m                                Traceback (most recent call last)",
      "\u001b[1;32m<ipython-input-8-13e31f84d567>\u001b[0m in \u001b[0;36m<module>\u001b[1;34m\u001b[0m\n\u001b[0;32m      1\u001b[0m \u001b[1;32mtry\u001b[0m\u001b[1;33m:\u001b[0m\u001b[1;33m\u001b[0m\u001b[1;33m\u001b[0m\u001b[0m\n\u001b[1;32m----> 2\u001b[1;33m     \u001b[0mnum\u001b[0m \u001b[1;33m=\u001b[0m \u001b[0mint\u001b[0m\u001b[1;33m(\u001b[0m\u001b[0minput\u001b[0m\u001b[1;33m(\u001b[0m\u001b[1;34m'> '\u001b[0m\u001b[1;33m)\u001b[0m\u001b[1;33m)\u001b[0m\u001b[1;33m\u001b[0m\u001b[1;33m\u001b[0m\u001b[0m\n\u001b[0m\u001b[0;32m      3\u001b[0m     \u001b[0mprint\u001b[0m\u001b[1;33m(\u001b[0m\u001b[0mnum\u001b[0m\u001b[1;33m)\u001b[0m\u001b[1;33m\u001b[0m\u001b[1;33m\u001b[0m\u001b[0m\n",
      "\u001b[1;31mValueError\u001b[0m: invalid literal for int() with base 10: 'oi'",
      "\nDuring handling of the above exception, another exception occurred:\n",
      "\u001b[1;31mValueError\u001b[0m                                Traceback (most recent call last)",
      "\u001b[1;32m<ipython-input-8-13e31f84d567>\u001b[0m in \u001b[0;36m<module>\u001b[1;34m\u001b[0m\n\u001b[0;32m      3\u001b[0m     \u001b[0mprint\u001b[0m\u001b[1;33m(\u001b[0m\u001b[0mnum\u001b[0m\u001b[1;33m)\u001b[0m\u001b[1;33m\u001b[0m\u001b[1;33m\u001b[0m\u001b[0m\n\u001b[0;32m      4\u001b[0m \u001b[1;32mexcept\u001b[0m \u001b[0mException\u001b[0m \u001b[1;32mas\u001b[0m \u001b[0merro\u001b[0m\u001b[1;33m:\u001b[0m\u001b[1;33m\u001b[0m\u001b[1;33m\u001b[0m\u001b[0m\n\u001b[1;32m----> 5\u001b[1;33m     \u001b[1;32mraise\u001b[0m \u001b[0mValueError\u001b[0m\u001b[1;33m(\u001b[0m\u001b[1;34mf'programa não recebe o tipo {erro.__class__}: tipo int'\u001b[0m\u001b[1;33m)\u001b[0m\u001b[1;33m\u001b[0m\u001b[1;33m\u001b[0m\u001b[0m\n\u001b[0m",
      "\u001b[1;31mValueError\u001b[0m: programa não recebe o tipo <class 'ValueError'>: tipo int"
     ]
    }
   ],
   "source": [
    "try:\n",
    "    num = int(input('> '))\n",
    "    print(num)\n",
    "except Exception as erro:\n",
    "    raise ValueError(f'programa não recebe o tipo {erro.__class__}: tipo int')"
   ]
  },
  {
   "cell_type": "markdown",
   "id": "b62358a9-00f5-47b1-9f4a-f535d90e6927",
   "metadata": {},
   "source": [
    "nesse caso, aparece a mensagem nativa do python com a mensagem personalizada. Se desejar aparecer somente a personalizada:"
   ]
  },
  {
   "cell_type": "code",
   "execution_count": 11,
   "id": "b291ca40-5ebb-4b1d-b560-f8cd2deb83e6",
   "metadata": {},
   "outputs": [
    {
     "name": "stdin",
     "output_type": "stream",
     "text": [
      ">  oi\n"
     ]
    },
    {
     "ename": "ValueError",
     "evalue": "programa não recebe o tipo <class 'ValueError'>: tipo int",
     "output_type": "error",
     "traceback": [
      "\u001b[1;31m---------------------------------------------------------------------------\u001b[0m",
      "\u001b[1;31mValueError\u001b[0m                                Traceback (most recent call last)",
      "\u001b[1;32m<ipython-input-11-6d784adeee2e>\u001b[0m in \u001b[0;36m<module>\u001b[1;34m\u001b[0m\n\u001b[0;32m      3\u001b[0m     \u001b[0mprint\u001b[0m\u001b[1;33m(\u001b[0m\u001b[0mnum\u001b[0m\u001b[1;33m)\u001b[0m\u001b[1;33m\u001b[0m\u001b[1;33m\u001b[0m\u001b[0m\n\u001b[0;32m      4\u001b[0m \u001b[1;32mexcept\u001b[0m \u001b[0mException\u001b[0m \u001b[1;32mas\u001b[0m \u001b[0merro\u001b[0m\u001b[1;33m:\u001b[0m\u001b[1;33m\u001b[0m\u001b[1;33m\u001b[0m\u001b[0m\n\u001b[1;32m----> 5\u001b[1;33m     \u001b[1;32mraise\u001b[0m \u001b[0mValueError\u001b[0m\u001b[1;33m(\u001b[0m\u001b[1;34mf'programa não recebe o tipo {erro.__class__}: tipo int'\u001b[0m\u001b[1;33m)\u001b[0m \u001b[1;32mfrom\u001b[0m \u001b[1;32mNone\u001b[0m\u001b[1;33m\u001b[0m\u001b[1;33m\u001b[0m\u001b[0m\n\u001b[0m",
      "\u001b[1;31mValueError\u001b[0m: programa não recebe o tipo <class 'ValueError'>: tipo int"
     ]
    }
   ],
   "source": [
    "try:\n",
    "    num = int(input('> '))\n",
    "    print(num)\n",
    "except Exception as erro:\n",
    "    raise ValueError(f'programa não recebe o tipo {erro.__class__}: tipo int') from None"
   ]
  },
  {
   "cell_type": "markdown",
   "id": "14c37283-ecf0-41c6-ab9e-5227c80b0f44",
   "metadata": {},
   "source": [
    "acrescentando o `from None` após a mensagem."
   ]
  },
  {
   "cell_type": "markdown",
   "id": "278cb5a1-ca3f-4bce-9deb-e6e4027420ef",
   "metadata": {},
   "source": [
    "#### Else"
   ]
  },
  {
   "cell_type": "markdown",
   "id": "50ec8360-5d38-412d-bc90-dbe282661f5b",
   "metadata": {},
   "source": [
    "pode ser usado um `else` após o `try`, que só executará se o `try` for verdadeiro, ou seja, se o try também for executado"
   ]
  },
  {
   "cell_type": "code",
   "execution_count": 14,
   "id": "1b006f55-0cef-4902-96cc-b0c813d9d9dd",
   "metadata": {},
   "outputs": [
    {
     "name": "stdin",
     "output_type": "stream",
     "text": [
      ">  01\n"
     ]
    },
    {
     "name": "stdout",
     "output_type": "stream",
     "text": [
      "1\n",
      "correu tudo bem por aqui!\n"
     ]
    }
   ],
   "source": [
    "try:\n",
    "    num = int(input('> '))\n",
    "    print(num)\n",
    "except Exception as erro:\n",
    "    print(erro)\n",
    "else:\n",
    "    print('correu tudo bem por aqui!')"
   ]
  },
  {
   "cell_type": "markdown",
   "id": "71a27295-fb82-4491-8804-10203d9d4fe0",
   "metadata": {},
   "source": [
    "se `try` não executar, `else` também não irá executar:"
   ]
  },
  {
   "cell_type": "code",
   "execution_count": 15,
   "id": "ca2e0bd0-19f3-4b3d-ab7b-617287557264",
   "metadata": {},
   "outputs": [
    {
     "name": "stdin",
     "output_type": "stream",
     "text": [
      ">  oi\n"
     ]
    },
    {
     "name": "stdout",
     "output_type": "stream",
     "text": [
      "invalid literal for int() with base 10: 'oi'\n"
     ]
    }
   ],
   "source": [
    "try:\n",
    "    num = int(input('> '))\n",
    "    print(num)\n",
    "except Exception as erro:\n",
    "    print(erro)\n",
    "else:\n",
    "    print('correu tudo bem por aqui!')"
   ]
  },
  {
   "cell_type": "markdown",
   "id": "28ed816a-f92f-4742-8acc-21a62273502e",
   "metadata": {},
   "source": [
    "#### Finally"
   ]
  },
  {
   "cell_type": "markdown",
   "id": "11a09838-5061-4460-844e-018d2b103889",
   "metadata": {},
   "source": [
    "e, por último, pode ser usado um `finally`, que será executado independente do que ocorra no resto do código:"
   ]
  },
  {
   "cell_type": "code",
   "execution_count": 16,
   "id": "7b9e8281-03fc-4caf-9383-f6db27375adc",
   "metadata": {},
   "outputs": [
    {
     "name": "stdin",
     "output_type": "stream",
     "text": [
      ">  10\n"
     ]
    },
    {
     "name": "stdout",
     "output_type": "stream",
     "text": [
      "10\n",
      "correu tudo bem por aqui!\n",
      "0\n",
      "1\n",
      "2\n",
      "3\n",
      "4\n",
      "5\n",
      "6\n",
      "7\n",
      "8\n",
      "9\n",
      "10\n"
     ]
    }
   ],
   "source": [
    "try:\n",
    "    num = int(input('> '))\n",
    "    print(num)\n",
    "except Exception as erro:\n",
    "    print(erro)\n",
    "else:\n",
    "    print('correu tudo bem por aqui!')\n",
    "finally:\n",
    "    for i in range(11):\n",
    "        print(i)"
   ]
  },
  {
   "cell_type": "markdown",
   "id": "5a37fccf-bab5-4d42-b56e-8edc50c10b7e",
   "metadata": {},
   "source": [
    "ou"
   ]
  },
  {
   "cell_type": "code",
   "execution_count": 17,
   "id": "f8873bbf-eb1e-4f74-a5af-07e075f13bf9",
   "metadata": {},
   "outputs": [
    {
     "name": "stdin",
     "output_type": "stream",
     "text": [
      ">  oi\n"
     ]
    },
    {
     "name": "stdout",
     "output_type": "stream",
     "text": [
      "invalid literal for int() with base 10: 'oi'\n",
      "0\n",
      "1\n",
      "2\n",
      "3\n",
      "4\n",
      "5\n",
      "6\n",
      "7\n",
      "8\n",
      "9\n",
      "10\n"
     ]
    }
   ],
   "source": [
    "try:\n",
    "    num = int(input('> '))\n",
    "    print(num)\n",
    "except Exception as erro:\n",
    "    print(erro)\n",
    "else:\n",
    "    print('correu tudo bem por aqui!')\n",
    "finally:\n",
    "    for i in range(11):\n",
    "        print(i)"
   ]
  },
  {
   "cell_type": "markdown",
   "id": "8cb2849d-d3af-4452-978f-9e1369fa74f6",
   "metadata": {},
   "source": [
    "#### criando Exceções"
   ]
  },
  {
   "cell_type": "markdown",
   "id": "a1775acb-e295-4f62-8323-7f7c34dc35e2",
   "metadata": {},
   "source": [
    "para criar nossa própria exceção é necessário usar herança para extender a classe Exception do python"
   ]
  },
  {
   "cell_type": "code",
   "execution_count": 18,
   "id": "fdf2c580-dcd3-41ef-bec5-db2193b22ab8",
   "metadata": {},
   "outputs": [],
   "source": [
    "class NovaException(Exception):\n",
    "    pass\n",
    "\n",
    "def lançador():\n",
    "    raise NovaException('um erro ocorreu')"
   ]
  },
  {
   "cell_type": "markdown",
   "id": "ba549b5f-15ff-4531-8154-f87b6a78436f",
   "metadata": {},
   "source": [
    "foi criado a exceção NovaException, ela deve ser uma subclasse da classe Exception sempre, e em seu código deve usar apenas o pass, pois não pode ser modificado, atuando apenas como um novo tipo."
   ]
  },
  {
   "cell_type": "markdown",
   "id": "45b9e9d7-0479-49a0-a8e7-8c91f8ca755f",
   "metadata": {},
   "source": [
    "essa exceção pode ser usada normalmente como qualquer outra já nativa do python, usando blocos try ou except"
   ]
  },
  {
   "cell_type": "code",
   "execution_count": 19,
   "id": "864176cd-a745-43bf-861a-56fcc856e62e",
   "metadata": {},
   "outputs": [
    {
     "name": "stdout",
     "output_type": "stream",
     "text": [
      "um erro ocorreu\n"
     ]
    }
   ],
   "source": [
    "try:\n",
    "    lançador()\n",
    "except Exception as erro:\n",
    "    print(erro)"
   ]
  },
  {
   "cell_type": "markdown",
   "id": "a1d8c104-32a9-45eb-8feb-e751d90d8ded",
   "metadata": {},
   "source": [
    "ou ainda"
   ]
  },
  {
   "cell_type": "code",
   "execution_count": 20,
   "id": "c50778fc-3a85-4951-9e22-1e95931809cf",
   "metadata": {},
   "outputs": [
    {
     "ename": "NovaException",
     "evalue": "um erro ocorreu",
     "output_type": "error",
     "traceback": [
      "\u001b[1;31m---------------------------------------------------------------------------\u001b[0m",
      "\u001b[1;31mNovaException\u001b[0m                             Traceback (most recent call last)",
      "\u001b[1;32m<ipython-input-20-368009fd1613>\u001b[0m in \u001b[0;36m<module>\u001b[1;34m\u001b[0m\n\u001b[1;32m----> 1\u001b[1;33m \u001b[0mlançador\u001b[0m\u001b[1;33m(\u001b[0m\u001b[1;33m)\u001b[0m\u001b[1;33m\u001b[0m\u001b[1;33m\u001b[0m\u001b[0m\n\u001b[0m",
      "\u001b[1;32m<ipython-input-18-80a682895e9e>\u001b[0m in \u001b[0;36mlançador\u001b[1;34m()\u001b[0m\n\u001b[0;32m      3\u001b[0m \u001b[1;33m\u001b[0m\u001b[0m\n\u001b[0;32m      4\u001b[0m \u001b[1;32mdef\u001b[0m \u001b[0mlançador\u001b[0m\u001b[1;33m(\u001b[0m\u001b[1;33m)\u001b[0m\u001b[1;33m:\u001b[0m\u001b[1;33m\u001b[0m\u001b[1;33m\u001b[0m\u001b[0m\n\u001b[1;32m----> 5\u001b[1;33m     \u001b[1;32mraise\u001b[0m \u001b[0mNovaException\u001b[0m\u001b[1;33m(\u001b[0m\u001b[1;34m'um erro ocorreu'\u001b[0m\u001b[1;33m)\u001b[0m\u001b[1;33m\u001b[0m\u001b[1;33m\u001b[0m\u001b[0m\n\u001b[0m",
      "\u001b[1;31mNovaException\u001b[0m: um erro ocorreu"
     ]
    }
   ],
   "source": [
    "lançador()"
   ]
  },
  {
   "cell_type": "markdown",
   "id": "0cb14890-d83e-479d-b96e-4b83269b2dc8",
   "metadata": {},
   "source": [
    "vale lembrar que pode ser criado uma exceção que sirva de superclasse para outras exceções baseadas nela"
   ]
  },
  {
   "cell_type": "code",
   "execution_count": 21,
   "id": "8820e13b-edb4-4b03-abfd-4b373044b52c",
   "metadata": {},
   "outputs": [],
   "source": [
    "class OutroException(NovaException):\n",
    "    pass\n",
    "def lancçador2():\n",
    "    raise OutroException('outro erro mais q=grave que o primeiro, ocorreu')"
   ]
  },
  {
   "cell_type": "markdown",
   "id": "4c3fbca7-4dac-4256-99f3-9db4b541b66a",
   "metadata": {},
   "source": [
    "e, então,"
   ]
  },
  {
   "cell_type": "code",
   "execution_count": 22,
   "id": "901152ed-e68e-4194-8ed7-0fa31c8a5021",
   "metadata": {},
   "outputs": [
    {
     "ename": "OutroException",
     "evalue": "outro erro mais q=grave que o primeiro, ocorreu",
     "output_type": "error",
     "traceback": [
      "\u001b[1;31m---------------------------------------------------------------------------\u001b[0m",
      "\u001b[1;31mOutroException\u001b[0m                            Traceback (most recent call last)",
      "\u001b[1;32m<ipython-input-22-070675b077e0>\u001b[0m in \u001b[0;36m<module>\u001b[1;34m\u001b[0m\n\u001b[1;32m----> 1\u001b[1;33m \u001b[0mlancçador2\u001b[0m\u001b[1;33m(\u001b[0m\u001b[1;33m)\u001b[0m\u001b[1;33m\u001b[0m\u001b[1;33m\u001b[0m\u001b[0m\n\u001b[0m",
      "\u001b[1;32m<ipython-input-21-29a50c7483d3>\u001b[0m in \u001b[0;36mlancçador2\u001b[1;34m()\u001b[0m\n\u001b[0;32m      2\u001b[0m     \u001b[1;32mpass\u001b[0m\u001b[1;33m\u001b[0m\u001b[1;33m\u001b[0m\u001b[0m\n\u001b[0;32m      3\u001b[0m \u001b[1;32mdef\u001b[0m \u001b[0mlancçador2\u001b[0m\u001b[1;33m(\u001b[0m\u001b[1;33m)\u001b[0m\u001b[1;33m:\u001b[0m\u001b[1;33m\u001b[0m\u001b[1;33m\u001b[0m\u001b[0m\n\u001b[1;32m----> 4\u001b[1;33m     \u001b[1;32mraise\u001b[0m \u001b[0mOutroException\u001b[0m\u001b[1;33m(\u001b[0m\u001b[1;34m'outro erro mais q=grave que o primeiro, ocorreu'\u001b[0m\u001b[1;33m)\u001b[0m\u001b[1;33m\u001b[0m\u001b[1;33m\u001b[0m\u001b[0m\n\u001b[0m",
      "\u001b[1;31mOutroException\u001b[0m: outro erro mais q=grave que o primeiro, ocorreu"
     ]
    }
   ],
   "source": [
    "lancçador2()"
   ]
  },
  {
   "cell_type": "markdown",
   "id": "64fcdc7f-42b0-4319-a1c4-fe4a7cb86bb2",
   "metadata": {},
   "source": [
    "isso é possível pois, mesmo não sendo possível modificar as exceções nativas do python, é possível adicionar informações ou atributos às novas classes de exceções"
   ]
  },
  {
   "cell_type": "code",
   "execution_count": 25,
   "id": "bdfcd1fe-545b-429a-a6e1-88631d611e92",
   "metadata": {},
   "outputs": [],
   "source": [
    "class EstoqueException(Exception):\n",
    "    def __init__(self,mensagem, cod_erro):\n",
    "        self.cod = cod_erro\n",
    "def ver_qnt(qnt):\n",
    "    if qnt < 1:\n",
    "        raise EstoqueException('falta de estoque', cod_erro=404)"
   ]
  },
  {
   "cell_type": "code",
   "execution_count": 26,
   "id": "2e0a133e-a2e9-4dfc-b15e-a589ab63a145",
   "metadata": {},
   "outputs": [
    {
     "ename": "EstoqueException",
     "evalue": "falta de estoque",
     "output_type": "error",
     "traceback": [
      "\u001b[1;31m---------------------------------------------------------------------------\u001b[0m",
      "\u001b[1;31mEstoqueException\u001b[0m                          Traceback (most recent call last)",
      "\u001b[1;32m<ipython-input-26-f2eafec0b96c>\u001b[0m in \u001b[0;36m<module>\u001b[1;34m\u001b[0m\n\u001b[1;32m----> 1\u001b[1;33m \u001b[0mver_qnt\u001b[0m\u001b[1;33m(\u001b[0m\u001b[1;33m-\u001b[0m\u001b[1;36m1\u001b[0m\u001b[1;33m)\u001b[0m\u001b[1;33m\u001b[0m\u001b[1;33m\u001b[0m\u001b[0m\n\u001b[0m",
      "\u001b[1;32m<ipython-input-25-ab5b4afbe105>\u001b[0m in \u001b[0;36mver_qnt\u001b[1;34m(qnt)\u001b[0m\n\u001b[0;32m      4\u001b[0m \u001b[1;32mdef\u001b[0m \u001b[0mver_qnt\u001b[0m\u001b[1;33m(\u001b[0m\u001b[0mqnt\u001b[0m\u001b[1;33m)\u001b[0m\u001b[1;33m:\u001b[0m\u001b[1;33m\u001b[0m\u001b[1;33m\u001b[0m\u001b[0m\n\u001b[0;32m      5\u001b[0m     \u001b[1;32mif\u001b[0m \u001b[0mqnt\u001b[0m \u001b[1;33m<\u001b[0m \u001b[1;36m1\u001b[0m\u001b[1;33m:\u001b[0m\u001b[1;33m\u001b[0m\u001b[1;33m\u001b[0m\u001b[0m\n\u001b[1;32m----> 6\u001b[1;33m         \u001b[1;32mraise\u001b[0m \u001b[0mEstoqueException\u001b[0m\u001b[1;33m(\u001b[0m\u001b[1;34m'falta de estoque'\u001b[0m\u001b[1;33m,\u001b[0m \u001b[0mcod_erro\u001b[0m\u001b[1;33m=\u001b[0m\u001b[1;36m404\u001b[0m\u001b[1;33m)\u001b[0m\u001b[1;33m\u001b[0m\u001b[1;33m\u001b[0m\u001b[0m\n\u001b[0m",
      "\u001b[1;31mEstoqueException\u001b[0m: falta de estoque"
     ]
    }
   ],
   "source": [
    "ver_qnt(-1)"
   ]
  },
  {
   "cell_type": "markdown",
   "id": "90296de3-393d-4ac1-ab1b-fb71fa7e098b",
   "metadata": {},
   "source": [
    "ou ainda"
   ]
  },
  {
   "cell_type": "code",
   "execution_count": 28,
   "id": "631cbc1b-3062-45bd-bcdc-846437d94f41",
   "metadata": {},
   "outputs": [
    {
     "name": "stdout",
     "output_type": "stream",
     "text": [
      "404\n"
     ]
    }
   ],
   "source": [
    "try:\n",
    "    ver_qnt(-1)\n",
    "except Exception as ee:\n",
    "    print(ee.cod)"
   ]
  }
 ],
 "metadata": {
  "kernelspec": {
   "display_name": "Python 3 (ipykernel)",
   "language": "python",
   "name": "python3"
  },
  "language_info": {
   "codemirror_mode": {
    "name": "ipython",
    "version": 3
   },
   "file_extension": ".py",
   "mimetype": "text/x-python",
   "name": "python",
   "nbconvert_exporter": "python",
   "pygments_lexer": "ipython3",
   "version": "3.9.5"
  }
 },
 "nbformat": 4,
 "nbformat_minor": 5
}
