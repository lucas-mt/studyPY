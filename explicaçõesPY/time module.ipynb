{
 "cells": [
  {
   "cell_type": "markdown",
   "id": "5d4095f8-7224-4eb9-af4c-28d1bfbd4e3d",
   "metadata": {},
   "source": [
    "## *Um pouco sobre o tempo com o módulo Time*\n",
    "---"
   ]
  },
  {
   "cell_type": "markdown",
   "id": "567b4f13-3d9c-4c91-a77a-57033457033f",
   "metadata": {},
   "source": [
    "o módulo time é usado para manipular informações sobre o tempo, como o módulo `time.ctime()` que converte segndos em uma data, contando a partir de 01/01/1970"
   ]
  },
  {
   "cell_type": "code",
   "execution_count": 1,
   "id": "7ae71b9e-9167-49e6-9163-d518b7fbcb66",
   "metadata": {},
   "outputs": [
    {
     "name": "stdout",
     "output_type": "stream",
     "text": [
      "Thu Apr 19 10:20:56 2001\n"
     ]
    }
   ],
   "source": [
    "import time\n",
    "\n",
    "print(time.ctime(987686456))"
   ]
  },
  {
   "cell_type": "markdown",
   "id": "d98a32e7-734c-45f2-8711-120c1cb3d5c9",
   "metadata": {},
   "source": [
    "o `time.time()` apresenta a data e a hora atual do computador"
   ]
  },
  {
   "cell_type": "code",
   "execution_count": 2,
   "id": "4550cf7f-14a6-46c2-96ac-5e61353b72e3",
   "metadata": {},
   "outputs": [
    {
     "name": "stdout",
     "output_type": "stream",
     "text": [
      "1667496568.1447964\n"
     ]
    }
   ],
   "source": [
    "print(time.time())"
   ]
  },
  {
   "cell_type": "markdown",
   "id": "924f18c0-62e0-441f-a7be-cd0148ab8bfe",
   "metadata": {},
   "source": [
    "ou"
   ]
  },
  {
   "cell_type": "code",
   "execution_count": 3,
   "id": "d7d904f0-42e1-4d91-b69e-798cbe353020",
   "metadata": {},
   "outputs": [
    {
     "name": "stdout",
     "output_type": "stream",
     "text": [
      "Thu Nov  3 14:29:28 2022\n"
     ]
    }
   ],
   "source": [
    "print(time.ctime(time.time()))"
   ]
  },
  {
   "cell_type": "markdown",
   "id": "c2dab981-3987-4a13-bae0-6278b3812465",
   "metadata": {},
   "source": [
    "a função `time.gmtime()` recebe um tempo como parâmetro e retorna uma tupla, observe:"
   ]
  },
  {
   "cell_type": "code",
   "execution_count": 4,
   "id": "9e04efad-6c7b-4854-8b4b-0e0560bee569",
   "metadata": {},
   "outputs": [
    {
     "name": "stdout",
     "output_type": "stream",
     "text": [
      "time.struct_time(tm_year=2022, tm_mon=11, tm_mday=3, tm_hour=17, tm_min=29, tm_sec=28, tm_wday=3, tm_yday=307, tm_isdst=0)\n"
     ]
    }
   ],
   "source": [
    "print(time.gmtime(time.time()))"
   ]
  },
  {
   "cell_type": "markdown",
   "id": "63236796-5f83-4228-8613-d7c4255df7f4",
   "metadata": {},
   "source": [
    "nesse caso, observe que"
   ]
  },
  {
   "cell_type": "markdown",
   "id": "73708d7e-3a9b-43e5-b67a-a442f148f804",
   "metadata": {},
   "source": [
    "posição|nome|descrição\n",
    "---|---|---\n",
    "0|tm_year|ano\n",
    "1|tm_mon|mês\n",
    "2|tm_mday|dia do mês\n",
    "3|tm_hour|hora\n",
    "4|tm_min|minuto\n",
    "5|tm_sec|segundo\n",
    "6|tm_wday|dia da semana\n",
    "7|tm_yday|dia do ano\n",
    "8|tm_isdst|hr de verão (0=False, 1=True)"
   ]
  },
  {
   "cell_type": "markdown",
   "id": "684fe208-ef27-408f-acb9-c8812815a25f",
   "metadata": {},
   "source": [
    "podemos acessar esses dados como uma tupla, como também podemos acessar usando os nomes"
   ]
  },
  {
   "cell_type": "code",
   "execution_count": 5,
   "id": "71977059-4bd4-4543-a581-2738f9afd32d",
   "metadata": {},
   "outputs": [
    {
     "name": "stdout",
     "output_type": "stream",
     "text": [
      "ano: 2022\n",
      "mês: 11\n",
      "dia: 3\n",
      "hora: 17\n",
      "minuto: 29\n",
      "segundo: 28\n",
      "dia da semana: 3\n",
      "dia do ano: 307\n",
      "hr de verão: 0\n"
     ]
    }
   ],
   "source": [
    "agora = time.gmtime(time.time())\n",
    "print(f'''ano: {agora.tm_year}\n",
    "mês: {agora.tm_mon}\n",
    "dia: {agora.tm_mday}\n",
    "hora: {agora.tm_hour}\n",
    "minuto: {agora.tm_min}\n",
    "segundo: {agora.tm_sec}\n",
    "dia da semana: {agora.tm_wday}\n",
    "dia do ano: {agora.tm_yday}\n",
    "hr de verão: {agora.tm_isdst}''')"
   ]
  },
  {
   "cell_type": "markdown",
   "id": "4def576f-5659-469f-b2f4-a5caf7473d29",
   "metadata": {},
   "source": [
    "esse módulo pode ser usado para que o código aguarde pelo tempo que for necessário usando o método `.sleep(<tempo em segundos>)`"
   ]
  },
  {
   "cell_type": "code",
   "execution_count": 9,
   "id": "f14426ed-e1f9-489f-965f-df8a3f0b849f",
   "metadata": {},
   "outputs": [
    {
     "name": "stdout",
     "output_type": "stream",
     "text": [
      "t\n",
      "e\n",
      "m\n",
      "p\n",
      "o\n"
     ]
    }
   ],
   "source": [
    "lst = list('tempo')\n",
    "for i in lst:\n",
    "    print(i, flush=True)\n",
    "    time.sleep(1)"
   ]
  },
  {
   "cell_type": "markdown",
   "id": "8a549e7b-364c-41d6-b615-7478c0063296",
   "metadata": {},
   "source": [
    "o `flush=True` no print não é necessário, a não ser que o código esteja apresentando algum tipo de problema"
   ]
  }
 ],
 "metadata": {
  "kernelspec": {
   "display_name": "Python 3 (ipykernel)",
   "language": "python",
   "name": "python3"
  },
  "language_info": {
   "codemirror_mode": {
    "name": "ipython",
    "version": 3
   },
   "file_extension": ".py",
   "mimetype": "text/x-python",
   "name": "python",
   "nbconvert_exporter": "python",
   "pygments_lexer": "ipython3",
   "version": "3.9.5"
  }
 },
 "nbformat": 4,
 "nbformat_minor": 5
}
