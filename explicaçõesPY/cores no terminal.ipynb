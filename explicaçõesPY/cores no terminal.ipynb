{
 "cells": [
  {
   "cell_type": "markdown",
   "id": "38b6fdb0-6da3-4459-a087-923794a96c1e",
   "metadata": {},
   "source": [
    "## ***Cores no terminal***\n",
    "---"
   ]
  },
  {
   "cell_type": "markdown",
   "id": "f5b816cb-dd4b-4ed1-be49-59c7e11bc18d",
   "metadata": {},
   "source": [
    "use o seguinte código na seguinte forma ```\\033[style,text,backm```"
   ]
  },
  {
   "cell_type": "markdown",
   "id": "9715aca2-dfc8-4dc8-8099-acbbe607e34b",
   "metadata": {},
   "source": [
    "então:"
   ]
  },
  {
   "cell_type": "markdown",
   "id": "6d65e7cb-05e6-4bc4-8045-26f1108c56d5",
   "metadata": {},
   "source": [
    "style\n",
    "-----\n",
    "* 0 -> None\n",
    "* 1 -> Bold\n",
    "* 4 -> underline\n",
    "* 7 -> negative"
   ]
  },
  {
   "cell_type": "markdown",
   "id": "abe36270-9a32-4e75-a591-8b949c315cd7",
   "metadata": {},
   "source": [
    "text\n",
    "----\n",
    "* 30 -> white\n",
    "* 31 -> red\n",
    "* 32 -> green\n",
    "* 33 -> yellow\n",
    "* 34 -> dark blue\n",
    "* 35 -> pink\n",
    "* 36 -> soft blue\n",
    "* 37 -> grey"
   ]
  },
  {
   "cell_type": "markdown",
   "id": "2cbc2279-8cda-4a9d-867b-34ab66550f2f",
   "metadata": {},
   "source": [
    "back\n",
    "----\n",
    "* 40 -> white\n",
    "* 41 -> red\n",
    "* 42 -> green\n",
    "* 43 -> yellow\n",
    "* 44 -> dark blue\n",
    "* 45 -> pink\n",
    "* 46 -> soft blie\n",
    "* 47 -> grey"
   ]
  },
  {
   "cell_type": "markdown",
   "id": "37bc7d5c-8d8d-4aac-bf07-f533c2cf0726",
   "metadata": {},
   "source": [
    "onde ```style``` muda a fonte, ```text``` muda a cor da fonte e ```back``` muda o background"
   ]
  },
  {
   "cell_type": "code",
   "execution_count": 1,
   "id": "de313789-e69e-42af-b4e6-5d1c8110178f",
   "metadata": {},
   "outputs": [
    {
     "name": "stdout",
     "output_type": "stream",
     "text": [
      "\u001b[4,34,40mhello, world!\n"
     ]
    }
   ],
   "source": [
    "print('\\033[4,34,40mhello, world!')"
   ]
  },
  {
   "cell_type": "markdown",
   "id": "c4bdec98-1ba4-4fe9-a55f-b823a29328ed",
   "metadata": {},
   "source": [
    "se não quiser que a formatação persista por todo o texto, após a string que deseja modificar deve-se terminar com o código ```\\033[m``` vazio."
   ]
  },
  {
   "cell_type": "code",
   "execution_count": 13,
   "id": "f69a8d86-c8fa-4da7-842a-7dd328792298",
   "metadata": {},
   "outputs": [
    {
     "name": "stdout",
     "output_type": "stream",
     "text": [
      "\u001b[4,34,40mhello, world!\u001b[m\n"
     ]
    }
   ],
   "source": [
    "print('\\033[4,34,40mhello, world!\\033[m')"
   ]
  },
  {
   "cell_type": "markdown",
   "id": "23d38f10-bbf7-4ff9-8d18-f19257a1de1e",
   "metadata": {},
   "source": [
    "uma forma bem útil de usar essas cores é usando um dicionário, por exemplo"
   ]
  },
  {
   "cell_type": "code",
   "execution_count": 14,
   "id": "0b45ae03-929d-400a-abf6-5643774c669a",
   "metadata": {},
   "outputs": [],
   "source": [
    "fcores = {'neutro': '\\033[m', 'azul escuro': '\\033[34m'}"
   ]
  },
  {
   "cell_type": "markdown",
   "id": "21bf7985-9c56-4933-aa75-4095978437d8",
   "metadata": {},
   "source": [
    "e então:"
   ]
  },
  {
   "cell_type": "code",
   "execution_count": 15,
   "id": "9da677c8-3e01-4356-8f95-901384611e65",
   "metadata": {},
   "outputs": [
    {
     "name": "stdout",
     "output_type": "stream",
     "text": [
      "\u001b[34mhello, world!\u001b[m\n"
     ]
    }
   ],
   "source": [
    "print(f'{fcores[\"azul escuro\"]}hello, world!{fcores[\"neutro\"]}')"
   ]
  }
 ],
 "metadata": {
  "kernelspec": {
   "display_name": "Python 3 (ipykernel)",
   "language": "python",
   "name": "python3"
  },
  "language_info": {
   "codemirror_mode": {
    "name": "ipython",
    "version": 3
   },
   "file_extension": ".py",
   "mimetype": "text/x-python",
   "name": "python",
   "nbconvert_exporter": "python",
   "pygments_lexer": "ipython3",
   "version": "3.10.6"
  }
 },
 "nbformat": 4,
 "nbformat_minor": 5
}
