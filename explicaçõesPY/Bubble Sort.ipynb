{
 "cells": [
  {
   "cell_type": "markdown",
   "id": "82d12ee3-bb0f-4f37-91a4-0582cd58eb7a",
   "metadata": {},
   "source": [
    "## ***Ordenação***\n",
    "---"
   ]
  },
  {
   "cell_type": "markdown",
   "id": "7515196d-4875-4782-b53f-59fa814f7d2f",
   "metadata": {},
   "source": [
    "Bubble sort é o método usado para organizar listas em ordem crescente ou decrescente, alfabético ou numérico, p.ex.:"
   ]
  },
  {
   "cell_type": "code",
   "execution_count": 1,
   "id": "766fc99a-f808-464d-ac4f-3098d662aafd",
   "metadata": {},
   "outputs": [
    {
     "name": "stdout",
     "output_type": "stream",
     "text": [
      "[3, 4, 7, 8, 12]\n"
     ]
    }
   ],
   "source": [
    "lista = [7, 4, 3, 12, 8]\n",
    "fim = len(lista)\n",
    "while fim > 1:\n",
    "    trocou = False\n",
    "    x=0\n",
    "    while x<fim-1:\n",
    "        if lista[x] > lista[x+1]:\n",
    "            trocou=True\n",
    "            temp=lista[x]\n",
    "            lista[x]=lista[x+1]\n",
    "            lista[x+1]=temp\n",
    "        x+=1\n",
    "    if not trocou:\n",
    "        break\n",
    "    fim-=1\n",
    "print(lista)"
   ]
  }
 ],
 "metadata": {
  "kernelspec": {
   "display_name": "Python 3 (ipykernel)",
   "language": "python",
   "name": "python3"
  },
  "language_info": {
   "codemirror_mode": {
    "name": "ipython",
    "version": 3
   },
   "file_extension": ".py",
   "mimetype": "text/x-python",
   "name": "python",
   "nbconvert_exporter": "python",
   "pygments_lexer": "ipython3",
   "version": "3.9.5"
  }
 },
 "nbformat": 4,
 "nbformat_minor": 5
}
