{
 "cells": [
  {
   "cell_type": "markdown",
   "id": "ccbf4337-e78d-4a39-8675-c30a5e9d589c",
   "metadata": {},
   "source": [
    "## *Função Iter e Next*\n",
    "---"
   ]
  },
  {
   "cell_type": "markdown",
   "id": "2ce2d12a-6549-4c4e-a11d-d6d4cd5dc008",
   "metadata": {},
   "source": [
    "iteradores são formas de acessar elementos de uma lista ou de uma estrutura de dados como o `for` onde a próxima informação não é perdida e se for solicitado que ele itere, o próximo elemento será usado."
   ]
  },
  {
   "cell_type": "markdown",
   "id": "a2213db0-5eb8-48cd-bc5a-af2796686f30",
   "metadata": {},
   "source": [
    "no python, a função `iter()` pode ser usado para chamar o próximo item de uma estrutura de dados sem usar `for` ou `while` sendo esse valor atribuído a uma variável. Por exemplo:"
   ]
  },
  {
   "cell_type": "code",
   "execution_count": 1,
   "id": "a9a98dee-ee13-4ba7-83ed-510ca8ad69a8",
   "metadata": {},
   "outputs": [
    {
     "name": "stdout",
     "output_type": "stream",
     "text": [
      "<list_iterator object at 0x00000190DA7E6430>\n"
     ]
    }
   ],
   "source": [
    "l = [1, 2, 3]\n",
    "i = iter(l)\n",
    "print(i)"
   ]
  },
  {
   "cell_type": "markdown",
   "id": "26c68112-af15-4ae9-8d30-ac517205bf48",
   "metadata": {},
   "source": [
    "agora, usando a função `next()` que recebe como parâmetro a variável `i`, nesse caso, pode ser usado apenas o valor da vez da lista `l`, sem precisar usar laços de repetição"
   ]
  },
  {
   "cell_type": "code",
   "execution_count": 2,
   "id": "4a8c8231-42c8-41c6-802d-8529660bc106",
   "metadata": {},
   "outputs": [
    {
     "name": "stdout",
     "output_type": "stream",
     "text": [
      "1\n"
     ]
    }
   ],
   "source": [
    "print(next(i))"
   ]
  },
  {
   "cell_type": "code",
   "execution_count": 3,
   "id": "73996d88-f8b3-450d-8043-269633a5fbd0",
   "metadata": {},
   "outputs": [
    {
     "name": "stdout",
     "output_type": "stream",
     "text": [
      "2\n"
     ]
    }
   ],
   "source": [
    "print(next(i))"
   ]
  },
  {
   "cell_type": "code",
   "execution_count": 4,
   "id": "5f4a23f7-806e-4dac-84c7-b925aa4fede7",
   "metadata": {},
   "outputs": [
    {
     "name": "stdout",
     "output_type": "stream",
     "text": [
      "3\n"
     ]
    }
   ],
   "source": [
    "print(next(i))"
   ]
  },
  {
   "cell_type": "markdown",
   "id": "5244e75c-5284-4c1a-a5ee-90098a96e02c",
   "metadata": {},
   "source": [
    "como não há mais elementos na lista `l`, se o `next(i)` for chamado mais uma vez dará erro"
   ]
  },
  {
   "cell_type": "code",
   "execution_count": 5,
   "id": "ff90c5df-dc57-42b9-9e2c-ba1fb2730a22",
   "metadata": {},
   "outputs": [
    {
     "ename": "StopIteration",
     "evalue": "",
     "output_type": "error",
     "traceback": [
      "\u001b[1;31m---------------------------------------------------------------------------\u001b[0m",
      "\u001b[1;31mStopIteration\u001b[0m                             Traceback (most recent call last)",
      "\u001b[1;32m<ipython-input-5-58c5a451ce44>\u001b[0m in \u001b[0;36m<module>\u001b[1;34m\u001b[0m\n\u001b[1;32m----> 1\u001b[1;33m \u001b[0mprint\u001b[0m\u001b[1;33m(\u001b[0m\u001b[0mnext\u001b[0m\u001b[1;33m(\u001b[0m\u001b[0mi\u001b[0m\u001b[1;33m)\u001b[0m\u001b[1;33m)\u001b[0m\u001b[1;33m\u001b[0m\u001b[1;33m\u001b[0m\u001b[0m\n\u001b[0m",
      "\u001b[1;31mStopIteration\u001b[0m: "
     ]
    }
   ],
   "source": [
    "print(next(i))"
   ]
  },
  {
   "cell_type": "markdown",
   "id": "2a1aafa7-87d5-461e-96d9-4feb66542b5e",
   "metadata": {},
   "source": [
    "também pode ser usado com dicionário"
   ]
  },
  {
   "cell_type": "code",
   "execution_count": 6,
   "id": "1b9a8c3d-eeb0-44d3-90f4-0cb0e81e7fdc",
   "metadata": {},
   "outputs": [
    {
     "name": "stdout",
     "output_type": "stream",
     "text": [
      "<dict_keyiterator object at 0x00000190DA7BEC70>\n"
     ]
    }
   ],
   "source": [
    "d = {'a': 1, 'b': 2, 'c':3}\n",
    "j = iter(d)\n",
    "print(j)"
   ]
  },
  {
   "cell_type": "markdown",
   "id": "01ce0998-dff6-42fd-8727-04b1c94558f9",
   "metadata": {},
   "source": [
    "e agora pode ser usado a função `next()`"
   ]
  },
  {
   "cell_type": "code",
   "execution_count": 8,
   "id": "1e467432-2c1f-487d-994b-fade671492b7",
   "metadata": {},
   "outputs": [
    {
     "name": "stdout",
     "output_type": "stream",
     "text": [
      "a\n"
     ]
    }
   ],
   "source": [
    "print(next(j))"
   ]
  },
  {
   "cell_type": "code",
   "execution_count": 9,
   "id": "fd2eda30-afe5-4947-9577-0e01f8e9ff2c",
   "metadata": {},
   "outputs": [
    {
     "name": "stdout",
     "output_type": "stream",
     "text": [
      "b\n"
     ]
    }
   ],
   "source": [
    "print(next(j))"
   ]
  },
  {
   "cell_type": "code",
   "execution_count": 10,
   "id": "2778136d-7ec7-4d94-86db-883913386305",
   "metadata": {},
   "outputs": [
    {
     "name": "stdout",
     "output_type": "stream",
     "text": [
      "c\n"
     ]
    }
   ],
   "source": [
    "print(next(j))"
   ]
  },
  {
   "cell_type": "markdown",
   "id": "e4c6c692-f266-46da-ba87-631c1cd13469",
   "metadata": {},
   "source": [
    "e também dará erro se for chamado mais do que possui elementos no dicionário:"
   ]
  },
  {
   "cell_type": "code",
   "execution_count": 11,
   "id": "048a4d7a-7c62-454f-8a87-5b946d5a55e4",
   "metadata": {},
   "outputs": [
    {
     "ename": "StopIteration",
     "evalue": "",
     "output_type": "error",
     "traceback": [
      "\u001b[1;31m---------------------------------------------------------------------------\u001b[0m",
      "\u001b[1;31mStopIteration\u001b[0m                             Traceback (most recent call last)",
      "\u001b[1;32m<ipython-input-11-efdb3f967422>\u001b[0m in \u001b[0;36m<module>\u001b[1;34m\u001b[0m\n\u001b[1;32m----> 1\u001b[1;33m \u001b[0mprint\u001b[0m\u001b[1;33m(\u001b[0m\u001b[0mnext\u001b[0m\u001b[1;33m(\u001b[0m\u001b[0mj\u001b[0m\u001b[1;33m)\u001b[0m\u001b[1;33m)\u001b[0m\u001b[1;33m\u001b[0m\u001b[1;33m\u001b[0m\u001b[0m\n\u001b[0m",
      "\u001b[1;31mStopIteration\u001b[0m: "
     ]
    }
   ],
   "source": [
    "print(next(j))"
   ]
  },
  {
   "cell_type": "markdown",
   "id": "ee4acca9-8543-4ddd-b5de-7e98b4af80e0",
   "metadata": {},
   "source": [
    "se usar ```()``` no lugar de ```[]``` a função ```next()``` poderá ser usada sem precisar usar ```iter()```"
   ]
  },
  {
   "cell_type": "code",
   "execution_count": 2,
   "id": "551e1b37-9e12-45ce-b097-2b31d02a4a3b",
   "metadata": {},
   "outputs": [
    {
     "name": "stdout",
     "output_type": "stream",
     "text": [
      "0\n"
     ]
    }
   ],
   "source": [
    "g = (x**2 for x in range(3))\n",
    "print(next(g))"
   ]
  },
  {
   "cell_type": "code",
   "execution_count": 3,
   "id": "891e35b5-76b4-4734-8dc4-adb126a052d6",
   "metadata": {},
   "outputs": [
    {
     "name": "stdout",
     "output_type": "stream",
     "text": [
      "1\n"
     ]
    }
   ],
   "source": [
    "print(next(g))"
   ]
  },
  {
   "cell_type": "code",
   "execution_count": 4,
   "id": "749dedb0-ec9f-46ee-a29f-a00431778501",
   "metadata": {},
   "outputs": [
    {
     "name": "stdout",
     "output_type": "stream",
     "text": [
      "4\n"
     ]
    }
   ],
   "source": [
    "print(next(g))"
   ]
  },
  {
   "cell_type": "markdown",
   "id": "afd7f042-0282-4e1c-8cb3-adececc4b80e",
   "metadata": {},
   "source": [
    "e, da mesma forma, quando não houver mais valores a serem mostrados, um erro surgirar"
   ]
  },
  {
   "cell_type": "code",
   "execution_count": 5,
   "id": "34b5289a-3d94-4dae-ba9a-e171d536b825",
   "metadata": {},
   "outputs": [
    {
     "ename": "StopIteration",
     "evalue": "",
     "output_type": "error",
     "traceback": [
      "\u001b[1;31m---------------------------------------------------------------------------\u001b[0m",
      "\u001b[1;31mStopIteration\u001b[0m                             Traceback (most recent call last)",
      "Cell \u001b[1;32mIn [5], line 1\u001b[0m\n\u001b[1;32m----> 1\u001b[0m \u001b[38;5;28mprint\u001b[39m(\u001b[38;5;28;43mnext\u001b[39;49m\u001b[43m(\u001b[49m\u001b[43mg\u001b[49m\u001b[43m)\u001b[49m)\n",
      "\u001b[1;31mStopIteration\u001b[0m: "
     ]
    }
   ],
   "source": [
    "print(next(g))"
   ]
  }
 ],
 "metadata": {
  "kernelspec": {
   "display_name": "Python 3 (ipykernel)",
   "language": "python",
   "name": "python3"
  },
  "language_info": {
   "codemirror_mode": {
    "name": "ipython",
    "version": 3
   },
   "file_extension": ".py",
   "mimetype": "text/x-python",
   "name": "python",
   "nbconvert_exporter": "python",
   "pygments_lexer": "ipython3",
   "version": "3.9.5"
  }
 },
 "nbformat": 4,
 "nbformat_minor": 5
}
