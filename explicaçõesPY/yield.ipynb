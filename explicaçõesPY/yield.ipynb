{
 "cells": [
  {
   "cell_type": "markdown",
   "id": "b25c75d2-02e5-4991-aea0-e12153535d51",
   "metadata": {},
   "source": [
    "## *Yield*\n",
    "---"
   ]
  },
  {
   "cell_type": "markdown",
   "id": "36ceb7cc-d484-4f4b-829f-aacb312e1436",
   "metadata": {},
   "source": [
    "o `yield` funciona como `return`, pois quando a funcão chega nele, ela interrompe todo o resto do código. a diferença, é que o yield quando interrompe, ele retorna para o fim do código da qual e interrompeu e continua daí lembrando o valor da última informação passada a ele:"
   ]
  },
  {
   "cell_type": "code",
   "execution_count": 2,
   "id": "d87adcce-5203-42f9-97e3-367e83251d71",
   "metadata": {},
   "outputs": [],
   "source": [
    "def foo():\n",
    "    i = 0\n",
    "    while True:\n",
    "        yield i\n",
    "        i+=1"
   ]
  },
  {
   "cell_type": "markdown",
   "id": "820c4bfc-4681-4583-ad20-3a2a3d3355c4",
   "metadata": {},
   "source": [
    "assim, sempre que a função chega no `yield` ela é interrompida, retorna para o código principal o valor de `i`, mas quando a função `foo()` for novamente chamada, o `yield` vai continuar a função de onde ela havia sido interrompida."
   ]
  },
  {
   "cell_type": "markdown",
   "id": "b793c6d7-f467-4c0d-a292-06e83c4b42df",
   "metadata": {},
   "source": [
    "o valor da variável é preservado entre o `yield` e a continuação da execução ocasionada pela chamada da  função next()."
   ]
  },
  {
   "cell_type": "code",
   "execution_count": 3,
   "id": "595a5fd1-ef24-4b17-b78e-e3ee43ccf5d1",
   "metadata": {},
   "outputs": [
    {
     "name": "stdout",
     "output_type": "stream",
     "text": [
      "<generator object foo at 0x000002C59D475F20>\n"
     ]
    }
   ],
   "source": [
    "a = foo()\n",
    "print(a)"
   ]
  },
  {
   "cell_type": "code",
   "execution_count": 5,
   "id": "76c89463-ac2d-4de2-8bb5-aa42dd8bdb77",
   "metadata": {},
   "outputs": [
    {
     "name": "stdout",
     "output_type": "stream",
     "text": [
      "1\n"
     ]
    }
   ],
   "source": [
    "print(next(a))"
   ]
  },
  {
   "cell_type": "code",
   "execution_count": 6,
   "id": "caf93137-0cb2-47e8-9096-2d7e81b58b40",
   "metadata": {},
   "outputs": [
    {
     "name": "stdout",
     "output_type": "stream",
     "text": [
      "2\n"
     ]
    }
   ],
   "source": [
    "print(next(a))"
   ]
  },
  {
   "cell_type": "code",
   "execution_count": 7,
   "id": "7783a7d9-2f4c-4290-b186-21255e5ea1b5",
   "metadata": {},
   "outputs": [
    {
     "name": "stdout",
     "output_type": "stream",
     "text": [
      "3\n"
     ]
    }
   ],
   "source": [
    "print(next(a))"
   ]
  },
  {
   "cell_type": "markdown",
   "id": "11165f16-46d3-4061-a030-ffeb833ab967",
   "metadata": {},
   "source": [
    "nesse caso, como a função está gerando um novo valor para a variável `i` a cada chamada através do `next()`, a variável `a` poderá ser iterada infinitamente"
   ]
  },
  {
   "cell_type": "markdown",
   "id": "573c65d8-f0b8-4ee3-83b4-5dd7b4651c31",
   "metadata": {},
   "source": [
    "iteradores são interessantes em sistemas que precisem computar cada novo elemento que lhe seja atribuído mas não pode esperar para que todos esses elementos sejam apresentados ao programa, por exemplo."
   ]
  },
  {
   "cell_type": "markdown",
   "id": "79ac49e6-dc98-481a-bdc2-81870ae93731",
   "metadata": {},
   "source": [
    "#### Generator Comprehensions"
   ]
  },
  {
   "cell_type": "markdown",
   "id": "56649f58-7852-4055-8454-1bf352297b50",
   "metadata": {},
   "source": [
    "usado da mesma forma que o `list comprehensions`, porém, ao inve´s de usar `[]`, usas-se `()`"
   ]
  },
  {
   "cell_type": "code",
   "execution_count": 10,
   "id": "2f143e14-de15-4ea8-8284-c0fcc30686d3",
   "metadata": {},
   "outputs": [
    {
     "name": "stdout",
     "output_type": "stream",
     "text": [
      "<generator object <genexpr> at 0x000002C59D5590B0>\n"
     ]
    }
   ],
   "source": [
    "t = (x for x in range(10))\n",
    "print(t)"
   ]
  },
  {
   "cell_type": "code",
   "execution_count": 11,
   "id": "ceb0b54a-0252-4d88-bda2-4c63332d9eb8",
   "metadata": {},
   "outputs": [
    {
     "name": "stdout",
     "output_type": "stream",
     "text": [
      "0\n"
     ]
    }
   ],
   "source": [
    "u = iter(t)\n",
    "print(next(u))"
   ]
  },
  {
   "cell_type": "code",
   "execution_count": 12,
   "id": "dc14fcbf-d487-45b5-8efe-a10786c348c4",
   "metadata": {},
   "outputs": [
    {
     "name": "stdout",
     "output_type": "stream",
     "text": [
      "1\n"
     ]
    }
   ],
   "source": [
    "print(next(u))"
   ]
  },
  {
   "cell_type": "code",
   "execution_count": 13,
   "id": "d47b1a5d-a63d-4353-bf17-3df86ce728fe",
   "metadata": {},
   "outputs": [
    {
     "name": "stdout",
     "output_type": "stream",
     "text": [
      "2\n"
     ]
    }
   ],
   "source": [
    "print(next(u))"
   ]
  }
 ],
 "metadata": {
  "kernelspec": {
   "display_name": "Python 3 (ipykernel)",
   "language": "python",
   "name": "python3"
  },
  "language_info": {
   "codemirror_mode": {
    "name": "ipython",
    "version": 3
   },
   "file_extension": ".py",
   "mimetype": "text/x-python",
   "name": "python",
   "nbconvert_exporter": "python",
   "pygments_lexer": "ipython3",
   "version": "3.10.6"
  }
 },
 "nbformat": 4,
 "nbformat_minor": 5
}
