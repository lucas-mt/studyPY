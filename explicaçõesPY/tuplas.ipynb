{
 "cells": [
  {
   "cell_type": "markdown",
   "id": "60a6b026-b797-4511-abd1-f1169ec89ccc",
   "metadata": {},
   "source": [
    "## ***Tuplas***\n",
    "---"
   ]
  },
  {
   "cell_type": "markdown",
   "id": "267bcdbc-1005-4645-977e-72de261261d8",
   "metadata": {},
   "source": [
    "são imutáveis, assim como strings, são acessadas por índices, e podem ser criadas das seguintes formas:"
   ]
  },
  {
   "cell_type": "code",
   "execution_count": 1,
   "id": "b330a569-bcf3-4e60-a6f3-d048b0def16f",
   "metadata": {},
   "outputs": [
    {
     "name": "stdout",
     "output_type": "stream",
     "text": [
      "('python', 3.9)\n"
     ]
    }
   ],
   "source": [
    "tupla = ('python', 3.9)\n",
    "print(tupla)"
   ]
  },
  {
   "cell_type": "markdown",
   "id": "104a294c-8416-4301-bd85-61a6b204ee5b",
   "metadata": {},
   "source": [
    "ou"
   ]
  },
  {
   "cell_type": "code",
   "execution_count": 6,
   "id": "f28b6f8b-9803-419e-94d6-6f207d988dac",
   "metadata": {},
   "outputs": [
    {
     "name": "stdout",
     "output_type": "stream",
     "text": [
      "('python', 3.9)\n"
     ]
    }
   ],
   "source": [
    "tupla = 'python', 3.9\n",
    "print(tupla)"
   ]
  },
  {
   "cell_type": "markdown",
   "id": "2e09ddc8-ace9-4f5a-9e22-faf804c28d8c",
   "metadata": {},
   "source": [
    "funciona da mesma forma"
   ]
  },
  {
   "cell_type": "markdown",
   "id": "9be1f936-060e-4f06-822b-fb58db81c9c3",
   "metadata": {},
   "source": [
    "se uma tupla tiver apenas um elemento, ele deve ser apresentado da seguinte forma"
   ]
  },
  {
   "cell_type": "code",
   "execution_count": 1,
   "id": "47856134-67cb-4223-9bf8-b54da942975b",
   "metadata": {},
   "outputs": [
    {
     "name": "stdout",
     "output_type": "stream",
     "text": [
      "('a',)\n"
     ]
    }
   ],
   "source": [
    "t1 = 'a', #ou t1 = ('a',)\n",
    "print(t1)"
   ]
  },
  {
   "cell_type": "markdown",
   "id": "2e7e91e6-d2cc-4ed5-911e-2bd37fabac00",
   "metadata": {},
   "source": [
    "isto é, com uma vírgula, pois valores dentro de parêntesis não significa uma tupla, observe:"
   ]
  },
  {
   "cell_type": "code",
   "execution_count": 2,
   "id": "0fc3a20d-bd38-4694-a62b-9698f9076c51",
   "metadata": {},
   "outputs": [
    {
     "name": "stdout",
     "output_type": "stream",
     "text": [
      "<class 'str'>\n",
      "<class 'int'>\n",
      "<class 'bool'>\n"
     ]
    }
   ],
   "source": [
    "v1 = ('a')\n",
    "v2 = (1)\n",
    "v3 = (True)\n",
    "print(type(v1))\n",
    "print(type(v2))\n",
    "print(type(v3))"
   ]
  },
  {
   "cell_type": "markdown",
   "id": "4d2b7eac-8ae4-4a1e-a0d4-92627cc8b4c1",
   "metadata": {},
   "source": [
    "uma tupla ainda pode ser criada usado a função `tuple()` que, se for passada uma string como parâmetro, é separado cara caractere dessa string"
   ]
  },
  {
   "cell_type": "code",
   "execution_count": 4,
   "id": "83ac0818-74b0-4d11-93f5-951247637355",
   "metadata": {},
   "outputs": [
    {
     "name": "stdout",
     "output_type": "stream",
     "text": [
      "('p', 'y', 't', 'h', 'o', 'n')\n"
     ]
    }
   ],
   "source": [
    "t = tuple('python')\n",
    "print(t)"
   ]
  },
  {
   "cell_type": "markdown",
   "id": "3fa7a7e6-c114-4851-b893-5d6580c5ec0b",
   "metadata": {},
   "source": [
    "#### Printando a tupla"
   ]
  },
  {
   "cell_type": "markdown",
   "id": "59457c27-9247-46db-a806-376ad1b7f6fd",
   "metadata": {},
   "source": [
    "elas podem ser mostradas das formas mais comuns usando for ou while, mas também pode ser usada `enumerate()`, que recebe uma tupla como parâmetro"
   ]
  },
  {
   "cell_type": "code",
   "execution_count": 3,
   "id": "8966848e-f291-477d-9800-14da473458a0",
   "metadata": {},
   "outputs": [
    {
     "name": "stdout",
     "output_type": "stream",
     "text": [
      "python está na índice 0\n",
      "3.9 está na índice 1\n"
     ]
    }
   ],
   "source": [
    "for i, j in enumerate(tupla):\n",
    "    print(f'{j} está na índice {i}')"
   ]
  },
  {
   "cell_type": "markdown",
   "id": "2dafe21d-96ae-4884-b02c-042cdf194403",
   "metadata": {},
   "source": [
    "o segundo contador (j) é o valor que está armazenado no índice indicado pelo primeiro contador (i)"
   ]
  },
  {
   "cell_type": "markdown",
   "id": "53e899f3-aa64-49df-9d02-c4f3699db9f4",
   "metadata": {},
   "source": [
    "tuplas ainda podem ser indexidas como listas e fatiadas também"
   ]
  },
  {
   "cell_type": "code",
   "execution_count": 7,
   "id": "4a17f439-9758-40b9-b81b-e1ef461ba33b",
   "metadata": {},
   "outputs": [
    {
     "name": "stdout",
     "output_type": "stream",
     "text": [
      "(3.9, 'python')\n"
     ]
    }
   ],
   "source": [
    "print(tupla[::-1])"
   ]
  },
  {
   "cell_type": "markdown",
   "id": "a671c5a4-10fd-47cf-91a9-efb85a50c836",
   "metadata": {},
   "source": [
    "#### Organizando a tupla"
   ]
  },
  {
   "cell_type": "markdown",
   "id": "a0a3050a-a216-49d4-a8e1-75dc9c77cca5",
   "metadata": {},
   "source": [
    "para organizar uma tupla em ordem numérica ou alfabética usa-se o `sorted()`, que só não funciona se a tupla for alfanumérica"
   ]
  },
  {
   "cell_type": "code",
   "execution_count": 4,
   "id": "1fdbc442-aa28-41e7-b6c3-6013cd86fc1a",
   "metadata": {},
   "outputs": [
    {
     "name": "stdout",
     "output_type": "stream",
     "text": [
      "['best', 'is', 'python', 'the']\n"
     ]
    }
   ],
   "source": [
    "t1 = ('python', 'is', 'the', 'best')\n",
    "print(sorted(t1))"
   ]
  },
  {
   "cell_type": "code",
   "execution_count": 5,
   "id": "76942e83-18fc-4b1e-80cf-dcd9792d5b8b",
   "metadata": {},
   "outputs": [
    {
     "name": "stdout",
     "output_type": "stream",
     "text": [
      "[1, 5, 6, 21, 24, 29, 51]\n"
     ]
    }
   ],
   "source": [
    "t2 = (21, 24, 29, 5, 6, 1, 51)\n",
    "print(sorted(t2))"
   ]
  },
  {
   "cell_type": "markdown",
   "id": "08f5bd59-7e77-48a5-a51f-3a3e866abc83",
   "metadata": {},
   "source": [
    "observe que as tuplas t1 e t2 são transformadas em listas quando usado o `sorted()`"
   ]
  },
  {
   "cell_type": "markdown",
   "id": "5c8bbadd-b1d2-4724-86b1-1b114a3e3c74",
   "metadata": {},
   "source": [
    "#### Juntando tuplas"
   ]
  },
  {
   "cell_type": "markdown",
   "id": "efa0817a-3ba8-4ce1-923f-c89d9a2b34a8",
   "metadata": {},
   "source": [
    "sejam 'a', 'b' e 'c' tuplas, e 'c' é a soma de 'a' com 'b', 'c' será a simples junção dos elementos da tupla 'a' com a tupla 'b'"
   ]
  },
  {
   "cell_type": "code",
   "execution_count": 10,
   "id": "ed823167-869d-4b8b-9a52-52a6be648f55",
   "metadata": {},
   "outputs": [
    {
     "name": "stdout",
     "output_type": "stream",
     "text": [
      "tupla a: (1, 2, 3)\n",
      "tupla b: (4, 5, 6)\n",
      "tupla c = a + b: (1, 2, 3, 4, 5, 6) = (1, 2, 3) + (4, 5, 6)\n"
     ]
    }
   ],
   "source": [
    "a = (1, 2, 3)\n",
    "b = (4, 5, 6)\n",
    "c = a+b\n",
    "print(f'tupla a: {a}\\ntupla b: {b}\\ntupla c = a + b: {c} = {a} + {b}')"
   ]
  },
  {
   "cell_type": "markdown",
   "id": "235dcec9-4478-4534-b962-2b79db8da0da",
   "metadata": {},
   "source": [
    "#### Trabalhando com tuplas"
   ]
  },
  {
   "cell_type": "markdown",
   "id": "0c83ce0e-6893-46e9-bac7-28bb5bc280b5",
   "metadata": {},
   "source": [
    "a função `sum()` também funciona com tuplas, nesse caso retorna a soma de todos os elementos da tupla"
   ]
  },
  {
   "cell_type": "code",
   "execution_count": 11,
   "id": "f04e5c65-0e18-45ac-9b26-75ca303156eb",
   "metadata": {},
   "outputs": [
    {
     "name": "stdout",
     "output_type": "stream",
     "text": [
      "6\n"
     ]
    }
   ],
   "source": [
    "print(sum(a))"
   ]
  },
  {
   "cell_type": "markdown",
   "id": "429ab7a7-9d46-4ebd-9a53-4113452e6900",
   "metadata": {},
   "source": [
    "entenda que c = a + b que é diferente de c = b + a. A ordem importa."
   ]
  },
  {
   "cell_type": "markdown",
   "id": "094e5430-0dd5-40c8-af28-f405a15b4545",
   "metadata": {},
   "source": [
    "o método `index()` recebe como parâmetro qualquer elemento da tupla, e pode receber ainda a partir de qual posição começar a procurar por esse elemento"
   ]
  },
  {
   "cell_type": "code",
   "execution_count": 12,
   "id": "dc7f4cbc-a607-4597-bbe7-1f97ec12470d",
   "metadata": {},
   "outputs": [
    {
     "name": "stdout",
     "output_type": "stream",
     "text": [
      "1\n"
     ]
    }
   ],
   "source": [
    "print(a.index(2))"
   ]
  },
  {
   "cell_type": "code",
   "execution_count": 13,
   "id": "c89d89e8-8e9c-4b34-a7d4-2eae4f203893",
   "metadata": {},
   "outputs": [
    {
     "name": "stdout",
     "output_type": "stream",
     "text": [
      "1\n"
     ]
    }
   ],
   "source": [
    "print(c.index(2, 1))"
   ]
  },
  {
   "cell_type": "markdown",
   "id": "5627ca51-b160-4dfb-b671-7cc98ffc065b",
   "metadata": {},
   "source": [
    "se por algum motivo for necessário deletar a tupla inteira, usa-se o método `del(tupla)`"
   ]
  },
  {
   "cell_type": "code",
   "execution_count": 14,
   "id": "735c11c4-4e17-4196-b9c3-240a141c537a",
   "metadata": {},
   "outputs": [
    {
     "ename": "NameError",
     "evalue": "name 'a' is not defined",
     "output_type": "error",
     "traceback": [
      "\u001b[1;31m---------------------------------------------------------------------------\u001b[0m",
      "\u001b[1;31mNameError\u001b[0m                                 Traceback (most recent call last)",
      "\u001b[1;32m<ipython-input-14-9742f4e8954d>\u001b[0m in \u001b[0;36m<module>\u001b[1;34m\u001b[0m\n\u001b[0;32m      1\u001b[0m \u001b[1;32mdel\u001b[0m\u001b[1;33m(\u001b[0m\u001b[0ma\u001b[0m\u001b[1;33m)\u001b[0m\u001b[1;33m\u001b[0m\u001b[1;33m\u001b[0m\u001b[0m\n\u001b[1;32m----> 2\u001b[1;33m \u001b[0mprint\u001b[0m\u001b[1;33m(\u001b[0m\u001b[0ma\u001b[0m\u001b[1;33m)\u001b[0m\u001b[1;33m\u001b[0m\u001b[1;33m\u001b[0m\u001b[0m\n\u001b[0m",
      "\u001b[1;31mNameError\u001b[0m: name 'a' is not defined"
     ]
    }
   ],
   "source": [
    "del(a)\n",
    "print(a)"
   ]
  },
  {
   "cell_type": "markdown",
   "id": "f174a25c-fdb3-4b50-8df3-e8efb1123eb2",
   "metadata": {},
   "source": [
    "resultando necesse erro!"
   ]
  },
  {
   "cell_type": "markdown",
   "id": "0ffc2a38-e48c-48e7-b013-8fa16e0540c6",
   "metadata": {},
   "source": [
    ">obs.: as tuplas tem um limite de 80 caracteres"
   ]
  }
 ],
 "metadata": {
  "kernelspec": {
   "display_name": "Python 3 (ipykernel)",
   "language": "python",
   "name": "python3"
  },
  "language_info": {
   "codemirror_mode": {
    "name": "ipython",
    "version": 3
   },
   "file_extension": ".py",
   "mimetype": "text/x-python",
   "name": "python",
   "nbconvert_exporter": "python",
   "pygments_lexer": "ipython3",
   "version": "3.9.5"
  }
 },
 "nbformat": 4,
 "nbformat_minor": 5
}
