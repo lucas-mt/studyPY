{
 "cells": [
  {
   "cell_type": "markdown",
   "id": "538f07aa-472d-4323-8e7d-e3a114b1795d",
   "metadata": {},
   "source": [
    "## *Arquivos e Manipulação*\n",
    "---"
   ]
  },
  {
   "cell_type": "markdown",
   "id": "f1f0ed08-a1db-4059-945f-e37913c44c14",
   "metadata": {},
   "source": [
    "usando os seguintes modos:"
   ]
  },
  {
   "cell_type": "markdown",
   "id": "b476e554-117b-4699-bb4c-df77121bf00e",
   "metadata": {},
   "source": [
    "modo | operações\n",
    "---|---\n",
    "r|leitura\n",
    "w|escrita, apaga o conteúdo já existente\n",
    "a|escrita, preserva o conteúdo já existente\n",
    "b|modo binário\n",
    "a+|atualização\n",
    "w+|atualização"
   ]
  },
  {
   "cell_type": "markdown",
   "id": "3911d44b-8add-4480-87c2-4618bb7576be",
   "metadata": {},
   "source": [
    "podemos ler, criar, escrever e armazenar arquivos já existente ou não. deve sempre realizar o seguinte ciclo:"
   ]
  },
  {
   "cell_type": "markdown",
   "id": "17ecc7be-f3ab-4f8e-839c-853292eeafb2",
   "metadata": {},
   "source": [
    "```\n",
    "arquivo = open('<file>', '<modo>')\n",
    "arquivo.read() #e/ou\n",
    "arquivo.write('<alguma_coisa>')\n",
    "arquivo.close()\n",
    "```"
   ]
  },
  {
   "cell_type": "markdown",
   "id": "b95e2b02-419b-4ac1-90f1-9b8a8d46f944",
   "metadata": {},
   "source": [
    "*obs.: o `write()` sempre guarda a informação sem espaços ou sem linhas de separação, sendo sempre necessário colocá-los manualmente usando espaço ou `\\n`"
   ]
  },
  {
   "cell_type": "markdown",
   "id": "8040d7c9-5119-49fa-ac31-c7646a788c08",
   "metadata": {},
   "source": [
    "usando o for para ler um arquivo, deve-se usar a função `readlines()`, que cria uma lista onde cada elementos será uma linha do arquivo"
   ]
  },
  {
   "cell_type": "markdown",
   "id": "4f229992-5174-4fdb-8f8f-d0968f071e04",
   "metadata": {},
   "source": [
    "```\n",
    "for i in arquivo.readlines():\n",
    "    print(i)\n",
    "```"
   ]
  },
  {
   "cell_type": "markdown",
   "id": "ab54c597-c002-45b4-9f3e-c69839a73906",
   "metadata": {},
   "source": [
    "ainda pode ser usado a função `readline()` onde cada letra do arquivo será apresentada em linhas diferentes."
   ]
  },
  {
   "cell_type": "markdown",
   "id": "9069a5d1-a83a-48de-a17c-8902e2efac1c",
   "metadata": {},
   "source": [
    "deve-se usar apenas o `read()` se quiser ler o arquivo inteiro de uma só vez."
   ]
  },
  {
   "cell_type": "markdown",
   "id": "4fcdc670-e2c8-4e2c-9877-3aeaa726b348",
   "metadata": {},
   "source": [
    "```\n",
    "arq = open('<nome>', '<modo>')\n",
    "print(arq.read())\n",
    "```"
   ]
  },
  {
   "cell_type": "markdown",
   "id": "09ccd6af-75fc-460c-ad58-9a3296b524a6",
   "metadata": {},
   "source": [
    "usando ainda o with, não precisa usar o método `close()`"
   ]
  },
  {
   "cell_type": "markdown",
   "id": "18d644b0-eb3d-4222-b0b5-82b9030a3c6b",
   "metadata": {},
   "source": [
    "```\n",
    "with open('<file>', 'w/a/w+/a+') as arquivo:\n",
    "    for j in ['olá', 'tudo bem', 'como vai?']:\n",
    "        arquivo.write(i, end='\\n')\n",
    "```\n",
    "ou\n",
    "```\n",
    "with open('<file>', 'r') as arquivo:\n",
    "    for i in arquivo.readlines():\n",
    "        print(i)\n",
    "```"
   ]
  },
  {
   "cell_type": "markdown",
   "id": "a18e7040-b0de-49a6-8eb8-1c819516212d",
   "metadata": {},
   "source": [
    "lembrando que pode ser manipulado dois arquivos ao mesmo tempo usando uma das seguintes formas:"
   ]
  },
  {
   "cell_type": "markdown",
   "id": "867d626e-d9c8-49cb-8e31-1819b3c084d3",
   "metadata": {},
   "source": [
    "```\n",
    "with open('<arq_1>', '<modo>') as arq1, open('<arq_2>', '<modo>') as arq2:\n",
    "    <manipulações>\n",
    "```\n",
    "ou\n",
    "```\n",
    "with open('<arq_1>', '<modo>') as arq1:\n",
    "    with open('<arq_2>', '<modo>') as arq2:\n",
    "        <manipulações>\n",
    "```"
   ]
  },
  {
   "cell_type": "markdown",
   "id": "e910a40f-761f-499e-94b2-fb9fd746c3c4",
   "metadata": {},
   "source": [
    "por exemplo:\n",
    "```\n",
    "with open('pares.txt', 'a+') as arq1, open('ímpares.txt', 'a+') as arq2:\n",
    "    for i in range(101):\n",
    "        if i%2==0:\n",
    "            arq1.write(i)\n",
    "        else:\n",
    "            arq2.write(i)\n",
    "```"
   ]
  },
  {
   "cell_type": "markdown",
   "id": "b82d3955-bca9-4db0-9e93-5f0703b602e2",
   "metadata": {},
   "source": [
    "nesse caso, gravará todos os números pares em `arq1` e todos os números ímpares em `arq2`"
   ]
  },
  {
   "cell_type": "markdown",
   "id": "0e132c0b-2cd7-400e-b6b4-0c9a450bcab3",
   "metadata": {},
   "source": [
    "ainda, é possível usar um arquivo já existente para a criação de um novo arquivo:"
   ]
  },
  {
   "cell_type": "markdown",
   "id": "abc5b5bc-f8ed-4df8-9ce3-ceb8d36c80d8",
   "metadata": {},
   "source": [
    "por exemplo, usando o arquivo dos números ímpares para criar um novo arquivo só com os múltiplos de 3:\n",
    "```\n",
    "with open('mult3.txt', 'w') as mult3:\n",
    "    with open('arq2.txt', 'r') as impares:\n",
    "        for i in impares.readlines():\n",
    "            if int(i)%3==0:\n",
    "                mult3.write(i)\n",
    "```"
   ]
  },
  {
   "cell_type": "markdown",
   "id": "679109cf-7d93-48d2-9797-16650480fc66",
   "metadata": {},
   "source": [
    "observe que todo arquivo é armazenado como string, por isso, se for necessário fazer alguma operação matemática, como é o caso na linha 4 deste código, será necessário usar o método `int()` ou `float()`, se for o caso."
   ]
  },
  {
   "cell_type": "markdown",
   "id": "102a9945-3b1b-43a0-9e63-59a204646725",
   "metadata": {},
   "source": [
    "*obs.: para codificação completa, use sempre `encoding='utf-8'` após o modo"
   ]
  }
 ],
 "metadata": {
  "kernelspec": {
   "display_name": "Python 3 (ipykernel)",
   "language": "python",
   "name": "python3"
  },
  "language_info": {
   "codemirror_mode": {
    "name": "ipython",
    "version": 3
   },
   "file_extension": ".py",
   "mimetype": "text/x-python",
   "name": "python",
   "nbconvert_exporter": "python",
   "pygments_lexer": "ipython3",
   "version": "3.9.5"
  }
 },
 "nbformat": 4,
 "nbformat_minor": 5
}
