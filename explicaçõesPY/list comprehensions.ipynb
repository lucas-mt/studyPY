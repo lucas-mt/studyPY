{
 "cells": [
  {
   "cell_type": "markdown",
   "id": "e17d0455-0e76-4fbd-b1fa-afd9b69aa921",
   "metadata": {},
   "source": [
    "## *List Comprehensions*\n",
    "---"
   ]
  },
  {
   "cell_type": "markdown",
   "id": "0b740781-cda4-465f-a639-714b6a5d72f9",
   "metadata": {},
   "source": [
    "é uma forma bem pythônica de escrever códigos que sejam extremamente simples ara formar uma lista onde seus elementos sejam bem previsível"
   ]
  },
  {
   "cell_type": "code",
   "execution_count": 5,
   "id": "69fa5cfb-d8c8-497a-9589-824235dad174",
   "metadata": {},
   "outputs": [
    {
     "name": "stdout",
     "output_type": "stream",
     "text": [
      "[1, 2, 3, 4, 5, 6, 7, 8, 9, 10]\n"
     ]
    }
   ],
   "source": [
    "l1 = [x for x in range(1, 11)]\n",
    "print(l1)"
   ]
  },
  {
   "cell_type": "code",
   "execution_count": 7,
   "id": "23c1a3a0-4ef2-4efe-8cbd-e78fac4cbd30",
   "metadata": {},
   "outputs": [
    {
     "name": "stdout",
     "output_type": "stream",
     "text": [
      "[0.5, 1.0, 1.5, 2.0, 2.5, 3.0, 3.5, 4.0, 4.5, 5.0]\n"
     ]
    }
   ],
   "source": [
    "l2 = [x/2 for x in range(1, 11)]\n",
    "print(l2)"
   ]
  },
  {
   "cell_type": "markdown",
   "id": "32235b61-313f-4059-a31d-0b4cc041f5ca",
   "metadata": {},
   "source": [
    "essas listas são alguns exemplos, mas, na verdade, qualquer tipo de operação pode ser feita usando a variável, que nesse caso é o `x`, outros exemplos são:"
   ]
  },
  {
   "cell_type": "code",
   "execution_count": 8,
   "id": "3d4fdc09-2199-4bac-8f37-c25d07fc8820",
   "metadata": {},
   "outputs": [
    {
     "name": "stdout",
     "output_type": "stream",
     "text": [
      "[1, 4, 9, 16, 25, 36, 49, 64, 81, 100]\n"
     ]
    }
   ],
   "source": [
    "l3 = [x**2 for x in range(1, 11)]\n",
    "print(l3)"
   ]
  },
  {
   "cell_type": "markdown",
   "id": "618590f4-989f-470e-8a21-8df47c6746e7",
   "metadata": {},
   "source": [
    "pode ser usado qualquer estrutura que o laço `for` suportar:"
   ]
  },
  {
   "cell_type": "code",
   "execution_count": 9,
   "id": "520badb0-9203-4a7b-ac36-52c9ce9b7b33",
   "metadata": {},
   "outputs": [
    {
     "name": "stdout",
     "output_type": "stream",
     "text": [
      "[0, 25, 50, 75, 100, 125]\n"
     ]
    }
   ],
   "source": [
    "l4 = [x*5 for x in [0, 5, 10, 15, 20, 25]]\n",
    "print(l4)"
   ]
  },
  {
   "cell_type": "markdown",
   "id": "781755a5-9858-4209-889d-e7cba6be6c80",
   "metadata": {},
   "source": [
    "pode forar tuplas, ou qualquer outro tipo de armazenamento"
   ]
  },
  {
   "cell_type": "code",
   "execution_count": 12,
   "id": "16075ffb-7098-4ed4-bf18-3330b94b231a",
   "metadata": {},
   "outputs": [
    {
     "name": "stdout",
     "output_type": "stream",
     "text": [
      "[(0, 0), (2, 2), (4, 4), (6, 6), (8, 8), (10, 10)]\n"
     ]
    }
   ],
   "source": [
    "l5 = [(x, x) for x in [0, 2, 4, 6, 8, 10]]\n",
    "print(l5)"
   ]
  },
  {
   "cell_type": "markdown",
   "id": "438a28ca-a100-4350-a2c8-db87617576df",
   "metadata": {},
   "source": [
    "pode ser usado com strings"
   ]
  },
  {
   "cell_type": "code",
   "execution_count": 13,
   "id": "9cdbb160-736b-4fbb-89f2-7fbffd1adbdd",
   "metadata": {},
   "outputs": [
    {
     "name": "stdout",
     "output_type": "stream",
     "text": [
      "['A', 'B', 'C', 'D', 'E']\n"
     ]
    }
   ],
   "source": [
    "l6 = [x.upper() for x in 'abcde']\n",
    "print(l6)"
   ]
  },
  {
   "cell_type": "markdown",
   "id": "5f5e783d-1166-42f1-80a7-dcdbe75f4c0d",
   "metadata": {},
   "source": [
    "pode ser usado o `if` para filtrar valores"
   ]
  },
  {
   "cell_type": "code",
   "execution_count": 15,
   "id": "1d966524-e3bc-4aba-b71e-8b522df64df3",
   "metadata": {},
   "outputs": [
    {
     "name": "stdout",
     "output_type": "stream",
     "text": [
      "[2, 4, 6, 8, 10, 12, 14, 16, 18, 20]\n"
     ]
    }
   ],
   "source": [
    "l7 = [x for x in range(0, 21, 2) if x!=0]\n",
    "print(l7)"
   ]
  },
  {
   "cell_type": "markdown",
   "id": "07901933-ab22-4eb6-9089-e899ddbcd2b0",
   "metadata": {},
   "source": [
    "funciona, inclusive, com dois argumentos"
   ]
  },
  {
   "cell_type": "code",
   "execution_count": 16,
   "id": "6d6d5ce8-5797-4768-8428-7810247d0750",
   "metadata": {},
   "outputs": [
    {
     "name": "stdout",
     "output_type": "stream",
     "text": [
      "[12, 30]\n"
     ]
    }
   ],
   "source": [
    "l8 = [x*y for x, y in [(3, 4), (5, 6)]]\n",
    "print(l8)"
   ]
  },
  {
   "cell_type": "markdown",
   "id": "162c4134-e282-48c1-9889-40d7c67fcb16",
   "metadata": {},
   "source": [
    "até empacotamentos funcionam normalmente"
   ]
  },
  {
   "cell_type": "code",
   "execution_count": 17,
   "id": "2af407b2-2ea6-4325-818e-acb28da3b9d9",
   "metadata": {},
   "outputs": [
    {
     "name": "stdout",
     "output_type": "stream",
     "text": [
      "[([1, 2], 3), ([3, 2], 1)]\n"
     ]
    }
   ],
   "source": [
    "l9 = [(x, y) for *x, y in [(1, 2, 3), (3, 2, 1)]]\n",
    "print(l9)"
   ]
  },
  {
   "cell_type": "markdown",
   "id": "45e7746e-7a89-42b4-9d43-0d54dc77172f",
   "metadata": {},
   "source": [
    "em todos esses exemplos foram usadas tuplas, mas também funcionaria normalmente com listas."
   ]
  }
 ],
 "metadata": {
  "kernelspec": {
   "display_name": "Python 3 (ipykernel)",
   "language": "python",
   "name": "python3"
  },
  "language_info": {
   "codemirror_mode": {
    "name": "ipython",
    "version": 3
   },
   "file_extension": ".py",
   "mimetype": "text/x-python",
   "name": "python",
   "nbconvert_exporter": "python",
   "pygments_lexer": "ipython3",
   "version": "3.10.12"
  }
 },
 "nbformat": 4,
 "nbformat_minor": 5
}
