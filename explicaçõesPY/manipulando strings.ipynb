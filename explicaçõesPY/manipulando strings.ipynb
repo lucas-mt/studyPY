{
 "cells": [
  {
   "cell_type": "markdown",
   "id": "b8dc699e-d640-440d-992c-4087f7b27b18",
   "metadata": {
    "tags": []
   },
   "source": [
    "## ***Manipulação com strings***\n",
    "---"
   ]
  },
  {
   "cell_type": "markdown",
   "id": "dd263642-97df-46ad-a51f-6ba5cd33c65b",
   "metadata": {
    "tags": []
   },
   "source": [
    "uma forma de centralizar ou colocar nas extremidades do output"
   ]
  },
  {
   "cell_type": "code",
   "execution_count": 1,
   "id": "4dfd0e61-33d5-48b1-a581-1520dbabee41",
   "metadata": {},
   "outputs": [
    {
     "name": "stdout",
     "output_type": "stream",
     "text": [
      "  a  .\n"
     ]
    }
   ],
   "source": [
    "print(f'{\"a\":^5}.')"
   ]
  },
  {
   "cell_type": "markdown",
   "id": "c1d27cb3-1f1b-4993-8951-d87d19caed4b",
   "metadata": {},
   "source": [
    "outra forma de centralizar é o método `center()`, que recebe como parâmtro a quantidade de caracteres que a string deve ser centralizada e quais caracteres preencher esse espaço"
   ]
  },
  {
   "cell_type": "code",
   "execution_count": 20,
   "id": "36ea1a21-6755-4c01-bbaa-b49d415cb438",
   "metadata": {},
   "outputs": [
    {
     "name": "stdout",
     "output_type": "stream",
     "text": [
      "  a  .\n"
     ]
    }
   ],
   "source": [
    "print(f'{\"a\".center(5)}.')"
   ]
  },
  {
   "cell_type": "code",
   "execution_count": 21,
   "id": "6501d926-6481-47be-97c4-fe1c93ec7502",
   "metadata": {},
   "outputs": [
    {
     "name": "stdout",
     "output_type": "stream",
     "text": [
      "**a**\n"
     ]
    }
   ],
   "source": [
    "print(f'{\"a\".center(5, \"*\")}')"
   ]
  },
  {
   "cell_type": "code",
   "execution_count": 2,
   "id": "1a4fc80a-3e9b-4de0-a75d-ae2dd86bd019",
   "metadata": {},
   "outputs": [
    {
     "name": "stdout",
     "output_type": "stream",
     "text": [
      "a    .\n"
     ]
    }
   ],
   "source": [
    "print(f'{\"a\":<5}.')"
   ]
  },
  {
   "cell_type": "markdown",
   "id": "e734ef78-2b5e-48b7-b8cf-15e22d363c46",
   "metadata": {},
   "source": [
    "pode usar o método `ljust()` da mesma forma que `center()` para posicionar a string à esquerda"
   ]
  },
  {
   "cell_type": "code",
   "execution_count": 3,
   "id": "60fb6371-7e89-4d9e-b77d-51e45ef73f78",
   "metadata": {},
   "outputs": [
    {
     "name": "stdout",
     "output_type": "stream",
     "text": [
      "    a.\n"
     ]
    }
   ],
   "source": [
    "print(f'{\"a\":>5}.')"
   ]
  },
  {
   "cell_type": "markdown",
   "id": "c8255c5e-95b8-46bc-b509-c40e6086d105",
   "metadata": {},
   "source": [
    "pode usar o método `rjust()` da mesma forma que `center()` para posicionar a string à direita"
   ]
  },
  {
   "cell_type": "markdown",
   "id": "435c7c94-99a6-4f88-be87-54f5057aeca6",
   "metadata": {},
   "source": [
    "os espaços podem ser preenchidos com outros caracteres que não só espaços:"
   ]
  },
  {
   "cell_type": "code",
   "execution_count": 4,
   "id": "49311d16-5e15-4a53-82b6-160b5a2c60db",
   "metadata": {},
   "outputs": [
    {
     "name": "stdout",
     "output_type": "stream",
     "text": [
      "**a**.\n"
     ]
    }
   ],
   "source": [
    "print(f'{\"a\":*^5}.')"
   ]
  },
  {
   "cell_type": "code",
   "execution_count": 5,
   "id": "728ad5ab-864c-4125-be9c-ebac29640937",
   "metadata": {},
   "outputs": [
    {
     "name": "stdout",
     "output_type": "stream",
     "text": [
      "bbabb.\n"
     ]
    }
   ],
   "source": [
    "print(f'{\"a\":b^5}.')"
   ]
  },
  {
   "cell_type": "markdown",
   "id": "a8fcf1fd-217e-463f-9a83-aa425fcf717a",
   "metadata": {},
   "source": [
    "o operador `\\t` serve para criar uma formatação de tabela:"
   ]
  },
  {
   "cell_type": "code",
   "execution_count": 1,
   "id": "0f5d285c-64f3-4ead-bf5e-be39a67a19df",
   "metadata": {},
   "outputs": [
    {
     "name": "stdout",
     "output_type": "stream",
     "text": [
      "\ta\n"
     ]
    }
   ],
   "source": [
    "print('\\ta')"
   ]
  },
  {
   "cell_type": "markdown",
   "id": "245cc7ca-e2b1-481c-98c6-e4832c6349ec",
   "metadata": {},
   "source": [
    "números também podem ser formatados usando essas mesmas formas, com exceção dos métodos"
   ]
  },
  {
   "cell_type": "markdown",
   "id": "84e7b103-585f-4a95-b86f-74e1994aa11c",
   "metadata": {},
   "source": [
    "além de que pode-se usar vírgula para separar casas de milha"
   ]
  },
  {
   "cell_type": "code",
   "execution_count": 28,
   "id": "f7a4ebde-7f42-4b11-af83-66ba4bb84936",
   "metadata": {},
   "outputs": [
    {
     "name": "stdout",
     "output_type": "stream",
     "text": [
      "7,532\n"
     ]
    }
   ],
   "source": [
    "print(f'{7532:,}')"
   ]
  },
  {
   "cell_type": "markdown",
   "id": "babbfb16-8b60-41b5-ae59-b83f8a70b889",
   "metadata": {},
   "source": [
    "e pode ser usado junto das casas decimais"
   ]
  },
  {
   "cell_type": "code",
   "execution_count": 29,
   "id": "6aa632e7-4684-4c8a-9191-4a71c93e6528",
   "metadata": {},
   "outputs": [
    {
     "name": "stdout",
     "output_type": "stream",
     "text": [
      "834,423.20000\n"
     ]
    }
   ],
   "source": [
    "print(f'{83442320/100:,.5f}')"
   ]
  },
  {
   "cell_type": "markdown",
   "id": "5f42ab64-b08b-43e2-93c4-3de70045b827",
   "metadata": {},
   "source": [
    "bem como pode-se tranformar números em outras bases"
   ]
  },
  {
   "cell_type": "code",
   "execution_count": 32,
   "id": "9c1a83ea-486e-4ef9-9348-74046dcf4fbe",
   "metadata": {},
   "outputs": [
    {
     "name": "stdout",
     "output_type": "stream",
     "text": [
      "101101\n"
     ]
    }
   ],
   "source": [
    "print(f'{45:0b}')"
   ]
  },
  {
   "cell_type": "markdown",
   "id": "f9cab420-2a93-47d4-83f0-7bd23759fb74",
   "metadata": {},
   "source": [
    "a tabela mostra todas as transformações de base possível pelo python"
   ]
  },
  {
   "cell_type": "markdown",
   "id": "7104ed0a-a1c5-42cb-8dd9-b08283ced1da",
   "metadata": {},
   "source": [
    "COD | DESCRIÇÃO | p.ex.: (45)\n",
    "---|---|---\n",
    "0b | binário | 101101\n",
    "0c | caractere | -\n",
    "0d | base 10 | 45\n",
    "0h | base 10 local | 45\n",
    "0o | octal | 55\n",
    "x | hexadecimal minúsculo | 2d\n",
    "X | hexadecimal maiúsculo | 2D"
   ]
  },
  {
   "cell_type": "markdown",
   "id": "ec1447d0-03d3-4c4a-a493-0234d4716719",
   "metadata": {},
   "source": [
    "para formatação de números decimais"
   ]
  },
  {
   "cell_type": "markdown",
   "id": "c6f81b50-efb5-444a-9869-db54cfa13546",
   "metadata": {},
   "source": [
    "COD | DESCRIÇÃO | p.ex.: (1.345)\n",
    "---|---|---\n",
    "g | genérico | 1.345\n",
    "G | genérico | 1.345\n",
    "n | local | 1,345\n",
    "% | percentual | 134.500000%"
   ]
  },
  {
   "cell_type": "markdown",
   "id": "c621023c-a2f3-4b8a-9946-6cdfc1c709b9",
   "metadata": {},
   "source": [
    "#### Análises\n",
    "---"
   ]
  },
  {
   "cell_type": "markdown",
   "id": "d9fcfc88-32da-468c-b1e3-c353c133eab2",
   "metadata": {},
   "source": [
    "o método ```count()``` recebe uma string como parâmetro e retorna a quantidade de vezes que essa string aparece"
   ]
  },
  {
   "cell_type": "code",
   "execution_count": 33,
   "id": "7a047319-551e-4b80-ac74-029836ccfccd",
   "metadata": {},
   "outputs": [
    {
     "name": "stdout",
     "output_type": "stream",
     "text": [
      "3\n"
     ]
    }
   ],
   "source": [
    "stg = 'hello, world!'\n",
    "print(stg.count('l'))"
   ]
  },
  {
   "cell_type": "markdown",
   "id": "562ad9d7-e58d-40fa-b3e4-0c2472f429a1",
   "metadata": {},
   "source": [
    "```count()``` pode, ainda, recebe um intervalo após a string, e em ```stg``` ele buscará apenas dentre desse intervalo"
   ]
  },
  {
   "cell_type": "code",
   "execution_count": 8,
   "id": "67c6dce7-857f-4c45-ae36-41e2258317dc",
   "metadata": {},
   "outputs": [
    {
     "name": "stdout",
     "output_type": "stream",
     "text": [
      "2\n",
      "hello\n"
     ]
    }
   ],
   "source": [
    "print(stg.count('l', 0, 5))\n",
    "print(stg[0:5])"
   ]
  },
  {
   "cell_type": "markdown",
   "id": "0a4f6ce7-f3cc-414f-9969-144e827d7a87",
   "metadata": {},
   "source": [
    "o método ```find()``` recebe uma string e verifica em qual posição essa string aparece"
   ]
  },
  {
   "cell_type": "code",
   "execution_count": 9,
   "id": "72dc6901-3148-401e-919b-bb1e34fed703",
   "metadata": {},
   "outputs": [
    {
     "name": "stdout",
     "output_type": "stream",
     "text": [
      "9\n"
     ]
    }
   ],
   "source": [
    "print(stg.find('rl'))"
   ]
  },
  {
   "cell_type": "markdown",
   "id": "99e255d2-09f7-40c1-910c-165d9bbb8969",
   "metadata": {},
   "source": [
    "`find()` ainda pode receber um intervalo na qual deve ser procurada a string"
   ]
  },
  {
   "cell_type": "code",
   "execution_count": 10,
   "id": "65bcc3a3-3475-4ce2-b0ac-481bebaeea03",
   "metadata": {},
   "outputs": [
    {
     "name": "stdout",
     "output_type": "stream",
     "text": [
      "9\n"
     ]
    }
   ],
   "source": [
    "print(stg.find('rl', 6, 11))"
   ]
  },
  {
   "cell_type": "markdown",
   "id": "930fe358-0bd5-47ae-989c-03dff72f6c42",
   "metadata": {},
   "source": [
    "usando `rfind()` buscará a partir da direita da string"
   ]
  },
  {
   "cell_type": "markdown",
   "id": "3e8d7f84-97f5-4951-a649-21c3989d0cc5",
   "metadata": {},
   "source": [
    "o problema de usar `find()` é que, se a string se repete dentro da variável, ele erá contar apenas a 1ª aparição dessa string."
   ]
  },
  {
   "cell_type": "markdown",
   "id": "88f90f2b-ffab-42e1-a748-0eb636755813",
   "metadata": {},
   "source": [
    "nesse caso, pode ser usado o seguinte código para encontrar todas ocorrências"
   ]
  },
  {
   "cell_type": "code",
   "execution_count": 17,
   "id": "ff4e56f3-7b43-4559-8280-a1aefe69a7d6",
   "metadata": {},
   "outputs": [
    {
     "name": "stdout",
     "output_type": "stream",
     "text": [
      "posição: 3\n",
      "posição: 15\n",
      "posição: 28\n"
     ]
    }
   ],
   "source": [
    "plv = 'um tigre, dois tigres, três tigres'\n",
    "p = 0\n",
    "while p>-1:\n",
    "    p = plv.find('tigre', p)\n",
    "    if p>=0:\n",
    "        print(f'posição: {p}')\n",
    "        p+=1"
   ]
  },
  {
   "cell_type": "markdown",
   "id": "076ee9c1-139b-4e5b-9a53-1c42584c3e04",
   "metadata": {},
   "source": [
    "em contra-partida do método `find()` ou `rfind()`"
   ]
  },
  {
   "cell_type": "code",
   "execution_count": 18,
   "id": "1bbe8541-b8ab-46e5-8e72-3cd4d2c15c42",
   "metadata": {},
   "outputs": [
    {
     "name": "stdout",
     "output_type": "stream",
     "text": [
      "posição: 3\n"
     ]
    }
   ],
   "source": [
    "print(f'posição: {plv.find(\"tigre\")}')"
   ]
  },
  {
   "cell_type": "code",
   "execution_count": 19,
   "id": "95a0834d-3946-4726-81e4-05329cc7a9ef",
   "metadata": {},
   "outputs": [
    {
     "name": "stdout",
     "output_type": "stream",
     "text": [
      "posição: 28\n"
     ]
    }
   ],
   "source": [
    "print(f'posição: {plv.rfind(\"tigre\")}')"
   ]
  },
  {
   "cell_type": "markdown",
   "id": "0a67054f-c5fa-4ac7-a1d8-d332f5ff0356",
   "metadata": {},
   "source": [
    "#### Transformações\n",
    "---"
   ]
  },
  {
   "cell_type": "markdown",
   "id": "20f82bfb-75b6-4b08-8551-52a1ac07bd9b",
   "metadata": {},
   "source": [
    "strings são imutáveis, porém, podem ser manipuladas  das seguintes formas"
   ]
  },
  {
   "cell_type": "markdown",
   "id": "ec628418-7c29-4c0a-b397-1440e7dc3d21",
   "metadata": {},
   "source": [
    "o método `replace()` recebe duas string como parâmetro: a 1ª é a parte da string que deseja-se mudar e a 2ª é a para o que será mudado; pode ainda receber quantas strings deseja-se mudar"
   ]
  },
  {
   "cell_type": "code",
   "execution_count": 11,
   "id": "6e067d20-544b-4669-bd9e-b90cd5ce4e21",
   "metadata": {},
   "outputs": [
    {
     "name": "stdout",
     "output_type": "stream",
     "text": [
      "goodbye, world!\n"
     ]
    }
   ],
   "source": [
    "print(stg.replace('hello', 'goodbye'))"
   ]
  },
  {
   "cell_type": "code",
   "execution_count": 25,
   "id": "0e5b188c-733d-4ced-9e0a-3bcf12b2750c",
   "metadata": {},
   "outputs": [
    {
     "name": "stdout",
     "output_type": "stream",
     "text": [
      "um gato, dois gatos, três tigres\n"
     ]
    }
   ],
   "source": [
    "print(plv.replace('tigre', 'gato', 2))"
   ]
  },
  {
   "cell_type": "markdown",
   "id": "d1161d75-7774-47ac-b272-c12941d79dc0",
   "metadata": {},
   "source": [
    "se a primeira string for vazia, o método `replace()` incluirá a segunda string entre todas os caracteres que formam a variável"
   ]
  },
  {
   "cell_type": "code",
   "execution_count": 26,
   "id": "1cbc1a54-5ca0-4d70-aa0a-35719591d490",
   "metadata": {},
   "outputs": [
    {
     "name": "stdout",
     "output_type": "stream",
     "text": [
      "*u*m* *t*i*g*r*e*,* *d*o*i*s* *t*i*g*r*e*s*,* *t*r*ê*s* *t*i*g*r*e*s*\n"
     ]
    }
   ],
   "source": [
    "print(plv.replace('', '*'))"
   ]
  },
  {
   "cell_type": "markdown",
   "id": "9fd61d43-6424-4dab-b597-9e78aeb675b7",
   "metadata": {},
   "source": [
    "bem como pode ser apagada a primeira string se for passada uma string vazia na segunda"
   ]
  },
  {
   "cell_type": "code",
   "execution_count": 27,
   "id": "dc39711c-7003-44fc-bfc1-256788db74ea",
   "metadata": {},
   "outputs": [
    {
     "name": "stdout",
     "output_type": "stream",
     "text": [
      "um , dois s, três s\n"
     ]
    }
   ],
   "source": [
    "print(plv.replace('tigre', ''))"
   ]
  },
  {
   "cell_type": "markdown",
   "id": "f09e2382-dfee-4d7b-93f4-45bc932de66c",
   "metadata": {},
   "source": [
    "o método ```split()``` não necessariamente recebe parâmetros, mas pode receber um caractere que será usado para separar cada string em uma lista"
   ]
  },
  {
   "cell_type": "code",
   "execution_count": 12,
   "id": "5b2ea0c1-5b4b-4618-9dee-5c8d759109e3",
   "metadata": {},
   "outputs": [
    {
     "name": "stdout",
     "output_type": "stream",
     "text": [
      "['hello,', 'world!']\n",
      "['he', '', 'o, wor', 'd!']\n"
     ]
    }
   ],
   "source": [
    "print(stg.split())\n",
    "print(stg.split('l'))"
   ]
  },
  {
   "cell_type": "markdown",
   "id": "915443f2-6deb-4a8f-84f5-27f8a7f487d7",
   "metadata": {},
   "source": [
    "e o ```'<caractere_de_junção>'.join(variável)``` recebe um caractere_de_junção que irá juntar a lista separada passada como parâmetro "
   ]
  },
  {
   "cell_type": "code",
   "execution_count": 13,
   "id": "0cb13fed-f567-40a2-bdf0-6cca3b2e0b53",
   "metadata": {},
   "outputs": [
    {
     "name": "stdout",
     "output_type": "stream",
     "text": [
      "h*e*l*l*o*,* *w*o*r*l*d*!\n"
     ]
    }
   ],
   "source": [
    "print('*'.join(stg))"
   ]
  },
  {
   "cell_type": "markdown",
   "id": "cbde6329-5a3c-4793-811b-2850f1860962",
   "metadata": {},
   "source": [
    "para separar cada caractere da string em um elemento diferente em uma lista, faça:"
   ]
  },
  {
   "cell_type": "code",
   "execution_count": 14,
   "id": "8370692d-672e-4547-b110-e7417c2c420f",
   "metadata": {},
   "outputs": [
    {
     "name": "stdout",
     "output_type": "stream",
     "text": [
      "['h', 'e', 'l', 'l', 'o', ',', ' ', 'w', 'o', 'r', 'l', 'd', '!']\n"
     ]
    }
   ],
   "source": [
    "print(list(stg))"
   ]
  },
  {
   "cell_type": "markdown",
   "id": "7457d8b6-07d5-482e-97cd-11cd475bbe2f",
   "metadata": {},
   "source": [
    "além dos já conhecidos `upper()`, `lower()`, `capitalize()`, `title()` e `strip()`.\n",
    "os métodos `rstrip()` e `lstrip(` apagam espaços extras sem funcionalidades no lado direito ou esquerdo da string, respectivamente."
   ]
  },
  {
   "cell_type": "markdown",
   "id": "6636ca2c-12e9-4f4c-be16-be6e0c7796fb",
   "metadata": {},
   "source": [
    "#### Verificação\n",
    "---"
   ]
  },
  {
   "cell_type": "markdown",
   "id": "869c4154-d76c-43d9-bb6c-8f04a377ff90",
   "metadata": {},
   "source": [
    "pode-se usa os métodos `endswith()`, `startswith()` que recebem strings como parâmetros e verificam se a variável começa ou não com a string passada."
   ]
  },
  {
   "cell_type": "markdown",
   "id": "3ae51875-f5a3-4a58-a56b-cccc7924dd52",
   "metadata": {},
   "source": [
    "os métodos `isalnum()`, `isalpha()`, `isascii()`, `isdecimal()`, `isdigit()`, `islower()`, `isprintable()`, `isnumeric()`, `isspace()`, `istitle()`, `isupper()` não recebem nenhum parâmetro, mas retornam o que o próprio nome dos métodos indicam"
   ]
  },
  {
   "cell_type": "code",
   "execution_count": 15,
   "id": "c3fb3d11-888e-49a2-92da-5b914d20596b",
   "metadata": {},
   "outputs": [
    {
     "name": "stdout",
     "output_type": "stream",
     "text": [
      "True\n",
      "False\n",
      "False\n",
      "False\n",
      "True\n",
      "False\n",
      "False\n",
      "True\n",
      "True\n",
      "False\n",
      "False\n",
      "False\n",
      "False\n"
     ]
    }
   ],
   "source": [
    "print(stg.endswith('!'))\n",
    "print(stg.startswith('m'))\n",
    "print(stg.isalnum())\n",
    "print(stg.isalpha())\n",
    "print(stg.isascii())\n",
    "print(stg.isdecimal())\n",
    "print(stg.isdigit())\n",
    "print(stg.islower())\n",
    "print(stg.isprintable())\n",
    "print(stg.isnumeric())\n",
    "print(stg.isspace())\n",
    "print(stg.istitle())\n",
    "print(stg.isupper())"
   ]
  },
  {
   "cell_type": "markdown",
   "id": "8b7725ef-607f-4e96-9340-0cee23b101bf",
   "metadata": {},
   "source": [
    "#### comparação\n",
    "---"
   ]
  },
  {
   "cell_type": "markdown",
   "id": "a73eb171-4399-412b-8b82-96eeaa1cb931",
   "metadata": {},
   "source": [
    "uma pode ser comparada se vem antes no alfabeto do que uma outra, ou vice-versa, usando os operadores `<` e `>`"
   ]
  },
  {
   "cell_type": "code",
   "execution_count": 1,
   "id": "ee50994c-c12d-4171-b143-0ea3f2ae7ea7",
   "metadata": {},
   "outputs": [
    {
     "name": "stdout",
     "output_type": "stream",
     "text": [
      "False\n",
      "True\n"
     ]
    }
   ],
   "source": [
    "print('lucas' > 'matheus')\n",
    "print('lucas' < 'matheus')"
   ]
  },
  {
   "cell_type": "markdown",
   "id": "dd8465f2-3e45-4980-bde2-b3ea656f70aa",
   "metadata": {},
   "source": [
    "pode, ainda, usar `==`, `!=` para verificaar se duas strings são iguais ou não:"
   ]
  },
  {
   "cell_type": "code",
   "execution_count": 2,
   "id": "0811dd0c-da82-4ed2-b67c-31446273e286",
   "metadata": {},
   "outputs": [
    {
     "name": "stdout",
     "output_type": "stream",
     "text": [
      "False\n",
      "True\n"
     ]
    }
   ],
   "source": [
    "print('lucas' == 'matheus')\n",
    "print('lucas' != 'matheus')"
   ]
  },
  {
   "cell_type": "markdown",
   "id": "b45165d3-0c47-47bf-b020-c1884ffefe21",
   "metadata": {},
   "source": [
    "#### transformando string em números\n",
    "---"
   ]
  },
  {
   "cell_type": "markdown",
   "id": "08a689a9-21c5-412b-81f2-4ad9c55881fc",
   "metadata": {},
   "source": [
    "para é necessário usar a função `ord()`"
   ]
  },
  {
   "cell_type": "code",
   "execution_count": 7,
   "id": "fe9b14f2-eb68-47bb-b367-6cf73bd94e65",
   "metadata": {},
   "outputs": [
    {
     "name": "stdout",
     "output_type": "stream",
     "text": [
      "119\n"
     ]
    }
   ],
   "source": [
    "print(ord('w'))"
   ]
  },
  {
   "cell_type": "markdown",
   "id": "0197e126-e5a1-4799-9ee5-eca22cc9bdc7",
   "metadata": {},
   "source": [
    "para reverter, ou transformar um número qualquer em string, podemos usar `chr()`"
   ]
  },
  {
   "cell_type": "code",
   "execution_count": 8,
   "id": "931fa682-101c-4502-af1a-6975f1cce545",
   "metadata": {},
   "outputs": [
    {
     "name": "stdout",
     "output_type": "stream",
     "text": [
      "w\n"
     ]
    }
   ],
   "source": [
    "print(chr(119))"
   ]
  },
  {
   "cell_type": "markdown",
   "id": "0f44ef6a-3ff8-45a6-b35a-74b16dbb1019",
   "metadata": {},
   "source": [
    "#### enchergando espaços\n",
    "---"
   ]
  },
  {
   "cell_type": "markdown",
   "id": "c0bf0c05-76eb-465a-a939-d8df2d5f28d8",
   "metadata": {},
   "source": [
    "a função integrada `repr(<string>)` pode ser usada para mostrar os espaços em branco presente em uma string:"
   ]
  },
  {
   "cell_type": "code",
   "execution_count": 1,
   "id": "f60ad910-f0c0-417d-aa69-2af9159c6501",
   "metadata": {},
   "outputs": [
    {
     "name": "stdout",
     "output_type": "stream",
     "text": [
      "1 2\t3\n",
      "4\n"
     ]
    }
   ],
   "source": [
    "stg = '1 2\\t3\\n4'\n",
    "print(stg)"
   ]
  },
  {
   "cell_type": "code",
   "execution_count": 2,
   "id": "3286b9a3-4072-4fc3-8e6b-38369f72f4ab",
   "metadata": {},
   "outputs": [
    {
     "name": "stdout",
     "output_type": "stream",
     "text": [
      "'1 2\\t3\\n4'\n"
     ]
    }
   ],
   "source": [
    "print(repr(stg))"
   ]
  }
 ],
 "metadata": {
  "kernelspec": {
   "display_name": "Python 3 (ipykernel)",
   "language": "python",
   "name": "python3"
  },
  "language_info": {
   "codemirror_mode": {
    "name": "ipython",
    "version": 3
   },
   "file_extension": ".py",
   "mimetype": "text/x-python",
   "name": "python",
   "nbconvert_exporter": "python",
   "pygments_lexer": "ipython3",
   "version": "3.10.12"
  }
 },
 "nbformat": 4,
 "nbformat_minor": 5
}
