{
 "cells": [
  {
   "cell_type": "markdown",
   "id": "d9cad031-18f5-4bb8-a8d5-6b35e477e34f",
   "metadata": {},
   "source": [
    "## ***Listas***\n",
    "---"
   ]
  },
  {
   "cell_type": "markdown",
   "id": "c439a8d7-47a4-45c6-a154-56db6b27011e",
   "metadata": {},
   "source": [
    "#### Inserindo novos elementos\n",
    "---"
   ]
  },
  {
   "cell_type": "markdown",
   "id": "5ee79dad-4cbd-4a80-8d43-ddf80a8a95ed",
   "metadata": {},
   "source": [
    "além do `append()` que sempre adiciona um novo elemento na última posição, pode ser usado o `insert()` que recebe como parâmetro o índice a ser adicionado e o valor a ser adicionado"
   ]
  },
  {
   "cell_type": "code",
   "execution_count": 1,
   "id": "313f2e5b-235d-4122-8ead-935837d4f105",
   "metadata": {},
   "outputs": [
    {
     "name": "stdout",
     "output_type": "stream",
     "text": [
      "['-v 5', 'python', 3.9]\n"
     ]
    }
   ],
   "source": [
    "lst = ['python', 3.9]\n",
    "lst.insert(0, '-v 5')\n",
    "print(lst)"
   ]
  },
  {
   "cell_type": "raw",
   "id": "2c0edf82-2485-489e-a061-69eb82c5a7c2",
   "metadata": {},
   "source": [
    "além do método `extend()` que recebe uma lista como parâmetro para incluir no final da lista já existente"
   ]
  },
  {
   "cell_type": "code",
   "execution_count": 2,
   "id": "12ef2ce1-8b31-4886-a48a-c0f6836e6c46",
   "metadata": {},
   "outputs": [
    {
     "name": "stdout",
     "output_type": "stream",
     "text": [
      "['-v 5', 'python', 3.9, 'gosto muito']\n"
     ]
    }
   ],
   "source": [
    "lst.extend(['gosto muito'])\n",
    "print(lst)"
   ]
  },
  {
   "cell_type": "markdown",
   "id": "98c11693-9713-4f02-b74e-a95fc146f5c7",
   "metadata": {},
   "source": [
    "se tentar passar qualquer outro tipo de parâmetro para `extend()`, dará erro"
   ]
  },
  {
   "cell_type": "markdown",
   "id": "85b6a48e-d53f-4d8b-8f59-77d69fcd2918",
   "metadata": {},
   "source": [
    "além da forma mais \"normal\""
   ]
  },
  {
   "cell_type": "code",
   "execution_count": 3,
   "id": "17b11813-28ce-4002-b468-c92d21b67e35",
   "metadata": {},
   "outputs": [
    {
     "name": "stdout",
     "output_type": "stream",
     "text": [
      "['-v 5', 'python', 3.9, 'gosto muito', '!']\n"
     ]
    }
   ],
   "source": [
    "lst += ['!']\n",
    "print(lst)"
   ]
  },
  {
   "cell_type": "markdown",
   "id": "13bc6a4d-0612-45ae-80fe-6e94c4290268",
   "metadata": {},
   "source": [
    "#### Deletando itens\n",
    "---"
   ]
  },
  {
   "cell_type": "markdown",
   "id": "6da96779-d50b-4499-b4a2-5fa4a9f9a90e",
   "metadata": {},
   "source": [
    "o método mais simples é o `del` que deve ser usado mostrando o nome da lista e o índice do valor a ser deletado"
   ]
  },
  {
   "cell_type": "code",
   "execution_count": 4,
   "id": "39f00a6c-9503-4d70-90e1-b1dc0a5293fd",
   "metadata": {},
   "outputs": [
    {
     "name": "stdout",
     "output_type": "stream",
     "text": [
      "['python', 3.9, 'gosto muito', '!']\n"
     ]
    }
   ],
   "source": [
    "del lst[0]\n",
    "print(lst)"
   ]
  },
  {
   "cell_type": "markdown",
   "id": "b14d189e-fe03-41f6-95a0-dd64c9c52028",
   "metadata": {},
   "source": [
    "pode fazer por fatiamentos"
   ]
  },
  {
   "cell_type": "code",
   "execution_count": 5,
   "id": "cd3bee83-9cbd-4438-ab29-2221916533e3",
   "metadata": {},
   "outputs": [
    {
     "name": "stdout",
     "output_type": "stream",
     "text": [
      "[]\n"
     ]
    }
   ],
   "source": [
    "del lst[:]\n",
    "print(lst)"
   ]
  },
  {
   "cell_type": "markdown",
   "id": "96523f6a-3cef-4d55-ac86-2e5bf6bc23f1",
   "metadata": {},
   "source": [
    "pode ser usado o método `pop()` que elimina o valor da última posição, mais pode receber índices como parâmetro"
   ]
  },
  {
   "cell_type": "code",
   "execution_count": 6,
   "id": "f7c312b8-136b-42c4-8fcd-b0a81186d68c",
   "metadata": {},
   "outputs": [
    {
     "name": "stdout",
     "output_type": "stream",
     "text": [
      "['ágora', 'IV']\n",
      "['IV']\n"
     ]
    }
   ],
   "source": [
    "lst = ['ágora', 'IV', 2021]\n",
    "lst.pop()\n",
    "print(lst)\n",
    "\n",
    "lst.pop(0)\n",
    "print(lst)"
   ]
  },
  {
   "cell_type": "markdown",
   "id": "36f458bc-53ea-4afa-8250-b15988547765",
   "metadata": {},
   "source": [
    "pode ainda ser usado o método `remove()` que recebe um valor da lista como parâmetro e o elimina"
   ]
  },
  {
   "cell_type": "code",
   "execution_count": 7,
   "id": "fbd5e1aa-d22b-49e7-8614-4942ec9a87e4",
   "metadata": {},
   "outputs": [
    {
     "name": "stdout",
     "output_type": "stream",
     "text": [
      "['sol', 'mercúrio', 'vênus', 'marte', 'ceres']\n"
     ]
    }
   ],
   "source": [
    "lst = ['sol', 'mercúrio', 'vênus', 'gaya', 'marte', 'ceres']\n",
    "lst.remove('gaya')\n",
    "print(lst)"
   ]
  },
  {
   "cell_type": "markdown",
   "id": "0cf8c5d2-494b-4fed-a6ea-73bba035f13e",
   "metadata": {},
   "source": [
    "usando o método `clear()`, é apagado todos os elementos da lista"
   ]
  },
  {
   "cell_type": "code",
   "execution_count": 8,
   "id": "5aba80f1-9648-4c22-b186-f33e15455171",
   "metadata": {},
   "outputs": [
    {
     "name": "stdout",
     "output_type": "stream",
     "text": [
      "[]\n"
     ]
    }
   ],
   "source": [
    "lst.clear()\n",
    "print(lst)"
   ]
  },
  {
   "cell_type": "markdown",
   "id": "227f6cfe-4243-4a58-be52-21f364d2fea1",
   "metadata": {},
   "source": [
    "#### Organizando a lista\n",
    "---"
   ]
  },
  {
   "cell_type": "markdown",
   "id": "3c80499c-08c1-4b2a-a075-a9dd4cfb430f",
   "metadata": {},
   "source": [
    "uma lista pode ser posta em ordem alfabética ou numérica usando a função `sorted()` da mesma forma, mas pode ser usado o método `sort()`"
   ]
  },
  {
   "cell_type": "code",
   "execution_count": 9,
   "id": "038e3f31-d403-47a8-a284-3e9ec0483240",
   "metadata": {},
   "outputs": [
    {
     "name": "stdout",
     "output_type": "stream",
     "text": [
      "['ceres', 'gaya', 'marte', 'mercúrio', 'sol', 'vênus']\n"
     ]
    }
   ],
   "source": [
    "lst = ['sol', 'mercúrio', 'vênus', 'gaya', 'marte', 'ceres']\n",
    "lst.sort()\n",
    "print(lst)"
   ]
  },
  {
   "cell_type": "markdown",
   "id": "264d0ce1-fd07-4e48-a790-dc3502b7f6fe",
   "metadata": {},
   "source": [
    "invertendo a ordem de crescente para decrescente, passa-se o método com o parâmetro `sort(reverse=True)`"
   ]
  },
  {
   "cell_type": "code",
   "execution_count": 10,
   "id": "34306111-5961-47f7-ae33-5e938853bc92",
   "metadata": {},
   "outputs": [
    {
     "name": "stdout",
     "output_type": "stream",
     "text": [
      "['vênus', 'sol', 'mercúrio', 'marte', 'gaya', 'ceres']\n"
     ]
    }
   ],
   "source": [
    "lst.sort(reverse=True)\n",
    "print(lst)"
   ]
  },
  {
   "cell_type": "markdown",
   "id": "338e86ff-0ccb-4b71-b7a1-071b5b6ad985",
   "metadata": {},
   "source": [
    "tem o mesmo efeito de fazer `sorted(lista)[::-1]` ou, ainda, `lst2 = sorted(lst, reverse=True)`."
   ]
  },
  {
   "cell_type": "markdown",
   "id": "b1073fbe-6766-4b99-82a9-a1a67373d7e0",
   "metadata": {},
   "source": [
    "para enumerar os itens da lista, deve-se usar o `enumerate()` do laço `for`:"
   ]
  },
  {
   "cell_type": "code",
   "execution_count": 11,
   "id": "c8175b46-7c23-4165-ade1-33586592084a",
   "metadata": {},
   "outputs": [
    {
     "name": "stdout",
     "output_type": "stream",
     "text": [
      "o ítem vênus está no índice 0\n",
      "o ítem sol está no índice 1\n",
      "o ítem mercúrio está no índice 2\n",
      "o ítem marte está no índice 3\n",
      "o ítem gaya está no índice 4\n",
      "o ítem ceres está no índice 5\n"
     ]
    }
   ],
   "source": [
    "for j, i in enumerate(lst):\n",
    "    print(f'o ítem {i} está no índice {j}')"
   ]
  },
  {
   "cell_type": "markdown",
   "id": "da334746-97f8-466d-baa1-c740a09daa30",
   "metadata": {},
   "source": [
    "#### listas iguais\n",
    "---"
   ]
  },
  {
   "cell_type": "markdown",
   "id": "b5e1c3d9-5786-460a-9d2b-8a85f109ab62",
   "metadata": {},
   "source": [
    "se for feito"
   ]
  },
  {
   "cell_type": "code",
   "execution_count": 12,
   "id": "dd4e1e14-2388-4b9e-b673-c5bf694f9101",
   "metadata": {},
   "outputs": [],
   "source": [
    "lb = lst"
   ]
  },
  {
   "cell_type": "markdown",
   "id": "480f90ba-d1b0-41ef-a292-7ab049cbdc06",
   "metadata": {},
   "source": [
    "temos que a lista `lb` será igual à lista `lst` e todas as mudanças feitas nesta ocorrerão também naquela"
   ]
  },
  {
   "cell_type": "code",
   "execution_count": 13,
   "id": "41f16adb-3749-40e1-88e9-ba1261e931c3",
   "metadata": {},
   "outputs": [
    {
     "name": "stdout",
     "output_type": "stream",
     "text": [
      "['vênus', 'sol', 'mercúrio', 'marte', 'gaya', 'ceres']\n"
     ]
    }
   ],
   "source": [
    "print(lb)"
   ]
  },
  {
   "cell_type": "code",
   "execution_count": 14,
   "id": "884db9d1-46a8-48b6-bfef-dd0cd8e6e906",
   "metadata": {},
   "outputs": [
    {
     "name": "stdout",
     "output_type": "stream",
     "text": [
      "['vênus', 'sol', 'mercúrio', 'marte', 'gaya', 'ceres', 'terra']\n"
     ]
    }
   ],
   "source": [
    "lst += ['terra']\n",
    "print(lb)"
   ]
  },
  {
   "cell_type": "markdown",
   "id": "daa3d7c1-d9da-4547-ac83-71c1a00f0d2f",
   "metadata": {},
   "source": [
    "se estiver desejando criar duas listas iguais, mas que não são interligadas, é necessário fazer:"
   ]
  },
  {
   "cell_type": "code",
   "execution_count": 15,
   "id": "51aeb579-e8a0-4408-a72d-cde2a445814b",
   "metadata": {},
   "outputs": [],
   "source": [
    "lb = lst[:]"
   ]
  },
  {
   "cell_type": "markdown",
   "id": "de1f9239-a823-4370-988a-c5aceffb56cb",
   "metadata": {},
   "source": [
    "assim, a lista `lb` não depende mais da lst"
   ]
  },
  {
   "cell_type": "code",
   "execution_count": 17,
   "id": "3cdee19c-c86a-4d46-b874-9659cf245b5d",
   "metadata": {},
   "outputs": [
    {
     "name": "stdout",
     "output_type": "stream",
     "text": [
      "['vênus', 'sol', 'mercúrio', 'marte', 'gaya', 'ceres', 'terra']\n",
      "['vênus', 'sol', 'mercúrio', 'marte', 'gaya', 'ceres']\n"
     ]
    }
   ],
   "source": [
    "lst.remove('terra')\n",
    "print(lb)\n",
    "print(lst)"
   ]
  }
 ],
 "metadata": {
  "kernelspec": {
   "display_name": "Python 3 (ipykernel)",
   "language": "python",
   "name": "python3"
  },
  "language_info": {
   "codemirror_mode": {
    "name": "ipython",
    "version": 3
   },
   "file_extension": ".py",
   "mimetype": "text/x-python",
   "name": "python",
   "nbconvert_exporter": "python",
   "pygments_lexer": "ipython3",
   "version": "3.9.5"
  }
 },
 "nbformat": 4,
 "nbformat_minor": 5
}
