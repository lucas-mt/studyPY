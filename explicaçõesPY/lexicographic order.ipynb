{
 "cells": [
  {
   "cell_type": "markdown",
   "id": "168e3440-47ce-4188-b590-b253d3e6be8b",
   "metadata": {},
   "source": [
    "## método de visualização do fatorial\n",
    "---"
   ]
  },
  {
   "cell_type": "markdown",
   "id": "1b6ffbfd-0350-4ec7-9610-b04b4bf1b5d1",
   "metadata": {},
   "source": [
    "este método é usado para visualizar todas as possibilidades de um fatorial:"
   ]
  },
  {
   "cell_type": "code",
   "execution_count": 3,
   "id": "73bb1a4d-93ae-4171-b10e-da5f7359eca2",
   "metadata": {},
   "outputs": [
    {
     "name": "stdout",
     "output_type": "stream",
     "text": [
      "[1, 2, 3]\n",
      "[1, 3, 2]\n",
      "[2, 1, 3]\n",
      "[2, 3, 1]\n",
      "[3, 1, 2]\n",
      "[3, 2, 1]\n"
     ]
    }
   ],
   "source": [
    "def LexOrd(lista):\n",
    "    while True:\n",
    "        yield lista\n",
    "    \n",
    "        maiorI = -1\n",
    "        for i in range(len(lista)-1):\n",
    "            if lista[i] < lista[i+1]:\n",
    "                maiorI = i\n",
    "    \n",
    "        if maiorI == -1:\n",
    "            break\n",
    "        \n",
    "        maiorJ = -1\n",
    "        for j in range(len(lista)):\n",
    "            if lista[maiorI] < lista[j]:\n",
    "                maiorJ = j\n",
    "        \n",
    "        lista[maiorI], lista[maiorJ] = lista[maiorJ], lista[maiorI]\n",
    "    \n",
    "        lista_maior = lista[maiorI + 1:][::-1].copy()\n",
    "        del lista[maiorI + 1:]\n",
    "        for i in lista_maior:\n",
    "            lista.append(i)\n",
    "\n",
    "\n",
    "lista = [1, 2, 3]\n",
    "for i in LexOrd(lista):\n",
    "    print(i)"
   ]
  },
  {
   "cell_type": "markdown",
   "id": "9a50c984-0a74-442f-bdd8-d0a8f18ce0c6",
   "metadata": {},
   "source": [
    "é possível, usando este código, ter os resultados de uma função fatorial que usa strings, usando um array numpy, que suportam o fancy indexing"
   ]
  },
  {
   "cell_type": "code",
   "execution_count": 5,
   "id": "1130a4d4-eb67-42fb-8057-0dfaa75599f6",
   "metadata": {},
   "outputs": [
    {
     "name": "stdout",
     "output_type": "stream",
     "text": [
      "['o' 'l' 'á']\n",
      "['o' 'á' 'l']\n",
      "['l' 'o' 'á']\n",
      "['l' 'á' 'o']\n",
      "['á' 'o' 'l']\n",
      "['á' 'l' 'o']\n"
     ]
    }
   ],
   "source": [
    "import numpy as np\n",
    "\n",
    "\n",
    "array = np.array(list('olá'))\n",
    "tmn = len(array)\n",
    "lista_indexes = [i for i in range(tmn)]\n",
    "\n",
    "for i in LexOrd(lista_indexes):\n",
    "    print(array[i])"
   ]
  },
  {
   "cell_type": "code",
   "execution_count": null,
   "id": "172eac63-2d7d-4ef9-85c2-2a542e679274",
   "metadata": {},
   "outputs": [],
   "source": []
  }
 ],
 "metadata": {
  "kernelspec": {
   "display_name": "Python 3 (ipykernel)",
   "language": "python",
   "name": "python3"
  },
  "language_info": {
   "codemirror_mode": {
    "name": "ipython",
    "version": 3
   },
   "file_extension": ".py",
   "mimetype": "text/x-python",
   "name": "python",
   "nbconvert_exporter": "python",
   "pygments_lexer": "ipython3",
   "version": "3.10.6"
  }
 },
 "nbformat": 4,
 "nbformat_minor": 5
}
