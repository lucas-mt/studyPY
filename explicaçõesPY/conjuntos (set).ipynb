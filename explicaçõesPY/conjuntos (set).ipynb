{
 "cells": [
  {
   "cell_type": "markdown",
   "id": "8fa43bef-57a6-485d-8d34-7c2683d493cd",
   "metadata": {},
   "source": [
    "## ***Conjuntos (set)***\n",
    "---"
   ]
  },
  {
   "cell_type": "markdown",
   "id": "34400d81-39eb-416d-b079-e14169e34a37",
   "metadata": {},
   "source": [
    "funcionam como conjuntos estudados na matemática, eles servem para fazer as operações de união, intersecção e diferença."
   ]
  },
  {
   "cell_type": "markdown",
   "id": "ffd9730f-51fb-4fe5-b2b3-93e9fb016e97",
   "metadata": {},
   "source": [
    "#### Criando"
   ]
  },
  {
   "cell_type": "markdown",
   "id": "7c216a01-5872-4205-926d-cbae4422b26b",
   "metadata": {},
   "source": [
    "a característica de um conjunto é o fato de não poder repetir elementos nele"
   ]
  },
  {
   "cell_type": "code",
   "execution_count": 4,
   "id": "848176a0-7437-45c6-b1fa-e68a08638557",
   "metadata": {},
   "outputs": [
    {
     "name": "stdout",
     "output_type": "stream",
     "text": [
      "{1, 2, 3}\n"
     ]
    }
   ],
   "source": [
    "a = {1, 1, 2, 2, 3, 3}\n",
    "print(a)"
   ]
  },
  {
   "cell_type": "markdown",
   "id": "ea262fa7-fd75-4757-934d-d73958a9f976",
   "metadata": {},
   "source": [
    "podem ser declarados usando a função `set()` ou `{}`"
   ]
  },
  {
   "cell_type": "markdown",
   "id": "6f56b705-10ec-4bf0-8a77-fc2fa5f48183",
   "metadata": {},
   "source": [
    "se for declarado como `set()` não pode ser passado como parâmetro os valores do conjunto, eles devem ser adicionado usado o método `add()`"
   ]
  },
  {
   "cell_type": "code",
   "execution_count": 5,
   "id": "2a03e436-f2d1-47d7-97ad-72b942cf366a",
   "metadata": {},
   "outputs": [
    {
     "name": "stdout",
     "output_type": "stream",
     "text": [
      "{1, 2, 3}\n"
     ]
    }
   ],
   "source": [
    "a = set()\n",
    "a.add(1)\n",
    "a.add(1)\n",
    "a.add(2)\n",
    "a.add(2)\n",
    "a.add(3)\n",
    "a.add(3)\n",
    "print(a)"
   ]
  },
  {
   "cell_type": "markdown",
   "id": "a86b68de-55d3-4ff0-9a99-e342507470ee",
   "metadata": {},
   "source": [
    "caso contrário, dará erro"
   ]
  },
  {
   "cell_type": "code",
   "execution_count": 6,
   "id": "dfa7d731-6276-4669-ac05-98762f23844a",
   "metadata": {},
   "outputs": [
    {
     "ename": "TypeError",
     "evalue": "set expected at most 1 argument, got 6",
     "output_type": "error",
     "traceback": [
      "\u001b[1;31m---------------------------------------------------------------------------\u001b[0m",
      "\u001b[1;31mTypeError\u001b[0m                                 Traceback (most recent call last)",
      "\u001b[1;32m<ipython-input-6-e3eb92885b64>\u001b[0m in \u001b[0;36m<module>\u001b[1;34m\u001b[0m\n\u001b[1;32m----> 1\u001b[1;33m \u001b[0mb\u001b[0m \u001b[1;33m=\u001b[0m \u001b[0mset\u001b[0m\u001b[1;33m(\u001b[0m\u001b[1;36m1\u001b[0m\u001b[1;33m,\u001b[0m\u001b[1;36m1\u001b[0m\u001b[1;33m,\u001b[0m\u001b[1;36m2\u001b[0m\u001b[1;33m,\u001b[0m\u001b[1;36m2\u001b[0m\u001b[1;33m,\u001b[0m\u001b[1;36m3\u001b[0m\u001b[1;33m,\u001b[0m\u001b[1;36m3\u001b[0m\u001b[1;33m)\u001b[0m\u001b[1;33m\u001b[0m\u001b[1;33m\u001b[0m\u001b[0m\n\u001b[0m\u001b[0;32m      2\u001b[0m \u001b[0mprint\u001b[0m\u001b[1;33m(\u001b[0m\u001b[0mb\u001b[0m\u001b[1;33m)\u001b[0m\u001b[1;33m\u001b[0m\u001b[1;33m\u001b[0m\u001b[0m\n",
      "\u001b[1;31mTypeError\u001b[0m: set expected at most 1 argument, got 6"
     ]
    }
   ],
   "source": [
    "b = set(1,1,2,2,3,3)\n",
    "print(b)"
   ]
  },
  {
   "cell_type": "markdown",
   "id": "befbc8df-848b-4377-9c9e-2e0e43734775",
   "metadata": {},
   "source": [
    "um conjunto pode ser criado por qualquer estrutura de dado que seja enumerado, como uma string, lista, dicionário, tupla"
   ]
  },
  {
   "cell_type": "code",
   "execution_count": 7,
   "id": "e5aad512-ff11-431f-88dc-cdf43178d594",
   "metadata": {},
   "outputs": [
    {
     "name": "stdout",
     "output_type": "stream",
     "text": [
      "{1, 2, 3}\n"
     ]
    }
   ],
   "source": [
    "b = set((1, 1, 2, 2, 3, 3))\n",
    "print(b)"
   ]
  },
  {
   "cell_type": "code",
   "execution_count": 8,
   "id": "51841397-6548-40bc-90ef-70b16b698e7f",
   "metadata": {},
   "outputs": [
    {
     "name": "stdout",
     "output_type": "stream",
     "text": [
      "{1, 2, 3}\n"
     ]
    }
   ],
   "source": [
    "b = set([1, 1, 2, 2, 3, 3])\n",
    "print(b)"
   ]
  },
  {
   "cell_type": "code",
   "execution_count": 9,
   "id": "1808fdde-7d74-40b7-a32b-294284dff138",
   "metadata": {},
   "outputs": [
    {
     "name": "stdout",
     "output_type": "stream",
     "text": [
      "{'um', 'três', 'dois'}\n"
     ]
    }
   ],
   "source": [
    "b = set({'um': 1, 'dois': 2, 'três': 3})\n",
    "print(b)"
   ]
  },
  {
   "cell_type": "code",
   "execution_count": 12,
   "id": "4cb7b633-34a9-431e-8574-2c09ead2b20a",
   "metadata": {},
   "outputs": [
    {
     "name": "stdout",
     "output_type": "stream",
     "text": [
      "{'2', '3', '1'}\n"
     ]
    }
   ],
   "source": [
    "b = set('123')\n",
    "print(b)"
   ]
  },
  {
   "cell_type": "markdown",
   "id": "d32d85b0-ca31-4e6a-8138-6242b3d97264",
   "metadata": {},
   "source": [
    "observe que um conjunto não mantém as posição em ordem, elas são aleatórias."
   ]
  },
  {
   "cell_type": "markdown",
   "id": "6a53dd0b-450e-4890-ad4f-40fefb49350c",
   "metadata": {},
   "source": [
    "#### Operações"
   ]
  },
  {
   "cell_type": "markdown",
   "id": "f1e769a4-e041-40e3-a287-ff93e5489482",
   "metadata": {},
   "source": [
    "as operações entre conjuntos retorna outro conjunto como resultado"
   ]
  },
  {
   "cell_type": "markdown",
   "id": "4cd99bd2-c660-4c9b-92b5-0e8696da04ca",
   "metadata": {},
   "source": [
    "a diferença entre conjunto é feita por `-`"
   ]
  },
  {
   "cell_type": "code",
   "execution_count": 14,
   "id": "6347075d-3987-41e6-bd76-4f731d7aa2a2",
   "metadata": {},
   "outputs": [
    {
     "name": "stdout",
     "output_type": "stream",
     "text": [
      "{4, 6}\n"
     ]
    }
   ],
   "source": [
    "a = {1, 2, 3}\n",
    "b = {2, 4, 6}\n",
    "print(b-a)"
   ]
  },
  {
   "cell_type": "markdown",
   "id": "53962ea5-7dd3-40ea-ab17-52ab29994615",
   "metadata": {},
   "source": [
    "ou seja, os elementos de `a` que também estão em `b` são retirado"
   ]
  },
  {
   "cell_type": "markdown",
   "id": "1362c688-00bd-44d1-9b5d-0b467cb65199",
   "metadata": {},
   "source": [
    "a ordem importa, nesse caso"
   ]
  },
  {
   "cell_type": "markdown",
   "id": "02b78420-8746-4d56-a3e2-8f2fb0c07e08",
   "metadata": {},
   "source": [
    "a união é feita por `|`"
   ]
  },
  {
   "cell_type": "code",
   "execution_count": 15,
   "id": "a73a4602-8795-495c-be9f-bf4f7b855bb7",
   "metadata": {},
   "outputs": [
    {
     "name": "stdout",
     "output_type": "stream",
     "text": [
      "{1, 2, 3, 4, 6}\n"
     ]
    }
   ],
   "source": [
    "print(a|b)"
   ]
  },
  {
   "cell_type": "markdown",
   "id": "0546fc63-b679-4ef1-9a4d-a74fb3dd6ba9",
   "metadata": {},
   "source": [
    "observe que na união, os elementos repetidos não são inclusos "
   ]
  },
  {
   "cell_type": "markdown",
   "id": "8456ad21-0874-4539-87ee-dff9d951a27a",
   "metadata": {},
   "source": [
    "poderia ainda ser feita por `a.union(b)`"
   ]
  },
  {
   "cell_type": "markdown",
   "id": "270b919d-0d4a-4c56-8f57-1fb7624f1b33",
   "metadata": {},
   "source": [
    "a intersecção é feito por `&`"
   ]
  },
  {
   "cell_type": "code",
   "execution_count": 16,
   "id": "dd8cef39-b9a0-4303-8d0c-1a63bdb4d16e",
   "metadata": {},
   "outputs": [
    {
     "name": "stdout",
     "output_type": "stream",
     "text": [
      "{2}\n"
     ]
    }
   ],
   "source": [
    "print(a&b)"
   ]
  },
  {
   "cell_type": "markdown",
   "id": "2b8de6a4-7f5b-4f86-ba53-a07d3cdf5c5b",
   "metadata": {},
   "source": [
    "outra forma seria `a.intersect(b)`"
   ]
  },
  {
   "cell_type": "markdown",
   "id": "3fd80904-6904-4f52-bff8-183e384f7dea",
   "metadata": {},
   "source": [
    "para verifica se um elemento pertence a um conjunto, use o `in`"
   ]
  },
  {
   "cell_type": "code",
   "execution_count": 17,
   "id": "de5efb3d-4a57-405a-b9d5-2ef71021592a",
   "metadata": {},
   "outputs": [
    {
     "name": "stdout",
     "output_type": "stream",
     "text": [
      "False\n"
     ]
    }
   ],
   "source": [
    "print(4 in a)"
   ]
  },
  {
   "cell_type": "markdown",
   "id": "596faf89-6820-47ff-9b54-b8269b275702",
   "metadata": {},
   "source": [
    "e, ainda para verificar se um conjunto é subconjunto de outro use o `<=`"
   ]
  },
  {
   "cell_type": "code",
   "execution_count": 18,
   "id": "a69c893d-9f4d-45e4-8a99-cb69e9afc818",
   "metadata": {},
   "outputs": [
    {
     "name": "stdout",
     "output_type": "stream",
     "text": [
      "True\n"
     ]
    }
   ],
   "source": [
    "c = {1, 2, 3}\n",
    "d = {-1, 0, 1, 2, 3, 4, 5}\n",
    "print(c<=d)"
   ]
  },
  {
   "cell_type": "markdown",
   "id": "5238adfc-8cbe-432b-9600-adad29e7f792",
   "metadata": {},
   "source": [
    "se um conjunto é subconjunto próprio de outro, `<`"
   ]
  },
  {
   "cell_type": "code",
   "execution_count": 21,
   "id": "f24dd4f1-f93a-4b45-b931-d6f23e4951f4",
   "metadata": {},
   "outputs": [
    {
     "name": "stdout",
     "output_type": "stream",
     "text": [
      "True\n"
     ]
    }
   ],
   "source": [
    "print(c<d)"
   ]
  },
  {
   "cell_type": "markdown",
   "id": "6b9d304b-676a-4629-9189-2f0b5e787745",
   "metadata": {},
   "source": [
    "#### Removendo elementos"
   ]
  },
  {
   "cell_type": "markdown",
   "id": "f73b3312-7dc7-476d-bf6b-38789187538c",
   "metadata": {},
   "source": [
    "para apagar elementos, podemos usar o método `remove()` que recebe o elemento que deseja ser apagado"
   ]
  },
  {
   "cell_type": "code",
   "execution_count": 22,
   "id": "226e4310-2fab-4c1d-9c65-499e2b19a037",
   "metadata": {},
   "outputs": [
    {
     "name": "stdout",
     "output_type": "stream",
     "text": [
      "{1, 2, 3}\n",
      "{1, 3}\n"
     ]
    }
   ],
   "source": [
    "a = {1, 2, 3}\n",
    "print(a)\n",
    "a.remove(2)\n",
    "print(a)"
   ]
  },
  {
   "cell_type": "markdown",
   "id": "c7a17f6a-d671-4c82-ac3c-02e44d596882",
   "metadata": {},
   "source": [
    "se for passado um elemento que não exista no conjunto para `remove()`, dará um erro"
   ]
  },
  {
   "cell_type": "code",
   "execution_count": 23,
   "id": "cac1fb0f-a8bb-48d8-84bd-6f34ac25d4f5",
   "metadata": {},
   "outputs": [
    {
     "ename": "KeyError",
     "evalue": "2",
     "output_type": "error",
     "traceback": [
      "\u001b[1;31m---------------------------------------------------------------------------\u001b[0m",
      "\u001b[1;31mKeyError\u001b[0m                                  Traceback (most recent call last)",
      "\u001b[1;32m<ipython-input-23-583207d30474>\u001b[0m in \u001b[0;36m<module>\u001b[1;34m\u001b[0m\n\u001b[1;32m----> 1\u001b[1;33m \u001b[0ma\u001b[0m\u001b[1;33m.\u001b[0m\u001b[0mremove\u001b[0m\u001b[1;33m(\u001b[0m\u001b[1;36m2\u001b[0m\u001b[1;33m)\u001b[0m\u001b[1;33m\u001b[0m\u001b[1;33m\u001b[0m\u001b[0m\n\u001b[0m\u001b[0;32m      2\u001b[0m \u001b[0mprint\u001b[0m\u001b[1;33m(\u001b[0m\u001b[0ma\u001b[0m\u001b[1;33m)\u001b[0m\u001b[1;33m\u001b[0m\u001b[1;33m\u001b[0m\u001b[0m\n",
      "\u001b[1;31mKeyError\u001b[0m: 2"
     ]
    }
   ],
   "source": [
    "a.remove(2)\n",
    "print(a)"
   ]
  },
  {
   "cell_type": "markdown",
   "id": "56a040dc-bc8e-44e1-a580-3d08ab3638d6",
   "metadata": {},
   "source": [
    "nesse caso, pode ser usado o método `discard()` que recebe o elementos que deseja apagar, porém se o elemento não pertence ao conjunto nada ocorre"
   ]
  },
  {
   "cell_type": "code",
   "execution_count": 24,
   "id": "8841e13e-e698-4e91-af7b-c6918064fdf3",
   "metadata": {},
   "outputs": [
    {
     "name": "stdout",
     "output_type": "stream",
     "text": [
      "{3}\n"
     ]
    }
   ],
   "source": [
    "a.discard(2)\n",
    "a.discard(1)\n",
    "print(a)"
   ]
  },
  {
   "cell_type": "markdown",
   "id": "ecb57e30-3662-4a96-aec9-7267bf5a5d93",
   "metadata": {},
   "source": [
    "se deseja apagar todos os elementos do conjunto use o método `clear()`"
   ]
  },
  {
   "cell_type": "code",
   "execution_count": 25,
   "id": "35b914c7-1f6c-43ea-aa79-4b8fa1cfebf2",
   "metadata": {},
   "outputs": [
    {
     "name": "stdout",
     "output_type": "stream",
     "text": [
      "set()\n"
     ]
    }
   ],
   "source": [
    "b.clear()\n",
    "print(b)"
   ]
  }
 ],
 "metadata": {
  "kernelspec": {
   "display_name": "Python 3 (ipykernel)",
   "language": "python",
   "name": "python3"
  },
  "language_info": {
   "codemirror_mode": {
    "name": "ipython",
    "version": 3
   },
   "file_extension": ".py",
   "mimetype": "text/x-python",
   "name": "python",
   "nbconvert_exporter": "python",
   "pygments_lexer": "ipython3",
   "version": "3.10.6"
  }
 },
 "nbformat": 4,
 "nbformat_minor": 5
}
