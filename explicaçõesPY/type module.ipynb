{
 "cells": [
  {
   "cell_type": "markdown",
   "id": "c749f652-6dcd-46df-99ed-31770424b341",
   "metadata": {},
   "source": [
    "## *Função Type*\n",
    "---"
   ]
  },
  {
   "cell_type": "markdown",
   "id": "ea13a3e0-8ae0-491b-b8fd-77fbdbc544e5",
   "metadata": {},
   "source": [
    "a função `type()` é usada para verificar o tipo, a classe de uma variável"
   ]
  },
  {
   "cell_type": "code",
   "execution_count": 1,
   "id": "2456d2b5-dc98-4219-86ed-b6fc27092c7c",
   "metadata": {},
   "outputs": [
    {
     "name": "stdout",
     "output_type": "stream",
     "text": [
      "<class 'int'>\n"
     ]
    }
   ],
   "source": [
    "a = 5\n",
    "print(type(a))"
   ]
  },
  {
   "cell_type": "markdown",
   "id": "1a9370fe-6ae2-45fe-b49d-7c2c54b43e7b",
   "metadata": {},
   "source": [
    "a função `isinstance()` recebe uma variável como primeiro parâmetro e, como segundo parâmetro, recebe um tipo em que esta variável será comparada e retorna `True` ou `False`"
   ]
  },
  {
   "cell_type": "code",
   "execution_count": 4,
   "id": "1bd643f8-0834-49f4-b6c0-78cf8757a6a8",
   "metadata": {},
   "outputs": [
    {
     "name": "stdout",
     "output_type": "stream",
     "text": [
      "False\n"
     ]
    }
   ],
   "source": [
    "print(isinstance(a, str))"
   ]
  },
  {
   "cell_type": "code",
   "execution_count": 5,
   "id": "e8df796a-d397-4a37-9f72-9a8013f59fb6",
   "metadata": {},
   "outputs": [
    {
     "name": "stdout",
     "output_type": "stream",
     "text": [
      "True\n"
     ]
    }
   ],
   "source": [
    "print(isinstance(a, int))"
   ]
  },
  {
   "cell_type": "markdown",
   "id": "c103a75a-433b-4176-a364-d910eff276c0",
   "metadata": {},
   "source": [
    "observe que `int` e `str` não são considerados `strings` quando passados como parâmetros de `isinstance()`, por isso não devem ser escritos entre parêntesis."
   ]
  },
  {
   "cell_type": "markdown",
   "id": "4e1ae3ee-5131-44f3-ae2b-c5a98b05c464",
   "metadata": {},
   "source": [
    "caso não funcione o `isinstance()` tente importar o módulo `types`:"
   ]
  },
  {
   "cell_type": "code",
   "execution_count": 7,
   "id": "3c861f02-8ce9-4c48-837c-1baf875b06ee",
   "metadata": {},
   "outputs": [],
   "source": [
    "import types"
   ]
  }
 ],
 "metadata": {
  "kernelspec": {
   "display_name": "Python 3 (ipykernel)",
   "language": "python",
   "name": "python3"
  },
  "language_info": {
   "codemirror_mode": {
    "name": "ipython",
    "version": 3
   },
   "file_extension": ".py",
   "mimetype": "text/x-python",
   "name": "python",
   "nbconvert_exporter": "python",
   "pygments_lexer": "ipython3",
   "version": "3.9.5"
  }
 },
 "nbformat": 4,
 "nbformat_minor": 5
}
