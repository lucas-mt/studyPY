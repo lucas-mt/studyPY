{
 "cells": [
  {
   "cell_type": "markdown",
   "id": "08c9f014-56ba-4f23-81ad-1127f35ae04e",
   "metadata": {},
   "source": [
    "## ***Um dicionário é um mapeamento***"
   ]
  },
  {
   "cell_type": "markdown",
   "id": "79145f3a-45bd-4d42-bcae-130b3d346d96",
   "metadata": {},
   "source": [
    "além da forma comum de fazer um dicionário, também é possível fazer um dicionário da seguinte forma:"
   ]
  },
  {
   "cell_type": "code",
   "execution_count": 12,
   "id": "385d4548-d07d-43d8-989a-5115fa0cbf1e",
   "metadata": {},
   "outputs": [
    {
     "name": "stdout",
     "output_type": "stream",
     "text": [
      "{'1º': ['valor1'], '2º': ['valor2'], '3º': ['etc']}\n"
     ]
    }
   ],
   "source": [
    "dict_exemplo = dict()\n",
    "dict_exemplo['1º'] = ['valor1']\n",
    "dict_exemplo['2º'] = ['valor2']\n",
    "dict_exemplo['3º'] = ['etc']\n",
    "print(dict_exemplo)"
   ]
  },
  {
   "cell_type": "markdown",
   "id": "fbbc728d-4df4-4883-bb70-f93dc161af97",
   "metadata": {},
   "source": [
    "A função ```len()``` funciona com dicionários e o operador ```in``` funciona com as chaves que são os índices do dicionário:"
   ]
  },
  {
   "cell_type": "code",
   "execution_count": 11,
   "id": "ca991dfe-a9ca-499f-b2b9-26fdc2c8d8b9",
   "metadata": {},
   "outputs": [
    {
     "name": "stdout",
     "output_type": "stream",
     "text": [
      "5\n"
     ]
    }
   ],
   "source": [
    "eng_jap = {'one': '一', 'two': '二', 'three': '三', 'tree': '木', 'book': 'ブック'}\n",
    "\n",
    "print(len(eng_jap))"
   ]
  },
  {
   "cell_type": "code",
   "execution_count": 7,
   "id": "d9614913-8c26-445b-ad9c-67a5bfb054a8",
   "metadata": {},
   "outputs": [
    {
     "name": "stdout",
     "output_type": "stream",
     "text": [
      "False\n"
     ]
    }
   ],
   "source": [
    "if 'mom' in eng_jap:\n",
    "    print(True)\n",
    "else:\n",
    "    print(False)"
   ]
  },
  {
   "cell_type": "markdown",
   "id": "788325ed-9a22-4a5b-b2cd-92991d72f2d1",
   "metadata": {},
   "source": [
    "porém ```in``` não funciona com os valores:"
   ]
  },
  {
   "cell_type": "code",
   "execution_count": 9,
   "id": "15264677-19b3-40b9-8abb-99601ba447e0",
   "metadata": {},
   "outputs": [
    {
     "name": "stdout",
     "output_type": "stream",
     "text": [
      "False\n"
     ]
    }
   ],
   "source": [
    "if '木' in eng_jap:\n",
    "    print(True)\n",
    "else:\n",
    "    print(False)"
   ]
  },
  {
   "cell_type": "markdown",
   "id": "aa4fabae-7afc-4cb6-92f6-8e1f1da8d574",
   "metadata": {},
   "source": [
    "para isso é necessário usar o método ```values()``` com o dicionário para que o operador ```in``` funcione desta forma:"
   ]
  },
  {
   "cell_type": "code",
   "execution_count": 10,
   "id": "12471cdd-28a7-400b-9558-abd85ebce672",
   "metadata": {},
   "outputs": [
    {
     "name": "stdout",
     "output_type": "stream",
     "text": [
      "True\n"
     ]
    }
   ],
   "source": [
    "vlr = eng_jap.values()\n",
    "\n",
    "if '木' in vlr:\n",
    "    print(True)\n",
    "else:\n",
    "    print(False)"
   ]
  },
  {
   "cell_type": "markdown",
   "id": "016ddcaa-28a7-41b0-8272-dc61193fcde8",
   "metadata": {},
   "source": [
    "## ***Loop e dicionário***"
   ]
  },
  {
   "cell_type": "markdown",
   "id": "b4c328dc-0fda-4fc8-bfa1-d8f39ff04195",
   "metadata": {},
   "source": [
    "o output de um dicionário nem sempre segue a mesma ordem da do input, mas para mostrar um dicionário em ordem crescente, pode ser usada a função ```sorted()```"
   ]
  },
  {
   "cell_type": "code",
   "execution_count": 47,
   "id": "2b0edad3-7a70-4fdb-984b-369bd8c4ca61",
   "metadata": {},
   "outputs": [
    {
     "name": "stdout",
     "output_type": "stream",
     "text": [
      "1º => ['valor1']\n",
      "2º => ['valor2']\n",
      "3º => ['etc']\n"
     ]
    }
   ],
   "source": [
    "for i in sorted(dict_exemplo):\n",
    "    print(i, '=>', dict_exemplo[i])"
   ]
  }
 ],
 "metadata": {
  "kernelspec": {
   "display_name": "Python 3",
   "language": "python",
   "name": "python3"
  },
  "language_info": {
   "codemirror_mode": {
    "name": "ipython",
    "version": 3
   },
   "file_extension": ".py",
   "mimetype": "text/x-python",
   "name": "python",
   "nbconvert_exporter": "python",
   "pygments_lexer": "ipython3",
   "version": "3.9.5"
  }
 },
 "nbformat": 4,
 "nbformat_minor": 5
}
