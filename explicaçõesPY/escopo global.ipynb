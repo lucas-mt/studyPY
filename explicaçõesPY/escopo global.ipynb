{
 "cells": [
  {
   "cell_type": "markdown",
   "id": "ae25f0d7-f3c9-4299-abe2-e9444012335b",
   "metadata": {},
   "source": [
    "## ***Global scope***\n",
    "---"
   ]
  },
  {
   "cell_type": "markdown",
   "id": "cff03cc3-92bb-4ad7-aa9b-4a338ca78bb9",
   "metadata": {},
   "source": [
    "o escopo global é aquele usado para que uma variável, mesmo pertencendo a um escopo local, tenha o mesmo valor em qualquer parte do códido"
   ]
  },
  {
   "cell_type": "code",
   "execution_count": 7,
   "id": "81be82bf-d8a0-4a25-90d9-0cf75677d019",
   "metadata": {},
   "outputs": [],
   "source": [
    "def função():\n",
    "    global n\n",
    "    n = 'hello, world!'\n",
    "    print(n)"
   ]
  },
  {
   "cell_type": "markdown",
   "id": "c74f106c-8c07-4f81-a961-8fc0e55e0fe4",
   "metadata": {},
   "source": [
    "assim, mesmo fora deste escopo local, a variável `n` sempre terá o valor de `hello, world!`"
   ]
  },
  {
   "cell_type": "markdown",
   "id": "37739b98-8adf-44ca-9bde-be8cb482ee2d",
   "metadata": {},
   "source": [
    "não muito aconselhável usar esta função do python."
   ]
  }
 ],
 "metadata": {
  "kernelspec": {
   "display_name": "Python 3 (ipykernel)",
   "language": "python",
   "name": "python3"
  },
  "language_info": {
   "codemirror_mode": {
    "name": "ipython",
    "version": 3
   },
   "file_extension": ".py",
   "mimetype": "text/x-python",
   "name": "python",
   "nbconvert_exporter": "python",
   "pygments_lexer": "ipython3",
   "version": "3.9.5"
  }
 },
 "nbformat": 4,
 "nbformat_minor": 5
}
