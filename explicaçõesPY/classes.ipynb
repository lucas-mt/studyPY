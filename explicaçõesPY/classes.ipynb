{
 "cells": [
  {
   "cell_type": "markdown",
   "id": "13b575d4-d467-4d61-b20c-b0a09684e4e3",
   "metadata": {},
   "source": [
    "## *Classes*\n",
    "---"
   ]
  },
  {
   "cell_type": "markdown",
   "id": "20913033-9c43-40c2-976f-ea538ea92926",
   "metadata": {},
   "source": [
    "uma classe é como o molde de uma chícara. Ao ser atribuída a uma variável, essa variável é como a chícara já pronta, que contém todas as suas funcionalidades, e usando o mesmo molde (a classe), podemos fabricar outras chícaras (variáveis), sem interferir na primeira"
   ]
  },
  {
   "cell_type": "markdown",
   "id": "d4a9382a-9170-48c8-851e-9f5421ce788e",
   "metadata": {},
   "source": [
    "usando como exemplo uma tv, que vai ter seu formado, sua marca, etc, em python fica sendo"
   ]
  },
  {
   "cell_type": "code",
   "execution_count": 1,
   "id": "90302286-5b6f-43db-9252-1492a0071e11",
   "metadata": {},
   "outputs": [],
   "source": [
    "class TV:\n",
    "    def __init__(self):\n",
    "        self.ligado = False\n",
    "        self.canal = 1"
   ]
  },
  {
   "cell_type": "markdown",
   "id": "d95bbb17-df20-4bcf-a994-0273284591e3",
   "metadata": {},
   "source": [
    "esse é o molde para qualquer tv, agora a tv de fato deve ser criada, o que seria"
   ]
  },
  {
   "cell_type": "code",
   "execution_count": 2,
   "id": "36a86255-4b84-4ee7-965f-e1faddc65b91",
   "metadata": {},
   "outputs": [],
   "source": [
    "tv_sala = TV()"
   ]
  },
  {
   "cell_type": "markdown",
   "id": "1a05247d-25b9-4f79-a866-784101de0de8",
   "metadata": {},
   "source": [
    "assim, podemos ver informações como, se está ligada e em qualquer canal"
   ]
  },
  {
   "cell_type": "code",
   "execution_count": 3,
   "id": "81f6211d-c1fd-4a25-a00f-e8c498609714",
   "metadata": {},
   "outputs": [
    {
     "name": "stdout",
     "output_type": "stream",
     "text": [
      "False\n"
     ]
    }
   ],
   "source": [
    "print(tv_sala.ligado)"
   ]
  },
  {
   "cell_type": "code",
   "execution_count": 4,
   "id": "bffdc13e-3e3e-4823-8719-37615850a79b",
   "metadata": {},
   "outputs": [
    {
     "name": "stdout",
     "output_type": "stream",
     "text": [
      "1\n"
     ]
    }
   ],
   "source": [
    "print(tv_sala.canal)"
   ]
  },
  {
   "cell_type": "markdown",
   "id": "69f83e08-c07f-4f70-b211-6a2dacaf38e1",
   "metadata": {},
   "source": [
    "observe que no molde (na classe), o objeto tv deve ser iniciado com a função `__init__()` que sempre receberá o `self` para representar a tv."
   ]
  },
  {
   "cell_type": "markdown",
   "id": "f137da1e-d558-4cfc-ad05-5b9064987f77",
   "metadata": {},
   "source": [
    "para ligar essa tv, devemos mudar o valor do método `self.ligado` de `False` para `True`"
   ]
  },
  {
   "cell_type": "code",
   "execution_count": 5,
   "id": "492cbe90-a047-4dc4-a6e8-9f063420ab42",
   "metadata": {},
   "outputs": [
    {
     "name": "stdout",
     "output_type": "stream",
     "text": [
      "True\n"
     ]
    }
   ],
   "source": [
    "tv_sala.ligado = True\n",
    "print(tv_sala.ligado)"
   ]
  },
  {
   "cell_type": "markdown",
   "id": "d7ff91e5-18d8-4f1d-abae-e758883dbc6c",
   "metadata": {},
   "source": [
    "e, agora, podemos mudar o canal"
   ]
  },
  {
   "cell_type": "code",
   "execution_count": 6,
   "id": "54da4ee2-92b7-4be6-946c-b57870c9d0a6",
   "metadata": {},
   "outputs": [
    {
     "name": "stdout",
     "output_type": "stream",
     "text": [
      "4\n"
     ]
    }
   ],
   "source": [
    "tv_sala.canal = 4\n",
    "print(tv_sala.canal)"
   ]
  },
  {
   "cell_type": "markdown",
   "id": "846c5de0-cd70-4621-a766-f0d5de935651",
   "metadata": {},
   "source": [
    "agora, podemos incrementar a classe acima para que seja possível mudar de canal e para limitar o número de canais, por exemplo"
   ]
  },
  {
   "cell_type": "code",
   "execution_count": 7,
   "id": "17379538-f1fb-4198-9947-cdc0130bd448",
   "metadata": {},
   "outputs": [],
   "source": [
    "class TV2:\n",
    "    def __init__(self, cmin, cmax):\n",
    "        self.ligado = False\n",
    "        self.canal = 0\n",
    "        self.cmin = cmin\n",
    "        self.cmax = cmax\n",
    "    def liga(self):\n",
    "        self.ligado = True\n",
    "        self.canal = 1\n",
    "    def cima(self):\n",
    "        if self.canal < self.cmax:\n",
    "            self.canal += 1\n",
    "        else:\n",
    "            self.canal = self.cmin\n",
    "    def baixo(self):\n",
    "        if self.canal > self.cmin:\n",
    "            self.canal -= 1\n",
    "        else:\n",
    "            self.canal = self.cmax\n",
    "    def desliga(self):\n",
    "        self.ligado = False\n",
    "        self.canal = 0"
   ]
  },
  {
   "cell_type": "markdown",
   "id": "52821797-2767-4b90-9869-b6f459e0af90",
   "metadata": {},
   "source": [
    "observe que a quantidade de canais foi limitade de 1 a 9; quando a tv está desligada, o canal marcado é o 0."
   ]
  },
  {
   "cell_type": "code",
   "execution_count": 8,
   "id": "fb2f41c1-ddcf-4d96-8420-6ab4f5d1857f",
   "metadata": {},
   "outputs": [
    {
     "name": "stdout",
     "output_type": "stream",
     "text": [
      "on: False\n",
      "channel: 0\n"
     ]
    }
   ],
   "source": [
    "tv = TV2(1, 9)\n",
    "print(f'on: {tv.ligado}\\nchannel: {tv.canal}')"
   ]
  },
  {
   "cell_type": "markdown",
   "id": "c6601858-e2bd-4733-ba94-b148e5419478",
   "metadata": {},
   "source": [
    "agora, vamos ligar a tv e verificar o canal"
   ]
  },
  {
   "cell_type": "code",
   "execution_count": 9,
   "id": "66dab8d6-4d00-4010-a4ca-4a031bdbe171",
   "metadata": {},
   "outputs": [
    {
     "name": "stdout",
     "output_type": "stream",
     "text": [
      "channel: 1\n"
     ]
    }
   ],
   "source": [
    "tv.liga()\n",
    "print(f'channel: {tv.canal}')"
   ]
  },
  {
   "cell_type": "markdown",
   "id": "6211583a-b4e2-41c7-b510-7cb905d5ceef",
   "metadata": {},
   "source": [
    "agora, mudando de canal, para baixo. como está limitado de 1 a 9 o número de canal, então, o próximo canal deve ser o 9"
   ]
  },
  {
   "cell_type": "code",
   "execution_count": 10,
   "id": "a80248a7-bf2f-49ba-aa6c-cc3394847cbf",
   "metadata": {},
   "outputs": [
    {
     "name": "stdout",
     "output_type": "stream",
     "text": [
      "channel: 9\n"
     ]
    }
   ],
   "source": [
    "tv.baixo()\n",
    "print(f'channel: {tv.canal}')"
   ]
  },
  {
   "cell_type": "markdown",
   "id": "5cfd0709-2e91-4d36-b8af-b2480f1a5d43",
   "metadata": {},
   "source": [
    "agora, mudando de canal mais uma vez, dessa vez para cima, deve voltar para o canal número 1"
   ]
  },
  {
   "cell_type": "code",
   "execution_count": 11,
   "id": "e92d3487-630c-4212-8997-388bf9d4d132",
   "metadata": {},
   "outputs": [
    {
     "name": "stdout",
     "output_type": "stream",
     "text": [
      "channel: 1\n"
     ]
    }
   ],
   "source": [
    "tv.cima()\n",
    "print(f'channel: {tv.canal}')"
   ]
  },
  {
   "cell_type": "markdown",
   "id": "32d8cd67-b631-40dc-b02d-ba03d1540adb",
   "metadata": {},
   "source": [
    "e, se mais um vez desligarmos a tv"
   ]
  },
  {
   "cell_type": "code",
   "execution_count": 12,
   "id": "1c6b4001-ea5c-49d4-a65a-f5b201cc7a03",
   "metadata": {},
   "outputs": [
    {
     "name": "stdout",
     "output_type": "stream",
     "text": [
      "on: False\n",
      "channel: 0\n"
     ]
    }
   ],
   "source": [
    "tv.desliga()\n",
    "print(f'on: {tv.ligado}\\nchannel: {tv.canal}')"
   ]
  },
  {
   "cell_type": "markdown",
   "id": "2781f6aa-dfd9-461f-9b4c-338ce31e8022",
   "metadata": {},
   "source": [
    "as configurações voltam para as iniciais."
   ]
  },
  {
   "cell_type": "markdown",
   "id": "97ef40ff-8578-4d6e-9161-0e902d716880",
   "metadata": {},
   "source": [
    "#### Herança\n",
    "---"
   ]
  },
  {
   "cell_type": "markdown",
   "id": "b14f9310-1bb3-4824-a1c9-3bc6f88325d7",
   "metadata": {},
   "source": [
    "pode-se ser usada uma classe já existente para criar uma nova que conterá todas as funcionalidades daquela podendo incluir novas ou modificar as já existente"
   ]
  },
  {
   "cell_type": "code",
   "execution_count": 13,
   "id": "83da9cc3-9d53-40a9-bf8f-371664649a57",
   "metadata": {},
   "outputs": [],
   "source": [
    "class TVturbo(TV2):\n",
    "    def __init__(self, cmin, cmax, v):\n",
    "        TV2.__init__(self, cmin, cmax)\n",
    "        self. volume = v\n",
    "    def aumenta(self):\n",
    "        if self.volume <100 and self.ligado == True:\n",
    "            self.volume +=1\n",
    "    def diminui(self):\n",
    "        if self.volume>1 and self.ligado == True:\n",
    "            self.volume-=1"
   ]
  },
  {
   "cell_type": "markdown",
   "id": "36b2f2e8-6c1f-42c0-b9e4-1581d35f898b",
   "metadata": {},
   "source": [
    "observe que a classe `TVturbo` recebe como \"parâmetro\" a classe que ela vai herdar, nesse caso, `TV2`"
   ]
  },
  {
   "cell_type": "markdown",
   "id": "1de4049e-3bad-4c25-a05a-2dac0148abf2",
   "metadata": {},
   "source": [
    "observe também que no inicializador de `TVturbo` (`__init__()`), foi iniciado a classe anterior com o `TV2.init()`"
   ]
  },
  {
   "cell_type": "markdown",
   "id": "9c6fb243-d644-4bf6-81f6-93f850d73507",
   "metadata": {},
   "source": [
    "desta forma, `TVturbo` tem todas as funcionalidade de `TV2` e ainda foi acrescentada a possibilidade de aumentar e diminuir o volume, com valores fixos de 1 a 100"
   ]
  },
  {
   "cell_type": "markdown",
   "id": "b235a8b5-0b16-4290-8637-c68c0ef962df",
   "metadata": {},
   "source": [
    "observe ainda que todos parâmetros que `TV2` precisa receber, `cmin` e `cmax`, `TVturbo` também precisará receber, e, só então, poderá ser passados outros parâmetros, como o `v`"
   ]
  },
  {
   "cell_type": "markdown",
   "id": "8be558ad-9173-444b-9499-7fdf2721b3d6",
   "metadata": {},
   "source": [
    "para mudar qualquer função que já exista em `TV2`, basta criar em `TVturbo` uma função de mesmo nome, que será atualizada sua forma de usar."
   ]
  },
  {
   "cell_type": "code",
   "execution_count": 14,
   "id": "2f184644-243d-43ed-81cc-6ac758a4b35a",
   "metadata": {},
   "outputs": [
    {
     "name": "stdout",
     "output_type": "stream",
     "text": [
      "on: False\n",
      "channel: 0\n",
      "volume: 25\n"
     ]
    }
   ],
   "source": [
    "superTV = TVturbo(1, 10, 25)\n",
    "print(f'on: {superTV.ligado}\\nchannel: {superTV.canal}\\nvolume: {superTV.volume}')"
   ]
  },
  {
   "cell_type": "markdown",
   "id": "bd09ee69-befe-485b-9790-748c04cbb188",
   "metadata": {},
   "source": [
    "veja que só é possível aumentar o volume se a tv estiver ligada, vamos verificar"
   ]
  },
  {
   "cell_type": "code",
   "execution_count": 15,
   "id": "d00a6e8e-0371-4a7e-b6fd-bc949d109440",
   "metadata": {},
   "outputs": [
    {
     "name": "stdout",
     "output_type": "stream",
     "text": [
      "volume: 25\n"
     ]
    }
   ],
   "source": [
    "superTV.aumenta()\n",
    "print(f'volume: {superTV.volume}')"
   ]
  },
  {
   "cell_type": "markdown",
   "id": "a83bbfd7-35fd-4733-8abc-f053ae276a46",
   "metadata": {},
   "source": [
    "de fato, não aumentou, vamos ligar agora e tentar mudar de canal e aumentar o volume"
   ]
  },
  {
   "cell_type": "code",
   "execution_count": 16,
   "id": "08076e60-070a-4cee-b649-9f6272dd0d8e",
   "metadata": {},
   "outputs": [
    {
     "name": "stdout",
     "output_type": "stream",
     "text": [
      "on: True\n",
      "channel: 1\n",
      "volume: 25\n"
     ]
    }
   ],
   "source": [
    "superTV.liga()\n",
    "print(f'on: {superTV.ligado}\\nchannel: {superTV.canal}\\nvolume: {superTV.volume}')"
   ]
  },
  {
   "cell_type": "code",
   "execution_count": 17,
   "id": "d8412ffa-cfb9-4828-89b6-3cff942f8042",
   "metadata": {},
   "outputs": [
    {
     "name": "stdout",
     "output_type": "stream",
     "text": [
      "channel: 10\n",
      "volume: 26\n"
     ]
    }
   ],
   "source": [
    "superTV.baixo()\n",
    "superTV.aumenta()\n",
    "print(f'channel: {superTV.canal}\\nvolume: {superTV.volume}')"
   ]
  },
  {
   "cell_type": "markdown",
   "id": "1183cd67-0202-4b37-96a3-4cc84d4de9b8",
   "metadata": {},
   "source": [
    "verifique que agora que a tv está ligada, o volume aumentou, e como já estava no canal 1 e foi mudado para baixo, o canal foi para o 10, que foram os limites estabelecidos acima"
   ]
  },
  {
   "cell_type": "markdown",
   "id": "eda645ee-5db1-46cc-875e-981a2d226d17",
   "metadata": {},
   "source": [
    "#### Dunders ou Magic Methods\n",
    "---"
   ]
  },
  {
   "cell_type": "markdown",
   "id": "8a03b1ab-f3f3-4051-8a2d-b45fb15d49d9",
   "metadata": {},
   "source": [
    "Dunders ou magic methods são usados para verificação de uma classe. Pois, classes não são como listas ou strings, não podemos usar funções como `len()` para medir o tamanho de uma classe, nem iterar classes. veja o exemplo"
   ]
  },
  {
   "cell_type": "code",
   "execution_count": 18,
   "id": "3c92ed74-990a-4ffd-b3d5-a19a80bf41dc",
   "metadata": {},
   "outputs": [],
   "source": [
    "class ListaUnica:\n",
    "    def __init__(self, elem_class):\n",
    "        self.lista = []\n",
    "        self.elem_class = elem_class\n",
    "    def __len__(self):\n",
    "        return len(self.lista)\n",
    "    def __iter__(self):\n",
    "        return iter(self.lista)\n",
    "    def __getitem__(self, posição):\n",
    "        return self.list[posição]\n",
    "    def ValIndex(self, i):\n",
    "        return i>=0 and i<len(self.lista)\n",
    "    def add(self, elem):\n",
    "        if self.pesquisa(elem) == -1:\n",
    "            self.lista.append(elem)\n",
    "    def remove(self, elem):\n",
    "        self.lista.remove(elem)\n",
    "    def pesquisa(self, elem):\n",
    "        self.verifica_tipo(elem)\n",
    "        try:\n",
    "            return self.lista.index(elem)\n",
    "        except ValueError:\n",
    "            return -1\n",
    "    def verifica_tipo(self, elem):\n",
    "        if not isinstance(elem, self.elem__class):\n",
    "            raise TypeError('tipo inválido!')\n",
    "    def ordena(self, chave=None):\n",
    "        self.lista.sort(key=chave)"
   ]
  },
  {
   "cell_type": "markdown",
   "id": "f0240a8b-f61a-41e4-b3a9-4dd96f88c7f1",
   "metadata": {},
   "source": [
    "essa classe trabalha com listas, por isso, de vez enquando é necessário ver o tamaho da lista, iterar essa lista ou até mesmo pegar algum elemento que faça parte da lista, por esses motivos foram usados os dunders `__len__`, `__iter__` and `__getitem__`, respectivamente"
   ]
  },
  {
   "cell_type": "markdown",
   "id": "64241c4e-e2ca-4a56-bde5-ed9dc5d705ac",
   "metadata": {},
   "source": [
    "na linha dois, o usuário pode indicar qual o tipo de variável que se deseja usar nessa lista, isto é:\n",
    "```\n",
    "var = ListaUnica(int)\n",
    "```\n",
    "se for passado qualquer valor para `var` que não seja inteiro, pela verificação da função `verifica_tipo()`, não será aceito"
   ]
  },
  {
   "cell_type": "markdown",
   "id": "75db26a2-38f1-446a-abb5-22e05ae9a48b",
   "metadata": {},
   "source": [
    "pela função `add()`, é verifica se já existe o valor passado pelo usuário na lista, que só será adicionário caso não esteja nela, para evitar repetições"
   ]
  },
  {
   "cell_type": "markdown",
   "id": "93c7297e-8823-47f3-8e5f-e31cd01f5cf3",
   "metadata": {},
   "source": [
    "além desse dunders, há muitos outros; na tabela, alguns dos principais"
   ]
  },
  {
   "cell_type": "markdown",
   "id": "5572087c-da57-46d8-9fb4-51531f088056",
   "metadata": {},
   "source": [
    "dunder|função\n",
    "---|---\n",
    "\\_\\_new\\_\\_(self)|retorna um novo objeto (uma instância da classe). é chamado antes de \\_\\_init\\_\\_\n",
    "\\_\\_del\\_\\_(self)|para a função del(). Chamado quando o objeto deve ser destruído. Pode ser usado para confirmar dados não salvos ou fechar conexões\n",
    "\\_\\_repr\\_\\_(self)|para a função repr(). Ele retorna uma string para imprimir o objeto. Destinado a desenvolvedores para depuração. Deve ser implementado em qualquer classe\n",
    "\\_\\_str\\_\\_(self)|para a função str(). Retorne uma string para imprimir o objeto. Destina-se a que os usuários vejam uma saída bonita e útil. Se não implementado, \\_\\_repr\\_\\_ será usado como um fallback\n",
    "\\_\\_bytes\\_\\_(self)|para a função bytes(). Retorna um objeto de byte que é a representação de string de byte do objeto\n",
    "\\_\\_format\\_\\_(self)|para a função format(). Avalie literais de string formatados como \\% para formato de porcentagem e 'b' para binário\n",
    "\\_\\_lt\\_\\_(self, anotherObj)|para o operador <\n",
    "\\_\\_le\\_\\_(self, anotherObj)|para o operador <=\n",
    "\\_\\_eq\\_\\_(self, anotherObj)|para o operador ==\n",
    "\\_\\_ne\\_\\_(self, anotherObj)|para o operador !=\n",
    "\\_\\_gt\\_\\_(self, anotherObj)|para o operador >\n",
    "\\_\\_ge\\_\\_(self, anotherObj)|para o operador >=\n",
    "\\_\\_add\\_\\_(self, anotherObj)|para o operador +\n",
    "\\_\\_sub\\_\\_(self, anotherObj)|para o operador - em objetos\n",
    "\\_\\_mul\\_\\_(self, anotherObj)|para o operador * em objetos\n",
    "\\_\\_matmul\\_\\_(self, anotherObj)|para o operador @ (multiplicação de matrizes do numpy)\n",
    "\\_\\_truediv\\_\\_(self, anotherObj)|para o operador / em objetos\n",
    "\\_\\_floordiv\\_\\_(self, anotherObj)|para o operador // em objetos\n",
    "\\_\\_abs\\_\\_(self)|faz suporte para a função abs(). Retorna o valor absoluto\n",
    "\\_\\_int\\_\\_(self)|suporte para a função int(). Retorna o valor inteiro do objeto\n",
    "\\_\\_float\\_\\_(self)|para suporte à função float(). Retorna o equivalente flutuante do objeto\n",
    "\\_\\_complex\\_\\_(self)|para suporte à função complex(). Retorna a representação de valor complexo do objeto\n",
    "\\_\\_round\\_\\_(self, nDigits)|para a função round(). Arredonda o tipo float para 2 dígitos e retorna-o\n",
    "\\_\\_trunc\\_\\_(self)|para a função trunc() do módulo matemático. Retorna o valor real do objeto\n",
    "\\_\\_ceil\\_\\_(self)|para a função ceil() do módulo matemático. A função ceil Retorna o valor máximo do objeto\n",
    "\\_\\_floor\\_\\_(self)|para a função floor() do módulo matemático. Retorna o valor mínimo do objeto\n",
    "\\_\\_setitem\\_\\_(self, key, value)|torna o item mutável (os itens podem ser alterados pelo índice), como container\\[index\\]= otherElement\n",
    "\\_\\_delitem\\_\\_(self, key)|para a função del(). Exclua o valor da chave de índice"
   ]
  },
  {
   "cell_type": "markdown",
   "id": "340af4e3-6c71-4a4f-90de-da77494e6c44",
   "metadata": {},
   "source": [
    "#### Super()\n",
    "---"
   ]
  },
  {
   "cell_type": "markdown",
   "id": "c989443e-2541-42f6-abd5-26b3d373310e",
   "metadata": {},
   "source": [
    "é uma funcionalidade usada quando uma classe herda os atributos e comportamentos de outras classe. P.Ex.:"
   ]
  },
  {
   "cell_type": "code",
   "execution_count": 19,
   "id": "44f62180-a963-46c4-ad22-449564791f1c",
   "metadata": {},
   "outputs": [],
   "source": [
    "class Retângulo:\n",
    "    def __init__(self, altura, largura):\n",
    "        self.alt = altura\n",
    "        self.lar = largura\n",
    "    def área(self):\n",
    "        return self.alt*self.lar\n",
    "    def perímetro(self):\n",
    "        return 2*self.alt+2*self.lar"
   ]
  },
  {
   "cell_type": "markdown",
   "id": "8941d408-ef58-4d46-a443-008789bf9489",
   "metadata": {},
   "source": [
    "a classe `Retângulo` recebe a altura e largura de um retângulo e, assim, pode mostrar sua área e perímetro."
   ]
  },
  {
   "cell_type": "markdown",
   "id": "4729313f-a6cd-4c0b-b909-ed245d07ba15",
   "metadata": {},
   "source": [
    "porém, como um quadrado, apesar de ser retângulo, possui altura e largura iguais, pode-se criar uma nova classe `Quadrado` herdando todos os métodos da classe `retângulo`, apenas ajustando para a atual situação. para isto, será usado o super. observe:"
   ]
  },
  {
   "cell_type": "code",
   "execution_count": 20,
   "id": "d2784995-d4d0-4b3e-adcc-f708c21debe4",
   "metadata": {},
   "outputs": [],
   "source": [
    "class Quadrado(Retângulo):\n",
    "    def __init__(self, altura):\n",
    "        super().__init__(altura, altura)"
   ]
  },
  {
   "cell_type": "markdown",
   "id": "d066faa3-4e97-4f32-b30a-a134b15a67b0",
   "metadata": {},
   "source": [
    "agora, a área e o perímetro de um quadrado pode ser calculado utilizando os método da classe `Retângulo` através da classe herdeira `Quadrado` sem ter que reescrever o código daquela nesta."
   ]
  },
  {
   "cell_type": "code",
   "execution_count": 21,
   "id": "63331583-712c-4edd-9866-cebe934db0b1",
   "metadata": {},
   "outputs": [
    {
     "name": "stdout",
     "output_type": "stream",
     "text": [
      "retângulo de altura 2m e largura 3m tem área de 6m² e perímetro de 10m\n",
      "quadrado de lado 5m tem área de 25m² e perímetro de 20m\n"
     ]
    }
   ],
   "source": [
    "ret = Retângulo(2, 3)\n",
    "print(f'retângulo de altura {ret.alt}m e largura {ret.lar}m tem área de {ret.área()}m² e perímetro de {ret.perímetro()}m')\n",
    "qua = Quadrado(5)\n",
    "print(f'quadrado de lado {qua.alt}m tem área de {qua.área()}m² e perímetro de {qua.perímetro()}m')"
   ]
  },
  {
   "cell_type": "markdown",
   "id": "4f8467c8-c8ea-4446-b188-49ffb80714a6",
   "metadata": {},
   "source": [
    "observe que, como `super` é uma funcionalidade de herança, a classe pai tem que ser passada para a classe filha normalmente como \"parâmetro\" e, no `__init__` que segue o super, não é necessário passar `self` como parâmetro, pois já é preenchido automaticamente. E, assim como ocorre na herança convencional, aqui na classe filha pode ser acrescentado novos métodos e funcionalidade, por exemplo:"
   ]
  },
  {
   "cell_type": "code",
   "execution_count": 22,
   "id": "2cbbc479-931f-44a7-9619-beefd2a99063",
   "metadata": {},
   "outputs": [],
   "source": [
    "class Quadrado(Retângulo):\n",
    "    def __init__(self, lado):\n",
    "        super().__init__(lado, lado)\n",
    "    def diagonal(self):\n",
    "        return self.alt*(2**(1/2))"
   ]
  },
  {
   "cell_type": "markdown",
   "id": "cc5c28e5-2c11-4a6e-99d9-ac783b63f636",
   "metadata": {},
   "source": [
    "agora, além do cálculo da área e do perímetro serem calculadas por esta classe `Quadrado` ao herdar da classe `Retângulo`, ela aind pode calcular a diagonal de um quadrado, um método que não existia na classe pai."
   ]
  },
  {
   "cell_type": "code",
   "execution_count": 23,
   "id": "5574cd5c-98ab-4991-bab7-2f7ef2166ea9",
   "metadata": {},
   "outputs": [
    {
     "name": "stdout",
     "output_type": "stream",
     "text": [
      "quadrado de lado 5m tem área de 25m², perímetro de 20m e diagonal de 7.0710678118654755m\n"
     ]
    }
   ],
   "source": [
    "qua = Quadrado(5)\n",
    "print(f'quadrado de lado {qua.alt}m tem área de {qua.área()}m², perímetro de {qua.perímetro()}m e diagonal de {qua.diagonal()}m')"
   ]
  },
  {
   "cell_type": "markdown",
   "id": "d6abfe12-fd3e-4a43-bf2f-c5c8e290b73d",
   "metadata": {},
   "source": [
    "com o `super` é possível herdar apenas uma funcionalidade desejada e não todas, por exemplo:"
   ]
  },
  {
   "cell_type": "code",
   "execution_count": 24,
   "id": "34031ea2-b3b9-4fe4-93bd-5b26f7e925a2",
   "metadata": {},
   "outputs": [],
   "source": [
    "class Cubo(Quadrado):\n",
    "    def área_super(self):\n",
    "        face_área = super().área()\n",
    "        return face_área*6"
   ]
  },
  {
   "cell_type": "markdown",
   "id": "203d5e00-040d-492a-96c6-78ad3c63d592",
   "metadata": {},
   "source": [
    "agora, nesta classe `Cubo`, consegue-se usar apenas a informação vindo do método `área()` para calcular a área superficial de um cubo:"
   ]
  },
  {
   "cell_type": "code",
   "execution_count": 25,
   "id": "9c242ce4-452c-4ffa-ac0f-cf5d3b7880d3",
   "metadata": {},
   "outputs": [
    {
     "name": "stdout",
     "output_type": "stream",
     "text": [
      "cubo tem área superficial de 216m\n"
     ]
    }
   ],
   "source": [
    "cb = Cubo(6)\n",
    "print(f'cubo tem área superficial de {cb.área_super()}m')"
   ]
  },
  {
   "cell_type": "markdown",
   "id": "4b2ef76a-8de3-47c4-9849-b8a8dd95f7a4",
   "metadata": {},
   "source": [
    "perceba que não foi usado o `__init__` pois na classe filha `Quadrado` já o é iniciado e, aqui, `__init__` não receberá novas funcionalidades"
   ]
  },
  {
   "cell_type": "markdown",
   "id": "53eaa624-e8c5-4e5d-bdac-c416a112acfa",
   "metadata": {},
   "source": [
    "a herança e o super são bem semelhantes em seus usos, mas o super simplifica um pouco mais o processo e até mesmo ajuda a, caso seja necessário mudar a classe de herança, não seja necessário reescrever o código inteiro com o nome da nova classe."
   ]
  },
  {
   "cell_type": "markdown",
   "id": "50ad50e3-9fb7-4dc6-8416-ac02ceec2916",
   "metadata": {},
   "source": [
    "#### atribuindo duas classes a um mesmo objeto\n",
    "---"
   ]
  },
  {
   "cell_type": "markdown",
   "id": "83376266-9233-4c42-bb21-8b599ffc7cc4",
   "metadata": {},
   "source": [
    "é possível atribuir duas classes a um mesmo objeto da seguinte forma"
   ]
  },
  {
   "cell_type": "code",
   "execution_count": 26,
   "id": "873d53d1-97ca-46f8-8bd0-88216b52e1ca",
   "metadata": {},
   "outputs": [
    {
     "name": "stdout",
     "output_type": "stream",
     "text": [
      "(50.0, 100.0)\n"
     ]
    }
   ],
   "source": [
    "class Coordenada:\n",
    "    def __init__(self, x, y):\n",
    "        self.x = x\n",
    "        self.y = y\n",
    "\n",
    "class Quadrado:\n",
    "    def __init__(self, lar, alt):\n",
    "        self.l = lar\n",
    "        self.h = alt\n",
    "    def centro(self):\n",
    "        return (self.vértice.x + (self.l/2), self.vértice.y + (self.h/2))\n",
    "\n",
    "box = Quadrado(100, 200)\n",
    "box.vértice = Coordenada(0, 0)\n",
    "print(box.centro())"
   ]
  },
  {
   "cell_type": "markdown",
   "id": "e80924bb-c18f-4a16-aa57-cbb7c9fc5850",
   "metadata": {},
   "source": [
    "observe que à variável `box` foi atribuído as duas classes existentes `Coordenada` e `Quadrado`, e isso foi possível pois, ao ser atribuído a outra classe, no exemplo, `Coordenada`, foi usado um novo \"nome\" para a variável `box` ao incluir `.vértice` nele"
   ]
  },
  {
   "cell_type": "markdown",
   "id": "b235d2d2-7182-4a08-a291-579ba957b082",
   "metadata": {},
   "source": [
    "note, também, que é possível usar este novo \"nome\" da variável dentro da outra classe, ao ser passado o código `self.vértice.x`, por exemplo. O que este código quer dizer é \"vá ao objeto ao qual `box` se refere e selecione o atributo denominado `vértice`; então vá a este objeto e selecione o atributo denominado `x`.\""
   ]
  },
  {
   "cell_type": "markdown",
   "id": "bba93f7a-3a75-450c-b2be-1a7eda5e10a0",
   "metadata": {},
   "source": [
    "ainda é possível, também, modificar o valor atribuído ao novo \"nome\" da variável:"
   ]
  },
  {
   "cell_type": "code",
   "execution_count": 27,
   "id": "0c69455b-ce9d-45e1-b481-b45e29597319",
   "metadata": {},
   "outputs": [
    {
     "name": "stdout",
     "output_type": "stream",
     "text": [
      "(52.0, 103.0)\n"
     ]
    }
   ],
   "source": [
    "class Coordenada:\n",
    "    def __init__(self, x, y):\n",
    "        self.x = x\n",
    "        self.y = y\n",
    "\n",
    "class Quadrado:\n",
    "    def __init__(self, lar, alt):\n",
    "        self.l = lar\n",
    "        self.h = alt\n",
    "    def centro(self):\n",
    "        return (self.vértice.x + (self.l/2), self.vértice.y + (self.h/2))\n",
    "    def move(self, dx, dy):\n",
    "        self.vértice.x += dx\n",
    "        self.vértice.y += dy\n",
    "        return self.vértice.x, self.vértice.y\n",
    "\n",
    "box = Quadrado(100, 200)\n",
    "box.vértice = Coordenada(0, 0)\n",
    "box.move(2, 3)\n",
    "print(box.centro())"
   ]
  },
  {
   "cell_type": "markdown",
   "id": "024a8477-2143-4ee9-8b8c-c9747eef506b",
   "metadata": {},
   "source": [
    "veja que todas os valores passados para `box` foram os mesmos do exemplo anterior, mas foi possível mudar o vértice da caixa do lugar ao fazer esta modificação."
   ]
  },
  {
   "cell_type": "markdown",
   "id": "6f93ef64-ce89-4266-9650-27801362691a",
   "metadata": {},
   "source": [
    "#### verificando os atributos existentes em uma classe\n",
    "---"
   ]
  },
  {
   "cell_type": "markdown",
   "id": "21110e37-2b2f-4590-b94f-26b8eac49fe1",
   "metadata": {},
   "source": [
    "pode ser usado a função `hasattr(<classe>, '<atributo>')` onde deve ser passado o nome da classe e o nome do atributo que se deseja verificar a existência entre aspas simples:"
   ]
  },
  {
   "cell_type": "code",
   "execution_count": 28,
   "id": "9b9b0bf1-7719-47b6-8052-b8bb836c604d",
   "metadata": {},
   "outputs": [
    {
     "name": "stdout",
     "output_type": "stream",
     "text": [
      "True\n",
      "False\n"
     ]
    }
   ],
   "source": [
    "print(hasattr(Quadrado, 'centro'))\n",
    "print(hasattr(Quadrado, 'área'))"
   ]
  },
  {
   "cell_type": "markdown",
   "id": "7a888faa-0578-419c-8e1c-3b4432263713",
   "metadata": {},
   "source": [
    "outra forma de verificar quais os atributos e os valores dados a estes de classe é usando a função `vars(<objeto>)` "
   ]
  },
  {
   "cell_type": "code",
   "execution_count": 32,
   "id": "d44e5c2f-152b-4401-8ab8-d734758b2267",
   "metadata": {},
   "outputs": [
    {
     "name": "stdout",
     "output_type": "stream",
     "text": [
      "{'l': 100, 'h': 200, 'vértice': <__main__.Coordenada object at 0x0000026AC702FB80>}\n"
     ]
    }
   ],
   "source": [
    "print(vars(box))"
   ]
  },
  {
   "cell_type": "markdown",
   "id": "883592b4-ef0a-40f5-afba-bcbb113aa13b",
   "metadata": {},
   "source": [
    "já, o método `getattr()` recebe um objeto e um valor e retorna o atributo deste objeto que recebeu este valor. "
   ]
  },
  {
   "cell_type": "code",
   "execution_count": 37,
   "id": "3ca0d02b-72de-4502-b19a-649bf3e6bd9e",
   "metadata": {},
   "outputs": [
    {
     "ename": "AttributeError",
     "evalue": "'Quadrado' object has no attribute '(100, 200)'",
     "output_type": "error",
     "traceback": [
      "\u001b[1;31m---------------------------------------------------------------------------\u001b[0m",
      "\u001b[1;31mAttributeError\u001b[0m                            Traceback (most recent call last)",
      "Cell \u001b[1;32mIn [37], line 1\u001b[0m\n\u001b[1;32m----> 1\u001b[0m \u001b[38;5;28mprint\u001b[39m(\u001b[38;5;28;43mgetattr\u001b[39;49m\u001b[43m(\u001b[49m\u001b[43mbox\u001b[49m\u001b[43m,\u001b[49m\u001b[43m \u001b[49m\u001b[38;5;124;43m'\u001b[39;49m\u001b[38;5;124;43m(100, 200)\u001b[39;49m\u001b[38;5;124;43m'\u001b[39;49m\u001b[43m)\u001b[49m)\n",
      "\u001b[1;31mAttributeError\u001b[0m: 'Quadrado' object has no attribute '(100, 200)'"
     ]
    }
   ],
   "source": [
    "print(getattr(box, '(100, 200)'))"
   ]
  },
  {
   "cell_type": "markdown",
   "id": "cc04712d-3823-4db7-a6e8-8b98e5964d8c",
   "metadata": {},
   "source": [
    "#### comparando duas variáveis da mesma classe\n",
    "---"
   ]
  },
  {
   "cell_type": "markdown",
   "id": "8852b640-c8e9-4945-b1ed-28664deadb3d",
   "metadata": {},
   "source": [
    "supondo a classe:"
   ]
  },
  {
   "cell_type": "code",
   "execution_count": 29,
   "id": "597192a0-d92c-4ee3-b864-c59e4b1e98eb",
   "metadata": {},
   "outputs": [],
   "source": [
    "class Val:\n",
    "    def __init__(self, val):\n",
    "        self.val = val\n",
    "    def compara(self, other):\n",
    "        return self.val < other.val"
   ]
  },
  {
   "cell_type": "markdown",
   "id": "060d9d09-0917-4467-b814-6650db2e2c46",
   "metadata": {},
   "source": [
    "ao atribuir duas variáveis diferentes a essa mesma classe, é possível chamar as atribuições de uma dentro da outra, como ocorre no método `compara`"
   ]
  },
  {
   "cell_type": "code",
   "execution_count": 30,
   "id": "bba1f71f-494d-406d-8a78-24b71ba60342",
   "metadata": {},
   "outputs": [
    {
     "name": "stdout",
     "output_type": "stream",
     "text": [
      "True\n"
     ]
    }
   ],
   "source": [
    "v1 = Val(3); v2 = Val(4)\n",
    "print(v1.compara(v2))"
   ]
  },
  {
   "cell_type": "markdown",
   "id": "3c059be1-802d-4db1-ab8a-94ad88a1294e",
   "metadata": {},
   "source": [
    "no exemplo, como a variável `v1` recebe um valor menor que a variável `v2`, que é a que ela está se comparando, o método `compara` retorna `True` pois o próprio `v1` é menor que `v2`."
   ]
  }
 ],
 "metadata": {
  "kernelspec": {
   "display_name": "Python 3 (ipykernel)",
   "language": "python",
   "name": "python3"
  },
  "language_info": {
   "codemirror_mode": {
    "name": "ipython",
    "version": 3
   },
   "file_extension": ".py",
   "mimetype": "text/x-python",
   "name": "python",
   "nbconvert_exporter": "python",
   "pygments_lexer": "ipython3",
   "version": "3.9.5"
  }
 },
 "nbformat": 4,
 "nbformat_minor": 5
}
