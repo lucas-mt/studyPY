{
 "cells": [
  {
   "cell_type": "markdown",
   "id": "53540879-9efd-4350-bf69-d80998b1da6a",
   "metadata": {},
   "source": [
    "## *Um pouco sobre o tempo com o módulo Datetime*\n",
    "---"
   ]
  },
  {
   "cell_type": "code",
   "execution_count": 1,
   "id": "7d273b2d-68d2-4476-8829-12d9f88a53d9",
   "metadata": {},
   "outputs": [],
   "source": [
    "import datetime"
   ]
  },
  {
   "cell_type": "markdown",
   "id": "2dec88a3-9011-410b-8852-22082a302c1d",
   "metadata": {},
   "source": [
    "a função `datetime.datetime.now()` funciona para informar a data e hora atual do computador"
   ]
  },
  {
   "cell_type": "code",
   "execution_count": 2,
   "id": "0afb98f5-6866-448b-bf41-e4c965b0615d",
   "metadata": {},
   "outputs": [
    {
     "name": "stdout",
     "output_type": "stream",
     "text": [
      "2021-07-10 10:28:07.113379\n"
     ]
    }
   ],
   "source": [
    "print(datetime.datetime.now())"
   ]
  },
  {
   "cell_type": "markdown",
   "id": "8395ba97-94f5-4772-91e4-a79c9d53d78b",
   "metadata": {},
   "source": [
    "podemos usar o método `strftime()` para manipular a apresentação da função acima segundo a tabela"
   ]
  },
  {
   "cell_type": "markdown",
   "id": "c5be1735-eea5-40d6-8f24-2dd0f330b660",
   "metadata": {},
   "source": [
    "código|descrição\n",
    "---|---\n",
    "%a|dia da semana abreviado\n",
    "%A|dia da semana completo\n",
    "%b|mês abreviado\n",
    "%B|mês completo\n",
    "%c|data e hora conforme configuração regional\n",
    "%d|dia do mês\n",
    "%H|hora no formato 24h\n",
    "%I|hora no formato 12h\n",
    "%j|dia do ano\n",
    "%m|número do mês\n",
    "%M|minutos\n",
    "%p|AM ou PM\n",
    "%S|segundos\n",
    "%U|número da semana, a partir de domingo\n",
    "%w|dia da semana, onde 0 é o Domingo\n",
    "%W|número da semana, a partir de segunda\n",
    "%x|representação regional da data\n",
    "%X|representação regional da hora\n",
    "%y|ano\n",
    "%Y|ano com 4 dígitos\n",
    "%Z|nome do fuso-horário"
   ]
  },
  {
   "cell_type": "markdown",
   "id": "99e11bb0-8a7e-4ab1-99f4-aff35e08eb9f",
   "metadata": {},
   "source": [
    "os exemplos mostram como devem ser usados"
   ]
  },
  {
   "cell_type": "code",
   "execution_count": 3,
   "id": "3f17a94a-79ee-426a-ad6b-5785eb53bd70",
   "metadata": {},
   "outputs": [
    {
     "name": "stdout",
     "output_type": "stream",
     "text": [
      "10:28:07AM\n"
     ]
    }
   ],
   "source": [
    "agora = datetime.datetime.now()\n",
    "print(agora.strftime('%I:%M:%S%p'))"
   ]
  },
  {
   "cell_type": "markdown",
   "id": "089f89bd-fb28-4ac6-814e-f4a7b9007561",
   "metadata": {},
   "source": [
    "para mostrar a data atual, use a função `datetime.date.today()`"
   ]
  },
  {
   "cell_type": "code",
   "execution_count": 4,
   "id": "92ee3736-473f-4679-ae2f-6c6392abfc62",
   "metadata": {},
   "outputs": [
    {
     "name": "stdout",
     "output_type": "stream",
     "text": [
      "2021-07-10\n"
     ]
    }
   ],
   "source": [
    "print(datetime.date.today())"
   ]
  },
  {
   "cell_type": "markdown",
   "id": "46ffdeee-6972-4072-b56b-c8f6fdcba06a",
   "metadata": {},
   "source": [
    "ou use `datetime.datetime.today()`"
   ]
  },
  {
   "cell_type": "code",
   "execution_count": 5,
   "id": "8b91ab99-0e57-4cc5-9b64-5e3551860eca",
   "metadata": {},
   "outputs": [
    {
     "name": "stdout",
     "output_type": "stream",
     "text": [
      "2021-07-10 10:28:59.258507\n"
     ]
    }
   ],
   "source": [
    "print(datetime.datetime.today())"
   ]
  },
  {
   "cell_type": "markdown",
   "id": "ab53e283-3461-49a6-9772-9360311cd1c9",
   "metadata": {},
   "source": [
    "ou ainda pode usar a função `datetime.datetime.now().today()`"
   ]
  },
  {
   "cell_type": "code",
   "execution_count": 6,
   "id": "1cae1b6e-6982-45a7-93cb-c755072fe9bd",
   "metadata": {},
   "outputs": [
    {
     "name": "stdout",
     "output_type": "stream",
     "text": [
      "2021-07-10 10:30:47.662067\n"
     ]
    }
   ],
   "source": [
    "print(datetime.datetime.now().today())"
   ]
  },
  {
   "cell_type": "markdown",
   "id": "af713924-c67d-49fa-9150-5405fa1352e8",
   "metadata": {},
   "source": [
    "usando a função `now()`, pode ser especificado qualquer informação sobre data e hora, da seguinte forma"
   ]
  },
  {
   "cell_type": "code",
   "execution_count": 9,
   "id": "79fe98d2-fca1-4f6a-963b-a29b0ff6e092",
   "metadata": {},
   "outputs": [
    {
     "name": "stdout",
     "output_type": "stream",
     "text": [
      "ano: 2021\n",
      "mês: 7\n",
      "dia: 10\n",
      "hora: 10\n",
      "minnutos: 36\n",
      "segundos: 37\n",
      "microssegundos: 720357\n",
      "dia da semana: 5\n"
     ]
    }
   ],
   "source": [
    "dt = datetime.datetime.now()\n",
    "print(f'''ano: {dt.year}\n",
    "mês: {dt.month}\n",
    "dia: {dt.day}\n",
    "hora: {dt.hour}\n",
    "minnutos: {dt.minute}\n",
    "segundos: {dt.second}\n",
    "microssegundos: {dt.microsecond}\n",
    "dia da semana: {dt.weekday()}''')"
   ]
  },
  {
   "cell_type": "markdown",
   "id": "cf83475c-6ce2-460b-a2f2-d14cc63393a4",
   "metadata": {},
   "source": [
    "isso também funciona com as funções `today()` e `now().today()`, porém essas só vão até o `.day`"
   ]
  },
  {
   "cell_type": "markdown",
   "id": "b8de85d2-f1cd-4048-8bb9-6f40b1c2b226",
   "metadata": {},
   "source": [
    "observe que `weekday()` é um método, por isso deve ser escrito junto de `()`. esse método começa a contar de segunda-feira, que seria o dia 0."
   ]
  },
  {
   "cell_type": "markdown",
   "id": "4e9d4e1a-6075-42a1-a70c-f210d0620997",
   "metadata": {},
   "source": [
    "usando o método `isoweekday()`, começa a contar de domingo, sendo esse o dia 0"
   ]
  },
  {
   "cell_type": "code",
   "execution_count": 10,
   "id": "d50b9752-7481-4647-bfe3-eee8d6e239d2",
   "metadata": {},
   "outputs": [
    {
     "name": "stdout",
     "output_type": "stream",
     "text": [
      "6\n"
     ]
    }
   ],
   "source": [
    "print(dt.isoweekday())"
   ]
  },
  {
   "cell_type": "markdown",
   "id": "36ab1118-f47b-4bed-9597-5f63dc3aa2f3",
   "metadata": {},
   "source": [
    "usando a função `datetime.date()` é possível criar uma data no formato `ano-mês-dia`"
   ]
  },
  {
   "cell_type": "code",
   "execution_count": 18,
   "id": "0b0ee8e3-dbd6-406b-bfa6-5e33ca5f632b",
   "metadata": {},
   "outputs": [
    {
     "name": "stdout",
     "output_type": "stream",
     "text": [
      "1999-11-18\n"
     ]
    }
   ],
   "source": [
    "print(datetime.date(1999, 11, 18))"
   ]
  },
  {
   "cell_type": "markdown",
   "id": "af785f93-4aa3-47a0-beb9-b74d45ac5198",
   "metadata": {},
   "source": [
    "usando a função `datetime.timedelta()` pode ser calculado o futuro e o passado"
   ]
  },
  {
   "cell_type": "code",
   "execution_count": 19,
   "id": "6c513137-126b-44c7-a579-618d04004581",
   "metadata": {},
   "outputs": [
    {
     "name": "stdout",
     "output_type": "stream",
     "text": [
      "2021-07-30 10:28:07.204287\n"
     ]
    }
   ],
   "source": [
    "#futuro\n",
    "print(agora + datetime.timedelta(days=20))"
   ]
  },
  {
   "cell_type": "code",
   "execution_count": 24,
   "id": "427aede9-7e6b-4c37-873a-bb665f138ed1",
   "metadata": {},
   "outputs": [
    {
     "name": "stdout",
     "output_type": "stream",
     "text": [
      "2021-07-10 10:27:47.204287\n"
     ]
    }
   ],
   "source": [
    "#passado\n",
    "print(agora - datetime.timedelta(seconds=20))"
   ]
  }
 ],
 "metadata": {
  "kernelspec": {
   "display_name": "Python 3",
   "language": "python",
   "name": "python3"
  },
  "language_info": {
   "codemirror_mode": {
    "name": "ipython",
    "version": 3
   },
   "file_extension": ".py",
   "mimetype": "text/x-python",
   "name": "python",
   "nbconvert_exporter": "python",
   "pygments_lexer": "ipython3",
   "version": "3.9.5"
  }
 },
 "nbformat": 4,
 "nbformat_minor": 5
}
