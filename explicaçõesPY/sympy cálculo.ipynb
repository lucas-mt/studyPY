{
 "cells": [
  {
   "cell_type": "markdown",
   "id": "7aa8b2b1-0022-473b-bc70-77a826acd9d6",
   "metadata": {},
   "source": [
    "## ***Cálculo diferencial e integral***\n",
    "---"
   ]
  },
  {
   "cell_type": "markdown",
   "id": "d0ca724d-bcd4-4739-a1ba-a74f94fa875e",
   "metadata": {},
   "source": [
    "#### derivada"
   ]
  },
  {
   "cell_type": "markdown",
   "id": "8e5d11b7-5afc-4987-8fa5-6242cc94e62e",
   "metadata": {},
   "source": [
    "importe a biblioteca `sympy` com o seguinte código inicial"
   ]
  },
  {
   "cell_type": "code",
   "execution_count": 1,
   "id": "937637e5-25ef-4b5e-b79e-2958c1876f48",
   "metadata": {},
   "outputs": [],
   "source": [
    "from sympy import *"
   ]
  },
  {
   "cell_type": "markdown",
   "id": "51d24af0-fc8b-4720-af6a-0a98bd8d8776",
   "metadata": {},
   "source": [
    "após isso, pode declarar todas as variáveis da seguinte forma"
   ]
  },
  {
   "cell_type": "code",
   "execution_count": 2,
   "id": "00f0cccb-3b9c-4bb1-9e44-04acab5bb025",
   "metadata": {},
   "outputs": [],
   "source": [
    "x, y, z = symbols('x y z')"
   ]
  },
  {
   "cell_type": "markdown",
   "id": "eca6d07e-e2d6-4148-a225-24990397a872",
   "metadata": {},
   "source": [
    "agora, para que o print fique \"bonito\", pode acresentar a linha `init_printing(use_unicode=true)` após esta linha de cima"
   ]
  },
  {
   "cell_type": "markdown",
   "id": "219da841-52cb-45b6-841a-49be85f1a472",
   "metadata": {},
   "source": [
    "então, use a função `diff()` da qual deve receber como primeiro parâmetro a função que irá derivar e, em seguida, deve receber como segundo parâmetro a variável que a função deve derivar. P.Ex.:"
   ]
  },
  {
   "cell_type": "code",
   "execution_count": 3,
   "id": "b86866d7-236c-4d43-a122-020e7e84adcf",
   "metadata": {},
   "outputs": [
    {
     "name": "stdout",
     "output_type": "stream",
     "text": [
      "4*x**3 - 6*x**2 - 8*x + 4\n"
     ]
    }
   ],
   "source": [
    "print(diff(((x**4)-(2*(x**3))-(4*(x**2))+(4*x)+4), x))"
   ]
  },
  {
   "cell_type": "markdown",
   "id": "c9e23a50-fa9b-48cb-bf5f-357a70ad4e97",
   "metadata": {},
   "source": [
    "No caso, derivou a função em relação a x."
   ]
  },
  {
   "cell_type": "code",
   "execution_count": 4,
   "id": "b1546328-8ee8-44bb-9936-35a251fe9195",
   "metadata": {},
   "outputs": [
    {
     "name": "stdout",
     "output_type": "stream",
     "text": [
      "0\n"
     ]
    }
   ],
   "source": [
    "print(diff(((x**4)-(2*(x**3))-(4*(x**2))+(4*x)+4), y))"
   ]
  },
  {
   "cell_type": "markdown",
   "id": "cad36ae5-2121-47c8-a21e-57be25a5fc9f",
   "metadata": {},
   "source": [
    "nesse caso, como não tem y na função, retona zero."
   ]
  },
  {
   "cell_type": "markdown",
   "id": "1dc490fc-8b0a-4f19-8df9-6deed9b6262e",
   "metadata": {},
   "source": [
    "#### integral"
   ]
  },
  {
   "cell_type": "markdown",
   "id": "93f0ce71-743f-420d-9fd2-70b6f588a0cb",
   "metadata": {},
   "source": [
    "use a função `integrate()` da qual deve receber como primeiro parâmetro a função que irá integrar e, em seguida, deve receber como segundo parâmetro a variável que a função deve integrar."
   ]
  },
  {
   "cell_type": "code",
   "execution_count": 6,
   "id": "f77c557f-3d23-4d45-95d0-5c77bb7dbaf3",
   "metadata": {},
   "outputs": [
    {
     "name": "stdout",
     "output_type": "stream",
     "text": [
      "x**4 - 2*x**3 - 4*x**2 + 4*x\n"
     ]
    }
   ],
   "source": [
    "print(integrate(4*x**3 - 6*x**2 - 8*x + 4, x))"
   ]
  },
  {
   "cell_type": "markdown",
   "id": "7f0d6964-7514-4d48-af65-b5210f675c68",
   "metadata": {},
   "source": [
    "e, na situação"
   ]
  },
  {
   "cell_type": "code",
   "execution_count": 7,
   "id": "14daeaf2-1a7b-4fbf-a504-b91a5fda7b2a",
   "metadata": {},
   "outputs": [
    {
     "name": "stdout",
     "output_type": "stream",
     "text": [
      "z*(4*x**3 - 6*x**2 - 8*x + 4)\n"
     ]
    }
   ],
   "source": [
    "print(integrate(4*x**3 - 6*x**2 - 8*x + 4, z))"
   ]
  }
 ],
 "metadata": {
  "kernelspec": {
   "display_name": "Python 3 (ipykernel)",
   "language": "python",
   "name": "python3"
  },
  "language_info": {
   "codemirror_mode": {
    "name": "ipython",
    "version": 3
   },
   "file_extension": ".py",
   "mimetype": "text/x-python",
   "name": "python",
   "nbconvert_exporter": "python",
   "pygments_lexer": "ipython3",
   "version": "3.9.5"
  }
 },
 "nbformat": 4,
 "nbformat_minor": 5
}
