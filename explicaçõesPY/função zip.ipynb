{
 "cells": [
  {
   "cell_type": "markdown",
   "id": "e6abe913-369c-4585-a627-224053b0f4a0",
   "metadata": {},
   "source": [
    "## ***zip - tuplas e lista***\n",
    "---"
   ]
  },
  {
   "cell_type": "markdown",
   "id": "4f5b8414-e1dd-411a-bf42-fac5f6dd7883",
   "metadata": {},
   "source": [
    "a função integrada `zip()` recebe como parâmetro duas ou mais sequências e as intercala uma a uma, como um zíper, isto é,"
   ]
  },
  {
   "cell_type": "code",
   "execution_count": 1,
   "id": "db0dd6f5-da4d-4372-ae8b-04f15e2e2a48",
   "metadata": {},
   "outputs": [
    {
     "name": "stdout",
     "output_type": "stream",
     "text": [
      "('L', 'M')\n",
      "('u', 'o')\n",
      "('c', 'r')\n",
      "('a', 'a')\n",
      "('s', 'i')\n",
      "(' ', 's')\n",
      "('M', ' ')\n",
      "('a', 'd')\n",
      "('t', 'e')\n",
      "('h', ' ')\n",
      "('e', 'L')\n",
      "('u', 'i')\n",
      "('s', 'r')\n"
     ]
    }
   ],
   "source": [
    "seq1 = 'Lucas Matheus'\n",
    "seq2 = 'Morais de Lira'\n",
    "\n",
    "for pares in zip(seq1, seq2):\n",
    "    print(pares)"
   ]
  },
  {
   "cell_type": "markdown",
   "id": "de44faa4-4731-4972-8f74-4578b50e340f",
   "metadata": {},
   "source": [
    "assim, um elemento de seq1 é intercalado com um elemento de seq2, e pode ser passado quantas sequências desejar."
   ]
  },
  {
   "cell_type": "code",
   "execution_count": 2,
   "id": "968c5bf9-8540-4b31-a41d-a4b917f8ddea",
   "metadata": {},
   "outputs": [
    {
     "name": "stdout",
     "output_type": "stream",
     "text": [
      "[('L', 'M'), ('u', 'o'), ('c', 'r'), ('a', 'a'), ('s', 'i'), (' ', 's'), ('M', ' '), ('a', 'd'), ('t', 'e'), ('h', ' '), ('e', 'L'), ('u', 'i'), ('s', 'r')]\n"
     ]
    }
   ],
   "source": [
    "print(list(zip(seq1, seq2)))"
   ]
  }
 ],
 "metadata": {
  "kernelspec": {
   "display_name": "Python 3 (ipykernel)",
   "language": "python",
   "name": "python3"
  },
  "language_info": {
   "codemirror_mode": {
    "name": "ipython",
    "version": 3
   },
   "file_extension": ".py",
   "mimetype": "text/x-python",
   "name": "python",
   "nbconvert_exporter": "python",
   "pygments_lexer": "ipython3",
   "version": "3.9.5"
  }
 },
 "nbformat": 4,
 "nbformat_minor": 5
}
