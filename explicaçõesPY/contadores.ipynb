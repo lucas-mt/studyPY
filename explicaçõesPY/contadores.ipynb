{
 "cells": [
  {
   "cell_type": "markdown",
   "id": "addbd732-0436-4229-aaa9-b38a23f96586",
   "metadata": {},
   "source": [
    "## *Contadores*\n",
    "---"
   ]
  },
  {
   "cell_type": "code",
   "execution_count": 1,
   "id": "abae0019-7def-4611-a17c-72af509202d7",
   "metadata": {},
   "outputs": [],
   "source": [
    "from collections import Counter"
   ]
  },
  {
   "cell_type": "markdown",
   "id": "5c3b7729-ecc4-4e03-94b0-856c0786d683",
   "metadata": {},
   "source": [
    "o método ```Counter()``` recebe qualquer coisa que seja iterável e mapeia todas as repetições contando-as armazenando em um dicionário"
   ]
  },
  {
   "cell_type": "code",
   "execution_count": 2,
   "id": "0f6aac7b-b564-4f78-b5be-8e67e6d4cc70",
   "metadata": {},
   "outputs": [
    {
     "name": "stdout",
     "output_type": "stream",
     "text": [
      "Counter({'a': 3, 'r': 2})\n"
     ]
    }
   ],
   "source": [
    "count = Counter('arara')\n",
    "\n",
    "print(count)"
   ]
  },
  {
   "cell_type": "markdown",
   "id": "468996a9-1466-4754-bcd0-b8a40038d427",
   "metadata": {},
   "source": [
    "mas, diferente de um dicionário, se receber como parâmetro uma chave que não exista, ele apenas retorna o valor zero e não um erro:"
   ]
  },
  {
   "cell_type": "code",
   "execution_count": 3,
   "id": "91452047-f58b-4f89-ac9c-488b4842f17d",
   "metadata": {},
   "outputs": [
    {
     "name": "stdout",
     "output_type": "stream",
     "text": [
      "0\n"
     ]
    }
   ],
   "source": [
    "print(count['d'])"
   ]
  },
  {
   "cell_type": "markdown",
   "id": "7c0ccd8e-bf5d-490f-b8f4-39a3f3b6e390",
   "metadata": {},
   "source": [
    "um método útil desta função é o ```.most_common(<valor>)``` que retorna as chaves mais comuns em ordem decrescente:"
   ]
  },
  {
   "cell_type": "code",
   "execution_count": 4,
   "id": "ead739d4-6144-455a-8266-258d7ed4524a",
   "metadata": {},
   "outputs": [
    {
     "name": "stdout",
     "output_type": "stream",
     "text": [
      "a 3\n",
      "r 2\n"
     ]
    }
   ],
   "source": [
    "for letra, repetição in count.most_common():\n",
    "    print(letra, repetição)"
   ]
  },
  {
   "cell_type": "markdown",
   "id": "cedde3cd-19a0-43bf-b034-49fc2bc3d76d",
   "metadata": {},
   "source": [
    "este método recebe, ainda, quantas mais comuns queremos ver, por exemplo:"
   ]
  },
  {
   "cell_type": "code",
   "execution_count": 5,
   "id": "64f87372-fa14-42bd-b0a2-9cdaf93c9c63",
   "metadata": {},
   "outputs": [
    {
     "name": "stdout",
     "output_type": "stream",
     "text": [
      "a 3\n"
     ]
    }
   ],
   "source": [
    "for letra, repetição in count.most_common(1):\n",
    "    print(letra, repetição)"
   ]
  },
  {
   "cell_type": "markdown",
   "id": "9245c5f7-506a-4714-992b-9361cd3e910b",
   "metadata": {},
   "source": [
    "vários das operações dos conjuntos (set) como soma, subtrração ou intersecção funcionam com os contadores."
   ]
  }
 ],
 "metadata": {
  "kernelspec": {
   "display_name": "Python 3 (ipykernel)",
   "language": "python",
   "name": "python3"
  },
  "language_info": {
   "codemirror_mode": {
    "name": "ipython",
    "version": 3
   },
   "file_extension": ".py",
   "mimetype": "text/x-python",
   "name": "python",
   "nbconvert_exporter": "python",
   "pygments_lexer": "ipython3",
   "version": "3.9.5"
  }
 },
 "nbformat": 4,
 "nbformat_minor": 5
}
