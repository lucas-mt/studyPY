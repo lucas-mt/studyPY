{
 "cells": [
  {
   "cell_type": "markdown",
   "id": "4d196bf5-ddb2-46ba-bd09-bf09e43c2494",
   "metadata": {},
   "source": [
    "## PYinstaller: para tornar arquivos python em executáveis\n",
    "---"
   ]
  },
  {
   "cell_type": "markdown",
   "id": "ec89037d-b53a-41f3-9f17-b0a2ce8f73a5",
   "metadata": {},
   "source": [
    "se ainda não tiver, deve baixar\n",
    "```\n",
    "pip install pyinstaller\n",
    "```"
   ]
  },
  {
   "cell_type": "markdown",
   "id": "1efb3266-ece0-4c08-a0d7-1b9f13e2f0dc",
   "metadata": {},
   "source": [
    "assim, para tornar qualquer arquivo python um executável, vá até o local onde está o arquivo principal, e, na linha de comando, escreva:\n",
    "```\n",
    "pyinstaller --onefile -w <arquivo>.py\n",
    "```\n",
    "o parâmetro `--onefile` faz com que todo o código rode em apenas um arquivo e não em vários, o que é um problema se o programa tiver mais de um arquivo.\n",
    "o parâmetro `-w` serve para não aparecer a tela do terminal ao abrir o programa. Logo, se o programa ocorre no terminal, ele não deve ser passado."
   ]
  },
  {
   "cell_type": "markdown",
   "id": "9f1f9abf-4a1a-4632-b1a1-514f6fd1edd6",
   "metadata": {},
   "source": [
    "quando terminar a conversão, deve-se apagar o diretório `build` e o arquivo `main.spec`. Depois, vá até a pasta `dist`, é lá que estará o programa executável. Daí, pode transferi-lo para onde achar melhor, lembrando que, se houver mais de um arquivo, estes devem sempre estar juntos."
   ]
  },
  {
   "cell_type": "code",
   "execution_count": null,
   "id": "7a5b3959-e06b-44a7-90b4-1c9715ee5bca",
   "metadata": {},
   "outputs": [],
   "source": []
  }
 ],
 "metadata": {
  "kernelspec": {
   "display_name": "Python 3 (ipykernel)",
   "language": "python",
   "name": "python3"
  },
  "language_info": {
   "codemirror_mode": {
    "name": "ipython",
    "version": 3
   },
   "file_extension": ".py",
   "mimetype": "text/x-python",
   "name": "python",
   "nbconvert_exporter": "python",
   "pygments_lexer": "ipython3",
   "version": "3.10.12"
  }
 },
 "nbformat": 4,
 "nbformat_minor": 5
}
