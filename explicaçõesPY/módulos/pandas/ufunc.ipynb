{
 "cells": [
  {
   "cell_type": "markdown",
   "id": "43a267e9-ba27-4a91-b114-23bda706f84a",
   "metadata": {},
   "source": [
    "## ufuncs: pandas e numpy\n",
    "---"
   ]
  },
  {
   "cell_type": "code",
   "execution_count": 1,
   "id": "a3c4ecab-370f-4eda-8cb1-0fc60a8dfcfa",
   "metadata": {},
   "outputs": [],
   "source": [
    "import pandas as pd\n",
    "import numpy as np"
   ]
  },
  {
   "cell_type": "markdown",
   "id": "97e16470-1114-472e-9c2d-b3cd558d8df5",
   "metadata": {},
   "source": [
    "qualquer ufunc visto em numpy vai funcionar aqui com series e dataframe de pandas, pois estes são contruídos baseados naquele."
   ]
  },
  {
   "cell_type": "code",
   "execution_count": 2,
   "id": "5c5d0737-e260-4689-beb1-c25f8cd2fb1c",
   "metadata": {},
   "outputs": [],
   "source": [
    "rng = np.random.RandomState(42)\n",
    "serie = pd.Series(rng.randint(0, 10, 4))\n",
    "dataframe = pd.DataFrame(rng.randint(0, 10, (3, 4)), columns=['a', 'b', 'c', 'd'])"
   ]
  },
  {
   "cell_type": "code",
   "execution_count": 3,
   "id": "695ef385-f3de-46be-99f5-d0ea2f52b5aa",
   "metadata": {},
   "outputs": [
    {
     "data": {
      "text/plain": [
       "0    6\n",
       "1    3\n",
       "2    7\n",
       "3    4\n",
       "dtype: int64"
      ]
     },
     "execution_count": 3,
     "metadata": {},
     "output_type": "execute_result"
    }
   ],
   "source": [
    "serie"
   ]
  },
  {
   "cell_type": "code",
   "execution_count": 4,
   "id": "8df2fb45-bbe8-456b-a4d8-f6809bc51188",
   "metadata": {},
   "outputs": [
    {
     "data": {
      "text/html": [
       "<div>\n",
       "<style scoped>\n",
       "    .dataframe tbody tr th:only-of-type {\n",
       "        vertical-align: middle;\n",
       "    }\n",
       "\n",
       "    .dataframe tbody tr th {\n",
       "        vertical-align: top;\n",
       "    }\n",
       "\n",
       "    .dataframe thead th {\n",
       "        text-align: right;\n",
       "    }\n",
       "</style>\n",
       "<table border=\"1\" class=\"dataframe\">\n",
       "  <thead>\n",
       "    <tr style=\"text-align: right;\">\n",
       "      <th></th>\n",
       "      <th>a</th>\n",
       "      <th>b</th>\n",
       "      <th>c</th>\n",
       "      <th>d</th>\n",
       "    </tr>\n",
       "  </thead>\n",
       "  <tbody>\n",
       "    <tr>\n",
       "      <th>0</th>\n",
       "      <td>6</td>\n",
       "      <td>9</td>\n",
       "      <td>2</td>\n",
       "      <td>6</td>\n",
       "    </tr>\n",
       "    <tr>\n",
       "      <th>1</th>\n",
       "      <td>7</td>\n",
       "      <td>4</td>\n",
       "      <td>3</td>\n",
       "      <td>7</td>\n",
       "    </tr>\n",
       "    <tr>\n",
       "      <th>2</th>\n",
       "      <td>7</td>\n",
       "      <td>2</td>\n",
       "      <td>5</td>\n",
       "      <td>4</td>\n",
       "    </tr>\n",
       "  </tbody>\n",
       "</table>\n",
       "</div>"
      ],
      "text/plain": [
       "   a  b  c  d\n",
       "0  6  9  2  6\n",
       "1  7  4  3  7\n",
       "2  7  2  5  4"
      ]
     },
     "execution_count": 4,
     "metadata": {},
     "output_type": "execute_result"
    }
   ],
   "source": [
    "dataframe"
   ]
  },
  {
   "cell_type": "markdown",
   "id": "83eb1867-8340-4432-9d5d-f1a7d0b2ae94",
   "metadata": {},
   "source": [
    "por exemplo"
   ]
  },
  {
   "cell_type": "code",
   "execution_count": 5,
   "id": "8f227e62-96b0-4763-9fe4-220259dbef73",
   "metadata": {},
   "outputs": [
    {
     "data": {
      "text/plain": [
       "0     403.428793\n",
       "1      20.085537\n",
       "2    1096.633158\n",
       "3      54.598150\n",
       "dtype: float64"
      ]
     },
     "execution_count": 5,
     "metadata": {},
     "output_type": "execute_result"
    }
   ],
   "source": [
    "np.exp(serie)"
   ]
  },
  {
   "cell_type": "code",
   "execution_count": 6,
   "id": "b096ba90-fe19-4a8c-b6a5-f539ac118598",
   "metadata": {},
   "outputs": [
    {
     "data": {
      "text/html": [
       "<div>\n",
       "<style scoped>\n",
       "    .dataframe tbody tr th:only-of-type {\n",
       "        vertical-align: middle;\n",
       "    }\n",
       "\n",
       "    .dataframe tbody tr th {\n",
       "        vertical-align: top;\n",
       "    }\n",
       "\n",
       "    .dataframe thead th {\n",
       "        text-align: right;\n",
       "    }\n",
       "</style>\n",
       "<table border=\"1\" class=\"dataframe\">\n",
       "  <thead>\n",
       "    <tr style=\"text-align: right;\">\n",
       "      <th></th>\n",
       "      <th>a</th>\n",
       "      <th>b</th>\n",
       "      <th>c</th>\n",
       "      <th>d</th>\n",
       "    </tr>\n",
       "  </thead>\n",
       "  <tbody>\n",
       "    <tr>\n",
       "      <th>0</th>\n",
       "      <td>-0.291006</td>\n",
       "      <td>-0.452316</td>\n",
       "      <td>-2.185040</td>\n",
       "      <td>-0.291006</td>\n",
       "    </tr>\n",
       "    <tr>\n",
       "      <th>1</th>\n",
       "      <td>0.871448</td>\n",
       "      <td>1.157821</td>\n",
       "      <td>-0.142547</td>\n",
       "      <td>0.871448</td>\n",
       "    </tr>\n",
       "    <tr>\n",
       "      <th>2</th>\n",
       "      <td>0.871448</td>\n",
       "      <td>-2.185040</td>\n",
       "      <td>-3.380515</td>\n",
       "      <td>1.157821</td>\n",
       "    </tr>\n",
       "  </tbody>\n",
       "</table>\n",
       "</div>"
      ],
      "text/plain": [
       "          a         b         c         d\n",
       "0 -0.291006 -0.452316 -2.185040 -0.291006\n",
       "1  0.871448  1.157821 -0.142547  0.871448\n",
       "2  0.871448 -2.185040 -3.380515  1.157821"
      ]
     },
     "execution_count": 6,
     "metadata": {},
     "output_type": "execute_result"
    }
   ],
   "source": [
    "np.tan(dataframe)"
   ]
  },
  {
   "cell_type": "code",
   "execution_count": 7,
   "id": "d8600f83-4073-426c-91c0-7f680d3cb91c",
   "metadata": {},
   "outputs": [
    {
     "data": {
      "text/html": [
       "<div>\n",
       "<style scoped>\n",
       "    .dataframe tbody tr th:only-of-type {\n",
       "        vertical-align: middle;\n",
       "    }\n",
       "\n",
       "    .dataframe tbody tr th {\n",
       "        vertical-align: top;\n",
       "    }\n",
       "\n",
       "    .dataframe thead th {\n",
       "        text-align: right;\n",
       "    }\n",
       "</style>\n",
       "<table border=\"1\" class=\"dataframe\">\n",
       "  <thead>\n",
       "    <tr style=\"text-align: right;\">\n",
       "      <th></th>\n",
       "      <th>a</th>\n",
       "      <th>b</th>\n",
       "      <th>c</th>\n",
       "      <th>d</th>\n",
       "    </tr>\n",
       "  </thead>\n",
       "  <tbody>\n",
       "    <tr>\n",
       "      <th>0</th>\n",
       "      <td>39.141593</td>\n",
       "      <td>84.141593</td>\n",
       "      <td>7.141593</td>\n",
       "      <td>39.141593</td>\n",
       "    </tr>\n",
       "    <tr>\n",
       "      <th>1</th>\n",
       "      <td>52.141593</td>\n",
       "      <td>19.141593</td>\n",
       "      <td>12.141593</td>\n",
       "      <td>52.141593</td>\n",
       "    </tr>\n",
       "    <tr>\n",
       "      <th>2</th>\n",
       "      <td>52.141593</td>\n",
       "      <td>7.141593</td>\n",
       "      <td>28.141593</td>\n",
       "      <td>19.141593</td>\n",
       "    </tr>\n",
       "  </tbody>\n",
       "</table>\n",
       "</div>"
      ],
      "text/plain": [
       "           a          b          c          d\n",
       "0  39.141593  84.141593   7.141593  39.141593\n",
       "1  52.141593  19.141593  12.141593  52.141593\n",
       "2  52.141593   7.141593  28.141593  19.141593"
      ]
     },
     "execution_count": 7,
     "metadata": {},
     "output_type": "execute_result"
    }
   ],
   "source": [
    "dataframe**2 + np.pi"
   ]
  },
  {
   "cell_type": "markdown",
   "id": "f64103a6-252f-431b-b00f-fd851ab718c2",
   "metadata": {},
   "source": [
    "#### alinhamento dos índices\n",
    "---"
   ]
  },
  {
   "cell_type": "markdown",
   "id": "bc856c2b-3428-4150-bda3-07296b43b5a6",
   "metadata": {},
   "source": [
    "quando trabalhando com operações binárias, pandas alinha os índices dos dois ou mais arrays durante a operação, evitando erros, por exemplo, quando falta informações.\n",
    "\n",
    "por exemplo:"
   ]
  },
  {
   "cell_type": "code",
   "execution_count": 8,
   "id": "f2095411-d327-4be1-bbc4-b0644ce1e6be",
   "metadata": {},
   "outputs": [],
   "source": [
    "area = pd.Series({'Alaska': 1723337, 'Texas': 695662,\n",
    "                  'California': 423967}, name='area')\n",
    "population = pd.Series({'California': 38332521, 'Texas': 26448193,\n",
    "                        'New York': 19651127}, name='population')"
   ]
  },
  {
   "cell_type": "markdown",
   "id": "8add71e2-b716-4c67-b9f2-efe3fb775043",
   "metadata": {},
   "source": [
    "as series acima dizem respeito à área e à população de alguns estados dos USA, respectivamente. só que, os dados não mostram os mesmos  estados, só alguns. Então, se for para calcular a densidade desses estados, o cálculo deve ocorrer apenas com aqueles estados que estão presentes em ambas as series. O pandas vai observar isso e corrigir os índices para fazer o cálculo de forma correta:"
   ]
  },
  {
   "cell_type": "code",
   "execution_count": 9,
   "id": "f5ef419b-8117-43db-b915-33152e7f40ff",
   "metadata": {},
   "outputs": [
    {
     "data": {
      "text/plain": [
       "Alaska              NaN\n",
       "California    90.413926\n",
       "New York            NaN\n",
       "Texas         38.018740\n",
       "dtype: float64"
      ]
     },
     "execution_count": 9,
     "metadata": {},
     "output_type": "execute_result"
    }
   ],
   "source": [
    "population/area"
   ]
  },
  {
   "cell_type": "markdown",
   "id": "548eb3bd-2f22-4d76-8f42-52280936c469",
   "metadata": {},
   "source": [
    "observe que só há valores para os valores que intersectam as duas series:"
   ]
  },
  {
   "cell_type": "code",
   "execution_count": 10,
   "id": "8584b44b-e38f-4abf-a446-ea7e51a18a83",
   "metadata": {},
   "outputs": [
    {
     "data": {
      "text/plain": [
       "Index(['Texas', 'California'], dtype='object')"
      ]
     },
     "execution_count": 10,
     "metadata": {},
     "output_type": "execute_result"
    }
   ],
   "source": [
    "area.index.intersection(population.index)"
   ]
  },
  {
   "cell_type": "markdown",
   "id": "3ed85e00-8976-44b2-9c42-968b957e0d4d",
   "metadata": {},
   "source": [
    "aqueles valores que não intersectam as series recebem `NaN`, que pode ser alterado, se desejar, com o parâmetro `fill_value`:"
   ]
  },
  {
   "cell_type": "code",
   "execution_count": 11,
   "id": "6157d6ac-099e-447c-b1ef-5b1fc829a36b",
   "metadata": {},
   "outputs": [
    {
     "data": {
      "text/plain": [
       "Alaska         0.000000\n",
       "California    90.413926\n",
       "New York            inf\n",
       "Texas         38.018740\n",
       "dtype: float64"
      ]
     },
     "execution_count": 11,
     "metadata": {},
     "output_type": "execute_result"
    }
   ],
   "source": [
    "population.divide(area, fill_value=0)"
   ]
  },
  {
   "cell_type": "markdown",
   "id": "c404c0d5-6b4c-4abb-a33b-d188db8c1f24",
   "metadata": {},
   "source": [
    "este alinhamento dos índices também ocorre com os dataframes:"
   ]
  },
  {
   "cell_type": "code",
   "execution_count": 12,
   "id": "aeb8372d-afcd-40ae-9031-552e96c676e6",
   "metadata": {},
   "outputs": [],
   "source": [
    "A = pd.DataFrame(rng.randint(0, 20, (2, 2)), columns=list('AB'))\n",
    "B = pd.DataFrame(rng.randint(0, 10, (3, 3)), columns=list('BAC'))"
   ]
  },
  {
   "cell_type": "code",
   "execution_count": 13,
   "id": "1b1822d1-05eb-41d9-8fb7-ca175f1a263e",
   "metadata": {},
   "outputs": [
    {
     "data": {
      "text/html": [
       "<div>\n",
       "<style scoped>\n",
       "    .dataframe tbody tr th:only-of-type {\n",
       "        vertical-align: middle;\n",
       "    }\n",
       "\n",
       "    .dataframe tbody tr th {\n",
       "        vertical-align: top;\n",
       "    }\n",
       "\n",
       "    .dataframe thead th {\n",
       "        text-align: right;\n",
       "    }\n",
       "</style>\n",
       "<table border=\"1\" class=\"dataframe\">\n",
       "  <thead>\n",
       "    <tr style=\"text-align: right;\">\n",
       "      <th></th>\n",
       "      <th>A</th>\n",
       "      <th>B</th>\n",
       "      <th>C</th>\n",
       "    </tr>\n",
       "  </thead>\n",
       "  <tbody>\n",
       "    <tr>\n",
       "      <th>0</th>\n",
       "      <td>1.0</td>\n",
       "      <td>15.0</td>\n",
       "      <td>NaN</td>\n",
       "    </tr>\n",
       "    <tr>\n",
       "      <th>1</th>\n",
       "      <td>13.0</td>\n",
       "      <td>6.0</td>\n",
       "      <td>NaN</td>\n",
       "    </tr>\n",
       "    <tr>\n",
       "      <th>2</th>\n",
       "      <td>NaN</td>\n",
       "      <td>NaN</td>\n",
       "      <td>NaN</td>\n",
       "    </tr>\n",
       "  </tbody>\n",
       "</table>\n",
       "</div>"
      ],
      "text/plain": [
       "      A     B   C\n",
       "0   1.0  15.0 NaN\n",
       "1  13.0   6.0 NaN\n",
       "2   NaN   NaN NaN"
      ]
     },
     "execution_count": 13,
     "metadata": {},
     "output_type": "execute_result"
    }
   ],
   "source": [
    "A + B"
   ]
  },
  {
   "cell_type": "markdown",
   "id": "cf1c2de4-0d15-4c5a-a325-002fb074af01",
   "metadata": {},
   "source": [
    "ou, se desejar dar outro valor a `NaN`:"
   ]
  },
  {
   "cell_type": "code",
   "execution_count": 14,
   "id": "c15e0224-a195-4401-ab5a-c286bb8b8e27",
   "metadata": {},
   "outputs": [
    {
     "data": {
      "text/html": [
       "<div>\n",
       "<style scoped>\n",
       "    .dataframe tbody tr th:only-of-type {\n",
       "        vertical-align: middle;\n",
       "    }\n",
       "\n",
       "    .dataframe tbody tr th {\n",
       "        vertical-align: top;\n",
       "    }\n",
       "\n",
       "    .dataframe thead th {\n",
       "        text-align: right;\n",
       "    }\n",
       "</style>\n",
       "<table border=\"1\" class=\"dataframe\">\n",
       "  <thead>\n",
       "    <tr style=\"text-align: right;\">\n",
       "      <th></th>\n",
       "      <th>A</th>\n",
       "      <th>B</th>\n",
       "      <th>C</th>\n",
       "    </tr>\n",
       "  </thead>\n",
       "  <tbody>\n",
       "    <tr>\n",
       "      <th>0</th>\n",
       "      <td>1.0</td>\n",
       "      <td>15.0</td>\n",
       "      <td>inf</td>\n",
       "    </tr>\n",
       "    <tr>\n",
       "      <th>1</th>\n",
       "      <td>13.0</td>\n",
       "      <td>6.0</td>\n",
       "      <td>inf</td>\n",
       "    </tr>\n",
       "    <tr>\n",
       "      <th>2</th>\n",
       "      <td>inf</td>\n",
       "      <td>inf</td>\n",
       "      <td>inf</td>\n",
       "    </tr>\n",
       "  </tbody>\n",
       "</table>\n",
       "</div>"
      ],
      "text/plain": [
       "      A     B    C\n",
       "0   1.0  15.0  inf\n",
       "1  13.0   6.0  inf\n",
       "2   inf   inf  inf"
      ]
     },
     "execution_count": 14,
     "metadata": {},
     "output_type": "execute_result"
    }
   ],
   "source": [
    "A.add(B, fill_value='inf')"
   ]
  },
  {
   "cell_type": "markdown",
   "id": "6a80789b-040a-44eb-b15b-918fbddbdfc8",
   "metadata": {},
   "source": [
    "as operações que pandas suporta, são:\n",
    "\n",
    "python|array1.função(array2)\n",
    "---|---\n",
    "+|add\n",
    "-|sub, subtract\n",
    "*|mul, multiply\n",
    "/|truediv, div, divide\n",
    "//|floordiv\n",
    "%|mod\n",
    "**|pow"
   ]
  },
  {
   "cell_type": "markdown",
   "id": "c53db06f-3cd4-461b-bd54-bad873d52de4",
   "metadata": {},
   "source": [
    "#### operações entre serie e dataframe\n",
    "---"
   ]
  },
  {
   "cell_type": "markdown",
   "id": "6f515fa7-f306-4923-aea0-f6ea3517f6af",
   "metadata": {},
   "source": [
    "ocorre o mesmo processo do `broadcasting` do numpy:"
   ]
  },
  {
   "cell_type": "code",
   "execution_count": 15,
   "id": "2ff6bf8a-3142-484b-8844-e75c2046b3f6",
   "metadata": {},
   "outputs": [
    {
     "data": {
      "text/html": [
       "<div>\n",
       "<style scoped>\n",
       "    .dataframe tbody tr th:only-of-type {\n",
       "        vertical-align: middle;\n",
       "    }\n",
       "\n",
       "    .dataframe tbody tr th {\n",
       "        vertical-align: top;\n",
       "    }\n",
       "\n",
       "    .dataframe thead th {\n",
       "        text-align: right;\n",
       "    }\n",
       "</style>\n",
       "<table border=\"1\" class=\"dataframe\">\n",
       "  <thead>\n",
       "    <tr style=\"text-align: right;\">\n",
       "      <th></th>\n",
       "      <th>0</th>\n",
       "      <th>1</th>\n",
       "      <th>2</th>\n",
       "    </tr>\n",
       "  </thead>\n",
       "  <tbody>\n",
       "    <tr>\n",
       "      <th>0</th>\n",
       "      <td>3</td>\n",
       "      <td>8</td>\n",
       "      <td>2</td>\n",
       "    </tr>\n",
       "    <tr>\n",
       "      <th>1</th>\n",
       "      <td>4</td>\n",
       "      <td>2</td>\n",
       "      <td>6</td>\n",
       "    </tr>\n",
       "  </tbody>\n",
       "</table>\n",
       "</div>"
      ],
      "text/plain": [
       "   0  1  2\n",
       "0  3  8  2\n",
       "1  4  2  6"
      ]
     },
     "execution_count": 15,
     "metadata": {},
     "output_type": "execute_result"
    }
   ],
   "source": [
    "A = pd.DataFrame(rng.randint(10, size=(2, 3)))\n",
    "A"
   ]
  },
  {
   "cell_type": "code",
   "execution_count": 16,
   "id": "7271acf3-dd46-49de-98a6-670495bc0bc7",
   "metadata": {},
   "outputs": [
    {
     "data": {
      "text/html": [
       "<div>\n",
       "<style scoped>\n",
       "    .dataframe tbody tr th:only-of-type {\n",
       "        vertical-align: middle;\n",
       "    }\n",
       "\n",
       "    .dataframe tbody tr th {\n",
       "        vertical-align: top;\n",
       "    }\n",
       "\n",
       "    .dataframe thead th {\n",
       "        text-align: right;\n",
       "    }\n",
       "</style>\n",
       "<table border=\"1\" class=\"dataframe\">\n",
       "  <thead>\n",
       "    <tr style=\"text-align: right;\">\n",
       "      <th></th>\n",
       "      <th>0</th>\n",
       "      <th>1</th>\n",
       "      <th>2</th>\n",
       "    </tr>\n",
       "  </thead>\n",
       "  <tbody>\n",
       "    <tr>\n",
       "      <th>0</th>\n",
       "      <td>0.0</td>\n",
       "      <td>4.0</td>\n",
       "      <td>NaN</td>\n",
       "    </tr>\n",
       "    <tr>\n",
       "      <th>1</th>\n",
       "      <td>1.0</td>\n",
       "      <td>-2.0</td>\n",
       "      <td>NaN</td>\n",
       "    </tr>\n",
       "  </tbody>\n",
       "</table>\n",
       "</div>"
      ],
      "text/plain": [
       "     0    1   2\n",
       "0  0.0  4.0 NaN\n",
       "1  1.0 -2.0 NaN"
      ]
     },
     "execution_count": 16,
     "metadata": {},
     "output_type": "execute_result"
    }
   ],
   "source": [
    "A - A[0]"
   ]
  },
  {
   "cell_type": "markdown",
   "id": "8acd6680-21b7-466b-9cad-4cd5265002d1",
   "metadata": {},
   "source": [
    "para fazer operações com as colunas, é necessário especificar através do parâmetro `axis=0`:"
   ]
  },
  {
   "cell_type": "code",
   "execution_count": 17,
   "id": "0d7ffe57-e407-491e-a474-6c7e08a28dec",
   "metadata": {},
   "outputs": [
    {
     "data": {
      "text/html": [
       "<div>\n",
       "<style scoped>\n",
       "    .dataframe tbody tr th:only-of-type {\n",
       "        vertical-align: middle;\n",
       "    }\n",
       "\n",
       "    .dataframe tbody tr th {\n",
       "        vertical-align: top;\n",
       "    }\n",
       "\n",
       "    .dataframe thead th {\n",
       "        text-align: right;\n",
       "    }\n",
       "</style>\n",
       "<table border=\"1\" class=\"dataframe\">\n",
       "  <thead>\n",
       "    <tr style=\"text-align: right;\">\n",
       "      <th></th>\n",
       "      <th>0</th>\n",
       "      <th>1</th>\n",
       "      <th>2</th>\n",
       "    </tr>\n",
       "  </thead>\n",
       "  <tbody>\n",
       "    <tr>\n",
       "      <th>0</th>\n",
       "      <td>0</td>\n",
       "      <td>5</td>\n",
       "      <td>-1</td>\n",
       "    </tr>\n",
       "    <tr>\n",
       "      <th>1</th>\n",
       "      <td>0</td>\n",
       "      <td>-2</td>\n",
       "      <td>2</td>\n",
       "    </tr>\n",
       "  </tbody>\n",
       "</table>\n",
       "</div>"
      ],
      "text/plain": [
       "   0  1  2\n",
       "0  0  5 -1\n",
       "1  0 -2  2"
      ]
     },
     "execution_count": 17,
     "metadata": {},
     "output_type": "execute_result"
    }
   ],
   "source": [
    "A.sub(A[0], axis=0)"
   ]
  },
  {
   "cell_type": "markdown",
   "id": "ff200fb4-7983-4872-a121-4d3c4da498e7",
   "metadata": {},
   "source": [
    "aqui, também, ocorre o alinhamento de índices entre a serie e o dataframe."
   ]
  },
  {
   "cell_type": "markdown",
   "id": "136800f5-f085-4345-84db-5077ad1b3344",
   "metadata": {},
   "source": [
    "#### operação de strings vetorizadas\n",
    "---"
   ]
  },
  {
   "cell_type": "markdown",
   "id": "4ca29785-04e7-40ce-afc9-7e832b8e70c5",
   "metadata": {},
   "source": [
    "o numpy não consegue fazar as ufuncs funconar com strings:"
   ]
  },
  {
   "cell_type": "code",
   "execution_count": 18,
   "id": "23f0206e-43db-48b2-912f-2f02541d312c",
   "metadata": {},
   "outputs": [
    {
     "ename": "AttributeError",
     "evalue": "'numpy.ndarray' object has no attribute 'capitalize'",
     "output_type": "error",
     "traceback": [
      "\u001b[0;31m---------------------------------------------------------------------------\u001b[0m",
      "\u001b[0;31mAttributeError\u001b[0m                            Traceback (most recent call last)",
      "Cell \u001b[0;32mIn[18], line 2\u001b[0m\n\u001b[1;32m      1\u001b[0m data \u001b[38;5;241m=\u001b[39m np\u001b[38;5;241m.\u001b[39marray([\u001b[38;5;124m'\u001b[39m\u001b[38;5;124mcaçapa\u001b[39m\u001b[38;5;124m'\u001b[39m, \u001b[38;5;124m'\u001b[39m\u001b[38;5;124mbroca\u001b[39m\u001b[38;5;124m'\u001b[39m, \u001b[38;5;124m'\u001b[39m\u001b[38;5;124msuccinto\u001b[39m\u001b[38;5;124m'\u001b[39m, \u001b[38;5;124m'\u001b[39m\u001b[38;5;124mluxor\u001b[39m\u001b[38;5;124m'\u001b[39m, \u001b[38;5;124m'\u001b[39m\u001b[38;5;124modessa\u001b[39m\u001b[38;5;124m'\u001b[39m, \u001b[38;5;124m'\u001b[39m\u001b[38;5;124mluanda\u001b[39m\u001b[38;5;124m'\u001b[39m])\n\u001b[0;32m----> 2\u001b[0m \u001b[43mdata\u001b[49m\u001b[38;5;241;43m.\u001b[39;49m\u001b[43mcapitalize\u001b[49m()\n",
      "\u001b[0;31mAttributeError\u001b[0m: 'numpy.ndarray' object has no attribute 'capitalize'"
     ]
    }
   ],
   "source": [
    "data = np.array(['caçapa', 'broca', 'succinto', 'luxor', 'odessa', 'luanda'])\n",
    "data.capitalize()"
   ]
  },
  {
   "cell_type": "markdown",
   "id": "88a455d9-ab5e-4e23-9f87-8fc95c9c17a5",
   "metadata": {},
   "source": [
    "nestes casos, é necessário fazer um loop, que dependendo do tamanho do dataframe, pode ser demorado ou impossível de calcular:"
   ]
  },
  {
   "cell_type": "code",
   "execution_count": 19,
   "id": "c5a32da3-e9b4-4957-82fb-1ddfc1d6615a",
   "metadata": {},
   "outputs": [
    {
     "data": {
      "text/plain": [
       "['Caçapa', 'Broca', 'Succinto', 'Luxor', 'Odessa', 'Luanda']"
      ]
     },
     "execution_count": 19,
     "metadata": {},
     "output_type": "execute_result"
    }
   ],
   "source": [
    "data = np.array(['caçapa', 'broca', 'succinto', 'luxor', 'odessa', 'luanda'])\n",
    "[s.capitalize() for s in data]"
   ]
  },
  {
   "cell_type": "markdown",
   "id": "91f61b2c-e3aa-4191-abbf-95496dafe354",
   "metadata": {},
   "source": [
    "nem esta opção mais manual funciona 100% das vezes, já que se houver um valor faltando, uma exceção ocorre:"
   ]
  },
  {
   "cell_type": "code",
   "execution_count": 20,
   "id": "a54aac04-0488-40b4-a683-1ff02a3d64db",
   "metadata": {},
   "outputs": [
    {
     "ename": "AttributeError",
     "evalue": "'NoneType' object has no attribute 'capitalize'",
     "output_type": "error",
     "traceback": [
      "\u001b[0;31m---------------------------------------------------------------------------\u001b[0m",
      "\u001b[0;31mAttributeError\u001b[0m                            Traceback (most recent call last)",
      "Cell \u001b[0;32mIn[20], line 2\u001b[0m\n\u001b[1;32m      1\u001b[0m data \u001b[38;5;241m=\u001b[39m np\u001b[38;5;241m.\u001b[39marray([\u001b[38;5;124m'\u001b[39m\u001b[38;5;124mcaçapa\u001b[39m\u001b[38;5;124m'\u001b[39m, \u001b[38;5;124m'\u001b[39m\u001b[38;5;124mbroca\u001b[39m\u001b[38;5;124m'\u001b[39m, \u001b[38;5;124m'\u001b[39m\u001b[38;5;124msuccinto\u001b[39m\u001b[38;5;124m'\u001b[39m, \u001b[38;5;28;01mNone\u001b[39;00m, \u001b[38;5;124m'\u001b[39m\u001b[38;5;124mluxor\u001b[39m\u001b[38;5;124m'\u001b[39m, \u001b[38;5;124m'\u001b[39m\u001b[38;5;124modessa\u001b[39m\u001b[38;5;124m'\u001b[39m, \u001b[38;5;124m'\u001b[39m\u001b[38;5;124mluanda\u001b[39m\u001b[38;5;124m'\u001b[39m])\n\u001b[0;32m----> 2\u001b[0m [s\u001b[38;5;241m.\u001b[39mcapitalize() \u001b[38;5;28;01mfor\u001b[39;00m s \u001b[38;5;129;01min\u001b[39;00m data]\n",
      "Cell \u001b[0;32mIn[20], line 2\u001b[0m, in \u001b[0;36m<listcomp>\u001b[0;34m(.0)\u001b[0m\n\u001b[1;32m      1\u001b[0m data \u001b[38;5;241m=\u001b[39m np\u001b[38;5;241m.\u001b[39marray([\u001b[38;5;124m'\u001b[39m\u001b[38;5;124mcaçapa\u001b[39m\u001b[38;5;124m'\u001b[39m, \u001b[38;5;124m'\u001b[39m\u001b[38;5;124mbroca\u001b[39m\u001b[38;5;124m'\u001b[39m, \u001b[38;5;124m'\u001b[39m\u001b[38;5;124msuccinto\u001b[39m\u001b[38;5;124m'\u001b[39m, \u001b[38;5;28;01mNone\u001b[39;00m, \u001b[38;5;124m'\u001b[39m\u001b[38;5;124mluxor\u001b[39m\u001b[38;5;124m'\u001b[39m, \u001b[38;5;124m'\u001b[39m\u001b[38;5;124modessa\u001b[39m\u001b[38;5;124m'\u001b[39m, \u001b[38;5;124m'\u001b[39m\u001b[38;5;124mluanda\u001b[39m\u001b[38;5;124m'\u001b[39m])\n\u001b[0;32m----> 2\u001b[0m [\u001b[43ms\u001b[49m\u001b[38;5;241;43m.\u001b[39;49m\u001b[43mcapitalize\u001b[49m() \u001b[38;5;28;01mfor\u001b[39;00m s \u001b[38;5;129;01min\u001b[39;00m data]\n",
      "\u001b[0;31mAttributeError\u001b[0m: 'NoneType' object has no attribute 'capitalize'"
     ]
    }
   ],
   "source": [
    "data = np.array(['caçapa', 'broca', 'succinto', None, 'luxor', 'odessa', 'luanda'])\n",
    "[s.capitalize() for s in data]"
   ]
  },
  {
   "cell_type": "markdown",
   "id": "fabd742e-e5a0-4472-9ce0-7d85d90fd1d4",
   "metadata": {},
   "source": [
    "o pandas, por sua vez, consegue generalizar as ufuncs para as strings:"
   ]
  },
  {
   "cell_type": "code",
   "execution_count": 21,
   "id": "8721cce1-bc9c-4f45-9585-9b805cc3d728",
   "metadata": {},
   "outputs": [
    {
     "data": {
      "text/plain": [
       "0      caçapa\n",
       "1       broca\n",
       "2    succinto\n",
       "3        None\n",
       "4       luxor\n",
       "5      odessa\n",
       "6      luanda\n",
       "dtype: object"
      ]
     },
     "execution_count": 21,
     "metadata": {},
     "output_type": "execute_result"
    }
   ],
   "source": [
    "name = pd.Series(['caçapa', 'broca', 'succinto', None, 'luxor', 'odessa', 'luanda'])\n",
    "name"
   ]
  },
  {
   "cell_type": "markdown",
   "id": "836b43fb-92e2-471d-9d70-59323dd17d68",
   "metadata": {},
   "source": [
    "assim,"
   ]
  },
  {
   "cell_type": "code",
   "execution_count": 22,
   "id": "d856ac6d-b08b-4dfd-a355-44891e853121",
   "metadata": {},
   "outputs": [
    {
     "data": {
      "text/plain": [
       "0      Caçapa\n",
       "1       Broca\n",
       "2    Succinto\n",
       "3        None\n",
       "4       Luxor\n",
       "5      Odessa\n",
       "6      Luanda\n",
       "dtype: object"
      ]
     },
     "execution_count": 22,
     "metadata": {},
     "output_type": "execute_result"
    }
   ],
   "source": [
    "name.str.capitalize()"
   ]
  },
  {
   "cell_type": "markdown",
   "id": "970b3700-0a06-4316-a38c-56fb420201e8",
   "metadata": {},
   "source": [
    "observe que, mesmo com a presença de um valor nulo, usando pandas funciona.\n",
    "\n",
    "É, no entanto, sempre necessário usar o atributo `str` para que funciona.\n",
    "\n",
    "Os métodos de pandas são, em sua maioria, iguais ao métodos nativos do python para lidar com strings:\n",
    "método()|método()|método()|método()\n",
    "---|---|---|---\n",
    "len|lower|translate|islower\n",
    "ljust|upper|startswith|isupper\n",
    "rjust|find|endswith|isnumeric\n",
    "center|rfind|isalnum|isdecimal\n",
    "zfill|index|isalpha|split\n",
    "strip|rindex|isdigit|rsplit\n",
    "rstrip|capitalize|isspace|partition\n",
    "lstrip|swapcase|istitle|rpartition\n",
    "\n",
    "outros métodos de pandas que não são nativos do python são\n",
    "método()|descrição\n",
    "---|---\n",
    "get|endereça cada elemento\n",
    "slice|divide cada elemento\n",
    "slice_replace|substitui cada divisão pelo valor passado\n",
    "cat|concatena strings\n",
    "repeat|repete valores\n",
    "normalize|retorns o código unicode da string\n",
    "pad|adiciona whitespace nos lados esquerdos, direitos ou nos dois da string\n",
    "wrap|divide longas strings em um tamanho menor que o valor passado\n",
    "join|junta strings de cada elemento da series com os separadores passados\n",
    "get_dummies|extrai variáveis *dummies* como uma dataframe"
   ]
  },
  {
   "cell_type": "markdown",
   "id": "65dbee2b-c8cb-4667-8b6b-2d90d6fa3569",
   "metadata": {},
   "source": [
    "assim, por exemplo, podemos usar `.slice()` para que só mostre algumas letras de cada nome da series exemplo:"
   ]
  },
  {
   "cell_type": "code",
   "execution_count": 23,
   "id": "1c10cd03-d2ff-4daa-84e3-62b37e274f46",
   "metadata": {},
   "outputs": [
    {
     "data": {
      "text/plain": [
       "0     caç\n",
       "1     bro\n",
       "2     suc\n",
       "3    None\n",
       "4     lux\n",
       "5     ode\n",
       "6     lua\n",
       "dtype: object"
      ]
     },
     "execution_count": 23,
     "metadata": {},
     "output_type": "execute_result"
    }
   ],
   "source": [
    "name.str.slice(0, 3)"
   ]
  },
  {
   "cell_type": "markdown",
   "id": "aed4514b-f8bc-4ea7-bfd5-41448dea3b13",
   "metadata": {},
   "source": [
    "neste exemplo, usar apenas o indexamento nativo do python funciona:"
   ]
  },
  {
   "cell_type": "code",
   "execution_count": 24,
   "id": "6bebbc9b-c202-4eb9-9070-520646d19615",
   "metadata": {},
   "outputs": [
    {
     "data": {
      "text/plain": [
       "0     caç\n",
       "1     bro\n",
       "2     suc\n",
       "3    None\n",
       "4     lux\n",
       "5     ode\n",
       "6     lua\n",
       "dtype: object"
      ]
     },
     "execution_count": 24,
     "metadata": {},
     "output_type": "execute_result"
    }
   ],
   "source": [
    "name.str[0:3]"
   ]
  },
  {
   "cell_type": "markdown",
   "id": "6770141f-f9d0-453c-a3e2-a21b84bab0ca",
   "metadata": {},
   "source": [
    "e note que é diferente do slice direto na series:"
   ]
  },
  {
   "cell_type": "code",
   "execution_count": 25,
   "id": "39aef162-c09c-4fdd-80f6-50252a793fc1",
   "metadata": {},
   "outputs": [
    {
     "data": {
      "text/plain": [
       "0      caçapa\n",
       "1       broca\n",
       "2    succinto\n",
       "dtype: object"
      ]
     },
     "execution_count": 25,
     "metadata": {},
     "output_type": "execute_result"
    }
   ],
   "source": [
    "name[0:3]"
   ]
  },
  {
   "cell_type": "markdown",
   "id": "1e4a2766-9ef1-428a-ac14-591df53920bf",
   "metadata": {},
   "source": [
    "`.get()` retorna apenas uma letra de cada valor:"
   ]
  },
  {
   "cell_type": "code",
   "execution_count": 26,
   "id": "964fd744-d4cb-466f-a87e-b9f2941e9bf7",
   "metadata": {},
   "outputs": [
    {
     "data": {
      "text/plain": [
       "0       a\n",
       "1       r\n",
       "2       u\n",
       "3    None\n",
       "4       u\n",
       "5       d\n",
       "6       u\n",
       "dtype: object"
      ]
     },
     "execution_count": 26,
     "metadata": {},
     "output_type": "execute_result"
    }
   ],
   "source": [
    "name.str.get(1)"
   ]
  },
  {
   "cell_type": "markdown",
   "id": "7f82c2f2-f286-40b4-b0d9-eee6e0fb890c",
   "metadata": {},
   "source": [
    "inclusive, pode ser usado com valores abstratos:"
   ]
  },
  {
   "cell_type": "code",
   "execution_count": 27,
   "id": "084b3ada-5400-4b7d-af9d-4811cccaa5f2",
   "metadata": {},
   "outputs": [
    {
     "data": {
      "text/plain": [
       "0       a\n",
       "1       a\n",
       "2       o\n",
       "3    None\n",
       "4       r\n",
       "5       a\n",
       "6       a\n",
       "dtype: object"
      ]
     },
     "execution_count": 27,
     "metadata": {},
     "output_type": "execute_result"
    }
   ],
   "source": [
    "name.str.get(-1)"
   ]
  },
  {
   "cell_type": "markdown",
   "id": "efe2da43-180e-470d-9524-4f19736f6452",
   "metadata": {},
   "source": [
    "ou, por exemplo, pegar apenas o último nome:"
   ]
  },
  {
   "cell_type": "code",
   "execution_count": 28,
   "id": "d8b7986c-bfe2-45ce-90d2-4c68c78a4a96",
   "metadata": {},
   "outputs": [
    {
     "data": {
      "text/plain": [
       "0    Graham Chapman\n",
       "1       John Cleese\n",
       "2     Terry Gilliam\n",
       "3         Eric Idle\n",
       "4       Terry Jones\n",
       "5     Michael Palin\n",
       "dtype: object"
      ]
     },
     "execution_count": 28,
     "metadata": {},
     "output_type": "execute_result"
    }
   ],
   "source": [
    "monte = pd.Series(['Graham Chapman', 'John Cleese', 'Terry Gilliam','Eric Idle', 'Terry Jones', 'Michael Palin'])\n",
    "monte"
   ]
  },
  {
   "cell_type": "code",
   "execution_count": 29,
   "id": "9410967d-f698-4c4a-8704-64c951fdc200",
   "metadata": {},
   "outputs": [
    {
     "data": {
      "text/plain": [
       "0    Chapman\n",
       "1     Cleese\n",
       "2    Gilliam\n",
       "3       Idle\n",
       "4      Jones\n",
       "5      Palin\n",
       "dtype: object"
      ]
     },
     "execution_count": 29,
     "metadata": {},
     "output_type": "execute_result"
    }
   ],
   "source": [
    "monte.str.split().str.get(-1)"
   ]
  },
  {
   "cell_type": "markdown",
   "id": "b6ce02ce-924d-4003-9b61-9aa04a173029",
   "metadata": {},
   "source": [
    "o método `.get_dummies()` serve para separar informações, por exemplo, codificadas:"
   ]
  },
  {
   "cell_type": "code",
   "execution_count": 30,
   "id": "1a8633da-ceff-4d56-b0f0-2c9a0c89c2ee",
   "metadata": {},
   "outputs": [
    {
     "data": {
      "text/html": [
       "<div>\n",
       "<style scoped>\n",
       "    .dataframe tbody tr th:only-of-type {\n",
       "        vertical-align: middle;\n",
       "    }\n",
       "\n",
       "    .dataframe tbody tr th {\n",
       "        vertical-align: top;\n",
       "    }\n",
       "\n",
       "    .dataframe thead th {\n",
       "        text-align: right;\n",
       "    }\n",
       "</style>\n",
       "<table border=\"1\" class=\"dataframe\">\n",
       "  <thead>\n",
       "    <tr style=\"text-align: right;\">\n",
       "      <th></th>\n",
       "      <th>nome</th>\n",
       "      <th>info</th>\n",
       "    </tr>\n",
       "  </thead>\n",
       "  <tbody>\n",
       "    <tr>\n",
       "      <th>0</th>\n",
       "      <td>Graham Chapman</td>\n",
       "      <td>B|C|D</td>\n",
       "    </tr>\n",
       "    <tr>\n",
       "      <th>1</th>\n",
       "      <td>John Cleese</td>\n",
       "      <td>B|D</td>\n",
       "    </tr>\n",
       "    <tr>\n",
       "      <th>2</th>\n",
       "      <td>Terry Gilliam</td>\n",
       "      <td>A|C</td>\n",
       "    </tr>\n",
       "    <tr>\n",
       "      <th>3</th>\n",
       "      <td>Eric Idle</td>\n",
       "      <td>B|D</td>\n",
       "    </tr>\n",
       "    <tr>\n",
       "      <th>4</th>\n",
       "      <td>Terry Jones</td>\n",
       "      <td>B|C</td>\n",
       "    </tr>\n",
       "    <tr>\n",
       "      <th>5</th>\n",
       "      <td>Michael Palin</td>\n",
       "      <td>B|C|D</td>\n",
       "    </tr>\n",
       "  </tbody>\n",
       "</table>\n",
       "</div>"
      ],
      "text/plain": [
       "             nome   info\n",
       "0  Graham Chapman  B|C|D\n",
       "1     John Cleese    B|D\n",
       "2   Terry Gilliam    A|C\n",
       "3       Eric Idle    B|D\n",
       "4     Terry Jones    B|C\n",
       "5   Michael Palin  B|C|D"
      ]
     },
     "execution_count": 30,
     "metadata": {},
     "output_type": "execute_result"
    }
   ],
   "source": [
    "full_monty = pd.DataFrame({'nome': monte, 'info':['B|C|D', 'B|D', 'A|C', 'B|D', 'B|C', 'B|C|D']})\n",
    "full_monty"
   ]
  },
  {
   "cell_type": "markdown",
   "id": "7d593d9d-334c-4731-9924-f42d834026ad",
   "metadata": {},
   "source": [
    "assim, "
   ]
  },
  {
   "cell_type": "code",
   "execution_count": 31,
   "id": "856bca69-dbe1-4336-908c-bcd98b1909fb",
   "metadata": {},
   "outputs": [
    {
     "data": {
      "text/html": [
       "<div>\n",
       "<style scoped>\n",
       "    .dataframe tbody tr th:only-of-type {\n",
       "        vertical-align: middle;\n",
       "    }\n",
       "\n",
       "    .dataframe tbody tr th {\n",
       "        vertical-align: top;\n",
       "    }\n",
       "\n",
       "    .dataframe thead th {\n",
       "        text-align: right;\n",
       "    }\n",
       "</style>\n",
       "<table border=\"1\" class=\"dataframe\">\n",
       "  <thead>\n",
       "    <tr style=\"text-align: right;\">\n",
       "      <th></th>\n",
       "      <th>A</th>\n",
       "      <th>B</th>\n",
       "      <th>C</th>\n",
       "      <th>D</th>\n",
       "    </tr>\n",
       "  </thead>\n",
       "  <tbody>\n",
       "    <tr>\n",
       "      <th>0</th>\n",
       "      <td>0</td>\n",
       "      <td>1</td>\n",
       "      <td>1</td>\n",
       "      <td>1</td>\n",
       "    </tr>\n",
       "    <tr>\n",
       "      <th>1</th>\n",
       "      <td>0</td>\n",
       "      <td>1</td>\n",
       "      <td>0</td>\n",
       "      <td>1</td>\n",
       "    </tr>\n",
       "    <tr>\n",
       "      <th>2</th>\n",
       "      <td>1</td>\n",
       "      <td>0</td>\n",
       "      <td>1</td>\n",
       "      <td>0</td>\n",
       "    </tr>\n",
       "    <tr>\n",
       "      <th>3</th>\n",
       "      <td>0</td>\n",
       "      <td>1</td>\n",
       "      <td>0</td>\n",
       "      <td>1</td>\n",
       "    </tr>\n",
       "    <tr>\n",
       "      <th>4</th>\n",
       "      <td>0</td>\n",
       "      <td>1</td>\n",
       "      <td>1</td>\n",
       "      <td>0</td>\n",
       "    </tr>\n",
       "    <tr>\n",
       "      <th>5</th>\n",
       "      <td>0</td>\n",
       "      <td>1</td>\n",
       "      <td>1</td>\n",
       "      <td>1</td>\n",
       "    </tr>\n",
       "  </tbody>\n",
       "</table>\n",
       "</div>"
      ],
      "text/plain": [
       "   A  B  C  D\n",
       "0  0  1  1  1\n",
       "1  0  1  0  1\n",
       "2  1  0  1  0\n",
       "3  0  1  0  1\n",
       "4  0  1  1  0\n",
       "5  0  1  1  1"
      ]
     },
     "execution_count": 31,
     "metadata": {},
     "output_type": "execute_result"
    }
   ],
   "source": [
    "full_monty['info'].str.get_dummies('|')"
   ]
  },
  {
   "cell_type": "markdown",
   "id": "769a3186-07ff-4479-93b7-31855cbe4a68",
   "metadata": {},
   "source": [
    "a manuipulação de string no pandas é importante, pois dados da vida real são mais bagunçados e alguns podem precisar de uma organização para que as informações sejam encontradas, e isto pode ser feito com estes métodos de string."
   ]
  },
  {
   "cell_type": "markdown",
   "id": "116bd703-e07d-4bfe-b89c-63157e185a88",
   "metadata": {},
   "source": [
    "#### panda de alta perfomance\n",
    "---"
   ]
  },
  {
   "cell_type": "markdown",
   "id": "16327476-c1e8-4c5f-947d-e3205cce0601",
   "metadata": {},
   "source": [
    "como para fazer operações entre datasets, pandas ocupa temporariamente memória, as operações podem se tornar lentas quanto maiores forem os datasets. Por isso, pandas tem os métodos `.eval()` e `.query()`, que ajudam na performance das operações. Seguindo o exemplo, onde são criados quatro dataframes consideravelmente grandes:"
   ]
  },
  {
   "cell_type": "code",
   "execution_count": 32,
   "id": "96f7d25e-5262-4943-980a-0886e63ece99",
   "metadata": {},
   "outputs": [],
   "source": [
    "nrows, ncols = 100000, 100\n",
    "rng = np.random.RandomState(42)\n",
    "df1, df2, df3, df4 = (pd.DataFrame(rng.rand(nrows, ncols))\n",
    "                      for i in range(4))"
   ]
  },
  {
   "cell_type": "markdown",
   "id": "f69dadc6-f185-4020-979c-b2391a606bac",
   "metadata": {},
   "source": [
    "agora, observe o tempo que leva para calcular a soma desses quatro datraframes:"
   ]
  },
  {
   "cell_type": "code",
   "execution_count": 33,
   "id": "50052846-50b9-491a-8ca6-1a7b5f699aa3",
   "metadata": {},
   "outputs": [
    {
     "name": "stdout",
     "output_type": "stream",
     "text": [
      "104 ms ± 3.4 ms per loop (mean ± std. dev. of 7 runs, 10 loops each)\n"
     ]
    }
   ],
   "source": [
    "%timeit df1 + df2 + df3 + df4"
   ]
  },
  {
   "cell_type": "markdown",
   "id": "15eea878-d34b-48b1-a877-13398b1fa03d",
   "metadata": {},
   "source": [
    "compare, então, com a mesma operação só que feita através do método `.eval()`:"
   ]
  },
  {
   "cell_type": "code",
   "execution_count": 34,
   "id": "a93036b5-5543-4bb1-bda9-1674dec718db",
   "metadata": {},
   "outputs": [
    {
     "name": "stdout",
     "output_type": "stream",
     "text": [
      "103 ms ± 371 µs per loop (mean ± std. dev. of 7 runs, 10 loops each)\n"
     ]
    }
   ],
   "source": [
    "%timeit pd.eval('df1 + df2 + df3 + df4')"
   ]
  },
  {
   "cell_type": "markdown",
   "id": "3b0a6cf2-8843-492d-93aa-fbef673448db",
   "metadata": {},
   "source": [
    "o método `.eval()` recebe, como uma string, as operações que o usuário deseja fazer.\n",
    "\n",
    "Este método suporta\n",
    "1. todas as operações aritméticas. Por exemplo, `pd.eval('-df1 * df2 / (df3 + df4) - df5')`;\n",
    "2. todas as operações de comparção. Por exemplo, `pd.eval('df1 < df2 <= df3 != df4')`;\n",
    "3. todas as operações binárias. Por exemplo, `pd.eval('(df1 < 0.5) & (df2 < 0.5) | (df3 < df4)')`, inclusive pode substituir `&` por `and` e `|` por `or`;\n",
    "4. todas as operações de indexing e slicing. Por exemplo, `pd.eval('df2.T[0] + df3.iloc[1]')`;\n",
    "5. dentre outras operações, como chamada de funções, condicionais, loops, etc."
   ]
  },
  {
   "cell_type": "markdown",
   "id": "b6a58a51-67f8-4ad4-96d7-33d3f5cf86cc",
   "metadata": {},
   "source": [
    "para trabalhar com colunas usando `.eval()`, em dataframes, há duas formas possíveis:"
   ]
  },
  {
   "cell_type": "code",
   "execution_count": 35,
   "id": "7ff7b4ac-8366-4451-8a42-86e865f28da0",
   "metadata": {},
   "outputs": [
    {
     "data": {
      "text/html": [
       "<div>\n",
       "<style scoped>\n",
       "    .dataframe tbody tr th:only-of-type {\n",
       "        vertical-align: middle;\n",
       "    }\n",
       "\n",
       "    .dataframe tbody tr th {\n",
       "        vertical-align: top;\n",
       "    }\n",
       "\n",
       "    .dataframe thead th {\n",
       "        text-align: right;\n",
       "    }\n",
       "</style>\n",
       "<table border=\"1\" class=\"dataframe\">\n",
       "  <thead>\n",
       "    <tr style=\"text-align: right;\">\n",
       "      <th></th>\n",
       "      <th>A</th>\n",
       "      <th>B</th>\n",
       "      <th>C</th>\n",
       "    </tr>\n",
       "  </thead>\n",
       "  <tbody>\n",
       "    <tr>\n",
       "      <th>0</th>\n",
       "      <td>0.615875</td>\n",
       "      <td>0.525167</td>\n",
       "      <td>0.047354</td>\n",
       "    </tr>\n",
       "    <tr>\n",
       "      <th>1</th>\n",
       "      <td>0.330858</td>\n",
       "      <td>0.412879</td>\n",
       "      <td>0.441564</td>\n",
       "    </tr>\n",
       "    <tr>\n",
       "      <th>2</th>\n",
       "      <td>0.689047</td>\n",
       "      <td>0.559068</td>\n",
       "      <td>0.230350</td>\n",
       "    </tr>\n",
       "    <tr>\n",
       "      <th>3</th>\n",
       "      <td>0.290486</td>\n",
       "      <td>0.695479</td>\n",
       "      <td>0.852587</td>\n",
       "    </tr>\n",
       "    <tr>\n",
       "      <th>4</th>\n",
       "      <td>0.424280</td>\n",
       "      <td>0.534344</td>\n",
       "      <td>0.245216</td>\n",
       "    </tr>\n",
       "    <tr>\n",
       "      <th>...</th>\n",
       "      <td>...</td>\n",
       "      <td>...</td>\n",
       "      <td>...</td>\n",
       "    </tr>\n",
       "    <tr>\n",
       "      <th>995</th>\n",
       "      <td>0.746470</td>\n",
       "      <td>0.545752</td>\n",
       "      <td>0.614236</td>\n",
       "    </tr>\n",
       "    <tr>\n",
       "      <th>996</th>\n",
       "      <td>0.223362</td>\n",
       "      <td>0.748549</td>\n",
       "      <td>0.550715</td>\n",
       "    </tr>\n",
       "    <tr>\n",
       "      <th>997</th>\n",
       "      <td>0.047455</td>\n",
       "      <td>0.450104</td>\n",
       "      <td>0.468734</td>\n",
       "    </tr>\n",
       "    <tr>\n",
       "      <th>998</th>\n",
       "      <td>0.895440</td>\n",
       "      <td>0.894235</td>\n",
       "      <td>0.209260</td>\n",
       "    </tr>\n",
       "    <tr>\n",
       "      <th>999</th>\n",
       "      <td>0.254963</td>\n",
       "      <td>0.861045</td>\n",
       "      <td>0.704858</td>\n",
       "    </tr>\n",
       "  </tbody>\n",
       "</table>\n",
       "<p>1000 rows × 3 columns</p>\n",
       "</div>"
      ],
      "text/plain": [
       "            A         B         C\n",
       "0    0.615875  0.525167  0.047354\n",
       "1    0.330858  0.412879  0.441564\n",
       "2    0.689047  0.559068  0.230350\n",
       "3    0.290486  0.695479  0.852587\n",
       "4    0.424280  0.534344  0.245216\n",
       "..        ...       ...       ...\n",
       "995  0.746470  0.545752  0.614236\n",
       "996  0.223362  0.748549  0.550715\n",
       "997  0.047455  0.450104  0.468734\n",
       "998  0.895440  0.894235  0.209260\n",
       "999  0.254963  0.861045  0.704858\n",
       "\n",
       "[1000 rows x 3 columns]"
      ]
     },
     "execution_count": 35,
     "metadata": {},
     "output_type": "execute_result"
    }
   ],
   "source": [
    "df = pd.DataFrame(rng.rand(1000, 3), columns=['A', 'B', 'C'])\n",
    "df"
   ]
  },
  {
   "cell_type": "markdown",
   "id": "3b9da2f4-4b0e-45cc-9e8d-9b7bddee1c2b",
   "metadata": {},
   "source": [
    "em uma forma, `eval()` é chamado através do próprio pandas, e cada coluna é chamada como um atributo do dataframe:"
   ]
  },
  {
   "cell_type": "code",
   "execution_count": 36,
   "id": "75665146-b40b-4e19-a459-2a87be469ea9",
   "metadata": {},
   "outputs": [
    {
     "data": {
      "text/plain": [
       "0     -1.197761\n",
       "1     -1.331822\n",
       "2     -1.621667\n",
       "3     -6.688481\n",
       "4     -1.270064\n",
       "         ...   \n",
       "995   -3.349773\n",
       "996   -2.163240\n",
       "997   -0.936554\n",
       "998   -2.263292\n",
       "999   -3.781258\n",
       "Length: 1000, dtype: float64"
      ]
     },
     "execution_count": 36,
     "metadata": {},
     "output_type": "execute_result"
    }
   ],
   "source": [
    "pd.eval(\"(df.A + df.B) / (df.C - 1)\")"
   ]
  },
  {
   "cell_type": "markdown",
   "id": "a00314b9-52ee-4ffa-9732-1ec74ff0b511",
   "metadata": {},
   "source": [
    "na outra forma, `.eval()` é chamado através do dataframe em que se está trabalhando, e as colunas são chamadas como variáveis:"
   ]
  },
  {
   "cell_type": "code",
   "execution_count": 37,
   "id": "4fc74bf4-d8f4-49ef-a76f-f39a452794cd",
   "metadata": {},
   "outputs": [
    {
     "data": {
      "text/plain": [
       "0     -1.197761\n",
       "1     -1.331822\n",
       "2     -1.621667\n",
       "3     -6.688481\n",
       "4     -1.270064\n",
       "         ...   \n",
       "995   -3.349773\n",
       "996   -2.163240\n",
       "997   -0.936554\n",
       "998   -2.263292\n",
       "999   -3.781258\n",
       "Length: 1000, dtype: float64"
      ]
     },
     "execution_count": 37,
     "metadata": {},
     "output_type": "execute_result"
    }
   ],
   "source": [
    "df.eval('(A + B) / (C-1)')"
   ]
  },
  {
   "cell_type": "markdown",
   "id": "3f56d86a-eb0a-46c4-a63c-7aee2ea11823",
   "metadata": {},
   "source": [
    "pode-se, inclusve, adicionar novas informações ao dataset usando `.eval()`, como, por exemplo, adicionar uma coluna `D` no dataframe:"
   ]
  },
  {
   "cell_type": "code",
   "execution_count": 38,
   "id": "a3cac99d-3eaa-4c5a-9344-44b9acfe7b35",
   "metadata": {},
   "outputs": [
    {
     "data": {
      "text/html": [
       "<div>\n",
       "<style scoped>\n",
       "    .dataframe tbody tr th:only-of-type {\n",
       "        vertical-align: middle;\n",
       "    }\n",
       "\n",
       "    .dataframe tbody tr th {\n",
       "        vertical-align: top;\n",
       "    }\n",
       "\n",
       "    .dataframe thead th {\n",
       "        text-align: right;\n",
       "    }\n",
       "</style>\n",
       "<table border=\"1\" class=\"dataframe\">\n",
       "  <thead>\n",
       "    <tr style=\"text-align: right;\">\n",
       "      <th></th>\n",
       "      <th>A</th>\n",
       "      <th>B</th>\n",
       "      <th>C</th>\n",
       "      <th>D</th>\n",
       "    </tr>\n",
       "  </thead>\n",
       "  <tbody>\n",
       "    <tr>\n",
       "      <th>0</th>\n",
       "      <td>0.615875</td>\n",
       "      <td>0.525167</td>\n",
       "      <td>0.047354</td>\n",
       "      <td>24.095868</td>\n",
       "    </tr>\n",
       "    <tr>\n",
       "      <th>1</th>\n",
       "      <td>0.330858</td>\n",
       "      <td>0.412879</td>\n",
       "      <td>0.441564</td>\n",
       "      <td>1.684325</td>\n",
       "    </tr>\n",
       "    <tr>\n",
       "      <th>2</th>\n",
       "      <td>0.689047</td>\n",
       "      <td>0.559068</td>\n",
       "      <td>0.230350</td>\n",
       "      <td>5.418335</td>\n",
       "    </tr>\n",
       "    <tr>\n",
       "      <th>3</th>\n",
       "      <td>0.290486</td>\n",
       "      <td>0.695479</td>\n",
       "      <td>0.852587</td>\n",
       "      <td>1.156439</td>\n",
       "    </tr>\n",
       "    <tr>\n",
       "      <th>4</th>\n",
       "      <td>0.424280</td>\n",
       "      <td>0.534344</td>\n",
       "      <td>0.245216</td>\n",
       "      <td>3.909296</td>\n",
       "    </tr>\n",
       "    <tr>\n",
       "      <th>...</th>\n",
       "      <td>...</td>\n",
       "      <td>...</td>\n",
       "      <td>...</td>\n",
       "      <td>...</td>\n",
       "    </tr>\n",
       "    <tr>\n",
       "      <th>995</th>\n",
       "      <td>0.746470</td>\n",
       "      <td>0.545752</td>\n",
       "      <td>0.614236</td>\n",
       "      <td>2.103789</td>\n",
       "    </tr>\n",
       "    <tr>\n",
       "      <th>996</th>\n",
       "      <td>0.223362</td>\n",
       "      <td>0.748549</td>\n",
       "      <td>0.550715</td>\n",
       "      <td>1.764818</td>\n",
       "    </tr>\n",
       "    <tr>\n",
       "      <th>997</th>\n",
       "      <td>0.047455</td>\n",
       "      <td>0.450104</td>\n",
       "      <td>0.468734</td>\n",
       "      <td>1.061497</td>\n",
       "    </tr>\n",
       "    <tr>\n",
       "      <th>998</th>\n",
       "      <td>0.895440</td>\n",
       "      <td>0.894235</td>\n",
       "      <td>0.209260</td>\n",
       "      <td>8.552382</td>\n",
       "    </tr>\n",
       "    <tr>\n",
       "      <th>999</th>\n",
       "      <td>0.254963</td>\n",
       "      <td>0.861045</td>\n",
       "      <td>0.704858</td>\n",
       "      <td>1.583308</td>\n",
       "    </tr>\n",
       "  </tbody>\n",
       "</table>\n",
       "<p>1000 rows × 4 columns</p>\n",
       "</div>"
      ],
      "text/plain": [
       "            A         B         C          D\n",
       "0    0.615875  0.525167  0.047354  24.095868\n",
       "1    0.330858  0.412879  0.441564   1.684325\n",
       "2    0.689047  0.559068  0.230350   5.418335\n",
       "3    0.290486  0.695479  0.852587   1.156439\n",
       "4    0.424280  0.534344  0.245216   3.909296\n",
       "..        ...       ...       ...        ...\n",
       "995  0.746470  0.545752  0.614236   2.103789\n",
       "996  0.223362  0.748549  0.550715   1.764818\n",
       "997  0.047455  0.450104  0.468734   1.061497\n",
       "998  0.895440  0.894235  0.209260   8.552382\n",
       "999  0.254963  0.861045  0.704858   1.583308\n",
       "\n",
       "[1000 rows x 4 columns]"
      ]
     },
     "execution_count": 38,
     "metadata": {},
     "output_type": "execute_result"
    }
   ],
   "source": [
    "df.eval('D = (A + B) / C', inplace=True)\n",
    "df"
   ]
  },
  {
   "cell_type": "markdown",
   "id": "5fde1c4e-dc84-4283-a566-e3ee160f6a85",
   "metadata": {},
   "source": [
    "ou, ainda, modificar informações já no dataframes:"
   ]
  },
  {
   "cell_type": "code",
   "execution_count": 39,
   "id": "3b187ac6-2c62-462b-a45a-16df743b4ed0",
   "metadata": {},
   "outputs": [
    {
     "data": {
      "text/html": [
       "<div>\n",
       "<style scoped>\n",
       "    .dataframe tbody tr th:only-of-type {\n",
       "        vertical-align: middle;\n",
       "    }\n",
       "\n",
       "    .dataframe tbody tr th {\n",
       "        vertical-align: top;\n",
       "    }\n",
       "\n",
       "    .dataframe thead th {\n",
       "        text-align: right;\n",
       "    }\n",
       "</style>\n",
       "<table border=\"1\" class=\"dataframe\">\n",
       "  <thead>\n",
       "    <tr style=\"text-align: right;\">\n",
       "      <th></th>\n",
       "      <th>A</th>\n",
       "      <th>B</th>\n",
       "      <th>C</th>\n",
       "      <th>D</th>\n",
       "    </tr>\n",
       "  </thead>\n",
       "  <tbody>\n",
       "    <tr>\n",
       "      <th>0</th>\n",
       "      <td>0.615875</td>\n",
       "      <td>0.525167</td>\n",
       "      <td>0.047354</td>\n",
       "      <td>1.915527</td>\n",
       "    </tr>\n",
       "    <tr>\n",
       "      <th>1</th>\n",
       "      <td>0.330858</td>\n",
       "      <td>0.412879</td>\n",
       "      <td>0.441564</td>\n",
       "      <td>-0.185752</td>\n",
       "    </tr>\n",
       "    <tr>\n",
       "      <th>2</th>\n",
       "      <td>0.689047</td>\n",
       "      <td>0.559068</td>\n",
       "      <td>0.230350</td>\n",
       "      <td>0.564268</td>\n",
       "    </tr>\n",
       "    <tr>\n",
       "      <th>3</th>\n",
       "      <td>0.290486</td>\n",
       "      <td>0.695479</td>\n",
       "      <td>0.852587</td>\n",
       "      <td>-0.475016</td>\n",
       "    </tr>\n",
       "    <tr>\n",
       "      <th>4</th>\n",
       "      <td>0.424280</td>\n",
       "      <td>0.534344</td>\n",
       "      <td>0.245216</td>\n",
       "      <td>-0.448844</td>\n",
       "    </tr>\n",
       "    <tr>\n",
       "      <th>...</th>\n",
       "      <td>...</td>\n",
       "      <td>...</td>\n",
       "      <td>...</td>\n",
       "      <td>...</td>\n",
       "    </tr>\n",
       "    <tr>\n",
       "      <th>995</th>\n",
       "      <td>0.746470</td>\n",
       "      <td>0.545752</td>\n",
       "      <td>0.614236</td>\n",
       "      <td>0.326776</td>\n",
       "    </tr>\n",
       "    <tr>\n",
       "      <th>996</th>\n",
       "      <td>0.223362</td>\n",
       "      <td>0.748549</td>\n",
       "      <td>0.550715</td>\n",
       "      <td>-0.953646</td>\n",
       "    </tr>\n",
       "    <tr>\n",
       "      <th>997</th>\n",
       "      <td>0.047455</td>\n",
       "      <td>0.450104</td>\n",
       "      <td>0.468734</td>\n",
       "      <td>-0.859015</td>\n",
       "    </tr>\n",
       "    <tr>\n",
       "      <th>998</th>\n",
       "      <td>0.895440</td>\n",
       "      <td>0.894235</td>\n",
       "      <td>0.209260</td>\n",
       "      <td>0.005759</td>\n",
       "    </tr>\n",
       "    <tr>\n",
       "      <th>999</th>\n",
       "      <td>0.254963</td>\n",
       "      <td>0.861045</td>\n",
       "      <td>0.704858</td>\n",
       "      <td>-0.859864</td>\n",
       "    </tr>\n",
       "  </tbody>\n",
       "</table>\n",
       "<p>1000 rows × 4 columns</p>\n",
       "</div>"
      ],
      "text/plain": [
       "            A         B         C         D\n",
       "0    0.615875  0.525167  0.047354  1.915527\n",
       "1    0.330858  0.412879  0.441564 -0.185752\n",
       "2    0.689047  0.559068  0.230350  0.564268\n",
       "3    0.290486  0.695479  0.852587 -0.475016\n",
       "4    0.424280  0.534344  0.245216 -0.448844\n",
       "..        ...       ...       ...       ...\n",
       "995  0.746470  0.545752  0.614236  0.326776\n",
       "996  0.223362  0.748549  0.550715 -0.953646\n",
       "997  0.047455  0.450104  0.468734 -0.859015\n",
       "998  0.895440  0.894235  0.209260  0.005759\n",
       "999  0.254963  0.861045  0.704858 -0.859864\n",
       "\n",
       "[1000 rows x 4 columns]"
      ]
     },
     "execution_count": 39,
     "metadata": {},
     "output_type": "execute_result"
    }
   ],
   "source": [
    "df.eval('D = (A - B) / C', inplace=True)\n",
    "df"
   ]
  },
  {
   "cell_type": "markdown",
   "id": "5b3db064-3502-425e-88be-e92b7a8a830d",
   "metadata": {},
   "source": [
    "pode, até mesmo, ter acesso às variáveis do código python, usando `@`:"
   ]
  },
  {
   "cell_type": "code",
   "execution_count": 40,
   "id": "28811942-8159-4791-b888-7cf6bc20f40c",
   "metadata": {},
   "outputs": [
    {
     "data": {
      "text/html": [
       "<div>\n",
       "<style scoped>\n",
       "    .dataframe tbody tr th:only-of-type {\n",
       "        vertical-align: middle;\n",
       "    }\n",
       "\n",
       "    .dataframe tbody tr th {\n",
       "        vertical-align: top;\n",
       "    }\n",
       "\n",
       "    .dataframe thead th {\n",
       "        text-align: right;\n",
       "    }\n",
       "</style>\n",
       "<table border=\"1\" class=\"dataframe\">\n",
       "  <thead>\n",
       "    <tr style=\"text-align: right;\">\n",
       "      <th></th>\n",
       "      <th>A</th>\n",
       "      <th>B</th>\n",
       "      <th>C</th>\n",
       "      <th>D</th>\n",
       "    </tr>\n",
       "  </thead>\n",
       "  <tbody>\n",
       "    <tr>\n",
       "      <th>0</th>\n",
       "      <td>0.615875</td>\n",
       "      <td>0.525167</td>\n",
       "      <td>0.047354</td>\n",
       "      <td>1.915527</td>\n",
       "    </tr>\n",
       "    <tr>\n",
       "      <th>1</th>\n",
       "      <td>0.330858</td>\n",
       "      <td>0.412879</td>\n",
       "      <td>0.441564</td>\n",
       "      <td>-0.185752</td>\n",
       "    </tr>\n",
       "    <tr>\n",
       "      <th>2</th>\n",
       "      <td>0.689047</td>\n",
       "      <td>0.559068</td>\n",
       "      <td>0.230350</td>\n",
       "      <td>0.564268</td>\n",
       "    </tr>\n",
       "    <tr>\n",
       "      <th>3</th>\n",
       "      <td>0.290486</td>\n",
       "      <td>0.695479</td>\n",
       "      <td>0.852587</td>\n",
       "      <td>-0.475016</td>\n",
       "    </tr>\n",
       "    <tr>\n",
       "      <th>4</th>\n",
       "      <td>0.424280</td>\n",
       "      <td>0.534344</td>\n",
       "      <td>0.245216</td>\n",
       "      <td>-0.448844</td>\n",
       "    </tr>\n",
       "    <tr>\n",
       "      <th>...</th>\n",
       "      <td>...</td>\n",
       "      <td>...</td>\n",
       "      <td>...</td>\n",
       "      <td>...</td>\n",
       "    </tr>\n",
       "    <tr>\n",
       "      <th>995</th>\n",
       "      <td>0.746470</td>\n",
       "      <td>0.545752</td>\n",
       "      <td>0.614236</td>\n",
       "      <td>0.326776</td>\n",
       "    </tr>\n",
       "    <tr>\n",
       "      <th>996</th>\n",
       "      <td>0.223362</td>\n",
       "      <td>0.748549</td>\n",
       "      <td>0.550715</td>\n",
       "      <td>-0.953646</td>\n",
       "    </tr>\n",
       "    <tr>\n",
       "      <th>997</th>\n",
       "      <td>0.047455</td>\n",
       "      <td>0.450104</td>\n",
       "      <td>0.468734</td>\n",
       "      <td>-0.859015</td>\n",
       "    </tr>\n",
       "    <tr>\n",
       "      <th>998</th>\n",
       "      <td>0.895440</td>\n",
       "      <td>0.894235</td>\n",
       "      <td>0.209260</td>\n",
       "      <td>0.005759</td>\n",
       "    </tr>\n",
       "    <tr>\n",
       "      <th>999</th>\n",
       "      <td>0.254963</td>\n",
       "      <td>0.861045</td>\n",
       "      <td>0.704858</td>\n",
       "      <td>-0.859864</td>\n",
       "    </tr>\n",
       "  </tbody>\n",
       "</table>\n",
       "<p>1000 rows × 4 columns</p>\n",
       "</div>"
      ],
      "text/plain": [
       "            A         B         C         D\n",
       "0    0.615875  0.525167  0.047354  1.915527\n",
       "1    0.330858  0.412879  0.441564 -0.185752\n",
       "2    0.689047  0.559068  0.230350  0.564268\n",
       "3    0.290486  0.695479  0.852587 -0.475016\n",
       "4    0.424280  0.534344  0.245216 -0.448844\n",
       "..        ...       ...       ...       ...\n",
       "995  0.746470  0.545752  0.614236  0.326776\n",
       "996  0.223362  0.748549  0.550715 -0.953646\n",
       "997  0.047455  0.450104  0.468734 -0.859015\n",
       "998  0.895440  0.894235  0.209260  0.005759\n",
       "999  0.254963  0.861045  0.704858 -0.859864\n",
       "\n",
       "[1000 rows x 4 columns]"
      ]
     },
     "execution_count": 40,
     "metadata": {},
     "output_type": "execute_result"
    }
   ],
   "source": [
    "column_mean = df.sum()\n",
    "df.eval('A * @column_mean')\n",
    "df"
   ]
  },
  {
   "cell_type": "markdown",
   "id": "1f2bc533-6956-432c-acdf-046cca9f6e31",
   "metadata": {},
   "source": [
    "é, no entanto, importante observar que usar `@` para referenciar variáveis do python só serve quando `.eval()` é chamado através do dataframe. Se `.eval()` for chamado pelo pandas, não funcionará."
   ]
  },
  {
   "cell_type": "markdown",
   "id": "35e575e1-4494-4153-a6b5-4ac2433dc9ed",
   "metadata": {},
   "source": [
    "ainda assim, `.eval()` não funciona para todos os casos, como, por exemplo, quando deseja que o dataset retorne algum valor, como num slicing ou indexing, para isso, deve ser usado o `.eval()` chamado pelo pandas ou usado o método `.query()`, que sempre será chamado pelo dataset:"
   ]
  },
  {
   "cell_type": "code",
   "execution_count": 41,
   "id": "ca8753a6-0018-4d27-992d-8775b28285a7",
   "metadata": {},
   "outputs": [
    {
     "data": {
      "text/html": [
       "<div>\n",
       "<style scoped>\n",
       "    .dataframe tbody tr th:only-of-type {\n",
       "        vertical-align: middle;\n",
       "    }\n",
       "\n",
       "    .dataframe tbody tr th {\n",
       "        vertical-align: top;\n",
       "    }\n",
       "\n",
       "    .dataframe thead th {\n",
       "        text-align: right;\n",
       "    }\n",
       "</style>\n",
       "<table border=\"1\" class=\"dataframe\">\n",
       "  <thead>\n",
       "    <tr style=\"text-align: right;\">\n",
       "      <th></th>\n",
       "      <th>A</th>\n",
       "      <th>B</th>\n",
       "      <th>C</th>\n",
       "      <th>D</th>\n",
       "    </tr>\n",
       "  </thead>\n",
       "  <tbody>\n",
       "    <tr>\n",
       "      <th>1</th>\n",
       "      <td>0.330858</td>\n",
       "      <td>0.412879</td>\n",
       "      <td>0.441564</td>\n",
       "      <td>-0.185752</td>\n",
       "    </tr>\n",
       "    <tr>\n",
       "      <th>8</th>\n",
       "      <td>0.448611</td>\n",
       "      <td>0.415924</td>\n",
       "      <td>0.481001</td>\n",
       "      <td>0.067958</td>\n",
       "    </tr>\n",
       "    <tr>\n",
       "      <th>10</th>\n",
       "      <td>0.112910</td>\n",
       "      <td>0.394884</td>\n",
       "      <td>0.950129</td>\n",
       "      <td>-0.296774</td>\n",
       "    </tr>\n",
       "    <tr>\n",
       "      <th>11</th>\n",
       "      <td>0.191011</td>\n",
       "      <td>0.118751</td>\n",
       "      <td>0.130223</td>\n",
       "      <td>0.554895</td>\n",
       "    </tr>\n",
       "    <tr>\n",
       "      <th>14</th>\n",
       "      <td>0.075723</td>\n",
       "      <td>0.260648</td>\n",
       "      <td>0.956146</td>\n",
       "      <td>-0.193407</td>\n",
       "    </tr>\n",
       "    <tr>\n",
       "      <th>...</th>\n",
       "      <td>...</td>\n",
       "      <td>...</td>\n",
       "      <td>...</td>\n",
       "      <td>...</td>\n",
       "    </tr>\n",
       "    <tr>\n",
       "      <th>964</th>\n",
       "      <td>0.478935</td>\n",
       "      <td>0.196736</td>\n",
       "      <td>0.913372</td>\n",
       "      <td>0.308964</td>\n",
       "    </tr>\n",
       "    <tr>\n",
       "      <th>967</th>\n",
       "      <td>0.498382</td>\n",
       "      <td>0.465993</td>\n",
       "      <td>0.664128</td>\n",
       "      <td>0.048768</td>\n",
       "    </tr>\n",
       "    <tr>\n",
       "      <th>980</th>\n",
       "      <td>0.150918</td>\n",
       "      <td>0.382386</td>\n",
       "      <td>0.305427</td>\n",
       "      <td>-0.757852</td>\n",
       "    </tr>\n",
       "    <tr>\n",
       "      <th>982</th>\n",
       "      <td>0.207822</td>\n",
       "      <td>0.356162</td>\n",
       "      <td>0.653230</td>\n",
       "      <td>-0.227087</td>\n",
       "    </tr>\n",
       "    <tr>\n",
       "      <th>997</th>\n",
       "      <td>0.047455</td>\n",
       "      <td>0.450104</td>\n",
       "      <td>0.468734</td>\n",
       "      <td>-0.859015</td>\n",
       "    </tr>\n",
       "  </tbody>\n",
       "</table>\n",
       "<p>257 rows × 4 columns</p>\n",
       "</div>"
      ],
      "text/plain": [
       "            A         B         C         D\n",
       "1    0.330858  0.412879  0.441564 -0.185752\n",
       "8    0.448611  0.415924  0.481001  0.067958\n",
       "10   0.112910  0.394884  0.950129 -0.296774\n",
       "11   0.191011  0.118751  0.130223  0.554895\n",
       "14   0.075723  0.260648  0.956146 -0.193407\n",
       "..        ...       ...       ...       ...\n",
       "964  0.478935  0.196736  0.913372  0.308964\n",
       "967  0.498382  0.465993  0.664128  0.048768\n",
       "980  0.150918  0.382386  0.305427 -0.757852\n",
       "982  0.207822  0.356162  0.653230 -0.227087\n",
       "997  0.047455  0.450104  0.468734 -0.859015\n",
       "\n",
       "[257 rows x 4 columns]"
      ]
     },
     "execution_count": 41,
     "metadata": {},
     "output_type": "execute_result"
    }
   ],
   "source": [
    "df.query('A < 0.5 and B < 0.5') "
   ]
  },
  {
   "cell_type": "markdown",
   "id": "b7fc5f58-cc5e-4edf-8f25-a8a2709de1ef",
   "metadata": {},
   "source": [
    "esta linha faz o mesmo que:"
   ]
  },
  {
   "cell_type": "code",
   "execution_count": 42,
   "id": "e13ce01c-562f-4ea8-b49b-4ad1b3926b4c",
   "metadata": {},
   "outputs": [
    {
     "data": {
      "text/html": [
       "<div>\n",
       "<style scoped>\n",
       "    .dataframe tbody tr th:only-of-type {\n",
       "        vertical-align: middle;\n",
       "    }\n",
       "\n",
       "    .dataframe tbody tr th {\n",
       "        vertical-align: top;\n",
       "    }\n",
       "\n",
       "    .dataframe thead th {\n",
       "        text-align: right;\n",
       "    }\n",
       "</style>\n",
       "<table border=\"1\" class=\"dataframe\">\n",
       "  <thead>\n",
       "    <tr style=\"text-align: right;\">\n",
       "      <th></th>\n",
       "      <th>A</th>\n",
       "      <th>B</th>\n",
       "      <th>C</th>\n",
       "      <th>D</th>\n",
       "    </tr>\n",
       "  </thead>\n",
       "  <tbody>\n",
       "    <tr>\n",
       "      <th>1</th>\n",
       "      <td>0.330858</td>\n",
       "      <td>0.412879</td>\n",
       "      <td>0.441564</td>\n",
       "      <td>-0.185752</td>\n",
       "    </tr>\n",
       "    <tr>\n",
       "      <th>8</th>\n",
       "      <td>0.448611</td>\n",
       "      <td>0.415924</td>\n",
       "      <td>0.481001</td>\n",
       "      <td>0.067958</td>\n",
       "    </tr>\n",
       "    <tr>\n",
       "      <th>10</th>\n",
       "      <td>0.112910</td>\n",
       "      <td>0.394884</td>\n",
       "      <td>0.950129</td>\n",
       "      <td>-0.296774</td>\n",
       "    </tr>\n",
       "    <tr>\n",
       "      <th>11</th>\n",
       "      <td>0.191011</td>\n",
       "      <td>0.118751</td>\n",
       "      <td>0.130223</td>\n",
       "      <td>0.554895</td>\n",
       "    </tr>\n",
       "    <tr>\n",
       "      <th>14</th>\n",
       "      <td>0.075723</td>\n",
       "      <td>0.260648</td>\n",
       "      <td>0.956146</td>\n",
       "      <td>-0.193407</td>\n",
       "    </tr>\n",
       "    <tr>\n",
       "      <th>...</th>\n",
       "      <td>...</td>\n",
       "      <td>...</td>\n",
       "      <td>...</td>\n",
       "      <td>...</td>\n",
       "    </tr>\n",
       "    <tr>\n",
       "      <th>964</th>\n",
       "      <td>0.478935</td>\n",
       "      <td>0.196736</td>\n",
       "      <td>0.913372</td>\n",
       "      <td>0.308964</td>\n",
       "    </tr>\n",
       "    <tr>\n",
       "      <th>967</th>\n",
       "      <td>0.498382</td>\n",
       "      <td>0.465993</td>\n",
       "      <td>0.664128</td>\n",
       "      <td>0.048768</td>\n",
       "    </tr>\n",
       "    <tr>\n",
       "      <th>980</th>\n",
       "      <td>0.150918</td>\n",
       "      <td>0.382386</td>\n",
       "      <td>0.305427</td>\n",
       "      <td>-0.757852</td>\n",
       "    </tr>\n",
       "    <tr>\n",
       "      <th>982</th>\n",
       "      <td>0.207822</td>\n",
       "      <td>0.356162</td>\n",
       "      <td>0.653230</td>\n",
       "      <td>-0.227087</td>\n",
       "    </tr>\n",
       "    <tr>\n",
       "      <th>997</th>\n",
       "      <td>0.047455</td>\n",
       "      <td>0.450104</td>\n",
       "      <td>0.468734</td>\n",
       "      <td>-0.859015</td>\n",
       "    </tr>\n",
       "  </tbody>\n",
       "</table>\n",
       "<p>257 rows × 4 columns</p>\n",
       "</div>"
      ],
      "text/plain": [
       "            A         B         C         D\n",
       "1    0.330858  0.412879  0.441564 -0.185752\n",
       "8    0.448611  0.415924  0.481001  0.067958\n",
       "10   0.112910  0.394884  0.950129 -0.296774\n",
       "11   0.191011  0.118751  0.130223  0.554895\n",
       "14   0.075723  0.260648  0.956146 -0.193407\n",
       "..        ...       ...       ...       ...\n",
       "964  0.478935  0.196736  0.913372  0.308964\n",
       "967  0.498382  0.465993  0.664128  0.048768\n",
       "980  0.150918  0.382386  0.305427 -0.757852\n",
       "982  0.207822  0.356162  0.653230 -0.227087\n",
       "997  0.047455  0.450104  0.468734 -0.859015\n",
       "\n",
       "[257 rows x 4 columns]"
      ]
     },
     "execution_count": 42,
     "metadata": {},
     "output_type": "execute_result"
    }
   ],
   "source": [
    "df[(df['A'] < 0.5) & (df['B'] < 0.5)]"
   ]
  },
  {
   "cell_type": "markdown",
   "id": "102dc823-23fb-4e8d-b44f-90c7fcdce2dd",
   "metadata": {},
   "source": [
    "`.query()` também recebe `@` para chamar variáveis locais do python."
   ]
  },
  {
   "cell_type": "code",
   "execution_count": null,
   "id": "bbfab045-b045-4c4e-8568-1f8e3d24cd0a",
   "metadata": {},
   "outputs": [],
   "source": []
  }
 ],
 "metadata": {
  "kernelspec": {
   "display_name": "Python 3 (ipykernel)",
   "language": "python",
   "name": "python3"
  },
  "language_info": {
   "codemirror_mode": {
    "name": "ipython",
    "version": 3
   },
   "file_extension": ".py",
   "mimetype": "text/x-python",
   "name": "python",
   "nbconvert_exporter": "python",
   "pygments_lexer": "ipython3",
   "version": "3.10.12"
  }
 },
 "nbformat": 4,
 "nbformat_minor": 5
}
