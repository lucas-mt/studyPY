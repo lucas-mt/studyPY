{
 "cells": [
  {
   "cell_type": "markdown",
   "id": "c9be2303-1553-4055-93ff-d9685274a5c8",
   "metadata": {},
   "source": [
    "## Usando Objetos de Pandas\n",
    "---"
   ]
  },
  {
   "cell_type": "code",
   "execution_count": 1,
   "id": "6291ad63-6304-4a08-a212-d0c579ba0905",
   "metadata": {},
   "outputs": [],
   "source": [
    "import pandas as pd"
   ]
  },
  {
   "cell_type": "markdown",
   "id": "fef207b8-5682-4721-b41f-3ec0d44679a3",
   "metadata": {},
   "source": [
    "#### series\n",
    "---"
   ]
  },
  {
   "cell_type": "markdown",
   "id": "81012fbf-00dd-41bc-a78c-451e6faa46ac",
   "metadata": {},
   "source": [
    "é uma estrutura de dados de pandas e serve para criar simples vetores de Numpy:"
   ]
  },
  {
   "cell_type": "markdown",
   "id": "b8091af0-128a-4e83-abb8-3e0a716171c5",
   "metadata": {},
   "source": [
    "para isso, use `.Series(<array>)` que recebe o vetor desejado:"
   ]
  },
  {
   "cell_type": "code",
   "execution_count": 2,
   "id": "a2ce882b-1ff5-4cd7-b4cd-971beb5258ef",
   "metadata": {},
   "outputs": [
    {
     "data": {
      "text/plain": [
       "0    0.10\n",
       "1    0.25\n",
       "2    0.40\n",
       "3    0.55\n",
       "4    0.70\n",
       "5    0.85\n",
       "6    1.00\n",
       "dtype: float64"
      ]
     },
     "execution_count": 2,
     "metadata": {},
     "output_type": "execute_result"
    }
   ],
   "source": [
    "vtr = pd.Series([0.1, 0.25, 0.40, 0.55, 0.70, 0.85, 1])\n",
    "vtr"
   ]
  },
  {
   "cell_type": "markdown",
   "id": "a1c8d1c2-5acf-4f1c-a084-3e1c76f078e3",
   "metadata": {},
   "source": [
    "oq esta função retorna é uma lista contendo os valores e índices: os índices são os valores de 0 a 6 no exemplo e podem ser usados em indexing e slicing, pode ser visto usando `.index`. já os valores são o vetor numpy formado e pode ser visto usando `.values`:"
   ]
  },
  {
   "cell_type": "code",
   "execution_count": 3,
   "id": "dc9fee39-9f50-4ba5-a1bc-2b8261f2d53a",
   "metadata": {},
   "outputs": [
    {
     "data": {
      "text/plain": [
       "array([0.1 , 0.25, 0.4 , 0.55, 0.7 , 0.85, 1.  ])"
      ]
     },
     "execution_count": 3,
     "metadata": {},
     "output_type": "execute_result"
    }
   ],
   "source": [
    "vtr.values"
   ]
  },
  {
   "cell_type": "code",
   "execution_count": 4,
   "id": "0fe98acf-6cd6-4732-9c52-4ded3104abec",
   "metadata": {},
   "outputs": [
    {
     "data": {
      "text/plain": [
       "RangeIndex(start=0, stop=7, step=1)"
      ]
     },
     "execution_count": 4,
     "metadata": {},
     "output_type": "execute_result"
    }
   ],
   "source": [
    "vtr.index"
   ]
  },
  {
   "cell_type": "markdown",
   "id": "4f1c4f09-152e-47c7-a2fa-f3f1dc05df2d",
   "metadata": {},
   "source": [
    "assim,"
   ]
  },
  {
   "cell_type": "code",
   "execution_count": 5,
   "id": "9f432510-8aea-4e89-9113-54b63db78d83",
   "metadata": {},
   "outputs": [
    {
     "data": {
      "text/plain": [
       "0.55"
      ]
     },
     "execution_count": 5,
     "metadata": {},
     "output_type": "execute_result"
    }
   ],
   "source": [
    "vtr[3]"
   ]
  },
  {
   "cell_type": "code",
   "execution_count": 6,
   "id": "10ba2490-edf1-4339-9bba-8c8c36838ef2",
   "metadata": {},
   "outputs": [
    {
     "data": {
      "text/plain": [
       "2    0.40\n",
       "3    0.55\n",
       "4    0.70\n",
       "dtype: float64"
      ]
     },
     "execution_count": 6,
     "metadata": {},
     "output_type": "execute_result"
    }
   ],
   "source": [
    "vtr[2:5]"
   ]
  },
  {
   "cell_type": "markdown",
   "id": "a351d3bf-3471-4ce9-b908-056227e0cea5",
   "metadata": {},
   "source": [
    "as series em pandas são muito mais flexíveis que os vetores numpy. por exemplo, os índices, assim como em dicionários, podem ser passados pelo usuário e pode ser qualquer tipo de dado através do parâmeetro `index=`:"
   ]
  },
  {
   "cell_type": "code",
   "execution_count": 7,
   "id": "7f38881b-99fb-4236-b333-e3b4b98cc1ae",
   "metadata": {},
   "outputs": [
    {
     "data": {
      "text/plain": [
       "a    0.10\n",
       "b    0.25\n",
       "c    0.40\n",
       "d    0.55\n",
       "e    0.70\n",
       "f    0.85\n",
       "g    1.00\n",
       "dtype: float64"
      ]
     },
     "execution_count": 7,
     "metadata": {},
     "output_type": "execute_result"
    }
   ],
   "source": [
    "vtr = pd.Series([0.1, 0.25, 0.40, 0.55, 0.70, 0.85, 1], index=['a', 'b', 'c', 'd', 'e', 'f', 'g'])\n",
    "vtr"
   ]
  },
  {
   "cell_type": "code",
   "execution_count": 8,
   "id": "e02da95c-6153-4ce9-84a5-4a72ba253826",
   "metadata": {},
   "outputs": [
    {
     "data": {
      "text/plain": [
       "0.4"
      ]
     },
     "execution_count": 8,
     "metadata": {},
     "output_type": "execute_result"
    }
   ],
   "source": [
    "vtr['c']"
   ]
  },
  {
   "cell_type": "markdown",
   "id": "64c2ff8a-8f1e-4fd7-9138-bb196ad70cc6",
   "metadata": {},
   "source": [
    "ou, ainda,"
   ]
  },
  {
   "cell_type": "code",
   "execution_count": 9,
   "id": "8b3d3990-c7e8-4585-a5df-ce7d6f9eaf76",
   "metadata": {},
   "outputs": [
    {
     "data": {
      "text/plain": [
       "0.0    0.10\n",
       "0.1    0.25\n",
       "0.2    0.40\n",
       "0.3    0.55\n",
       "0.4    0.70\n",
       "0.5    0.85\n",
       "0.6    1.00\n",
       "dtype: float64"
      ]
     },
     "execution_count": 9,
     "metadata": {},
     "output_type": "execute_result"
    }
   ],
   "source": [
    "vtr = pd.Series([0.1, 0.25, 0.40, 0.55, 0.70, 0.85, 1], index=[i/10 for i in range(0, 7)])\n",
    "vtr"
   ]
  },
  {
   "cell_type": "code",
   "execution_count": 10,
   "id": "716d8e82-1422-4a91-bc80-c8e06fa05ebd",
   "metadata": {},
   "outputs": [
    {
     "data": {
      "text/plain": [
       "0.4"
      ]
     },
     "execution_count": 10,
     "metadata": {},
     "output_type": "execute_result"
    }
   ],
   "source": [
    "vtr[0.2]"
   ]
  },
  {
   "cell_type": "markdown",
   "id": "dddb89fb-3f14-4b70-b61c-92dbdabb44d4",
   "metadata": {},
   "source": [
    "neste caso, um dicionário python pode ser usado para criar uma series:"
   ]
  },
  {
   "cell_type": "code",
   "execution_count": 11,
   "id": "10940941-ac1b-42bc-b5e7-3c0c1f4df58c",
   "metadata": {},
   "outputs": [
    {
     "data": {
      "text/plain": [
       "ind1    0.10\n",
       "ind2    0.25\n",
       "ind3    0.40\n",
       "ind4    0.55\n",
       "ind5    0.70\n",
       "ind6    0.85\n",
       "ind7    1.00\n",
       "dtype: float64"
      ]
     },
     "execution_count": 11,
     "metadata": {},
     "output_type": "execute_result"
    }
   ],
   "source": [
    "dicio = {'ind1': 0.1, 'ind2': 0.25, 'ind3': 0.40, 'ind4': 0.55, 'ind5': 0.70, 'ind6': 0.85, 'ind7': 1}\n",
    "vtr = pd.Series(dicio)\n",
    "vtr"
   ]
  },
  {
   "cell_type": "code",
   "execution_count": 12,
   "id": "e0163576-b38c-4db6-8419-072019b79188",
   "metadata": {},
   "outputs": [
    {
     "data": {
      "text/plain": [
       "0.4"
      ]
     },
     "execution_count": 12,
     "metadata": {},
     "output_type": "execute_result"
    }
   ],
   "source": [
    "vtr['ind3']"
   ]
  },
  {
   "cell_type": "markdown",
   "id": "666e58ed-0cfc-491a-a9c3-dc3489a918a0",
   "metadata": {},
   "source": [
    "mesmo como dicionário, series consegue passar por processos de slicing:"
   ]
  },
  {
   "cell_type": "code",
   "execution_count": 13,
   "id": "936e4fcf-8293-453d-90c4-e50e3bc9f76f",
   "metadata": {},
   "outputs": [
    {
     "data": {
      "text/plain": [
       "ind3    0.40\n",
       "ind4    0.55\n",
       "ind5    0.70\n",
       "ind6    0.85\n",
       "dtype: float64"
      ]
     },
     "execution_count": 13,
     "metadata": {},
     "output_type": "execute_result"
    }
   ],
   "source": [
    "vtr['ind3': 'ind6']"
   ]
  },
  {
   "cell_type": "markdown",
   "id": "27bfa58f-d368-4071-b5cb-9a732ece9d15",
   "metadata": {},
   "source": [
    "neste caso, series também aceitam os atributos de dicionários:"
   ]
  },
  {
   "cell_type": "code",
   "execution_count": 14,
   "id": "afc19f84-a7c2-4c54-aaed-ddd20a93738d",
   "metadata": {},
   "outputs": [
    {
     "data": {
      "text/plain": [
       "Index(['ind1', 'ind2', 'ind3', 'ind4', 'ind5', 'ind6', 'ind7'], dtype='object')"
      ]
     },
     "execution_count": 14,
     "metadata": {},
     "output_type": "execute_result"
    }
   ],
   "source": [
    "vtr.keys()"
   ]
  },
  {
   "cell_type": "code",
   "execution_count": 15,
   "id": "1f34c872-2cae-49f2-9668-d41bc69aee68",
   "metadata": {},
   "outputs": [
    {
     "data": {
      "text/plain": [
       "[('ind1', 0.1),\n",
       " ('ind2', 0.25),\n",
       " ('ind3', 0.4),\n",
       " ('ind4', 0.55),\n",
       " ('ind5', 0.7),\n",
       " ('ind6', 0.85),\n",
       " ('ind7', 1.0)]"
      ]
     },
     "execution_count": 15,
     "metadata": {},
     "output_type": "execute_result"
    }
   ],
   "source": [
    "list(vtr.items())"
   ]
  },
  {
   "cell_type": "markdown",
   "id": "d44cf973-0bf2-4c24-b944-6bdb6afaa83b",
   "metadata": {},
   "source": [
    "assim como dicionários, uma serie pode ser extendida ao indexar a uma chave qua ainda não exista:"
   ]
  },
  {
   "cell_type": "code",
   "execution_count": 16,
   "id": "3c7db311-e92b-420d-abd9-e5c04b396ea6",
   "metadata": {},
   "outputs": [
    {
     "data": {
      "text/plain": [
       "ind1        0.10\n",
       "ind2        0.25\n",
       "ind3        0.40\n",
       "ind4        0.55\n",
       "ind5        0.70\n",
       "ind6        0.85\n",
       "ind7        1.00\n",
       "FinalInd    0.00\n",
       "dtype: float64"
      ]
     },
     "execution_count": 16,
     "metadata": {},
     "output_type": "execute_result"
    }
   ],
   "source": [
    "vtr['FinalInd'] = 0\n",
    "vtr"
   ]
  },
  {
   "cell_type": "markdown",
   "id": "160fe3ae-f72c-4ea8-a6a0-8f2fe16f79a9",
   "metadata": {},
   "source": [
    "sendo baseado em numpy, independentemente se a serie é como um dicionário ou um vetor, este pode, ainda ser acessado pelos índices inteiros implícitos (0, 1, 2,...), bem como pode passar por processos de slicings que o numpy suporta"
   ]
  },
  {
   "cell_type": "code",
   "execution_count": 17,
   "id": "3ee2dad4-88b9-48b0-9a84-b6a1012a021c",
   "metadata": {},
   "outputs": [
    {
     "name": "stdout",
     "output_type": "stream",
     "text": [
      "slicing com índices implícitos: ind1    0.10\n",
      "ind2    0.25\n",
      "ind3    0.40\n",
      "ind4    0.55\n",
      "ind5    0.70\n",
      "dtype: float64\n",
      "---\n",
      "slicing com índices explícitos: ind1    0.10\n",
      "ind2    0.25\n",
      "ind3    0.40\n",
      "ind4    0.55\n",
      "ind5    0.70\n",
      "dtype: float64\n",
      "---\n",
      "masking: ind4    0.55\n",
      "ind5    0.70\n",
      "ind6    0.85\n",
      "ind7    1.00\n",
      "dtype: float64\n",
      "---\n",
      "fancy indexing: ind1    0.1\n",
      "ind5    0.7\n",
      "dtype: float64\n"
     ]
    }
   ],
   "source": [
    "print(f'slicing com índices implícitos: {vtr[0: 5]}\\n---')\n",
    "print(f'slicing com índices explícitos: {vtr[0: 5]}\\n---')\n",
    "print(f'masking: {vtr[vtr > 0.5]}\\n---')\n",
    "print(f'fancy indexing: {vtr[[\"ind1\", \"ind5\"]]}')"
   ]
  },
  {
   "cell_type": "markdown",
   "id": "4fca6764-5372-4b57-8e55-e55aa66924c5",
   "metadata": {},
   "source": [
    "ou, mesmo, ter apenas alguns resultados armazenados de fato:"
   ]
  },
  {
   "cell_type": "code",
   "execution_count": 18,
   "id": "5a329f6e-e36a-4145-b01c-c2366fa5b7f1",
   "metadata": {},
   "outputs": [
    {
     "data": {
      "text/plain": [
       "3    c\n",
       "1    a\n",
       "dtype: object"
      ]
     },
     "execution_count": 18,
     "metadata": {},
     "output_type": "execute_result"
    }
   ],
   "source": [
    "vtr = pd.Series({1: 'a', 2: 'b', 3: 'c'}, index=[3, 1])\n",
    "vtr"
   ]
  },
  {
   "cell_type": "markdown",
   "id": "445773f5-2986-42dd-a356-202b0cd28551",
   "metadata": {},
   "source": [
    "observe que, se estiver usando índices inteiros, pode haver confusão com indexing e slicing, porque para indexar, geralmente, é usado o índice explícito, passade pelo usuário, mas para slicing, o índice implícito, próprio do python, é usado:"
   ]
  },
  {
   "cell_type": "code",
   "execution_count": 19,
   "id": "3cb9cafa-499d-4c5c-b551-c890c45f4c28",
   "metadata": {},
   "outputs": [
    {
     "name": "stdout",
     "output_type": "stream",
     "text": [
      "1    a\n",
      "3    b\n",
      "5    c\n",
      "dtype: object\n",
      "a\n",
      "3    b\n",
      "5    c\n",
      "dtype: object\n"
     ]
    }
   ],
   "source": [
    "data = pd.Series(['a', 'b', 'c'], index=[1, 3, 5])\n",
    "print(data)\n",
    "\n",
    "# explicit index when indexing\n",
    "print(data[1])\n",
    "\n",
    "# implicit index when slicing\n",
    "print(data[1:3])"
   ]
  },
  {
   "cell_type": "markdown",
   "id": "f8701c6d-a094-4be9-9fbf-803fe6cf1623",
   "metadata": {},
   "source": [
    "para evitar este tipo de erro, pode-se usar os atributos de índices `.loc`, que sempre usará os índices explícitos:"
   ]
  },
  {
   "cell_type": "code",
   "execution_count": 20,
   "id": "ddd3ddff-fff1-43e2-be71-2d89b18ceb3e",
   "metadata": {},
   "outputs": [
    {
     "name": "stdout",
     "output_type": "stream",
     "text": [
      "a\n",
      "1    a\n",
      "3    b\n",
      "dtype: object\n"
     ]
    }
   ],
   "source": [
    "print(data.loc[1])\n",
    "print(data.loc[1:3])"
   ]
  },
  {
   "cell_type": "markdown",
   "id": "a4d3b154-4edf-4521-abef-0ff3dfab91a5",
   "metadata": {},
   "source": [
    "o atributo `iloc`, que usa os índices implícitos:"
   ]
  },
  {
   "cell_type": "code",
   "execution_count": 21,
   "id": "e1baa056-c886-40e5-9bdc-deb3293bf7e3",
   "metadata": {},
   "outputs": [
    {
     "name": "stdout",
     "output_type": "stream",
     "text": [
      "b\n",
      "3    b\n",
      "5    c\n",
      "dtype: object\n"
     ]
    }
   ],
   "source": [
    "print(data.iloc[1])\n",
    "print(data.iloc[1:3])"
   ]
  },
  {
   "cell_type": "markdown",
   "id": "c43d5e09-6a06-4e56-a717-b602987dfbd6",
   "metadata": {},
   "source": [
    "#### dataframe\n",
    "---"
   ]
  },
  {
   "cell_type": "markdown",
   "id": "59fce22d-5325-40b8-b23e-0437f06b18ec",
   "metadata": {},
   "source": [
    "dataframes podem ser vistos como matrizes de numpy ou dicionários de python especializados, em que há uma grande flexibilização dos índices das linhas e dos nomes das colunas."
   ]
  },
  {
   "cell_type": "markdown",
   "id": "6f215f6e-f329-4aea-9836-003e1ecde60e",
   "metadata": {},
   "source": [
    "por exemplo, é possível passar como valor series inteiras:"
   ]
  },
  {
   "cell_type": "code",
   "execution_count": 22,
   "id": "c6754499-9878-4325-a0d7-d9b5e57975d6",
   "metadata": {},
   "outputs": [
    {
     "data": {
      "text/html": [
       "<div>\n",
       "<style scoped>\n",
       "    .dataframe tbody tr th:only-of-type {\n",
       "        vertical-align: middle;\n",
       "    }\n",
       "\n",
       "    .dataframe tbody tr th {\n",
       "        vertical-align: top;\n",
       "    }\n",
       "\n",
       "    .dataframe thead th {\n",
       "        text-align: right;\n",
       "    }\n",
       "</style>\n",
       "<table border=\"1\" class=\"dataframe\">\n",
       "  <thead>\n",
       "    <tr style=\"text-align: right;\">\n",
       "      <th></th>\n",
       "      <th>população</th>\n",
       "      <th>área</th>\n",
       "    </tr>\n",
       "  </thead>\n",
       "  <tbody>\n",
       "    <tr>\n",
       "      <th>California</th>\n",
       "      <td>38332521</td>\n",
       "      <td>423967</td>\n",
       "    </tr>\n",
       "    <tr>\n",
       "      <th>Texas</th>\n",
       "      <td>26448193</td>\n",
       "      <td>695662</td>\n",
       "    </tr>\n",
       "    <tr>\n",
       "      <th>New York</th>\n",
       "      <td>19651127</td>\n",
       "      <td>141297</td>\n",
       "    </tr>\n",
       "    <tr>\n",
       "      <th>Florida</th>\n",
       "      <td>19552860</td>\n",
       "      <td>170312</td>\n",
       "    </tr>\n",
       "    <tr>\n",
       "      <th>Illinois</th>\n",
       "      <td>12882135</td>\n",
       "      <td>149995</td>\n",
       "    </tr>\n",
       "  </tbody>\n",
       "</table>\n",
       "</div>"
      ],
      "text/plain": [
       "            população    área\n",
       "California   38332521  423967\n",
       "Texas        26448193  695662\n",
       "New York     19651127  141297\n",
       "Florida      19552860  170312\n",
       "Illinois     12882135  149995"
      ]
     },
     "execution_count": 22,
     "metadata": {},
     "output_type": "execute_result"
    }
   ],
   "source": [
    "population_dict = {'California': 38332521,\n",
    "                   'Texas': 26448193,\n",
    "                   'New York': 19651127,\n",
    "                   'Florida': 19552860,\n",
    "                   'Illinois': 12882135}\n",
    "population = pd.Series(population_dict)\n",
    "\n",
    "\n",
    "\n",
    "area_dict = {'California': 423967, 'Texas': 695662, 'New York': 141297,\n",
    "             'Florida': 170312, 'Illinois': 149995}\n",
    "area = pd.Series(area_dict)\n",
    "\n",
    "estados = pd.DataFrame({'população': population, 'área': area})\n",
    "estados"
   ]
  },
  {
   "cell_type": "markdown",
   "id": "ed196180-5aa4-4c7e-bfec-82513c4e1926",
   "metadata": {},
   "source": [
    "observe que, em ambas as series `population` e `area`, os índices são os mesmos, mas não há necessidade de estarem nas mesmas posições para que isto funcione. Veja o que ocorre quando um dos valores é trocado:"
   ]
  },
  {
   "cell_type": "code",
   "execution_count": 23,
   "id": "2e830f79-696a-422b-a879-a267dc84ccc6",
   "metadata": {},
   "outputs": [
    {
     "data": {
      "text/html": [
       "<div>\n",
       "<style scoped>\n",
       "    .dataframe tbody tr th:only-of-type {\n",
       "        vertical-align: middle;\n",
       "    }\n",
       "\n",
       "    .dataframe tbody tr th {\n",
       "        vertical-align: top;\n",
       "    }\n",
       "\n",
       "    .dataframe thead th {\n",
       "        text-align: right;\n",
       "    }\n",
       "</style>\n",
       "<table border=\"1\" class=\"dataframe\">\n",
       "  <thead>\n",
       "    <tr style=\"text-align: right;\">\n",
       "      <th></th>\n",
       "      <th>população</th>\n",
       "      <th>área</th>\n",
       "    </tr>\n",
       "  </thead>\n",
       "  <tbody>\n",
       "    <tr>\n",
       "      <th>California</th>\n",
       "      <td>38332521</td>\n",
       "      <td>423967</td>\n",
       "    </tr>\n",
       "    <tr>\n",
       "      <th>Florida</th>\n",
       "      <td>19552860</td>\n",
       "      <td>170312</td>\n",
       "    </tr>\n",
       "    <tr>\n",
       "      <th>Illinois</th>\n",
       "      <td>12882135</td>\n",
       "      <td>149995</td>\n",
       "    </tr>\n",
       "    <tr>\n",
       "      <th>New York</th>\n",
       "      <td>26448193</td>\n",
       "      <td>141297</td>\n",
       "    </tr>\n",
       "    <tr>\n",
       "      <th>Texas</th>\n",
       "      <td>19651127</td>\n",
       "      <td>695662</td>\n",
       "    </tr>\n",
       "  </tbody>\n",
       "</table>\n",
       "</div>"
      ],
      "text/plain": [
       "            população    área\n",
       "California   38332521  423967\n",
       "Florida      19552860  170312\n",
       "Illinois     12882135  149995\n",
       "New York     26448193  141297\n",
       "Texas        19651127  695662"
      ]
     },
     "execution_count": 23,
     "metadata": {},
     "output_type": "execute_result"
    }
   ],
   "source": [
    "population_dict = {'California': 38332521,\n",
    "                   'New York': 26448193,\n",
    "                   'Texas': 19651127,\n",
    "                   'Florida': 19552860,\n",
    "                   'Illinois': 12882135}\n",
    "population = pd.Series(population_dict)\n",
    "\n",
    "\n",
    "\n",
    "area_dict = {'California': 423967, 'Texas': 695662, 'New York': 141297,\n",
    "             'Florida': 170312, 'Illinois': 149995}\n",
    "area = pd.Series(area_dict)\n",
    "\n",
    "estados = pd.DataFrame({'população': population, 'área': area})\n",
    "estados"
   ]
  },
  {
   "cell_type": "markdown",
   "id": "8c2511ca-c63f-45e4-a393-7b22c031c449",
   "metadata": {},
   "source": [
    "os atributos `.index` e `.columns` podem ser usados para ver as informações deste dataframe:"
   ]
  },
  {
   "cell_type": "code",
   "execution_count": 24,
   "id": "251e16bb-f5b1-4645-8ab8-32c49b3134f2",
   "metadata": {},
   "outputs": [
    {
     "data": {
      "text/plain": [
       "Index(['população', 'área'], dtype='object')"
      ]
     },
     "execution_count": 24,
     "metadata": {},
     "output_type": "execute_result"
    }
   ],
   "source": [
    "estados.columns"
   ]
  },
  {
   "cell_type": "code",
   "execution_count": 25,
   "id": "c96346ec-c0ee-4f61-9b1d-abe9347c17d1",
   "metadata": {},
   "outputs": [
    {
     "data": {
      "text/plain": [
       "Index(['California', 'Florida', 'Illinois', 'New York', 'Texas'], dtype='object')"
      ]
     },
     "execution_count": 25,
     "metadata": {},
     "output_type": "execute_result"
    }
   ],
   "source": [
    "estados.index"
   ]
  },
  {
   "cell_type": "markdown",
   "id": "3e46e483-3de3-4e34-b34d-0183a1117890",
   "metadata": {},
   "source": [
    "este objeto suporta indexing.\n",
    "\n",
    "para acessar um valor:"
   ]
  },
  {
   "cell_type": "code",
   "execution_count": 26,
   "id": "e5e505df-194e-486b-ad15-ba57fa9466bf",
   "metadata": {},
   "outputs": [
    {
     "data": {
      "text/plain": [
       "26448193"
      ]
     },
     "execution_count": 26,
     "metadata": {},
     "output_type": "execute_result"
    }
   ],
   "source": [
    "estados['população']['New York']"
   ]
  },
  {
   "cell_type": "markdown",
   "id": "bde0e862-8ef0-40ea-a916-4bde749518a1",
   "metadata": {},
   "source": [
    "para acessar uma coluna:"
   ]
  },
  {
   "cell_type": "code",
   "execution_count": 27,
   "id": "522381b2-bbf9-48e8-8aab-5dc2cd74a8fa",
   "metadata": {},
   "outputs": [
    {
     "data": {
      "text/plain": [
       "California    38332521\n",
       "Florida       19552860\n",
       "Illinois      12882135\n",
       "New York      26448193\n",
       "Texas         19651127\n",
       "Name: população, dtype: int64"
      ]
     },
     "execution_count": 27,
     "metadata": {},
     "output_type": "execute_result"
    }
   ],
   "source": [
    "estados['população']"
   ]
  },
  {
   "cell_type": "markdown",
   "id": "d7c0719c-95d3-497b-8f21-02b425df8445",
   "metadata": {},
   "source": [
    "é necessário saber que indexing refere-se a colunas e slicing a linhas. Da mesma forma que masking refere-se a linhas."
   ]
  },
  {
   "cell_type": "markdown",
   "id": "ba617a95-f246-483e-b7fc-8c48b6c70e95",
   "metadata": {},
   "source": [
    "da mesma forma, é possível extender o dataframe indexando a uma chave que ainda não existe:"
   ]
  },
  {
   "cell_type": "code",
   "execution_count": 28,
   "id": "870cba17-1c3a-468a-b4fd-9ce3ae2c268b",
   "metadata": {},
   "outputs": [
    {
     "data": {
      "text/html": [
       "<div>\n",
       "<style scoped>\n",
       "    .dataframe tbody tr th:only-of-type {\n",
       "        vertical-align: middle;\n",
       "    }\n",
       "\n",
       "    .dataframe tbody tr th {\n",
       "        vertical-align: top;\n",
       "    }\n",
       "\n",
       "    .dataframe thead th {\n",
       "        text-align: right;\n",
       "    }\n",
       "</style>\n",
       "<table border=\"1\" class=\"dataframe\">\n",
       "  <thead>\n",
       "    <tr style=\"text-align: right;\">\n",
       "      <th></th>\n",
       "      <th>população</th>\n",
       "      <th>área</th>\n",
       "      <th>densidade</th>\n",
       "    </tr>\n",
       "  </thead>\n",
       "  <tbody>\n",
       "    <tr>\n",
       "      <th>California</th>\n",
       "      <td>38332521</td>\n",
       "      <td>423967</td>\n",
       "      <td>90.413926</td>\n",
       "    </tr>\n",
       "    <tr>\n",
       "      <th>Florida</th>\n",
       "      <td>19552860</td>\n",
       "      <td>170312</td>\n",
       "      <td>114.806121</td>\n",
       "    </tr>\n",
       "    <tr>\n",
       "      <th>Illinois</th>\n",
       "      <td>12882135</td>\n",
       "      <td>149995</td>\n",
       "      <td>85.883763</td>\n",
       "    </tr>\n",
       "    <tr>\n",
       "      <th>New York</th>\n",
       "      <td>26448193</td>\n",
       "      <td>141297</td>\n",
       "      <td>187.181561</td>\n",
       "    </tr>\n",
       "    <tr>\n",
       "      <th>Texas</th>\n",
       "      <td>19651127</td>\n",
       "      <td>695662</td>\n",
       "      <td>28.248096</td>\n",
       "    </tr>\n",
       "  </tbody>\n",
       "</table>\n",
       "</div>"
      ],
      "text/plain": [
       "            população    área   densidade\n",
       "California   38332521  423967   90.413926\n",
       "Florida      19552860  170312  114.806121\n",
       "Illinois     12882135  149995   85.883763\n",
       "New York     26448193  141297  187.181561\n",
       "Texas        19651127  695662   28.248096"
      ]
     },
     "execution_count": 28,
     "metadata": {},
     "output_type": "execute_result"
    }
   ],
   "source": [
    "estados['densidade'] = estados['população']/estados['área']\n",
    "estados"
   ]
  },
  {
   "cell_type": "markdown",
   "id": "22575b7a-635d-4b42-9974-e03aae3f359f",
   "metadata": {},
   "source": [
    "é possível ver todos os valores de um dataframe com o atributo `.values`:"
   ]
  },
  {
   "cell_type": "code",
   "execution_count": 29,
   "id": "cccce69d-b430-4971-82a2-ece89cd024cb",
   "metadata": {},
   "outputs": [
    {
     "data": {
      "text/plain": [
       "array([[3.83325210e+07, 4.23967000e+05, 9.04139261e+01],\n",
       "       [1.95528600e+07, 1.70312000e+05, 1.14806121e+02],\n",
       "       [1.28821350e+07, 1.49995000e+05, 8.58837628e+01],\n",
       "       [2.64481930e+07, 1.41297000e+05, 1.87181561e+02],\n",
       "       [1.96511270e+07, 6.95662000e+05, 2.82480961e+01]])"
      ]
     },
     "execution_count": 29,
     "metadata": {},
     "output_type": "execute_result"
    }
   ],
   "source": [
    "estados.values"
   ]
  },
  {
   "cell_type": "markdown",
   "id": "99322648-92de-4ecb-83b6-9722d4b338b6",
   "metadata": {},
   "source": [
    "este atributo pode ser usado para acessar as linhas"
   ]
  },
  {
   "cell_type": "code",
   "execution_count": 30,
   "id": "85a4d42b-c605-4012-b0b0-f3eaa1e05943",
   "metadata": {},
   "outputs": [
    {
     "data": {
      "text/plain": [
       "array([3.83325210e+07, 4.23967000e+05, 9.04139261e+01])"
      ]
     },
     "execution_count": 30,
     "metadata": {},
     "output_type": "execute_result"
    }
   ],
   "source": [
    "estados.values[0]"
   ]
  },
  {
   "cell_type": "markdown",
   "id": "aadbade9-a4bd-4b75-8c4d-9aef910ced0c",
   "metadata": {},
   "source": [
    "para transpor o dataframe, use o atributo `.T`"
   ]
  },
  {
   "cell_type": "code",
   "execution_count": 31,
   "id": "c34486d3-ddee-4505-9b30-ad289da942e8",
   "metadata": {},
   "outputs": [
    {
     "data": {
      "text/html": [
       "<div>\n",
       "<style scoped>\n",
       "    .dataframe tbody tr th:only-of-type {\n",
       "        vertical-align: middle;\n",
       "    }\n",
       "\n",
       "    .dataframe tbody tr th {\n",
       "        vertical-align: top;\n",
       "    }\n",
       "\n",
       "    .dataframe thead th {\n",
       "        text-align: right;\n",
       "    }\n",
       "</style>\n",
       "<table border=\"1\" class=\"dataframe\">\n",
       "  <thead>\n",
       "    <tr style=\"text-align: right;\">\n",
       "      <th></th>\n",
       "      <th>California</th>\n",
       "      <th>Florida</th>\n",
       "      <th>Illinois</th>\n",
       "      <th>New York</th>\n",
       "      <th>Texas</th>\n",
       "    </tr>\n",
       "  </thead>\n",
       "  <tbody>\n",
       "    <tr>\n",
       "      <th>população</th>\n",
       "      <td>3.833252e+07</td>\n",
       "      <td>1.955286e+07</td>\n",
       "      <td>1.288214e+07</td>\n",
       "      <td>2.644819e+07</td>\n",
       "      <td>1.965113e+07</td>\n",
       "    </tr>\n",
       "    <tr>\n",
       "      <th>área</th>\n",
       "      <td>4.239670e+05</td>\n",
       "      <td>1.703120e+05</td>\n",
       "      <td>1.499950e+05</td>\n",
       "      <td>1.412970e+05</td>\n",
       "      <td>6.956620e+05</td>\n",
       "    </tr>\n",
       "    <tr>\n",
       "      <th>densidade</th>\n",
       "      <td>9.041393e+01</td>\n",
       "      <td>1.148061e+02</td>\n",
       "      <td>8.588376e+01</td>\n",
       "      <td>1.871816e+02</td>\n",
       "      <td>2.824810e+01</td>\n",
       "    </tr>\n",
       "  </tbody>\n",
       "</table>\n",
       "</div>"
      ],
      "text/plain": [
       "             California       Florida      Illinois      New York   \n",
       "população  3.833252e+07  1.955286e+07  1.288214e+07  2.644819e+07  \\\n",
       "área       4.239670e+05  1.703120e+05  1.499950e+05  1.412970e+05   \n",
       "densidade  9.041393e+01  1.148061e+02  8.588376e+01  1.871816e+02   \n",
       "\n",
       "                  Texas  \n",
       "população  1.965113e+07  \n",
       "área       6.956620e+05  \n",
       "densidade  2.824810e+01  "
      ]
     },
     "execution_count": 31,
     "metadata": {},
     "output_type": "execute_result"
    }
   ],
   "source": [
    "estados.T"
   ]
  },
  {
   "cell_type": "markdown",
   "id": "d00cb102-1256-4717-bb78-6dcf62323a5d",
   "metadata": {},
   "source": [
    "como já visto, é possível criar dataframes usando series:"
   ]
  },
  {
   "cell_type": "code",
   "execution_count": 32,
   "id": "9a317d2a-54c8-4ef4-96f9-3ae6918c418c",
   "metadata": {},
   "outputs": [],
   "source": [
    "dicio = pd.Series({'a': 1, 'b': 1.5, 'c': 2, 'd': 2.5, 'e': 3, 'f': 3.5})"
   ]
  },
  {
   "cell_type": "code",
   "execution_count": 33,
   "id": "5f224341-01ba-416b-b15a-4cc6a93b08cf",
   "metadata": {},
   "outputs": [
    {
     "data": {
      "text/html": [
       "<div>\n",
       "<style scoped>\n",
       "    .dataframe tbody tr th:only-of-type {\n",
       "        vertical-align: middle;\n",
       "    }\n",
       "\n",
       "    .dataframe tbody tr th {\n",
       "        vertical-align: top;\n",
       "    }\n",
       "\n",
       "    .dataframe thead th {\n",
       "        text-align: right;\n",
       "    }\n",
       "</style>\n",
       "<table border=\"1\" class=\"dataframe\">\n",
       "  <thead>\n",
       "    <tr style=\"text-align: right;\">\n",
       "      <th></th>\n",
       "      <th>números</th>\n",
       "    </tr>\n",
       "  </thead>\n",
       "  <tbody>\n",
       "    <tr>\n",
       "      <th>a</th>\n",
       "      <td>1.0</td>\n",
       "    </tr>\n",
       "    <tr>\n",
       "      <th>b</th>\n",
       "      <td>1.5</td>\n",
       "    </tr>\n",
       "    <tr>\n",
       "      <th>c</th>\n",
       "      <td>2.0</td>\n",
       "    </tr>\n",
       "    <tr>\n",
       "      <th>d</th>\n",
       "      <td>2.5</td>\n",
       "    </tr>\n",
       "    <tr>\n",
       "      <th>e</th>\n",
       "      <td>3.0</td>\n",
       "    </tr>\n",
       "    <tr>\n",
       "      <th>f</th>\n",
       "      <td>3.5</td>\n",
       "    </tr>\n",
       "  </tbody>\n",
       "</table>\n",
       "</div>"
      ],
      "text/plain": [
       "   números\n",
       "a      1.0\n",
       "b      1.5\n",
       "c      2.0\n",
       "d      2.5\n",
       "e      3.0\n",
       "f      3.5"
      ]
     },
     "execution_count": 33,
     "metadata": {},
     "output_type": "execute_result"
    }
   ],
   "source": [
    "mtz = pd.DataFrame(dicio, columns=['números'])\n",
    "mtz"
   ]
  },
  {
   "cell_type": "markdown",
   "id": "6dc35242-e0d3-4b62-bc5d-7d0c52127a6a",
   "metadata": {},
   "source": [
    "neste caso, é preciso passar a serie e o nome das colunas e dos índices como argumento depois. Ou, já passa o nome da coluna junto com a serie em questão num outro dicionário:"
   ]
  },
  {
   "cell_type": "code",
   "execution_count": 34,
   "id": "3e356165-1a21-44b3-857b-737320f7c7ff",
   "metadata": {},
   "outputs": [
    {
     "data": {
      "text/html": [
       "<div>\n",
       "<style scoped>\n",
       "    .dataframe tbody tr th:only-of-type {\n",
       "        vertical-align: middle;\n",
       "    }\n",
       "\n",
       "    .dataframe tbody tr th {\n",
       "        vertical-align: top;\n",
       "    }\n",
       "\n",
       "    .dataframe thead th {\n",
       "        text-align: right;\n",
       "    }\n",
       "</style>\n",
       "<table border=\"1\" class=\"dataframe\">\n",
       "  <thead>\n",
       "    <tr style=\"text-align: right;\">\n",
       "      <th></th>\n",
       "      <th>números</th>\n",
       "    </tr>\n",
       "  </thead>\n",
       "  <tbody>\n",
       "    <tr>\n",
       "      <th>a</th>\n",
       "      <td>1.0</td>\n",
       "    </tr>\n",
       "    <tr>\n",
       "      <th>b</th>\n",
       "      <td>1.5</td>\n",
       "    </tr>\n",
       "    <tr>\n",
       "      <th>c</th>\n",
       "      <td>2.0</td>\n",
       "    </tr>\n",
       "    <tr>\n",
       "      <th>d</th>\n",
       "      <td>2.5</td>\n",
       "    </tr>\n",
       "    <tr>\n",
       "      <th>e</th>\n",
       "      <td>3.0</td>\n",
       "    </tr>\n",
       "    <tr>\n",
       "      <th>f</th>\n",
       "      <td>3.5</td>\n",
       "    </tr>\n",
       "  </tbody>\n",
       "</table>\n",
       "</div>"
      ],
      "text/plain": [
       "   números\n",
       "a      1.0\n",
       "b      1.5\n",
       "c      2.0\n",
       "d      2.5\n",
       "e      3.0\n",
       "f      3.5"
      ]
     },
     "execution_count": 34,
     "metadata": {},
     "output_type": "execute_result"
    }
   ],
   "source": [
    "mtz = pd.DataFrame({'números': dicio})\n",
    "mtz"
   ]
  },
  {
   "cell_type": "markdown",
   "id": "47518c45-3d58-41b0-bd11-b810dcf5aadd",
   "metadata": {},
   "source": [
    "ou, ainda, usando listas dentro de dicionários."
   ]
  },
  {
   "cell_type": "code",
   "execution_count": 35,
   "id": "f42e9ad1-5b62-470c-83d4-aa775ab270ce",
   "metadata": {},
   "outputs": [
    {
     "data": {
      "text/html": [
       "<div>\n",
       "<style scoped>\n",
       "    .dataframe tbody tr th:only-of-type {\n",
       "        vertical-align: middle;\n",
       "    }\n",
       "\n",
       "    .dataframe tbody tr th {\n",
       "        vertical-align: top;\n",
       "    }\n",
       "\n",
       "    .dataframe thead th {\n",
       "        text-align: right;\n",
       "    }\n",
       "</style>\n",
       "<table border=\"1\" class=\"dataframe\">\n",
       "  <thead>\n",
       "    <tr style=\"text-align: right;\">\n",
       "      <th></th>\n",
       "      <th>first</th>\n",
       "      <th>last</th>\n",
       "      <th>email</th>\n",
       "    </tr>\n",
       "  </thead>\n",
       "  <tbody>\n",
       "    <tr>\n",
       "      <th>1</th>\n",
       "      <td>corey</td>\n",
       "      <td>schafer</td>\n",
       "      <td>schafer_corey@gmail.com</td>\n",
       "    </tr>\n",
       "    <tr>\n",
       "      <th>2</th>\n",
       "      <td>jane-oswald</td>\n",
       "      <td>doe</td>\n",
       "      <td>janedoe@gmail.com</td>\n",
       "    </tr>\n",
       "    <tr>\n",
       "      <th>3</th>\n",
       "      <td>john</td>\n",
       "      <td>smith</td>\n",
       "      <td>smith.john@gmail.com</td>\n",
       "    </tr>\n",
       "  </tbody>\n",
       "</table>\n",
       "</div>"
      ],
      "text/plain": [
       "         first     last                    email\n",
       "1        corey  schafer  schafer_corey@gmail.com\n",
       "2  jane-oswald      doe        janedoe@gmail.com\n",
       "3         john    smith     smith.john@gmail.com"
      ]
     },
     "execution_count": 35,
     "metadata": {},
     "output_type": "execute_result"
    }
   ],
   "source": [
    "pessoas = {'first': ['corey', 'jane-oswald', 'john'],\n",
    "           'last': ['schafer', 'doe', 'smith'],\n",
    "           'email': ['schafer_corey@gmail.com', 'janedoe@gmail.com', 'smith.john@gmail.com']}\n",
    "\n",
    "df = pd.DataFrame(pessoas, index=[i for i in range(1, 4)])\n",
    "df"
   ]
  },
  {
   "cell_type": "markdown",
   "id": "429b378e-3cae-44ed-9afa-897505163677",
   "metadata": {},
   "source": [
    "neste caso, as colunas receberão os valores das chaves."
   ]
  },
  {
   "cell_type": "markdown",
   "id": "63e2f769-f6d1-465d-9ebe-92c28423faac",
   "metadata": {},
   "source": [
    "lembrando que a serie não necessariamente deve se comportar como um dicionário para isto funcionar. Neste caso, da mesma forma que já ocorre, os índices padrões vão servir como nome de linha:"
   ]
  },
  {
   "cell_type": "code",
   "execution_count": 36,
   "id": "76e987ef-57fe-4eba-a0d1-4f4a9332c4e8",
   "metadata": {},
   "outputs": [
    {
     "data": {
      "text/html": [
       "<div>\n",
       "<style scoped>\n",
       "    .dataframe tbody tr th:only-of-type {\n",
       "        vertical-align: middle;\n",
       "    }\n",
       "\n",
       "    .dataframe tbody tr th {\n",
       "        vertical-align: top;\n",
       "    }\n",
       "\n",
       "    .dataframe thead th {\n",
       "        text-align: right;\n",
       "    }\n",
       "</style>\n",
       "<table border=\"1\" class=\"dataframe\">\n",
       "  <thead>\n",
       "    <tr style=\"text-align: right;\">\n",
       "      <th></th>\n",
       "      <th>números</th>\n",
       "    </tr>\n",
       "  </thead>\n",
       "  <tbody>\n",
       "    <tr>\n",
       "      <th>0</th>\n",
       "      <td>0.10</td>\n",
       "    </tr>\n",
       "    <tr>\n",
       "      <th>1</th>\n",
       "      <td>0.25</td>\n",
       "    </tr>\n",
       "    <tr>\n",
       "      <th>2</th>\n",
       "      <td>0.40</td>\n",
       "    </tr>\n",
       "    <tr>\n",
       "      <th>3</th>\n",
       "      <td>0.55</td>\n",
       "    </tr>\n",
       "    <tr>\n",
       "      <th>4</th>\n",
       "      <td>0.70</td>\n",
       "    </tr>\n",
       "    <tr>\n",
       "      <th>5</th>\n",
       "      <td>0.85</td>\n",
       "    </tr>\n",
       "    <tr>\n",
       "      <th>6</th>\n",
       "      <td>1.00</td>\n",
       "    </tr>\n",
       "  </tbody>\n",
       "</table>\n",
       "</div>"
      ],
      "text/plain": [
       "   números\n",
       "0     0.10\n",
       "1     0.25\n",
       "2     0.40\n",
       "3     0.55\n",
       "4     0.70\n",
       "5     0.85\n",
       "6     1.00"
      ]
     },
     "execution_count": 36,
     "metadata": {},
     "output_type": "execute_result"
    }
   ],
   "source": [
    "vtr = pd.Series([0.1, 0.25, 0.40, 0.55, 0.70, 0.85, 1])\n",
    "mtz = pd.DataFrame(vtr, columns=['números'])\n",
    "mtz"
   ]
  },
  {
   "cell_type": "markdown",
   "id": "d3781c4b-25e0-4c6e-91b0-45bcfa7fa880",
   "metadata": {},
   "source": [
    "se não houver valores para todas as informações, pandas preenche com `NaN`:"
   ]
  },
  {
   "cell_type": "code",
   "execution_count": 37,
   "id": "f7822d87-bf7d-4232-88c2-82a474d24d9e",
   "metadata": {},
   "outputs": [
    {
     "data": {
      "text/html": [
       "<div>\n",
       "<style scoped>\n",
       "    .dataframe tbody tr th:only-of-type {\n",
       "        vertical-align: middle;\n",
       "    }\n",
       "\n",
       "    .dataframe tbody tr th {\n",
       "        vertical-align: top;\n",
       "    }\n",
       "\n",
       "    .dataframe thead th {\n",
       "        text-align: right;\n",
       "    }\n",
       "</style>\n",
       "<table border=\"1\" class=\"dataframe\">\n",
       "  <thead>\n",
       "    <tr style=\"text-align: right;\">\n",
       "      <th></th>\n",
       "      <th>a</th>\n",
       "      <th>b</th>\n",
       "      <th>c</th>\n",
       "    </tr>\n",
       "  </thead>\n",
       "  <tbody>\n",
       "    <tr>\n",
       "      <th>0</th>\n",
       "      <td>1.0</td>\n",
       "      <td>2</td>\n",
       "      <td>NaN</td>\n",
       "    </tr>\n",
       "    <tr>\n",
       "      <th>1</th>\n",
       "      <td>NaN</td>\n",
       "      <td>3</td>\n",
       "      <td>4.0</td>\n",
       "    </tr>\n",
       "  </tbody>\n",
       "</table>\n",
       "</div>"
      ],
      "text/plain": [
       "     a  b    c\n",
       "0  1.0  2  NaN\n",
       "1  NaN  3  4.0"
      ]
     },
     "execution_count": 37,
     "metadata": {},
     "output_type": "execute_result"
    }
   ],
   "source": [
    "pd.DataFrame([{'a': 1, 'b': 2}, {'b': 3, 'c': 4}])"
   ]
  },
  {
   "cell_type": "markdown",
   "id": "14c537c1-840f-46bf-8ae5-b3be6ace5aa5",
   "metadata": {},
   "source": [
    "como aceita listas, dataframe também aceita matrizes numpy:"
   ]
  },
  {
   "cell_type": "code",
   "execution_count": 38,
   "id": "a266306d-752c-482c-9bac-b953e0c4e61f",
   "metadata": {},
   "outputs": [],
   "source": [
    "import numpy as np"
   ]
  },
  {
   "cell_type": "code",
   "execution_count": 39,
   "id": "242e4862-5032-4ede-9a42-81adcea6769f",
   "metadata": {},
   "outputs": [
    {
     "data": {
      "text/html": [
       "<div>\n",
       "<style scoped>\n",
       "    .dataframe tbody tr th:only-of-type {\n",
       "        vertical-align: middle;\n",
       "    }\n",
       "\n",
       "    .dataframe tbody tr th {\n",
       "        vertical-align: top;\n",
       "    }\n",
       "\n",
       "    .dataframe thead th {\n",
       "        text-align: right;\n",
       "    }\n",
       "</style>\n",
       "<table border=\"1\" class=\"dataframe\">\n",
       "  <thead>\n",
       "    <tr style=\"text-align: right;\">\n",
       "      <th></th>\n",
       "      <th>1</th>\n",
       "      <th>2</th>\n",
       "    </tr>\n",
       "  </thead>\n",
       "  <tbody>\n",
       "    <tr>\n",
       "      <th>1m</th>\n",
       "      <td>2</td>\n",
       "      <td>4</td>\n",
       "    </tr>\n",
       "    <tr>\n",
       "      <th>2m</th>\n",
       "      <td>1</td>\n",
       "      <td>3</td>\n",
       "    </tr>\n",
       "    <tr>\n",
       "      <th>3m</th>\n",
       "      <td>2</td>\n",
       "      <td>3</td>\n",
       "    </tr>\n",
       "  </tbody>\n",
       "</table>\n",
       "</div>"
      ],
      "text/plain": [
       "    1  2\n",
       "1m  2  4\n",
       "2m  1  3\n",
       "3m  2  3"
      ]
     },
     "execution_count": 39,
     "metadata": {},
     "output_type": "execute_result"
    }
   ],
   "source": [
    "mtz = np.array([[2, 4], [1, 3], [2, 3]])\n",
    "pd.DataFrame(mtz, columns=[1, 2], index=['1m', '2m', '3m'])"
   ]
  },
  {
   "cell_type": "markdown",
   "id": "9bc4b0d6-6db5-4f6d-8e66-9859acfb01b4",
   "metadata": {},
   "source": [
    "para a apresentação das informações em um dataframe, se o arquivo for grande, talves seja necessário usar o seguinte código:"
   ]
  },
  {
   "cell_type": "markdown",
   "id": "dfea785a-f9a4-4605-9ae1-234f652a815a",
   "metadata": {},
   "source": [
    "```\n",
    "pd.set_option('display.max_columns', <número_max_de_colunas>)\n",
    "pd.set_option('display.max_rows', <número_max_de_linhas>)\n",
    "```"
   ]
  },
  {
   "cell_type": "markdown",
   "id": "b91e58f1-667c-45a7-a7dc-7ed4fa059f5e",
   "metadata": {},
   "source": [
    "o primeiro faz com que todas as colunas sejam apresentadas, para isso é necessário passar a quantidade total de colunas presente no documento. Já o segundo faz com que todas as linhas apareçam. Também é necessário passar a quantidade total de linhas.\n",
    "\n",
    "a quantidade total de linhas e colunas pode ser vista pelo método:\n",
    "\n",
    "```\n",
    "df.info()\n",
    "```\n",
    "\n",
    "ou, pelo atributo\n",
    "\n",
    "```\n",
    "df.shape\n",
    "```"
   ]
  },
  {
   "cell_type": "markdown",
   "id": "3f35773a-76ff-4e35-b2fa-4c36ce16c1e5",
   "metadata": {},
   "source": [
    "o método `.head()` pode ser usado se só desejar ver as primeiras 5 linhas. Ou, este mesmo método pode receber um valor de linhas que deve mostrar:"
   ]
  },
  {
   "cell_type": "markdown",
   "id": "c54730c5-b483-44a6-90d0-7b146378a298",
   "metadata": {},
   "source": [
    "```\n",
    "df.head()\n",
    "```\n",
    "\n",
    "ou\n",
    "\n",
    "```\n",
    "df.head(20)\n",
    "```"
   ]
  },
  {
   "cell_type": "markdown",
   "id": "682c676a-78bd-4388-9ef8-51046f3117f9",
   "metadata": {},
   "source": [
    "se desejar ver as últimas 5 linhas, `.tail()`. Ou, pode passar um valor:"
   ]
  },
  {
   "cell_type": "markdown",
   "id": "77eea0a6-2f59-421e-8d37-fc7a9ee5f575",
   "metadata": {},
   "source": [
    "```\n",
    "df.tail()\n",
    "```\n",
    "\n",
    "ou\n",
    "\n",
    "```\n",
    "df.tail(20)\n",
    "```"
   ]
  },
  {
   "cell_type": "markdown",
   "id": "6fbcf70b-2a77-4eeb-8fa3-787b8ab8eb75",
   "metadata": {},
   "source": [
    "#### index\n",
    "---"
   ]
  },
  {
   "cell_type": "markdown",
   "id": "ec1b562c-def0-40e4-aebf-414ed790bb1f",
   "metadata": {},
   "source": [
    "os índices em pandas são bastante flexíveis, apesar de que, uma vez estabelecidos, são imutáveis, e o fato de estes serem explícitos fica mais fácil trabalhar com eles. Podem ser criado com o método `Index(<array>)`"
   ]
  },
  {
   "cell_type": "code",
   "execution_count": 40,
   "id": "090d15b2-8103-4507-a3ac-4087db986d9e",
   "metadata": {},
   "outputs": [
    {
     "data": {
      "text/plain": [
       "Index([2, 3, 5, 7, 11, 13], dtype='int64')"
      ]
     },
     "execution_count": 40,
     "metadata": {},
     "output_type": "execute_result"
    }
   ],
   "source": [
    "mtz = pd.Index([2, 3, 5, 7, 11, 13])\n",
    "mtz"
   ]
  },
  {
   "cell_type": "markdown",
   "id": "b08da45b-9cc5-4cdb-a634-832dd3f534bf",
   "metadata": {},
   "source": [
    "no geral, `Index` possui os mesmos atributos que os arrays de Numpy:"
   ]
  },
  {
   "cell_type": "code",
   "execution_count": 41,
   "id": "d1d03d11-ded0-46f8-aef1-d4a48ef95520",
   "metadata": {},
   "outputs": [
    {
     "name": "stdout",
     "output_type": "stream",
     "text": [
      "6 (6,) 1 int64\n"
     ]
    }
   ],
   "source": [
    "print(mtz.size, mtz.shape, mtz.ndim, mtz.dtype)"
   ]
  },
  {
   "cell_type": "markdown",
   "id": "20397ea5-24aa-469b-8b67-fce287f5d77f",
   "metadata": {},
   "source": [
    "`Index` também aceita operações dos conjuntos (set) de python:"
   ]
  },
  {
   "cell_type": "code",
   "execution_count": 42,
   "id": "d21538dd-732f-4e2d-8e2b-8cbbc64feb36",
   "metadata": {},
   "outputs": [
    {
     "data": {
      "text/plain": [
       "Index([0, 0, 2], dtype='int64')"
      ]
     },
     "execution_count": 42,
     "metadata": {},
     "output_type": "execute_result"
    }
   ],
   "source": [
    "ind1 = pd.Index([1, 2, 3])\n",
    "ind2 = pd.Index([4, 5, 6])\n",
    "\n",
    "ind1 & ind2"
   ]
  },
  {
   "cell_type": "code",
   "execution_count": 43,
   "id": "771b1c1b-8abc-4f72-a871-e616b32e2cfb",
   "metadata": {},
   "outputs": [
    {
     "data": {
      "text/plain": [
       "Index([5, 7, 7], dtype='int64')"
      ]
     },
     "execution_count": 43,
     "metadata": {},
     "output_type": "execute_result"
    }
   ],
   "source": [
    "ind1 | ind2"
   ]
  },
  {
   "cell_type": "code",
   "execution_count": 44,
   "id": "73796ee7-cfa1-46fd-b287-ad97a01248fb",
   "metadata": {},
   "outputs": [
    {
     "data": {
      "text/plain": [
       "Index([5, 7, 5], dtype='int64')"
      ]
     },
     "execution_count": 44,
     "metadata": {},
     "output_type": "execute_result"
    }
   ],
   "source": [
    "ind2 ^ ind1"
   ]
  },
  {
   "cell_type": "markdown",
   "id": "72c69558-148c-421a-80c1-f0eff62c373d",
   "metadata": {},
   "source": [
    "sendo imutável, não pode ser modificao através das formas já conhecidas:"
   ]
  },
  {
   "cell_type": "code",
   "execution_count": 45,
   "id": "28990fae-9c57-4513-a31a-715a18a09001",
   "metadata": {},
   "outputs": [
    {
     "ename": "TypeError",
     "evalue": "Index does not support mutable operations",
     "output_type": "error",
     "traceback": [
      "\u001b[0;31m---------------------------------------------------------------------------\u001b[0m",
      "\u001b[0;31mTypeError\u001b[0m                                 Traceback (most recent call last)",
      "Cell \u001b[0;32mIn[45], line 1\u001b[0m\n\u001b[0;32m----> 1\u001b[0m \u001b[43mmtz\u001b[49m\u001b[43m[\u001b[49m\u001b[38;5;241;43m0\u001b[39;49m\u001b[43m]\u001b[49m \u001b[38;5;241m=\u001b[39m \u001b[38;5;241m0\u001b[39m\n",
      "File \u001b[0;32m~/.local/lib/python3.10/site-packages/pandas/core/indexes/base.py:5156\u001b[0m, in \u001b[0;36mIndex.__setitem__\u001b[0;34m(self, key, value)\u001b[0m\n\u001b[1;32m   5154\u001b[0m \u001b[38;5;129m@final\u001b[39m\n\u001b[1;32m   5155\u001b[0m \u001b[38;5;28;01mdef\u001b[39;00m \u001b[38;5;21m__setitem__\u001b[39m(\u001b[38;5;28mself\u001b[39m, key, value):\n\u001b[0;32m-> 5156\u001b[0m     \u001b[38;5;28;01mraise\u001b[39;00m \u001b[38;5;167;01mTypeError\u001b[39;00m(\u001b[38;5;124m\"\u001b[39m\u001b[38;5;124mIndex does not support mutable operations\u001b[39m\u001b[38;5;124m\"\u001b[39m)\n",
      "\u001b[0;31mTypeError\u001b[0m: Index does not support mutable operations"
     ]
    }
   ],
   "source": [
    "mtz[0] = 0"
   ]
  }
 ],
 "metadata": {
  "kernelspec": {
   "display_name": "Python 3 (ipykernel)",
   "language": "python",
   "name": "python3"
  },
  "language_info": {
   "codemirror_mode": {
    "name": "ipython",
    "version": 3
   },
   "file_extension": ".py",
   "mimetype": "text/x-python",
   "name": "python",
   "nbconvert_exporter": "python",
   "pygments_lexer": "ipython3",
   "version": "3.10.6"
  }
 },
 "nbformat": 4,
 "nbformat_minor": 5
}
