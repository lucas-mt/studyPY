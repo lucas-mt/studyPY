{
 "cells": [
  {
   "cell_type": "markdown",
   "id": "c9be2303-1553-4055-93ff-d9685274a5c8",
   "metadata": {},
   "source": [
    "## Usando Objetos de Pandas\n",
    "---"
   ]
  },
  {
   "cell_type": "code",
   "execution_count": 1,
   "id": "6291ad63-6304-4a08-a212-d0c579ba0905",
   "metadata": {},
   "outputs": [],
   "source": [
    "import pandas as pd"
   ]
  },
  {
   "cell_type": "markdown",
   "id": "fef207b8-5682-4721-b41f-3ec0d44679a3",
   "metadata": {},
   "source": [
    "#### series\n",
    "---"
   ]
  },
  {
   "cell_type": "markdown",
   "id": "81012fbf-00dd-41bc-a78c-451e6faa46ac",
   "metadata": {},
   "source": [
    "é uma estrutura de dados de pandas e serve para criar simples vetores de Numpy:"
   ]
  },
  {
   "cell_type": "markdown",
   "id": "b8091af0-128a-4e83-abb8-3e0a716171c5",
   "metadata": {},
   "source": [
    "para isso, use `.Series(<array>)` que recebe o vetor desejado:"
   ]
  },
  {
   "cell_type": "code",
   "execution_count": 2,
   "id": "a2ce882b-1ff5-4cd7-b4cd-971beb5258ef",
   "metadata": {},
   "outputs": [
    {
     "data": {
      "text/plain": [
       "0    0.10\n",
       "1    0.25\n",
       "2    0.40\n",
       "3    0.55\n",
       "4    0.70\n",
       "5    0.85\n",
       "6    1.00\n",
       "dtype: float64"
      ]
     },
     "execution_count": 2,
     "metadata": {},
     "output_type": "execute_result"
    }
   ],
   "source": [
    "vtr = pd.Series([0.1, 0.25, 0.40, 0.55, 0.70, 0.85, 1])\n",
    "vtr"
   ]
  },
  {
   "cell_type": "markdown",
   "id": "a1c8d1c2-5acf-4f1c-a084-3e1c76f078e3",
   "metadata": {},
   "source": [
    "oq esta função retorna é uma lista contendo os valores e índices: os índices são os valores de 0 a 6 no exemplo e podem ser usados em indexing e slicing. já os valores são o vetor numpy formado e pode ser visto usando `.values`:"
   ]
  },
  {
   "cell_type": "code",
   "execution_count": 3,
   "id": "dc9fee39-9f50-4ba5-a1bc-2b8261f2d53a",
   "metadata": {},
   "outputs": [
    {
     "data": {
      "text/plain": [
       "array([0.1 , 0.25, 0.4 , 0.55, 0.7 , 0.85, 1.  ])"
      ]
     },
     "execution_count": 3,
     "metadata": {},
     "output_type": "execute_result"
    }
   ],
   "source": [
    "vtr.values"
   ]
  },
  {
   "cell_type": "markdown",
   "id": "c43d5e09-6a06-4e56-a717-b602987dfbd6",
   "metadata": {},
   "source": [
    "#### dataframe\n",
    "---"
   ]
  },
  {
   "cell_type": "markdown",
   "id": "59fce22d-5325-40b8-b23e-0437f06b18ec",
   "metadata": {},
   "source": [
    "dataframes podem ser vistos como matrizes de numpy ou dicionários de python especializados, em que há uma grande flexibilização dos índices das linhas e dos nomes das colunas."
   ]
  },
  {
   "cell_type": "markdown",
   "id": "6f215f6e-f329-4aea-9836-003e1ecde60e",
   "metadata": {},
   "source": [
    "por exemplo, é possível passar como valor series inteiras:"
   ]
  },
  {
   "cell_type": "code",
   "execution_count": 22,
   "id": "c6754499-9878-4325-a0d7-d9b5e57975d6",
   "metadata": {},
   "outputs": [
    {
     "data": {
      "text/html": [
       "<div>\n",
       "<style scoped>\n",
       "    .dataframe tbody tr th:only-of-type {\n",
       "        vertical-align: middle;\n",
       "    }\n",
       "\n",
       "    .dataframe tbody tr th {\n",
       "        vertical-align: top;\n",
       "    }\n",
       "\n",
       "    .dataframe thead th {\n",
       "        text-align: right;\n",
       "    }\n",
       "</style>\n",
       "<table border=\"1\" class=\"dataframe\">\n",
       "  <thead>\n",
       "    <tr style=\"text-align: right;\">\n",
       "      <th></th>\n",
       "      <th>população</th>\n",
       "      <th>área</th>\n",
       "    </tr>\n",
       "  </thead>\n",
       "  <tbody>\n",
       "    <tr>\n",
       "      <th>California</th>\n",
       "      <td>38332521</td>\n",
       "      <td>423967</td>\n",
       "    </tr>\n",
       "    <tr>\n",
       "      <th>Texas</th>\n",
       "      <td>26448193</td>\n",
       "      <td>695662</td>\n",
       "    </tr>\n",
       "    <tr>\n",
       "      <th>New York</th>\n",
       "      <td>19651127</td>\n",
       "      <td>141297</td>\n",
       "    </tr>\n",
       "    <tr>\n",
       "      <th>Florida</th>\n",
       "      <td>19552860</td>\n",
       "      <td>170312</td>\n",
       "    </tr>\n",
       "    <tr>\n",
       "      <th>Illinois</th>\n",
       "      <td>12882135</td>\n",
       "      <td>149995</td>\n",
       "    </tr>\n",
       "  </tbody>\n",
       "</table>\n",
       "</div>"
      ],
      "text/plain": [
       "            população    área\n",
       "California   38332521  423967\n",
       "Texas        26448193  695662\n",
       "New York     19651127  141297\n",
       "Florida      19552860  170312\n",
       "Illinois     12882135  149995"
      ]
     },
     "execution_count": 22,
     "metadata": {},
     "output_type": "execute_result"
    }
   ],
   "source": [
    "population_dict = {'California': 38332521,\n",
    "                   'Texas': 26448193,\n",
    "                   'New York': 19651127,\n",
    "                   'Florida': 19552860,\n",
    "                   'Illinois': 12882135}\n",
    "population = pd.Series(population_dict)\n",
    "\n",
    "\n",
    "\n",
    "area_dict = {'California': 423967, 'Texas': 695662, 'New York': 141297,\n",
    "             'Florida': 170312, 'Illinois': 149995}\n",
    "area = pd.Series(area_dict)\n",
    "\n",
    "estados = pd.DataFrame({'população': population, 'área': area})\n",
    "estados"
   ]
  },
  {
   "cell_type": "markdown",
   "id": "ed196180-5aa4-4c7e-bfec-82513c4e1926",
   "metadata": {},
   "source": [
    "observe que, em ambas as series `population` e `area`, os índices são os mesmos, mas não há necessidade de estarem nas mesmas posições para que isto funcione. Veja o que ocorre quando um dos valores é trocado:"
   ]
  },
  {
   "cell_type": "code",
   "execution_count": 23,
   "id": "2e830f79-696a-422b-a879-a267dc84ccc6",
   "metadata": {},
   "outputs": [
    {
     "data": {
      "text/html": [
       "<div>\n",
       "<style scoped>\n",
       "    .dataframe tbody tr th:only-of-type {\n",
       "        vertical-align: middle;\n",
       "    }\n",
       "\n",
       "    .dataframe tbody tr th {\n",
       "        vertical-align: top;\n",
       "    }\n",
       "\n",
       "    .dataframe thead th {\n",
       "        text-align: right;\n",
       "    }\n",
       "</style>\n",
       "<table border=\"1\" class=\"dataframe\">\n",
       "  <thead>\n",
       "    <tr style=\"text-align: right;\">\n",
       "      <th></th>\n",
       "      <th>população</th>\n",
       "      <th>área</th>\n",
       "    </tr>\n",
       "  </thead>\n",
       "  <tbody>\n",
       "    <tr>\n",
       "      <th>California</th>\n",
       "      <td>38332521</td>\n",
       "      <td>423967</td>\n",
       "    </tr>\n",
       "    <tr>\n",
       "      <th>Florida</th>\n",
       "      <td>19552860</td>\n",
       "      <td>170312</td>\n",
       "    </tr>\n",
       "    <tr>\n",
       "      <th>Illinois</th>\n",
       "      <td>12882135</td>\n",
       "      <td>149995</td>\n",
       "    </tr>\n",
       "    <tr>\n",
       "      <th>New York</th>\n",
       "      <td>26448193</td>\n",
       "      <td>141297</td>\n",
       "    </tr>\n",
       "    <tr>\n",
       "      <th>Texas</th>\n",
       "      <td>19651127</td>\n",
       "      <td>695662</td>\n",
       "    </tr>\n",
       "  </tbody>\n",
       "</table>\n",
       "</div>"
      ],
      "text/plain": [
       "            população    área\n",
       "California   38332521  423967\n",
       "Florida      19552860  170312\n",
       "Illinois     12882135  149995\n",
       "New York     26448193  141297\n",
       "Texas        19651127  695662"
      ]
     },
     "execution_count": 23,
     "metadata": {},
     "output_type": "execute_result"
    }
   ],
   "source": [
    "population_dict = {'California': 38332521,\n",
    "                   'New York': 26448193,\n",
    "                   'Texas': 19651127,\n",
    "                   'Florida': 19552860,\n",
    "                   'Illinois': 12882135}\n",
    "population = pd.Series(population_dict)\n",
    "\n",
    "\n",
    "\n",
    "area_dict = {'California': 423967, 'Texas': 695662, 'New York': 141297,\n",
    "             'Florida': 170312, 'Illinois': 149995}\n",
    "area = pd.Series(area_dict)\n",
    "\n",
    "estados = pd.DataFrame({'população': population, 'área': area})\n",
    "estados"
   ]
  },
  {
   "cell_type": "markdown",
   "id": "22575b7a-635d-4b42-9974-e03aae3f359f",
   "metadata": {},
   "source": [
    "é possível ver todos os valores de um dataframe com o atributo `.values`:"
   ]
  },
  {
   "cell_type": "code",
   "execution_count": 29,
   "id": "cccce69d-b430-4971-82a2-ece89cd024cb",
   "metadata": {},
   "outputs": [
    {
     "data": {
      "text/plain": [
       "array([[3.83325210e+07, 4.23967000e+05, 9.04139261e+01],\n",
       "       [1.95528600e+07, 1.70312000e+05, 1.14806121e+02],\n",
       "       [1.28821350e+07, 1.49995000e+05, 8.58837628e+01],\n",
       "       [2.64481930e+07, 1.41297000e+05, 1.87181561e+02],\n",
       "       [1.96511270e+07, 6.95662000e+05, 2.82480961e+01]])"
      ]
     },
     "execution_count": 29,
     "metadata": {},
     "output_type": "execute_result"
    }
   ],
   "source": [
    "estados.values"
   ]
  },
  {
   "cell_type": "markdown",
   "id": "99322648-92de-4ecb-83b6-9722d4b338b6",
   "metadata": {},
   "source": [
    "este atributo pode ser usado para acessar as linhas"
   ]
  },
  {
   "cell_type": "code",
   "execution_count": 30,
   "id": "85a4d42b-c605-4012-b0b0-f3eaa1e05943",
   "metadata": {},
   "outputs": [
    {
     "data": {
      "text/plain": [
       "array([3.83325210e+07, 4.23967000e+05, 9.04139261e+01])"
      ]
     },
     "execution_count": 30,
     "metadata": {},
     "output_type": "execute_result"
    }
   ],
   "source": [
    "estados.values[0]"
   ]
  },
  {
   "cell_type": "markdown",
   "id": "aadbade9-a4bd-4b75-8c4d-9aef910ced0c",
   "metadata": {},
   "source": [
    "para transpor o dataframe, use o atributo `.T`"
   ]
  },
  {
   "cell_type": "code",
   "execution_count": 31,
   "id": "c34486d3-ddee-4505-9b30-ad289da942e8",
   "metadata": {},
   "outputs": [
    {
     "data": {
      "text/html": [
       "<div>\n",
       "<style scoped>\n",
       "    .dataframe tbody tr th:only-of-type {\n",
       "        vertical-align: middle;\n",
       "    }\n",
       "\n",
       "    .dataframe tbody tr th {\n",
       "        vertical-align: top;\n",
       "    }\n",
       "\n",
       "    .dataframe thead th {\n",
       "        text-align: right;\n",
       "    }\n",
       "</style>\n",
       "<table border=\"1\" class=\"dataframe\">\n",
       "  <thead>\n",
       "    <tr style=\"text-align: right;\">\n",
       "      <th></th>\n",
       "      <th>California</th>\n",
       "      <th>Florida</th>\n",
       "      <th>Illinois</th>\n",
       "      <th>New York</th>\n",
       "      <th>Texas</th>\n",
       "    </tr>\n",
       "  </thead>\n",
       "  <tbody>\n",
       "    <tr>\n",
       "      <th>população</th>\n",
       "      <td>3.833252e+07</td>\n",
       "      <td>1.955286e+07</td>\n",
       "      <td>1.288214e+07</td>\n",
       "      <td>2.644819e+07</td>\n",
       "      <td>1.965113e+07</td>\n",
       "    </tr>\n",
       "    <tr>\n",
       "      <th>área</th>\n",
       "      <td>4.239670e+05</td>\n",
       "      <td>1.703120e+05</td>\n",
       "      <td>1.499950e+05</td>\n",
       "      <td>1.412970e+05</td>\n",
       "      <td>6.956620e+05</td>\n",
       "    </tr>\n",
       "    <tr>\n",
       "      <th>densidade</th>\n",
       "      <td>9.041393e+01</td>\n",
       "      <td>1.148061e+02</td>\n",
       "      <td>8.588376e+01</td>\n",
       "      <td>1.871816e+02</td>\n",
       "      <td>2.824810e+01</td>\n",
       "    </tr>\n",
       "  </tbody>\n",
       "</table>\n",
       "</div>"
      ],
      "text/plain": [
       "             California       Florida      Illinois      New York   \n",
       "população  3.833252e+07  1.955286e+07  1.288214e+07  2.644819e+07  \\\n",
       "área       4.239670e+05  1.703120e+05  1.499950e+05  1.412970e+05   \n",
       "densidade  9.041393e+01  1.148061e+02  8.588376e+01  1.871816e+02   \n",
       "\n",
       "                  Texas  \n",
       "população  1.965113e+07  \n",
       "área       6.956620e+05  \n",
       "densidade  2.824810e+01  "
      ]
     },
     "execution_count": 31,
     "metadata": {},
     "output_type": "execute_result"
    }
   ],
   "source": [
    "estados.T"
   ]
  },
  {
   "cell_type": "markdown",
   "id": "d00cb102-1256-4717-bb78-6dcf62323a5d",
   "metadata": {},
   "source": [
    "como já visto, é possível criar dataframes usando series:"
   ]
  },
  {
   "cell_type": "code",
   "execution_count": 32,
   "id": "9a317d2a-54c8-4ef4-96f9-3ae6918c418c",
   "metadata": {},
   "outputs": [],
   "source": [
    "dicio = pd.Series({'a': 1, 'b': 1.5, 'c': 2, 'd': 2.5, 'e': 3, 'f': 3.5})"
   ]
  },
  {
   "cell_type": "code",
   "execution_count": 33,
   "id": "5f224341-01ba-416b-b15a-4cc6a93b08cf",
   "metadata": {},
   "outputs": [
    {
     "data": {
      "text/html": [
       "<div>\n",
       "<style scoped>\n",
       "    .dataframe tbody tr th:only-of-type {\n",
       "        vertical-align: middle;\n",
       "    }\n",
       "\n",
       "    .dataframe tbody tr th {\n",
       "        vertical-align: top;\n",
       "    }\n",
       "\n",
       "    .dataframe thead th {\n",
       "        text-align: right;\n",
       "    }\n",
       "</style>\n",
       "<table border=\"1\" class=\"dataframe\">\n",
       "  <thead>\n",
       "    <tr style=\"text-align: right;\">\n",
       "      <th></th>\n",
       "      <th>números</th>\n",
       "    </tr>\n",
       "  </thead>\n",
       "  <tbody>\n",
       "    <tr>\n",
       "      <th>a</th>\n",
       "      <td>1.0</td>\n",
       "    </tr>\n",
       "    <tr>\n",
       "      <th>b</th>\n",
       "      <td>1.5</td>\n",
       "    </tr>\n",
       "    <tr>\n",
       "      <th>c</th>\n",
       "      <td>2.0</td>\n",
       "    </tr>\n",
       "    <tr>\n",
       "      <th>d</th>\n",
       "      <td>2.5</td>\n",
       "    </tr>\n",
       "    <tr>\n",
       "      <th>e</th>\n",
       "      <td>3.0</td>\n",
       "    </tr>\n",
       "    <tr>\n",
       "      <th>f</th>\n",
       "      <td>3.5</td>\n",
       "    </tr>\n",
       "  </tbody>\n",
       "</table>\n",
       "</div>"
      ],
      "text/plain": [
       "   números\n",
       "a      1.0\n",
       "b      1.5\n",
       "c      2.0\n",
       "d      2.5\n",
       "e      3.0\n",
       "f      3.5"
      ]
     },
     "execution_count": 33,
     "metadata": {},
     "output_type": "execute_result"
    }
   ],
   "source": [
    "mtz = pd.DataFrame(dicio, columns=['números'])\n",
    "mtz"
   ]
  },
  {
   "cell_type": "markdown",
   "id": "6dc35242-e0d3-4b62-bc5d-7d0c52127a6a",
   "metadata": {},
   "source": [
    "neste caso, é preciso passar a serie e o nome das colunas e dos índices como argumento depois. Ou, já passa o nome da coluna junto com a serie em questão num outro dicionário:"
   ]
  },
  {
   "cell_type": "code",
   "execution_count": 34,
   "id": "3e356165-1a21-44b3-857b-737320f7c7ff",
   "metadata": {},
   "outputs": [
    {
     "data": {
      "text/html": [
       "<div>\n",
       "<style scoped>\n",
       "    .dataframe tbody tr th:only-of-type {\n",
       "        vertical-align: middle;\n",
       "    }\n",
       "\n",
       "    .dataframe tbody tr th {\n",
       "        vertical-align: top;\n",
       "    }\n",
       "\n",
       "    .dataframe thead th {\n",
       "        text-align: right;\n",
       "    }\n",
       "</style>\n",
       "<table border=\"1\" class=\"dataframe\">\n",
       "  <thead>\n",
       "    <tr style=\"text-align: right;\">\n",
       "      <th></th>\n",
       "      <th>números</th>\n",
       "    </tr>\n",
       "  </thead>\n",
       "  <tbody>\n",
       "    <tr>\n",
       "      <th>a</th>\n",
       "      <td>1.0</td>\n",
       "    </tr>\n",
       "    <tr>\n",
       "      <th>b</th>\n",
       "      <td>1.5</td>\n",
       "    </tr>\n",
       "    <tr>\n",
       "      <th>c</th>\n",
       "      <td>2.0</td>\n",
       "    </tr>\n",
       "    <tr>\n",
       "      <th>d</th>\n",
       "      <td>2.5</td>\n",
       "    </tr>\n",
       "    <tr>\n",
       "      <th>e</th>\n",
       "      <td>3.0</td>\n",
       "    </tr>\n",
       "    <tr>\n",
       "      <th>f</th>\n",
       "      <td>3.5</td>\n",
       "    </tr>\n",
       "  </tbody>\n",
       "</table>\n",
       "</div>"
      ],
      "text/plain": [
       "   números\n",
       "a      1.0\n",
       "b      1.5\n",
       "c      2.0\n",
       "d      2.5\n",
       "e      3.0\n",
       "f      3.5"
      ]
     },
     "execution_count": 34,
     "metadata": {},
     "output_type": "execute_result"
    }
   ],
   "source": [
    "mtz = pd.DataFrame({'números': dicio})\n",
    "mtz"
   ]
  },
  {
   "cell_type": "markdown",
   "id": "47518c45-3d58-41b0-bd11-b810dcf5aadd",
   "metadata": {},
   "source": [
    "ou, ainda, usando listas dentro de dicionários."
   ]
  },
  {
   "cell_type": "code",
   "execution_count": 35,
   "id": "f42e9ad1-5b62-470c-83d4-aa775ab270ce",
   "metadata": {},
   "outputs": [
    {
     "data": {
      "text/html": [
       "<div>\n",
       "<style scoped>\n",
       "    .dataframe tbody tr th:only-of-type {\n",
       "        vertical-align: middle;\n",
       "    }\n",
       "\n",
       "    .dataframe tbody tr th {\n",
       "        vertical-align: top;\n",
       "    }\n",
       "\n",
       "    .dataframe thead th {\n",
       "        text-align: right;\n",
       "    }\n",
       "</style>\n",
       "<table border=\"1\" class=\"dataframe\">\n",
       "  <thead>\n",
       "    <tr style=\"text-align: right;\">\n",
       "      <th></th>\n",
       "      <th>first</th>\n",
       "      <th>last</th>\n",
       "      <th>email</th>\n",
       "    </tr>\n",
       "  </thead>\n",
       "  <tbody>\n",
       "    <tr>\n",
       "      <th>1</th>\n",
       "      <td>corey</td>\n",
       "      <td>schafer</td>\n",
       "      <td>schafer_corey@gmail.com</td>\n",
       "    </tr>\n",
       "    <tr>\n",
       "      <th>2</th>\n",
       "      <td>jane-oswald</td>\n",
       "      <td>doe</td>\n",
       "      <td>janedoe@gmail.com</td>\n",
       "    </tr>\n",
       "    <tr>\n",
       "      <th>3</th>\n",
       "      <td>john</td>\n",
       "      <td>smith</td>\n",
       "      <td>smith.john@gmail.com</td>\n",
       "    </tr>\n",
       "  </tbody>\n",
       "</table>\n",
       "</div>"
      ],
      "text/plain": [
       "         first     last                    email\n",
       "1        corey  schafer  schafer_corey@gmail.com\n",
       "2  jane-oswald      doe        janedoe@gmail.com\n",
       "3         john    smith     smith.john@gmail.com"
      ]
     },
     "execution_count": 35,
     "metadata": {},
     "output_type": "execute_result"
    }
   ],
   "source": [
    "pessoas = {'first': ['corey', 'jane-oswald', 'john'],\n",
    "           'last': ['schafer', 'doe', 'smith'],\n",
    "           'email': ['schafer_corey@gmail.com', 'janedoe@gmail.com', 'smith.john@gmail.com']}\n",
    "\n",
    "df = pd.DataFrame(pessoas, index=[i for i in range(1, 4)])\n",
    "df"
   ]
  },
  {
   "cell_type": "markdown",
   "id": "429b378e-3cae-44ed-9afa-897505163677",
   "metadata": {},
   "source": [
    "neste caso, as colunas receberão os valores das chaves."
   ]
  },
  {
   "cell_type": "markdown",
   "id": "63e2f769-f6d1-465d-9ebe-92c28423faac",
   "metadata": {},
   "source": [
    "lembrando que a serie não necessariamente deve se comportar como um dicionário para isto funcionar. Neste caso, da mesma forma que já ocorre, os índices padrões vão servir como nome de linha:"
   ]
  },
  {
   "cell_type": "code",
   "execution_count": 36,
   "id": "76e987ef-57fe-4eba-a0d1-4f4a9332c4e8",
   "metadata": {},
   "outputs": [
    {
     "data": {
      "text/html": [
       "<div>\n",
       "<style scoped>\n",
       "    .dataframe tbody tr th:only-of-type {\n",
       "        vertical-align: middle;\n",
       "    }\n",
       "\n",
       "    .dataframe tbody tr th {\n",
       "        vertical-align: top;\n",
       "    }\n",
       "\n",
       "    .dataframe thead th {\n",
       "        text-align: right;\n",
       "    }\n",
       "</style>\n",
       "<table border=\"1\" class=\"dataframe\">\n",
       "  <thead>\n",
       "    <tr style=\"text-align: right;\">\n",
       "      <th></th>\n",
       "      <th>números</th>\n",
       "    </tr>\n",
       "  </thead>\n",
       "  <tbody>\n",
       "    <tr>\n",
       "      <th>0</th>\n",
       "      <td>0.10</td>\n",
       "    </tr>\n",
       "    <tr>\n",
       "      <th>1</th>\n",
       "      <td>0.25</td>\n",
       "    </tr>\n",
       "    <tr>\n",
       "      <th>2</th>\n",
       "      <td>0.40</td>\n",
       "    </tr>\n",
       "    <tr>\n",
       "      <th>3</th>\n",
       "      <td>0.55</td>\n",
       "    </tr>\n",
       "    <tr>\n",
       "      <th>4</th>\n",
       "      <td>0.70</td>\n",
       "    </tr>\n",
       "    <tr>\n",
       "      <th>5</th>\n",
       "      <td>0.85</td>\n",
       "    </tr>\n",
       "    <tr>\n",
       "      <th>6</th>\n",
       "      <td>1.00</td>\n",
       "    </tr>\n",
       "  </tbody>\n",
       "</table>\n",
       "</div>"
      ],
      "text/plain": [
       "   números\n",
       "0     0.10\n",
       "1     0.25\n",
       "2     0.40\n",
       "3     0.55\n",
       "4     0.70\n",
       "5     0.85\n",
       "6     1.00"
      ]
     },
     "execution_count": 36,
     "metadata": {},
     "output_type": "execute_result"
    }
   ],
   "source": [
    "vtr = pd.Series([0.1, 0.25, 0.40, 0.55, 0.70, 0.85, 1])\n",
    "mtz = pd.DataFrame(vtr, columns=['números'])\n",
    "mtz"
   ]
  },
  {
   "cell_type": "markdown",
   "id": "d3781c4b-25e0-4c6e-91b0-45bcfa7fa880",
   "metadata": {},
   "source": [
    "se não houver valores para todas as informações, pandas preenche com `NaN`:"
   ]
  },
  {
   "cell_type": "code",
   "execution_count": 37,
   "id": "f7822d87-bf7d-4232-88c2-82a474d24d9e",
   "metadata": {},
   "outputs": [
    {
     "data": {
      "text/html": [
       "<div>\n",
       "<style scoped>\n",
       "    .dataframe tbody tr th:only-of-type {\n",
       "        vertical-align: middle;\n",
       "    }\n",
       "\n",
       "    .dataframe tbody tr th {\n",
       "        vertical-align: top;\n",
       "    }\n",
       "\n",
       "    .dataframe thead th {\n",
       "        text-align: right;\n",
       "    }\n",
       "</style>\n",
       "<table border=\"1\" class=\"dataframe\">\n",
       "  <thead>\n",
       "    <tr style=\"text-align: right;\">\n",
       "      <th></th>\n",
       "      <th>a</th>\n",
       "      <th>b</th>\n",
       "      <th>c</th>\n",
       "    </tr>\n",
       "  </thead>\n",
       "  <tbody>\n",
       "    <tr>\n",
       "      <th>0</th>\n",
       "      <td>1.0</td>\n",
       "      <td>2</td>\n",
       "      <td>NaN</td>\n",
       "    </tr>\n",
       "    <tr>\n",
       "      <th>1</th>\n",
       "      <td>NaN</td>\n",
       "      <td>3</td>\n",
       "      <td>4.0</td>\n",
       "    </tr>\n",
       "  </tbody>\n",
       "</table>\n",
       "</div>"
      ],
      "text/plain": [
       "     a  b    c\n",
       "0  1.0  2  NaN\n",
       "1  NaN  3  4.0"
      ]
     },
     "execution_count": 37,
     "metadata": {},
     "output_type": "execute_result"
    }
   ],
   "source": [
    "pd.DataFrame([{'a': 1, 'b': 2}, {'b': 3, 'c': 4}])"
   ]
  },
  {
   "cell_type": "markdown",
   "id": "14c537c1-840f-46bf-8ae5-b3be6ace5aa5",
   "metadata": {},
   "source": [
    "como aceita listas, dataframe também aceita matrizes numpy:"
   ]
  },
  {
   "cell_type": "code",
   "execution_count": 38,
   "id": "a266306d-752c-482c-9bac-b953e0c4e61f",
   "metadata": {},
   "outputs": [],
   "source": [
    "import numpy as np"
   ]
  },
  {
   "cell_type": "code",
   "execution_count": 39,
   "id": "242e4862-5032-4ede-9a42-81adcea6769f",
   "metadata": {},
   "outputs": [
    {
     "data": {
      "text/html": [
       "<div>\n",
       "<style scoped>\n",
       "    .dataframe tbody tr th:only-of-type {\n",
       "        vertical-align: middle;\n",
       "    }\n",
       "\n",
       "    .dataframe tbody tr th {\n",
       "        vertical-align: top;\n",
       "    }\n",
       "\n",
       "    .dataframe thead th {\n",
       "        text-align: right;\n",
       "    }\n",
       "</style>\n",
       "<table border=\"1\" class=\"dataframe\">\n",
       "  <thead>\n",
       "    <tr style=\"text-align: right;\">\n",
       "      <th></th>\n",
       "      <th>1</th>\n",
       "      <th>2</th>\n",
       "    </tr>\n",
       "  </thead>\n",
       "  <tbody>\n",
       "    <tr>\n",
       "      <th>1m</th>\n",
       "      <td>2</td>\n",
       "      <td>4</td>\n",
       "    </tr>\n",
       "    <tr>\n",
       "      <th>2m</th>\n",
       "      <td>1</td>\n",
       "      <td>3</td>\n",
       "    </tr>\n",
       "    <tr>\n",
       "      <th>3m</th>\n",
       "      <td>2</td>\n",
       "      <td>3</td>\n",
       "    </tr>\n",
       "  </tbody>\n",
       "</table>\n",
       "</div>"
      ],
      "text/plain": [
       "    1  2\n",
       "1m  2  4\n",
       "2m  1  3\n",
       "3m  2  3"
      ]
     },
     "execution_count": 39,
     "metadata": {},
     "output_type": "execute_result"
    }
   ],
   "source": [
    "mtz = np.array([[2, 4], [1, 3], [2, 3]])\n",
    "pd.DataFrame(mtz, columns=[1, 2], index=['1m', '2m', '3m'])"
   ]
  },
  {
   "cell_type": "markdown",
   "id": "9bc4b0d6-6db5-4f6d-8e66-9859acfb01b4",
   "metadata": {},
   "source": [
    "para a apresentação das informações em um dataframe, se o arquivo for grande, talves seja necessário usar o seguinte código:"
   ]
  },
  {
   "cell_type": "markdown",
   "id": "dfea785a-f9a4-4605-9ae1-234f652a815a",
   "metadata": {},
   "source": [
    "```\n",
    "pd.set_option('display.max_columns', <número_max_de_colunas>)\n",
    "pd.set_option('display.max_rows', <número_max_de_linhas>)\n",
    "```"
   ]
  },
  {
   "cell_type": "markdown",
   "id": "b91e58f1-667c-45a7-a7dc-7ed4fa059f5e",
   "metadata": {},
   "source": [
    "o primeiro faz com que todas as colunas sejam apresentadas, para isso é necessário passar a quantidade total de colunas presente no documento. Já o segundo faz com que todas as linhas apareçam. Também é necessário passar a quantidade total de linhas.\n",
    "\n",
    "a quantidade total de linhas e colunas pode ser vista pelo método:\n",
    "\n",
    "```\n",
    "df.info()\n",
    "```\n",
    "\n",
    "ou, pelo atributo\n",
    "\n",
    "```\n",
    "df.shape\n",
    "```"
   ]
  },
  {
   "cell_type": "markdown",
   "id": "3f35773a-76ff-4e35-b2fa-4c36ce16c1e5",
   "metadata": {},
   "source": [
    "o método `.head()` pode ser usado se só desejar ver as primeiras 5 linhas. Ou, este mesmo método pode receber um valor de linhas que deve mostrar:"
   ]
  },
  {
   "cell_type": "markdown",
   "id": "c54730c5-b483-44a6-90d0-7b146378a298",
   "metadata": {},
   "source": [
    "```\n",
    "df.head()\n",
    "```\n",
    "\n",
    "ou\n",
    "\n",
    "```\n",
    "df.head(20)\n",
    "```"
   ]
  },
  {
   "cell_type": "markdown",
   "id": "682c676a-78bd-4388-9ef8-51046f3117f9",
   "metadata": {},
   "source": [
    "se desejar ver as últimas 5 linhas, `.tail()`. Ou, pode passar um valor:"
   ]
  },
  {
   "cell_type": "markdown",
   "id": "77eea0a6-2f59-421e-8d37-fc7a9ee5f575",
   "metadata": {},
   "source": [
    "```\n",
    "df.tail()\n",
    "```\n",
    "\n",
    "ou\n",
    "\n",
    "```\n",
    "df.tail(20)\n",
    "```"
   ]
  }
 ],
 "metadata": {
  "kernelspec": {
   "display_name": "Python 3 (ipykernel)",
   "language": "python",
   "name": "python3"
  },
  "language_info": {
   "codemirror_mode": {
    "name": "ipython",
    "version": 3
   },
   "file_extension": ".py",
   "mimetype": "text/x-python",
   "name": "python",
   "nbconvert_exporter": "python",
   "pygments_lexer": "ipython3",
   "version": "3.10.6"
  }
 },
 "nbformat": 4,
 "nbformat_minor": 5
}
