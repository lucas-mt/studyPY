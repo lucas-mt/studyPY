{
 "cells": [
  {
   "cell_type": "markdown",
   "id": "98060067-8581-4f7e-aae2-db99eccdf163",
   "metadata": {},
   "source": [
    "## Lidando com tempo e datas\n",
    "---"
   ]
  },
  {
   "cell_type": "code",
   "execution_count": 1,
   "id": "df0d10ac-d620-4684-bd93-97d5c13c13fb",
   "metadata": {},
   "outputs": [],
   "source": [
    "import pandas as pd\n",
    "import numpy as np"
   ]
  },
  {
   "cell_type": "markdown",
   "id": "1cd98781-bbed-4de0-9bce-cec43e66dda0",
   "metadata": {},
   "source": [
    "o método `.to_datetime()` é usado para criar um objeto temporal:"
   ]
  },
  {
   "cell_type": "code",
   "execution_count": 3,
   "id": "835e1264-4af3-40f6-bebc-5385f7d2cdb7",
   "metadata": {},
   "outputs": [
    {
     "name": "stderr",
     "output_type": "stream",
     "text": [
      "/tmp/ipykernel_5439/2866896466.py:1: UserWarning: Parsing dates in %d/%m/%Y %H:%M:%S format when dayfirst=False (the default) was specified. Pass `dayfirst=True` or specify a format to silence this warning.\n",
      "  tmp = pd.to_datetime('15/12/2023 15:42:23')\n"
     ]
    },
    {
     "data": {
      "text/plain": [
       "Timestamp('2023-12-15 15:42:23')"
      ]
     },
     "execution_count": 3,
     "metadata": {},
     "output_type": "execute_result"
    }
   ],
   "source": [
    "tmp = pd.to_datetime('15/12/2023 15:42:23')\n",
    "tmp"
   ]
  },
  {
   "cell_type": "markdown",
   "id": "412b0be4-3e1a-4a6e-83ae-7fd1ebd4a278",
   "metadata": {},
   "source": [
    "com isso, é possível manipular a data, por exemplo:"
   ]
  },
  {
   "cell_type": "code",
   "execution_count": 4,
   "id": "49f67bcd-a1c7-414f-bd90-ac814a7d5c11",
   "metadata": {},
   "outputs": [
    {
     "data": {
      "text/plain": [
       "DatetimeIndex(['2023-12-15 15:42:23', '2023-12-16 15:42:23',\n",
       "               '2023-12-17 15:42:23', '2023-12-18 15:42:23',\n",
       "               '2023-12-19 15:42:23', '2023-12-20 15:42:23',\n",
       "               '2023-12-21 15:42:23', '2023-12-22 15:42:23',\n",
       "               '2023-12-23 15:42:23', '2023-12-24 15:42:23',\n",
       "               '2023-12-25 15:42:23', '2023-12-26 15:42:23'],\n",
       "              dtype='datetime64[ns]', freq=None)"
      ]
     },
     "execution_count": 4,
     "metadata": {},
     "output_type": "execute_result"
    }
   ],
   "source": [
    "tmp + pd.to_timedelta(np.arange(12), 'D')"
   ]
  },
  {
   "cell_type": "markdown",
   "id": "1b7ef7db-1dc8-482e-923a-3cb7832c31a7",
   "metadata": {},
   "source": [
    "passando uma lista de datas para o método `.DatetimeIndex()`, é assim criado índices em formate de datas para uma series, por exemplo:"
   ]
  },
  {
   "cell_type": "code",
   "execution_count": 20,
   "id": "3c2d3b9f-38b0-4856-86fe-b3c21e554433",
   "metadata": {},
   "outputs": [
    {
     "data": {
      "text/plain": [
       "2023-12-15    0\n",
       "2023-12-16    1\n",
       "2023-12-17    2\n",
       "2023-12-18    3\n",
       "2024-12-15    3\n",
       "2024-12-16    2\n",
       "2024-12-17    1\n",
       "2024-12-18    0\n",
       "dtype: int64"
      ]
     },
     "execution_count": 20,
     "metadata": {},
     "output_type": "execute_result"
    }
   ],
   "source": [
    "dt = pd.DatetimeIndex(['15/12/2023', '16/12/2023', '17/12/2023', '18/12/2023', '15/12/2024', '16/12/2024', '17/12/2024', '18/12/2024'])\n",
    "sr = pd.Series([0, 1, 2, 3, 3, 2, 1, 0], index=dt)\n",
    "sr"
   ]
  },
  {
   "cell_type": "markdown",
   "id": "6487043b-bb23-4175-93fd-f08c796415ef",
   "metadata": {},
   "source": [
    "sendo um series, qualquer manipulação possível dos series, aqui também será possível:"
   ]
  },
  {
   "cell_type": "code",
   "execution_count": 10,
   "id": "055fd8f0-e320-49ed-8bff-6f01e962d1e1",
   "metadata": {},
   "outputs": [
    {
     "data": {
      "text/plain": [
       "2"
      ]
     },
     "execution_count": 10,
     "metadata": {},
     "output_type": "execute_result"
    }
   ],
   "source": [
    "sr['17/12/2023']"
   ]
  },
  {
   "cell_type": "code",
   "execution_count": 21,
   "id": "6053842e-1982-4dcc-a428-21bb07c0d1b1",
   "metadata": {},
   "outputs": [
    {
     "data": {
      "text/plain": [
       "2023-12-15    0\n",
       "2024-12-18    0\n",
       "dtype: int64"
      ]
     },
     "execution_count": 21,
     "metadata": {},
     "output_type": "execute_result"
    }
   ],
   "source": [
    "sr[['15/12/2023', '18/12/2024']]"
   ]
  },
  {
   "cell_type": "code",
   "execution_count": 22,
   "id": "94ca6e5b-3f40-4013-85f7-33aaa93cc26a",
   "metadata": {},
   "outputs": [
    {
     "data": {
      "text/plain": [
       "2023-12-16    1\n",
       "2023-12-17    2\n",
       "2023-12-18    3\n",
       "2024-12-15    3\n",
       "2024-12-16    2\n",
       "dtype: int64"
      ]
     },
     "execution_count": 22,
     "metadata": {},
     "output_type": "execute_result"
    }
   ],
   "source": [
    "sr['16/12/2023':'16/12/2024']"
   ]
  },
  {
   "cell_type": "markdown",
   "id": "e2409f33-c5a5-48e4-b4a3-b4e5a766b2e0",
   "metadata": {},
   "source": [
    "passando apenas o ano, obtém-se todos resultados das datas registradas deste ano:"
   ]
  },
  {
   "cell_type": "code",
   "execution_count": 28,
   "id": "1a86e60a-8187-4335-a988-c948dfe457c9",
   "metadata": {},
   "outputs": [
    {
     "data": {
      "text/plain": [
       "2023-12-15    0\n",
       "2023-12-16    1\n",
       "2023-12-17    2\n",
       "2023-12-18    3\n",
       "dtype: int64"
      ]
     },
     "execution_count": 28,
     "metadata": {},
     "output_type": "execute_result"
    }
   ],
   "source": [
    "sr['2023']"
   ]
  },
  {
   "cell_type": "markdown",
   "id": "bea9bef7-b145-4c54-87b2-ef30476ca5fa",
   "metadata": {},
   "source": [
    "lembrando que, `.to_datetime()` já altomaticamente transforma uma lista de datas em `.DatetimeIndex()`, bem como, é capaz de interpretar diversos tipos de inputs diferentes:"
   ]
  },
  {
   "cell_type": "code",
   "execution_count": 33,
   "id": "8a733c9d-18bb-48ef-bc83-eacad4aeac64",
   "metadata": {},
   "outputs": [
    {
     "data": {
      "text/plain": [
       "DatetimeIndex(['2023-12-15', '2023-12-16', '2023-12-17', '2023-12-18',\n",
       "               '2023-12-19'],\n",
       "              dtype='datetime64[ns]', freq=None)"
      ]
     },
     "execution_count": 33,
     "metadata": {},
     "output_type": "execute_result"
    }
   ],
   "source": [
    "from datetime import datetime\n",
    "datas = pd.to_datetime([datetime(2023, 12, 15), '16th of december, 2023', '2023-dec-17', '18-12-2023', '20231219'])\n",
    "datas"
   ]
  },
  {
   "cell_type": "markdown",
   "id": "d1eac816-afcc-49fb-b451-379892342b6d",
   "metadata": {},
   "source": [
    "ainda é possível criar um período usando `.to_period()`, e passando um código indicando o espaçamento entre as datas através do parâmetro `freq=`. Neste exemplo, as datas distam uma da outras exatamente um dia, logo, o código a ser usado é `D`:"
   ]
  },
  {
   "cell_type": "code",
   "execution_count": 34,
   "id": "2c93ba6c-b916-4335-93a7-1a9676ae2f3c",
   "metadata": {},
   "outputs": [
    {
     "data": {
      "text/plain": [
       "PeriodIndex(['2023-12-15', '2023-12-16', '2023-12-17', '2023-12-18',\n",
       "             '2023-12-19'],\n",
       "            dtype='period[D]')"
      ]
     },
     "execution_count": 34,
     "metadata": {},
     "output_type": "execute_result"
    }
   ],
   "source": [
    "datas.to_period('D')"
   ]
  },
  {
   "cell_type": "markdown",
   "id": "9a9ace8e-e3b2-45aa-879d-d7b1b9029505",
   "metadata": {},
   "source": [
    "observe que, por ser uma lista de datas, cria-se o objeto `.PeriodIndex()`, que pode ser criado manualmente e pode servir índices em datasets.\n",
    "\n",
    "os códigos para usar com `freq` são:\n",
    "código|significado\n",
    "---|---\n",
    "D|dia do calendário\n",
    "W|semana\n",
    "M|final mês\n",
    "Q|final quadrimestre\n",
    "A|final ano\n",
    "H|hora\n",
    "T|minutos\n",
    "S|segundos\n",
    "L|milissegundos\n",
    "U|microssegundos\n",
    "N|nanossegundos\n",
    "B|dia útil\n",
    "BM|final mês útil\n",
    "BQ|final quadrimestre útil\n",
    "BA|final ano útil\n",
    "BH|hora útil\n",
    "MS|início mês\n",
    "QS|início quadrimestre\n",
    "AS|início ano\n",
    "BMS|início mês útil\n",
    "BQS|início quadrimestre útil\n",
    "BAS|início ano útil\n",
    "\n",
    "em alguns casos, é interessante marcar o momento em que um frequência acaba e começa outra, por exemplo, sendo, assim, possível marcar com um código de três letras, por exemplo: para o quadrimestre `Q-JAN`, `BQ-FEB`, `QS-MAR`, `BQS-APR`, etc.; para o ano `A-JAN`, `BA-FEB`, `AS-MAR`, `BAS-APR`, etc.; para a semana `W-SUN`, `W-MON`, `W-TUE`, `W-WED`, etc.\n",
    "\n",
    "outro objeto é o `.TimedeltaIndex()` que é criado a partir da criação de uma data baseada em outro, e, da mesma forma, pode ser usado com índice:"
   ]
  },
  {
   "cell_type": "code",
   "execution_count": 36,
   "id": "4a153ec4-70ad-47fc-a96c-021c1e4d6db7",
   "metadata": {},
   "outputs": [
    {
     "data": {
      "text/plain": [
       "TimedeltaIndex(['0 days', '1 days', '2 days', '3 days', '4 days'], dtype='timedelta64[ns]', freq=None)"
      ]
     },
     "execution_count": 36,
     "metadata": {},
     "output_type": "execute_result"
    }
   ],
   "source": [
    "datas - datas[0]"
   ]
  },
  {
   "cell_type": "markdown",
   "id": "11698627-01dd-40cf-b48f-7955bfc23961",
   "metadata": {},
   "source": [
    "#### sequências regulares\n",
    "---"
   ]
  },
  {
   "cell_type": "markdown",
   "id": "80dc7714-0108-467a-b2ca-467c79fc2dce",
   "metadata": {},
   "source": [
    "para criar datasets em que os momentos são espaçados de forma regular pode-se usar o métodos `pd.date_range()` para objetos `.datetime()`, `pd.oeriod_range()` para objetos `.to_period()` e `pd.timedelta_range()` para objetos `.timedelta()`. Assim como a função nativa do python `range()` recebe uma ponto de partida, um final e um passo, todos esses objetos recebem uma data de partida, uma data final e um passo:"
   ]
  },
  {
   "cell_type": "code",
   "execution_count": 39,
   "id": "3a6e2765-21e0-43e5-8e40-f2ebfb7d63ea",
   "metadata": {},
   "outputs": [
    {
     "data": {
      "text/plain": [
       "DatetimeIndex(['2023-12-15', '2023-12-16', '2023-12-17', '2023-12-18',\n",
       "               '2023-12-19', '2023-12-20', '2023-12-21', '2023-12-22',\n",
       "               '2023-12-23', '2023-12-24', '2023-12-25'],\n",
       "              dtype='datetime64[ns]', freq='D')"
      ]
     },
     "execution_count": 39,
     "metadata": {},
     "output_type": "execute_result"
    }
   ],
   "source": [
    "pd.date_range('15/12/2023', '25/12/2023')"
   ]
  },
  {
   "cell_type": "markdown",
   "id": "0bc7f3f7-4593-491d-8e7a-4aef2b8a1561",
   "metadata": {},
   "source": [
    "ou, basta apresentar o primeiro dia e o período:"
   ]
  },
  {
   "cell_type": "code",
   "execution_count": 42,
   "id": "babdbba9-84b0-43da-b1ab-05241b8b1470",
   "metadata": {},
   "outputs": [
    {
     "data": {
      "text/plain": [
       "DatetimeIndex(['2023-12-15', '2023-12-16', '2023-12-17', '2023-12-18',\n",
       "               '2023-12-19', '2023-12-20', '2023-12-21', '2023-12-22',\n",
       "               '2023-12-23', '2023-12-24', '2023-12-25'],\n",
       "              dtype='datetime64[ns]', freq='D')"
      ]
     },
     "execution_count": 42,
     "metadata": {},
     "output_type": "execute_result"
    }
   ],
   "source": [
    "pd.date_range('15/12/2023', periods=11)"
   ]
  },
  {
   "cell_type": "markdown",
   "id": "bb629253-8cfb-4d8f-a461-df9935daab08",
   "metadata": {},
   "source": [
    "pode-se, ainda, determinar a frequência usando `freq=`:"
   ]
  },
  {
   "cell_type": "code",
   "execution_count": 44,
   "id": "cbdb9cd3-1cbf-4b6b-a15e-70e8c692369a",
   "metadata": {},
   "outputs": [
    {
     "data": {
      "text/plain": [
       "DatetimeIndex(['2023-12-15 16:18:00', '2023-12-15 17:18:00',\n",
       "               '2023-12-15 18:18:00', '2023-12-15 19:18:00',\n",
       "               '2023-12-15 20:18:00', '2023-12-15 21:18:00',\n",
       "               '2023-12-15 22:18:00', '2023-12-15 23:18:00'],\n",
       "              dtype='datetime64[ns]', freq='H')"
      ]
     },
     "execution_count": 44,
     "metadata": {},
     "output_type": "execute_result"
    }
   ],
   "source": [
    "pd.date_range('15/12/2023 16:18', periods=8, freq='H')"
   ]
  },
  {
   "cell_type": "markdown",
   "id": "b17814a4-99bf-44df-8b05-d02b670c8f17",
   "metadata": {},
   "source": [
    "da mesma forma funciona os métodos `pd.period_range()` e `pd.timedelta_range()`."
   ]
  },
  {
   "cell_type": "code",
   "execution_count": 47,
   "id": "20d77dca-811e-4383-8844-c94eaee0d0e0",
   "metadata": {},
   "outputs": [
    {
     "data": {
      "text/plain": [
       "TimedeltaIndex(['0 days 00:00:00', '0 days 02:30:00', '0 days 05:00:00',\n",
       "                '0 days 07:30:00', '0 days 10:00:00', '0 days 12:30:00',\n",
       "                '0 days 15:00:00', '0 days 17:30:00', '0 days 20:00:00'],\n",
       "               dtype='timedelta64[ns]', freq='150T')"
      ]
     },
     "execution_count": 47,
     "metadata": {},
     "output_type": "execute_result"
    }
   ],
   "source": [
    "pd.timedelta_range('00:00:00', periods=9, freq='2H30T')"
   ]
  },
  {
   "cell_type": "markdown",
   "id": "cce1ae62-0ef6-4302-98a7-e6d8a301f142",
   "metadata": {},
   "source": [
    "#### modificando datas\n",
    "---"
   ]
  },
  {
   "cell_type": "markdown",
   "id": "84ec8138-8a10-4656-b72f-5972324ba4fb",
   "metadata": {},
   "source": [
    "os métodos `.resample()` e `.asfreq()` conseguem redimensionar as valores de um dataset, sendo `.resample()` um aggregation e `.asfreq()` um seleção de dados:"
   ]
  },
  {
   "cell_type": "code",
   "execution_count": 48,
   "id": "6ef6bb62-bda6-4ada-9e1b-cd6c05c2fb0b",
   "metadata": {},
   "outputs": [
    {
     "data": {
      "text/plain": [
       "2023-12-15    0\n",
       "2023-12-16    1\n",
       "2023-12-17    2\n",
       "2023-12-18    3\n",
       "2024-12-15    3\n",
       "2024-12-16    2\n",
       "2024-12-17    1\n",
       "2024-12-18    0\n",
       "dtype: int64"
      ]
     },
     "execution_count": 48,
     "metadata": {},
     "output_type": "execute_result"
    }
   ],
   "source": [
    "dt = pd.DatetimeIndex(['15/12/2023', '16/12/2023', '17/12/2023', '18/12/2023', '15/12/2024', '16/12/2024', '17/12/2024', '18/12/2024'])\n",
    "sr = pd.Series([0, 1, 2, 3, 3, 2, 1, 0], index=dt)\n",
    "sr"
   ]
  },
  {
   "cell_type": "markdown",
   "id": "782a5b55-1597-4c70-a2d7-ec89a50bc11f",
   "metadata": {},
   "source": [
    "compare:"
   ]
  },
  {
   "cell_type": "code",
   "execution_count": 51,
   "id": "0fefb1e6-eddd-4e19-b461-c985e5f47727",
   "metadata": {},
   "outputs": [
    {
     "data": {
      "text/plain": [
       "2023-12-29    1.5\n",
       "2024-12-31    1.5\n",
       "Freq: BA-DEC, dtype: float64"
      ]
     },
     "execution_count": 51,
     "metadata": {},
     "output_type": "execute_result"
    }
   ],
   "source": [
    "sr.resample('BA').mean()"
   ]
  },
  {
   "cell_type": "code",
   "execution_count": 54,
   "id": "daf45e87-b8ea-483f-87a9-929e37cce398",
   "metadata": {},
   "outputs": [
    {
     "data": {
      "text/plain": [
       "2023-12-29   NaN\n",
       "Freq: BA-DEC, dtype: float64"
      ]
     },
     "execution_count": 54,
     "metadata": {},
     "output_type": "execute_result"
    }
   ],
   "source": [
    "sr.asfreq('BA')"
   ]
  },
  {
   "cell_type": "markdown",
   "id": "60eed5ec-0dfe-48e4-9b5d-68fee5954e3b",
   "metadata": {},
   "source": [
    "observe que `.resample()` retorna a média dos valores de cada mês do perído, já `.asfreq()` retorna o valor no último dia do período. Neste exemplo, como foi passado `BA`, o período é o ano útil. Assim, como não há valores registrados na series para o dia 29/12/2023, `.asfreq()` retorna `NA`."
   ]
  },
  {
   "cell_type": "markdown",
   "id": "4d16606c-a53d-49af-a366-7a6f311b12f2",
   "metadata": {},
   "source": [
    "para evitar erros, pode-se ser passado o parâmetro `method=` em que recebe `bfill`, isto é, *backward fill*, ou `ffill`, *forward fill*:"
   ]
  },
  {
   "cell_type": "code",
   "execution_count": 58,
   "id": "c5ac804c-614c-4653-ade4-3a290850b15c",
   "metadata": {},
   "outputs": [
    {
     "data": {
      "text/plain": [
       "2023-12-29    3\n",
       "Freq: BA-DEC, dtype: int64"
      ]
     },
     "execution_count": 58,
     "metadata": {},
     "output_type": "execute_result"
    }
   ],
   "source": [
    "sr.asfreq('BA', method='bfill')"
   ]
  },
  {
   "cell_type": "code",
   "execution_count": 57,
   "id": "0de9915b-dd25-48d8-98fa-629dc411d84a",
   "metadata": {},
   "outputs": [
    {
     "data": {
      "text/plain": [
       "2023-12-29    3\n",
       "Freq: BA-DEC, dtype: int64"
      ]
     },
     "execution_count": 57,
     "metadata": {},
     "output_type": "execute_result"
    }
   ],
   "source": [
    "sr.asfreq('BA', method='ffill')"
   ]
  },
  {
   "cell_type": "markdown",
   "id": "f1d4d113-14e1-4732-a8fd-6d12d5b321e0",
   "metadata": {},
   "source": [
    "apesar de no exemplo ter dado valores iguais, eles podem ter resultados diferentes."
   ]
  },
  {
   "cell_type": "code",
   "execution_count": 59,
   "id": "2f18adc2-2912-4623-b2fc-ed5614201364",
   "metadata": {},
   "outputs": [
    {
     "data": {
      "text/plain": [
       "2023-12-15   NaN\n",
       "2023-12-16   NaN\n",
       "2023-12-17   NaN\n",
       "2023-12-18   NaN\n",
       "2023-12-19   NaN\n",
       "              ..\n",
       "2024-12-14   NaN\n",
       "2024-12-15   NaN\n",
       "2024-12-16   NaN\n",
       "2024-12-17   NaN\n",
       "2024-12-18   NaN\n",
       "Freq: D, Length: 370, dtype: float64"
      ]
     },
     "execution_count": 59,
     "metadata": {},
     "output_type": "execute_result"
    }
   ],
   "source": [
    "sr.asfreq('D').shift(23)"
   ]
  },
  {
   "cell_type": "code",
   "execution_count": 62,
   "id": "46b3ad52-91ac-4720-8267-da65be5878cc",
   "metadata": {},
   "outputs": [
    {
     "data": {
      "text/html": [
       "<div>\n",
       "<style scoped>\n",
       "    .dataframe tbody tr th:only-of-type {\n",
       "        vertical-align: middle;\n",
       "    }\n",
       "\n",
       "    .dataframe tbody tr th {\n",
       "        vertical-align: top;\n",
       "    }\n",
       "\n",
       "    .dataframe thead th {\n",
       "        text-align: right;\n",
       "    }\n",
       "</style>\n",
       "<table border=\"1\" class=\"dataframe\">\n",
       "  <thead>\n",
       "    <tr style=\"text-align: right;\">\n",
       "      <th></th>\n",
       "      <th>0</th>\n",
       "    </tr>\n",
       "  </thead>\n",
       "  <tbody>\n",
       "    <tr>\n",
       "      <th>2023-12-15</th>\n",
       "      <td>0</td>\n",
       "    </tr>\n",
       "    <tr>\n",
       "      <th>2023-12-16</th>\n",
       "      <td>1</td>\n",
       "    </tr>\n",
       "    <tr>\n",
       "      <th>2023-12-17</th>\n",
       "      <td>2</td>\n",
       "    </tr>\n",
       "    <tr>\n",
       "      <th>2023-12-18</th>\n",
       "      <td>3</td>\n",
       "    </tr>\n",
       "    <tr>\n",
       "      <th>2024-12-15</th>\n",
       "      <td>3</td>\n",
       "    </tr>\n",
       "    <tr>\n",
       "      <th>2024-12-16</th>\n",
       "      <td>2</td>\n",
       "    </tr>\n",
       "    <tr>\n",
       "      <th>2024-12-17</th>\n",
       "      <td>1</td>\n",
       "    </tr>\n",
       "    <tr>\n",
       "      <th>2024-12-18</th>\n",
       "      <td>0</td>\n",
       "    </tr>\n",
       "  </tbody>\n",
       "</table>\n",
       "</div>"
      ],
      "text/plain": [
       "            0\n",
       "2023-12-15  0\n",
       "2023-12-16  1\n",
       "2023-12-17  2\n",
       "2023-12-18  3\n",
       "2024-12-15  3\n",
       "2024-12-16  2\n",
       "2024-12-17  1\n",
       "2024-12-18  0"
      ]
     },
     "execution_count": 62,
     "metadata": {},
     "output_type": "execute_result"
    }
   ],
   "source": [
    "dtfm = pd.DataFrame(sr)\n",
    "dtfm"
   ]
  },
  {
   "cell_type": "code",
   "execution_count": 65,
   "id": "b82fb89e-e24d-48f0-aba2-e0fa02dcbced",
   "metadata": {},
   "outputs": [
    {
     "data": {
      "text/html": [
       "<div>\n",
       "<style scoped>\n",
       "    .dataframe tbody tr th:only-of-type {\n",
       "        vertical-align: middle;\n",
       "    }\n",
       "\n",
       "    .dataframe tbody tr th {\n",
       "        vertical-align: top;\n",
       "    }\n",
       "\n",
       "    .dataframe thead th {\n",
       "        text-align: right;\n",
       "    }\n",
       "</style>\n",
       "<table border=\"1\" class=\"dataframe\">\n",
       "  <thead>\n",
       "    <tr style=\"text-align: right;\">\n",
       "      <th></th>\n",
       "      <th>0</th>\n",
       "    </tr>\n",
       "  </thead>\n",
       "  <tbody>\n",
       "    <tr>\n",
       "      <th>2023-12-15</th>\n",
       "      <td>NaN</td>\n",
       "    </tr>\n",
       "    <tr>\n",
       "      <th>2023-12-16</th>\n",
       "      <td>NaN</td>\n",
       "    </tr>\n",
       "    <tr>\n",
       "      <th>2023-12-17</th>\n",
       "      <td>NaN</td>\n",
       "    </tr>\n",
       "    <tr>\n",
       "      <th>2023-12-18</th>\n",
       "      <td>NaN</td>\n",
       "    </tr>\n",
       "    <tr>\n",
       "      <th>2023-12-19</th>\n",
       "      <td>NaN</td>\n",
       "    </tr>\n",
       "    <tr>\n",
       "      <th>...</th>\n",
       "      <td>...</td>\n",
       "    </tr>\n",
       "    <tr>\n",
       "      <th>2024-12-14</th>\n",
       "      <td>NaN</td>\n",
       "    </tr>\n",
       "    <tr>\n",
       "      <th>2024-12-15</th>\n",
       "      <td>NaN</td>\n",
       "    </tr>\n",
       "    <tr>\n",
       "      <th>2024-12-16</th>\n",
       "      <td>NaN</td>\n",
       "    </tr>\n",
       "    <tr>\n",
       "      <th>2024-12-17</th>\n",
       "      <td>NaN</td>\n",
       "    </tr>\n",
       "    <tr>\n",
       "      <th>2024-12-18</th>\n",
       "      <td>NaN</td>\n",
       "    </tr>\n",
       "  </tbody>\n",
       "</table>\n",
       "<p>370 rows × 1 columns</p>\n",
       "</div>"
      ],
      "text/plain": [
       "             0\n",
       "2023-12-15 NaN\n",
       "2023-12-16 NaN\n",
       "2023-12-17 NaN\n",
       "2023-12-18 NaN\n",
       "2023-12-19 NaN\n",
       "...         ..\n",
       "2024-12-14 NaN\n",
       "2024-12-15 NaN\n",
       "2024-12-16 NaN\n",
       "2024-12-17 NaN\n",
       "2024-12-18 NaN\n",
       "\n",
       "[370 rows x 1 columns]"
      ]
     },
     "execution_count": 65,
     "metadata": {},
     "output_type": "execute_result"
    }
   ],
   "source": [
    "dtfm.asfreq('D', method='pad').shift(900)"
   ]
  },
  {
   "cell_type": "code",
   "execution_count": null,
   "id": "b058e504-566a-4011-ae0d-51616ae66ff6",
   "metadata": {},
   "outputs": [],
   "source": []
  }
 ],
 "metadata": {
  "kernelspec": {
   "display_name": "Python 3 (ipykernel)",
   "language": "python",
   "name": "python3"
  },
  "language_info": {
   "codemirror_mode": {
    "name": "ipython",
    "version": 3
   },
   "file_extension": ".py",
   "mimetype": "text/x-python",
   "name": "python",
   "nbconvert_exporter": "python",
   "pygments_lexer": "ipython3",
   "version": "3.10.12"
  }
 },
 "nbformat": 4,
 "nbformat_minor": 5
}
