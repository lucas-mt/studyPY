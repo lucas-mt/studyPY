{
 "cells": [
  {
   "cell_type": "markdown",
   "id": "ae9df662-8262-4453-89f4-593aea451c25",
   "metadata": {},
   "source": [
    "## usando CSV\n",
    "---"
   ]
  },
  {
   "cell_type": "code",
   "execution_count": 1,
   "id": "6af8e028-fb48-4384-9ada-4dc9c739d7b5",
   "metadata": {},
   "outputs": [],
   "source": [
    "import pandas as pd"
   ]
  },
  {
   "cell_type": "markdown",
   "id": "ab08a512-9ae0-4cd5-a01a-33debcadae16",
   "metadata": {},
   "source": [
    "para ler uma arquivo csv e armazenar seus valores em uma variável, basta:"
   ]
  },
  {
   "cell_type": "markdown",
   "id": "093bbe26-33e3-4a7f-b49c-1f4a242e67b7",
   "metadata": {},
   "source": [
    "```\n",
    "df = pd.read_csv('<arq.csv>')\n",
    "```"
   ]
  },
  {
   "cell_type": "markdown",
   "id": "4d2560f1-7808-4a23-9b10-a5189be53d0b",
   "metadata": {},
   "source": [
    "altomaticamente, `df` é um dataframe."
   ]
  },
  {
   "cell_type": "code",
   "execution_count": null,
   "id": "0cfb29e2-5a85-4c82-8b36-096f74de966c",
   "metadata": {},
   "outputs": [],
   "source": []
  }
 ],
 "metadata": {
  "kernelspec": {
   "display_name": "Python 3 (ipykernel)",
   "language": "python",
   "name": "python3"
  },
  "language_info": {
   "codemirror_mode": {
    "name": "ipython",
    "version": 3
   },
   "file_extension": ".py",
   "mimetype": "text/x-python",
   "name": "python",
   "nbconvert_exporter": "python",
   "pygments_lexer": "ipython3",
   "version": "3.10.12"
  }
 },
 "nbformat": 4,
 "nbformat_minor": 5
}
