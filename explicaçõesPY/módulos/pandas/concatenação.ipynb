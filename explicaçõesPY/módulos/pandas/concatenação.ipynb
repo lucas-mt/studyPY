{
 "cells": [
  {
   "cell_type": "markdown",
   "id": "f23b7769-7b04-45c5-8b45-59c9be088e48",
   "metadata": {},
   "source": [
    "## combinando conjunto de dados\n",
    "---"
   ]
  },
  {
   "cell_type": "code",
   "execution_count": 2,
   "id": "12c002ff-e533-49b6-8caa-46ccd358f8fd",
   "metadata": {},
   "outputs": [],
   "source": [
    "import pandas as pd"
   ]
  },
  {
   "cell_type": "markdown",
   "id": "ff13c421-64a2-43f1-8448-c687d17b1c88",
   "metadata": {},
   "source": [
    "usando a função `.concat()` pode-se juntar duas ou mais series ou dataframes:"
   ]
  },
  {
   "cell_type": "code",
   "execution_count": 12,
   "id": "20cebece-8878-4cd9-b60d-281e61d6970d",
   "metadata": {},
   "outputs": [
    {
     "name": "stdout",
     "output_type": "stream",
     "text": [
      "a    0\n",
      "b    2\n",
      "c    4\n",
      "d    6\n",
      "e    8\n",
      "dtype: int64\n",
      "f    11\n",
      "g    13\n",
      "h    15\n",
      "i    17\n",
      "j    19\n",
      "dtype: int64\n"
     ]
    }
   ],
   "source": [
    "sr1 = pd.Series([i for i in range(0, 10, 2)], index=list('abcde'))\n",
    "sr2 = pd.Series([i for i in range(11, 21, 2)], index=list('fghij'))\n",
    "print(sr1)\n",
    "print(sr2)"
   ]
  },
  {
   "cell_type": "code",
   "execution_count": 13,
   "id": "c3ab4b8a-1a22-4f18-bd2b-1fe6d58886f2",
   "metadata": {},
   "outputs": [
    {
     "data": {
      "text/plain": [
       "a     0\n",
       "b     2\n",
       "c     4\n",
       "d     6\n",
       "e     8\n",
       "f    11\n",
       "g    13\n",
       "h    15\n",
       "i    17\n",
       "j    19\n",
       "dtype: int64"
      ]
     },
     "execution_count": 13,
     "metadata": {},
     "output_type": "execute_result"
    }
   ],
   "source": [
    "sr3 = pd.concat([sr1, sr2])\n",
    "sr3"
   ]
  },
  {
   "cell_type": "markdown",
   "id": "4dca55ec-4f49-4dee-9bd0-d7227018c06d",
   "metadata": {},
   "source": [
    "observe que é necessário passar as datasets usando uma lista como parâmetro para `.concat()`. Serve para datafranes também:"
   ]
  },
  {
   "cell_type": "code",
   "execution_count": 40,
   "id": "0b7c0599-c108-48be-a0e8-28b1641547e9",
   "metadata": {},
   "outputs": [],
   "source": [
    "df1 = pd.DataFrame([['a1', 'a2'], ['a3', 'b4']], columns=['1-2', '3-a'])\n",
    "df2 = pd.DataFrame([['a1', 'b2'], ['b3', 'c4']], columns=['1-2', '3-a'])"
   ]
  },
  {
   "cell_type": "code",
   "execution_count": 36,
   "id": "f368bb94-24cd-4f2f-9d84-0e8e65866fab",
   "metadata": {},
   "outputs": [
    {
     "data": {
      "text/html": [
       "<div>\n",
       "<style scoped>\n",
       "    .dataframe tbody tr th:only-of-type {\n",
       "        vertical-align: middle;\n",
       "    }\n",
       "\n",
       "    .dataframe tbody tr th {\n",
       "        vertical-align: top;\n",
       "    }\n",
       "\n",
       "    .dataframe thead th {\n",
       "        text-align: right;\n",
       "    }\n",
       "</style>\n",
       "<table border=\"1\" class=\"dataframe\">\n",
       "  <thead>\n",
       "    <tr style=\"text-align: right;\">\n",
       "      <th></th>\n",
       "      <th>1-2</th>\n",
       "      <th>3-a</th>\n",
       "    </tr>\n",
       "  </thead>\n",
       "  <tbody>\n",
       "    <tr>\n",
       "      <th>0</th>\n",
       "      <td>a1</td>\n",
       "      <td>a2</td>\n",
       "    </tr>\n",
       "    <tr>\n",
       "      <th>1</th>\n",
       "      <td>a3</td>\n",
       "      <td>b4</td>\n",
       "    </tr>\n",
       "  </tbody>\n",
       "</table>\n",
       "</div>"
      ],
      "text/plain": [
       "  1-2 3-a\n",
       "0  a1  a2\n",
       "1  a3  b4"
      ]
     },
     "execution_count": 36,
     "metadata": {},
     "output_type": "execute_result"
    }
   ],
   "source": [
    "df1"
   ]
  },
  {
   "cell_type": "code",
   "execution_count": 37,
   "id": "b5cb2425-e13a-4d45-b247-8a5f1a048518",
   "metadata": {},
   "outputs": [
    {
     "data": {
      "text/html": [
       "<div>\n",
       "<style scoped>\n",
       "    .dataframe tbody tr th:only-of-type {\n",
       "        vertical-align: middle;\n",
       "    }\n",
       "\n",
       "    .dataframe tbody tr th {\n",
       "        vertical-align: top;\n",
       "    }\n",
       "\n",
       "    .dataframe thead th {\n",
       "        text-align: right;\n",
       "    }\n",
       "</style>\n",
       "<table border=\"1\" class=\"dataframe\">\n",
       "  <thead>\n",
       "    <tr style=\"text-align: right;\">\n",
       "      <th></th>\n",
       "      <th>1-2</th>\n",
       "      <th>3-a</th>\n",
       "    </tr>\n",
       "  </thead>\n",
       "  <tbody>\n",
       "    <tr>\n",
       "      <th>0</th>\n",
       "      <td>a1</td>\n",
       "      <td>b2</td>\n",
       "    </tr>\n",
       "    <tr>\n",
       "      <th>1</th>\n",
       "      <td>b3</td>\n",
       "      <td>c4</td>\n",
       "    </tr>\n",
       "  </tbody>\n",
       "</table>\n",
       "</div>"
      ],
      "text/plain": [
       "  1-2 3-a\n",
       "0  a1  b2\n",
       "1  b3  c4"
      ]
     },
     "execution_count": 37,
     "metadata": {},
     "output_type": "execute_result"
    }
   ],
   "source": [
    "df2"
   ]
  },
  {
   "cell_type": "code",
   "execution_count": 38,
   "id": "7a453042-0f53-468b-a94e-2d5beafe2b00",
   "metadata": {},
   "outputs": [
    {
     "data": {
      "text/html": [
       "<div>\n",
       "<style scoped>\n",
       "    .dataframe tbody tr th:only-of-type {\n",
       "        vertical-align: middle;\n",
       "    }\n",
       "\n",
       "    .dataframe tbody tr th {\n",
       "        vertical-align: top;\n",
       "    }\n",
       "\n",
       "    .dataframe thead th {\n",
       "        text-align: right;\n",
       "    }\n",
       "</style>\n",
       "<table border=\"1\" class=\"dataframe\">\n",
       "  <thead>\n",
       "    <tr style=\"text-align: right;\">\n",
       "      <th></th>\n",
       "      <th>1-2</th>\n",
       "      <th>3-a</th>\n",
       "    </tr>\n",
       "  </thead>\n",
       "  <tbody>\n",
       "    <tr>\n",
       "      <th>0</th>\n",
       "      <td>a1</td>\n",
       "      <td>a2</td>\n",
       "    </tr>\n",
       "    <tr>\n",
       "      <th>1</th>\n",
       "      <td>a3</td>\n",
       "      <td>b4</td>\n",
       "    </tr>\n",
       "    <tr>\n",
       "      <th>0</th>\n",
       "      <td>a1</td>\n",
       "      <td>b2</td>\n",
       "    </tr>\n",
       "    <tr>\n",
       "      <th>1</th>\n",
       "      <td>b3</td>\n",
       "      <td>c4</td>\n",
       "    </tr>\n",
       "  </tbody>\n",
       "</table>\n",
       "</div>"
      ],
      "text/plain": [
       "  1-2 3-a\n",
       "0  a1  a2\n",
       "1  a3  b4\n",
       "0  a1  b2\n",
       "1  b3  c4"
      ]
     },
     "execution_count": 38,
     "metadata": {},
     "output_type": "execute_result"
    }
   ],
   "source": [
    "df3 = pd.concat([df1, df2])\n",
    "df3"
   ]
  },
  {
   "cell_type": "markdown",
   "id": "900b2324-0eca-4334-a3b6-b811ced46dd0",
   "metadata": {},
   "source": [
    "por padrão, ao concatenar dataframes, estes serão juntados através das linhas (`axis=0`). isto pode ser mudado usando `axis=1`:"
   ]
  },
  {
   "cell_type": "code",
   "execution_count": 39,
   "id": "86b9b4d8-2036-40db-9942-5cba9904d0fb",
   "metadata": {},
   "outputs": [
    {
     "data": {
      "text/html": [
       "<div>\n",
       "<style scoped>\n",
       "    .dataframe tbody tr th:only-of-type {\n",
       "        vertical-align: middle;\n",
       "    }\n",
       "\n",
       "    .dataframe tbody tr th {\n",
       "        vertical-align: top;\n",
       "    }\n",
       "\n",
       "    .dataframe thead th {\n",
       "        text-align: right;\n",
       "    }\n",
       "</style>\n",
       "<table border=\"1\" class=\"dataframe\">\n",
       "  <thead>\n",
       "    <tr style=\"text-align: right;\">\n",
       "      <th></th>\n",
       "      <th>1-2</th>\n",
       "      <th>3-a</th>\n",
       "      <th>1-2</th>\n",
       "      <th>3-a</th>\n",
       "    </tr>\n",
       "  </thead>\n",
       "  <tbody>\n",
       "    <tr>\n",
       "      <th>0</th>\n",
       "      <td>a1</td>\n",
       "      <td>a2</td>\n",
       "      <td>a1</td>\n",
       "      <td>b2</td>\n",
       "    </tr>\n",
       "    <tr>\n",
       "      <th>1</th>\n",
       "      <td>a3</td>\n",
       "      <td>b4</td>\n",
       "      <td>b3</td>\n",
       "      <td>c4</td>\n",
       "    </tr>\n",
       "  </tbody>\n",
       "</table>\n",
       "</div>"
      ],
      "text/plain": [
       "  1-2 3-a 1-2 3-a\n",
       "0  a1  a2  a1  b2\n",
       "1  a3  b4  b3  c4"
      ]
     },
     "execution_count": 39,
     "metadata": {},
     "output_type": "execute_result"
    }
   ],
   "source": [
    "df4 = pd.concat([df1, df2], axis=1)\n",
    "df4"
   ]
  },
  {
   "cell_type": "markdown",
   "id": "43b018f5-d0d0-4e50-a6c5-0dc36bbfbc67",
   "metadata": {},
   "source": [
    "se os dataframes tiverem índices explícitos, estes permanecem ao serem concatenados, o que pode gerar duplicação de informação:"
   ]
  },
  {
   "cell_type": "code",
   "execution_count": 44,
   "id": "3696f382-a000-4515-b3a7-af5239b635a4",
   "metadata": {},
   "outputs": [],
   "source": [
    "df5 = pd.DataFrame([['a1', 'a2'], ['a3', 'b4']], columns=['1-2', '3-a'], index=list('ab'))\n",
    "df6 = pd.DataFrame([['a1', 'b2'], ['b3', 'c4']], columns=['1-2', '3-a'], index=list('ab'))"
   ]
  },
  {
   "cell_type": "code",
   "execution_count": 45,
   "id": "03e8df30-e499-4c26-839f-98018206786c",
   "metadata": {},
   "outputs": [
    {
     "data": {
      "text/html": [
       "<div>\n",
       "<style scoped>\n",
       "    .dataframe tbody tr th:only-of-type {\n",
       "        vertical-align: middle;\n",
       "    }\n",
       "\n",
       "    .dataframe tbody tr th {\n",
       "        vertical-align: top;\n",
       "    }\n",
       "\n",
       "    .dataframe thead th {\n",
       "        text-align: right;\n",
       "    }\n",
       "</style>\n",
       "<table border=\"1\" class=\"dataframe\">\n",
       "  <thead>\n",
       "    <tr style=\"text-align: right;\">\n",
       "      <th></th>\n",
       "      <th>1-2</th>\n",
       "      <th>3-a</th>\n",
       "    </tr>\n",
       "  </thead>\n",
       "  <tbody>\n",
       "    <tr>\n",
       "      <th>a</th>\n",
       "      <td>a1</td>\n",
       "      <td>a2</td>\n",
       "    </tr>\n",
       "    <tr>\n",
       "      <th>b</th>\n",
       "      <td>a3</td>\n",
       "      <td>b4</td>\n",
       "    </tr>\n",
       "  </tbody>\n",
       "</table>\n",
       "</div>"
      ],
      "text/plain": [
       "  1-2 3-a\n",
       "a  a1  a2\n",
       "b  a3  b4"
      ]
     },
     "execution_count": 45,
     "metadata": {},
     "output_type": "execute_result"
    }
   ],
   "source": [
    "df5"
   ]
  },
  {
   "cell_type": "code",
   "execution_count": 46,
   "id": "d6c0a3dd-b572-4cfd-aef3-77c944202533",
   "metadata": {},
   "outputs": [
    {
     "data": {
      "text/html": [
       "<div>\n",
       "<style scoped>\n",
       "    .dataframe tbody tr th:only-of-type {\n",
       "        vertical-align: middle;\n",
       "    }\n",
       "\n",
       "    .dataframe tbody tr th {\n",
       "        vertical-align: top;\n",
       "    }\n",
       "\n",
       "    .dataframe thead th {\n",
       "        text-align: right;\n",
       "    }\n",
       "</style>\n",
       "<table border=\"1\" class=\"dataframe\">\n",
       "  <thead>\n",
       "    <tr style=\"text-align: right;\">\n",
       "      <th></th>\n",
       "      <th>1-2</th>\n",
       "      <th>3-a</th>\n",
       "    </tr>\n",
       "  </thead>\n",
       "  <tbody>\n",
       "    <tr>\n",
       "      <th>a</th>\n",
       "      <td>a1</td>\n",
       "      <td>b2</td>\n",
       "    </tr>\n",
       "    <tr>\n",
       "      <th>b</th>\n",
       "      <td>b3</td>\n",
       "      <td>c4</td>\n",
       "    </tr>\n",
       "  </tbody>\n",
       "</table>\n",
       "</div>"
      ],
      "text/plain": [
       "  1-2 3-a\n",
       "a  a1  b2\n",
       "b  b3  c4"
      ]
     },
     "execution_count": 46,
     "metadata": {},
     "output_type": "execute_result"
    }
   ],
   "source": [
    "df6"
   ]
  },
  {
   "cell_type": "code",
   "execution_count": 56,
   "id": "fb7b857d-b078-41f7-8415-7020376c3bc2",
   "metadata": {},
   "outputs": [
    {
     "data": {
      "text/html": [
       "<div>\n",
       "<style scoped>\n",
       "    .dataframe tbody tr th:only-of-type {\n",
       "        vertical-align: middle;\n",
       "    }\n",
       "\n",
       "    .dataframe tbody tr th {\n",
       "        vertical-align: top;\n",
       "    }\n",
       "\n",
       "    .dataframe thead th {\n",
       "        text-align: right;\n",
       "    }\n",
       "</style>\n",
       "<table border=\"1\" class=\"dataframe\">\n",
       "  <thead>\n",
       "    <tr style=\"text-align: right;\">\n",
       "      <th></th>\n",
       "      <th>1-2</th>\n",
       "      <th>3-a</th>\n",
       "    </tr>\n",
       "  </thead>\n",
       "  <tbody>\n",
       "    <tr>\n",
       "      <th>a</th>\n",
       "      <td>a1</td>\n",
       "      <td>a2</td>\n",
       "    </tr>\n",
       "    <tr>\n",
       "      <th>b</th>\n",
       "      <td>a3</td>\n",
       "      <td>b4</td>\n",
       "    </tr>\n",
       "    <tr>\n",
       "      <th>a</th>\n",
       "      <td>a1</td>\n",
       "      <td>b2</td>\n",
       "    </tr>\n",
       "    <tr>\n",
       "      <th>b</th>\n",
       "      <td>b3</td>\n",
       "      <td>c4</td>\n",
       "    </tr>\n",
       "  </tbody>\n",
       "</table>\n",
       "</div>"
      ],
      "text/plain": [
       "  1-2 3-a\n",
       "a  a1  a2\n",
       "b  a3  b4\n",
       "a  a1  b2\n",
       "b  b3  c4"
      ]
     },
     "execution_count": 56,
     "metadata": {},
     "output_type": "execute_result"
    }
   ],
   "source": [
    "df7 = pd.concat([df5, df6])\n",
    "df7"
   ]
  },
  {
   "cell_type": "markdown",
   "id": "ff7d9a4d-9744-4e3e-9894-47d2ad53d8a5",
   "metadata": {},
   "source": [
    "ou, ainda, falta de valores:"
   ]
  },
  {
   "cell_type": "code",
   "execution_count": 67,
   "id": "c5730efc-ca0b-4072-bab6-17670794b0b5",
   "metadata": {},
   "outputs": [],
   "source": [
    "df8 = pd.DataFrame([['a1', 'a2'], ['a3', 'b4']], columns=['1-2', '3-a'], index=list('ab'))\n",
    "df9 = pd.DataFrame([['a1', 'b2'], ['b3', 'c4']], columns=['1-2', '3-a'], index=list('cd'))"
   ]
  },
  {
   "cell_type": "code",
   "execution_count": 50,
   "id": "b92bbf85-d1a1-4fc4-b25c-a94d46cb4474",
   "metadata": {},
   "outputs": [
    {
     "data": {
      "text/html": [
       "<div>\n",
       "<style scoped>\n",
       "    .dataframe tbody tr th:only-of-type {\n",
       "        vertical-align: middle;\n",
       "    }\n",
       "\n",
       "    .dataframe tbody tr th {\n",
       "        vertical-align: top;\n",
       "    }\n",
       "\n",
       "    .dataframe thead th {\n",
       "        text-align: right;\n",
       "    }\n",
       "</style>\n",
       "<table border=\"1\" class=\"dataframe\">\n",
       "  <thead>\n",
       "    <tr style=\"text-align: right;\">\n",
       "      <th></th>\n",
       "      <th>1-2</th>\n",
       "      <th>3-a</th>\n",
       "    </tr>\n",
       "  </thead>\n",
       "  <tbody>\n",
       "    <tr>\n",
       "      <th>a</th>\n",
       "      <td>a1</td>\n",
       "      <td>a2</td>\n",
       "    </tr>\n",
       "    <tr>\n",
       "      <th>b</th>\n",
       "      <td>a3</td>\n",
       "      <td>b4</td>\n",
       "    </tr>\n",
       "  </tbody>\n",
       "</table>\n",
       "</div>"
      ],
      "text/plain": [
       "  1-2 3-a\n",
       "a  a1  a2\n",
       "b  a3  b4"
      ]
     },
     "execution_count": 50,
     "metadata": {},
     "output_type": "execute_result"
    }
   ],
   "source": [
    "df8"
   ]
  },
  {
   "cell_type": "code",
   "execution_count": 51,
   "id": "5504ddd1-35ab-414e-89a4-ee9bca2b33fb",
   "metadata": {},
   "outputs": [
    {
     "data": {
      "text/html": [
       "<div>\n",
       "<style scoped>\n",
       "    .dataframe tbody tr th:only-of-type {\n",
       "        vertical-align: middle;\n",
       "    }\n",
       "\n",
       "    .dataframe tbody tr th {\n",
       "        vertical-align: top;\n",
       "    }\n",
       "\n",
       "    .dataframe thead th {\n",
       "        text-align: right;\n",
       "    }\n",
       "</style>\n",
       "<table border=\"1\" class=\"dataframe\">\n",
       "  <thead>\n",
       "    <tr style=\"text-align: right;\">\n",
       "      <th></th>\n",
       "      <th>1-2</th>\n",
       "      <th>3-a</th>\n",
       "    </tr>\n",
       "  </thead>\n",
       "  <tbody>\n",
       "    <tr>\n",
       "      <th>c</th>\n",
       "      <td>a1</td>\n",
       "      <td>b2</td>\n",
       "    </tr>\n",
       "    <tr>\n",
       "      <th>d</th>\n",
       "      <td>b3</td>\n",
       "      <td>c4</td>\n",
       "    </tr>\n",
       "  </tbody>\n",
       "</table>\n",
       "</div>"
      ],
      "text/plain": [
       "  1-2 3-a\n",
       "c  a1  b2\n",
       "d  b3  c4"
      ]
     },
     "execution_count": 51,
     "metadata": {},
     "output_type": "execute_result"
    }
   ],
   "source": [
    "df9"
   ]
  },
  {
   "cell_type": "code",
   "execution_count": 54,
   "id": "8e4756c4-508d-4426-bc39-d98b1c5e02d6",
   "metadata": {},
   "outputs": [
    {
     "data": {
      "text/html": [
       "<div>\n",
       "<style scoped>\n",
       "    .dataframe tbody tr th:only-of-type {\n",
       "        vertical-align: middle;\n",
       "    }\n",
       "\n",
       "    .dataframe tbody tr th {\n",
       "        vertical-align: top;\n",
       "    }\n",
       "\n",
       "    .dataframe thead th {\n",
       "        text-align: right;\n",
       "    }\n",
       "</style>\n",
       "<table border=\"1\" class=\"dataframe\">\n",
       "  <thead>\n",
       "    <tr style=\"text-align: right;\">\n",
       "      <th></th>\n",
       "      <th>1-2</th>\n",
       "      <th>3-a</th>\n",
       "      <th>1-2</th>\n",
       "      <th>3-a</th>\n",
       "    </tr>\n",
       "  </thead>\n",
       "  <tbody>\n",
       "    <tr>\n",
       "      <th>a</th>\n",
       "      <td>a1</td>\n",
       "      <td>a2</td>\n",
       "      <td>NaN</td>\n",
       "      <td>NaN</td>\n",
       "    </tr>\n",
       "    <tr>\n",
       "      <th>b</th>\n",
       "      <td>a3</td>\n",
       "      <td>b4</td>\n",
       "      <td>NaN</td>\n",
       "      <td>NaN</td>\n",
       "    </tr>\n",
       "    <tr>\n",
       "      <th>c</th>\n",
       "      <td>NaN</td>\n",
       "      <td>NaN</td>\n",
       "      <td>a1</td>\n",
       "      <td>b2</td>\n",
       "    </tr>\n",
       "    <tr>\n",
       "      <th>d</th>\n",
       "      <td>NaN</td>\n",
       "      <td>NaN</td>\n",
       "      <td>b3</td>\n",
       "      <td>c4</td>\n",
       "    </tr>\n",
       "  </tbody>\n",
       "</table>\n",
       "</div>"
      ],
      "text/plain": [
       "   1-2  3-a  1-2  3-a\n",
       "a   a1   a2  NaN  NaN\n",
       "b   a3   b4  NaN  NaN\n",
       "c  NaN  NaN   a1   b2\n",
       "d  NaN  NaN   b3   c4"
      ]
     },
     "execution_count": 54,
     "metadata": {},
     "output_type": "execute_result"
    }
   ],
   "source": [
    "df10 = pd.concat([df8, df9], axis=1)\n",
    "df10"
   ]
  },
  {
   "cell_type": "markdown",
   "id": "4c4c0ab2-d393-4c63-a180-1c901af3dbd1",
   "metadata": {},
   "source": [
    "com o parâmetro `verify_integrity=True`, é apresentado uma exceção caso haja algum índice repetindo:"
   ]
  },
  {
   "cell_type": "markdown",
   "id": "d83160c9-b96b-4f0d-b55b-6fe7ba640ca9",
   "metadata": {},
   "source": [
    "```\n",
    "pd.concat([df8, df9], axis=1, verify_integrity=True)\n",
    "```\n",
    "o que apresenta a mensagem:\n",
    "```\n",
    "ValueError: Indexes have overlapping values\n",
    "```"
   ]
  },
  {
   "cell_type": "markdown",
   "id": "1252ba15-6ca4-4ae2-b7e7-44910abe2530",
   "metadata": {},
   "source": [
    "ou, se preferir, pode simplismente ignorar os índices repetidos e o próprio pandas completa com índices diferentes, basta usar `ignore_index=True`:"
   ]
  },
  {
   "cell_type": "code",
   "execution_count": 62,
   "id": "9a301dee-e00a-42ea-b10e-c62b36670cba",
   "metadata": {},
   "outputs": [
    {
     "data": {
      "text/html": [
       "<div>\n",
       "<style scoped>\n",
       "    .dataframe tbody tr th:only-of-type {\n",
       "        vertical-align: middle;\n",
       "    }\n",
       "\n",
       "    .dataframe tbody tr th {\n",
       "        vertical-align: top;\n",
       "    }\n",
       "\n",
       "    .dataframe thead th {\n",
       "        text-align: right;\n",
       "    }\n",
       "</style>\n",
       "<table border=\"1\" class=\"dataframe\">\n",
       "  <thead>\n",
       "    <tr style=\"text-align: right;\">\n",
       "      <th></th>\n",
       "      <th>0</th>\n",
       "      <th>1</th>\n",
       "      <th>2</th>\n",
       "      <th>3</th>\n",
       "    </tr>\n",
       "  </thead>\n",
       "  <tbody>\n",
       "    <tr>\n",
       "      <th>a</th>\n",
       "      <td>a1</td>\n",
       "      <td>a2</td>\n",
       "      <td>NaN</td>\n",
       "      <td>NaN</td>\n",
       "    </tr>\n",
       "    <tr>\n",
       "      <th>b</th>\n",
       "      <td>a3</td>\n",
       "      <td>b4</td>\n",
       "      <td>NaN</td>\n",
       "      <td>NaN</td>\n",
       "    </tr>\n",
       "    <tr>\n",
       "      <th>c</th>\n",
       "      <td>NaN</td>\n",
       "      <td>NaN</td>\n",
       "      <td>a1</td>\n",
       "      <td>b2</td>\n",
       "    </tr>\n",
       "    <tr>\n",
       "      <th>d</th>\n",
       "      <td>NaN</td>\n",
       "      <td>NaN</td>\n",
       "      <td>b3</td>\n",
       "      <td>c4</td>\n",
       "    </tr>\n",
       "  </tbody>\n",
       "</table>\n",
       "</div>"
      ],
      "text/plain": [
       "     0    1    2    3\n",
       "a   a1   a2  NaN  NaN\n",
       "b   a3   b4  NaN  NaN\n",
       "c  NaN  NaN   a1   b2\n",
       "d  NaN  NaN   b3   c4"
      ]
     },
     "execution_count": 62,
     "metadata": {},
     "output_type": "execute_result"
    }
   ],
   "source": [
    "pd.concat([df8, df9], axis=1, ignore_index=True)"
   ]
  },
  {
   "cell_type": "markdown",
   "id": "f3e79de2-c60f-46f6-b13f-ee4fd2a2f71f",
   "metadata": {},
   "source": [
    "pode, ainda, criar um multiindexing através do parâmetro `keys=` onde deve ser passado o nome dos níveis:"
   ]
  },
  {
   "cell_type": "code",
   "execution_count": 63,
   "id": "a078d432-0c36-492c-a0c6-a349575f6a73",
   "metadata": {},
   "outputs": [
    {
     "data": {
      "text/html": [
       "<div>\n",
       "<style scoped>\n",
       "    .dataframe tbody tr th:only-of-type {\n",
       "        vertical-align: middle;\n",
       "    }\n",
       "\n",
       "    .dataframe tbody tr th {\n",
       "        vertical-align: top;\n",
       "    }\n",
       "\n",
       "    .dataframe thead tr th {\n",
       "        text-align: left;\n",
       "    }\n",
       "</style>\n",
       "<table border=\"1\" class=\"dataframe\">\n",
       "  <thead>\n",
       "    <tr>\n",
       "      <th></th>\n",
       "      <th colspan=\"2\" halign=\"left\">1º</th>\n",
       "      <th colspan=\"2\" halign=\"left\">2º</th>\n",
       "    </tr>\n",
       "    <tr>\n",
       "      <th></th>\n",
       "      <th>1-2</th>\n",
       "      <th>3-a</th>\n",
       "      <th>1-2</th>\n",
       "      <th>3-a</th>\n",
       "    </tr>\n",
       "  </thead>\n",
       "  <tbody>\n",
       "    <tr>\n",
       "      <th>a</th>\n",
       "      <td>a1</td>\n",
       "      <td>a2</td>\n",
       "      <td>NaN</td>\n",
       "      <td>NaN</td>\n",
       "    </tr>\n",
       "    <tr>\n",
       "      <th>b</th>\n",
       "      <td>a3</td>\n",
       "      <td>b4</td>\n",
       "      <td>NaN</td>\n",
       "      <td>NaN</td>\n",
       "    </tr>\n",
       "    <tr>\n",
       "      <th>c</th>\n",
       "      <td>NaN</td>\n",
       "      <td>NaN</td>\n",
       "      <td>a1</td>\n",
       "      <td>b2</td>\n",
       "    </tr>\n",
       "    <tr>\n",
       "      <th>d</th>\n",
       "      <td>NaN</td>\n",
       "      <td>NaN</td>\n",
       "      <td>b3</td>\n",
       "      <td>c4</td>\n",
       "    </tr>\n",
       "  </tbody>\n",
       "</table>\n",
       "</div>"
      ],
      "text/plain": [
       "    1º        2º     \n",
       "   1-2  3-a  1-2  3-a\n",
       "a   a1   a2  NaN  NaN\n",
       "b   a3   b4  NaN  NaN\n",
       "c  NaN  NaN   a1   b2\n",
       "d  NaN  NaN   b3   c4"
      ]
     },
     "execution_count": 63,
     "metadata": {},
     "output_type": "execute_result"
    }
   ],
   "source": [
    "pd.concat([df8, df9], axis=1, keys=['1º', '2º'])"
   ]
  },
  {
   "cell_type": "markdown",
   "id": "ac10a472-f311-469c-83e3-66b3507d63b1",
   "metadata": {},
   "source": [
    "na situação em que os dataframes têm várias colunas e linhas e elas nem sempre são iguais, a concatenação acaba ficando com valores NA, como visto acima. Neste caso, pode se usar o parâmetro `join=`"
   ]
  },
  {
   "cell_type": "code",
   "execution_count": 68,
   "id": "b112d082-f514-44bf-8f7d-b078d0fda5e3",
   "metadata": {},
   "outputs": [],
   "source": [
    "dfd = pd.DataFrame([['a1', 'a2'], ['a3', 'b4']], columns=['1-2', '3-a'], index=list('ab'))\n",
    "dff = pd.DataFrame([['a1', 'b2'], ['b3', 'c4']], columns=['1-2', '3-a'], index=list('bc'))"
   ]
  },
  {
   "cell_type": "code",
   "execution_count": 69,
   "id": "74f45fe2-d4fc-4f9c-ad10-071e8d0fd424",
   "metadata": {},
   "outputs": [
    {
     "data": {
      "text/html": [
       "<div>\n",
       "<style scoped>\n",
       "    .dataframe tbody tr th:only-of-type {\n",
       "        vertical-align: middle;\n",
       "    }\n",
       "\n",
       "    .dataframe tbody tr th {\n",
       "        vertical-align: top;\n",
       "    }\n",
       "\n",
       "    .dataframe thead th {\n",
       "        text-align: right;\n",
       "    }\n",
       "</style>\n",
       "<table border=\"1\" class=\"dataframe\">\n",
       "  <thead>\n",
       "    <tr style=\"text-align: right;\">\n",
       "      <th></th>\n",
       "      <th>1-2</th>\n",
       "      <th>3-a</th>\n",
       "    </tr>\n",
       "  </thead>\n",
       "  <tbody>\n",
       "    <tr>\n",
       "      <th>a</th>\n",
       "      <td>a1</td>\n",
       "      <td>a2</td>\n",
       "    </tr>\n",
       "    <tr>\n",
       "      <th>b</th>\n",
       "      <td>a3</td>\n",
       "      <td>b4</td>\n",
       "    </tr>\n",
       "  </tbody>\n",
       "</table>\n",
       "</div>"
      ],
      "text/plain": [
       "  1-2 3-a\n",
       "a  a1  a2\n",
       "b  a3  b4"
      ]
     },
     "execution_count": 69,
     "metadata": {},
     "output_type": "execute_result"
    }
   ],
   "source": [
    "dfd"
   ]
  },
  {
   "cell_type": "code",
   "execution_count": 70,
   "id": "e4646720-fc8b-49a1-9294-d95e91eff493",
   "metadata": {},
   "outputs": [
    {
     "data": {
      "text/html": [
       "<div>\n",
       "<style scoped>\n",
       "    .dataframe tbody tr th:only-of-type {\n",
       "        vertical-align: middle;\n",
       "    }\n",
       "\n",
       "    .dataframe tbody tr th {\n",
       "        vertical-align: top;\n",
       "    }\n",
       "\n",
       "    .dataframe thead th {\n",
       "        text-align: right;\n",
       "    }\n",
       "</style>\n",
       "<table border=\"1\" class=\"dataframe\">\n",
       "  <thead>\n",
       "    <tr style=\"text-align: right;\">\n",
       "      <th></th>\n",
       "      <th>1-2</th>\n",
       "      <th>3-a</th>\n",
       "    </tr>\n",
       "  </thead>\n",
       "  <tbody>\n",
       "    <tr>\n",
       "      <th>b</th>\n",
       "      <td>a1</td>\n",
       "      <td>b2</td>\n",
       "    </tr>\n",
       "    <tr>\n",
       "      <th>c</th>\n",
       "      <td>b3</td>\n",
       "      <td>c4</td>\n",
       "    </tr>\n",
       "  </tbody>\n",
       "</table>\n",
       "</div>"
      ],
      "text/plain": [
       "  1-2 3-a\n",
       "b  a1  b2\n",
       "c  b3  c4"
      ]
     },
     "execution_count": 70,
     "metadata": {},
     "output_type": "execute_result"
    }
   ],
   "source": [
    "dff"
   ]
  },
  {
   "cell_type": "code",
   "execution_count": 73,
   "id": "a508310a-b31e-4d72-87ac-08da1d33e3e6",
   "metadata": {},
   "outputs": [
    {
     "data": {
      "text/html": [
       "<div>\n",
       "<style scoped>\n",
       "    .dataframe tbody tr th:only-of-type {\n",
       "        vertical-align: middle;\n",
       "    }\n",
       "\n",
       "    .dataframe tbody tr th {\n",
       "        vertical-align: top;\n",
       "    }\n",
       "\n",
       "    .dataframe thead th {\n",
       "        text-align: right;\n",
       "    }\n",
       "</style>\n",
       "<table border=\"1\" class=\"dataframe\">\n",
       "  <thead>\n",
       "    <tr style=\"text-align: right;\">\n",
       "      <th></th>\n",
       "      <th>1-2</th>\n",
       "      <th>3-a</th>\n",
       "      <th>1-2</th>\n",
       "      <th>3-a</th>\n",
       "    </tr>\n",
       "  </thead>\n",
       "  <tbody>\n",
       "    <tr>\n",
       "      <th>a</th>\n",
       "      <td>a1</td>\n",
       "      <td>a2</td>\n",
       "      <td>NaN</td>\n",
       "      <td>NaN</td>\n",
       "    </tr>\n",
       "    <tr>\n",
       "      <th>b</th>\n",
       "      <td>a3</td>\n",
       "      <td>b4</td>\n",
       "      <td>a1</td>\n",
       "      <td>b2</td>\n",
       "    </tr>\n",
       "    <tr>\n",
       "      <th>c</th>\n",
       "      <td>NaN</td>\n",
       "      <td>NaN</td>\n",
       "      <td>b3</td>\n",
       "      <td>c4</td>\n",
       "    </tr>\n",
       "  </tbody>\n",
       "</table>\n",
       "</div>"
      ],
      "text/plain": [
       "   1-2  3-a  1-2  3-a\n",
       "a   a1   a2  NaN  NaN\n",
       "b   a3   b4   a1   b2\n",
       "c  NaN  NaN   b3   c4"
      ]
     },
     "execution_count": 73,
     "metadata": {},
     "output_type": "execute_result"
    }
   ],
   "source": [
    "pd.concat([dfd, dff], axis=1)"
   ]
  },
  {
   "cell_type": "code",
   "execution_count": 71,
   "id": "84262bf4-48cc-45bd-8b83-ed012cc3d201",
   "metadata": {},
   "outputs": [
    {
     "data": {
      "text/html": [
       "<div>\n",
       "<style scoped>\n",
       "    .dataframe tbody tr th:only-of-type {\n",
       "        vertical-align: middle;\n",
       "    }\n",
       "\n",
       "    .dataframe tbody tr th {\n",
       "        vertical-align: top;\n",
       "    }\n",
       "\n",
       "    .dataframe thead th {\n",
       "        text-align: right;\n",
       "    }\n",
       "</style>\n",
       "<table border=\"1\" class=\"dataframe\">\n",
       "  <thead>\n",
       "    <tr style=\"text-align: right;\">\n",
       "      <th></th>\n",
       "      <th>1-2</th>\n",
       "      <th>3-a</th>\n",
       "      <th>1-2</th>\n",
       "      <th>3-a</th>\n",
       "    </tr>\n",
       "  </thead>\n",
       "  <tbody>\n",
       "    <tr>\n",
       "      <th>a</th>\n",
       "      <td>a1</td>\n",
       "      <td>a2</td>\n",
       "      <td>NaN</td>\n",
       "      <td>NaN</td>\n",
       "    </tr>\n",
       "    <tr>\n",
       "      <th>b</th>\n",
       "      <td>a3</td>\n",
       "      <td>b4</td>\n",
       "      <td>a1</td>\n",
       "      <td>b2</td>\n",
       "    </tr>\n",
       "    <tr>\n",
       "      <th>c</th>\n",
       "      <td>NaN</td>\n",
       "      <td>NaN</td>\n",
       "      <td>b3</td>\n",
       "      <td>c4</td>\n",
       "    </tr>\n",
       "  </tbody>\n",
       "</table>\n",
       "</div>"
      ],
      "text/plain": [
       "   1-2  3-a  1-2  3-a\n",
       "a   a1   a2  NaN  NaN\n",
       "b   a3   b4   a1   b2\n",
       "c  NaN  NaN   b3   c4"
      ]
     },
     "execution_count": 71,
     "metadata": {},
     "output_type": "execute_result"
    }
   ],
   "source": [
    "pd.concat([dfd, dff], axis=1, join='outer')"
   ]
  },
  {
   "cell_type": "code",
   "execution_count": 72,
   "id": "fb65eff1-cff2-4c81-be44-ecf2e069e7c1",
   "metadata": {},
   "outputs": [
    {
     "data": {
      "text/html": [
       "<div>\n",
       "<style scoped>\n",
       "    .dataframe tbody tr th:only-of-type {\n",
       "        vertical-align: middle;\n",
       "    }\n",
       "\n",
       "    .dataframe tbody tr th {\n",
       "        vertical-align: top;\n",
       "    }\n",
       "\n",
       "    .dataframe thead th {\n",
       "        text-align: right;\n",
       "    }\n",
       "</style>\n",
       "<table border=\"1\" class=\"dataframe\">\n",
       "  <thead>\n",
       "    <tr style=\"text-align: right;\">\n",
       "      <th></th>\n",
       "      <th>1-2</th>\n",
       "      <th>3-a</th>\n",
       "      <th>1-2</th>\n",
       "      <th>3-a</th>\n",
       "    </tr>\n",
       "  </thead>\n",
       "  <tbody>\n",
       "    <tr>\n",
       "      <th>b</th>\n",
       "      <td>a3</td>\n",
       "      <td>b4</td>\n",
       "      <td>a1</td>\n",
       "      <td>b2</td>\n",
       "    </tr>\n",
       "  </tbody>\n",
       "</table>\n",
       "</div>"
      ],
      "text/plain": [
       "  1-2 3-a 1-2 3-a\n",
       "b  a3  b4  a1  b2"
      ]
     },
     "execution_count": 72,
     "metadata": {},
     "output_type": "execute_result"
    }
   ],
   "source": [
    "pd.concat([dfd, dff], axis=1, join='inner')"
   ]
  },
  {
   "cell_type": "markdown",
   "id": "1a1375d4-ebde-4d94-b0d4-f43fca94e8d7",
   "metadata": {},
   "source": [
    "`outer` é o valor padrão, por isso, não há mudanças entre usá-lo ou não. Já o `inner` apresenta apenas os valores de índices presentes em todos os dataframes."
   ]
  },
  {
   "cell_type": "markdown",
   "id": "f8d59e94-3335-4aa4-a3b9-6e660282f0dc",
   "metadata": {},
   "source": [
    "usando `join_axes=`, pode ser passado uma lista contendo índices apenas os índices que deseja apresentar."
   ]
  },
  {
   "cell_type": "markdown",
   "id": "be028caf-af65-444a-936a-9f719f1eeab3",
   "metadata": {},
   "source": [
    "há, ainda, a opção de usar `<dataset1>.append(<dataset2>)`, onde dataset pode ser uma series ou dataframe:"
   ]
  },
  {
   "cell_type": "code",
   "execution_count": 86,
   "id": "0ccfbf1a-c940-459f-a5db-3b9a4c395544",
   "metadata": {},
   "outputs": [
    {
     "data": {
      "text/html": [
       "<div>\n",
       "<style scoped>\n",
       "    .dataframe tbody tr th:only-of-type {\n",
       "        vertical-align: middle;\n",
       "    }\n",
       "\n",
       "    .dataframe tbody tr th {\n",
       "        vertical-align: top;\n",
       "    }\n",
       "\n",
       "    .dataframe thead th {\n",
       "        text-align: right;\n",
       "    }\n",
       "</style>\n",
       "<table border=\"1\" class=\"dataframe\">\n",
       "  <thead>\n",
       "    <tr style=\"text-align: right;\">\n",
       "      <th></th>\n",
       "      <th>1-2</th>\n",
       "      <th>3-a</th>\n",
       "    </tr>\n",
       "  </thead>\n",
       "  <tbody>\n",
       "    <tr>\n",
       "      <th>a</th>\n",
       "      <td>a1</td>\n",
       "      <td>a2</td>\n",
       "    </tr>\n",
       "    <tr>\n",
       "      <th>b</th>\n",
       "      <td>a3</td>\n",
       "      <td>b4</td>\n",
       "    </tr>\n",
       "    <tr>\n",
       "      <th>b</th>\n",
       "      <td>a1</td>\n",
       "      <td>b2</td>\n",
       "    </tr>\n",
       "    <tr>\n",
       "      <th>c</th>\n",
       "      <td>b3</td>\n",
       "      <td>c4</td>\n",
       "    </tr>\n",
       "  </tbody>\n",
       "</table>\n",
       "</div>"
      ],
      "text/plain": [
       "  1-2 3-a\n",
       "a  a1  a2\n",
       "b  a3  b4\n",
       "b  a1  b2\n",
       "c  b3  c4"
      ]
     },
     "execution_count": 86,
     "metadata": {},
     "output_type": "execute_result"
    }
   ],
   "source": [
    "dfd._append(dff)"
   ]
  },
  {
   "cell_type": "markdown",
   "id": "2fa575e5-9f73-4767-bf90-28242ad7406b",
   "metadata": {},
   "source": [
    "este método é menos eficiente, já que ele cria um novo dataset com as informações das outras, ao invés de simplesmente juntá-las, o que pode gastar muita memórias, principalmente em projetos grandes. Além disso, `._append()` tem menos funcionalidades que as demais opções."
   ]
  },
  {
   "cell_type": "code",
   "execution_count": null,
   "id": "c107d2c1-e528-4ac8-bb35-f182f05653f6",
   "metadata": {},
   "outputs": [],
   "source": []
  }
 ],
 "metadata": {
  "kernelspec": {
   "display_name": "Python 3 (ipykernel)",
   "language": "python",
   "name": "python3"
  },
  "language_info": {
   "codemirror_mode": {
    "name": "ipython",
    "version": 3
   },
   "file_extension": ".py",
   "mimetype": "text/x-python",
   "name": "python",
   "nbconvert_exporter": "python",
   "pygments_lexer": "ipython3",
   "version": "3.10.12"
  }
 },
 "nbformat": 4,
 "nbformat_minor": 5
}
