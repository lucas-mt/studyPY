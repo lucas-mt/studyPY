{
 "cells": [
  {
   "cell_type": "markdown",
   "id": "20d3ab05-ef79-4286-ad19-84cdfc2e260b",
   "metadata": {},
   "source": [
    "## MultiIndex: uma forma de armazenar informações multidimensionais em um vetor\n",
    "---"
   ]
  },
  {
   "cell_type": "code",
   "execution_count": 1,
   "id": "a8adb0ea-a027-418a-8df2-676cd607fa60",
   "metadata": {},
   "outputs": [],
   "source": [
    "import numpy as np\n",
    "import pandas as pd"
   ]
  },
  {
   "cell_type": "markdown",
   "id": "83ee3f75-ae32-47b5-ad25-1ad91b94cd3f",
   "metadata": {},
   "source": [
    "pandas tem o tipo `MultiIndex` capaz de receber, como índice, tuplas contendo diversos valores, sendo, assim, possível armazenar mais de uma informação em um `Series`."
   ]
  },
  {
   "cell_type": "markdown",
   "id": "8e744190-896a-4a53-8534-001083051c05",
   "metadata": {},
   "source": [
    "para isto, é antes necessário já dispor da lista de tuplas que servirá como índice mais tarde:"
   ]
  },
  {
   "cell_type": "code",
   "execution_count": 2,
   "id": "0f138d4f-ba98-4694-b01d-7b4acfa48f77",
   "metadata": {},
   "outputs": [],
   "source": [
    "índices = [('b', 1), ('b', 0), ('c', 0), ('d', 4), ('d', 1), ('e', 0)]"
   ]
  },
  {
   "cell_type": "markdown",
   "id": "4dcb0757-ec62-44e8-a716-620b00fb041f",
   "metadata": {},
   "source": [
    "em seguida, os valores e a `Series` devem ser declaradas normalmente:"
   ]
  },
  {
   "cell_type": "code",
   "execution_count": 3,
   "id": "0140f10f-d02b-4be3-82ec-f9a6a81d20bf",
   "metadata": {},
   "outputs": [
    {
     "data": {
      "text/plain": [
       "(b, 1)     2.718282\n",
       "(b, 0)     3.141593\n",
       "(c, 0)    22.459158\n",
       "(d, 4)     0.865256\n",
       "(d, 1)    -0.318310\n",
       "(e, 0)     1.648721\n",
       "dtype: float64"
      ]
     },
     "execution_count": 3,
     "metadata": {},
     "output_type": "execute_result"
    }
   ],
   "source": [
    "vlr = [np.e, np.pi, np.pi**np.e, np.e/np.pi, -1/np.pi, np.sqrt(np.e)]\n",
    "\n",
    "tudo = pd.Series(vlr, index=índices)\n",
    "tudo"
   ]
  },
  {
   "cell_type": "markdown",
   "id": "4994f473-2a96-4f2f-9291-1d74e868db7e",
   "metadata": {},
   "source": [
    "até agora, o que se tem é apenas tuplas em forma de índices, mas que, ainda, não é capaz de fazer o que `MultiIndex` faz. Para tal, é preciso redeclarar os índices para que este passe a ser do tipo `MultiIndex`:"
   ]
  },
  {
   "cell_type": "code",
   "execution_count": 4,
   "id": "56010d31-4c47-4e8c-82db-00f9524b8ae8",
   "metadata": {},
   "outputs": [],
   "source": [
    "índices = pd.MultiIndex.from_tuples(índices)"
   ]
  },
  {
   "cell_type": "markdown",
   "id": "cd57cca3-0535-4607-9190-3cd9d2ddd572",
   "metadata": {},
   "source": [
    "e, agora, é necessário reorganizar o vetor `tudo` com o método `.reindex()` que recebe como parâmetro a lista de tuplas:"
   ]
  },
  {
   "cell_type": "code",
   "execution_count": 5,
   "id": "b1d22329-398a-4f8e-bc36-e48e4575cf43",
   "metadata": {},
   "outputs": [],
   "source": [
    "tudo = tudo.reindex(índices)"
   ]
  },
  {
   "cell_type": "markdown",
   "id": "1a74275e-f725-4cfb-9e65-dae3ad913d5e",
   "metadata": {},
   "source": [
    "agora, sim:"
   ]
  },
  {
   "cell_type": "code",
   "execution_count": 6,
   "id": "d9d9ea07-3573-47c8-881c-72bfb10c4b54",
   "metadata": {},
   "outputs": [
    {
     "data": {
      "text/plain": [
       "b  1     2.718282\n",
       "   0     3.141593\n",
       "c  0    22.459158\n",
       "d  4     0.865256\n",
       "   1    -0.318310\n",
       "e  0     1.648721\n",
       "dtype: float64"
      ]
     },
     "execution_count": 6,
     "metadata": {},
     "output_type": "execute_result"
    }
   ],
   "source": [
    "tudo"
   ]
  },
  {
   "cell_type": "markdown",
   "id": "6716b779-8ad4-4aa2-bf1f-10c6461bf598",
   "metadata": {},
   "source": [
    "observe que o pandas organiza cada valor dos índices em hierarquias, onde cada espaço vazio corresponde ao valor na linha preenchida mais próxima."
   ]
  },
  {
   "cell_type": "markdown",
   "id": "2164c9e3-e519-444f-9a0c-0e1fe092b66a",
   "metadata": {},
   "source": [
    "mas, nem sempre é necessário criar um `MultiIndex` explicitamente: só em passar, através do parâmetro `index=`, uma lista contendo os arrays para construir os índices, o pandas já faz isso altomaticamente:"
   ]
  },
  {
   "cell_type": "code",
   "execution_count": 7,
   "id": "bc28e74e-0494-4f22-b977-ea0659586c66",
   "metadata": {},
   "outputs": [
    {
     "data": {
      "text/plain": [
       "b  1     2.718282\n",
       "   0     3.141593\n",
       "c  0    22.459158\n",
       "d  4     0.865256\n",
       "   1    -0.318310\n",
       "e  0     1.648721\n",
       "dtype: float64"
      ]
     },
     "execution_count": 7,
     "metadata": {},
     "output_type": "execute_result"
    }
   ],
   "source": [
    "tudo = pd.Series(vlr, index=[['b', 'b', 'c', 'd', 'd', 'e'], [1, 0, 0, 4, 1, 0]])\n",
    "tudo"
   ]
  },
  {
   "cell_type": "markdown",
   "id": "5fccd31f-19a7-404e-b6fa-4c9b68dfd4d1",
   "metadata": {},
   "source": [
    "ou mesmo, através de dicionários, onde, da mesma forma, os índices devem já ser os conjunto de arrays:"
   ]
  },
  {
   "cell_type": "code",
   "execution_count": 8,
   "id": "e6b53cbc-27fa-47d8-a146-6597e816995f",
   "metadata": {},
   "outputs": [
    {
     "data": {
      "text/plain": [
       "b  1     2.718282\n",
       "   0     3.141593\n",
       "c  0    22.459158\n",
       "d  4     0.865256\n",
       "   0    -0.318310\n",
       "e  0     1.648721\n",
       "dtype: float64"
      ]
     },
     "execution_count": 8,
     "metadata": {},
     "output_type": "execute_result"
    }
   ],
   "source": [
    "tudo = pd.Series(vlr, index={('b', 1): vlr[0], ('b', 0): vlr[1],\n",
    "                             ('c', 0): vlr[2], ('d', 4): vlr[3],\n",
    "                             ('d', 0): vlr[4], ('e', 0): vlr[5]})\n",
    "tudo"
   ]
  },
  {
   "cell_type": "markdown",
   "id": "a16b689b-d5a0-4830-b288-8ff210c467e2",
   "metadata": {},
   "source": [
    "este tipo de series pode ainda ser criado com os métodos `.from_arrays()`, `.from_frame()` e `.from_product()`, ou diretamente pela classe `.MultiIndex(levels=[<listas_indices>], labels=[<lista_valores>])`"
   ]
  },
  {
   "cell_type": "markdown",
   "id": "f38b5802-0625-4e06-8b94-39a21a58972b",
   "metadata": {},
   "source": [
    "especificamente, o método `.from_product()` funciona da seguinte maneira:"
   ]
  },
  {
   "cell_type": "code",
   "execution_count": 9,
   "id": "4506603b-e237-4c66-a6de-a4ac1c3690d5",
   "metadata": {},
   "outputs": [
    {
     "name": "stdout",
     "output_type": "stream",
     "text": [
      "11  a    1\n",
      "    b    2\n",
      "    c    3\n",
      "12  a    4\n",
      "    b    5\n",
      "    c    6\n",
      "dtype: int64\n"
     ]
    }
   ],
   "source": [
    "tuplas = [1, 2, 3, 4, 5, 6]\n",
    "vtr = pd.Series(tuplas, pd.MultiIndex.from_product([[11, 12], ['a', 'b', 'c']]))\n",
    "print(vtr)"
   ]
  },
  {
   "cell_type": "markdown",
   "id": "e74b36e3-39fa-4cb2-a9ec-6f9fa92b2e89",
   "metadata": {},
   "source": [
    "É necessário passar as informações, neste exemplo, a lista `tuplas`, seguida de `pd.Multiindex.from_product([<lista_de_índices>])`, onde deve ser apresentado uma lista com cada índice e subíndice. \n",
    "o tamanho da tupla, neste caso, precisa ser igual à multiplicação dos índices."
   ]
  },
  {
   "cell_type": "markdown",
   "id": "0e3fbb74-0c23-4b62-8bf3-495c47005e34",
   "metadata": {},
   "source": [
    "#### ordenação\n",
    "---"
   ]
  },
  {
   "cell_type": "markdown",
   "id": "c23885d3-97f5-459f-bd5b-83107ba3a628",
   "metadata": {},
   "source": [
    "é interessante observar que o `MultiIndex` não funciona se os índices não estiverem organizados:"
   ]
  },
  {
   "cell_type": "code",
   "execution_count": 10,
   "id": "4c058b99-dbf3-48c0-bd96-df3481caddb0",
   "metadata": {},
   "outputs": [
    {
     "data": {
      "text/plain": [
       "b  1     2.718282\n",
       "c  0     3.141593\n",
       "b  0    22.459158\n",
       "d  1     0.865256\n",
       "e  0    -0.318310\n",
       "d  4     1.648721\n",
       "dtype: float64"
      ]
     },
     "execution_count": 10,
     "metadata": {},
     "output_type": "execute_result"
    }
   ],
   "source": [
    "índices = [('b', 1), ('c', 0), ('b', 0), ('d', 1), ('e', 0), ('d', 4)]\n",
    "vlr = [np.e, np.pi, np.pi**np.e, np.e/np.pi, -1/np.pi, np.sqrt(np.e)]\n",
    "tudo = pd.Series(vlr, index=índices)\n",
    "\n",
    "índices = pd.MultiIndex.from_tuples(índices)\n",
    "tudo = tudo.reindex(índices)\n",
    "tudo"
   ]
  },
  {
   "cell_type": "markdown",
   "id": "67c5d80a-479d-4fec-a8e9-658c49ae18d8",
   "metadata": {},
   "source": [
    "para não precisar fazer isto manualmente, pode-se usar as funções `sort_index()` ou `sortlevel()`:"
   ]
  },
  {
   "cell_type": "code",
   "execution_count": 11,
   "id": "e4ad97fa-379f-495f-8b9d-420057410d85",
   "metadata": {},
   "outputs": [
    {
     "data": {
      "text/plain": [
       "b  0    22.459158\n",
       "   1     2.718282\n",
       "c  0     3.141593\n",
       "d  1     0.865256\n",
       "   4     1.648721\n",
       "e  0    -0.318310\n",
       "dtype: float64"
      ]
     },
     "execution_count": 11,
     "metadata": {},
     "output_type": "execute_result"
    }
   ],
   "source": [
    "tudo = tudo.sort_index()\n",
    "tudo"
   ]
  },
  {
   "cell_type": "markdown",
   "id": "39641df3-6cb6-4957-b9fe-2d0eac59e330",
   "metadata": {},
   "source": [
    "#### indexing e slicing em series\n",
    "---"
   ]
  },
  {
   "cell_type": "markdown",
   "id": "6d261cb1-6967-40de-a9a2-c9f6158b7d71",
   "metadata": {},
   "source": [
    "funciona da mesma forma que para pandas:"
   ]
  },
  {
   "cell_type": "code",
   "execution_count": 12,
   "id": "221711fe-d050-4392-945d-59251918bc26",
   "metadata": {},
   "outputs": [
    {
     "data": {
      "text/plain": [
       "0    22.459158\n",
       "1     2.718282\n",
       "dtype: float64"
      ]
     },
     "execution_count": 12,
     "metadata": {},
     "output_type": "execute_result"
    }
   ],
   "source": [
    "tudo['b']"
   ]
  },
  {
   "cell_type": "code",
   "execution_count": 13,
   "id": "81ed8a61-117a-41aa-8ab6-07fa1e0953e9",
   "metadata": {},
   "outputs": [
    {
     "data": {
      "text/plain": [
       "b    22.459158\n",
       "c     3.141593\n",
       "e    -0.318310\n",
       "dtype: float64"
      ]
     },
     "execution_count": 13,
     "metadata": {},
     "output_type": "execute_result"
    }
   ],
   "source": [
    "tudo[:, 0]"
   ]
  },
  {
   "cell_type": "markdown",
   "id": "06156022-d22c-49a1-8d65-0e64f57d8502",
   "metadata": {},
   "source": [
    "este slicing funciona da seguinte forma:\n",
    "1. como tem `:`, isto significa que deve percorrer todos os primeiros valores dos índices;\n",
    "2. assim, checa se estes têm o valor 0 (zero) na segunda posição;\n",
    "3. se tiver, retorna o valor passado como para a series."
   ]
  },
  {
   "cell_type": "code",
   "execution_count": 14,
   "id": "524f2609-ef8a-4e04-89cf-0f022f52629b",
   "metadata": {},
   "outputs": [
    {
     "data": {
      "text/plain": [
       "1.6487212707001282"
      ]
     },
     "execution_count": 14,
     "metadata": {},
     "output_type": "execute_result"
    }
   ],
   "source": [
    "tudo['d', 4] #tudo['d'][4]"
   ]
  },
  {
   "cell_type": "code",
   "execution_count": 15,
   "id": "62069fa8-1893-47c3-823b-7acc3c358394",
   "metadata": {},
   "outputs": [
    {
     "data": {
      "text/plain": [
       "b  0    22.459158\n",
       "   1     2.718282\n",
       "c  0     3.141593\n",
       "dtype: float64"
      ]
     },
     "execution_count": 15,
     "metadata": {},
     "output_type": "execute_result"
    }
   ],
   "source": [
    "tudo['b':'c']"
   ]
  },
  {
   "cell_type": "code",
   "execution_count": 16,
   "id": "66d9c7b9-3224-4939-aea8-0021565495a7",
   "metadata": {},
   "outputs": [
    {
     "data": {
      "text/plain": [
       "b  0    22.459158\n",
       "   1     2.718282\n",
       "c  0     3.141593\n",
       "dtype: float64"
      ]
     },
     "execution_count": 16,
     "metadata": {},
     "output_type": "execute_result"
    }
   ],
   "source": [
    "tudo[['b', 'c']]"
   ]
  },
  {
   "cell_type": "markdown",
   "id": "254d09ab-eb4f-45ce-91ec-4b32f3a4247a",
   "metadata": {},
   "source": [
    "fancing indexing também funciona aqui:"
   ]
  },
  {
   "cell_type": "code",
   "execution_count": 17,
   "id": "821264ba-890b-4523-8ea7-cc85698b0471",
   "metadata": {},
   "outputs": [
    {
     "data": {
      "text/plain": [
       "e  0   -0.31831\n",
       "dtype: float64"
      ]
     },
     "execution_count": 17,
     "metadata": {},
     "output_type": "execute_result"
    }
   ],
   "source": [
    "tudo[tudo < 0]"
   ]
  },
  {
   "cell_type": "code",
   "execution_count": 18,
   "id": "d2f599d4-df04-4620-8061-d175ac57edcf",
   "metadata": {},
   "outputs": [
    {
     "data": {
      "text/plain": [
       "b  0    22.459158\n",
       "c  0     3.141593\n",
       "dtype: float64"
      ]
     },
     "execution_count": 18,
     "metadata": {},
     "output_type": "execute_result"
    }
   ],
   "source": [
    "tudo[tudo > 2.8]"
   ]
  },
  {
   "cell_type": "markdown",
   "id": "5c7746ea-6b17-46a9-883b-58cea7b4b6bd",
   "metadata": {},
   "source": [
    "#### em dataframmes\n",
    "---"
   ]
  },
  {
   "cell_type": "markdown",
   "id": "9424866d-f750-4aa4-8406-5abd206fa120",
   "metadata": {},
   "source": [
    "é importante ver que isto também funciona com dataframes:"
   ]
  },
  {
   "cell_type": "code",
   "execution_count": 19,
   "id": "13b10abc-6c7e-45dd-ab71-a1eddddb0604",
   "metadata": {},
   "outputs": [
    {
     "data": {
      "text/html": [
       "<div>\n",
       "<style scoped>\n",
       "    .dataframe tbody tr th:only-of-type {\n",
       "        vertical-align: middle;\n",
       "    }\n",
       "\n",
       "    .dataframe tbody tr th {\n",
       "        vertical-align: top;\n",
       "    }\n",
       "\n",
       "    .dataframe thead th {\n",
       "        text-align: right;\n",
       "    }\n",
       "</style>\n",
       "<table border=\"1\" class=\"dataframe\">\n",
       "  <thead>\n",
       "    <tr style=\"text-align: right;\">\n",
       "      <th></th>\n",
       "      <th></th>\n",
       "      <th>tudo</th>\n",
       "    </tr>\n",
       "  </thead>\n",
       "  <tbody>\n",
       "    <tr>\n",
       "      <th rowspan=\"2\" valign=\"top\">b</th>\n",
       "      <th>0</th>\n",
       "      <td>22.459158</td>\n",
       "    </tr>\n",
       "    <tr>\n",
       "      <th>1</th>\n",
       "      <td>2.718282</td>\n",
       "    </tr>\n",
       "    <tr>\n",
       "      <th>c</th>\n",
       "      <th>0</th>\n",
       "      <td>3.141593</td>\n",
       "    </tr>\n",
       "    <tr>\n",
       "      <th rowspan=\"2\" valign=\"top\">d</th>\n",
       "      <th>1</th>\n",
       "      <td>0.865256</td>\n",
       "    </tr>\n",
       "    <tr>\n",
       "      <th>4</th>\n",
       "      <td>1.648721</td>\n",
       "    </tr>\n",
       "    <tr>\n",
       "      <th>e</th>\n",
       "      <th>0</th>\n",
       "      <td>-0.318310</td>\n",
       "    </tr>\n",
       "  </tbody>\n",
       "</table>\n",
       "</div>"
      ],
      "text/plain": [
       "          tudo\n",
       "b 0  22.459158\n",
       "  1   2.718282\n",
       "c 0   3.141593\n",
       "d 1   0.865256\n",
       "  4   1.648721\n",
       "e 0  -0.318310"
      ]
     },
     "execution_count": 19,
     "metadata": {},
     "output_type": "execute_result"
    }
   ],
   "source": [
    "tudo_df = pd.DataFrame({'tudo': tudo})\n",
    "tudo_df"
   ]
  },
  {
   "cell_type": "markdown",
   "id": "268cbb3f-d707-477d-a4b0-e5f85f97251b",
   "metadata": {},
   "source": [
    "os dataframes, desta forma, conseguem comportar muito mais informações, ficando cada vez mais semelhante a uma planilha excel, por exemplo."
   ]
  },
  {
   "cell_type": "markdown",
   "id": "32501982-7e3a-4c73-8188-697116268e29",
   "metadata": {},
   "source": [
    "é até mesmo possível adicionar informações a este dataframe:"
   ]
  },
  {
   "cell_type": "code",
   "execution_count": 20,
   "id": "ecfac738-8879-4684-80c1-28d1710613ee",
   "metadata": {},
   "outputs": [
    {
     "data": {
      "text/html": [
       "<div>\n",
       "<style scoped>\n",
       "    .dataframe tbody tr th:only-of-type {\n",
       "        vertical-align: middle;\n",
       "    }\n",
       "\n",
       "    .dataframe tbody tr th {\n",
       "        vertical-align: top;\n",
       "    }\n",
       "\n",
       "    .dataframe thead th {\n",
       "        text-align: right;\n",
       "    }\n",
       "</style>\n",
       "<table border=\"1\" class=\"dataframe\">\n",
       "  <thead>\n",
       "    <tr style=\"text-align: right;\">\n",
       "      <th></th>\n",
       "      <th></th>\n",
       "      <th>tudo</th>\n",
       "      <th>adicionado</th>\n",
       "    </tr>\n",
       "  </thead>\n",
       "  <tbody>\n",
       "    <tr>\n",
       "      <th rowspan=\"2\" valign=\"top\">b</th>\n",
       "      <th>0</th>\n",
       "      <td>22.459158</td>\n",
       "      <td>1</td>\n",
       "    </tr>\n",
       "    <tr>\n",
       "      <th>1</th>\n",
       "      <td>2.718282</td>\n",
       "      <td>2</td>\n",
       "    </tr>\n",
       "    <tr>\n",
       "      <th>c</th>\n",
       "      <th>0</th>\n",
       "      <td>3.141593</td>\n",
       "      <td>3</td>\n",
       "    </tr>\n",
       "    <tr>\n",
       "      <th rowspan=\"2\" valign=\"top\">d</th>\n",
       "      <th>1</th>\n",
       "      <td>0.865256</td>\n",
       "      <td>4</td>\n",
       "    </tr>\n",
       "    <tr>\n",
       "      <th>4</th>\n",
       "      <td>1.648721</td>\n",
       "      <td>5</td>\n",
       "    </tr>\n",
       "    <tr>\n",
       "      <th>e</th>\n",
       "      <th>0</th>\n",
       "      <td>-0.318310</td>\n",
       "      <td>6</td>\n",
       "    </tr>\n",
       "  </tbody>\n",
       "</table>\n",
       "</div>"
      ],
      "text/plain": [
       "          tudo  adicionado\n",
       "b 0  22.459158           1\n",
       "  1   2.718282           2\n",
       "c 0   3.141593           3\n",
       "d 1   0.865256           4\n",
       "  4   1.648721           5\n",
       "e 0  -0.318310           6"
      ]
     },
     "execution_count": 20,
     "metadata": {},
     "output_type": "execute_result"
    }
   ],
   "source": [
    "tudo_df['adicionado'] = [1, 2, 3, 4, 5, 6]\n",
    "tudo_df"
   ]
  },
  {
   "cell_type": "markdown",
   "id": "99c7c3a0-d80e-4974-b5da-1636d86bf0b0",
   "metadata": {},
   "source": [
    "#### .unstack() e .stack()\n",
    "---"
   ]
  },
  {
   "cell_type": "markdown",
   "id": "fccb4e4f-1c2d-4358-aedb-f7c1bf07d8a8",
   "metadata": {},
   "source": [
    "este método retorna a series de índices multidimensionais como um dataframe:"
   ]
  },
  {
   "cell_type": "code",
   "execution_count": 21,
   "id": "de9c7bed-766b-41ef-a945-19d6d0a915f5",
   "metadata": {},
   "outputs": [
    {
     "data": {
      "text/html": [
       "<div>\n",
       "<style scoped>\n",
       "    .dataframe tbody tr th:only-of-type {\n",
       "        vertical-align: middle;\n",
       "    }\n",
       "\n",
       "    .dataframe tbody tr th {\n",
       "        vertical-align: top;\n",
       "    }\n",
       "\n",
       "    .dataframe thead th {\n",
       "        text-align: right;\n",
       "    }\n",
       "</style>\n",
       "<table border=\"1\" class=\"dataframe\">\n",
       "  <thead>\n",
       "    <tr style=\"text-align: right;\">\n",
       "      <th></th>\n",
       "      <th>0</th>\n",
       "      <th>1</th>\n",
       "      <th>4</th>\n",
       "    </tr>\n",
       "  </thead>\n",
       "  <tbody>\n",
       "    <tr>\n",
       "      <th>b</th>\n",
       "      <td>22.459158</td>\n",
       "      <td>2.718282</td>\n",
       "      <td>NaN</td>\n",
       "    </tr>\n",
       "    <tr>\n",
       "      <th>c</th>\n",
       "      <td>3.141593</td>\n",
       "      <td>NaN</td>\n",
       "      <td>NaN</td>\n",
       "    </tr>\n",
       "    <tr>\n",
       "      <th>d</th>\n",
       "      <td>NaN</td>\n",
       "      <td>0.865256</td>\n",
       "      <td>1.648721</td>\n",
       "    </tr>\n",
       "    <tr>\n",
       "      <th>e</th>\n",
       "      <td>-0.318310</td>\n",
       "      <td>NaN</td>\n",
       "      <td>NaN</td>\n",
       "    </tr>\n",
       "  </tbody>\n",
       "</table>\n",
       "</div>"
      ],
      "text/plain": [
       "           0         1         4\n",
       "b  22.459158  2.718282       NaN\n",
       "c   3.141593       NaN       NaN\n",
       "d        NaN  0.865256  1.648721\n",
       "e  -0.318310       NaN       NaN"
      ]
     },
     "execution_count": 21,
     "metadata": {},
     "output_type": "execute_result"
    }
   ],
   "source": [
    "tudo_df = tudo.unstack()\n",
    "tudo_df"
   ]
  },
  {
   "cell_type": "markdown",
   "id": "14a1a496-b969-4d5c-9779-63942eab1334",
   "metadata": {},
   "source": [
    "o método `unstack()` ainda recebe o parâmetro `level=`, que recebe o número do nível ao qual deseja-se usar:"
   ]
  },
  {
   "cell_type": "code",
   "execution_count": 22,
   "id": "d064175f-88bc-4e4e-b64f-94dd3ef1e66d",
   "metadata": {},
   "outputs": [],
   "source": [
    "tudo_df_0 = tudo.unstack(level=0)\n",
    "tudo_df_1 = tudo.unstack(level=1)"
   ]
  },
  {
   "cell_type": "code",
   "execution_count": 23,
   "id": "eda8699b-da48-4542-80b0-77eb966eae64",
   "metadata": {},
   "outputs": [
    {
     "data": {
      "text/html": [
       "<div>\n",
       "<style scoped>\n",
       "    .dataframe tbody tr th:only-of-type {\n",
       "        vertical-align: middle;\n",
       "    }\n",
       "\n",
       "    .dataframe tbody tr th {\n",
       "        vertical-align: top;\n",
       "    }\n",
       "\n",
       "    .dataframe thead th {\n",
       "        text-align: right;\n",
       "    }\n",
       "</style>\n",
       "<table border=\"1\" class=\"dataframe\">\n",
       "  <thead>\n",
       "    <tr style=\"text-align: right;\">\n",
       "      <th></th>\n",
       "      <th>b</th>\n",
       "      <th>c</th>\n",
       "      <th>d</th>\n",
       "      <th>e</th>\n",
       "    </tr>\n",
       "  </thead>\n",
       "  <tbody>\n",
       "    <tr>\n",
       "      <th>0</th>\n",
       "      <td>22.459158</td>\n",
       "      <td>3.141593</td>\n",
       "      <td>NaN</td>\n",
       "      <td>-0.31831</td>\n",
       "    </tr>\n",
       "    <tr>\n",
       "      <th>1</th>\n",
       "      <td>2.718282</td>\n",
       "      <td>NaN</td>\n",
       "      <td>0.865256</td>\n",
       "      <td>NaN</td>\n",
       "    </tr>\n",
       "    <tr>\n",
       "      <th>4</th>\n",
       "      <td>NaN</td>\n",
       "      <td>NaN</td>\n",
       "      <td>1.648721</td>\n",
       "      <td>NaN</td>\n",
       "    </tr>\n",
       "  </tbody>\n",
       "</table>\n",
       "</div>"
      ],
      "text/plain": [
       "           b         c         d        e\n",
       "0  22.459158  3.141593       NaN -0.31831\n",
       "1   2.718282       NaN  0.865256      NaN\n",
       "4        NaN       NaN  1.648721      NaN"
      ]
     },
     "execution_count": 23,
     "metadata": {},
     "output_type": "execute_result"
    }
   ],
   "source": [
    "tudo_df_0"
   ]
  },
  {
   "cell_type": "code",
   "execution_count": 24,
   "id": "a785175a-71a9-4a28-9b57-dfab4b6a53cc",
   "metadata": {},
   "outputs": [
    {
     "data": {
      "text/html": [
       "<div>\n",
       "<style scoped>\n",
       "    .dataframe tbody tr th:only-of-type {\n",
       "        vertical-align: middle;\n",
       "    }\n",
       "\n",
       "    .dataframe tbody tr th {\n",
       "        vertical-align: top;\n",
       "    }\n",
       "\n",
       "    .dataframe thead th {\n",
       "        text-align: right;\n",
       "    }\n",
       "</style>\n",
       "<table border=\"1\" class=\"dataframe\">\n",
       "  <thead>\n",
       "    <tr style=\"text-align: right;\">\n",
       "      <th></th>\n",
       "      <th>0</th>\n",
       "      <th>1</th>\n",
       "      <th>4</th>\n",
       "    </tr>\n",
       "  </thead>\n",
       "  <tbody>\n",
       "    <tr>\n",
       "      <th>b</th>\n",
       "      <td>22.459158</td>\n",
       "      <td>2.718282</td>\n",
       "      <td>NaN</td>\n",
       "    </tr>\n",
       "    <tr>\n",
       "      <th>c</th>\n",
       "      <td>3.141593</td>\n",
       "      <td>NaN</td>\n",
       "      <td>NaN</td>\n",
       "    </tr>\n",
       "    <tr>\n",
       "      <th>d</th>\n",
       "      <td>NaN</td>\n",
       "      <td>0.865256</td>\n",
       "      <td>1.648721</td>\n",
       "    </tr>\n",
       "    <tr>\n",
       "      <th>e</th>\n",
       "      <td>-0.318310</td>\n",
       "      <td>NaN</td>\n",
       "      <td>NaN</td>\n",
       "    </tr>\n",
       "  </tbody>\n",
       "</table>\n",
       "</div>"
      ],
      "text/plain": [
       "           0         1         4\n",
       "b  22.459158  2.718282       NaN\n",
       "c   3.141593       NaN       NaN\n",
       "d        NaN  0.865256  1.648721\n",
       "e  -0.318310       NaN       NaN"
      ]
     },
     "execution_count": 24,
     "metadata": {},
     "output_type": "execute_result"
    }
   ],
   "source": [
    "tudo_df_1"
   ]
  },
  {
   "cell_type": "markdown",
   "id": "4ff31779-7565-4467-ae4e-a88060741a5e",
   "metadata": {},
   "source": [
    "o método `.stack()` faz o contrário, transformando um dataframe em uma series de índices multidimensionais"
   ]
  },
  {
   "cell_type": "code",
   "execution_count": 25,
   "id": "e9532e51-9c1c-4cf4-aeb7-6be5893a114c",
   "metadata": {},
   "outputs": [
    {
     "data": {
      "text/plain": [
       "b  0    22.459158\n",
       "   1     2.718282\n",
       "c  0     3.141593\n",
       "d  1     0.865256\n",
       "   4     1.648721\n",
       "e  0    -0.318310\n",
       "dtype: float64"
      ]
     },
     "execution_count": 25,
     "metadata": {},
     "output_type": "execute_result"
    }
   ],
   "source": [
    "tudo = tudo_df.stack()\n",
    "tudo"
   ]
  },
  {
   "cell_type": "markdown",
   "id": "a0440074-e878-4617-8d43-e3b35bbc8397",
   "metadata": {},
   "source": [
    "#### nomeando os níveis\n",
    "---"
   ]
  },
  {
   "cell_type": "markdown",
   "id": "b7c59682-9f80-42ec-ba5f-13b1db163bd1",
   "metadata": {},
   "source": [
    "pode ser interessante dar nome aos níveis. isto é possível com o atributo `.index.names` que recebe um array com os nomes de cada nível:"
   ]
  },
  {
   "cell_type": "code",
   "execution_count": 26,
   "id": "bcfbd37c-6051-47a9-ad54-9f4d3e88aa35",
   "metadata": {},
   "outputs": [
    {
     "data": {
      "text/plain": [
       "letras  valores\n",
       "b       0          22.459158\n",
       "        1           2.718282\n",
       "c       0           3.141593\n",
       "d       1           0.865256\n",
       "        4           1.648721\n",
       "e       0          -0.318310\n",
       "dtype: float64"
      ]
     },
     "execution_count": 26,
     "metadata": {},
     "output_type": "execute_result"
    }
   ],
   "source": [
    "tudo.index.names = ['letras', 'valores']\n",
    "tudo"
   ]
  },
  {
   "cell_type": "markdown",
   "id": "e4fecd42-5036-4522-9972-a5cb660fca84",
   "metadata": {},
   "source": [
    "ou, pode já passar como parâmetro em `MultiIndex(names=[<lista_nomes>])`"
   ]
  },
  {
   "cell_type": "markdown",
   "id": "8cfa5c30-f619-4ba3-ac26-f382982b573d",
   "metadata": {},
   "source": [
    "#### em colunas\n",
    "---"
   ]
  },
  {
   "cell_type": "markdown",
   "id": "f5ae2dc7-b608-4b16-9e26-ab2a5c8cddfc",
   "metadata": {},
   "source": [
    "é importante ressaltar que estes níveis também podem ser passados para as colunas, nos dataframes:"
   ]
  },
  {
   "cell_type": "code",
   "execution_count": 27,
   "id": "3998824c-8fed-44ac-b59b-dcaef781ef31",
   "metadata": {},
   "outputs": [
    {
     "data": {
      "text/html": [
       "<div>\n",
       "<style scoped>\n",
       "    .dataframe tbody tr th:only-of-type {\n",
       "        vertical-align: middle;\n",
       "    }\n",
       "\n",
       "    .dataframe tbody tr th {\n",
       "        vertical-align: top;\n",
       "    }\n",
       "\n",
       "    .dataframe thead tr th {\n",
       "        text-align: left;\n",
       "    }\n",
       "</style>\n",
       "<table border=\"1\" class=\"dataframe\">\n",
       "  <thead>\n",
       "    <tr>\n",
       "      <th>dia</th>\n",
       "      <th colspan=\"2\" halign=\"left\">ontem</th>\n",
       "      <th colspan=\"2\" halign=\"left\">hoje</th>\n",
       "      <th colspan=\"2\" halign=\"left\">amanhã</th>\n",
       "    </tr>\n",
       "    <tr>\n",
       "      <th>ocorrência</th>\n",
       "      <th>a</th>\n",
       "      <th>b</th>\n",
       "      <th>a</th>\n",
       "      <th>b</th>\n",
       "      <th>a</th>\n",
       "      <th>b</th>\n",
       "    </tr>\n",
       "  </thead>\n",
       "  <tbody>\n",
       "    <tr>\n",
       "      <th>0</th>\n",
       "      <td>0.886886</td>\n",
       "      <td>0.185055</td>\n",
       "      <td>0.844796</td>\n",
       "      <td>0.378107</td>\n",
       "      <td>0.528120</td>\n",
       "      <td>0.282434</td>\n",
       "    </tr>\n",
       "    <tr>\n",
       "      <th>1</th>\n",
       "      <td>0.655544</td>\n",
       "      <td>0.806760</td>\n",
       "      <td>0.116705</td>\n",
       "      <td>0.035950</td>\n",
       "      <td>0.503194</td>\n",
       "      <td>0.806363</td>\n",
       "    </tr>\n",
       "    <tr>\n",
       "      <th>2</th>\n",
       "      <td>0.316650</td>\n",
       "      <td>0.595503</td>\n",
       "      <td>0.717987</td>\n",
       "      <td>0.715678</td>\n",
       "      <td>0.284921</td>\n",
       "      <td>0.254851</td>\n",
       "    </tr>\n",
       "    <tr>\n",
       "      <th>3</th>\n",
       "      <td>0.359189</td>\n",
       "      <td>0.223585</td>\n",
       "      <td>0.586297</td>\n",
       "      <td>0.236828</td>\n",
       "      <td>0.053456</td>\n",
       "      <td>0.527179</td>\n",
       "    </tr>\n",
       "    <tr>\n",
       "      <th>4</th>\n",
       "      <td>0.454802</td>\n",
       "      <td>0.079668</td>\n",
       "      <td>0.966680</td>\n",
       "      <td>0.932688</td>\n",
       "      <td>0.524534</td>\n",
       "      <td>0.510351</td>\n",
       "    </tr>\n",
       "    <tr>\n",
       "      <th>5</th>\n",
       "      <td>0.431570</td>\n",
       "      <td>0.835878</td>\n",
       "      <td>0.306136</td>\n",
       "      <td>0.075291</td>\n",
       "      <td>0.866753</td>\n",
       "      <td>0.190780</td>\n",
       "    </tr>\n",
       "  </tbody>\n",
       "</table>\n",
       "</div>"
      ],
      "text/plain": [
       "dia            ontem                hoje              amanhã          \n",
       "ocorrência         a         b         a         b         a         b\n",
       "0           0.886886  0.185055  0.844796  0.378107  0.528120  0.282434\n",
       "1           0.655544  0.806760  0.116705  0.035950  0.503194  0.806363\n",
       "2           0.316650  0.595503  0.717987  0.715678  0.284921  0.254851\n",
       "3           0.359189  0.223585  0.586297  0.236828  0.053456  0.527179\n",
       "4           0.454802  0.079668  0.966680  0.932688  0.524534  0.510351\n",
       "5           0.431570  0.835878  0.306136  0.075291  0.866753  0.190780"
      ]
     },
     "execution_count": 27,
     "metadata": {},
     "output_type": "execute_result"
    }
   ],
   "source": [
    "col = pd.MultiIndex.from_product([['ontem', 'hoje', 'amanhã'], ['a', 'b']], names=['dia', 'ocorrência'])\n",
    "\n",
    "df = pd.DataFrame(np.random.random((6, 6)), columns=col)\n",
    "df"
   ]
  },
  {
   "cell_type": "markdown",
   "id": "de002836-8045-4aa3-99b6-d0279a0f0f5b",
   "metadata": {},
   "source": [
    "e que os níveis podem ser passados para colunas e indices ao mesmo tempo:"
   ]
  },
  {
   "cell_type": "code",
   "execution_count": 28,
   "id": "6c9dcb88-508a-429f-8b3b-a91d7e818117",
   "metadata": {},
   "outputs": [
    {
     "data": {
      "text/html": [
       "<div>\n",
       "<style scoped>\n",
       "    .dataframe tbody tr th:only-of-type {\n",
       "        vertical-align: middle;\n",
       "    }\n",
       "\n",
       "    .dataframe tbody tr th {\n",
       "        vertical-align: top;\n",
       "    }\n",
       "\n",
       "    .dataframe thead tr th {\n",
       "        text-align: left;\n",
       "    }\n",
       "\n",
       "    .dataframe thead tr:last-of-type th {\n",
       "        text-align: right;\n",
       "    }\n",
       "</style>\n",
       "<table border=\"1\" class=\"dataframe\">\n",
       "  <thead>\n",
       "    <tr>\n",
       "      <th></th>\n",
       "      <th>dia</th>\n",
       "      <th colspan=\"2\" halign=\"left\">ontem</th>\n",
       "      <th colspan=\"2\" halign=\"left\">hoje</th>\n",
       "      <th colspan=\"2\" halign=\"left\">amanhã</th>\n",
       "    </tr>\n",
       "    <tr>\n",
       "      <th></th>\n",
       "      <th>ocorrência</th>\n",
       "      <th>a</th>\n",
       "      <th>b</th>\n",
       "      <th>a</th>\n",
       "      <th>b</th>\n",
       "      <th>a</th>\n",
       "      <th>b</th>\n",
       "    </tr>\n",
       "    <tr>\n",
       "      <th>momento</th>\n",
       "      <th>solução</th>\n",
       "      <th></th>\n",
       "      <th></th>\n",
       "      <th></th>\n",
       "      <th></th>\n",
       "      <th></th>\n",
       "      <th></th>\n",
       "    </tr>\n",
       "  </thead>\n",
       "  <tbody>\n",
       "    <tr>\n",
       "      <th rowspan=\"2\" valign=\"top\">manhã</th>\n",
       "      <th>1</th>\n",
       "      <td>0.232649</td>\n",
       "      <td>0.768357</td>\n",
       "      <td>0.983172</td>\n",
       "      <td>0.666253</td>\n",
       "      <td>0.455210</td>\n",
       "      <td>0.959912</td>\n",
       "    </tr>\n",
       "    <tr>\n",
       "      <th>0</th>\n",
       "      <td>0.746326</td>\n",
       "      <td>0.674490</td>\n",
       "      <td>0.303773</td>\n",
       "      <td>0.402837</td>\n",
       "      <td>0.634074</td>\n",
       "      <td>0.320739</td>\n",
       "    </tr>\n",
       "    <tr>\n",
       "      <th rowspan=\"2\" valign=\"top\">noite</th>\n",
       "      <th>1</th>\n",
       "      <td>0.438667</td>\n",
       "      <td>0.362816</td>\n",
       "      <td>0.022010</td>\n",
       "      <td>0.980050</td>\n",
       "      <td>0.017480</td>\n",
       "      <td>0.302203</td>\n",
       "    </tr>\n",
       "    <tr>\n",
       "      <th>0</th>\n",
       "      <td>0.897637</td>\n",
       "      <td>0.844828</td>\n",
       "      <td>0.525961</td>\n",
       "      <td>0.508599</td>\n",
       "      <td>0.196806</td>\n",
       "      <td>0.905169</td>\n",
       "    </tr>\n",
       "  </tbody>\n",
       "</table>\n",
       "</div>"
      ],
      "text/plain": [
       "dia                 ontem                hoje              amanhã          \n",
       "ocorrência              a         b         a         b         a         b\n",
       "momento solução                                                            \n",
       "manhã   1        0.232649  0.768357  0.983172  0.666253  0.455210  0.959912\n",
       "        0        0.746326  0.674490  0.303773  0.402837  0.634074  0.320739\n",
       "noite   1        0.438667  0.362816  0.022010  0.980050  0.017480  0.302203\n",
       "        0        0.897637  0.844828  0.525961  0.508599  0.196806  0.905169"
      ]
     },
     "execution_count": 28,
     "metadata": {},
     "output_type": "execute_result"
    }
   ],
   "source": [
    "lin = pd.MultiIndex.from_product([['manhã', 'noite'], [1, 0]], names=['momento', 'solução'])\n",
    "col = pd.MultiIndex.from_product([['ontem', 'hoje', 'amanhã'], ['a', 'b']], names=['dia', 'ocorrência'])\n",
    "\n",
    "df = pd.DataFrame(np.random.random((4, 6)), columns=col, index=lin)\n",
    "df"
   ]
  },
  {
   "cell_type": "markdown",
   "id": "17638d0d-7f42-4d1e-9591-f7a7a62fd018",
   "metadata": {},
   "source": [
    "#### indexing e slicing em dataframes\n",
    "---"
   ]
  },
  {
   "cell_type": "markdown",
   "id": "5ee4ea4e-2bff-4c82-8741-c0dbf6916bf3",
   "metadata": {},
   "source": [
    "para indexing, é importante lembrar que sempre as colunas vêm primeiro; enquanto que para slicing, quem vem primeiro são as linhas."
   ]
  },
  {
   "cell_type": "markdown",
   "id": "f3b5fdaf-45b1-4482-a45d-48f05ad265f1",
   "metadata": {},
   "source": [
    "nestes casos, os processos de indexing e slicing ocorrem nos seguintes moldes:"
   ]
  },
  {
   "cell_type": "code",
   "execution_count": 29,
   "id": "891e1c1e-c924-4057-8064-506bbb0b4ebd",
   "metadata": {},
   "outputs": [
    {
     "data": {
      "text/html": [
       "<div>\n",
       "<style scoped>\n",
       "    .dataframe tbody tr th:only-of-type {\n",
       "        vertical-align: middle;\n",
       "    }\n",
       "\n",
       "    .dataframe tbody tr th {\n",
       "        vertical-align: top;\n",
       "    }\n",
       "\n",
       "    .dataframe thead th {\n",
       "        text-align: right;\n",
       "    }\n",
       "</style>\n",
       "<table border=\"1\" class=\"dataframe\">\n",
       "  <thead>\n",
       "    <tr style=\"text-align: right;\">\n",
       "      <th></th>\n",
       "      <th>ocorrência</th>\n",
       "      <th>a</th>\n",
       "      <th>b</th>\n",
       "    </tr>\n",
       "    <tr>\n",
       "      <th>momento</th>\n",
       "      <th>solução</th>\n",
       "      <th></th>\n",
       "      <th></th>\n",
       "    </tr>\n",
       "  </thead>\n",
       "  <tbody>\n",
       "    <tr>\n",
       "      <th rowspan=\"2\" valign=\"top\">manhã</th>\n",
       "      <th>1</th>\n",
       "      <td>0.983172</td>\n",
       "      <td>0.666253</td>\n",
       "    </tr>\n",
       "    <tr>\n",
       "      <th>0</th>\n",
       "      <td>0.303773</td>\n",
       "      <td>0.402837</td>\n",
       "    </tr>\n",
       "    <tr>\n",
       "      <th rowspan=\"2\" valign=\"top\">noite</th>\n",
       "      <th>1</th>\n",
       "      <td>0.022010</td>\n",
       "      <td>0.980050</td>\n",
       "    </tr>\n",
       "    <tr>\n",
       "      <th>0</th>\n",
       "      <td>0.525961</td>\n",
       "      <td>0.508599</td>\n",
       "    </tr>\n",
       "  </tbody>\n",
       "</table>\n",
       "</div>"
      ],
      "text/plain": [
       "ocorrência              a         b\n",
       "momento solução                    \n",
       "manhã   1        0.983172  0.666253\n",
       "        0        0.303773  0.402837\n",
       "noite   1        0.022010  0.980050\n",
       "        0        0.525961  0.508599"
      ]
     },
     "execution_count": 29,
     "metadata": {},
     "output_type": "execute_result"
    }
   ],
   "source": [
    "df['hoje']"
   ]
  },
  {
   "cell_type": "code",
   "execution_count": 30,
   "id": "91db63af-253d-4c10-bcfc-b37f4d2f7671",
   "metadata": {},
   "outputs": [
    {
     "data": {
      "text/plain": [
       "momento  solução\n",
       "manhã    1          0.983172\n",
       "         0          0.303773\n",
       "noite    1          0.022010\n",
       "         0          0.525961\n",
       "Name: (hoje, a), dtype: float64"
      ]
     },
     "execution_count": 30,
     "metadata": {},
     "output_type": "execute_result"
    }
   ],
   "source": [
    "df['hoje', 'a']"
   ]
  },
  {
   "cell_type": "code",
   "execution_count": 31,
   "id": "a191bdf9-a56f-423c-bd21-9ad5663e4a1c",
   "metadata": {},
   "outputs": [
    {
     "data": {
      "text/plain": [
       "0.6744900728494511"
      ]
     },
     "execution_count": 31,
     "metadata": {},
     "output_type": "execute_result"
    }
   ],
   "source": [
    "df['ontem', 'b']['manhã', 0]"
   ]
  },
  {
   "cell_type": "code",
   "execution_count": 32,
   "id": "aae036f0-985e-46a3-aa92-2f1bba7a788e",
   "metadata": {},
   "outputs": [
    {
     "data": {
      "text/plain": [
       "momento\n",
       "manhã    0.45521\n",
       "noite    0.01748\n",
       "Name: (amanhã, a), dtype: float64"
      ]
     },
     "execution_count": 32,
     "metadata": {},
     "output_type": "execute_result"
    }
   ],
   "source": [
    "df['amanhã', 'a'][:, 1]"
   ]
  },
  {
   "cell_type": "code",
   "execution_count": 33,
   "id": "0bdd5ec5-4b9b-42a3-be7e-b562d896007d",
   "metadata": {},
   "outputs": [
    {
     "data": {
      "text/html": [
       "<div>\n",
       "<style scoped>\n",
       "    .dataframe tbody tr th:only-of-type {\n",
       "        vertical-align: middle;\n",
       "    }\n",
       "\n",
       "    .dataframe tbody tr th {\n",
       "        vertical-align: top;\n",
       "    }\n",
       "\n",
       "    .dataframe thead tr th {\n",
       "        text-align: left;\n",
       "    }\n",
       "\n",
       "    .dataframe thead tr:last-of-type th {\n",
       "        text-align: right;\n",
       "    }\n",
       "</style>\n",
       "<table border=\"1\" class=\"dataframe\">\n",
       "  <thead>\n",
       "    <tr>\n",
       "      <th></th>\n",
       "      <th>dia</th>\n",
       "      <th colspan=\"2\" halign=\"left\">ontem</th>\n",
       "      <th colspan=\"2\" halign=\"left\">hoje</th>\n",
       "      <th colspan=\"2\" halign=\"left\">amanhã</th>\n",
       "    </tr>\n",
       "    <tr>\n",
       "      <th></th>\n",
       "      <th>ocorrência</th>\n",
       "      <th>a</th>\n",
       "      <th>b</th>\n",
       "      <th>a</th>\n",
       "      <th>b</th>\n",
       "      <th>a</th>\n",
       "      <th>b</th>\n",
       "    </tr>\n",
       "    <tr>\n",
       "      <th>momento</th>\n",
       "      <th>solução</th>\n",
       "      <th></th>\n",
       "      <th></th>\n",
       "      <th></th>\n",
       "      <th></th>\n",
       "      <th></th>\n",
       "      <th></th>\n",
       "    </tr>\n",
       "  </thead>\n",
       "  <tbody>\n",
       "    <tr>\n",
       "      <th rowspan=\"2\" valign=\"top\">manhã</th>\n",
       "      <th>1</th>\n",
       "      <td>NaN</td>\n",
       "      <td>0.768357</td>\n",
       "      <td>0.983172</td>\n",
       "      <td>NaN</td>\n",
       "      <td>NaN</td>\n",
       "      <td>0.959912</td>\n",
       "    </tr>\n",
       "    <tr>\n",
       "      <th>0</th>\n",
       "      <td>0.746326</td>\n",
       "      <td>0.674490</td>\n",
       "      <td>NaN</td>\n",
       "      <td>NaN</td>\n",
       "      <td>NaN</td>\n",
       "      <td>NaN</td>\n",
       "    </tr>\n",
       "    <tr>\n",
       "      <th rowspan=\"2\" valign=\"top\">noite</th>\n",
       "      <th>1</th>\n",
       "      <td>NaN</td>\n",
       "      <td>NaN</td>\n",
       "      <td>NaN</td>\n",
       "      <td>0.98005</td>\n",
       "      <td>NaN</td>\n",
       "      <td>NaN</td>\n",
       "    </tr>\n",
       "    <tr>\n",
       "      <th>0</th>\n",
       "      <td>0.897637</td>\n",
       "      <td>0.844828</td>\n",
       "      <td>NaN</td>\n",
       "      <td>NaN</td>\n",
       "      <td>NaN</td>\n",
       "      <td>0.905169</td>\n",
       "    </tr>\n",
       "  </tbody>\n",
       "</table>\n",
       "</div>"
      ],
      "text/plain": [
       "dia                 ontem                hoje          amanhã          \n",
       "ocorrência              a         b         a        b      a         b\n",
       "momento solução                                                        \n",
       "manhã   1             NaN  0.768357  0.983172      NaN    NaN  0.959912\n",
       "        0        0.746326  0.674490       NaN      NaN    NaN       NaN\n",
       "noite   1             NaN       NaN       NaN  0.98005    NaN       NaN\n",
       "        0        0.897637  0.844828       NaN      NaN    NaN  0.905169"
      ]
     },
     "execution_count": 33,
     "metadata": {},
     "output_type": "execute_result"
    }
   ],
   "source": [
    "df[df > 0.67]"
   ]
  },
  {
   "cell_type": "code",
   "execution_count": 34,
   "id": "fa8f5aab-fd1c-4a1b-abd2-5edea7565793",
   "metadata": {},
   "outputs": [
    {
     "data": {
      "text/plain": [
       "momento  solução\n",
       "manhã    1          0.232649\n",
       "         0          0.746326\n",
       "noite    1          0.438667\n",
       "         0          0.897637\n",
       "Name: (ontem, a), dtype: float64"
      ]
     },
     "execution_count": 34,
     "metadata": {},
     "output_type": "execute_result"
    }
   ],
   "source": [
    "df.loc[:, ('ontem', 'a')]"
   ]
  },
  {
   "cell_type": "markdown",
   "id": "6dff0d14-af78-41cd-b44d-82613bda681c",
   "metadata": {},
   "source": [
    "a atributo `.indexSlice` ajuda, ainda, no slicing, já que, no geral, esta estrutura não suporta tão processo:"
   ]
  },
  {
   "cell_type": "code",
   "execution_count": 35,
   "id": "22e9a71e-66cc-4c06-ab16-b353267a7423",
   "metadata": {},
   "outputs": [
    {
     "data": {
      "text/html": [
       "<div>\n",
       "<style scoped>\n",
       "    .dataframe tbody tr th:only-of-type {\n",
       "        vertical-align: middle;\n",
       "    }\n",
       "\n",
       "    .dataframe tbody tr th {\n",
       "        vertical-align: top;\n",
       "    }\n",
       "\n",
       "    .dataframe thead tr th {\n",
       "        text-align: left;\n",
       "    }\n",
       "\n",
       "    .dataframe thead tr:last-of-type th {\n",
       "        text-align: right;\n",
       "    }\n",
       "</style>\n",
       "<table border=\"1\" class=\"dataframe\">\n",
       "  <thead>\n",
       "    <tr>\n",
       "      <th></th>\n",
       "      <th>dia</th>\n",
       "      <th colspan=\"2\" halign=\"left\">amanhã</th>\n",
       "    </tr>\n",
       "    <tr>\n",
       "      <th></th>\n",
       "      <th>ocorrência</th>\n",
       "      <th>a</th>\n",
       "      <th>b</th>\n",
       "    </tr>\n",
       "    <tr>\n",
       "      <th>momento</th>\n",
       "      <th>solução</th>\n",
       "      <th></th>\n",
       "      <th></th>\n",
       "    </tr>\n",
       "  </thead>\n",
       "  <tbody>\n",
       "    <tr>\n",
       "      <th>manhã</th>\n",
       "      <th>0</th>\n",
       "      <td>0.634074</td>\n",
       "      <td>0.320739</td>\n",
       "    </tr>\n",
       "    <tr>\n",
       "      <th>noite</th>\n",
       "      <th>0</th>\n",
       "      <td>0.196806</td>\n",
       "      <td>0.905169</td>\n",
       "    </tr>\n",
       "  </tbody>\n",
       "</table>\n",
       "</div>"
      ],
      "text/plain": [
       "dia                amanhã          \n",
       "ocorrência              a         b\n",
       "momento solução                    \n",
       "manhã   0        0.634074  0.320739\n",
       "noite   0        0.196806  0.905169"
      ]
     },
     "execution_count": 35,
     "metadata": {},
     "output_type": "execute_result"
    }
   ],
   "source": [
    "idx = pd.IndexSlice\n",
    "df.loc[idx[:, 0], idx['amanhã', :]]"
   ]
  },
  {
   "cell_type": "markdown",
   "id": "c859fac9-c032-43b0-9bb9-aef14aad483e",
   "metadata": {},
   "source": [
    "este atributo só pode ser usado com o atributo `.loc`"
   ]
  },
  {
   "cell_type": "code",
   "execution_count": 36,
   "id": "ab44ea35-4783-4135-bfdd-2f0343510d18",
   "metadata": {},
   "outputs": [
    {
     "data": {
      "text/html": [
       "<div>\n",
       "<style scoped>\n",
       "    .dataframe tbody tr th:only-of-type {\n",
       "        vertical-align: middle;\n",
       "    }\n",
       "\n",
       "    .dataframe tbody tr th {\n",
       "        vertical-align: top;\n",
       "    }\n",
       "\n",
       "    .dataframe thead tr th {\n",
       "        text-align: left;\n",
       "    }\n",
       "\n",
       "    .dataframe thead tr:last-of-type th {\n",
       "        text-align: right;\n",
       "    }\n",
       "</style>\n",
       "<table border=\"1\" class=\"dataframe\">\n",
       "  <thead>\n",
       "    <tr>\n",
       "      <th></th>\n",
       "      <th>dia</th>\n",
       "      <th colspan=\"2\" halign=\"left\">ontem</th>\n",
       "      <th colspan=\"2\" halign=\"left\">hoje</th>\n",
       "      <th colspan=\"2\" halign=\"left\">amanhã</th>\n",
       "    </tr>\n",
       "    <tr>\n",
       "      <th></th>\n",
       "      <th>ocorrência</th>\n",
       "      <th>a</th>\n",
       "      <th>b</th>\n",
       "      <th>a</th>\n",
       "      <th>b</th>\n",
       "      <th>a</th>\n",
       "      <th>b</th>\n",
       "    </tr>\n",
       "    <tr>\n",
       "      <th>momento</th>\n",
       "      <th>solução</th>\n",
       "      <th></th>\n",
       "      <th></th>\n",
       "      <th></th>\n",
       "      <th></th>\n",
       "      <th></th>\n",
       "      <th></th>\n",
       "    </tr>\n",
       "  </thead>\n",
       "  <tbody>\n",
       "    <tr>\n",
       "      <th>manhã</th>\n",
       "      <th>1</th>\n",
       "      <td>0.232649</td>\n",
       "      <td>0.768357</td>\n",
       "      <td>0.983172</td>\n",
       "      <td>0.666253</td>\n",
       "      <td>0.45521</td>\n",
       "      <td>0.959912</td>\n",
       "    </tr>\n",
       "    <tr>\n",
       "      <th>noite</th>\n",
       "      <th>1</th>\n",
       "      <td>0.438667</td>\n",
       "      <td>0.362816</td>\n",
       "      <td>0.022010</td>\n",
       "      <td>0.980050</td>\n",
       "      <td>0.01748</td>\n",
       "      <td>0.302203</td>\n",
       "    </tr>\n",
       "  </tbody>\n",
       "</table>\n",
       "</div>"
      ],
      "text/plain": [
       "dia                 ontem                hoje             amanhã          \n",
       "ocorrência              a         b         a         b        a         b\n",
       "momento solução                                                           \n",
       "manhã   1        0.232649  0.768357  0.983172  0.666253  0.45521  0.959912\n",
       "noite   1        0.438667  0.362816  0.022010  0.980050  0.01748  0.302203"
      ]
     },
     "execution_count": 36,
     "metadata": {},
     "output_type": "execute_result"
    }
   ],
   "source": [
    "df.loc[idx[:, 1], idx[:, :]]"
   ]
  },
  {
   "cell_type": "markdown",
   "id": "4f78506e-6cd5-484f-a8a2-9b5b8eeb0b50",
   "metadata": {},
   "source": [
    "#### reset_index\n",
    "---"
   ]
  },
  {
   "cell_type": "markdown",
   "id": "aa88eefa-b6fa-49ad-aa1a-4dadf65f4e2b",
   "metadata": {},
   "source": [
    "este método reformula o dataframe ou series, tornando os níveis em simples colunas separadas:"
   ]
  },
  {
   "cell_type": "code",
   "execution_count": 40,
   "id": "29acee00-bded-4014-997c-9f520e30e8b3",
   "metadata": {},
   "outputs": [
    {
     "data": {
      "text/html": [
       "<div>\n",
       "<style scoped>\n",
       "    .dataframe tbody tr th:only-of-type {\n",
       "        vertical-align: middle;\n",
       "    }\n",
       "\n",
       "    .dataframe tbody tr th {\n",
       "        vertical-align: top;\n",
       "    }\n",
       "\n",
       "    .dataframe thead tr th {\n",
       "        text-align: left;\n",
       "    }\n",
       "</style>\n",
       "<table border=\"1\" class=\"dataframe\">\n",
       "  <thead>\n",
       "    <tr>\n",
       "      <th>dia</th>\n",
       "      <th>momento</th>\n",
       "      <th>solução</th>\n",
       "      <th colspan=\"2\" halign=\"left\">ontem</th>\n",
       "      <th colspan=\"2\" halign=\"left\">hoje</th>\n",
       "      <th colspan=\"2\" halign=\"left\">amanhã</th>\n",
       "    </tr>\n",
       "    <tr>\n",
       "      <th>ocorrência</th>\n",
       "      <th></th>\n",
       "      <th></th>\n",
       "      <th>a</th>\n",
       "      <th>b</th>\n",
       "      <th>a</th>\n",
       "      <th>b</th>\n",
       "      <th>a</th>\n",
       "      <th>b</th>\n",
       "    </tr>\n",
       "  </thead>\n",
       "  <tbody>\n",
       "    <tr>\n",
       "      <th>0</th>\n",
       "      <td>manhã</td>\n",
       "      <td>1</td>\n",
       "      <td>0.232649</td>\n",
       "      <td>0.768357</td>\n",
       "      <td>0.983172</td>\n",
       "      <td>0.666253</td>\n",
       "      <td>0.455210</td>\n",
       "      <td>0.959912</td>\n",
       "    </tr>\n",
       "    <tr>\n",
       "      <th>1</th>\n",
       "      <td>manhã</td>\n",
       "      <td>0</td>\n",
       "      <td>0.746326</td>\n",
       "      <td>0.674490</td>\n",
       "      <td>0.303773</td>\n",
       "      <td>0.402837</td>\n",
       "      <td>0.634074</td>\n",
       "      <td>0.320739</td>\n",
       "    </tr>\n",
       "    <tr>\n",
       "      <th>2</th>\n",
       "      <td>noite</td>\n",
       "      <td>1</td>\n",
       "      <td>0.438667</td>\n",
       "      <td>0.362816</td>\n",
       "      <td>0.022010</td>\n",
       "      <td>0.980050</td>\n",
       "      <td>0.017480</td>\n",
       "      <td>0.302203</td>\n",
       "    </tr>\n",
       "    <tr>\n",
       "      <th>3</th>\n",
       "      <td>noite</td>\n",
       "      <td>0</td>\n",
       "      <td>0.897637</td>\n",
       "      <td>0.844828</td>\n",
       "      <td>0.525961</td>\n",
       "      <td>0.508599</td>\n",
       "      <td>0.196806</td>\n",
       "      <td>0.905169</td>\n",
       "    </tr>\n",
       "  </tbody>\n",
       "</table>\n",
       "</div>"
      ],
      "text/plain": [
       "dia        momento solução     ontem                hoje              amanhã  \\\n",
       "ocorrência                         a         b         a         b         a   \n",
       "0            manhã       1  0.232649  0.768357  0.983172  0.666253  0.455210   \n",
       "1            manhã       0  0.746326  0.674490  0.303773  0.402837  0.634074   \n",
       "2            noite       1  0.438667  0.362816  0.022010  0.980050  0.017480   \n",
       "3            noite       0  0.897637  0.844828  0.525961  0.508599  0.196806   \n",
       "\n",
       "dia                   \n",
       "ocorrência         b  \n",
       "0           0.959912  \n",
       "1           0.320739  \n",
       "2           0.302203  \n",
       "3           0.905169  "
      ]
     },
     "execution_count": 40,
     "metadata": {},
     "output_type": "execute_result"
    }
   ],
   "source": [
    "df_flat = df.reset_index()\n",
    "df_flat"
   ]
  },
  {
   "cell_type": "markdown",
   "id": "724b0e44-e643-4848-8b58-9de7a07b3c8c",
   "metadata": {},
   "source": [
    "ainda recebe o parâmetro `name=` que nomea a(s) nova(s) coluna(s):"
   ]
  },
  {
   "cell_type": "markdown",
   "id": "17eafedd-83db-4f2e-bf16-dd7a309ed2a5",
   "metadata": {},
   "source": [
    "#### set_index()\n",
    "---"
   ]
  },
  {
   "cell_type": "markdown",
   "id": "2b72f1dc-cb14-4610-8e83-d40582dcdbfe",
   "metadata": {},
   "source": [
    "esta função faz o inverso da anterior, organizando series e dataframes com multiindexing:"
   ]
  },
  {
   "cell_type": "code",
   "execution_count": 38,
   "id": "318a7eb8-1d50-415b-8a7d-8073eeb57188",
   "metadata": {},
   "outputs": [
    {
     "data": {
      "text/html": [
       "<div>\n",
       "<style scoped>\n",
       "    .dataframe tbody tr th:only-of-type {\n",
       "        vertical-align: middle;\n",
       "    }\n",
       "\n",
       "    .dataframe tbody tr th {\n",
       "        vertical-align: top;\n",
       "    }\n",
       "\n",
       "    .dataframe thead tr th {\n",
       "        text-align: left;\n",
       "    }\n",
       "\n",
       "    .dataframe thead tr:last-of-type th {\n",
       "        text-align: right;\n",
       "    }\n",
       "</style>\n",
       "<table border=\"1\" class=\"dataframe\">\n",
       "  <thead>\n",
       "    <tr>\n",
       "      <th></th>\n",
       "      <th>dia</th>\n",
       "      <th colspan=\"2\" halign=\"left\">ontem</th>\n",
       "      <th colspan=\"2\" halign=\"left\">hoje</th>\n",
       "      <th colspan=\"2\" halign=\"left\">amanhã</th>\n",
       "    </tr>\n",
       "    <tr>\n",
       "      <th></th>\n",
       "      <th>ocorrência</th>\n",
       "      <th>a</th>\n",
       "      <th>b</th>\n",
       "      <th>a</th>\n",
       "      <th>b</th>\n",
       "      <th>a</th>\n",
       "      <th>b</th>\n",
       "    </tr>\n",
       "    <tr>\n",
       "      <th>momento</th>\n",
       "      <th>solução</th>\n",
       "      <th></th>\n",
       "      <th></th>\n",
       "      <th></th>\n",
       "      <th></th>\n",
       "      <th></th>\n",
       "      <th></th>\n",
       "    </tr>\n",
       "  </thead>\n",
       "  <tbody>\n",
       "    <tr>\n",
       "      <th rowspan=\"2\" valign=\"top\">manhã</th>\n",
       "      <th>1</th>\n",
       "      <td>0.232649</td>\n",
       "      <td>0.768357</td>\n",
       "      <td>0.983172</td>\n",
       "      <td>0.666253</td>\n",
       "      <td>0.455210</td>\n",
       "      <td>0.959912</td>\n",
       "    </tr>\n",
       "    <tr>\n",
       "      <th>0</th>\n",
       "      <td>0.746326</td>\n",
       "      <td>0.674490</td>\n",
       "      <td>0.303773</td>\n",
       "      <td>0.402837</td>\n",
       "      <td>0.634074</td>\n",
       "      <td>0.320739</td>\n",
       "    </tr>\n",
       "    <tr>\n",
       "      <th rowspan=\"2\" valign=\"top\">noite</th>\n",
       "      <th>1</th>\n",
       "      <td>0.438667</td>\n",
       "      <td>0.362816</td>\n",
       "      <td>0.022010</td>\n",
       "      <td>0.980050</td>\n",
       "      <td>0.017480</td>\n",
       "      <td>0.302203</td>\n",
       "    </tr>\n",
       "    <tr>\n",
       "      <th>0</th>\n",
       "      <td>0.897637</td>\n",
       "      <td>0.844828</td>\n",
       "      <td>0.525961</td>\n",
       "      <td>0.508599</td>\n",
       "      <td>0.196806</td>\n",
       "      <td>0.905169</td>\n",
       "    </tr>\n",
       "  </tbody>\n",
       "</table>\n",
       "</div>"
      ],
      "text/plain": [
       "dia                 ontem                hoje              amanhã          \n",
       "ocorrência              a         b         a         b         a         b\n",
       "momento solução                                                            \n",
       "manhã   1        0.232649  0.768357  0.983172  0.666253  0.455210  0.959912\n",
       "        0        0.746326  0.674490  0.303773  0.402837  0.634074  0.320739\n",
       "noite   1        0.438667  0.362816  0.022010  0.980050  0.017480  0.302203\n",
       "        0        0.897637  0.844828  0.525961  0.508599  0.196806  0.905169"
      ]
     },
     "execution_count": 38,
     "metadata": {},
     "output_type": "execute_result"
    }
   ],
   "source": [
    "df_flat.set_index(['momento', 'solução'])"
   ]
  },
  {
   "cell_type": "markdown",
   "id": "a88ff849-bf32-4917-bfa8-337b7169b9be",
   "metadata": {},
   "source": [
    "observe que é necessário passar o nome para os índices."
   ]
  },
  {
   "cell_type": "markdown",
   "id": "0caf1c57-3f94-4e60-911c-05d67b1bc43d",
   "metadata": {},
   "source": [
    "#### cálculo de dados\n",
    "---"
   ]
  },
  {
   "cell_type": "markdown",
   "id": "d789c683-2a55-4091-b8ab-f73bec3e9340",
   "metadata": {},
   "source": [
    "as operações `.mean()`, `.sum(]`, `.max()`, etc., podem, normalmente, calcular os resultados dessas series e dataframes, mesmo com o muldiindexing"
   ]
  },
  {
   "cell_type": "code",
   "execution_count": 42,
   "id": "7d9b1546-1a7e-4890-9658-2f8293b3babe",
   "metadata": {},
   "outputs": [
    {
     "data": {
      "text/html": [
       "<div>\n",
       "<style scoped>\n",
       "    .dataframe tbody tr th:only-of-type {\n",
       "        vertical-align: middle;\n",
       "    }\n",
       "\n",
       "    .dataframe tbody tr th {\n",
       "        vertical-align: top;\n",
       "    }\n",
       "\n",
       "    .dataframe thead tr th {\n",
       "        text-align: left;\n",
       "    }\n",
       "\n",
       "    .dataframe thead tr:last-of-type th {\n",
       "        text-align: right;\n",
       "    }\n",
       "</style>\n",
       "<table border=\"1\" class=\"dataframe\">\n",
       "  <thead>\n",
       "    <tr>\n",
       "      <th></th>\n",
       "      <th>dia</th>\n",
       "      <th colspan=\"2\" halign=\"left\">ontem</th>\n",
       "      <th colspan=\"2\" halign=\"left\">hoje</th>\n",
       "      <th colspan=\"2\" halign=\"left\">amanhã</th>\n",
       "    </tr>\n",
       "    <tr>\n",
       "      <th></th>\n",
       "      <th>ocorrência</th>\n",
       "      <th>a</th>\n",
       "      <th>b</th>\n",
       "      <th>a</th>\n",
       "      <th>b</th>\n",
       "      <th>a</th>\n",
       "      <th>b</th>\n",
       "    </tr>\n",
       "    <tr>\n",
       "      <th>momento</th>\n",
       "      <th>solução</th>\n",
       "      <th></th>\n",
       "      <th></th>\n",
       "      <th></th>\n",
       "      <th></th>\n",
       "      <th></th>\n",
       "      <th></th>\n",
       "    </tr>\n",
       "  </thead>\n",
       "  <tbody>\n",
       "    <tr>\n",
       "      <th rowspan=\"2\" valign=\"top\">manhã</th>\n",
       "      <th>1</th>\n",
       "      <td>0.232649</td>\n",
       "      <td>0.768357</td>\n",
       "      <td>0.983172</td>\n",
       "      <td>0.666253</td>\n",
       "      <td>0.455210</td>\n",
       "      <td>0.959912</td>\n",
       "    </tr>\n",
       "    <tr>\n",
       "      <th>0</th>\n",
       "      <td>0.746326</td>\n",
       "      <td>0.674490</td>\n",
       "      <td>0.303773</td>\n",
       "      <td>0.402837</td>\n",
       "      <td>0.634074</td>\n",
       "      <td>0.320739</td>\n",
       "    </tr>\n",
       "    <tr>\n",
       "      <th rowspan=\"2\" valign=\"top\">noite</th>\n",
       "      <th>1</th>\n",
       "      <td>0.438667</td>\n",
       "      <td>0.362816</td>\n",
       "      <td>0.022010</td>\n",
       "      <td>0.980050</td>\n",
       "      <td>0.017480</td>\n",
       "      <td>0.302203</td>\n",
       "    </tr>\n",
       "    <tr>\n",
       "      <th>0</th>\n",
       "      <td>0.897637</td>\n",
       "      <td>0.844828</td>\n",
       "      <td>0.525961</td>\n",
       "      <td>0.508599</td>\n",
       "      <td>0.196806</td>\n",
       "      <td>0.905169</td>\n",
       "    </tr>\n",
       "  </tbody>\n",
       "</table>\n",
       "</div>"
      ],
      "text/plain": [
       "dia                 ontem                hoje              amanhã          \n",
       "ocorrência              a         b         a         b         a         b\n",
       "momento solução                                                            \n",
       "manhã   1        0.232649  0.768357  0.983172  0.666253  0.455210  0.959912\n",
       "        0        0.746326  0.674490  0.303773  0.402837  0.634074  0.320739\n",
       "noite   1        0.438667  0.362816  0.022010  0.980050  0.017480  0.302203\n",
       "        0        0.897637  0.844828  0.525961  0.508599  0.196806  0.905169"
      ]
     },
     "execution_count": 42,
     "metadata": {},
     "output_type": "execute_result"
    }
   ],
   "source": [
    "df"
   ]
  },
  {
   "cell_type": "code",
   "execution_count": 43,
   "id": "753793c4-4b2f-4459-a3aa-5a488686b8e0",
   "metadata": {},
   "outputs": [
    {
     "data": {
      "text/plain": [
       "dia     ocorrência\n",
       "ontem   a             0.578820\n",
       "        b             0.662623\n",
       "hoje    a             0.458729\n",
       "        b             0.639435\n",
       "amanhã  a             0.325892\n",
       "        b             0.622006\n",
       "dtype: float64"
      ]
     },
     "execution_count": 43,
     "metadata": {},
     "output_type": "execute_result"
    }
   ],
   "source": [
    "df.mean()"
   ]
  },
  {
   "cell_type": "markdown",
   "id": "ef834733-81c8-4d72-ae57-006e75b7b068",
   "metadata": {},
   "source": [
    "especificando o nível, através do parâmetro `level`, é possível calcular de um multiindex específico passando o npme do nível, neste exemplo, poderia ser `momento`. Pode, ainda, especificar o eixo através do parâmetro `axis`."
   ]
  },
  {
   "cell_type": "code",
   "execution_count": null,
   "id": "caf3fc07-97dd-4b7c-b5c7-8bca6a86efea",
   "metadata": {},
   "outputs": [],
   "source": []
  }
 ],
 "metadata": {
  "kernelspec": {
   "display_name": "Python 3 (ipykernel)",
   "language": "python",
   "name": "python3"
  },
  "language_info": {
   "codemirror_mode": {
    "name": "ipython",
    "version": 3
   },
   "file_extension": ".py",
   "mimetype": "text/x-python",
   "name": "python",
   "nbconvert_exporter": "python",
   "pygments_lexer": "ipython3",
   "version": "3.10.12"
  }
 },
 "nbformat": 4,
 "nbformat_minor": 5
}
