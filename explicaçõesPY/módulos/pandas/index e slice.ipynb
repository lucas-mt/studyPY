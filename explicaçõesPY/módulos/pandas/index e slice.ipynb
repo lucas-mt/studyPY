{
 "cells": [
  {
   "cell_type": "markdown",
   "id": "954a8a00-521f-4b62-821c-8570f350951d",
   "metadata": {},
   "source": [
    "## indexing e slicing\n",
    "---"
   ]
  },
  {
   "cell_type": "code",
   "execution_count": 1,
   "id": "aa4d1822-2fd2-42a4-8bcd-97997d90dd78",
   "metadata": {},
   "outputs": [],
   "source": [
    "import pandas as pd\n",
    "import numpy as np"
   ]
  },
  {
   "cell_type": "code",
   "execution_count": 2,
   "id": "1b665629-fbf6-4750-8f6b-784518e6954d",
   "metadata": {},
   "outputs": [
    {
     "data": {
      "text/plain": [
       "0     0\n",
       "1     3\n",
       "2     6\n",
       "3     9\n",
       "4    12\n",
       "5    15\n",
       "6    18\n",
       "7    21\n",
       "8    24\n",
       "9    27\n",
       "dtype: int64"
      ]
     },
     "execution_count": 2,
     "metadata": {},
     "output_type": "execute_result"
    }
   ],
   "source": [
    "ser = pd.Series(np.arange(0, 28, 3))\n",
    "ser"
   ]
  },
  {
   "cell_type": "markdown",
   "id": "b245d027-3b1f-4088-a089-1074c73faf23",
   "metadata": {},
   "source": [
    "para ver os indices de um objeto pandas, use o atributo `.index`"
   ]
  },
  {
   "cell_type": "code",
   "execution_count": 3,
   "id": "38792391-7c1c-474a-86e7-601f8382212b",
   "metadata": {},
   "outputs": [
    {
     "data": {
      "text/plain": [
       "RangeIndex(start=0, stop=10, step=1)"
      ]
     },
     "execution_count": 3,
     "metadata": {},
     "output_type": "execute_result"
    }
   ],
   "source": [
    "ser.index"
   ]
  },
  {
   "cell_type": "markdown",
   "id": "d13cd01e-bae8-49b5-a7df-85fbd1873672",
   "metadata": {},
   "source": [
    "suporta o indexamento comum do python:"
   ]
  },
  {
   "cell_type": "code",
   "execution_count": 4,
   "id": "7afec67e-6f24-443d-8cf5-93dbe094405c",
   "metadata": {},
   "outputs": [
    {
     "data": {
      "text/plain": [
       "9"
      ]
     },
     "execution_count": 4,
     "metadata": {},
     "output_type": "execute_result"
    }
   ],
   "source": [
    "ser[3]"
   ]
  },
  {
   "cell_type": "code",
   "execution_count": 5,
   "id": "c0920bdd-5254-4dd1-a43c-1bb6f8c7bfe3",
   "metadata": {},
   "outputs": [
    {
     "data": {
      "text/plain": [
       "2     6\n",
       "3     9\n",
       "4    12\n",
       "5    15\n",
       "dtype: int64"
      ]
     },
     "execution_count": 5,
     "metadata": {},
     "output_type": "execute_result"
    }
   ],
   "source": [
    "ser[2:6]"
   ]
  },
  {
   "cell_type": "code",
   "execution_count": 6,
   "id": "c296d5d1-54b4-4e97-9528-18ed59866fc3",
   "metadata": {},
   "outputs": [
    {
     "data": {
      "text/plain": [
       "9    27\n",
       "8    24\n",
       "7    21\n",
       "6    18\n",
       "5    15\n",
       "4    12\n",
       "3     9\n",
       "2     6\n",
       "1     3\n",
       "0     0\n",
       "dtype: int64"
      ]
     },
     "execution_count": 6,
     "metadata": {},
     "output_type": "execute_result"
    }
   ],
   "source": [
    "ser[::-1]"
   ]
  },
  {
   "cell_type": "code",
   "execution_count": 7,
   "id": "5e63886b-69a3-4c64-9960-bd0c95dea188",
   "metadata": {},
   "outputs": [
    {
     "data": {
      "text/plain": [
       "3     9\n",
       "5    15\n",
       "dtype: int64"
      ]
     },
     "execution_count": 7,
     "metadata": {},
     "output_type": "execute_result"
    }
   ],
   "source": [
    "ser[3:7:2]"
   ]
  },
  {
   "cell_type": "markdown",
   "id": "1c59af0e-1087-45c4-8408-8f8e0bb8e469",
   "metadata": {},
   "source": [
    "as series em pandas são muito mais flexíveis que os vetores numpy. por exemplo, os índices, assim como em dicionários, podem ser passados pelo usuário e pode ser qualquer tipo de dado através do parâmeetro `index=`:"
   ]
  },
  {
   "cell_type": "code",
   "execution_count": 8,
   "id": "22b1bf76-8598-487e-aae1-8231206dd2dd",
   "metadata": {},
   "outputs": [
    {
     "data": {
      "text/plain": [
       "a     0\n",
       "b     3\n",
       "c     6\n",
       "d     9\n",
       "e    12\n",
       "f    15\n",
       "g    18\n",
       "h    21\n",
       "i    24\n",
       "j    27\n",
       "dtype: int64"
      ]
     },
     "execution_count": 8,
     "metadata": {},
     "output_type": "execute_result"
    }
   ],
   "source": [
    "ser = pd.Series(np.arange(0, 28, 3), index=list('abcdefghij'))\n",
    "ser"
   ]
  },
  {
   "cell_type": "markdown",
   "id": "01f509e1-1a28-4fee-8a3e-3a94956e6cba",
   "metadata": {},
   "source": [
    "e, estes indices suportam os métodos de indexing:"
   ]
  },
  {
   "cell_type": "code",
   "execution_count": 9,
   "id": "031cde63-3824-44c1-ba33-7c9ac6b5cc72",
   "metadata": {},
   "outputs": [
    {
     "data": {
      "text/plain": [
       "9"
      ]
     },
     "execution_count": 9,
     "metadata": {},
     "output_type": "execute_result"
    }
   ],
   "source": [
    "ser['d']"
   ]
  },
  {
   "cell_type": "code",
   "execution_count": 10,
   "id": "8bf58fb1-e762-45b2-9dae-8782813211f2",
   "metadata": {},
   "outputs": [
    {
     "data": {
      "text/plain": [
       "c     6\n",
       "d     9\n",
       "e    12\n",
       "f    15\n",
       "dtype: int64"
      ]
     },
     "execution_count": 10,
     "metadata": {},
     "output_type": "execute_result"
    }
   ],
   "source": [
    "ser['c':'f']"
   ]
  },
  {
   "cell_type": "code",
   "execution_count": 11,
   "id": "47a530ec-fa03-4caf-a58f-d8d3ba9ef0a5",
   "metadata": {},
   "outputs": [
    {
     "data": {
      "text/plain": [
       "d     9\n",
       "f    15\n",
       "dtype: int64"
      ]
     },
     "execution_count": 11,
     "metadata": {},
     "output_type": "execute_result"
    }
   ],
   "source": [
    "ser['d':'g':2]"
   ]
  },
  {
   "cell_type": "markdown",
   "id": "0d8aa3e8-a5e4-4cdb-9c17-eb52b512d172",
   "metadata": {},
   "source": [
    "este comportamento, por exemplo, se é possível com os dicionários."
   ]
  },
  {
   "cell_type": "markdown",
   "id": "f4f2e168-f20f-4a84-a4ec-dd8ebc5d87e5",
   "metadata": {},
   "source": [
    "é interessante observar que, da mesma forma que python, quando indexando por números, o último valor não é incluso no intervalo. No entanto, quando indexando usando indexamento próprio, o último valor é incluso no intervalo."
   ]
  },
  {
   "cell_type": "markdown",
   "id": "f1ae0bff-fb56-4a36-a207-d225fd027f0b",
   "metadata": {},
   "source": [
    "note que, se um dicionário for passado como parâmetro para formar a `Series`, se for passado `index=` contendo menos valores que o dicionário original, a series final terá o tamanho de index:"
   ]
  },
  {
   "cell_type": "code",
   "execution_count": 12,
   "id": "724bf9e2-c98e-456f-b2bb-4c4cc77ff29c",
   "metadata": {},
   "outputs": [
    {
     "data": {
      "text/plain": [
       "a    1\n",
       "c    3\n",
       "e    5\n",
       "dtype: int64"
      ]
     },
     "execution_count": 12,
     "metadata": {},
     "output_type": "execute_result"
    }
   ],
   "source": [
    "vetor = pd.Series({'a': 1, 'b': 2, 'c': 3, 'd': 4, 'e': 5}, index = ['a', 'c', 'e'])\n",
    "vetor"
   ]
  },
  {
   "cell_type": "markdown",
   "id": "efc1b1b1-3f84-4d39-9293-d55c274b8fff",
   "metadata": {},
   "source": [
    "neste caso, um dicionário python pode ser usado para criar uma series:"
   ]
  },
  {
   "cell_type": "code",
   "execution_count": 13,
   "id": "e537ffe8-57a8-4ca2-84ec-210710f49aac",
   "metadata": {},
   "outputs": [
    {
     "data": {
      "text/plain": [
       "ind1    0.10\n",
       "ind2    0.25\n",
       "ind3    0.40\n",
       "ind4    0.55\n",
       "ind5    0.70\n",
       "ind6    0.85\n",
       "ind7    1.00\n",
       "dtype: float64"
      ]
     },
     "execution_count": 13,
     "metadata": {},
     "output_type": "execute_result"
    }
   ],
   "source": [
    "dicio = {'ind1': 0.1, 'ind2': 0.25, 'ind3': 0.40, 'ind4': 0.55, 'ind5': 0.70, 'ind6': 0.85, 'ind7': 1}\n",
    "vtr = pd.Series(dicio)\n",
    "vtr"
   ]
  },
  {
   "cell_type": "markdown",
   "id": "56eee88d-a890-47ac-b55b-8d55c65724d3",
   "metadata": {},
   "source": [
    "desta forma, `pd.Series` também aceita algumas funções de dicionários:"
   ]
  },
  {
   "cell_type": "code",
   "execution_count": 14,
   "id": "efc6ef1a-66b4-4ee7-b186-f14f858fa597",
   "metadata": {},
   "outputs": [
    {
     "data": {
      "text/plain": [
       "Index(['ind1', 'ind2', 'ind3', 'ind4', 'ind5', 'ind6', 'ind7'], dtype='object')"
      ]
     },
     "execution_count": 14,
     "metadata": {},
     "output_type": "execute_result"
    }
   ],
   "source": [
    "vtr.keys()"
   ]
  },
  {
   "cell_type": "code",
   "execution_count": 15,
   "id": "0a97d969-5429-4d05-a82d-08bdb68e1b32",
   "metadata": {},
   "outputs": [
    {
     "data": {
      "text/plain": [
       "[('ind1', 0.1),\n",
       " ('ind2', 0.25),\n",
       " ('ind3', 0.4),\n",
       " ('ind4', 0.55),\n",
       " ('ind5', 0.7),\n",
       " ('ind6', 0.85),\n",
       " ('ind7', 1.0)]"
      ]
     },
     "execution_count": 15,
     "metadata": {},
     "output_type": "execute_result"
    }
   ],
   "source": [
    "list(vtr.items())"
   ]
  },
  {
   "cell_type": "markdown",
   "id": "f9642cbc-87da-47c5-a9b6-c9915d9b6c09",
   "metadata": {},
   "source": [
    "assim como dicionários, uma serie pode ser extendida ao indexar a uma chave qua ainda não exista:"
   ]
  },
  {
   "cell_type": "code",
   "execution_count": 16,
   "id": "248d3274-dff7-4249-8f37-7f86f6905f36",
   "metadata": {},
   "outputs": [
    {
     "data": {
      "text/plain": [
       "ind1        0.10\n",
       "ind2        0.25\n",
       "ind3        0.40\n",
       "ind4        0.55\n",
       "ind5        0.70\n",
       "ind6        0.85\n",
       "ind7        1.00\n",
       "FinalInd    0.00\n",
       "dtype: float64"
      ]
     },
     "execution_count": 16,
     "metadata": {},
     "output_type": "execute_result"
    }
   ],
   "source": [
    "vtr['FinalInd'] = 0\n",
    "vtr"
   ]
  },
  {
   "cell_type": "markdown",
   "id": "e07bee4e-7d2f-474e-bb89-19b5f5d86e2f",
   "metadata": {},
   "source": [
    "sendo baseado em numpy, independentemente se a serie é como um dicionário ou um vetor, este pode, ainda ser acessado pelos índices inteiros implícitos (0, 1, 2,...), bem como pode passar por processos de slicings que o numpy suporta"
   ]
  },
  {
   "cell_type": "code",
   "execution_count": 17,
   "id": "b3bcb967-3266-49e7-813c-f88cd1afd17b",
   "metadata": {},
   "outputs": [
    {
     "name": "stdout",
     "output_type": "stream",
     "text": [
      "slicing com índices implícitos:\n",
      "ind1    0.10\n",
      "ind2    0.25\n",
      "ind3    0.40\n",
      "ind4    0.55\n",
      "ind5    0.70\n",
      "dtype: float64\n",
      "---\n",
      "slicing com índices explícitos:\n",
      "ind1    0.10\n",
      "ind2    0.25\n",
      "ind3    0.40\n",
      "ind4    0.55\n",
      "ind5    0.70\n",
      "dtype: float64\n",
      "---\n",
      "masking:\n",
      "ind4    0.55\n",
      "ind5    0.70\n",
      "ind6    0.85\n",
      "ind7    1.00\n",
      "dtype: float64\n",
      "---\n",
      "fancy indexing:\n",
      "ind1    0.1\n",
      "ind5    0.7\n",
      "dtype: float64\n"
     ]
    }
   ],
   "source": [
    "print(f'slicing com índices implícitos:\\n{vtr[0: 5]}\\n---')\n",
    "print(f'slicing com índices explícitos:\\n{vtr[0: 5]}\\n---')\n",
    "print(f'masking:\\n{vtr[vtr > 0.5]}\\n---')\n",
    "print(f'fancy indexing:\\n{vtr[[\"ind1\", \"ind5\"]]}')"
   ]
  },
  {
   "cell_type": "markdown",
   "id": "2e2f9710-e362-44f8-b8a0-6d95a659c9fe",
   "metadata": {},
   "source": [
    "#### loc e iloc\n",
    "---"
   ]
  },
  {
   "cell_type": "code",
   "execution_count": 18,
   "id": "c3ca7062-ff0d-45b8-9f02-cf035e65bce5",
   "metadata": {},
   "outputs": [
    {
     "data": {
      "text/plain": [
       "1      verde\n",
       "3       azul\n",
       "5     marrom\n",
       "7      cinza\n",
       "9     branco\n",
       "11     preto\n",
       "dtype: object"
      ]
     },
     "execution_count": 18,
     "metadata": {},
     "output_type": "execute_result"
    }
   ],
   "source": [
    "intvtr = pd.Series(['verde', 'azul', 'marrom',  'cinza', 'branco', 'preto'], index = [i for i in range(1, 12, 2)])\n",
    "intvtr"
   ]
  },
  {
   "cell_type": "markdown",
   "id": "ce041325-4214-4081-b383-d195767fc396",
   "metadata": {},
   "source": [
    "observe que, se estiver usando índices inteiros, pode haver confusão com indexing e slicing, porque para indexar, geralmente, é usado o índice explícito, aquele que é passado pelo usuário:"
   ]
  },
  {
   "cell_type": "code",
   "execution_count": 19,
   "id": "20a00cce-f7e0-41a0-87e4-25f84d09ec17",
   "metadata": {},
   "outputs": [
    {
     "name": "stdout",
     "output_type": "stream",
     "text": [
      "verde marrom\n"
     ]
    }
   ],
   "source": [
    "print(intvtr[1], intvtr[5])"
   ]
  },
  {
   "cell_type": "markdown",
   "id": "5bf230f5-7d8d-4280-b4f8-d7661ef5c59a",
   "metadata": {},
   "source": [
    "mas para slicing, o índice implícito, próprio do python, é usado:"
   ]
  },
  {
   "cell_type": "code",
   "execution_count": 20,
   "id": "480b2784-8d4f-4fb0-8eea-9cfbd6f6088e",
   "metadata": {},
   "outputs": [
    {
     "name": "stdout",
     "output_type": "stream",
     "text": [
      "3      azul\n",
      "5    marrom\n",
      "7     cinza\n",
      "9    branco\n",
      "dtype: object\n"
     ]
    }
   ],
   "source": [
    "print(intvtr[1:5])"
   ]
  },
  {
   "cell_type": "markdown",
   "id": "3f106e1a-3d03-400e-90e2-a564824ee48f",
   "metadata": {},
   "source": [
    "para evitar este tipo de erro, pode-se usar os atributos de índices `.loc`, que sempre usará os índices explícitos:"
   ]
  },
  {
   "cell_type": "code",
   "execution_count": 21,
   "id": "b12dd09f-d77b-4a54-8e9b-e748ddb05b1d",
   "metadata": {},
   "outputs": [
    {
     "data": {
      "text/plain": [
       "1     verde\n",
       "3      azul\n",
       "5    marrom\n",
       "dtype: object"
      ]
     },
     "execution_count": 21,
     "metadata": {},
     "output_type": "execute_result"
    }
   ],
   "source": [
    "intvtr.loc[1:5]"
   ]
  },
  {
   "cell_type": "markdown",
   "id": "880eee13-609a-4092-9749-a0270a53a3d5",
   "metadata": {},
   "source": [
    "o atributo `iloc`, que usa os índices implícitos:"
   ]
  },
  {
   "cell_type": "code",
   "execution_count": 22,
   "id": "ad9ae7d2-03f6-4293-bbf6-db0236f65848",
   "metadata": {},
   "outputs": [
    {
     "data": {
      "text/plain": [
       "'azul'"
      ]
     },
     "execution_count": 22,
     "metadata": {},
     "output_type": "execute_result"
    }
   ],
   "source": [
    "intvtr.iloc[1]"
   ]
  },
  {
   "cell_type": "markdown",
   "id": "3b2cb1fe-b5a9-4e14-a1af-d0d189f0858d",
   "metadata": {},
   "source": [
    "#### em DataFrames\n",
    "---"
   ]
  },
  {
   "cell_type": "code",
   "execution_count": 23,
   "id": "1db33504-a9f9-4660-9bce-5fef3fa9fb7d",
   "metadata": {},
   "outputs": [
    {
     "data": {
      "text/html": [
       "<div>\n",
       "<style scoped>\n",
       "    .dataframe tbody tr th:only-of-type {\n",
       "        vertical-align: middle;\n",
       "    }\n",
       "\n",
       "    .dataframe tbody tr th {\n",
       "        vertical-align: top;\n",
       "    }\n",
       "\n",
       "    .dataframe thead th {\n",
       "        text-align: right;\n",
       "    }\n",
       "</style>\n",
       "<table border=\"1\" class=\"dataframe\">\n",
       "  <thead>\n",
       "    <tr style=\"text-align: right;\">\n",
       "      <th></th>\n",
       "      <th>valor</th>\n",
       "      <th>satisfação</th>\n",
       "    </tr>\n",
       "  </thead>\n",
       "  <tbody>\n",
       "    <tr>\n",
       "      <th>bom</th>\n",
       "      <td>31</td>\n",
       "      <td>gostei</td>\n",
       "    </tr>\n",
       "    <tr>\n",
       "      <th>indiferente</th>\n",
       "      <td>29</td>\n",
       "      <td>não sei</td>\n",
       "    </tr>\n",
       "    <tr>\n",
       "      <th>péssimo</th>\n",
       "      <td>12</td>\n",
       "      <td>detestei</td>\n",
       "    </tr>\n",
       "    <tr>\n",
       "      <th>ruim</th>\n",
       "      <td>18</td>\n",
       "      <td>não gostei</td>\n",
       "    </tr>\n",
       "    <tr>\n",
       "      <th>ótimo</th>\n",
       "      <td>144</td>\n",
       "      <td>amei</td>\n",
       "    </tr>\n",
       "  </tbody>\n",
       "</table>\n",
       "</div>"
      ],
      "text/plain": [
       "             valor  satisfação\n",
       "bom             31      gostei\n",
       "indiferente     29     não sei\n",
       "péssimo         12    detestei\n",
       "ruim            18  não gostei\n",
       "ótimo          144        amei"
      ]
     },
     "execution_count": 23,
     "metadata": {},
     "output_type": "execute_result"
    }
   ],
   "source": [
    "indexvlr = ['péssimo', 'ótimo', 'bom', 'indiferente', 'ruim']\n",
    "indexsats = ['bom', 'ótimo', 'indiferente', 'ruim', 'péssimo']\n",
    "\n",
    "valor = pd.Series([12, 144, 31, 29, 18], index = indexvlr)\n",
    "sats = pd.Series(['gostei', 'amei', 'não sei', 'não gostei', 'detestei'], index = indexsats)\n",
    "\n",
    "res = pd.DataFrame({'valor': valor, 'satisfação':sats})\n",
    "res"
   ]
  },
  {
   "cell_type": "markdown",
   "id": "280dbe93-2fa9-4fc1-82ab-24ccd93f6313",
   "metadata": {},
   "source": [
    "em dataframes, não só há indices, como, também, há colunas.\n",
    "\n",
    "da mesma forma, os indices podem ser vistos com o atributo `.index`, e as colunas podem ser vistas com o atributo `.columns`"
   ]
  },
  {
   "cell_type": "code",
   "execution_count": 24,
   "id": "0e07606a-e8a4-4006-b790-69277b2015d9",
   "metadata": {},
   "outputs": [
    {
     "name": "stdout",
     "output_type": "stream",
     "text": [
      "Index(['bom', 'indiferente', 'péssimo', 'ruim', 'ótimo'], dtype='object')\n",
      "Index(['valor', 'satisfação'], dtype='object')\n"
     ]
    }
   ],
   "source": [
    "print(res.index)\n",
    "print(res.columns)"
   ]
  },
  {
   "cell_type": "markdown",
   "id": "fba25178-5b35-4673-9914-1e03892d7162",
   "metadata": {},
   "source": [
    "para acessar um único valor, isto pode ser feito como uma matriz do python usando `list()`, isto é, com dois colchetes:"
   ]
  },
  {
   "cell_type": "code",
   "execution_count": 25,
   "id": "feb5fc23-ae68-47fb-9496-20a9f2b1cf63",
   "metadata": {},
   "outputs": [
    {
     "name": "stdout",
     "output_type": "stream",
     "text": [
      "detestei\n",
      "31\n"
     ]
    }
   ],
   "source": [
    "print(res['satisfação']['péssimo'])\n",
    "print(res['valor']['bom'])"
   ]
  },
  {
   "cell_type": "markdown",
   "id": "c88b2b0a-6b08-4b0b-ae0f-3acdf6780bdb",
   "metadata": {},
   "source": [
    "para acessar uma coluna, basta:"
   ]
  },
  {
   "cell_type": "code",
   "execution_count": 26,
   "id": "076a9885-ea43-4610-a1a9-4c55708ad0ec",
   "metadata": {},
   "outputs": [
    {
     "data": {
      "text/plain": [
       "bom                gostei\n",
       "indiferente       não sei\n",
       "péssimo          detestei\n",
       "ruim           não gostei\n",
       "ótimo                amei\n",
       "Name: satisfação, dtype: object"
      ]
     },
     "execution_count": 26,
     "metadata": {},
     "output_type": "execute_result"
    }
   ],
   "source": [
    "res['satisfação']"
   ]
  },
  {
   "cell_type": "markdown",
   "id": "4aac0361-32b5-46e1-95c7-2f685f027379",
   "metadata": {},
   "source": [
    "não é possível fazer o mesmo para acessar uma linha."
   ]
  },
  {
   "cell_type": "markdown",
   "id": "1d9ea720-821a-4b27-8cf2-20a5571c0aaf",
   "metadata": {},
   "source": [
    "é possível extender o dataframe indexando a uma chave que ainda não existe"
   ]
  },
  {
   "cell_type": "code",
   "execution_count": 27,
   "id": "18dc2719-2dba-4b1f-aada-c7d3d79905e6",
   "metadata": {},
   "outputs": [
    {
     "data": {
      "text/html": [
       "<div>\n",
       "<style scoped>\n",
       "    .dataframe tbody tr th:only-of-type {\n",
       "        vertical-align: middle;\n",
       "    }\n",
       "\n",
       "    .dataframe tbody tr th {\n",
       "        vertical-align: top;\n",
       "    }\n",
       "\n",
       "    .dataframe thead th {\n",
       "        text-align: right;\n",
       "    }\n",
       "</style>\n",
       "<table border=\"1\" class=\"dataframe\">\n",
       "  <thead>\n",
       "    <tr style=\"text-align: right;\">\n",
       "      <th></th>\n",
       "      <th>valor</th>\n",
       "      <th>satisfação</th>\n",
       "      <th>volta</th>\n",
       "    </tr>\n",
       "  </thead>\n",
       "  <tbody>\n",
       "    <tr>\n",
       "      <th>bom</th>\n",
       "      <td>31</td>\n",
       "      <td>gostei</td>\n",
       "      <td>sim</td>\n",
       "    </tr>\n",
       "    <tr>\n",
       "      <th>indiferente</th>\n",
       "      <td>29</td>\n",
       "      <td>não sei</td>\n",
       "      <td>não sei</td>\n",
       "    </tr>\n",
       "    <tr>\n",
       "      <th>péssimo</th>\n",
       "      <td>12</td>\n",
       "      <td>detestei</td>\n",
       "      <td>nunca</td>\n",
       "    </tr>\n",
       "    <tr>\n",
       "      <th>ruim</th>\n",
       "      <td>18</td>\n",
       "      <td>não gostei</td>\n",
       "      <td>não</td>\n",
       "    </tr>\n",
       "    <tr>\n",
       "      <th>ótimo</th>\n",
       "      <td>144</td>\n",
       "      <td>amei</td>\n",
       "      <td>com certeza</td>\n",
       "    </tr>\n",
       "  </tbody>\n",
       "</table>\n",
       "</div>"
      ],
      "text/plain": [
       "             valor  satisfação        volta\n",
       "bom             31      gostei          sim\n",
       "indiferente     29     não sei      não sei\n",
       "péssimo         12    detestei        nunca\n",
       "ruim            18  não gostei          não\n",
       "ótimo          144        amei  com certeza"
      ]
     },
     "execution_count": 27,
     "metadata": {},
     "output_type": "execute_result"
    }
   ],
   "source": [
    "res['volta'] = pd.Series(['nunca', 'com certeza', 'sim', 'não sei', 'não'], index = indexvlr)\n",
    "res"
   ]
  },
  {
   "cell_type": "markdown",
   "id": "4a5d364c-a572-4a00-9338-dd4b07b7765d",
   "metadata": {},
   "source": [
    "#### o método Index()\n",
    "---"
   ]
  },
  {
   "cell_type": "markdown",
   "id": "0b5ec441-a321-42ff-8987-408ab7116621",
   "metadata": {},
   "source": [
    "os índices em pandas são bastante flexíveis, apesar de que, uma vez estabelecidos, são imutáveis, e o fato de estes serem explícitos fica mais fácil trabalhar com eles. Podem ser criado com o método `Index(<array>)`"
   ]
  },
  {
   "cell_type": "code",
   "execution_count": 28,
   "id": "8945e5c4-28ad-4a57-810e-026b2370bd3d",
   "metadata": {},
   "outputs": [
    {
     "data": {
      "text/plain": [
       "Index([2, 3, 5, 7, 11, 13], dtype='int64')"
      ]
     },
     "execution_count": 28,
     "metadata": {},
     "output_type": "execute_result"
    }
   ],
   "source": [
    "mtz = pd.Index([2, 3, 5, 7, 11, 13])\n",
    "mtz"
   ]
  },
  {
   "cell_type": "markdown",
   "id": "d1cf28ea-9735-46df-9667-0b910055faf7",
   "metadata": {},
   "source": [
    "no geral, `Index` possui os mesmos atributos que os arrays de Numpy:"
   ]
  },
  {
   "cell_type": "code",
   "execution_count": 29,
   "id": "c0572cfa-1f65-4894-a961-57d19c462505",
   "metadata": {},
   "outputs": [
    {
     "name": "stdout",
     "output_type": "stream",
     "text": [
      "6 (6,) 1 int64\n"
     ]
    }
   ],
   "source": [
    "print(mtz.size, mtz.shape, mtz.ndim, mtz.dtype)"
   ]
  },
  {
   "cell_type": "markdown",
   "id": "2f9ef1cd-66fc-4b1d-a835-66564ed6ca83",
   "metadata": {},
   "source": [
    "`Index` também aceita operações dos conjuntos (set) de python:"
   ]
  },
  {
   "cell_type": "code",
   "execution_count": 30,
   "id": "37d8db94-2cd0-4ddb-8398-438255905719",
   "metadata": {},
   "outputs": [
    {
     "name": "stdout",
     "output_type": "stream",
     "text": [
      "Index([0, 0, 2], dtype='int64')\n",
      "Index([5, 7, 7], dtype='int64')\n",
      "Index([5, 7, 5], dtype='int64')\n"
     ]
    }
   ],
   "source": [
    "ind1 = pd.Index([1, 2, 3])\n",
    "ind2 = pd.Index([4, 5, 6])\n",
    "\n",
    "print(ind1 & ind2)\n",
    "print(ind1 | ind2)\n",
    "print(ind2 ^ ind1)"
   ]
  },
  {
   "cell_type": "markdown",
   "id": "c4b3170a-b73b-43c0-b5ce-93957af4041e",
   "metadata": {},
   "source": [
    "sendo imutável, não pode ser modificado através das formas já conhecidas:"
   ]
  },
  {
   "cell_type": "code",
   "execution_count": 31,
   "id": "2bf993fd-063d-4365-8687-786ffa30ea9b",
   "metadata": {},
   "outputs": [
    {
     "ename": "TypeError",
     "evalue": "Index does not support mutable operations",
     "output_type": "error",
     "traceback": [
      "\u001b[0;31m---------------------------------------------------------------------------\u001b[0m",
      "\u001b[0;31mTypeError\u001b[0m                                 Traceback (most recent call last)",
      "Cell \u001b[0;32mIn[31], line 1\u001b[0m\n\u001b[0;32m----> 1\u001b[0m \u001b[43mmtz\u001b[49m\u001b[43m[\u001b[49m\u001b[38;5;241;43m0\u001b[39;49m\u001b[43m]\u001b[49m \u001b[38;5;241m=\u001b[39m \u001b[38;5;241m0\u001b[39m\n",
      "File \u001b[0;32m~/.local/lib/python3.10/site-packages/pandas/core/indexes/base.py:5348\u001b[0m, in \u001b[0;36mIndex.__setitem__\u001b[0;34m(self, key, value)\u001b[0m\n\u001b[1;32m   5346\u001b[0m \u001b[38;5;129m@final\u001b[39m\n\u001b[1;32m   5347\u001b[0m \u001b[38;5;28;01mdef\u001b[39;00m \u001b[38;5;21m__setitem__\u001b[39m(\u001b[38;5;28mself\u001b[39m, key, value) \u001b[38;5;241m-\u001b[39m\u001b[38;5;241m>\u001b[39m \u001b[38;5;28;01mNone\u001b[39;00m:\n\u001b[0;32m-> 5348\u001b[0m     \u001b[38;5;28;01mraise\u001b[39;00m \u001b[38;5;167;01mTypeError\u001b[39;00m(\u001b[38;5;124m\"\u001b[39m\u001b[38;5;124mIndex does not support mutable operations\u001b[39m\u001b[38;5;124m\"\u001b[39m)\n",
      "\u001b[0;31mTypeError\u001b[0m: Index does not support mutable operations"
     ]
    }
   ],
   "source": [
    "mtz[0] = 0"
   ]
  },
  {
   "cell_type": "code",
   "execution_count": null,
   "id": "37c1c179-1634-47f2-9118-f85e07d1f88f",
   "metadata": {},
   "outputs": [],
   "source": []
  }
 ],
 "metadata": {
  "kernelspec": {
   "display_name": "Python 3 (ipykernel)",
   "language": "python",
   "name": "python3"
  },
  "language_info": {
   "codemirror_mode": {
    "name": "ipython",
    "version": 3
   },
   "file_extension": ".py",
   "mimetype": "text/x-python",
   "name": "python",
   "nbconvert_exporter": "python",
   "pygments_lexer": "ipython3",
   "version": "3.10.12"
  }
 },
 "nbformat": 4,
 "nbformat_minor": 5
}
