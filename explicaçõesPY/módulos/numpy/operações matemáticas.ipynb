{
 "cells": [
  {
   "cell_type": "code",
   "execution_count": 1,
   "id": "7cf4bbde-fb4b-4b27-a899-1ac4b4efa984",
   "metadata": {},
   "outputs": [],
   "source": [
    "import numpy as np"
   ]
  },
  {
   "cell_type": "markdown",
   "id": "e887b48b-f2c2-4811-a932-bc986b4a04e6",
   "metadata": {},
   "source": [
    "#### operações matenáticas entre arrays\n",
    "---"
   ]
  },
  {
   "cell_type": "markdown",
   "id": "3e9cff69-c15c-4058-bba9-cd57d12649bf",
   "metadata": {},
   "source": [
    "com numpy, é possível fazer as operações matemáticas mais básicas com os vetores:"
   ]
  },
  {
   "cell_type": "code",
   "execution_count": 2,
   "id": "a9b9b01e-6377-4b23-839b-3d2b74b5c07d",
   "metadata": {},
   "outputs": [
    {
     "data": {
      "text/plain": [
       "array([ 7,  9, 11, 13, 15])"
      ]
     },
     "execution_count": 2,
     "metadata": {},
     "output_type": "execute_result"
    }
   ],
   "source": [
    "fs1 = np.arange(1, 6)\n",
    "nd2 = np.arange(6, 11)\n",
    "\n",
    "#soma\n",
    "fs1 + nd2"
   ]
  },
  {
   "cell_type": "code",
   "execution_count": 3,
   "id": "1288025c-5fb0-46d7-a5d8-21887f513d3f",
   "metadata": {},
   "outputs": [
    {
     "data": {
      "text/plain": [
       "array([5, 5, 5, 5, 5])"
      ]
     },
     "execution_count": 3,
     "metadata": {},
     "output_type": "execute_result"
    }
   ],
   "source": [
    "#subtração\n",
    "nd2 - fs1"
   ]
  },
  {
   "cell_type": "code",
   "execution_count": 4,
   "id": "8010138e-4315-48c9-8d35-54d12f08d64d",
   "metadata": {},
   "outputs": [
    {
     "data": {
      "text/plain": [
       "array([ 6, 14, 24, 36, 50])"
      ]
     },
     "execution_count": 4,
     "metadata": {},
     "output_type": "execute_result"
    }
   ],
   "source": [
    "#multiplicação\n",
    "fs1 * nd2"
   ]
  },
  {
   "cell_type": "code",
   "execution_count": 5,
   "id": "31e10c0d-ea9b-4a64-b284-3ab3d3669f3d",
   "metadata": {},
   "outputs": [
    {
     "data": {
      "text/plain": [
       "array([6.        , 3.5       , 2.66666667, 2.25      , 2.        ])"
      ]
     },
     "execution_count": 5,
     "metadata": {},
     "output_type": "execute_result"
    }
   ],
   "source": [
    "#divisão\n",
    "nd2 / fs1"
   ]
  },
  {
   "cell_type": "markdown",
   "id": "0b4e42f4-97f4-4c2e-850b-bf0e481ed72b",
   "metadata": {},
   "source": [
    "se não desejar obter as casas decimais, pode-se usar a função `.around()`"
   ]
  },
  {
   "cell_type": "code",
   "execution_count": 6,
   "id": "c7cfeae8-f0b8-4869-afe2-8d8a7ad86239",
   "metadata": {},
   "outputs": [
    {
     "data": {
      "text/plain": [
       "array([6., 4., 3., 2., 2.])"
      ]
     },
     "execution_count": 6,
     "metadata": {},
     "output_type": "execute_result"
    }
   ],
   "source": [
    "np.around(nd2 / fs1)"
   ]
  },
  {
   "cell_type": "markdown",
   "id": "a66ab206-3e23-42d0-af6c-aadd7c7d9e24",
   "metadata": {},
   "source": [
    "ou, ainda pode ser especificado a quantidade valores decimais que deseja-se:"
   ]
  },
  {
   "cell_type": "code",
   "execution_count": 7,
   "id": "fd86d492-6b27-4348-bdb6-623f423590bf",
   "metadata": {},
   "outputs": [
    {
     "data": {
      "text/plain": [
       "array([6.   , 3.5  , 2.667, 2.25 , 2.   ])"
      ]
     },
     "execution_count": 7,
     "metadata": {},
     "output_type": "execute_result"
    }
   ],
   "source": [
    "np.around(nd2 / fs1, 3)"
   ]
  },
  {
   "cell_type": "markdown",
   "id": "012a9d8c-aa61-4cb3-8663-d0bf8ad0210e",
   "metadata": {},
   "source": [
    "observe que, para manipular dois ou mais vetores matematicamente, é necessário que estes vetores tenham amesma quantidade de valores."
   ]
  },
  {
   "cell_type": "markdown",
   "id": "c453bf80-f823-4440-a082-0b0d54c1f8b2",
   "metadata": {},
   "source": [
    "#### operações matemáticas, estatísticas e probabilísticas\n",
    "---"
   ]
  },
  {
   "cell_type": "markdown",
   "id": "e068a7af-adbb-43f0-ad50-76b165258b80",
   "metadata": {},
   "source": [
    "se desejar saber a soma dos valores de uma array, use a função `.sum()`:"
   ]
  },
  {
   "cell_type": "code",
   "execution_count": 8,
   "id": "eee78a32-4364-446b-b45f-1a30659d4387",
   "metadata": {
    "tags": []
   },
   "outputs": [
    {
     "data": {
      "text/plain": [
       "40"
      ]
     },
     "execution_count": 8,
     "metadata": {},
     "output_type": "execute_result"
    }
   ],
   "source": [
    "np.sum(nd2) "
   ]
  },
  {
   "cell_type": "markdown",
   "id": "4c072686-b370-47b7-8f50-cafd74a09899",
   "metadata": {},
   "source": [
    "se desejar obter um vetor contendo as somas intermediárias, use `.add.accumulate()` ou `.cumsum()`:"
   ]
  },
  {
   "cell_type": "code",
   "execution_count": 9,
   "id": "7a9a2edc-7a02-42df-b22f-41aa936cbe67",
   "metadata": {
    "tags": []
   },
   "outputs": [
    {
     "data": {
      "text/plain": [
       "array([ 6, 13, 21, 30, 40])"
      ]
     },
     "execution_count": 9,
     "metadata": {},
     "output_type": "execute_result"
    }
   ],
   "source": [
    "np.add.accumulate(nd2) # ou np.cumsum(nd2)"
   ]
  },
  {
   "cell_type": "markdown",
   "id": "11343d23-9037-44df-8901-01330e3acd49",
   "metadata": {},
   "source": [
    "da mesma forma que, se desejar saber a média, deve-se usar a função `.mean()`"
   ]
  },
  {
   "cell_type": "code",
   "execution_count": 10,
   "id": "65a2113a-c5be-44ba-bb33-a606e33f4cb1",
   "metadata": {},
   "outputs": [
    {
     "data": {
      "text/plain": [
       "8.0"
      ]
     },
     "execution_count": 10,
     "metadata": {},
     "output_type": "execute_result"
    }
   ],
   "source": [
    "np.mean(nd2)"
   ]
  },
  {
   "cell_type": "markdown",
   "id": "00624e14-9b12-418d-8266-19a2f9f6758e",
   "metadata": {},
   "source": [
    "o produto se calcula com função semelhante: `.prod()`:"
   ]
  },
  {
   "cell_type": "code",
   "execution_count": 11,
   "id": "12826d9c-e013-4d56-bea7-23942cc91793",
   "metadata": {},
   "outputs": [
    {
     "data": {
      "text/plain": [
       "30240"
      ]
     },
     "execution_count": 11,
     "metadata": {},
     "output_type": "execute_result"
    }
   ],
   "source": [
    "np.prod(nd2)"
   ]
  },
  {
   "cell_type": "markdown",
   "id": "5ded5dd9-5bbd-4f22-a8a1-0968fb0d4c03",
   "metadata": {},
   "source": [
    "se desejar obter um vetor contendo os produtos intermediários, use `.multiply.accumulate()` ou `.cumprod()`:"
   ]
  },
  {
   "cell_type": "code",
   "execution_count": 12,
   "id": "1c277802-1888-4308-b373-779c03d91679",
   "metadata": {
    "tags": []
   },
   "outputs": [
    {
     "data": {
      "text/plain": [
       "array([    6,    42,   336,  3024, 30240])"
      ]
     },
     "execution_count": 12,
     "metadata": {},
     "output_type": "execute_result"
    }
   ],
   "source": [
    "np.multiply.accumulate(nd2) # ou np.cumprod(nd2)"
   ]
  },
  {
   "cell_type": "markdown",
   "id": "456b0dc3-1bdd-4f11-a7dd-59b07d6f7e8b",
   "metadata": {},
   "source": [
    "para encontrar o mínimo e o máximo use as funções `.min()` e `.max()`"
   ]
  },
  {
   "cell_type": "code",
   "execution_count": 13,
   "id": "d9cafc2d-bc2b-416a-9793-ac969db086c3",
   "metadata": {},
   "outputs": [
    {
     "data": {
      "text/plain": [
       "10"
      ]
     },
     "execution_count": 13,
     "metadata": {},
     "output_type": "execute_result"
    }
   ],
   "source": [
    "np.max(nd2)"
   ]
  },
  {
   "cell_type": "code",
   "execution_count": 14,
   "id": "178c5beb-915e-43b3-adf1-b96943ab71b2",
   "metadata": {},
   "outputs": [
    {
     "data": {
      "text/plain": [
       "6"
      ]
     },
     "execution_count": 14,
     "metadata": {},
     "output_type": "execute_result"
    }
   ],
   "source": [
    "np.min(nd2)"
   ]
  },
  {
   "cell_type": "markdown",
   "id": "79d26520-a0c4-4b65-a180-d5187f873348",
   "metadata": {},
   "source": [
    "também é possível saber a posição dos menores e dos maiores valores, usando `.argmin()` e `.argmax()`"
   ]
  },
  {
   "cell_type": "code",
   "execution_count": 15,
   "id": "68c070cb-6ee8-45e5-a0fb-b46e8b7dfe09",
   "metadata": {},
   "outputs": [
    {
     "data": {
      "text/plain": [
       "0"
      ]
     },
     "execution_count": 15,
     "metadata": {},
     "output_type": "execute_result"
    }
   ],
   "source": [
    "np.argmin(nd2)"
   ]
  },
  {
   "cell_type": "code",
   "execution_count": 16,
   "id": "699ecafb-3faf-4d5f-a4ca-76331de7e002",
   "metadata": {},
   "outputs": [
    {
     "data": {
      "text/plain": [
       "4"
      ]
     },
     "execution_count": 16,
     "metadata": {},
     "output_type": "execute_result"
    }
   ],
   "source": [
    "np.argmax(nd2)"
   ]
  },
  {
   "cell_type": "markdown",
   "id": "12f1c82d-ec42-45e8-8a50-64c8fee6c58d",
   "metadata": {},
   "source": [
    "todas as funções para cálculo de um array, além das já apresentadas:\n",
    "np.funções|operação\n",
    "---|---|\n",
    "np.std()|desvio padrão|\n",
    "np.var()|variância|\n",
    "np.median()|mediana()|\n",
    "np.percentile()|porcentagem()|\n",
    "np.any()|or|\n",
    "np.all()|and|"
   ]
  },
  {
   "cell_type": "markdown",
   "id": "0818927a-37db-4185-9b9e-878888344b62",
   "metadata": {},
   "source": [
    "todas estas funções podem receber o parâmetro `axis=`. este parâmetro, se receber 0 (zero), ele fará a operação indicada pela função nas colunas; já, se receber 1 (um), ele fará a operação indicada pela função nas linhas."
   ]
  },
  {
   "cell_type": "code",
   "execution_count": 17,
   "id": "2e198eba-b1f7-48df-a012-58c5f62d12fd",
   "metadata": {
    "tags": []
   },
   "outputs": [
    {
     "name": "stdout",
     "output_type": "stream",
     "text": [
      "[[0.21336447 0.00587753 0.18997183 0.77174093]\n",
      " [0.37718874 0.50763712 0.53590646 0.34953781]]\n",
      "soma das colunas: [0.5905532  0.51351465 0.72587829 1.12127874]\n",
      "soma das linhas: [1.18095476 1.77027013]\n",
      "máximo das colunas: [0.37718874 0.50763712 0.53590646 0.77174093]\n",
      "máixmo das linhas: [0.77174093 0.53590646]\n",
      "etc.\n"
     ]
    }
   ],
   "source": [
    "x = np.random.random((2, 4))\n",
    "print(f'''{x}\n",
    "soma das colunas: {x.sum(axis=0)}\n",
    "soma das linhas: {x.sum(axis=1)}\n",
    "máximo das colunas: {x.max(axis=0)}\n",
    "máixmo das linhas: {x.max(axis=1)}\n",
    "etc.''')"
   ]
  },
  {
   "cell_type": "markdown",
   "id": "0cdb8453-9dbe-403b-b32a-e5f9ef7e25f5",
   "metadata": {},
   "source": [
    "estas funções podem ter seus nomes trocados para incluir `NaN`, para, com isto, proteger a operação caso haja algum valor faltando:"
   ]
  },
  {
   "cell_type": "code",
   "execution_count": 18,
   "id": "61a5a290-342b-4fc2-af95-5db60e0646fc",
   "metadata": {
    "tags": []
   },
   "outputs": [
    {
     "data": {
      "text/plain": [
       "0.3689031109688933"
      ]
     },
     "execution_count": 18,
     "metadata": {},
     "output_type": "execute_result"
    }
   ],
   "source": [
    "np.nanmean(x)"
   ]
  },
  {
   "cell_type": "markdown",
   "id": "93919216-824e-496a-8495-383ce525a1b3",
   "metadata": {},
   "source": [
    "#### funções e constantes matemáticas\n",
    "---"
   ]
  },
  {
   "cell_type": "markdown",
   "id": "298e9430-07e0-4407-b2c2-c91432f861a0",
   "metadata": {},
   "source": [
    "usando a função `.abs()`, é possível fazer com que qualquer vetor tenha apenas valores positivivos"
   ]
  },
  {
   "cell_type": "code",
   "execution_count": 19,
   "id": "40ceb414-b0c0-4129-81d0-1b1a50642a68",
   "metadata": {},
   "outputs": [
    {
     "data": {
      "text/plain": [
       "array([-2. , -5. ,  6. ,  0. ,  0.5,  5. ])"
      ]
     },
     "execution_count": 19,
     "metadata": {},
     "output_type": "execute_result"
    }
   ],
   "source": [
    "vtr = np.array([-2, -5, 6, 0, 1/2, 5])\n",
    "vtr"
   ]
  },
  {
   "cell_type": "code",
   "execution_count": 20,
   "id": "46deacfd-f198-4817-a8e6-e756ec903b96",
   "metadata": {},
   "outputs": [
    {
     "data": {
      "text/plain": [
       "array([2. , 5. , 6. , 0. , 0.5, 5. ])"
      ]
     },
     "execution_count": 20,
     "metadata": {},
     "output_type": "execute_result"
    }
   ],
   "source": [
    "np.abs(vtr)"
   ]
  },
  {
   "cell_type": "markdown",
   "id": "12192dc6-6a68-41d0-8e21-5ee9cf76cad2",
   "metadata": {},
   "source": [
    "numpy também ofecere uma série de funções que podem ser usadas para transformar arrays:\n",
    "np.funções|\n",
    "---|\n",
    "cos()|\n",
    "sin()|\n",
    "tan()|\n",
    "arccos()|\n",
    "arcsin()|\n",
    "arctan()|\n",
    "log()|\n",
    "log2()|\n",
    "log10()|\n",
    "exp()|"
   ]
  },
  {
   "cell_type": "code",
   "execution_count": 21,
   "id": "e23107e2-118b-4cfc-bc27-ea51b0fd3376",
   "metadata": {},
   "outputs": [
    {
     "data": {
      "text/plain": [
       "array([-0.41614684,  0.28366219,  0.96017029,  1.        ,  0.87758256,\n",
       "        0.28366219])"
      ]
     },
     "execution_count": 21,
     "metadata": {},
     "output_type": "execute_result"
    }
   ],
   "source": [
    "np.cos(vtr)"
   ]
  },
  {
   "cell_type": "code",
   "execution_count": 22,
   "id": "cd0cf282-4dad-485e-93d5-5a7393f518b3",
   "metadata": {},
   "outputs": [
    {
     "data": {
      "text/plain": [
       "array([0.        , 0.69314718, 1.09861229, 1.38629436])"
      ]
     },
     "execution_count": 22,
     "metadata": {},
     "output_type": "execute_result"
    }
   ],
   "source": [
    "np.log(np.array([1, 2, 3, 4]))"
   ]
  },
  {
   "cell_type": "markdown",
   "id": "4996d025-ac8e-469b-b2d4-4de11b14a500",
   "metadata": {},
   "source": [
    "observe que as funções trigonométricas são nativamente em radianos."
   ]
  },
  {
   "cell_type": "markdown",
   "id": "353d7322-37b8-48d5-8a4b-5ed6db69ec6f",
   "metadata": {},
   "source": [
    "para valores muito pequenos, há, ainda, algumas funções que melhoram a precisão:"
   ]
  },
  {
   "cell_type": "markdown",
   "id": "0c739954-7f17-4b2c-a002-b9d312a20476",
   "metadata": {},
   "source": [
    "np.precisão|\n",
    "---|\n",
    "np.expm1()|\n",
    "np.log1p()|"
   ]
  },
  {
   "cell_type": "markdown",
   "id": "05e06246-5b64-445f-8eb6-f1e54adc6e5e",
   "metadata": {},
   "source": [
    "numpy oferece, também, constantes como\n",
    "np.constantes|\n",
    "---|\n",
    "pi()|\n",
    "e()|"
   ]
  },
  {
   "cell_type": "code",
   "execution_count": 23,
   "id": "cb9327be-df1e-4de5-a5e4-e89d79c6b93a",
   "metadata": {},
   "outputs": [
    {
     "data": {
      "text/plain": [
       "2.718281828459045"
      ]
     },
     "execution_count": 23,
     "metadata": {},
     "output_type": "execute_result"
    }
   ],
   "source": [
    "np.e"
   ]
  },
  {
   "cell_type": "markdown",
   "id": "7282cd8d-3ba8-4c27-a43b-7454d87401bc",
   "metadata": {},
   "source": [
    "e, estas constantes podem ser usadas para modificar arrays:"
   ]
  },
  {
   "cell_type": "code",
   "execution_count": 24,
   "id": "cba4562d-777a-44ab-940a-dd6a55855f0c",
   "metadata": {
    "tags": []
   },
   "outputs": [
    {
     "data": {
      "text/plain": [
       "array([ 3.14159265,  6.28318531,  9.42477796, 12.56637061])"
      ]
     },
     "execution_count": 24,
     "metadata": {},
     "output_type": "execute_result"
    }
   ],
   "source": [
    "np.pi * np.array([1, 2, 3, 4])"
   ]
  },
  {
   "cell_type": "markdown",
   "id": "c9564b22-e773-4581-8a3a-41e9c8799e9b",
   "metadata": {},
   "source": [
    "#### comparação\n",
    "---"
   ]
  },
  {
   "cell_type": "markdown",
   "id": "2618b18e-8e10-4d97-97f8-6f55591ba80c",
   "metadata": {},
   "source": [
    "assim como as funções aritméticas acima, temos que os operadores booleanos também funcionam entre arrays ou entre arrays e números:"
   ]
  },
  {
   "cell_type": "code",
   "execution_count": 25,
   "id": "c2c4221d-cd5a-4f07-be64-355c01f3e6da",
   "metadata": {
    "tags": []
   },
   "outputs": [
    {
     "data": {
      "text/plain": [
       "array([ 0.        ,  1.11111111,  2.22222222,  3.33333333,  4.44444444,\n",
       "        5.55555556,  6.66666667,  7.77777778,  8.88888889, 10.        ])"
      ]
     },
     "execution_count": 25,
     "metadata": {},
     "output_type": "execute_result"
    }
   ],
   "source": [
    "array = np.linspace(0, 10, 10)\n",
    "array"
   ]
  },
  {
   "cell_type": "code",
   "execution_count": 26,
   "id": "588dc58f-a72a-4dd6-8b54-7380abad1f36",
   "metadata": {
    "tags": []
   },
   "outputs": [
    {
     "data": {
      "text/plain": [
       "array([False, False, False, False,  True,  True,  True,  True,  True,\n",
       "        True])"
      ]
     },
     "execution_count": 26,
     "metadata": {},
     "output_type": "execute_result"
    }
   ],
   "source": [
    "array > 3.5"
   ]
  },
  {
   "cell_type": "markdown",
   "id": "1f7a8fcf-dc24-406d-b522-c27e4b13f357",
   "metadata": {},
   "source": [
    "nas operações booleanas, os resultados são sempre outro array informando se o valor daquele índice é verdadeiro ou falso. Ou seja, o valor do índice 2 no array original deve ser menor que 3.5 porque no array booleano, o índice dois é preenchido com `False`."
   ]
  },
  {
   "cell_type": "markdown",
   "id": "16ea5cae-65a8-4017-9e01-674e1e083cd5",
   "metadata": {},
   "source": [
    "todas as seis operações booleanas são suportadas pelos arrays de numpy:"
   ]
  },
  {
   "cell_type": "code",
   "execution_count": 27,
   "id": "fffb078d-b2d9-4a7a-92f1-d3d589e6388c",
   "metadata": {
    "tags": []
   },
   "outputs": [
    {
     "data": {
      "text/plain": [
       "array([ True,  True,  True,  True,  True,  True,  True,  True,  True,\n",
       "        True])"
      ]
     },
     "execution_count": 27,
     "metadata": {},
     "output_type": "execute_result"
    }
   ],
   "source": [
    "array != 1"
   ]
  },
  {
   "cell_type": "code",
   "execution_count": 28,
   "id": "efab84ff-ae68-4094-9a27-f53d3d96d8e6",
   "metadata": {
    "tags": []
   },
   "outputs": [
    {
     "data": {
      "text/plain": [
       "array([False, False, False, False, False, False, False, False, False,\n",
       "       False])"
      ]
     },
     "execution_count": 28,
     "metadata": {},
     "output_type": "execute_result"
    }
   ],
   "source": [
    "array >= 1000"
   ]
  },
  {
   "cell_type": "markdown",
   "id": "df3e2b93-4667-474c-bdbe-9a1b1c53289c",
   "metadata": {},
   "source": [
    "todas as funções booleanas nativas do python têm uma função correspondente do numpy:\n",
    "python|np.função()\n",
    "---|---|\n",
    "==|equal|\n",
    "!=|not_equal|\n",
    "<|less|\n",
    "<=|less_equal|\n",
    "\\>|greater|\n",
    "\\>=|greater_equal|\n",
    "&|bitwise_and|\n",
    "\\||bitwise_or|\n",
    "^|bitwise_xor|\n",
    "~|bitwise_not"
   ]
  },
  {
   "cell_type": "markdown",
   "id": "7182adc5-7cef-4d0f-aff1-69672055c9f6",
   "metadata": {},
   "source": [
    "por exemplo:"
   ]
  },
  {
   "cell_type": "code",
   "execution_count": 33,
   "id": "e21d7724-ae2b-4a9c-b00b-82c80077d1ae",
   "metadata": {
    "tags": []
   },
   "outputs": [
    {
     "data": {
      "text/plain": [
       "array([[1., 0., 0.],\n",
       "       [0., 1., 0.],\n",
       "       [0., 0., 1.]])"
      ]
     },
     "execution_count": 33,
     "metadata": {},
     "output_type": "execute_result"
    }
   ],
   "source": [
    "a = np.eye(3)\n",
    "a"
   ]
  },
  {
   "cell_type": "code",
   "execution_count": 34,
   "id": "e54f0ff0-7e24-4cbb-83ea-fdca4b1e19d1",
   "metadata": {
    "tags": []
   },
   "outputs": [
    {
     "data": {
      "text/plain": [
       "array([[ True, False, False],\n",
       "       [False,  True, False],\n",
       "       [False, False,  True]])"
      ]
     },
     "execution_count": 34,
     "metadata": {},
     "output_type": "execute_result"
    }
   ],
   "source": [
    "np.equal(a, 1)"
   ]
  },
  {
   "cell_type": "markdown",
   "id": "6d98beb9-30b7-4598-aeeb-a21f3cdaea04",
   "metadata": {},
   "source": [
    "é interessante notar que, para o numpy, todos os valores booleanos são interpretados como 0 e 1, assim: False = 0 e True = 1. assim, é possível fazer operações matemáticas com esses arrays booleanos:"
   ]
  },
  {
   "cell_type": "code",
   "execution_count": 35,
   "id": "30f2b16c-275b-4143-b5da-be47476b9085",
   "metadata": {
    "tags": []
   },
   "outputs": [
    {
     "data": {
      "text/plain": [
       "3"
      ]
     },
     "execution_count": 35,
     "metadata": {},
     "output_type": "execute_result"
    }
   ],
   "source": [
    "np.sum(np.equal(a, 1))"
   ]
  },
  {
   "cell_type": "code",
   "execution_count": 36,
   "id": "9cb59f0d-da6f-48d8-a6b5-9675e7ca5a70",
   "metadata": {
    "tags": []
   },
   "outputs": [
    {
     "data": {
      "text/plain": [
       "array([1, 1, 1])"
      ]
     },
     "execution_count": 36,
     "metadata": {},
     "output_type": "execute_result"
    }
   ],
   "source": [
    "np.prod(np.less_equal(a, 1), axis=0)"
   ]
  },
  {
   "cell_type": "code",
   "execution_count": 37,
   "id": "b109f785-3568-4758-960f-355f224ef80f",
   "metadata": {
    "tags": []
   },
   "outputs": [
    {
     "data": {
      "text/plain": [
       "False"
      ]
     },
     "execution_count": 37,
     "metadata": {},
     "output_type": "execute_result"
    }
   ],
   "source": [
    "np.all(a < 1)"
   ]
  },
  {
   "cell_type": "code",
   "execution_count": 38,
   "id": "5956ad77-44d4-49a0-8ff6-e842adc98958",
   "metadata": {
    "tags": []
   },
   "outputs": [
    {
     "data": {
      "text/plain": [
       "array([[ True,  True,  True],\n",
       "       [ True,  True,  True],\n",
       "       [ True,  True,  True]])"
      ]
     },
     "execution_count": 38,
     "metadata": {},
     "output_type": "execute_result"
    }
   ],
   "source": [
    "np.any(a < 1) & (np.not_equal(a, -1) | np.greater(a, 0))"
   ]
  },
  {
   "cell_type": "markdown",
   "id": "1f15c2ac-16ea-407d-a986-e767cbbdb952",
   "metadata": {},
   "source": [
    "especificamente a operação de soma é usada para verificar quantos True, ou seja, 1, houve com esta verificação."
   ]
  },
  {
   "cell_type": "markdown",
   "id": "3a9af007-2b4f-4e49-a0e2-1b176233d68a",
   "metadata": {},
   "source": [
    "essas operações booleanas podem ser usadas para encontrar valores que corresponderem à verificação:"
   ]
  },
  {
   "cell_type": "code",
   "execution_count": 39,
   "id": "f524009d-361b-4f29-983c-70a0cbf7574a",
   "metadata": {
    "tags": []
   },
   "outputs": [
    {
     "data": {
      "text/plain": [
       "array([[5, 0, 3, 3],\n",
       "       [7, 9, 3, 5],\n",
       "       [2, 4, 7, 6]])"
      ]
     },
     "execution_count": 39,
     "metadata": {},
     "output_type": "execute_result"
    }
   ],
   "source": [
    "x = np.array([[5, 0, 3, 3],[7, 9, 3, 5],[2, 4, 7, 6]])\n",
    "x"
   ]
  },
  {
   "cell_type": "code",
   "execution_count": 40,
   "id": "ca029a9f-4d68-4b2b-ba35-ddabc0ee3031",
   "metadata": {
    "tags": []
   },
   "outputs": [
    {
     "data": {
      "text/plain": [
       "array([7, 9, 7, 6])"
      ]
     },
     "execution_count": 40,
     "metadata": {},
     "output_type": "execute_result"
    }
   ],
   "source": [
    "x[x > 5]"
   ]
  }
 ],
 "metadata": {
  "kernelspec": {
   "display_name": "Python 3 (ipykernel)",
   "language": "python",
   "name": "python3"
  },
  "language_info": {
   "codemirror_mode": {
    "name": "ipython",
    "version": 3
   },
   "file_extension": ".py",
   "mimetype": "text/x-python",
   "name": "python",
   "nbconvert_exporter": "python",
   "pygments_lexer": "ipython3",
   "version": "3.10.6"
  }
 },
 "nbformat": 4,
 "nbformat_minor": 5
}
