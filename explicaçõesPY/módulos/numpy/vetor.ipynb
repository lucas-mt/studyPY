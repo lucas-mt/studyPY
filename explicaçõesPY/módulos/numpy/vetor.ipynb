{
 "cells": [
  {
   "cell_type": "markdown",
   "id": "53d9437b-ed09-42f2-a4b5-1dee10ecb128",
   "metadata": {},
   "source": [
    "## vetores\n",
    "---"
   ]
  },
  {
   "cell_type": "code",
   "execution_count": 1,
   "id": "78c37bf7-f36b-4b79-915c-1526a78a9231",
   "metadata": {},
   "outputs": [],
   "source": [
    "import numpy as np"
   ]
  },
  {
   "cell_type": "markdown",
   "id": "e115ed9c-7a5b-4a41-b180-8cdf362913e3",
   "metadata": {},
   "source": [
    "#### array()\n",
    "---"
   ]
  },
  {
   "cell_type": "markdown",
   "id": "597e6ded-a710-4205-b35c-b58ef1a4ffa6",
   "metadata": {},
   "source": [
    "uma forma de criar um vetor é passando um lista como parâmetro na função `.array()`"
   ]
  },
  {
   "cell_type": "code",
   "execution_count": 2,
   "id": "4c624ec6-8ee2-443f-b694-96b4f9042c6f",
   "metadata": {},
   "outputs": [
    {
     "data": {
      "text/plain": [
       "array([ 0,  1,  1,  2,  3,  5,  8, 13, 21, 34])"
      ]
     },
     "execution_count": 2,
     "metadata": {},
     "output_type": "execute_result"
    }
   ],
   "source": [
    "lista = [0, 1, 1, 2, 3, 5, 8, 13, 21, 34]\n",
    "vetor = np.array(lista)\n",
    "vetor"
   ]
  },
  {
   "cell_type": "markdown",
   "id": "92bd689a-0f9d-43ab-969a-399039c209fc",
   "metadata": {},
   "source": [
    "a função `.array()` também funciona para criar matrizes:"
   ]
  },
  {
   "cell_type": "code",
   "execution_count": 3,
   "id": "f3f14ceb-4eee-4fb6-96cb-f8c4de117c44",
   "metadata": {},
   "outputs": [
    {
     "data": {
      "text/plain": [
       "array([[0, 3],\n",
       "       [1, 4],\n",
       "       [2, 5]])"
      ]
     },
     "execution_count": 3,
     "metadata": {},
     "output_type": "execute_result"
    }
   ],
   "source": [
    "lista = [[i, i+3] for i in range(3)]\n",
    "mtx = np.array(lista)\n",
    "mtx"
   ]
  },
  {
   "cell_type": "markdown",
   "id": "8848a9ed-ca91-4f92-affb-fdf3c551ae62",
   "metadata": {},
   "source": [
    "inclusive, se passarmos uma matriz como parâmetro à função `list()`, é retornado várias listas, cada uma correspondendo a uma linha da matriz original."
   ]
  },
  {
   "cell_type": "code",
   "execution_count": 4,
   "id": "9977daa6-40f3-44e2-bf6c-1dafa9717bf5",
   "metadata": {
    "tags": []
   },
   "outputs": [
    {
     "data": {
      "text/plain": [
       "[[0, 3], [1, 4], [2, 5]]"
      ]
     },
     "execution_count": 4,
     "metadata": {},
     "output_type": "execute_result"
    }
   ],
   "source": [
    "list(lista)"
   ]
  },
  {
   "cell_type": "markdown",
   "id": "c7828142-e143-4c11-9d1a-1823c1fb039f",
   "metadata": {},
   "source": [
    "é importante observar que, diferente de python onde as listas podem conter diferentes tipos de dados, numpy não suporta tal coisa, por isso, se, por exemplo, tanta-se passar um valor *float* em um vetor ou matriz apenas com *int* pode resultar em erros:"
   ]
  },
  {
   "cell_type": "code",
   "execution_count": 6,
   "id": "9ebd27e9-0367-4980-98b2-5dbc792bacc7",
   "metadata": {},
   "outputs": [
    {
     "name": "stdout",
     "output_type": "stream",
     "text": [
      "[1 2 3 4 5]\n",
      "[3 2 3 4 5]\n"
     ]
    }
   ],
   "source": [
    "vt = np.array([1, 2, 3, 4, 5], dtype=np.int8)\n",
    "print(vt)\n",
    "\n",
    "vt[0] = 3.14\n",
    "print(vt)"
   ]
  },
  {
   "cell_type": "markdown",
   "id": "966df84c-1adb-4d73-9919-9cef11d9be01",
   "metadata": {},
   "source": [
    "observe que o valor *float* foi truncado."
   ]
  },
  {
   "cell_type": "markdown",
   "id": "d608c268-cb78-4c1d-8bce-ae929514cb24",
   "metadata": {},
   "source": [
    "#### atributos\n",
    "---"
   ]
  },
  {
   "cell_type": "markdown",
   "id": "f04fc3a1-2f01-42f8-b728-f42a4073a74a",
   "metadata": {},
   "source": [
    "`size` mostra a quantidade de informação que tem num array:"
   ]
  },
  {
   "cell_type": "code",
   "execution_count": 43,
   "id": "0a605983-49b8-4d9a-8006-7da090182002",
   "metadata": {
    "tags": []
   },
   "outputs": [
    {
     "name": "stdout",
     "output_type": "stream",
     "text": [
      "5\n",
      "6\n"
     ]
    }
   ],
   "source": [
    "vetor = np.arange(5)\n",
    "matriz = np.array([[1, 3], [2, 5], [3, 6]])\n",
    "\n",
    "print(f'{vetor.size}\\n{matriz.size}')"
   ]
  },
  {
   "cell_type": "markdown",
   "id": "b412b963-8c30-4e60-a68e-4bf8a8553c49",
   "metadata": {},
   "source": [
    "para saber o formato do array use o atributo `.shape`:"
   ]
  },
  {
   "cell_type": "code",
   "execution_count": 44,
   "id": "6295e13f-29db-49fc-be98-cc58f86ead72",
   "metadata": {
    "tags": []
   },
   "outputs": [
    {
     "name": "stdout",
     "output_type": "stream",
     "text": [
      "(5,)\n",
      "(3, 2)\n"
     ]
    }
   ],
   "source": [
    "print(f'{vetor.shape}\\n{matriz.shape}')"
   ]
  },
  {
   "cell_type": "markdown",
   "id": "3753441e-9d0e-4d03-9400-869d71864004",
   "metadata": {},
   "source": [
    "este atributo suporta métodos de splicing e indexing."
   ]
  },
  {
   "cell_type": "markdown",
   "id": "bb1ee880-e319-483e-b2b4-780c4e812008",
   "metadata": {},
   "source": [
    "como já se sabe, o formato de um array é um especificada em uma tupla onde o primeiro valor é referente às linhas e o segundo valor é referente às colunas: (linhas, colunas). Sabendo disso, pode-se mudar o formato de um array utilizando o atributo `.newaxis`:"
   ]
  },
  {
   "cell_type": "code",
   "execution_count": 45,
   "id": "f3b17d00-e97e-41b2-b183-edf0fce55091",
   "metadata": {
    "tags": []
   },
   "outputs": [
    {
     "name": "stdout",
     "output_type": "stream",
     "text": [
      "[0 1 2 3 4]\n",
      "[[0]\n",
      " [1]\n",
      " [2]\n",
      " [3]\n",
      " [4]]\n"
     ]
    }
   ],
   "source": [
    "# adicionando uma coluna ao array vetor\n",
    "nova_coluna = vetor[:, np.newaxis]\n",
    "print(f'{vetor}\\n{nova_coluna}')"
   ]
  },
  {
   "cell_type": "code",
   "execution_count": 46,
   "id": "4d69eca4-4b46-4ed2-9bb3-51bb103fde17",
   "metadata": {
    "tags": []
   },
   "outputs": [
    {
     "name": "stdout",
     "output_type": "stream",
     "text": [
      "[0 1 2 3 4]\n",
      "[[0 1 2 3 4]]\n"
     ]
    }
   ],
   "source": [
    "# adicionando uma linhas ao array vetor\n",
    "nova_linha = vetor[np.newaxis, :]\n",
    "print(f'{vetor}\\n{nova_linha}')"
   ]
  },
  {
   "cell_type": "markdown",
   "id": "8cdbed66-497e-4635-8306-f139a17e4da4",
   "metadata": {},
   "source": [
    "#### arange()\n",
    "---"
   ]
  },
  {
   "cell_type": "markdown",
   "id": "f9b341e7-762a-49fb-acc9-8e48b02eeb56",
   "metadata": {},
   "source": [
    "serve para criar vetores se este tiver valores sequenciais:"
   ]
  },
  {
   "cell_type": "code",
   "execution_count": 7,
   "id": "2721a7af-7187-42c1-9f25-cb875cd9b860",
   "metadata": {},
   "outputs": [
    {
     "data": {
      "text/plain": [
       "array([ 0,  1,  2,  3,  4,  5,  6,  7,  8,  9, 10, 11, 12, 13, 14])"
      ]
     },
     "execution_count": 7,
     "metadata": {},
     "output_type": "execute_result"
    }
   ],
   "source": [
    "v0 = np.arange(15)\n",
    "v0"
   ]
  },
  {
   "cell_type": "markdown",
   "id": "e96d3625-a998-4cd7-bbd1-c681c6baf835",
   "metadata": {},
   "source": [
    "observe que, semelhante ao slicing de listas, ao passarmos apenas um valor n, temos que aparece os valores de 0 a n-1.\n",
    "\n",
    "pode-se, também, assim como o slicing de listas, criar intervalos:"
   ]
  },
  {
   "cell_type": "code",
   "execution_count": 8,
   "id": "149c45dd-86fd-4a24-b59c-77e452805f83",
   "metadata": {},
   "outputs": [
    {
     "data": {
      "text/plain": [
       "array([17, 18, 19, 20, 21, 22])"
      ]
     },
     "execution_count": 8,
     "metadata": {},
     "output_type": "execute_result"
    }
   ],
   "source": [
    "v1 = np.arange(17, 23)\n",
    "v1"
   ]
  },
  {
   "cell_type": "markdown",
   "id": "8920de79-b070-4721-918d-55910b06dbdf",
   "metadata": {},
   "source": [
    "pode-se indicar o passo:"
   ]
  },
  {
   "cell_type": "code",
   "execution_count": 9,
   "id": "bfcad226-7a98-432f-8524-b349264cbe87",
   "metadata": {},
   "outputs": [
    {
     "data": {
      "text/plain": [
       "array([17, 19, 21, 23, 25, 27, 29])"
      ]
     },
     "execution_count": 9,
     "metadata": {},
     "output_type": "execute_result"
    }
   ],
   "source": [
    "v2 = np.arange(17, 30, 2)\n",
    "v2"
   ]
  },
  {
   "cell_type": "markdown",
   "id": "aec0d0a8-5a9e-4832-9c5d-dc45dacb49a8",
   "metadata": {},
   "source": [
    "pode-se fazer com valores decrescentes:"
   ]
  },
  {
   "cell_type": "code",
   "execution_count": 10,
   "id": "2f9d2b93-05d2-4244-afa4-e2240a3633d5",
   "metadata": {},
   "outputs": [
    {
     "data": {
      "text/plain": [
       "array([30, 29, 28, 27, 26, 25, 24, 23, 22, 21, 20, 19, 18])"
      ]
     },
     "execution_count": 10,
     "metadata": {},
     "output_type": "execute_result"
    }
   ],
   "source": [
    "v3 = np.arange(30, 17, -1)\n",
    "v3"
   ]
  },
  {
   "cell_type": "markdown",
   "id": "20d24834-f3b7-4367-bd3e-d26a828ddf6e",
   "metadata": {},
   "source": [
    "como se pode observar, os vetores de numpy são muito semelhantes às listas em python. Porém, é interessante notar que, diferente dos containeres em python, numpy aceita valores decimais em seus métodos de slicing:"
   ]
  },
  {
   "cell_type": "code",
   "execution_count": 11,
   "id": "7e7dca54-e5e6-4ad5-b953-a97b7fc7d8f5",
   "metadata": {},
   "outputs": [
    {
     "data": {
      "text/plain": [
       "array([30. , 29.5, 29. , 28.5, 28. , 27.5, 27. , 26.5, 26. , 25.5, 25. ,\n",
       "       24.5, 24. , 23.5, 23. , 22.5, 22. , 21.5, 21. , 20.5, 20. , 19.5,\n",
       "       19. , 18.5, 18. , 17.5])"
      ]
     },
     "execution_count": 11,
     "metadata": {},
     "output_type": "execute_result"
    }
   ],
   "source": [
    "v4 = np.arange(30, 17, -0.5)\n",
    "v4"
   ]
  },
  {
   "cell_type": "code",
   "execution_count": 12,
   "id": "4e2e8d13-1600-4d5c-997f-38789ed896ae",
   "metadata": {},
   "outputs": [
    {
     "data": {
      "text/plain": [
       "array([0, 1.57079632679490, 3.14159265358979, 4.71238898038469,\n",
       "       6.28318530717959, 7.85398163397448, 9.42477796076938,\n",
       "       10.9955742875643, 12.5663706143592, 14.1371669411541,\n",
       "       15.7079632679490], dtype=object)"
      ]
     },
     "execution_count": 12,
     "metadata": {},
     "output_type": "execute_result"
    }
   ],
   "source": [
    "import sympy as sp\n",
    "\n",
    "v5 = np.arange(0, 17, sp.N(sp.pi/2))\n",
    "v5"
   ]
  },
  {
   "cell_type": "markdown",
   "id": "df1b899f-1ec8-41e4-8039-ba033fdbb577",
   "metadata": {},
   "source": [
    "#### zeros() e ones()\n",
    "---"
   ]
  },
  {
   "cell_type": "markdown",
   "id": "75632b35-6776-4576-b100-e0190b1cc775",
   "metadata": {},
   "source": [
    "é uma função que cria vetores preenchidos com zeros, apenas:"
   ]
  },
  {
   "cell_type": "code",
   "execution_count": 13,
   "id": "ecdc9381-d399-47c0-9d43-d330056ae500",
   "metadata": {},
   "outputs": [
    {
     "data": {
      "text/plain": [
       "array([0., 0., 0., 0., 0., 0., 0., 0., 0., 0.])"
      ]
     },
     "execution_count": 13,
     "metadata": {},
     "output_type": "execute_result"
    }
   ],
   "source": [
    "zr = np.zeros(10)\n",
    "zr"
   ]
  },
  {
   "cell_type": "markdown",
   "id": "5d49764b-6e29-486e-aa7b-a686b1dbb337",
   "metadata": {},
   "source": [
    "observe que deve ser passado a quantidade de zeros que deseja-se. se quiser, pode passar o tipo de dado que será estes zeros:"
   ]
  },
  {
   "cell_type": "code",
   "execution_count": 14,
   "id": "8dce3132-9dcc-4d43-b7b4-01e95d74e649",
   "metadata": {},
   "outputs": [
    {
     "data": {
      "text/plain": [
       "array([0, 0, 0, 0, 0, 0, 0, 0, 0, 0], dtype=int8)"
      ]
     },
     "execution_count": 14,
     "metadata": {},
     "output_type": "execute_result"
    }
   ],
   "source": [
    "zr = np.zeros(10, dtype=np.int8)\n",
    "zr"
   ]
  },
  {
   "cell_type": "markdown",
   "id": "851c64df-db80-4d6a-b557-98648487b71b",
   "metadata": {},
   "source": [
    "ao invés de passar apenas um valor, uma tupla também pode ser usada para criar uma matriz de zeros, sendo o primeiro valor referente às linhas e o segundo valor referente às colunas."
   ]
  },
  {
   "cell_type": "code",
   "execution_count": 15,
   "id": "53783e3b-27f8-46bd-aa96-ff8010e69df0",
   "metadata": {},
   "outputs": [
    {
     "data": {
      "text/plain": [
       "array([[0., 0., 0., 0., 0.],\n",
       "       [0., 0., 0., 0., 0.],\n",
       "       [0., 0., 0., 0., 0.]])"
      ]
     },
     "execution_count": 15,
     "metadata": {},
     "output_type": "execute_result"
    }
   ],
   "source": [
    "mtx_zr = np.zeros((3, 5))\n",
    "mtx_zr"
   ]
  },
  {
   "cell_type": "markdown",
   "id": "59782e22-57d1-4adf-a180-a3d085ba8983",
   "metadata": {},
   "source": [
    "já a função `.ones()` se comporta da mesma forma que `.zeros()` podendo criar vetores e matriz contendo apenas o valor de um:"
   ]
  },
  {
   "cell_type": "code",
   "execution_count": 16,
   "id": "cc493fc4-04ef-49de-a9fc-3e62e1f8cfc7",
   "metadata": {},
   "outputs": [
    {
     "data": {
      "text/plain": [
       "array([[1.+0.j, 1.+0.j, 1.+0.j, 1.+0.j],\n",
       "       [1.+0.j, 1.+0.j, 1.+0.j, 1.+0.j],\n",
       "       [1.+0.j, 1.+0.j, 1.+0.j, 1.+0.j]], dtype=complex64)"
      ]
     },
     "execution_count": 16,
     "metadata": {},
     "output_type": "execute_result"
    }
   ],
   "source": [
    "um = np.ones((3, 4), dtype=np.complex64)\n",
    "um"
   ]
  },
  {
   "cell_type": "markdown",
   "id": "051da3c6-6402-4e64-8156-3b2669c9876e",
   "metadata": {},
   "source": [
    "#### full()\n",
    "---"
   ]
  },
  {
   "cell_type": "markdown",
   "id": "9605d8de-8fd6-45f2-b4af-1200afe12cac",
   "metadata": {},
   "source": [
    "de forma semelhante às funções `.zeros()` e `.ones()`, `.full()` serve para criar um vetor ou matriz cheia de apenas um único valor:"
   ]
  },
  {
   "cell_type": "code",
   "execution_count": 17,
   "id": "52548ee8-a2b6-4685-a8ea-3a0ebcc7384e",
   "metadata": {},
   "outputs": [
    {
     "data": {
      "text/plain": [
       "array([3.14, 3.14, 3.14, 3.14, 3.14, 3.14, 3.14, 3.14, 3.14, 3.14])"
      ]
     },
     "execution_count": 17,
     "metadata": {},
     "output_type": "execute_result"
    }
   ],
   "source": [
    "vlr = np.full(10, 3.14)\n",
    "vlr"
   ]
  },
  {
   "cell_type": "code",
   "execution_count": 18,
   "id": "784029ed-84e7-4a3e-bcbe-2541bc9e30ef",
   "metadata": {},
   "outputs": [
    {
     "data": {
      "text/plain": [
       "array([[2.72, 2.72, 2.72],\n",
       "       [2.72, 2.72, 2.72],\n",
       "       [2.72, 2.72, 2.72]])"
      ]
     },
     "execution_count": 18,
     "metadata": {},
     "output_type": "execute_result"
    }
   ],
   "source": [
    "mtx_vlr = np.full((3, 3), 2.72)\n",
    "mtx_vlr"
   ]
  },
  {
   "cell_type": "markdown",
   "id": "03fd1ed8-e748-4d21-98c7-2a26f098f59a",
   "metadata": {},
   "source": [
    "#### linspace()\n",
    "---"
   ]
  },
  {
   "cell_type": "markdown",
   "id": "385bfaf0-5392-4e1d-a51a-ea988188f8d9",
   "metadata": {},
   "source": [
    "é semelhante à função `.arange()`, porém, esta serve para criar um vetor onde o início e o final já são estabelecidos e, com  isto, este intervalo será dividido pelo valor passado no terceiro parâmetro:"
   ]
  },
  {
   "cell_type": "code",
   "execution_count": 19,
   "id": "b2fad5c4-c304-45c2-8330-06226fa10740",
   "metadata": {},
   "outputs": [
    {
     "data": {
      "text/plain": [
       "array([ 0. ,  2.5,  5. ,  7.5, 10. ])"
      ]
     },
     "execution_count": 19,
     "metadata": {},
     "output_type": "execute_result"
    }
   ],
   "source": [
    "spc = np.linspace(0, 10, 5)\n",
    "spc"
   ]
  },
  {
   "cell_type": "markdown",
   "id": "3807dd06-1d42-454b-a7cf-e7c1ca10dc94",
   "metadata": {},
   "source": [
    "compare com"
   ]
  },
  {
   "cell_type": "code",
   "execution_count": 20,
   "id": "f487dbfd-4d28-4de9-8156-0d53b8dbb11a",
   "metadata": {},
   "outputs": [
    {
     "data": {
      "text/plain": [
       "array([0, 5])"
      ]
     },
     "execution_count": 20,
     "metadata": {},
     "output_type": "execute_result"
    }
   ],
   "source": [
    "pulo = np.arange(0, 10, 5)\n",
    "pulo"
   ]
  },
  {
   "cell_type": "markdown",
   "id": "d1631024-3aa4-4c0d-8b55-bdbbd07d6630",
   "metadata": {},
   "source": [
    "observe que, se o terceiro valor não for passado, o valor padrão será 50:"
   ]
  },
  {
   "cell_type": "code",
   "execution_count": 21,
   "id": "07b9c56a-273b-4335-97f9-e697c183706c",
   "metadata": {},
   "outputs": [
    {
     "data": {
      "text/plain": [
       "array([ 0.        ,  0.20408163,  0.40816327,  0.6122449 ,  0.81632653,\n",
       "        1.02040816,  1.2244898 ,  1.42857143,  1.63265306,  1.83673469,\n",
       "        2.04081633,  2.24489796,  2.44897959,  2.65306122,  2.85714286,\n",
       "        3.06122449,  3.26530612,  3.46938776,  3.67346939,  3.87755102,\n",
       "        4.08163265,  4.28571429,  4.48979592,  4.69387755,  4.89795918,\n",
       "        5.10204082,  5.30612245,  5.51020408,  5.71428571,  5.91836735,\n",
       "        6.12244898,  6.32653061,  6.53061224,  6.73469388,  6.93877551,\n",
       "        7.14285714,  7.34693878,  7.55102041,  7.75510204,  7.95918367,\n",
       "        8.16326531,  8.36734694,  8.57142857,  8.7755102 ,  8.97959184,\n",
       "        9.18367347,  9.3877551 ,  9.59183673,  9.79591837, 10.        ])"
      ]
     },
     "execution_count": 21,
     "metadata": {},
     "output_type": "execute_result"
    }
   ],
   "source": [
    "np.linspace(0, 10)"
   ]
  },
  {
   "cell_type": "markdown",
   "id": "39578bb2-cdbc-47e7-a851-c898a804f3eb",
   "metadata": {},
   "source": [
    "também funciona para criar matrizes. Observe que a distância, então, trata-se da posição 1 do primeiro vetor até a posição 1 do segundo vetor, depois faz entre a posição do primeiro vetor até a posição do segundo vetor, e, assim, sucessivamente."
   ]
  },
  {
   "cell_type": "code",
   "execution_count": 22,
   "id": "37d1e0dc-352c-4b55-b7c0-c053bc46d2b8",
   "metadata": {},
   "outputs": [
    {
     "data": {
      "text/plain": [
       "array([[ 1.        ,  5.        ,  3.        ],\n",
       "       [ 2.        ,  3.88888889,  3.33333333],\n",
       "       [ 3.        ,  2.77777778,  3.66666667],\n",
       "       [ 4.        ,  1.66666667,  4.        ],\n",
       "       [ 5.        ,  0.55555556,  4.33333333],\n",
       "       [ 6.        , -0.55555556,  4.66666667],\n",
       "       [ 7.        , -1.66666667,  5.        ],\n",
       "       [ 8.        , -2.77777778,  5.33333333],\n",
       "       [ 9.        , -3.88888889,  5.66666667],\n",
       "       [10.        , -5.        ,  6.        ]])"
      ]
     },
     "execution_count": 22,
     "metadata": {},
     "output_type": "execute_result"
    }
   ],
   "source": [
    "np.linspace((1, 5, 3), (10, -5, 6), 10)"
   ]
  },
  {
   "cell_type": "markdown",
   "id": "d5cbfc0a-74e3-45a6-91e8-1e69c6d796bd",
   "metadata": {},
   "source": [
    "#### eye()\n",
    "---"
   ]
  },
  {
   "cell_type": "markdown",
   "id": "42fc75ce-b103-48c7-994a-8875c98c7f40",
   "metadata": {},
   "source": [
    "serve para criar a matriz identidade:"
   ]
  },
  {
   "cell_type": "code",
   "execution_count": 23,
   "id": "256c6d20-1125-47b5-ba29-d32d56b35522",
   "metadata": {},
   "outputs": [
    {
     "data": {
      "text/plain": [
       "array([[1., 0., 0., 0., 0.],\n",
       "       [0., 1., 0., 0., 0.],\n",
       "       [0., 0., 1., 0., 0.],\n",
       "       [0., 0., 0., 1., 0.],\n",
       "       [0., 0., 0., 0., 1.]])"
      ]
     },
     "execution_count": 23,
     "metadata": {},
     "output_type": "execute_result"
    }
   ],
   "source": [
    "np.eye(5)"
   ]
  },
  {
   "cell_type": "markdown",
   "id": "c4e5725f-0d4e-4fae-94c7-fcf63c385a12",
   "metadata": {},
   "source": [
    "#### empty()\n",
    "---"
   ]
  },
  {
   "cell_type": "markdown",
   "id": "a2a4edea-e8e2-427d-9d42-0cc313e101f6",
   "metadata": {},
   "source": [
    "serve para criar uma matriz ou vetor com o último valor que estiver armazenado na memória do computador:"
   ]
  },
  {
   "cell_type": "code",
   "execution_count": 24,
   "id": "7810b7f4-74d6-4bdb-a467-a18b1c709c12",
   "metadata": {},
   "outputs": [
    {
     "data": {
      "text/plain": [
       "array([ 1.        , -1.11111111,  0.33333333])"
      ]
     },
     "execution_count": 24,
     "metadata": {},
     "output_type": "execute_result"
    }
   ],
   "source": [
    "np.empty(3)"
   ]
  },
  {
   "cell_type": "code",
   "execution_count": 25,
   "id": "fc7ced55-2ff2-458a-a699-96cf940e9ca1",
   "metadata": {},
   "outputs": [
    {
     "data": {
      "text/plain": [
       "array([[4.68173050e-310, 0.00000000e+000, 0.00000000e+000,\n",
       "        0.00000000e+000],\n",
       "       [1.14587773e-312, 7.32121640e+169, 2.65260223e-032,\n",
       "        1.58660469e-047],\n",
       "       [2.21533752e+160, 2.98182574e+179, 4.11570451e+179,\n",
       "        1.17475443e+165]])"
      ]
     },
     "execution_count": 25,
     "metadata": {},
     "output_type": "execute_result"
    }
   ],
   "source": [
    "np.empty((3, 4))"
   ]
  },
  {
   "cell_type": "markdown",
   "id": "e5a3450c-541b-461c-ba17-31564511fd3f",
   "metadata": {},
   "source": [
    "#### reshape()\n",
    "---"
   ]
  },
  {
   "cell_type": "markdown",
   "id": "dc767398-2144-46a2-8a2c-e95ff3840cdb",
   "metadata": {},
   "source": [
    "é o método usado para reorganizar o vetor ou a matriz em outro formato. para isto, é preciso que o tamanho da array inicial combine com sua reformulação:"
   ]
  },
  {
   "cell_type": "code",
   "execution_count": 26,
   "id": "272589bc-dbba-4c5f-873c-7b061a9df626",
   "metadata": {},
   "outputs": [
    {
     "data": {
      "text/plain": [
       "array([1, 2, 3, 4, 5, 6, 7, 8, 9])"
      ]
     },
     "execution_count": 26,
     "metadata": {},
     "output_type": "execute_result"
    }
   ],
   "source": [
    "v0 = np.arange(1, 10)\n",
    "v0"
   ]
  },
  {
   "cell_type": "code",
   "execution_count": 27,
   "id": "338863d4-9394-450b-bb7a-01c638378f3b",
   "metadata": {},
   "outputs": [
    {
     "data": {
      "text/plain": [
       "array([[1, 2, 3],\n",
       "       [4, 5, 6],\n",
       "       [7, 8, 9]])"
      ]
     },
     "execution_count": 27,
     "metadata": {},
     "output_type": "execute_result"
    }
   ],
   "source": [
    "v0_re = v0.reshape((3, 3))\n",
    "v0_re"
   ]
  },
  {
   "cell_type": "markdown",
   "id": "c352480f-08cc-44dd-be8e-642531f2caa2",
   "metadata": {},
   "source": [
    "ou, então,"
   ]
  },
  {
   "cell_type": "code",
   "execution_count": 28,
   "id": "86e61d63-b583-4ff2-9836-dfef74012f0b",
   "metadata": {},
   "outputs": [
    {
     "data": {
      "text/plain": [
       "array([[1, 3, 4],\n",
       "       [1, 4, 2],\n",
       "       [1, 5, 2],\n",
       "       [3, 2, 4]])"
      ]
     },
     "execution_count": 28,
     "metadata": {},
     "output_type": "execute_result"
    }
   ],
   "source": [
    "v1 = np.random.randint(1, 6, (4, 3))\n",
    "v1"
   ]
  },
  {
   "cell_type": "code",
   "execution_count": 29,
   "id": "a868c54b-d4b9-4319-8d9f-a6a5cef46352",
   "metadata": {},
   "outputs": [
    {
     "data": {
      "text/plain": [
       "array([[1, 3, 4, 1],\n",
       "       [4, 2, 1, 5],\n",
       "       [2, 3, 2, 4]])"
      ]
     },
     "execution_count": 29,
     "metadata": {},
     "output_type": "execute_result"
    }
   ],
   "source": [
    "v1_re = v1.reshape(3, 4)\n",
    "v1_re"
   ]
  },
  {
   "cell_type": "markdown",
   "id": "cb45b70e-7797-4ca3-883f-688e56926e32",
   "metadata": {},
   "source": [
    "caso não saiba a combinação necessária para reformular o array pode-se usar o -1:"
   ]
  },
  {
   "cell_type": "code",
   "execution_count": 47,
   "id": "ef1baf48-8331-4022-ad39-26741531f88a",
   "metadata": {
    "tags": []
   },
   "outputs": [
    {
     "data": {
      "text/plain": [
       "array([[1, 3, 4, 1],\n",
       "       [4, 2, 1, 5],\n",
       "       [2, 3, 2, 4]])"
      ]
     },
     "execution_count": 47,
     "metadata": {},
     "output_type": "execute_result"
    }
   ],
   "source": [
    "v1.reshape(3, -1)"
   ]
  },
  {
   "cell_type": "markdown",
   "id": "fa9d8466-58b1-420d-8861-b27de3796099",
   "metadata": {},
   "source": [
    "ou"
   ]
  },
  {
   "cell_type": "code",
   "execution_count": 48,
   "id": "642ea8ae-f0b7-4c46-8cbf-b1ceb851f425",
   "metadata": {
    "tags": []
   },
   "outputs": [
    {
     "data": {
      "text/plain": [
       "array([[1, 3],\n",
       "       [4, 1],\n",
       "       [4, 2],\n",
       "       [1, 5],\n",
       "       [2, 3],\n",
       "       [2, 4]])"
      ]
     },
     "execution_count": 48,
     "metadata": {},
     "output_type": "execute_result"
    }
   ],
   "source": [
    "v1.reshape(-1, 2)"
   ]
  },
  {
   "cell_type": "markdown",
   "id": "375fb315-f7a0-40a4-ad85-e17a1bfffb93",
   "metadata": {},
   "source": [
    "#### unique()\n",
    "---"
   ]
  },
  {
   "cell_type": "markdown",
   "id": "6af6c702-8978-425e-8d71-ccb0ae743c49",
   "metadata": {},
   "source": [
    "quando um array tem muitos valores repetidos, pode-se usar esta função para que cada valor apareça apenas uma vez."
   ]
  },
  {
   "cell_type": "code",
   "execution_count": 30,
   "id": "b8e0705d-3787-4278-9cb4-4644fe92d10b",
   "metadata": {
    "tags": []
   },
   "outputs": [
    {
     "data": {
      "text/plain": [
       "array([1, 1, 2, 3, 4, 4, 5, 6, 5, 7, 8, 9, 1])"
      ]
     },
     "execution_count": 30,
     "metadata": {},
     "output_type": "execute_result"
    }
   ],
   "source": [
    "rep = np.array([1, 1, 2, 3, 4, 4, 5, 6, 5, 7, 8, 9, 1])\n",
    "rep"
   ]
  },
  {
   "cell_type": "code",
   "execution_count": 31,
   "id": "000ba1a6-5734-4b0d-bf57-d7a85dbc45a7",
   "metadata": {
    "tags": []
   },
   "outputs": [
    {
     "data": {
      "text/plain": [
       "array([1, 2, 3, 4, 5, 6, 7, 8, 9])"
      ]
     },
     "execution_count": 31,
     "metadata": {},
     "output_type": "execute_result"
    }
   ],
   "source": [
    "np.unique(rep)"
   ]
  },
  {
   "cell_type": "markdown",
   "id": "1574a519-65c2-4d58-ac27-50ffd6efc1e2",
   "metadata": {},
   "source": [
    "com o parâmetro `return_counts=True`, a função `.unique()` retorna um segundo array que informa a quantidade de vezes que cada número se repete:"
   ]
  },
  {
   "cell_type": "code",
   "execution_count": 32,
   "id": "35995320-53c1-45c5-968c-fe279504e8fb",
   "metadata": {
    "tags": []
   },
   "outputs": [
    {
     "data": {
      "text/plain": [
       "(array([1, 2, 3, 4, 5, 6, 7, 8, 9]), array([3, 1, 1, 2, 2, 1, 1, 1, 1]))"
      ]
     },
     "execution_count": 32,
     "metadata": {},
     "output_type": "execute_result"
    }
   ],
   "source": [
    "np.unique(rep, return_counts=True)"
   ]
  },
  {
   "cell_type": "markdown",
   "id": "6b7cc173-e4e9-4511-a203-76cce2b428b4",
   "metadata": {},
   "source": [
    "observe que a posição no segundo array corresponde à posição na primeira. Ou seja, no primeiro array o 3 está na posição 2. indo então à posição 2 no segundo array, tem-se o número 1, indicando que o 3 só aparece 1 vez no array original."
   ]
  }
 ],
 "metadata": {
  "kernelspec": {
   "display_name": "Python 3 (ipykernel)",
   "language": "python",
   "name": "python3"
  },
  "language_info": {
   "codemirror_mode": {
    "name": "ipython",
    "version": 3
   },
   "file_extension": ".py",
   "mimetype": "text/x-python",
   "name": "python",
   "nbconvert_exporter": "python",
   "pygments_lexer": "ipython3",
   "version": "3.10.6"
  }
 },
 "nbformat": 4,
 "nbformat_minor": 5
}
