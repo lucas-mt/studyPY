{
 "cells": [
  {
   "cell_type": "markdown",
   "id": "0da2a840-3b56-4dab-ae98-3046ba8845d9",
   "metadata": {},
   "source": [
    "## universal functions\n",
    "---"
   ]
  },
  {
   "cell_type": "markdown",
   "id": "e706791a-460e-48cd-adc3-f21d6baf938b",
   "metadata": {},
   "source": [
    "as funções universais apresentam uma forma de fazer operações diretamente com os arrays do numpy sem precisar passar com um código nativo do python, acelerando o tempo de compilação do código.\n",
    "\n",
    "este processo é chamado de vetorização (*vectorization*) e deve ser usado para substituir loops, principalmente, naquelas situações em que o array cresce ao longo do processo.\n",
    "\n",
    "um exemplo:"
   ]
  },
  {
   "cell_type": "code",
   "execution_count": 1,
   "id": "f646c7fc-d58b-434c-9886-cf0156e62771",
   "metadata": {
    "tags": []
   },
   "outputs": [
    {
     "data": {
      "text/plain": [
       "array([0.16666667, 1.        , 0.25      , 0.25      , 0.125     ])"
      ]
     },
     "execution_count": 1,
     "metadata": {},
     "output_type": "execute_result"
    }
   ],
   "source": [
    "import numpy as np\n",
    "np.random.seed(0)\n",
    "\n",
    "def compute_reciprocals(values):\n",
    "    output = np.empty(len(values))\n",
    "    for i in range(len(values)):\n",
    "        output[i] = 1.0 / values[i]\n",
    "    return output\n",
    "        \n",
    "values = np.random.randint(1, 10, size=5)\n",
    "compute_reciprocals(values)"
   ]
  },
  {
   "cell_type": "markdown",
   "id": "7aef88f7-92da-4b34-9917-266dc3d23494",
   "metadata": {},
   "source": [
    "observe quão lento é este código..."
   ]
  },
  {
   "cell_type": "code",
   "execution_count": 2,
   "id": "7a48a8ff-12fc-4c52-b00f-87879107ccfa",
   "metadata": {
    "tags": []
   },
   "outputs": [
    {
     "name": "stdout",
     "output_type": "stream",
     "text": [
      "2.5 s ± 701 ms per loop (mean ± std. dev. of 7 runs, 1 loop each)\n"
     ]
    }
   ],
   "source": [
    "big_array = np.random.randint(1, 100, size=1000000)\n",
    "%timeit compute_reciprocals(big_array)"
   ]
  },
  {
   "cell_type": "markdown",
   "id": "7e8bd8b0-ecab-4ccc-9fb4-abe656e02ef9",
   "metadata": {},
   "source": [
    "... quando comparado utilizando ufunc:"
   ]
  },
  {
   "cell_type": "code",
   "execution_count": 3,
   "id": "85745f98-99d5-4beb-8fe9-24bd3d9c1962",
   "metadata": {
    "tags": []
   },
   "outputs": [
    {
     "name": "stdout",
     "output_type": "stream",
     "text": [
      "3.11 ms ± 647 µs per loop (mean ± std. dev. of 7 runs, 100 loops each)\n"
     ]
    }
   ],
   "source": [
    "%timeit (1.0 / big_array)"
   ]
  },
  {
   "cell_type": "markdown",
   "id": "38093e02-22b4-413d-90b2-0f22c7fd9bb0",
   "metadata": {},
   "source": [
    "observe que isto pode ser usado com todo tipo de função numpy:"
   ]
  },
  {
   "cell_type": "code",
   "execution_count": 4,
   "id": "a11bfe07-25ac-4d9d-a9ae-9157984c8786",
   "metadata": {
    "tags": []
   },
   "outputs": [
    {
     "data": {
      "text/plain": [
       "array([0.        , 0.5       , 0.66666667, 0.75      , 0.8       ])"
      ]
     },
     "execution_count": 4,
     "metadata": {},
     "output_type": "execute_result"
    }
   ],
   "source": [
    "np.arange(5) / np.arange(1, 6)"
   ]
  },
  {
   "cell_type": "code",
   "execution_count": 5,
   "id": "1a86a076-39a1-49a4-838f-75cbdcc95741",
   "metadata": {
    "tags": []
   },
   "outputs": [
    {
     "data": {
      "text/plain": [
       "array([[  1,   2,   4],\n",
       "       [  8,  16,  32],\n",
       "       [ 64, 128, 256]])"
      ]
     },
     "execution_count": 5,
     "metadata": {},
     "output_type": "execute_result"
    }
   ],
   "source": [
    "x = np.arange(9).reshape((3, 3))\n",
    "2 ** x"
   ]
  },
  {
   "cell_type": "markdown",
   "id": "3f86ec8f-e2f6-4872-901b-4fce8438422a",
   "metadata": {},
   "source": [
    "#### operadores\n",
    "---"
   ]
  },
  {
   "cell_type": "markdown",
   "id": "942b658f-0aef-4cae-bdc4-f0af15f892de",
   "metadata": {},
   "source": [
    "são usados os operadores nativos do python para cálculos matemáticos: "
   ]
  },
  {
   "cell_type": "code",
   "execution_count": 6,
   "id": "c25a3e0f-b87b-4a22-bc5e-ef71e67a207c",
   "metadata": {
    "tags": []
   },
   "outputs": [
    {
     "name": "stdout",
     "output_type": "stream",
     "text": [
      "[19 22 28  4 29]\n",
      "soma: [24 27 33  9 34]\n",
      "subtração: [14 17 23 -1 24]\n",
      "multiplicação: [ 95 110 140  20 145]\n",
      "divisão: [3.8 4.4 5.6 0.8 5.8]\n",
      "exponenciação: [ 2476099  5153632 17210368     1024 20511149]\n",
      "módulo: [4 2 3 4 4]\n"
     ]
    }
   ],
   "source": [
    "array = np.random.randint(1, 30, 5)\n",
    "sa = array + 5\n",
    "suba = array - 5\n",
    "ma = array * 5\n",
    "da = array / 5\n",
    "ea = array**5\n",
    "moda = array%5\n",
    "print(f'{array}\\nsoma: {sa}\\nsubtração: {suba}\\nmultiplicação: {ma}\\ndivisão: {da}\\nexponenciação: {ea}\\nmódulo: {moda}')"
   ]
  },
  {
   "cell_type": "markdown",
   "id": "3c718d39-24da-4b53-a9a1-190631cb0e73",
   "metadata": {},
   "source": [
    "bem como,"
   ]
  },
  {
   "cell_type": "code",
   "execution_count": 7,
   "id": "9e291ef4-a73a-474b-bd9e-643b1c4dabb4",
   "metadata": {
    "tags": []
   },
   "outputs": [
    {
     "name": "stdout",
     "output_type": "stream",
     "text": [
      "[-19 -22 -28  -4 -29]\n",
      "[19 22 28  4 29]\n"
     ]
    }
   ],
   "source": [
    "print(f'{-array}\\n{abs(array)}')"
   ]
  },
  {
   "cell_type": "markdown",
   "id": "6571d6be-a7f0-4963-a523-ff61c28ac35a",
   "metadata": {},
   "source": [
    "todas essas operações podem ser substituídas por funções do numpy:\n",
    "\n",
    "\n",
    "operação|função\n",
    "---|---\n",
    "+|np.add()\n",
    "-|np.subtract()\n",
    "-|np.negative()\n",
    "\\*|np.multiply()\n",
    "/|np.devide()\n",
    "//|np.floor_devide()\n",
    "\\*\\*|np.power()\n",
    "%|np.mod()\n",
    "abs|np.absolute() ou np.abs()\n",
    "\n",
    "por exemplo:"
   ]
  },
  {
   "cell_type": "code",
   "execution_count": 8,
   "id": "144373a9-d7d5-424f-bbd2-aa9e43dc185c",
   "metadata": {
    "tags": []
   },
   "outputs": [
    {
     "name": "stdout",
     "output_type": "stream",
     "text": [
      "[-19 -22 -28  -4 -29]\n",
      "[24 27 33  9 34]\n"
     ]
    }
   ],
   "source": [
    "print(f'{np.negative(array)}\\n{np.add(array, 5)}')"
   ]
  },
  {
   "cell_type": "markdown",
   "id": "0f336360-a5a4-453b-be8c-152ca2e1202a",
   "metadata": {},
   "source": [
    "há muitos métodos que complementam estas funções, refinando seu uso:"
   ]
  },
  {
   "cell_type": "markdown",
   "id": "d7d34a59-4f43-420a-a8fe-e8329470c4f3",
   "metadata": {},
   "source": [
    "np.função.método|uso\n",
    "---|---\n",
    ".reduce()|itera o array e calcula seu valor\n",
    ".accumulate()|itera o array, calcula seu valor e mostra os passos\n",
    ".outer()|faz a operação entre duas arrays"
   ]
  },
  {
   "cell_type": "markdown",
   "id": "ea0f335d-c10f-486d-af79-72ee3a77b928",
   "metadata": {},
   "source": [
    "operações mais complexas podem ser feitas também:"
   ]
  },
  {
   "cell_type": "code",
   "execution_count": 9,
   "id": "271de864-5af5-42ee-b1cc-c4e9285cd1ed",
   "metadata": {
    "tags": []
   },
   "outputs": [
    {
     "name": "stdout",
     "output_type": "stream",
     "text": [
      "[19 22 28  4 29]\n",
      "--operação--\n",
      "[[ 2.  14.5 20.   2.5  4. ]\n",
      " [ 2.5 20.  20.  14.5 26.5]\n",
      " [ 2.5  2.5  4.   4.   6.5]\n",
      " [26.5 14.5 10.  10.  14.5]]\n"
     ]
    }
   ],
   "source": [
    "vec = np.random.randint(1, 10, (4, 5))\n",
    "op = (1/2)*vec**2 - 2*vec + 4\n",
    "print(f'{array}\\n--operação--\\n{op}')"
   ]
  },
  {
   "cell_type": "markdown",
   "id": "c7ed69d0-0264-431b-8d7f-e8ade4aa8ec0",
   "metadata": {},
   "source": [
    "#### argumento *out*\n",
    "---"
   ]
  },
  {
   "cell_type": "markdown",
   "id": "b89a9bc7-fbc8-4c60-82a0-d03e7a5d15ef",
   "metadata": {},
   "source": [
    "é usado quando é preciso criar muitas arrays sem que estas sejam necessárias futuramente no código. por isso, é possível criar uma array \"vazia\" para que o conteúdo desta seja mudado pelas informações que o usuário deseja no momento, e isto é possível usando o argumento `out=<array>`"
   ]
  },
  {
   "cell_type": "code",
   "execution_count": 10,
   "id": "c560e63f-a984-48fc-afaf-8fcd3a328e54",
   "metadata": {
    "tags": []
   },
   "outputs": [
    {
     "data": {
      "text/plain": [
       "array([ 0., 10., 20., 30., 40.])"
      ]
     },
     "execution_count": 10,
     "metadata": {},
     "output_type": "execute_result"
    }
   ],
   "source": [
    "x = np.arange(5)\n",
    "y = np.empty(5)\n",
    "np.multiply(x, 10, out=y)\n",
    "y"
   ]
  },
  {
   "cell_type": "markdown",
   "id": "44fffeb7-0ffd-425a-88df-598151e5eaf7",
   "metadata": {},
   "source": [
    "observe: `y` é um array coringa e seu conteúdo original não me importa. o que me importa é que `y` já existe e, com isso, não precisarei gastar mais espaço de memória quando precisar de outra array temporária."
   ]
  },
  {
   "cell_type": "code",
   "execution_count": 11,
   "id": "d84f4d0e-abca-4dbd-892e-4193da4e25c0",
   "metadata": {
    "tags": []
   },
   "outputs": [
    {
     "name": "stdout",
     "output_type": "stream",
     "text": [
      "[ 1.  0.  2.  0.  4.  0.  8.  0. 16.  0.]\n"
     ]
    }
   ],
   "source": [
    "y = np.zeros(10)\n",
    "np.power(2, x, out=y[::2])\n",
    "print(y)"
   ]
  },
  {
   "cell_type": "markdown",
   "id": "948a3230-c218-480c-ad13-0700fa9e48d7",
   "metadata": {},
   "source": [
    "atenção que o tamanho de `y` tem que \"encaixar direitinho\" na operação que está sendo realizada."
   ]
  },
  {
   "cell_type": "markdown",
   "id": "ff080ac7-261f-4d2f-98bb-9833ef442907",
   "metadata": {},
   "source": [
    "#### broadcasting\n",
    "---"
   ]
  },
  {
   "cell_type": "markdown",
   "id": "e2bce6ed-7f05-43be-808a-868d7ac926eb",
   "metadata": {},
   "source": [
    "como é possível observar, fazer operações com arrays é simples, como, por exemplo, somar todos os valores de um array pelo valor 5:"
   ]
  },
  {
   "cell_type": "code",
   "execution_count": 12,
   "id": "55af477d-f1d2-48d0-a4fb-2669c277e317",
   "metadata": {
    "tags": []
   },
   "outputs": [
    {
     "data": {
      "text/plain": [
       "array([0, 1, 2])"
      ]
     },
     "execution_count": 12,
     "metadata": {},
     "output_type": "execute_result"
    }
   ],
   "source": [
    "ar = np.arange(3)\n",
    "ar"
   ]
  },
  {
   "cell_type": "code",
   "execution_count": 24,
   "id": "00c29a07-5895-42eb-a51c-fcf46175ee48",
   "metadata": {
    "tags": []
   },
   "outputs": [
    {
     "data": {
      "text/plain": [
       "array([5, 6, 7])"
      ]
     },
     "execution_count": 24,
     "metadata": {},
     "output_type": "execute_result"
    }
   ],
   "source": [
    "ar + 5 # ou np.add(ar, 5)"
   ]
  },
  {
   "cell_type": "markdown",
   "id": "20da0ea0-c7b7-49db-a192-dfa19343638c",
   "metadata": {},
   "source": [
    "isto é chamado de broadcasting, ou seja, o valor 5, teoricamente falando, se transforma em um array de mesmo tamanho que a array `ar` e, assim, cada índice de um array se soma com o do outro: [a1, a2, a3] + [b1, b2, b3] = [a1 + b1, a2 + b2, a3 + b3]."
   ]
  },
  {
   "cell_type": "markdown",
   "id": "c9843d34-5e1f-4dca-ab86-9299bffaa12f",
   "metadata": {},
   "source": [
    "devido ao broadcasting, com numpy, é possível fazer operações com arrays de diferentes tamanhos"
   ]
  },
  {
   "cell_type": "code",
   "execution_count": 16,
   "id": "042fa869-da5d-401a-aa7d-ad1b0a9861aa",
   "metadata": {
    "tags": []
   },
   "outputs": [
    {
     "name": "stdout",
     "output_type": "stream",
     "text": [
      "[1 2 3]\n",
      "[[1]\n",
      " [2]\n",
      " [3]]\n"
     ]
    }
   ],
   "source": [
    "ar1 = np.array([1, 2, 3])\n",
    "ar2 = np.array([[1], [2], [3]])\n",
    "print(f'{ar1}\\n{ar2}')"
   ]
  },
  {
   "cell_type": "code",
   "execution_count": 17,
   "id": "f9b191aa-400a-4536-9ea0-132f0afe578e",
   "metadata": {
    "tags": []
   },
   "outputs": [
    {
     "data": {
      "text/plain": [
       "array([[2, 3, 4],\n",
       "       [3, 4, 5],\n",
       "       [4, 5, 6]])"
      ]
     },
     "execution_count": 17,
     "metadata": {},
     "output_type": "execute_result"
    }
   ],
   "source": [
    "ar1 + ar2"
   ]
  },
  {
   "cell_type": "markdown",
   "id": "1eb66c25-f3a8-4f3f-8d98-b9f3921ca286",
   "metadata": {},
   "source": [
    "explicando: o `ar1` se trasformou na seguinte matriz:"
   ]
  },
  {
   "cell_type": "code",
   "execution_count": 21,
   "id": "1d01727f-40c9-4c24-b634-1108e3511c26",
   "metadata": {
    "tags": []
   },
   "outputs": [
    {
     "data": {
      "text/plain": [
       "array([[1, 2, 3],\n",
       "       [1, 2, 3],\n",
       "       [1, 2, 3]])"
      ]
     },
     "execution_count": 21,
     "metadata": {},
     "output_type": "execute_result"
    }
   ],
   "source": [
    "ar1_bc = np.array([[1, 2, 3]]*3)\n",
    "ar1_bc"
   ]
  },
  {
   "cell_type": "markdown",
   "id": "69e2ff2c-9693-4980-a58a-679b324733f0",
   "metadata": {},
   "source": [
    "e o `ar2` se transformou na matriz:"
   ]
  },
  {
   "cell_type": "code",
   "execution_count": 23,
   "id": "0b152b57-5bb2-4e9b-854c-926d6cd196a2",
   "metadata": {
    "tags": []
   },
   "outputs": [
    {
     "data": {
      "text/plain": [
       "array([[1, 1, 1],\n",
       "       [2, 2, 2],\n",
       "       [3, 3, 3]])"
      ]
     },
     "execution_count": 23,
     "metadata": {},
     "output_type": "execute_result"
    }
   ],
   "source": [
    "ar2_bc = np.array([[1]*3, [2]*3, [3]*3])\n",
    "ar2_bc"
   ]
  },
  {
   "cell_type": "markdown",
   "id": "d48f16b7-67ef-4225-bcc7-9e3b007ac226",
   "metadata": {},
   "source": [
    "em seguida, elas se somaram, sempre em correspondência com seus índices."
   ]
  },
  {
   "cell_type": "markdown",
   "id": "7ef64c80-1a26-49b6-b6c4-f80d01e98b79",
   "metadata": {},
   "source": [
    "para que o broadcasting ocorra, é necessário observar as regras:\n",
    "1. se dois arrays diferem em seus número de dimensões, o formato daquele de menor dimensão é preenchido com o valor 1 (um) a partir do lado esquerdo;\n",
    "2. se os formatos dos arrays não combinam em nenhuma dimensão, o array com formato igual a 1 (um) em sua dimensão é esticada para combinar com o outro;\n",
    "3. se, em qualquer dimensão, os tamanhos dos arrays não combinarem nem nenhum deles têm dimensão igual a 1 (um), uma exceção ocorre."
   ]
  },
  {
   "cell_type": "markdown",
   "id": "c3655985-9e59-4052-95e9-f6aada48044c",
   "metadata": {},
   "source": [
    "observe que o broadcasting ocorre com todas as ufuncs, não só com a soma:"
   ]
  },
  {
   "cell_type": "code",
   "execution_count": 25,
   "id": "3f815ea8-3955-4e37-9084-fd2e687027f6",
   "metadata": {
    "tags": []
   },
   "outputs": [
    {
     "data": {
      "text/plain": [
       "array([[1, 2, 3],\n",
       "       [2, 4, 6],\n",
       "       [3, 6, 9]])"
      ]
     },
     "execution_count": 25,
     "metadata": {},
     "output_type": "execute_result"
    }
   ],
   "source": [
    "ar1 * ar2"
   ]
  },
  {
   "cell_type": "code",
   "execution_count": 27,
   "id": "d7a6e5ff-2310-4efd-9028-288579b359ee",
   "metadata": {
    "tags": []
   },
   "outputs": [
    {
     "data": {
      "text/plain": [
       "array([[ 0.,  1.,  2.],\n",
       "       [-1.,  0.,  1.],\n",
       "       [-2., -1.,  0.]])"
      ]
     },
     "execution_count": 27,
     "metadata": {},
     "output_type": "execute_result"
    }
   ],
   "source": [
    "np.log(np.exp(ar1) / np.exp(ar2))"
   ]
  },
  {
   "cell_type": "markdown",
   "id": "27c70823-1ca0-46fa-9ce9-06b1ce92eb82",
   "metadata": {},
   "source": [
    "observe, também, que o broadcasting funciona entre arrays, arrays e números, etc."
   ]
  },
  {
   "cell_type": "code",
   "execution_count": null,
   "id": "cc4a1b4a-0e1f-4ffe-b053-1e91c0c771f9",
   "metadata": {},
   "outputs": [],
   "source": []
  }
 ],
 "metadata": {
  "kernelspec": {
   "display_name": "Python 3 (ipykernel)",
   "language": "python",
   "name": "python3"
  },
  "language_info": {
   "codemirror_mode": {
    "name": "ipython",
    "version": 3
   },
   "file_extension": ".py",
   "mimetype": "text/x-python",
   "name": "python",
   "nbconvert_exporter": "python",
   "pygments_lexer": "ipython3",
   "version": "3.10.6"
  }
 },
 "nbformat": 4,
 "nbformat_minor": 5
}
