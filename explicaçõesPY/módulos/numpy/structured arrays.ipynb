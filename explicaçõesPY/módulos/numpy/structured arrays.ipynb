{
 "cells": [
  {
   "cell_type": "markdown",
   "id": "2c6fd35a-e9f7-4427-8721-1c603ed24e26",
   "metadata": {},
   "source": [
    "#### arrays estruturados\n",
    "---"
   ]
  },
  {
   "cell_type": "code",
   "execution_count": 1,
   "id": "08af2b65-5218-4b64-881f-7d2dbadf6570",
   "metadata": {
    "tags": []
   },
   "outputs": [],
   "source": [
    "import numpy as np"
   ]
  },
  {
   "cell_type": "markdown",
   "id": "541c2717-f767-43c0-bdb6-f0dec59c6b99",
   "metadata": {},
   "source": [
    "como dito na introdução, os arrays de numpy só suportam um tipo de dado por vezes:"
   ]
  },
  {
   "cell_type": "code",
   "execution_count": 7,
   "id": "c17549f3-b8a0-444d-9a24-aef7691eb183",
   "metadata": {
    "tags": []
   },
   "outputs": [
    {
     "data": {
      "text/plain": [
       "dtype('<U32')"
      ]
     },
     "execution_count": 7,
     "metadata": {},
     "output_type": "execute_result"
    }
   ],
   "source": [
    "x = np.array(['lucas', 23, 1.83])\n",
    "x.dtype"
   ]
  },
  {
   "cell_type": "markdown",
   "id": "1e47970d-bab6-4f23-9a17-7bed47e3d1ca",
   "metadata": {},
   "source": [
    "como pode ser visto, misturar diferentes informações em um único array causa problemas na interpretação dos tipos pelo numpy.\n",
    "\n",
    "para que isto não ocorra, é necessário fazer o seguinte:"
   ]
  },
  {
   "cell_type": "code",
   "execution_count": 8,
   "id": "77fc3d8e-0623-44de-9604-f6adb351e5aa",
   "metadata": {
    "tags": []
   },
   "outputs": [
    {
     "data": {
      "text/plain": [
       "array([('', 0, 0.), ('', 0, 0.), ('', 0, 0.), ('', 0, 0.)],\n",
       "      dtype=[('nome', '<U32'), ('idade', '<i4'), ('altura', '<f8')])"
      ]
     },
     "execution_count": 8,
     "metadata": {},
     "output_type": "execute_result"
    }
   ],
   "source": [
    "x = np.zeros(4, dtype={'names': ('nome', 'idade', 'altura'), 'formats': ('U32', 'i4', 'f8')})\n",
    "x"
   ]
  },
  {
   "cell_type": "markdown",
   "id": "a247ea4d-ff49-42c9-94f1-ef60b48d2fea",
   "metadata": {},
   "source": [
    "observe que foi criado um array com 4 posições vazias e nestas posições, três subposições que devem ser preenchidas. por correspondência, cada subposição equivale ao tipo especificado em `dtype`, não havendo mais erros na interpretação do tipo."
   ]
  },
  {
   "cell_type": "markdown",
   "id": "44adbdc2-7b08-4822-8d4c-0a8bac14f4fd",
   "metadata": {},
   "source": [
    "esses tipos podem ser acessados por indexing usando o nome passado em `dtype` ou o número do índice: "
   ]
  },
  {
   "cell_type": "code",
   "execution_count": 9,
   "id": "a1f5b2d3-6afb-448a-80ba-78d900a7ca3f",
   "metadata": {
    "tags": []
   },
   "outputs": [
    {
     "data": {
      "text/plain": [
       "array([('lucas', 23, 1.83), ('matheus', 23, 1.8 ), ('ronaldo', 26, 1.72),\n",
       "       ('jefferson', 21, 1.75)],\n",
       "      dtype=[('nome', '<U32'), ('idade', '<i4'), ('altura', '<f8')])"
      ]
     },
     "execution_count": 9,
     "metadata": {},
     "output_type": "execute_result"
    }
   ],
   "source": [
    "x['nome'] = ['lucas', 'matheus', 'ronaldo', 'jefferson']\n",
    "x['idade'] = [23, 23, 26, 21]\n",
    "x['altura'] = [1.83, 1.80, 1.72, 1.75]\n",
    "x"
   ]
  },
  {
   "cell_type": "markdown",
   "id": "190bbb29-e5b2-44f7-b37c-bca5815d0432",
   "metadata": {},
   "source": [
    "então,"
   ]
  },
  {
   "cell_type": "code",
   "execution_count": 10,
   "id": "692f6102-fb30-48fb-a5dc-b9209fb6ec3b",
   "metadata": {
    "tags": []
   },
   "outputs": [
    {
     "data": {
      "text/plain": [
       "array(['lucas', 'matheus', 'ronaldo', 'jefferson'], dtype='<U32')"
      ]
     },
     "execution_count": 10,
     "metadata": {},
     "output_type": "execute_result"
    }
   ],
   "source": [
    "x['nome']"
   ]
  },
  {
   "cell_type": "code",
   "execution_count": 11,
   "id": "d2ab42f1-8ed9-4620-b9e6-a5bfb39e1cb0",
   "metadata": {
    "tags": []
   },
   "outputs": [
    {
     "data": {
      "text/plain": [
       "('ronaldo', 26, 1.72)"
      ]
     },
     "execution_count": 11,
     "metadata": {},
     "output_type": "execute_result"
    }
   ],
   "source": [
    "x[2]"
   ]
  },
  {
   "cell_type": "code",
   "execution_count": 13,
   "id": "594d4965-eb10-40f2-afb5-09726d3607c7",
   "metadata": {
    "tags": []
   },
   "outputs": [
    {
     "data": {
      "text/plain": [
       "1.75"
      ]
     },
     "execution_count": 13,
     "metadata": {},
     "output_type": "execute_result"
    }
   ],
   "source": [
    "x[3]['altura']"
   ]
  },
  {
   "cell_type": "code",
   "execution_count": 17,
   "id": "0e441875-243f-41ef-8e2c-2836a7811043",
   "metadata": {
    "tags": []
   },
   "outputs": [
    {
     "data": {
      "text/plain": [
       "array(['lucas', 'matheus', 'jefferson'], dtype='<U32')"
      ]
     },
     "execution_count": 17,
     "metadata": {},
     "output_type": "execute_result"
    }
   ],
   "source": [
    "x[x['idade'] < 24]['nome']"
   ]
  },
  {
   "cell_type": "markdown",
   "id": "b91027f7-26a0-4f2b-9c9f-a75e44f406b6",
   "metadata": {},
   "source": [
    "esta forma de criar arrays estruturados é a forma de dicionário e as especificações de `dtype` podem ser feitas usando o padrão python, se desejar:"
   ]
  },
  {
   "cell_type": "code",
   "execution_count": 18,
   "id": "f66c3462-8fd3-4dab-808b-b59908b03e97",
   "metadata": {
    "tags": []
   },
   "outputs": [
    {
     "data": {
      "text/plain": [
       "array([('', 0, 0.), ('', 0, 0.), ('', 0, 0.), ('', 0, 0.)],\n",
       "      dtype=[('nome', '<U32'), ('idade', '<i8'), ('altura', '<f8')])"
      ]
     },
     "execution_count": 18,
     "metadata": {},
     "output_type": "execute_result"
    }
   ],
   "source": [
    "x = np.zeros(4, dtype={'names': ('nome', 'idade', 'altura'), 'formats': ((np.str_, 32), int, float)})\n",
    "x"
   ]
  },
  {
   "cell_type": "markdown",
   "id": "49190726-7598-45f9-b434-e0e5b171503f",
   "metadata": {},
   "source": [
    "mas, há outras formas de criar um array estruturado."
   ]
  },
  {
   "cell_type": "markdown",
   "id": "e266f55d-d334-425e-a0ef-d9f49c800873",
   "metadata": {},
   "source": [
    "uma delas é usando tuplas:"
   ]
  },
  {
   "cell_type": "code",
   "execution_count": 23,
   "id": "37ff43ce-7ee1-4bda-9676-b8c7f16bf598",
   "metadata": {
    "tags": []
   },
   "outputs": [
    {
     "data": {
      "text/plain": [
       "array([('', 0, 0.), ('', 0, 0.), ('', 0, 0.), ('', 0, 0.)],\n",
       "      dtype=[('nome', '<U32'), ('idade', '<i8'), ('altura', '<f8')])"
      ]
     },
     "execution_count": 23,
     "metadata": {},
     "output_type": "execute_result"
    }
   ],
   "source": [
    "x = np.zeros(4, dtype=([('nome', 'U32'), ('idade', int), ('altura', float)]))\n",
    "x"
   ]
  },
  {
   "cell_type": "markdown",
   "id": "9170f420-698c-4afb-999e-f3aecb0df7af",
   "metadata": {},
   "source": [
    "lembrando que é possível especificar apenas os formatos dos dados, sem precisar passar nomes:"
   ]
  },
  {
   "cell_type": "code",
   "execution_count": 27,
   "id": "f34c7b44-a81e-48f8-b6bb-4cbcbd209d90",
   "metadata": {
    "tags": []
   },
   "outputs": [
    {
     "data": {
      "text/plain": [
       "array([('', 0, 0.), ('', 0, 0.), ('', 0, 0.), ('', 0, 0.)],\n",
       "      dtype=[('f0', '<U32'), ('f1', '<i8'), ('f2', '<f8')])"
      ]
     },
     "execution_count": 27,
     "metadata": {},
     "output_type": "execute_result"
    }
   ],
   "source": [
    "x = np.zeros(4, dtype=(('U32, i8, f8')))\n",
    "x"
   ]
  },
  {
   "cell_type": "markdown",
   "id": "3d24cca6-d07f-41c2-821d-808d3c79af48",
   "metadata": {},
   "source": [
    "passando um terceiro argumento é possível dizer o tamanho e o formato do dado: um vetor ou matriz:"
   ]
  },
  {
   "cell_type": "code",
   "execution_count": 28,
   "id": "3913620c-7b7d-4c31-b516-7d2389b781d7",
   "metadata": {
    "tags": []
   },
   "outputs": [
    {
     "data": {
      "text/plain": [
       "array([('', 0, [0., 0., 0.]), ('', 0, [0., 0., 0.]),\n",
       "       ('', 0, [0., 0., 0.]), ('', 0, [0., 0., 0.])],\n",
       "      dtype=[('nome', '<U32'), ('idade', '<i8'), ('ponto', '<f8', (3,))])"
      ]
     },
     "execution_count": 28,
     "metadata": {},
     "output_type": "execute_result"
    }
   ],
   "source": [
    "x = np.zeros(4, dtype=([('nome', 'U32'), ('idade', int), ('ponto', float, 3)]))\n",
    "x"
   ]
  },
  {
   "cell_type": "code",
   "execution_count": 31,
   "id": "c6c6e184-a8a7-4240-a22f-0df2c5e0b019",
   "metadata": {
    "tags": []
   },
   "outputs": [
    {
     "data": {
      "text/plain": [
       "array([('', 0, [[0., 0.], [0., 0.], [0., 0.]]),\n",
       "       ('', 0, [[0., 0.], [0., 0.], [0., 0.]]),\n",
       "       ('', 0, [[0., 0.], [0., 0.], [0., 0.]]),\n",
       "       ('', 0, [[0., 0.], [0., 0.], [0., 0.]])],\n",
       "      dtype=[('nome', '<U32'), ('idade', '<i8'), ('ligações', '<f8', (3, 2))])"
      ]
     },
     "execution_count": 31,
     "metadata": {},
     "output_type": "execute_result"
    }
   ],
   "source": [
    "x = np.zeros(4, dtype=([('nome', 'U32'), ('idade', int), ('ligações', float, (3, 2))]))\n",
    "x"
   ]
  },
  {
   "cell_type": "markdown",
   "id": "78b97f23-e6a6-4aa6-ba17-964231bab978",
   "metadata": {},
   "source": [
    "os formatos, em numpy, segue o quadro:\n",
    "\n",
    "formato|descrição|exemplo\n",
    "---|---|---\n",
    "b|byte|\n",
    "iN|inteiro|np.dtype('i4')=np.int32\n",
    "uN|inteiro sem sinal|np.dtype('u1')=np.int8\n",
    "fN|real|np.dtype('f8')=np.float64\n",
    "cN|complexo|np.dtype('c16')=np.complex128\n",
    "SN|string|np.dtype('s1')=np.string8\n",
    "aN|string|np.dtype('a1')=np.string8\n",
    "U|unicode string|np.dtype('U')=np.str_\n",
    "V|dado sem tratamento|np.dtype('V')=np.void"
   ]
  },
  {
   "cell_type": "markdown",
   "id": "35cbf992-f9ae-4e03-815b-4dde2a0543c5",
   "metadata": {},
   "source": [
    "N representa que o formato recebe um valor indicando o tamanho máximo em bits."
   ]
  },
  {
   "cell_type": "markdown",
   "id": "40a6780a-f4e5-4272-a047-c0aa2bb51db2",
   "metadata": {},
   "source": [
    "#### recorded array\n",
    "---"
   ]
  },
  {
   "cell_type": "markdown",
   "id": "4126e27c-22ea-431a-b26f-1b38701720c3",
   "metadata": {},
   "source": [
    "sua funcionalidade é a mesma dos arrays estruturados, mudando apenas que recorded arrays é uma classe, `np.recarray()` e suas informações podem ser accessadas por atrubuições:"
   ]
  },
  {
   "cell_type": "code",
   "execution_count": 32,
   "id": "e1654833-5fd8-4096-a221-5070d9eb0b7f",
   "metadata": {
    "tags": []
   },
   "outputs": [
    {
     "data": {
      "text/plain": [
       "rec.array([('', 0, 0.), ('', 0, 0.), ('', 0, 0.), ('', 0, 0.)],\n",
       "          dtype=[('nome', '<U32'), ('idade', '<i4'), ('altura', '<f8')])"
      ]
     },
     "execution_count": 32,
     "metadata": {},
     "output_type": "execute_result"
    }
   ],
   "source": [
    "y = np.recarray(4, dtype={'names': ('nome', 'idade', 'altura'), 'formats': ('U32', 'i4', 'f8')})\n",
    "y"
   ]
  },
  {
   "cell_type": "code",
   "execution_count": 34,
   "id": "ce17bf36-e2f8-4912-ba38-601aeb195603",
   "metadata": {
    "tags": []
   },
   "outputs": [
    {
     "data": {
      "text/plain": [
       "rec.array([('lucas', 23, 1.83), ('matheus', 23, 1.8 ),\n",
       "           ('ronaldo', 26, 1.72), ('jefferson', 21, 1.75)],\n",
       "          dtype=[('nome', '<U32'), ('idade', '<i4'), ('altura', '<f8')])"
      ]
     },
     "execution_count": 34,
     "metadata": {},
     "output_type": "execute_result"
    }
   ],
   "source": [
    "y['nome'] = ['lucas', 'matheus', 'ronaldo', 'jefferson']\n",
    "y['idade'] = [23, 23, 26, 21]\n",
    "y['altura'] = [1.83, 1.80, 1.72, 1.75]\n",
    "y"
   ]
  },
  {
   "cell_type": "code",
   "execution_count": 35,
   "id": "27b349e3-307e-4846-99d2-a0ea1f8ba461",
   "metadata": {
    "tags": []
   },
   "outputs": [
    {
     "data": {
      "text/plain": [
       "array(['lucas', 'matheus', 'ronaldo', 'jefferson'], dtype='<U32')"
      ]
     },
     "execution_count": 35,
     "metadata": {},
     "output_type": "execute_result"
    }
   ],
   "source": [
    "y.nome"
   ]
  },
  {
   "cell_type": "code",
   "execution_count": 38,
   "id": "d9c47488-376f-48c8-a18f-6a0e03655aa9",
   "metadata": {
    "tags": []
   },
   "outputs": [
    {
     "data": {
      "text/plain": [
       "array([1.83, 1.8 , 1.75])"
      ]
     },
     "execution_count": 38,
     "metadata": {},
     "output_type": "execute_result"
    }
   ],
   "source": [
    "y.altura[y.idade<24]"
   ]
  },
  {
   "cell_type": "code",
   "execution_count": null,
   "id": "0b7e9ae2-fe64-414d-ba74-62989b00e8bd",
   "metadata": {},
   "outputs": [],
   "source": []
  }
 ],
 "metadata": {
  "kernelspec": {
   "display_name": "Python 3 (ipykernel)",
   "language": "python",
   "name": "python3"
  },
  "language_info": {
   "codemirror_mode": {
    "name": "ipython",
    "version": 3
   },
   "file_extension": ".py",
   "mimetype": "text/x-python",
   "name": "python",
   "nbconvert_exporter": "python",
   "pygments_lexer": "ipython3",
   "version": "3.10.6"
  }
 },
 "nbformat": 4,
 "nbformat_minor": 5
}
