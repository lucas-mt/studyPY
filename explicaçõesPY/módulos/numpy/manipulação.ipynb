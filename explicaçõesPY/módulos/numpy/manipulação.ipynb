{
 "cells": [
  {
   "cell_type": "markdown",
   "id": "9ab649be-81aa-4a43-a7be-5f9b366306dc",
   "metadata": {},
   "source": [
    "## manipulando arrays\n",
    "---"
   ]
  },
  {
   "cell_type": "markdown",
   "id": "321fa475-a23c-4253-965c-55a61be62f9d",
   "metadata": {},
   "source": [
    "#### splicing e indexing\n",
    "---"
   ]
  },
  {
   "cell_type": "code",
   "execution_count": 1,
   "id": "fc42d49b-a1ff-4e58-ad2a-fdfaee916337",
   "metadata": {},
   "outputs": [],
   "source": [
    "import numpy as np\n",
    "\n",
    "v0 = np.random.randint(0, 10, 5)\n",
    "v1 = np.random.randint(0, 10, (4, 3, 4))\n",
    "v2 = np.random.randint(0, 10, (2, 3))"
   ]
  },
  {
   "cell_type": "markdown",
   "id": "dbb9b2a9-dd54-429b-86e6-1470196d6d6b",
   "metadata": {},
   "source": [
    "os vetores e matrizes de numpy podem ser indexados e cortados de forma semelhante às listas em python:"
   ]
  },
  {
   "cell_type": "markdown",
   "id": "c5d5900c-9a29-4a61-99d4-742332b44fac",
   "metadata": {},
   "source": [
    "sabendo que o vetor `v0` é:"
   ]
  },
  {
   "cell_type": "code",
   "execution_count": 2,
   "id": "1977941e-4e0f-4ba7-946d-84db3268da34",
   "metadata": {},
   "outputs": [
    {
     "data": {
      "text/plain": [
       "array([3, 3, 7, 1, 4])"
      ]
     },
     "execution_count": 2,
     "metadata": {},
     "output_type": "execute_result"
    }
   ],
   "source": [
    "v0"
   ]
  },
  {
   "cell_type": "markdown",
   "id": "1375854f-993f-4981-a112-f64daaa1b026",
   "metadata": {},
   "source": [
    "pode-se, então, "
   ]
  },
  {
   "cell_type": "code",
   "execution_count": 3,
   "id": "522bd933-994e-45c1-ba36-60d0e2afb1af",
   "metadata": {},
   "outputs": [
    {
     "data": {
      "text/plain": [
       "1"
      ]
     },
     "execution_count": 3,
     "metadata": {},
     "output_type": "execute_result"
    }
   ],
   "source": [
    "v0[3]"
   ]
  },
  {
   "cell_type": "code",
   "execution_count": 4,
   "id": "a128901e-f9fb-4de8-a2e3-93f4967b6805",
   "metadata": {},
   "outputs": [
    {
     "data": {
      "text/plain": [
       "array([3, 3, 7])"
      ]
     },
     "execution_count": 4,
     "metadata": {},
     "output_type": "execute_result"
    }
   ],
   "source": [
    "v0[:3]"
   ]
  },
  {
   "cell_type": "code",
   "execution_count": 5,
   "id": "a04cf1eb-71c9-45dd-b60c-b0d6dfdecfd3",
   "metadata": {},
   "outputs": [
    {
     "data": {
      "text/plain": [
       "array([1, 4])"
      ]
     },
     "execution_count": 5,
     "metadata": {},
     "output_type": "execute_result"
    }
   ],
   "source": [
    "v0[3:]"
   ]
  },
  {
   "cell_type": "code",
   "execution_count": 6,
   "id": "c6952ce3-6a69-4538-8c9a-acb9964a9394",
   "metadata": {},
   "outputs": [
    {
     "data": {
      "text/plain": [
       "4"
      ]
     },
     "execution_count": 6,
     "metadata": {},
     "output_type": "execute_result"
    }
   ],
   "source": [
    "v0[-1]"
   ]
  },
  {
   "cell_type": "code",
   "execution_count": 7,
   "id": "7d391e73-105d-49f8-8148-30a905062be5",
   "metadata": {},
   "outputs": [
    {
     "data": {
      "text/plain": [
       "1"
      ]
     },
     "execution_count": 7,
     "metadata": {},
     "output_type": "execute_result"
    }
   ],
   "source": [
    "v0[-2]"
   ]
  },
  {
   "cell_type": "code",
   "execution_count": 8,
   "id": "95e28457-28f7-4109-8673-c702ce376274",
   "metadata": {},
   "outputs": [
    {
     "data": {
      "text/plain": [
       "array([4, 1, 7, 3, 3])"
      ]
     },
     "execution_count": 8,
     "metadata": {},
     "output_type": "execute_result"
    }
   ],
   "source": [
    "v0[::-1]"
   ]
  },
  {
   "cell_type": "markdown",
   "id": "1d52aff5-86ef-416d-acdd-34d21befb206",
   "metadata": {},
   "source": [
    "só para mostrar alguns exemplos.\n",
    "\n",
    "Pode mudar quando a dimensão for maior, pois, diferente das listas em python que recebem duas chaves, os arrays em numpy continuam recebendo apenas uma chave sendo os valores separados por vírgula:"
   ]
  },
  {
   "cell_type": "markdown",
   "id": "f6bed344-b649-419b-a1ec-7228c29b7d68",
   "metadata": {},
   "source": [
    "por exemplo, veja que `v2` é:"
   ]
  },
  {
   "cell_type": "code",
   "execution_count": 9,
   "id": "ab517467-0877-4f84-b638-9d8a6853b35b",
   "metadata": {},
   "outputs": [
    {
     "data": {
      "text/plain": [
       "array([[9, 4, 9],\n",
       "       [2, 4, 1]])"
      ]
     },
     "execution_count": 9,
     "metadata": {},
     "output_type": "execute_result"
    }
   ],
   "source": [
    "v2"
   ]
  },
  {
   "cell_type": "markdown",
   "id": "184944f0-1607-4d12-b20e-1f3118f0cc28",
   "metadata": {},
   "source": [
    "então,"
   ]
  },
  {
   "cell_type": "code",
   "execution_count": 10,
   "id": "82f8f7b4-1c2f-4ee9-8904-bd8d8d79857a",
   "metadata": {},
   "outputs": [
    {
     "data": {
      "text/plain": [
       "4"
      ]
     },
     "execution_count": 10,
     "metadata": {},
     "output_type": "execute_result"
    }
   ],
   "source": [
    "v2[1, 1]"
   ]
  },
  {
   "cell_type": "markdown",
   "id": "23aaed5a-a00d-4320-9b93-b0d29dea171f",
   "metadata": {},
   "source": [
    "mas, também funciona"
   ]
  },
  {
   "cell_type": "code",
   "execution_count": 11,
   "id": "aea9e61a-dd1f-4025-b133-3a5476ba3a27",
   "metadata": {},
   "outputs": [
    {
     "data": {
      "text/plain": [
       "1"
      ]
     },
     "execution_count": 11,
     "metadata": {},
     "output_type": "execute_result"
    }
   ],
   "source": [
    "v2[1][2]"
   ]
  },
  {
   "cell_type": "markdown",
   "id": "3c23cfc8-d27c-4793-8a3c-c244ea6a1d9e",
   "metadata": {},
   "source": [
    "com matrizes de dimensões maiores que 2, a ideia é a mesma:"
   ]
  },
  {
   "cell_type": "code",
   "execution_count": 12,
   "id": "09130180-92ea-4e48-ae32-8dc006ecf616",
   "metadata": {},
   "outputs": [
    {
     "data": {
      "text/plain": [
       "array([[[0, 1, 7, 1],\n",
       "        [5, 6, 5, 7],\n",
       "        [1, 5, 1, 8]],\n",
       "\n",
       "       [[0, 9, 1, 4],\n",
       "        [3, 6, 3, 7],\n",
       "        [0, 4, 1, 8]],\n",
       "\n",
       "       [[9, 3, 9, 8],\n",
       "        [3, 1, 7, 5],\n",
       "        [1, 4, 2, 3]],\n",
       "\n",
       "       [[2, 4, 9, 3],\n",
       "        [9, 0, 9, 7],\n",
       "        [8, 0, 4, 3]]])"
      ]
     },
     "execution_count": 12,
     "metadata": {},
     "output_type": "execute_result"
    }
   ],
   "source": [
    "v1"
   ]
  },
  {
   "cell_type": "code",
   "execution_count": 13,
   "id": "f351cf24-9b02-4d54-960b-b99258f3fbae",
   "metadata": {},
   "outputs": [
    {
     "data": {
      "text/plain": [
       "array([[9, 3, 9, 8],\n",
       "       [3, 1, 7, 5],\n",
       "       [1, 4, 2, 3]])"
      ]
     },
     "execution_count": 13,
     "metadata": {},
     "output_type": "execute_result"
    }
   ],
   "source": [
    "v1[2]"
   ]
  },
  {
   "cell_type": "code",
   "execution_count": 14,
   "id": "7f035029-aa48-4ec6-9aba-2a417a2b3650",
   "metadata": {},
   "outputs": [
    {
     "data": {
      "text/plain": [
       "array([3, 1, 7, 5])"
      ]
     },
     "execution_count": 14,
     "metadata": {},
     "output_type": "execute_result"
    }
   ],
   "source": [
    "v1[2, 1] # ou v1[2][1]"
   ]
  },
  {
   "cell_type": "code",
   "execution_count": 15,
   "id": "5de5e9be-d5cb-46a6-bfa0-673ec2c9ad65",
   "metadata": {},
   "outputs": [
    {
     "data": {
      "text/plain": [
       "3"
      ]
     },
     "execution_count": 15,
     "metadata": {},
     "output_type": "execute_result"
    }
   ],
   "source": [
    "v1[2, 1, 0] # ou v1[2][1][0]"
   ]
  },
  {
   "cell_type": "markdown",
   "id": "4b06f1b4-569e-41ea-97aa-a4f1cce9181c",
   "metadata": {},
   "source": [
    "observe que, também é possível, mudar um valor usando indexing e splicing:"
   ]
  },
  {
   "cell_type": "code",
   "execution_count": 16,
   "id": "6dfabc6f-b33a-4fd6-a98a-0e695e39fb5a",
   "metadata": {},
   "outputs": [
    {
     "data": {
      "text/plain": [
       "array([1, 3, 7, 1, 4])"
      ]
     },
     "execution_count": 16,
     "metadata": {},
     "output_type": "execute_result"
    }
   ],
   "source": [
    "v0[0] = 1\n",
    "v0"
   ]
  },
  {
   "cell_type": "markdown",
   "id": "7bd4762a-d5e5-4ce7-826f-70fdfc63e698",
   "metadata": {},
   "source": [
    "é importante observar que cada valor index dentro das chaves podem servir como splicing, também:"
   ]
  },
  {
   "cell_type": "code",
   "execution_count": 17,
   "id": "595190c0-03ee-4124-8acf-212331e33c26",
   "metadata": {},
   "outputs": [
    {
     "data": {
      "text/plain": [
       "array([[[0, 1, 7, 1],\n",
       "        [1, 5, 1, 8]],\n",
       "\n",
       "       [[0, 9, 1, 4],\n",
       "        [0, 4, 1, 8]],\n",
       "\n",
       "       [[9, 3, 9, 8],\n",
       "        [1, 4, 2, 3]]])"
      ]
     },
     "execution_count": 17,
     "metadata": {},
     "output_type": "execute_result"
    }
   ],
   "source": [
    "v1[:3, ::2]"
   ]
  },
  {
   "cell_type": "code",
   "execution_count": 18,
   "id": "7063067b-afab-4f18-af15-5c391babb255",
   "metadata": {},
   "outputs": [
    {
     "data": {
      "text/plain": [
       "array([1, 4, 2])"
      ]
     },
     "execution_count": 18,
     "metadata": {},
     "output_type": "execute_result"
    }
   ],
   "source": [
    "v2[-1, ::-1]"
   ]
  },
  {
   "cell_type": "markdown",
   "id": "85d8ce09-f203-4765-b2b3-9d730e96d047",
   "metadata": {},
   "source": [
    "#### cópias e visualizações\n",
    "---"
   ]
  },
  {
   "cell_type": "markdown",
   "id": "73fa2ef5-19e3-42c9-b6aa-b1ad2ab76070",
   "metadata": {},
   "source": [
    "diferente de python, quando um array passa pelo processo de splicing ou de index, o que o numpy mostra é só um visualizador, observe:"
   ]
  },
  {
   "cell_type": "code",
   "execution_count": 19,
   "id": "a2039a06-f46a-4015-9115-795963217fce",
   "metadata": {},
   "outputs": [
    {
     "data": {
      "text/plain": [
       "array([1, 3, 7, 1, 4])"
      ]
     },
     "execution_count": 19,
     "metadata": {},
     "output_type": "execute_result"
    }
   ],
   "source": [
    "v0"
   ]
  },
  {
   "cell_type": "code",
   "execution_count": 20,
   "id": "d45b938e-179c-46e7-a4bb-bdbbaa8295b4",
   "metadata": {},
   "outputs": [
    {
     "data": {
      "text/plain": [
       "array([3, 7])"
      ]
     },
     "execution_count": 20,
     "metadata": {},
     "output_type": "execute_result"
    }
   ],
   "source": [
    "v0_ = v0[1:3]\n",
    "v0_"
   ]
  },
  {
   "cell_type": "markdown",
   "id": "2b133bd0-94e0-45e3-a547-c048a1cbfc5f",
   "metadata": {},
   "source": [
    "se for feito alguma mudança em qualquer um desses vetores, o outro também será influenciado:"
   ]
  },
  {
   "cell_type": "code",
   "execution_count": 21,
   "id": "8a467801-224e-4253-b27a-c79d1a408349",
   "metadata": {},
   "outputs": [
    {
     "data": {
      "text/plain": [
       "array([0, 7])"
      ]
     },
     "execution_count": 21,
     "metadata": {},
     "output_type": "execute_result"
    }
   ],
   "source": [
    "v0_[0] = 0\n",
    "v0_"
   ]
  },
  {
   "cell_type": "code",
   "execution_count": 22,
   "id": "fc4a0007-8047-4644-922e-1931bb521246",
   "metadata": {},
   "outputs": [
    {
     "data": {
      "text/plain": [
       "array([1, 0, 7, 1, 4])"
      ]
     },
     "execution_count": 22,
     "metadata": {},
     "output_type": "execute_result"
    }
   ],
   "source": [
    "v0"
   ]
  },
  {
   "cell_type": "markdown",
   "id": "317fe248-6272-4706-a7f1-216cd4d78525",
   "metadata": {},
   "source": [
    "para, de fato, copiar um array é necessário usar o método `.copy()`"
   ]
  },
  {
   "cell_type": "code",
   "execution_count": 23,
   "id": "f5d395d9-862b-4c17-b313-94b6311194fa",
   "metadata": {},
   "outputs": [
    {
     "data": {
      "text/plain": [
       "array([0, 7])"
      ]
     },
     "execution_count": 23,
     "metadata": {},
     "output_type": "execute_result"
    }
   ],
   "source": [
    "v0_ = v0[1:3].copy()\n",
    "v0_"
   ]
  },
  {
   "cell_type": "markdown",
   "id": "78d6cecb-f93e-4372-842e-398db9467f00",
   "metadata": {},
   "source": [
    "assim,"
   ]
  },
  {
   "cell_type": "code",
   "execution_count": 24,
   "id": "05576e07-7e7c-45a7-922c-9e977f01c3f8",
   "metadata": {},
   "outputs": [
    {
     "data": {
      "text/plain": [
       "array([3, 7])"
      ]
     },
     "execution_count": 24,
     "metadata": {},
     "output_type": "execute_result"
    }
   ],
   "source": [
    "v0_[0] = 3\n",
    "v0_"
   ]
  },
  {
   "cell_type": "code",
   "execution_count": 25,
   "id": "5de52b11-48ad-4931-aa36-4c7539ebdfd6",
   "metadata": {},
   "outputs": [
    {
     "data": {
      "text/plain": [
       "array([1, 0, 7, 1, 4])"
      ]
     },
     "execution_count": 25,
     "metadata": {},
     "output_type": "execute_result"
    }
   ],
   "source": [
    "v0"
   ]
  },
  {
   "cell_type": "markdown",
   "id": "291ba501-7f47-44d4-ac5a-e15c1c88f3cb",
   "metadata": {},
   "source": [
    "#### concatenação e divisão\n",
    "---"
   ]
  },
  {
   "cell_type": "markdown",
   "id": "6059f3be-c3b4-409e-b6cf-a1543700a916",
   "metadata": {},
   "source": [
    "aqui, são processo diferentes da matemática, pois o que se deseja não é a divisão de um array por outro ou a soma de um array por outro, mas a divisão de um array em vários ou a junção de dois ou mais arrays separados."
   ]
  },
  {
   "cell_type": "markdown",
   "id": "8bea89d4-6ac5-4fe2-a9d5-fa3b40271328",
   "metadata": {},
   "source": [
    "como usar *+* faz a soma, é necessário usar o método `.concatenate()`"
   ]
  },
  {
   "cell_type": "code",
   "execution_count": 26,
   "id": "c6da1b22-ad85-49e7-9c80-968b07377943",
   "metadata": {},
   "outputs": [
    {
     "data": {
      "text/plain": [
       "array([ 6,  8, 10, 12])"
      ]
     },
     "execution_count": 26,
     "metadata": {},
     "output_type": "execute_result"
    }
   ],
   "source": [
    "ar1 = np.array([1, 2, 3, 4])\n",
    "ar2 = np.array([5, 6, 7, 8])\n",
    "\n",
    "ar1 + ar2"
   ]
  },
  {
   "cell_type": "markdown",
   "id": "011506b6-4136-4b5b-875d-749aada844da",
   "metadata": {},
   "source": [
    "porém,"
   ]
  },
  {
   "cell_type": "code",
   "execution_count": 27,
   "id": "bfee20f4-d19a-4cdd-9bf1-a96e9dcec7a3",
   "metadata": {},
   "outputs": [
    {
     "data": {
      "text/plain": [
       "array([1, 2, 3, 4, 5, 6, 7, 8])"
      ]
     },
     "execution_count": 27,
     "metadata": {},
     "output_type": "execute_result"
    }
   ],
   "source": [
    "np.concatenate([ar1, ar2])"
   ]
  },
  {
   "cell_type": "markdown",
   "id": "d45917a9-22c0-4f0d-8815-54d035c7688a",
   "metadata": {},
   "source": [
    "observe que a ordem importa:"
   ]
  },
  {
   "cell_type": "code",
   "execution_count": 28,
   "id": "5d7ed4e6-8b34-4e3b-85e6-472471cf8953",
   "metadata": {},
   "outputs": [
    {
     "data": {
      "text/plain": [
       "array([5, 6, 7, 8, 1, 2, 3, 4])"
      ]
     },
     "execution_count": 28,
     "metadata": {},
     "output_type": "execute_result"
    }
   ],
   "source": [
    "np.concatenate([ar2, ar1])"
   ]
  },
  {
   "cell_type": "markdown",
   "id": "acafa145-7218-4901-b9bc-78d2dbe449fa",
   "metadata": {},
   "source": [
    "isto serve para arrays com mais de uma dimensão, bem como pode ser feito com mais de duas arrays."
   ]
  },
  {
   "cell_type": "markdown",
   "id": "494140b9-60b7-4e77-9e46-a04598fc6bf5",
   "metadata": {},
   "source": [
    "quando trabalha-se com arrays de diferentes dimensões, é melhor usar os métodos `.vstack()` e `.hstack()`, servindo para forma uma array vertical ou horizontal, respectivamente."
   ]
  },
  {
   "cell_type": "code",
   "execution_count": 29,
   "id": "3953a02b-7622-4a53-a602-7af9d0b5c654",
   "metadata": {},
   "outputs": [
    {
     "data": {
      "text/plain": [
       "array([[1, 2, 3],\n",
       "       [3, 2, 1],\n",
       "       [4, 5, 6]])"
      ]
     },
     "execution_count": 29,
     "metadata": {},
     "output_type": "execute_result"
    }
   ],
   "source": [
    "ar1 = np.array([[1, 2, 3], [3, 2, 1]])\n",
    "ar2 = np.array([4, 5, 6])\n",
    "\n",
    "np.vstack([ar1, ar2])"
   ]
  },
  {
   "cell_type": "code",
   "execution_count": 30,
   "id": "5576c123-abad-498e-80a3-29b2b0df8371",
   "metadata": {},
   "outputs": [
    {
     "data": {
      "text/plain": [
       "array([[0, 1, 2, 3],\n",
       "       [1, 3, 2, 1]])"
      ]
     },
     "execution_count": 30,
     "metadata": {},
     "output_type": "execute_result"
    }
   ],
   "source": [
    "ar3 = np.array([[0], [1]])\n",
    "\n",
    "np.hstack([ar3, ar1])"
   ]
  },
  {
   "cell_type": "markdown",
   "id": "963c044e-79e0-49f1-8f0d-c8960338a4c4",
   "metadata": {},
   "source": [
    "o método `.dstack()` funciona com a terceira coordenada."
   ]
  },
  {
   "cell_type": "markdown",
   "id": "9f319156-3f30-4d29-b9f2-6b91fd4a55eb",
   "metadata": {},
   "source": [
    "já, para separar um array em outras arrays, usa-se os métodos `.split()`, `.hsplit()` e `.vsplit()`:"
   ]
  },
  {
   "cell_type": "markdown",
   "id": "eef2f148-1d02-4065-86a2-39062b8e0cea",
   "metadata": {},
   "source": [
    "estas funções devem receber como parâmetro a array original seguido, em uma tupla, os pontos que a divisão deverá ocorrer:"
   ]
  },
  {
   "cell_type": "code",
   "execution_count": 31,
   "id": "f693e1f8-e19b-4784-a520-3039f3ca5956",
   "metadata": {},
   "outputs": [
    {
     "data": {
      "text/plain": [
       "array([ 0,  1,  2,  3,  4,  5,  6,  7,  8,  9, 10, 11, 12, 13, 14, 15])"
      ]
     },
     "execution_count": 31,
     "metadata": {},
     "output_type": "execute_result"
    }
   ],
   "source": [
    "div = np.arange(16)\n",
    "div"
   ]
  },
  {
   "cell_type": "code",
   "execution_count": 32,
   "id": "867efa98-2df5-4e22-a11e-a55c9eab0f10",
   "metadata": {},
   "outputs": [],
   "source": [
    "d1, d2, d3, d4, d5, d6 = np.split(div, [2, 5, 8, 11, 14])"
   ]
  },
  {
   "cell_type": "code",
   "execution_count": 33,
   "id": "9c3e0042-2904-4e18-aa68-b8d74bc5bd21",
   "metadata": {},
   "outputs": [
    {
     "data": {
      "text/plain": [
       "array([0, 1])"
      ]
     },
     "execution_count": 33,
     "metadata": {},
     "output_type": "execute_result"
    }
   ],
   "source": [
    "d1"
   ]
  },
  {
   "cell_type": "code",
   "execution_count": 34,
   "id": "78639441-b2ff-4945-a943-80be828caaf3",
   "metadata": {},
   "outputs": [
    {
     "data": {
      "text/plain": [
       "array([2, 3, 4])"
      ]
     },
     "execution_count": 34,
     "metadata": {},
     "output_type": "execute_result"
    }
   ],
   "source": [
    "d2"
   ]
  },
  {
   "cell_type": "code",
   "execution_count": 35,
   "id": "3b660b8f-2155-4a4b-8675-6189e309912d",
   "metadata": {},
   "outputs": [
    {
     "data": {
      "text/plain": [
       "array([5, 6, 7])"
      ]
     },
     "execution_count": 35,
     "metadata": {},
     "output_type": "execute_result"
    }
   ],
   "source": [
    "d3"
   ]
  },
  {
   "cell_type": "code",
   "execution_count": 36,
   "id": "2f0a598c-bf07-4c14-8ffc-5c2db2c0e69f",
   "metadata": {},
   "outputs": [
    {
     "data": {
      "text/plain": [
       "array([ 8,  9, 10])"
      ]
     },
     "execution_count": 36,
     "metadata": {},
     "output_type": "execute_result"
    }
   ],
   "source": [
    "d4"
   ]
  },
  {
   "cell_type": "code",
   "execution_count": 37,
   "id": "38561127-b190-41a7-95d0-0ee72b1c6e78",
   "metadata": {},
   "outputs": [
    {
     "data": {
      "text/plain": [
       "array([11, 12, 13])"
      ]
     },
     "execution_count": 37,
     "metadata": {},
     "output_type": "execute_result"
    }
   ],
   "source": [
    "d5"
   ]
  },
  {
   "cell_type": "code",
   "execution_count": 38,
   "id": "370b1491-33d1-4cb7-ab39-0f455ba611e0",
   "metadata": {},
   "outputs": [
    {
     "data": {
      "text/plain": [
       "array([14, 15])"
      ]
     },
     "execution_count": 38,
     "metadata": {},
     "output_type": "execute_result"
    }
   ],
   "source": [
    "d6"
   ]
  },
  {
   "cell_type": "markdown",
   "id": "b07b4882-ccfd-4446-ab47-5cc73f0ef021",
   "metadata": {},
   "source": [
    "é importante observar que para n pontos de divisão, são formadas n+1 novas arrays.\n",
    "\n",
    "os demais métodos funcionam da forma semelhante:"
   ]
  },
  {
   "cell_type": "code",
   "execution_count": 39,
   "id": "1358e2cf-49f8-4da2-a29a-6bd5df6abed6",
   "metadata": {},
   "outputs": [],
   "source": [
    "v1, v2 = np.hsplit(div, [7])"
   ]
  },
  {
   "cell_type": "code",
   "execution_count": 40,
   "id": "76772154-c678-4218-b78e-1a36670c675c",
   "metadata": {},
   "outputs": [
    {
     "data": {
      "text/plain": [
       "array([0, 1, 2, 3, 4, 5, 6])"
      ]
     },
     "execution_count": 40,
     "metadata": {},
     "output_type": "execute_result"
    }
   ],
   "source": [
    "v1"
   ]
  },
  {
   "cell_type": "code",
   "execution_count": 41,
   "id": "0571300e-5322-4d8a-96d3-994461dd5a94",
   "metadata": {},
   "outputs": [
    {
     "data": {
      "text/plain": [
       "array([ 7,  8,  9, 10, 11, 12, 13, 14, 15])"
      ]
     },
     "execution_count": 41,
     "metadata": {},
     "output_type": "execute_result"
    }
   ],
   "source": [
    "v2"
   ]
  },
  {
   "cell_type": "code",
   "execution_count": 42,
   "id": "1288116b-7fd5-47e8-92de-86372426b83b",
   "metadata": {},
   "outputs": [
    {
     "data": {
      "text/plain": [
       "array([[ 0, 15],\n",
       "       [ 2,  5]])"
      ]
     },
     "execution_count": 42,
     "metadata": {},
     "output_type": "execute_result"
    }
   ],
   "source": [
    "div2 = np.array([[0, 15], [2, 5]])\n",
    "div2"
   ]
  },
  {
   "cell_type": "code",
   "execution_count": 43,
   "id": "f04ba942-efa0-41c1-8d08-c675ddaaa808",
   "metadata": {},
   "outputs": [],
   "source": [
    "h1, h2 = np.vsplit(div2, [1])"
   ]
  },
  {
   "cell_type": "code",
   "execution_count": 44,
   "id": "dd5005be-15b8-4ce8-8371-fdf7af655903",
   "metadata": {},
   "outputs": [
    {
     "data": {
      "text/plain": [
       "array([[ 0, 15]])"
      ]
     },
     "execution_count": 44,
     "metadata": {},
     "output_type": "execute_result"
    }
   ],
   "source": [
    "h1"
   ]
  },
  {
   "cell_type": "code",
   "execution_count": 45,
   "id": "1e443a67-e27f-4867-a65c-c51478e7a33c",
   "metadata": {},
   "outputs": [
    {
     "data": {
      "text/plain": [
       "array([[2, 5]])"
      ]
     },
     "execution_count": 45,
     "metadata": {},
     "output_type": "execute_result"
    }
   ],
   "source": [
    "h2"
   ]
  },
  {
   "cell_type": "markdown",
   "id": "82dd9d9b-bf3c-4457-b45b-b5eb03e3d56f",
   "metadata": {},
   "source": [
    "é importante lembrar que `.vsplit()` só funciona com arrays de dimensões maiores ou iguais a 2."
   ]
  },
  {
   "cell_type": "markdown",
   "id": "02936929-ce6d-4d72-9a2a-dd80dd9d16fd",
   "metadata": {},
   "source": [
    "#### sorting\n",
    "---"
   ]
  },
  {
   "cell_type": "markdown",
   "id": "dd15d23e-a0fa-4d03-8d88-6e828ae59e78",
   "metadata": {},
   "source": [
    "há duas formas: a primiera, usando `<vetor>.sort()` que não retorna nada, mas reorganiza o vetor original."
   ]
  },
  {
   "cell_type": "code",
   "execution_count": 46,
   "id": "dd61bf4b-5864-49cc-a59a-68f49eca5d83",
   "metadata": {},
   "outputs": [
    {
     "name": "stdout",
     "output_type": "stream",
     "text": [
      "None\n"
     ]
    }
   ],
   "source": [
    "vtr = np.array([4, 6, 2, 6, 2, 6, 8, 4, 2, 3, 5, 7, 8])\n",
    "std = vtr.sort()\n",
    "print(std)"
   ]
  },
  {
   "cell_type": "code",
   "execution_count": 47,
   "id": "eca3c061-6d6d-46ae-b1db-820bf6e4ad97",
   "metadata": {},
   "outputs": [
    {
     "name": "stdout",
     "output_type": "stream",
     "text": [
      "[2 2 2 3 4 4 5 6 6 6 7 8 8]\n"
     ]
    }
   ],
   "source": [
    "print(vtr)"
   ]
  },
  {
   "cell_type": "markdown",
   "id": "55e6dc8f-d727-4860-baf0-234e09b42f7a",
   "metadata": {},
   "source": [
    "a outra forma, de fato, constrói um novo vetor, `np.sort(<vetor>)`, enquanto que o vetor original permanece inalterado."
   ]
  },
  {
   "cell_type": "code",
   "execution_count": 63,
   "id": "10b5e63b-3e02-433b-b28d-7aa60765a671",
   "metadata": {},
   "outputs": [
    {
     "data": {
      "text/plain": [
       "array([2, 2, 3, 4, 4, 5, 6, 6, 6, 7, 8, 8])"
      ]
     },
     "execution_count": 63,
     "metadata": {},
     "output_type": "execute_result"
    }
   ],
   "source": [
    "vtr = np.array([4, 6, 2, 6, 2, 6, 8, 4, 3, 5, 7, 8])\n",
    "std = np.sort(vtr)\n",
    "std"
   ]
  },
  {
   "cell_type": "markdown",
   "id": "d33234ae-7540-461e-960e-43bfb1c6b415",
   "metadata": {},
   "source": [
    "nesta última forma, é, ainda, possível passar como parâmetro, `kind=`, que interfere diretamente na velocidade do programa."
   ]
  },
  {
   "cell_type": "markdown",
   "id": "fe83af5e-d887-43aa-a0cb-5867d4c5cf94",
   "metadata": {},
   "source": [
    "usando `axis` como parâmetro de `np.sort()` é possível organizar a matriz em relação às linhas, usando `axis=0`, ou em relação às colunas, usando `axis=1`"
   ]
  },
  {
   "cell_type": "code",
   "execution_count": 64,
   "id": "df44c0c1-6b6f-45f3-ab75-877fa02cb550",
   "metadata": {
    "tags": []
   },
   "outputs": [
    {
     "data": {
      "text/plain": [
       "array([[2, 4, 6],\n",
       "       [2, 6, 6],\n",
       "       [3, 4, 8],\n",
       "       [5, 7, 8]])"
      ]
     },
     "execution_count": 64,
     "metadata": {},
     "output_type": "execute_result"
    }
   ],
   "source": [
    "mtz = vtr.reshape(4, 3)\n",
    "np.sort(mtz, axis=1)"
   ]
  },
  {
   "cell_type": "code",
   "execution_count": 65,
   "id": "9c4ceefc-45d7-4091-a674-3af5a9f8b415",
   "metadata": {
    "tags": []
   },
   "outputs": [
    {
     "data": {
      "text/plain": [
       "array([[4, 2, 2],\n",
       "       [5, 4, 3],\n",
       "       [6, 6, 6],\n",
       "       [8, 7, 8]])"
      ]
     },
     "execution_count": 65,
     "metadata": {},
     "output_type": "execute_result"
    }
   ],
   "source": [
    "mtz = vtr.reshape(4, 3)\n",
    "np.sort(mtz, axis=0)"
   ]
  },
  {
   "cell_type": "markdown",
   "id": "1d95103b-1e29-49a9-b780-54bf01cc092b",
   "metadata": {},
   "source": [
    "a função `.argsort()` recebe um array e retorna um outro array mostrando os índices do array original posicionados nos seus novos locais:"
   ]
  },
  {
   "cell_type": "code",
   "execution_count": 49,
   "id": "ef5d0fa3-eef5-440d-ac61-e277ede81433",
   "metadata": {
    "tags": []
   },
   "outputs": [
    {
     "data": {
      "text/plain": [
       "array([ 2,  4,  8,  9,  0,  7, 10,  1,  3,  5, 11,  6, 12])"
      ]
     },
     "execution_count": 49,
     "metadata": {},
     "output_type": "execute_result"
    }
   ],
   "source": [
    "i = np.argsort(vtr)\n",
    "i"
   ]
  },
  {
   "cell_type": "markdown",
   "id": "16a8c263-86d7-4716-9399-46f929484be8",
   "metadata": {},
   "source": [
    "#### partition\n",
    "---"
   ]
  },
  {
   "cell_type": "markdown",
   "id": "b049e307-2f0b-49d0-9649-05e1ae6e0c1f",
   "metadata": {},
   "source": [
    "é uma forma de, não necessariamente organizar o array como o sorting, mas particioná-lo, por exemplo, se desejar saber todos os valores do array que são menores que determinado número, a função `partition()` irá organisar este array com tais valores no lado esquerdo e os demais, no direito:"
   ]
  },
  {
   "cell_type": "code",
   "execution_count": 66,
   "id": "76e6d8dd-5fa9-4936-a3c8-46a46d743c83",
   "metadata": {
    "tags": []
   },
   "outputs": [
    {
     "data": {
      "text/plain": [
       "array([2, 1, 3, 4, 6, 5, 7])"
      ]
     },
     "execution_count": 66,
     "metadata": {},
     "output_type": "execute_result"
    }
   ],
   "source": [
    "x = np.array([7, 2, 3, 1, 6, 5, 4])\n",
    "np.partition(x, 3)"
   ]
  },
  {
   "cell_type": "markdown",
   "id": "7659d122-21a8-4100-81ff-19eb15db2591",
   "metadata": {},
   "source": [
    "o parâmetro `axis` também funciona aqui:"
   ]
  },
  {
   "cell_type": "code",
   "execution_count": 67,
   "id": "df912dfa-6956-4370-9403-333ff32e6ff2",
   "metadata": {
    "tags": []
   },
   "outputs": [
    {
     "data": {
      "text/plain": [
       "array([[4, 4, 3],\n",
       "       [5, 2, 2],\n",
       "       [6, 6, 6],\n",
       "       [8, 7, 8]])"
      ]
     },
     "execution_count": 67,
     "metadata": {},
     "output_type": "execute_result"
    }
   ],
   "source": [
    "np.partition(mtz, 3, axis=0)"
   ]
  },
  {
   "cell_type": "code",
   "execution_count": 70,
   "id": "a453f74e-1f8a-4b91-b39f-633b8cb8256a",
   "metadata": {
    "tags": []
   },
   "outputs": [
    {
     "data": {
      "text/plain": [
       "array([[2, 4, 6],\n",
       "       [2, 6, 6],\n",
       "       [3, 4, 8],\n",
       "       [5, 7, 8]])"
      ]
     },
     "execution_count": 70,
     "metadata": {},
     "output_type": "execute_result"
    }
   ],
   "source": [
    "np.partition(mtz, 2, axis=1)"
   ]
  },
  {
   "cell_type": "markdown",
   "id": "e3680aba-9ebf-4bf7-9e5d-cd395ce76748",
   "metadata": {},
   "source": [
    "a função `.argpartition()` mostra os índices originais: onde eles foram parar."
   ]
  },
  {
   "cell_type": "code",
   "execution_count": 73,
   "id": "f9a85a5f-fcb5-48a9-b3b6-e398d10e1944",
   "metadata": {
    "tags": []
   },
   "outputs": [
    {
     "data": {
      "text/plain": [
       "array([[2, 0, 1],\n",
       "       [1, 0, 2],\n",
       "       [2, 1, 0],\n",
       "       [0, 1, 2]])"
      ]
     },
     "execution_count": 73,
     "metadata": {},
     "output_type": "execute_result"
    }
   ],
   "source": [
    "np.argpartition(mtz, 2, axis=1)"
   ]
  },
  {
   "cell_type": "markdown",
   "id": "681724d2-38ec-41a8-8113-2c562c99c27c",
   "metadata": {},
   "source": [
    "#### fancy indexing\n",
    "---"
   ]
  },
  {
   "cell_type": "markdown",
   "id": "03ab7bfa-5c50-49c2-92f8-ac4c95429189",
   "metadata": {},
   "source": [
    "é o uso de um array para indexar vários elementos de outro array de uma vez só:"
   ]
  },
  {
   "cell_type": "code",
   "execution_count": 50,
   "id": "35692564-044b-45ea-aca1-6f82aa4e185b",
   "metadata": {
    "tags": []
   },
   "outputs": [
    {
     "data": {
      "text/plain": [
       "array([6, 6, 4])"
      ]
     },
     "execution_count": 50,
     "metadata": {},
     "output_type": "execute_result"
    }
   ],
   "source": [
    "lst = [3, 5, 7]\n",
    "vtr[lst]"
   ]
  },
  {
   "cell_type": "markdown",
   "id": "6b1558ce-f1ff-4350-b507-58ac16356da2",
   "metadata": {},
   "source": [
    "o resultado deste indexamento reflete o formato do array que é usado no indexing. então, mesmo se o array é apenas um vetor (unidimensional), se o array index for uma matriz (multidimensional), assim também será o retorno:"
   ]
  },
  {
   "cell_type": "code",
   "execution_count": 51,
   "id": "687e839e-a2a1-4933-8f6f-7504a2e16d96",
   "metadata": {
    "tags": []
   },
   "outputs": [
    {
     "data": {
      "text/plain": [
       "array([[2, 2],\n",
       "       [8, 2]])"
      ]
     },
     "execution_count": 51,
     "metadata": {},
     "output_type": "execute_result"
    }
   ],
   "source": [
    "lst = [[2, 4], [6, 8]]\n",
    "vtr[lst]"
   ]
  },
  {
   "cell_type": "markdown",
   "id": "8f1a7aa9-367b-4ba3-ae78-0867beb83d67",
   "metadata": {},
   "source": [
    "para usar em matrizes, é necessário ter dois valores para cada resultado: um indicando a linha e outro, a coluna."
   ]
  },
  {
   "cell_type": "code",
   "execution_count": 52,
   "id": "45e6fa8b-4414-4202-916e-478d0db9363a",
   "metadata": {
    "tags": []
   },
   "outputs": [
    {
     "data": {
      "text/plain": [
       "array([[0.82649107, 0.90605413, 0.34853676, 0.07727414],\n",
       "       [0.87152522, 0.03501532, 0.07008956, 0.7216208 ],\n",
       "       [0.2978712 , 0.78846922, 0.9664158 , 0.82632224]])"
      ]
     },
     "execution_count": 52,
     "metadata": {},
     "output_type": "execute_result"
    }
   ],
   "source": [
    "nvrt = np.random.random(12).reshape(3, 4)\n",
    "nvrt"
   ]
  },
  {
   "cell_type": "code",
   "execution_count": 53,
   "id": "43cc059d-d6b0-4729-a2c7-b08997878fd3",
   "metadata": {
    "tags": []
   },
   "outputs": [
    {
     "data": {
      "text/plain": [
       "array([0.34853676, 0.03501532, 0.82632224])"
      ]
     },
     "execution_count": 53,
     "metadata": {},
     "output_type": "execute_result"
    }
   ],
   "source": [
    "l1 = [0, 1, 2]\n",
    "l2 = [2, 1, 3]\n",
    "nvrt[l1, l2]"
   ]
  },
  {
   "cell_type": "markdown",
   "id": "907bc1ad-2327-4ebc-998a-555647b04ac3",
   "metadata": {},
   "source": [
    "observe que todas as operações de broadcasting funcionam aqui."
   ]
  },
  {
   "cell_type": "markdown",
   "id": "ff3afa22-17dd-4967-96c9-84116276a666",
   "metadata": {},
   "source": [
    "é, também, possível combinar fancy indexing com indexagem normal:"
   ]
  },
  {
   "cell_type": "code",
   "execution_count": 54,
   "id": "4bf0de1f-afcd-4831-8cf3-40e43c366efa",
   "metadata": {
    "tags": []
   },
   "outputs": [
    {
     "data": {
      "text/plain": [
       "array([0.2978712 , 0.78846922, 0.9664158 ])"
      ]
     },
     "execution_count": 54,
     "metadata": {},
     "output_type": "execute_result"
    }
   ],
   "source": [
    "nvrt[2, l1]"
   ]
  },
  {
   "cell_type": "markdown",
   "id": "c23ff80e-92f6-4820-a0de-eaef5d986232",
   "metadata": {},
   "source": [
    "como, também, é possível combinar fancy indexing com slicing:"
   ]
  },
  {
   "cell_type": "code",
   "execution_count": 55,
   "id": "9a750013-d3c9-40a2-aa83-c29b085b2d4a",
   "metadata": {
    "tags": []
   },
   "outputs": [
    {
     "data": {
      "text/plain": [
       "array([[0.07008956, 0.7216208 , 0.87152522],\n",
       "       [0.9664158 , 0.82632224, 0.2978712 ]])"
      ]
     },
     "execution_count": 55,
     "metadata": {},
     "output_type": "execute_result"
    }
   ],
   "source": [
    "nvrt[1:, [2, 3, 0]]"
   ]
  },
  {
   "cell_type": "markdown",
   "id": "e9ef81d9-7b0a-4bd1-a50b-00fdcd53ae30",
   "metadata": {},
   "source": [
    "ou, combinar fancy indexing com busca booleana (masking):"
   ]
  },
  {
   "cell_type": "code",
   "execution_count": 56,
   "id": "ad9f4916-fbf5-4eb5-87d8-c1618492f4a5",
   "metadata": {
    "tags": []
   },
   "outputs": [
    {
     "data": {
      "text/plain": [
       "array([[0.82649107, 0.90605413, 0.34853676, 0.07727414],\n",
       "       [0.2978712 , 0.78846922, 0.9664158 , 0.82632224],\n",
       "       [0.87152522, 0.03501532, 0.07008956, 0.7216208 ]])"
      ]
     },
     "execution_count": 56,
     "metadata": {},
     "output_type": "execute_result"
    }
   ],
   "source": [
    "nvrt[[0, 2, 1], True]"
   ]
  },
  {
   "cell_type": "markdown",
   "id": "2dfa795d-a676-414e-baad-3b009faaed4b",
   "metadata": {},
   "source": [
    " fancy indexing pode ser usado modificar valores de um array:"
   ]
  },
  {
   "cell_type": "code",
   "execution_count": 57,
   "id": "296e19e7-674e-4762-b058-3546b5a7e59a",
   "metadata": {
    "tags": []
   },
   "outputs": [
    {
     "data": {
      "text/plain": [
       "array([[0.82649107, 0.90605413, 0.34853676, 0.        ],\n",
       "       [0.87152522, 0.03501532, 0.07008956, 0.7216208 ],\n",
       "       [0.2978712 , 0.        , 0.9664158 , 0.82632224]])"
      ]
     },
     "execution_count": 57,
     "metadata": {},
     "output_type": "execute_result"
    }
   ],
   "source": [
    "nvrt[[2, 0], [1, 3]] = 0\n",
    "nvrt"
   ]
  },
  {
   "cell_type": "markdown",
   "id": "7379282d-ab49-4d48-91f4-6dca99c8dc43",
   "metadata": {},
   "source": [
    "ou, ainda,"
   ]
  },
  {
   "cell_type": "code",
   "execution_count": 58,
   "id": "7b64d604-e890-40fb-813e-ccf0d9894450",
   "metadata": {
    "tags": []
   },
   "outputs": [
    {
     "data": {
      "text/plain": [
       "array([[ 0.82649107,  0.90605413,  0.34853676,  1.        ],\n",
       "       [ 0.87152522,  0.03501532,  0.07008956,  0.7216208 ],\n",
       "       [ 0.2978712 , -1.        ,  0.9664158 ,  0.82632224]])"
      ]
     },
     "execution_count": 58,
     "metadata": {},
     "output_type": "execute_result"
    }
   ],
   "source": [
    "nvrt[[2, 0], [1, 3]] = [-1, 1]\n",
    "nvrt"
   ]
  },
  {
   "cell_type": "markdown",
   "id": "5178f0b4-494d-43c4-938f-7e8fe1d7ed86",
   "metadata": {},
   "source": [
    "agora, observe a situação:"
   ]
  },
  {
   "cell_type": "code",
   "execution_count": 59,
   "id": "05b66ffc-1211-4485-a093-c10c7144c1ee",
   "metadata": {
    "tags": []
   },
   "outputs": [],
   "source": [
    "x = np.array([0.08064271, 0.89231438, 0.83275888, 0.7712335 , 0.1229183 ,0.78625759, 0.10916164, 0.66906475, 0.12576102, 0.02976726])"
   ]
  },
  {
   "cell_type": "code",
   "execution_count": 60,
   "id": "be821956-28bd-4e5d-9300-41afab6584d9",
   "metadata": {
    "tags": []
   },
   "outputs": [
    {
     "data": {
      "text/plain": [
       "array([1.08064271, 0.89231438, 1.83275888, 0.7712335 , 1.1229183 ,\n",
       "       0.78625759, 1.10916164, 0.66906475, 0.12576102, 0.02976726])"
      ]
     },
     "execution_count": 60,
     "metadata": {},
     "output_type": "execute_result"
    }
   ],
   "source": [
    "y = x.copy()\n",
    "i = [0, 2, 2, 4, 2, 6]\n",
    "y[i] += 1\n",
    "y"
   ]
  },
  {
   "cell_type": "markdown",
   "id": "ab3f34c8-38a6-4db9-b378-e85b309d5766",
   "metadata": {},
   "source": [
    "observe que, no índice 2, o valor não é somando por um três vezes, como é pedido através da lista `i`, só contando a partir da última vez em que o dois aparece.\n",
    "\n",
    "se, de fato, quiser que o índice 2 tenha seu valor somado por um três vezes, é necessário usar o ufunc `add.at()`"
   ]
  },
  {
   "cell_type": "code",
   "execution_count": 61,
   "id": "0fb72ce9-de23-4afa-a747-21fff249782d",
   "metadata": {
    "tags": []
   },
   "outputs": [
    {
     "data": {
      "text/plain": [
       "array([1.08064271, 0.89231438, 3.83275888, 0.7712335 , 1.1229183 ,\n",
       "       0.78625759, 1.10916164, 0.66906475, 0.12576102, 0.02976726])"
      ]
     },
     "execution_count": 61,
     "metadata": {},
     "output_type": "execute_result"
    }
   ],
   "source": [
    "y = x.copy()\n",
    "i = [0, 2, 2, 4, 2, 6]\n",
    "np.add.at(y, i, 1)\n",
    "y"
   ]
  },
  {
   "cell_type": "markdown",
   "id": "f004da67-01d3-47b2-8684-64557ad3ad5b",
   "metadata": {},
   "source": [
    "observe que `add.at()` recebe primeiro a matriz daqual será modificada, depois a lista de índices e, por  último, o valor de modificação."
   ]
  },
  {
   "cell_type": "code",
   "execution_count": null,
   "id": "dcaccd99-8e99-4b92-a520-1e20c90047e5",
   "metadata": {},
   "outputs": [],
   "source": []
  }
 ],
 "metadata": {
  "kernelspec": {
   "display_name": "Python 3 (ipykernel)",
   "language": "python",
   "name": "python3"
  },
  "language_info": {
   "codemirror_mode": {
    "name": "ipython",
    "version": 3
   },
   "file_extension": ".py",
   "mimetype": "text/x-python",
   "name": "python",
   "nbconvert_exporter": "python",
   "pygments_lexer": "ipython3",
   "version": "3.10.6"
  }
 },
 "nbformat": 4,
 "nbformat_minor": 5
}
