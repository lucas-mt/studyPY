{
 "cells": [
  {
   "cell_type": "markdown",
   "id": "e0f7c802-06d7-496c-9495-aa8f724fd7b5",
   "metadata": {},
   "source": [
    "## valores aleatórios\n",
    "---"
   ]
  },
  {
   "cell_type": "code",
   "execution_count": 1,
   "id": "f277db99-2a39-4a2e-a545-dedf2e09f36f",
   "metadata": {},
   "outputs": [],
   "source": [
    "import numpy.random as rd"
   ]
  },
  {
   "cell_type": "markdown",
   "id": "9142d502-da25-4eae-b49d-bf382a450ad6",
   "metadata": {},
   "source": [
    "é uma classe e, com isso, um objeto pode ser feito:"
   ]
  },
  {
   "cell_type": "code",
   "execution_count": 2,
   "id": "1f79b206-85b3-4a57-abc2-4756a282be4a",
   "metadata": {},
   "outputs": [],
   "source": [
    "alea = rd.default_rng()"
   ]
  },
  {
   "cell_type": "markdown",
   "id": "ebcb3ca8-34cb-40b1-800c-c2820d8ce058",
   "metadata": {},
   "source": [
    "este objeto, `alea`, servirá para criar números aleatórios, já que este é um objeto da classe `rd.default_rng()`, que significa gerador numérico aleatório padrão."
   ]
  },
  {
   "cell_type": "markdown",
   "id": "a6ad2750-1ec9-483e-ae5d-f7ec77788dd9",
   "metadata": {},
   "source": [
    "assim, com o método `.integers()`, é gerado um valor inteiro aleatório entre o valor mínimo e máximo passad pelo usuário."
   ]
  },
  {
   "cell_type": "code",
   "execution_count": 3,
   "id": "282c93fd-1436-4dc0-83d9-817ff8a50d91",
   "metadata": {},
   "outputs": [
    {
     "data": {
      "text/plain": [
       "6"
      ]
     },
     "execution_count": 3,
     "metadata": {},
     "output_type": "execute_result"
    }
   ],
   "source": [
    "alea.integers(1, 10)"
   ]
  },
  {
   "cell_type": "markdown",
   "id": "3d4edebb-2676-4310-8ddd-1078acad8783",
   "metadata": {},
   "source": [
    "com este método, também é possível criar arrays usando o parâmetro `size=`"
   ]
  },
  {
   "cell_type": "code",
   "execution_count": 4,
   "id": "4b554fbb-1070-4201-9fe8-34b3f0ce2fb7",
   "metadata": {},
   "outputs": [
    {
     "data": {
      "text/plain": [
       "array([8, 5, 5, 7, 4, 5, 8, 8, 3, 1], dtype=int64)"
      ]
     },
     "execution_count": 4,
     "metadata": {},
     "output_type": "execute_result"
    }
   ],
   "source": [
    "alea.integers(1, 10, size=10)"
   ]
  },
  {
   "cell_type": "markdown",
   "id": "2e3d4eb2-5a2a-47c6-9264-ce99c379931d",
   "metadata": {},
   "source": [
    "neste método, o último ponto é excluído, por isso, pode ser passado como parâmetro `endpoint=True` ara que esta seja incluído, bem como, é possível mudar o tamanho da memória usando `dtype=`"
   ]
  },
  {
   "cell_type": "markdown",
   "id": "54d4871a-081e-4eda-8754-ca0d5a680d06",
   "metadata": {},
   "source": [
    "o método `.random()` recebe uma quantidade de números entre zero e um aleatórios que deseja-se obter:"
   ]
  },
  {
   "cell_type": "code",
   "execution_count": 5,
   "id": "c5eebc4b-09d6-429c-9d9e-89c6c77c0bae",
   "metadata": {},
   "outputs": [
    {
     "data": {
      "text/plain": [
       "array([0.87714167, 0.53271976, 0.03177421, 0.36144794, 0.84832632,\n",
       "       0.28361966, 0.57560255, 0.41002803, 0.44057677, 0.20650512])"
      ]
     },
     "execution_count": 5,
     "metadata": {},
     "output_type": "execute_result"
    }
   ],
   "source": [
    "alea.random(10)"
   ]
  },
  {
   "cell_type": "code",
   "execution_count": 6,
   "id": "0ac57034-7f0d-418a-8395-1833c3c8372c",
   "metadata": {},
   "outputs": [
    {
     "data": {
      "text/plain": [
       "array([[0.09956673, 0.95952738, 0.1387932 , 0.77773661, 0.07857146],\n",
       "       [0.05437252, 0.637819  , 0.36972004, 0.0991005 , 0.03814815],\n",
       "       [0.57996712, 0.94388165, 0.71701559, 0.16678198, 0.50478132]])"
      ]
     },
     "execution_count": 6,
     "metadata": {},
     "output_type": "execute_result"
    }
   ],
   "source": [
    "alea.random((3, 5))"
   ]
  },
  {
   "cell_type": "markdown",
   "id": "553d0fd1-d068-40e2-a10c-ce7f5a30e451",
   "metadata": {},
   "source": [
    "o método `normal()` cria vetores e matrizes com valor aleatórios, precisando passar como parâmetro a média entre estes valores, o desvio padrão e, então, o tamanho do vetor/matriz:"
   ]
  },
  {
   "cell_type": "code",
   "execution_count": 7,
   "id": "d0f3173b-0589-452d-9806-157e59e83a30",
   "metadata": {},
   "outputs": [
    {
     "data": {
      "text/plain": [
       "array([[ 0.91423919,  1.00951582,  1.03256222,  0.44356526],\n",
       "       [ 1.24371473,  0.54361868, -0.70818539,  1.97752429],\n",
       "       [ 0.42823792,  0.01393757,  3.50306084,  0.09388028]])"
      ]
     },
     "execution_count": 7,
     "metadata": {},
     "output_type": "execute_result"
    }
   ],
   "source": [
    "alea.normal(1, 2, (3, 4))"
   ]
  },
  {
   "cell_type": "code",
   "execution_count": 8,
   "id": "25a98622-cea5-4b33-adc7-ddaba6bcaa6c",
   "metadata": {},
   "outputs": [
    {
     "data": {
      "text/plain": [
       "array([1.4793729 , 0.57828365, 1.82544775])"
      ]
     },
     "execution_count": 8,
     "metadata": {},
     "output_type": "execute_result"
    }
   ],
   "source": [
    "alea.normal(1, 1, 3)"
   ]
  },
  {
   "cell_type": "markdown",
   "id": "b8e35dd6-28a9-4abf-9789-6cdd291ad643",
   "metadata": {},
   "source": [
    "o método `.randint()` cria vetores e matrizes com valores inteiros aleatórios num intervalo definido pelo usuário:"
   ]
  },
  {
   "cell_type": "code",
   "execution_count": 11,
   "id": "9739bc11-afa9-47f9-a816-90541356086a",
   "metadata": {},
   "outputs": [
    {
     "data": {
      "text/plain": [
       "array([[3, 5, 9, 0, 9],\n",
       "       [8, 6, 9, 1, 8],\n",
       "       [1, 2, 5, 0, 2],\n",
       "       [1, 2, 7, 7, 5],\n",
       "       [6, 0, 1, 8, 5]])"
      ]
     },
     "execution_count": 11,
     "metadata": {},
     "output_type": "execute_result"
    }
   ],
   "source": [
    "rd.randint(0, 10, (5, 5))"
   ]
  },
  {
   "cell_type": "markdown",
   "id": "c922dd8e-9eeb-49b5-a2ac-553a3386f272",
   "metadata": {},
   "source": [
    "o método `.shuffle()` pode desorganizar uma array."
   ]
  },
  {
   "cell_type": "code",
   "execution_count": 13,
   "id": "f82de910-13a4-4670-923c-6dfd06108149",
   "metadata": {},
   "outputs": [
    {
     "data": {
      "text/plain": [
       "array([1, 2, 3, 4, 5, 6, 7, 8, 9])"
      ]
     },
     "execution_count": 13,
     "metadata": {},
     "output_type": "execute_result"
    }
   ],
   "source": [
    "import numpy as np\n",
    "\n",
    "array = np.arange(1, 10)\n",
    "array"
   ]
  },
  {
   "cell_type": "code",
   "execution_count": 16,
   "id": "5ffe531a-4874-426e-adfc-ffbc04dbfc63",
   "metadata": {},
   "outputs": [
    {
     "name": "stdout",
     "output_type": "stream",
     "text": [
      "[2 4 7 9 8 5 1 6 3]\n"
     ]
    }
   ],
   "source": [
    "alea.shuffle(array)\n",
    "print(array)"
   ]
  },
  {
   "cell_type": "markdown",
   "id": "80bf0654-20d5-44db-9ece-0cc8ba90ed4a",
   "metadata": {},
   "source": [
    "com o método `.choice()`, deve ser passado uma array em seguida do tamanho que se deseja que seja gerada uma nova array com elementos aleatórios da array anterior:"
   ]
  },
  {
   "cell_type": "code",
   "execution_count": 18,
   "id": "393de981-6f55-403f-9fd0-31109677e1be",
   "metadata": {},
   "outputs": [
    {
     "data": {
      "text/plain": [
       "array([6, 6, 2, 8, 8])"
      ]
     },
     "execution_count": 18,
     "metadata": {},
     "output_type": "execute_result"
    }
   ],
   "source": [
    "new_array = alea.choice(array, size=5)\n",
    "new_array"
   ]
  },
  {
   "cell_type": "code",
   "execution_count": 24,
   "id": "a080bb2a-89a6-4e89-96fb-176272b034eb",
   "metadata": {},
   "outputs": [
    {
     "data": {
      "text/plain": [
       "array([[3, 5, 1, 9],\n",
       "       [2, 6, 2, 9],\n",
       "       [7, 8, 9, 7]])"
      ]
     },
     "execution_count": 24,
     "metadata": {},
     "output_type": "execute_result"
    }
   ],
   "source": [
    "new_array = alea.choice(array, size=(3, 4))\n",
    "new_array"
   ]
  },
  {
   "cell_type": "markdown",
   "id": "8c8dfde6-3be9-4512-ba33-f36e1c83dcdc",
   "metadata": {},
   "source": [
    "passando como parâmetro `replace=False`, um array gerado nunca mais aparecerá novamente."
   ]
  },
  {
   "cell_type": "code",
   "execution_count": null,
   "id": "da29761a-eb5a-4aa9-9cd1-281993d3d899",
   "metadata": {},
   "outputs": [],
   "source": []
  }
 ],
 "metadata": {
  "kernelspec": {
   "display_name": "Python 3 (ipykernel)",
   "language": "python",
   "name": "python3"
  },
  "language_info": {
   "codemirror_mode": {
    "name": "ipython",
    "version": 3
   },
   "file_extension": ".py",
   "mimetype": "text/x-python",
   "name": "python",
   "nbconvert_exporter": "python",
   "pygments_lexer": "ipython3",
   "version": "3.10.6"
  }
 },
 "nbformat": 4,
 "nbformat_minor": 5
}
