{
 "cells": [
  {
   "cell_type": "markdown",
   "id": "9c9cbbd8-b744-427f-9ea1-29ec3dc02d99",
   "metadata": {},
   "source": [
    "## tipos de dados\n",
    "---"
   ]
  },
  {
   "cell_type": "code",
   "execution_count": 1,
   "id": "dc6efdb6-b4fe-4677-90b7-bec116c447a3",
   "metadata": {},
   "outputs": [],
   "source": [
    "import numpy as np"
   ]
  },
  {
   "cell_type": "markdown",
   "id": "85fd017a-5ea7-4027-a23f-d3ce5ae89561",
   "metadata": {},
   "source": [
    "numpy possui mais tipos de dados matemáticos que python, inclusive superando a capacidade de precisão de python. Tipos como *float64, int32, complex64* indicam o tamanho máximo e mínimo de valores suportados naquele tipo de dado. Por exemplo, dados do tipo int8 podem compreender valores tão pequenos quanto -128 a valores como 127. int32 já suporta valores maiores ainda, e, assim, sucessivamente."
   ]
  },
  {
   "cell_type": "markdown",
   "id": "15b690dc-60e2-4604-843b-f75436c77f9c",
   "metadata": {},
   "source": [
    "numpy automaticamente estabelece o tipo de dado quando passado manualmente os valores:"
   ]
  },
  {
   "cell_type": "code",
   "execution_count": 2,
   "id": "3115c7f8-94d8-4a31-9045-9ba912cfc342",
   "metadata": {},
   "outputs": [
    {
     "data": {
      "text/plain": [
       "dtype('int32')"
      ]
     },
     "execution_count": 2,
     "metadata": {},
     "output_type": "execute_result"
    }
   ],
   "source": [
    "v0 = np.array([1, 2, 3, 4, 5])\n",
    "v0.dtype"
   ]
  },
  {
   "cell_type": "code",
   "execution_count": 3,
   "id": "1e065c84-d613-4da5-91f7-b621e939f7a3",
   "metadata": {},
   "outputs": [
    {
     "data": {
      "text/plain": [
       "dtype('float64')"
      ]
     },
     "execution_count": 3,
     "metadata": {},
     "output_type": "execute_result"
    }
   ],
   "source": [
    "v0 = np.array([0.999999, 2, 3, 4, 5])\n",
    "v0.dtype"
   ]
  },
  {
   "cell_type": "markdown",
   "id": "28da8ada-bfb6-4b72-9bda-53efff29b005",
   "metadata": {},
   "source": [
    "mas, é possível determinar quais serão os tipos de dados de um vetor, passando como parâmetro `dtype=`:"
   ]
  },
  {
   "cell_type": "code",
   "execution_count": 4,
   "id": "ca787524-a731-4d18-87cc-da165acad76e",
   "metadata": {},
   "outputs": [
    {
     "data": {
      "text/plain": [
       "dtype('int8')"
      ]
     },
     "execution_count": 4,
     "metadata": {},
     "output_type": "execute_result"
    }
   ],
   "source": [
    "v0 = np.array([1, 2, 3, 4, 5], dtype=np.int8)\n",
    "v0.dtype"
   ]
  },
  {
   "cell_type": "markdown",
   "id": "4afa90ed-2e11-4d71-b880-4006441adc68",
   "metadata": {},
   "source": [
    "\n",
    "neste exemplo, foi mudado de *int32* para *int8* pois, como o vetor é pequeno, não precisa-se de muito espaço destinado a ele."
   ]
  },
  {
   "cell_type": "markdown",
   "id": "8f0f9781-7d6e-4839-a2ee-86c5d949de73",
   "metadata": {},
   "source": [
    "observe que, com esta mudança, passa a ser limitado o tamanho dos dados que pode ser passados para o vetor, podendo sofrer de overflow ou underflow"
   ]
  },
  {
   "cell_type": "code",
   "execution_count": 5,
   "id": "9eef730a-bbb8-46c2-b3ff-1c7f95e5440a",
   "metadata": {},
   "outputs": [
    {
     "data": {
      "text/plain": [
       "array([ 125,  126,  127, -128, -127], dtype=int8)"
      ]
     },
     "execution_count": 5,
     "metadata": {},
     "output_type": "execute_result"
    }
   ],
   "source": [
    "v0 = v0 + 124\n",
    "v0"
   ]
  },
  {
   "cell_type": "markdown",
   "id": "f1b589c8-9f63-40fb-94d8-a5d244c0a496",
   "metadata": {},
   "source": [
    "os dois últimos valores não funcionaram propriamente devido ao overflow, isto é, o valor é maior do que o tipo *int8* suporta."
   ]
  },
  {
   "cell_type": "markdown",
   "id": "99d73ac5-3075-44ba-bb5b-0ba26fe6ea98",
   "metadata": {},
   "source": [
    "#### infos de um vetor\n",
    "---"
   ]
  },
  {
   "cell_type": "markdown",
   "id": "72696e7d-6ff0-483f-b53b-663d9a9ead00",
   "metadata": {},
   "source": [
    "`.size` é usado para ver o tamanho de um vetor:"
   ]
  },
  {
   "cell_type": "code",
   "execution_count": 6,
   "id": "ca31ece9-31cd-46f5-8c14-51887040d65f",
   "metadata": {},
   "outputs": [
    {
     "data": {
      "text/plain": [
       "5"
      ]
     },
     "execution_count": 6,
     "metadata": {},
     "output_type": "execute_result"
    }
   ],
   "source": [
    "v0.size"
   ]
  },
  {
   "cell_type": "markdown",
   "id": "b2badf88-9ea5-471c-abb5-0949b6fdf012",
   "metadata": {},
   "source": [
    "`.nbytes` é usado para ver a quantidade de bytes em um vetor:"
   ]
  },
  {
   "cell_type": "code",
   "execution_count": 7,
   "id": "fe56d93a-0bfb-4336-9615-76c89139c206",
   "metadata": {},
   "outputs": [
    {
     "data": {
      "text/plain": [
       "5"
      ]
     },
     "execution_count": 7,
     "metadata": {},
     "output_type": "execute_result"
    }
   ],
   "source": [
    "v0.nbytes"
   ]
  },
  {
   "cell_type": "markdown",
   "id": "598a6eb7-f5bd-4c3a-b42a-6e1294ffeeb0",
   "metadata": {},
   "source": [
    "este último depende do tipo de dado que o vetor possui:"
   ]
  },
  {
   "cell_type": "code",
   "execution_count": 8,
   "id": "fb224265-bb3b-4be4-9af0-b75dddecfc6d",
   "metadata": {},
   "outputs": [
    {
     "data": {
      "text/plain": [
       "20"
      ]
     },
     "execution_count": 8,
     "metadata": {},
     "output_type": "execute_result"
    }
   ],
   "source": [
    "v1 = np.array([1, 2, 3, 4, 5], dtype=np.int32)\n",
    "v1.nbytes"
   ]
  },
  {
   "cell_type": "markdown",
   "id": "70e673db-8cbe-4cb6-a34e-78c46f5aefa9",
   "metadata": {},
   "source": [
    "`.ndim` é usado para observar a dimensão do vetor:"
   ]
  },
  {
   "cell_type": "code",
   "execution_count": 9,
   "id": "1b82db77-c816-4e87-8b10-53a88dfae8ff",
   "metadata": {},
   "outputs": [
    {
     "data": {
      "text/plain": [
       "1"
      ]
     },
     "execution_count": 9,
     "metadata": {},
     "output_type": "execute_result"
    }
   ],
   "source": [
    "v0.ndim"
   ]
  },
  {
   "cell_type": "code",
   "execution_count": 11,
   "id": "482d4a4d-b320-45a0-aea9-7d93c49bb17b",
   "metadata": {},
   "outputs": [
    {
     "data": {
      "text/plain": [
       "3"
      ]
     },
     "execution_count": 11,
     "metadata": {},
     "output_type": "execute_result"
    }
   ],
   "source": [
    "v2 = np.random.random((1, 2, 3))\n",
    "v2.ndim"
   ]
  },
  {
   "cell_type": "code",
   "execution_count": 12,
   "id": "9061dd0b-7ed0-43e4-81f2-2ec7a8c67806",
   "metadata": {},
   "outputs": [
    {
     "data": {
      "text/plain": [
       "array([[[0.71183745, 0.09841053, 0.92568186],\n",
       "        [0.99453719, 0.33599114, 0.75117524]]])"
      ]
     },
     "execution_count": 12,
     "metadata": {},
     "output_type": "execute_result"
    }
   ],
   "source": [
    "v2"
   ]
  },
  {
   "cell_type": "markdown",
   "id": "bee495ec-e791-4b88-b516-812a3a0d8757",
   "metadata": {},
   "source": [
    "`.shape` serve para observar o formato de uma matriz:"
   ]
  },
  {
   "cell_type": "code",
   "execution_count": 13,
   "id": "0ef64680-b8ff-46d9-9869-92d230358b8e",
   "metadata": {},
   "outputs": [
    {
     "data": {
      "text/plain": [
       "(5,)"
      ]
     },
     "execution_count": 13,
     "metadata": {},
     "output_type": "execute_result"
    }
   ],
   "source": [
    "v0.shape"
   ]
  },
  {
   "cell_type": "markdown",
   "id": "de1326e3-49de-4dd9-ad4d-d571cfac5688",
   "metadata": {},
   "source": [
    "`.itemsize` é usado para ver o tamanho, em bytes, de cada elemento da lista"
   ]
  },
  {
   "cell_type": "code",
   "execution_count": 14,
   "id": "4f6b6497-80a7-48de-8909-db44b2d34173",
   "metadata": {},
   "outputs": [
    {
     "data": {
      "text/plain": [
       "1"
      ]
     },
     "execution_count": 14,
     "metadata": {},
     "output_type": "execute_result"
    }
   ],
   "source": [
    "v0.itemsize"
   ]
  },
  {
   "cell_type": "code",
   "execution_count": 15,
   "id": "d33361f3-6967-4998-a159-3ada2b96a20a",
   "metadata": {},
   "outputs": [
    {
     "data": {
      "text/plain": [
       "4"
      ]
     },
     "execution_count": 15,
     "metadata": {},
     "output_type": "execute_result"
    }
   ],
   "source": [
    "v1.itemsize"
   ]
  },
  {
   "cell_type": "code",
   "execution_count": 16,
   "id": "8e4f2202-763c-49e2-a298-0479e0c16140",
   "metadata": {},
   "outputs": [
    {
     "data": {
      "text/plain": [
       "8"
      ]
     },
     "execution_count": 16,
     "metadata": {},
     "output_type": "execute_result"
    }
   ],
   "source": [
    "v2.itemsize"
   ]
  },
  {
   "cell_type": "markdown",
   "id": "7e11b51b-a345-45fb-a699-8169b9adb687",
   "metadata": {},
   "source": [
    "geralmente, `.nbytes` é igual a `.itemsize` vezes `.size`."
   ]
  },
  {
   "cell_type": "code",
   "execution_count": null,
   "id": "23b215c8-fe3a-48d4-9ce7-4a587b591382",
   "metadata": {},
   "outputs": [],
   "source": []
  }
 ],
 "metadata": {
  "kernelspec": {
   "display_name": "Python 3 (ipykernel)",
   "language": "python",
   "name": "python3"
  },
  "language_info": {
   "codemirror_mode": {
    "name": "ipython",
    "version": 3
   },
   "file_extension": ".py",
   "mimetype": "text/x-python",
   "name": "python",
   "nbconvert_exporter": "python",
   "pygments_lexer": "ipython3",
   "version": "3.10.6"
  }
 },
 "nbformat": 4,
 "nbformat_minor": 5
}
