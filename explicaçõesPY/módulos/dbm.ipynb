{
 "cells": [
  {
   "cell_type": "markdown",
   "id": "7492495a-ec51-4f57-8bcf-0faa29e72ec8",
   "metadata": {},
   "source": [
    "## ***Criando banco de dadod com dbm***\n",
    "---"
   ]
  },
  {
   "cell_type": "code",
   "execution_count": 1,
   "id": "1eecd575-3f85-4c34-b5eb-732b1a151760",
   "metadata": {},
   "outputs": [],
   "source": [
    "import dbm"
   ]
  },
  {
   "cell_type": "markdown",
   "id": "e486596d-58c6-4fb6-a80b-b2bf303b195b",
   "metadata": {},
   "source": [
    "o módulo `dbm` é um módulo nativo do python para criar bancos de dados mais simples e funciona similarmente como um dicionário."
   ]
  },
  {
   "cell_type": "markdown",
   "id": "244e470c-db0a-42ac-a40a-7b9cf529f327",
   "metadata": {},
   "source": [
    "#### iniciando o banco de dados\n",
    "---\n",
    "\n",
    "para iniciá-lo, é necessário abri-lo:\n",
    "```\n",
    "db = dbm.open('banco_de_dados', 'modo_de_leitura')\n",
    "```\n",
    "a variável `db` será usada para manipular este banco de dados.\n",
    "\n",
    "o `modo_de_leitura` é opcional, porém, deve-se colocar `c` quando deseja-se criar um novo banco de dados. no caso de este já existir, o banco de dados já existente só será atualizado à vontade do usuário.\n",
    "\n",
    "outra forma de abrir este banco de dados é usando o `with`:\n",
    "```\n",
    "with dbm.open('banco_de_dados', 'modo_de_leitura') as db:\n",
    "```\n",
    "neste caso, não será necessário fechar o arquivo quando terminar de usá-lo.\n",
    "\n",
    "#### acrescentado informações\n",
    "---\n",
    "\n",
    "para acrescentar novas informações a este banco de dados, faz-se como com os dicionários:\n",
    "```\n",
    "db['um'] = str(1)\n",
    "db['dois'] = str(2)\n",
    "db['três'] = str(3)\n",
    "```\n",
    "observe que todos os valores passados devem ser `strings` ou `bytes`, não podendo ser de nenhum outro tipo.\n",
    "\n",
    "#### acessando informações\n",
    "---\n",
    "\n",
    "também, é semelhante aos dicionários:\n",
    "```\n",
    "print(db['um'])\n",
    ">>> b'1'\n",
    "```\n",
    "podendo usar, até mesmo, loops:\n",
    "```\n",
    "for i in db:\n",
    "    print(i, db[i])\n",
    ">>> b'um' b'1'\n",
    ">>> b'dois' b'2'\n",
    ">>> b'três' b'3'\n",
    "```\n",
    "o `b` é de binário (em inglês).\n",
    "\n",
    "#### fechando o banco de dados\n",
    "---\n",
    "\n",
    "uma vez que não for mais usar o banco de dados e não estiver usando a estrutura `with`, é necessário fechá-lo:\n",
    "```\n",
    "db.close()\n",
    "```"
   ]
  }
 ],
 "metadata": {
  "kernelspec": {
   "display_name": "Python 3 (ipykernel)",
   "language": "python",
   "name": "python3"
  },
  "language_info": {
   "codemirror_mode": {
    "name": "ipython",
    "version": 3
   },
   "file_extension": ".py",
   "mimetype": "text/x-python",
   "name": "python",
   "nbconvert_exporter": "python",
   "pygments_lexer": "ipython3",
   "version": "3.9.5"
  }
 },
 "nbformat": 4,
 "nbformat_minor": 5
}
