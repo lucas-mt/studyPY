{
 "cells": [
  {
   "cell_type": "markdown",
   "id": "3b469de0-1a3e-4704-bc41-2cc4b721411e",
   "metadata": {},
   "source": [
    "## *Arquivos e Diretórios*\n",
    "---"
   ]
  },
  {
   "cell_type": "markdown",
   "id": "92544bd0-a35d-453f-815c-0a356e096622",
   "metadata": {},
   "source": [
    "antes de mais nada:"
   ]
  },
  {
   "cell_type": "code",
   "execution_count": 1,
   "id": "ae7836f9-6e72-4ae1-9443-8b6700a3c6f4",
   "metadata": {},
   "outputs": [],
   "source": [
    "import os"
   ]
  },
  {
   "cell_type": "markdown",
   "id": "4475e1ad-89f2-474f-b008-cf88f32abd18",
   "metadata": {},
   "source": [
    "usando o `os.getcwd()` poderememos manipular o diretório atual:"
   ]
  },
  {
   "cell_type": "code",
   "execution_count": 2,
   "id": "1ff94144-923b-4b60-97de-f6d320b7a69e",
   "metadata": {},
   "outputs": [
    {
     "name": "stdout",
     "output_type": "stream",
     "text": [
      "C:\\Users\\lucas\\OneDrive\\Documentos\\explicaçõesPY\n"
     ]
    }
   ],
   "source": [
    "print(os.getcwd())"
   ]
  },
  {
   "cell_type": "markdown",
   "id": "f2292d5a-719f-4813-ba34-ef46cc4f65b5",
   "metadata": {},
   "source": [
    "o comando `os.chdir()` recebe como parâmetro o caminho para um diretório, e assim, é possível mudar o diretório que está sendo trabalhado"
   ]
  },
  {
   "cell_type": "code",
   "execution_count": 3,
   "id": "7d1b0268-dc53-43ef-8445-a1589b229bf4",
   "metadata": {},
   "outputs": [],
   "source": [
    "os.chdir('..')"
   ]
  },
  {
   "cell_type": "code",
   "execution_count": 4,
   "id": "ab766716-4798-42ee-baee-299e269dde2f",
   "metadata": {},
   "outputs": [
    {
     "name": "stdout",
     "output_type": "stream",
     "text": [
      "C:\\Users\\lucas\\OneDrive\\Documentos\n"
     ]
    }
   ],
   "source": [
    "print(os.getcwd())"
   ]
  },
  {
   "cell_type": "markdown",
   "id": "dc19bab2-8649-466b-883b-efed7e677ec8",
   "metadata": {},
   "source": [
    "assim, use `os.chdir('..')` para voltar um diretório"
   ]
  },
  {
   "cell_type": "markdown",
   "id": "0a8042bd-5253-4f83-971f-dede7ea759b1",
   "metadata": {},
   "source": [
    "para especificar o diretório que deseja ir, deve separá-los por `/`"
   ]
  },
  {
   "cell_type": "markdown",
   "id": "5d11d523-eeff-4333-8471-a0cfeedb0ac4",
   "metadata": {},
   "source": [
    "#### criando, modificando e apagando diretórios"
   ]
  },
  {
   "cell_type": "markdown",
   "id": "5ed2bced-cdf1-452c-840b-beecbd337798",
   "metadata": {},
   "source": [
    "usando o comando `os.mkdir('caminho/nome_do_novo_diretório')` pode ser criado um novo diretório"
   ]
  },
  {
   "cell_type": "code",
   "execution_count": 5,
   "id": "db003673-319b-48a5-9902-cf0557c18b48",
   "metadata": {},
   "outputs": [],
   "source": [
    "os.mkdir('C:\\\\Users\\\\lucas\\\\OneDrive\\\\Documentos\\\\teste')"
   ]
  },
  {
   "cell_type": "markdown",
   "id": "5fb4a3fe-e6d4-4a11-80a3-1fc1d6f2f0a2",
   "metadata": {},
   "source": [
    "no caminho apresentado, a pasta `teste` já terá sido criada"
   ]
  },
  {
   "cell_type": "markdown",
   "id": "aac5f69d-6f06-4d85-97af-d89e2f3bdcb1",
   "metadata": {},
   "source": [
    "esse comando cria apenas um diretório por vez, para criar vários diretórios, onde um esteja dentre do outro, use o comando `os.makedirs('caminho/avô/pai/filho')`"
   ]
  },
  {
   "cell_type": "code",
   "execution_count": 6,
   "id": "0cd635e0-fa7c-4bbb-9d57-face18539f8a",
   "metadata": {},
   "outputs": [],
   "source": [
    "os.makedirs('avô/pai/filho')"
   ]
  },
  {
   "cell_type": "markdown",
   "id": "a73b6dfc-8feb-40d0-a68e-d22b2ece884f",
   "metadata": {},
   "source": [
    "novamente, indo no caminho apresentado, deverá existir a pasta `avô`, dentro dela, a pasta `pai`, e ainda dentre de pai, a pasta `filho`"
   ]
  },
  {
   "cell_type": "markdown",
   "id": "7e17fabd-6403-4c7d-baa0-c1400c05ee7c",
   "metadata": {},
   "source": [
    "para renomear um diretório ou arquivo, use o comando `os.rename()`, onde primeiro deve ser apresentado o nome atual, e em seguida, deve apresentar o novo nome"
   ]
  },
  {
   "cell_type": "code",
   "execution_count": 7,
   "id": "5e50cd97-bcb8-4681-84b9-93b0604277aa",
   "metadata": {},
   "outputs": [],
   "source": [
    "os.rename('avô', 'anti-pai')"
   ]
  },
  {
   "cell_type": "markdown",
   "id": "add3f491-bfd5-4c16-8700-b2f6eb976d42",
   "metadata": {},
   "source": [
    "nesse caso, mudamos a pasta `avô` para o nome `anti-pai`, e, novamente seguindo aquele caminho, veremos que há agora a pasta `anti-pai`, e, da mesma forma que antes, as subpastas `pai` e `filho`"
   ]
  },
  {
   "cell_type": "markdown",
   "id": "9dc734e6-85ea-40f7-ba09-328f5532ff6f",
   "metadata": {},
   "source": [
    "usando o `os.rename()` ainda é possível mudar o caminho de uma pasta apenas mudando o o caminho apresentado"
   ]
  },
  {
   "cell_type": "markdown",
   "id": "936f7f79-77a8-498d-a538-91d737c76387",
   "metadata": {},
   "source": [
    "para apagar um diretório, use o comando `os.remir('caminho/diretório')`"
   ]
  },
  {
   "cell_type": "code",
   "execution_count": 8,
   "id": "b0dc0b0f-16a3-4f6c-9fe8-ac54b789bebf",
   "metadata": {},
   "outputs": [],
   "source": [
    "os.rmdir('C:\\\\Users\\\\lucas\\\\OneDrive\\\\Documentos\\\\anti-pai\\\\pai\\\\filho')\n",
    "os.rmdir('C:\\\\Users\\\\lucas\\\\OneDrive\\\\Documentos\\\\anti-pai\\\\pai')\n",
    "os.rmdir('C:\\\\Users\\\\lucas\\\\OneDrive\\\\Documentos\\\\anti-pai')"
   ]
  },
  {
   "cell_type": "markdown",
   "id": "c28560e3-3214-41c1-804a-3b44b8c9d288",
   "metadata": {},
   "source": [
    "agora, pode ser verificado que no caminho apresentado, não existe mais as pastas `anti-pai/pai/filho`"
   ]
  },
  {
   "cell_type": "markdown",
   "id": "0d374c4a-d3af-43e1-9705-e957c33e2288",
   "metadata": {},
   "source": [
    "*obs.: para apagar um arquivo, use `os.remove('caminho/arquivo')`"
   ]
  },
  {
   "cell_type": "markdown",
   "id": "71586be7-f015-4153-ac1c-b6ff892077d3",
   "metadata": {},
   "source": [
    "o comando `os.listdir()` cria uma lista com todos arquivos que estejam no diretório atual, eles podem ser manipuladores como lista e podem ser verificados usando um `print()` ou um laço"
   ]
  },
  {
   "cell_type": "code",
   "execution_count": 9,
   "id": "98b4eb17-1d04-4a33-a1db-ce1f314e8566",
   "metadata": {},
   "outputs": [
    {
     "name": "stdout",
     "output_type": "stream",
     "text": [
      "['Bloco de anotações de Lucas.url', 'cs.exe', 'curriculum - janice de souza morais.docx', 'currículo - Lucas Mt. (corr).pdf', 'currículo - Lucas Mt..pdf', 'desktop.ini', 'explicaçõesPY', 'git bash comandos básicos.txt', 'lab química geral', 'markdown e jupyter comandos básicos.txt', 'pip comandos básicos.txt', 'química geral', 'studyPY', 'studyPYmodules', 'teste']\n"
     ]
    }
   ],
   "source": [
    "print(os.listdir())"
   ]
  },
  {
   "cell_type": "markdown",
   "id": "448a5581-1c88-4f40-a035-75dff4b1a878",
   "metadata": {},
   "source": [
    "#### os.path"
   ]
  },
  {
   "cell_type": "markdown",
   "id": "8fc50d6c-90fc-4ed7-8460-9e55975949c6",
   "metadata": {},
   "source": [
    "usando a extensão do módulo `os`, o `os.path`, é possível ainda verificar informações sobre arquivos e diretórios como tamanho do arquivo/diretório, data de criação, acessos e modificações."
   ]
  },
  {
   "cell_type": "markdown",
   "id": "85624ecc-3d63-41f0-b607-e39c3aa9b8aa",
   "metadata": {},
   "source": [
    "ele precisa ser importado separadamente de `os`"
   ]
  },
  {
   "cell_type": "code",
   "execution_count": 10,
   "id": "7c1b4b99-c156-4cfb-8da7-d552ab311184",
   "metadata": {},
   "outputs": [],
   "source": [
    "import os.path"
   ]
  },
  {
   "cell_type": "markdown",
   "id": "17533da9-12a7-42df-ad86-0ee04531d9e2",
   "metadata": {},
   "source": [
    "para verifica se é um arquivo, pode ser usado o `os.path.isfile()` que recebe como parâmetro o arquivo que deseja saber o tipo"
   ]
  },
  {
   "cell_type": "code",
   "execution_count": 11,
   "id": "6fcb7e13-0949-496e-b8f6-0dd9a64e2f4c",
   "metadata": {},
   "outputs": [
    {
     "name": "stdout",
     "output_type": "stream",
     "text": [
      "False\n"
     ]
    }
   ],
   "source": [
    "print(os.path.isfile('explicaçõesPY'))"
   ]
  },
  {
   "cell_type": "markdown",
   "id": "c41bcbe2-0399-4901-8e43-e6ef9dd42ed9",
   "metadata": {},
   "source": [
    "para verificar se é um diretório, `os.path.isdir()`"
   ]
  },
  {
   "cell_type": "code",
   "execution_count": 12,
   "id": "7ce073f1-5e28-4706-b7bd-5677b2722e12",
   "metadata": {},
   "outputs": [
    {
     "name": "stdout",
     "output_type": "stream",
     "text": [
      "True\n"
     ]
    }
   ],
   "source": [
    "print(os.path.isdir('explicaçõesPY'))"
   ]
  },
  {
   "cell_type": "markdown",
   "id": "eebc12a7-4775-42d6-9d95-2bdd0fb0a928",
   "metadata": {},
   "source": [
    "para verificar se um arquivo/diretório existe use o `os.path.exists()`"
   ]
  },
  {
   "cell_type": "code",
   "execution_count": 13,
   "id": "759c7adb-4f46-40b6-9873-db43ead2cae3",
   "metadata": {},
   "outputs": [
    {
     "name": "stdout",
     "output_type": "stream",
     "text": [
      "False\n"
     ]
    }
   ],
   "source": [
    "print(os.path.exists('pai'))"
   ]
  },
  {
   "cell_type": "markdown",
   "id": "1ba4978f-e86d-45fc-aa4b-e959712af730",
   "metadata": {},
   "source": [
    "para verificar o tamanho de um arquivo/diretório, use o `os.path.getsize()`"
   ]
  },
  {
   "cell_type": "code",
   "execution_count": 14,
   "id": "bd08858a-47c1-4fd4-94a0-66058bc9160a",
   "metadata": {},
   "outputs": [
    {
     "name": "stdout",
     "output_type": "stream",
     "text": [
      "12288\n"
     ]
    }
   ],
   "source": [
    "print(os.path.getsize('explicaçõesPY'))"
   ]
  },
  {
   "cell_type": "markdown",
   "id": "25d13b75-6b1d-45c0-bb0d-327d305b5b7d",
   "metadata": {},
   "source": [
    "para saber a data de criação de um diretório, a data da última modificação e do último acesso use os comandos `os.path.getctime()`, `os.path.getmtime()` e `os.path.getatime()`, respectivamente"
   ]
  },
  {
   "cell_type": "code",
   "execution_count": 15,
   "id": "dbab22fa-2f2f-4ef9-ac9f-52b8b61c2436",
   "metadata": {},
   "outputs": [
    {
     "name": "stdout",
     "output_type": "stream",
     "text": [
      "\n",
      "criação: 1623239870.2027142\n",
      "modificação: 1625851508.2858343\n",
      "acesso: 1625851542.019693\n"
     ]
    }
   ],
   "source": [
    "print(f'''\n",
    "criação: {os.path.getctime(\"explicaçõesPY\")}\n",
    "modificação: {os.path.getmtime(\"explicaçõesPY\")}\n",
    "acesso: {os.path.getatime(\"explicaçõesPY\")}''')"
   ]
  },
  {
   "cell_type": "markdown",
   "id": "7bc26195-6afb-457e-af5f-cc741eca3a75",
   "metadata": {},
   "source": [
    "observe que o tempo é dado em segundos, por isso, ímportando o módulo `time`, vamos usar o comando `time.ctime()` que vai receber como parâmetro os comandos anteriores"
   ]
  },
  {
   "cell_type": "code",
   "execution_count": 16,
   "id": "a80bccf6-46b7-4d3d-a755-ded536ff2b2b",
   "metadata": {},
   "outputs": [
    {
     "name": "stdout",
     "output_type": "stream",
     "text": [
      "\n",
      "criação: Wed Jun  9 08:57:50 2021\n",
      "modificação: Fri Jul  9 14:25:08 2021\n",
      "acesso: Fri Jul  9 14:25:42 2021\n"
     ]
    }
   ],
   "source": [
    "import time\n",
    "\n",
    "print(f'''\n",
    "criação: {time.ctime(os.path.getctime(\"explicaçõesPY\"))}\n",
    "modificação: {time.ctime(os.path.getmtime(\"explicaçõesPY\"))}\n",
    "acesso: {time.ctime(os.path.getatime(\"explicaçõesPY\"))}''')"
   ]
  },
  {
   "cell_type": "markdown",
   "id": "0783bb36-5010-41d8-8601-e74789d242d3",
   "metadata": {},
   "source": [
    "a função `os.path.abspath('<caminho>')` mostra o caminho absoluto de qualquer diretório"
   ]
  },
  {
   "cell_type": "code",
   "execution_count": 18,
   "id": "b4befd5b-51a5-4601-b5f2-3dfe41840e1d",
   "metadata": {},
   "outputs": [
    {
     "name": "stdout",
     "output_type": "stream",
     "text": [
      "C:\\Users\\lucas\\OneDrive\\Documentos\\explicaçõesPY\n"
     ]
    }
   ],
   "source": [
    "print(os.path.abspath('explicaçõesPY'))"
   ]
  },
  {
   "cell_type": "code",
   "execution_count": 19,
   "id": "5007e293-c3b7-4415-90b9-f4db4e1bacf6",
   "metadata": {},
   "outputs": [
    {
     "name": "stdout",
     "output_type": "stream",
     "text": [
      "C:\\explicaçõesPY\n"
     ]
    }
   ],
   "source": [
    "print(os.path.abspath('/explicaçõesPY'))"
   ]
  },
  {
   "cell_type": "markdown",
   "id": "62c65a6f-7fd0-4d17-bbd2-bd239833ec91",
   "metadata": {},
   "source": [
    "observe que quando acrescentado `/` antes do nome do diretório não mostra o caminho completo."
   ]
  },
  {
   "cell_type": "markdown",
   "id": "8b685a8e-ad30-413b-8613-f58a8b7108d6",
   "metadata": {},
   "source": [
    "podemos usar a função `os.path.basename()` que recebe a variável declarada acima, e retona a última pasta apresentada"
   ]
  },
  {
   "cell_type": "code",
   "execution_count": 27,
   "id": "6695242b-7768-4c5b-881a-1f9524e16224",
   "metadata": {},
   "outputs": [
    {
     "name": "stdout",
     "output_type": "stream",
     "text": [
      "Documentos\n"
     ]
    }
   ],
   "source": [
    "print(os.path.basename(os.getcwd()))"
   ]
  },
  {
   "cell_type": "markdown",
   "id": "a7db571a-91b8-4fa9-95b1-025958b47c6c",
   "metadata": {},
   "source": [
    "ou, podemos usar a função `os.path.dirname(caminho)` que irá apresentar todas as pastas que vem antes do último `/`"
   ]
  },
  {
   "cell_type": "code",
   "execution_count": 28,
   "id": "b9ea7c55-d54c-468c-9a52-707ea62c6c69",
   "metadata": {},
   "outputs": [
    {
     "name": "stdout",
     "output_type": "stream",
     "text": [
      "C:\\Users\\lucas\\OneDrive\n"
     ]
    }
   ],
   "source": [
    "print(os.path.dirname(os.getcwd()))"
   ]
  },
  {
   "cell_type": "markdown",
   "id": "09164806-8350-463f-9358-6079a09dab2a",
   "metadata": {},
   "source": [
    "pode-se usar a função `os.path.split(caminho)` que irá separar o `dirname()` de `basename()`"
   ]
  },
  {
   "cell_type": "code",
   "execution_count": 29,
   "id": "96d3c952-4629-417a-bfd6-4c7e4ad93154",
   "metadata": {},
   "outputs": [
    {
     "name": "stdout",
     "output_type": "stream",
     "text": [
      "('C:\\\\Users\\\\lucas\\\\OneDrive', 'Documentos')\n"
     ]
    }
   ],
   "source": [
    "print(os.path.split(os.getcwd()))"
   ]
  },
  {
   "cell_type": "markdown",
   "id": "5932080b-75ad-4eef-97f5-4c60cb78be09",
   "metadata": {},
   "source": [
    "ou, ainda pode usar a função `os.path.splitdrive(caminho)` que irá separá a letra do drive do caminho em si, também em uma tupla"
   ]
  },
  {
   "cell_type": "code",
   "execution_count": 30,
   "id": "07d368e6-33ae-4372-af2b-458c519197a4",
   "metadata": {},
   "outputs": [
    {
     "name": "stdout",
     "output_type": "stream",
     "text": [
      "('C:', '\\\\Users\\\\lucas\\\\OneDrive\\\\Documentos')\n"
     ]
    }
   ],
   "source": [
    "print(os.path.splitdrive(os.getcwd()))"
   ]
  },
  {
   "cell_type": "markdown",
   "id": "6d7026dc-e5b4-436c-9d30-42f335346114",
   "metadata": {},
   "source": [
    "a função `os.path.splitext()` pode ser separado a extensão de um arquivo do nome do arquivo em si"
   ]
  },
  {
   "cell_type": "code",
   "execution_count": 31,
   "id": "fa019586-6bdc-49fb-a160-6d92daa1e407",
   "metadata": {},
   "outputs": [
    {
     "name": "stdout",
     "output_type": "stream",
     "text": [
      "('exemplo', '.txt')\n"
     ]
    }
   ],
   "source": [
    "print(os.path.splitext('exemplo.txt'))"
   ]
  },
  {
   "cell_type": "markdown",
   "id": "fecba780-6da8-4871-8fc3-7f6a3e35a479",
   "metadata": {},
   "source": [
    "e a função `os.path.join(caminho)` junta as componentes de um caminho em uma tupla"
   ]
  },
  {
   "cell_type": "code",
   "execution_count": 32,
   "id": "60dab9f3-28b5-406d-8fc9-e364263c3457",
   "metadata": {},
   "outputs": [
    {
     "name": "stdout",
     "output_type": "stream",
     "text": [
      "ex1\\ex2\\ex3\n"
     ]
    }
   ],
   "source": [
    "print(os.path.join('ex1', 'ex2', 'ex3'))"
   ]
  },
  {
   "cell_type": "markdown",
   "id": "89c5076b-d790-4fd9-8a77-6edbaead59e3",
   "metadata": {},
   "source": [
    "juntando com a função `os.path.abspath()`, pode-se obter o cominho até a raiz"
   ]
  },
  {
   "cell_type": "code",
   "execution_count": 34,
   "id": "0a83cdc0-176b-41ba-8feb-78cfc4af83d3",
   "metadata": {},
   "outputs": [
    {
     "name": "stdout",
     "output_type": "stream",
     "text": [
      "C:\\Users\\lucas\\OneDrive\\Documentos\\ex1\\ex2\\ex3\n"
     ]
    }
   ],
   "source": [
    "print(os.path.abspath(os.path.join('ex1', 'ex2', 'ex3')))"
   ]
  },
  {
   "cell_type": "markdown",
   "id": "96a55ee6-958d-4432-b7cc-de25bbcb1086",
   "metadata": {},
   "source": [
    "#### os.walk()"
   ]
  },
  {
   "cell_type": "markdown",
   "id": "0be43b21-5ea9-41c6-8ede-b67f0cada038",
   "metadata": {},
   "source": [
    "a função `os.walk()` funciona criando uma lista onde contém informações do tipo raiz, diretórios e arquivos de um diretório passado como parâmetro, e ele pode ser usado como uma visita a todos os subdiretórios recursivamente"
   ]
  },
  {
   "cell_type": "code",
   "execution_count": 36,
   "id": "64e43ba4-5673-4848-af89-9aca2dd1f49a",
   "metadata": {},
   "outputs": [
    {
     "name": "stdout",
     "output_type": "stream",
     "text": [
      "caminho: studyPY\n",
      "\t.idea\n",
      "\t.ipynb_checkpoints\n",
      "\t.vs\n",
      "\t.vscode\n",
      "\tcevstudy\n",
      "\tIMD\n",
      "\tintrodução à programação com PYTHON\n",
      "\tpense em python\n",
      "\t__pycache__\n",
      "\t\t113809words.txt\n",
      "\t\tagenda.db\n",
      "\t\talarme.py\n",
      "\t\tarmazena_arq_antigo.txt\n",
      "\t\tbrasil.db\n",
      "\t\tbutterfly_effect.py\n",
      "\t\tcontatos.txt\n",
      "\t\tcria_arq.py\n",
      "\t\tcria_arquivos.py\n",
      "\t\teq_quad.py\n",
      "\t\tetox.py\n",
      "\t\tferiados.db\n",
      "\t\thello_world.py\n",
      "\t\tkailo_pl.txt\n",
      "\t\tlib_test-2.py\n",
      "\t\tlib_test.py\n",
      "\t\tloading_bar.py\n",
      "\t\tmelhores_jg_forca.txt\n",
      "\t\tpalavras_jogo_da_forca.txt\n",
      "\t\tpares.txt\n",
      "\t\tpreços.db\n",
      "\t\tquad_equação.py\n",
      "\t\tteste.py\n",
      "\t\ttriângulo_numérico.py\n",
      "\t\tímpares.txt\n",
      "\t\túltimo_arq.txt\n",
      "caminho: studyPY\\.idea\n",
      "\tinspectionProfiles\n",
      "\t\t.gitignore\n",
      "\t\tmisc.xml\n",
      "\t\tmodules.xml\n",
      "\t\tstudyPY.iml\n",
      "\t\tworkspace.xml\n",
      "caminho: studyPY\\.idea\\inspectionProfiles\n",
      "\t\tprofiles_settings.xml\n",
      "caminho: studyPY\\.ipynb_checkpoints\n",
      "\t\tjupyter_hello-checkpoint.ipynb\n",
      "caminho: studyPY\\.vs\n",
      "\tstudyPY\n",
      "\t\tProjectSettings.json\n",
      "\t\tPythonSettings.json\n",
      "\t\tslnx.sqlite\n",
      "\t\tslnx.sqlite-journal\n",
      "\t\tVSWorkspaceState.json\n",
      "caminho: studyPY\\.vs\\studyPY\n",
      "\tv16\n",
      "caminho: studyPY\\.vs\\studyPY\\v16\n",
      "\t\t.suo\n",
      "\t\tBrowse.VC.db\n",
      "caminho: studyPY\\.vscode\n",
      "\t\tlaunch.json\n",
      "\t\tsettings.json\n",
      "caminho: studyPY\\cevstudy\n",
      "\t.ipynb_checkpoints\n",
      "\t__pycache__\n",
      "\t\talistamento_militar.py\n",
      "\t\taluni_média_situação.py\n",
      "\t\tano_bissexto.py\n",
      "\t\tbin_oct_hex.py\n",
      "\t\tcadastra_dados.py\n",
      "\t\tcaixa_eletrônico.py\n",
      "\t\tcampeonato_brasileiro.py\n",
      "\t\tcasa_num_9999.py\n",
      "\t\tcategoria_por_idade.py\n",
      "\t\tconversor_uni.py\n",
      "\t\tctps.py\n",
      "\t\tdados_individuais.py\n",
      "\t\tdef_contador(início_fim_passo)%%.py\n",
      "\t\tdef_escreva()%%.py\n",
      "\t\tdef_fatorial().py\n",
      "\t\tdef_ficha(nome_gols)%%.py\n",
      "\t\tdef_maior()_num.py\n",
      "\t\tdef_numaleatório()_somapar().py\n",
      "\t\tdef_número_inteiro()%%.py\n",
      "\t\tdef_pyhelp.py\n",
      "\t\tdef_situação_da_turma()%%.py\n",
      "\t\tdef_sorteia()_somapar().py\n",
      "\t\tdef_voto().py\n",
      "\t\tdef_área().py\n",
      "\t\tdesconto_ou_juros.py\n",
      "\t\tdict_info_pessoas.py\n",
      "\t\tencontra_vogais.py\n",
      "\t\tencontra_vogal_a.py\n",
      "\t\tescolhe_nome.py\n",
      "\t\tfatorial.py\n",
      "\t\tFibonacci_quantidade.py\n",
      "\t\tformata_string.py\n",
      "\t\thipotenusa.py\n",
      "\t\tinfo_tupla.py\n",
      "\t\tjogador_de_football.py\n",
      "\t\tjogador_de_football_aprimorado.py\n",
      "\t\tjogo_adivinha_num.py\n",
      "\t\tjogo_adivinha_num_while.py\n",
      "\t\tjogo_pedra_papel_tesoura.py\n",
      "\t\tlados_de_triângulo.py\n",
      "\t\tlados_de_triângulo_e_seu_tipo.py\n",
      "\t\tlista_de_compras.py\n",
      "\t\tlista_ordem_sem_sorted()%.py\n",
      "\t\tlista_vlr_únicos.py\n",
      "\t\tm83midnightcityofficialvideo.mp3\n",
      "\t\tmaior_menor_num.py\n",
      "\t\tmaior_menor_vlr.py\n",
      "\t\tmar_ver_3x3.py\n",
      "\t\tmatriz_3x3.py\n",
      "\t\tmatriz_mega_sena.py\n",
      "\t\tmatriz_nota_aluno.py\n",
      "\t\tmatriz_par_ímpar_for.py\n",
      "\t\tmatriz_pessoas_peso.py\n",
      "\t\tmed_maior_menor_vlr.py\n",
      "\t\tmuda_ordem_list.py\n",
      "\t\tmulta_7_acima_80.py\n",
      "\t\tmulticalculadra.py\n",
      "\t\tnum_int.py\n",
      "\t\tnum_por_extenso.py\n",
      "\t\toutput_string.py\n",
      "\t\tp.a._for.py\n",
      "\t\tp.a._while.py\n",
      "\t\tp.a._while_contínuo.py\n",
      "\t\tpalíndromo.py\n",
      "\t\tpar_ímpar_listas.py\n",
      "\t\tplaysound%.py\n",
      "\t\tposição_do_maior_menor_list.py\n",
      "\t\tprimeira_ultima_string.py\n",
      "\t\tsanto_cidade.py\n",
      "\t\tsin_cos_tg.py\n",
      "\t\tsoma_vlr_-999.py\n",
      "\t\tsoma_vlr_-999_while_break.py\n",
      "\t\tsum_mult3_impares.py\n",
      "\t\tsum_pares.py\n",
      "\t\ttabuada_multiplicação.py\n",
      "\t\ttupla_aleatória.py\n",
      "\t\tvalidador_info.py\n",
      "\t\tvalores_dados_aleatórios.py\n",
      "\t\tvalores_de_compras.py\n",
      "\t\tverificador_de_lista.py\n",
      "\t\tver_num.py\n",
      "\t\tver_parêntesis%.py\n",
      "\t\tver_parêntesis.py\n",
      "\t\tver_se_num_primo.py\n",
      "\t\tver_site_pudim.py\n",
      "\t\twd1_at-022.py\n",
      "\t\tímpar_par.py\n",
      "caminho: studyPY\\cevstudy\\.ipynb_checkpoints\n",
      "\t\tcores no terminal-checkpoint.ipynb\n",
      "\t\tdicionários método-checkpoint.ipynb\n",
      "\t\tempacotamento de funções-checkpoint.ipynb\n",
      "\t\tlistas método-checkpoint.ipynb\n",
      "\t\tmanipulando strings-checkpoint.ipynb\n",
      "\t\tmódulo random-checkpoint.ipynb\n",
      "\t\ttuplas-checkpoint.ipynb\n",
      "caminho: studyPY\\cevstudy\\__pycache__\n",
      "\t\tplaysound.cpython-38.pyc\n",
      "caminho: studyPY\\IMD\n",
      "\t\t6_num_crescente%.py\n",
      "\t\t6_num_crescente.py\n",
      "\t\tcoluna_ímpares&coluna_pares.py\n",
      "\t\tcrescente_decrescente.py\n",
      "\t\tdivisores_num.py\n",
      "\t\tdivisores_num_intervalo.py\n",
      "\t\tfeliz_natal.py\n",
      "\t\tFibonacci_intervalo.py\n",
      "\t\tfim_de_mês.py\n",
      "\t\timc.py\n",
      "\t\tinfo_usuário.py\n",
      "\t\tlinhas_ímpares&linhas_pares.py\n",
      "\t\tlista_feita_pelo_usuário.py\n",
      "\t\tmaior_menor_100.py\n",
      "\t\tmaior_num.py\n",
      "\t\tmaior_vlr.py\n",
      "\t\tmaior_vlr_matriz%.py\n",
      "\t\tmatriz.py\n",
      "\t\tmatriz_inversa.py\n",
      "\t\tmatriz_inversa_soma%%.py\n",
      "\t\tmatriz_inversa_soma%.py\n",
      "\t\tmatriz_linha_inversa.py\n",
      "\t\tmatriz_soma_coluna.py\n",
      "\t\tmatriz_soma_linha.py\n",
      "\t\tmdc.py\n",
      "\t\tmed_0_a_10.py\n",
      "\t\tmed_20vlr_acima_abaixo.py\n",
      "\t\tmed_ponderada.py\n",
      "\t\tmed_reais.py\n",
      "\t\tmed_reais_2.py\n",
      "\t\tmenor_vlr_matriz%%%.py\n",
      "\t\tmenor_vlr_matriz%.py\n",
      "\t\tmenor_vlr_posição_sucede_antecede%.py\n",
      "\t\tmultiplica_inteiro.py\n",
      "\t\tmultiplicação_1_2%%.py\n",
      "\t\tmultiplicação_divisão_3num.py\n",
      "\t\tmultiplicação_n1_n2.py\n",
      "\t\tn2_divide_n1.py\n",
      "\t\tn2_fatorial_n1.py\n",
      "\t\tn2_multiplo_n1.py\n",
      "\t\tn3vlr_entre_n1-n2.py\n",
      "\t\tnotas&faltas.py\n",
      "\t\tnum_crescente.py\n",
      "\t\tnum_divididos_último.py\n",
      "\t\tnum_ordem_inversa_for.py\n",
      "\t\tnum_ordem_inversa_while.py\n",
      "\t\tnum_perfeitos.py\n",
      "\t\tnum_primos_intervalo.py\n",
      "\t\tnum_primo__ou_ não_intervalo.py\n",
      "\t\tnum_repetitivo_posição%%%.py\n",
      "\t\tordena_matriz%%%.py\n",
      "\t\tpar_esquerda_ímpar_direita%%.py\n",
      "\t\tpar_ímpar.py\n",
      "\t\tplaysound_pela_soma.py\n",
      "\t\tpositivo_negativo.py\n",
      "\t\tposiçao_matriz_for.py\n",
      "\t\tposição_matriz_while.py\n",
      "\t\tposição_par_dividido_sucessor.py\n",
      "\t\tpri_termo_sequência%.py\n",
      "\t\tquadrado.py\n",
      "\t\tretorna_True_num_primo.py\n",
      "\t\tretângulo.py\n",
      "\t\tsenha_correta_num.py\n",
      "\t\tsenha_correta_string.py\n",
      "\t\tsoma_inteiro.py\n",
      "\t\tsoma_num_primo_intervalo_for.py\n",
      "\t\tsoma_num_primo_intervalo_while.py\n",
      "\t\tsoma_num_ímpares_intervalo_for.py\n",
      "\t\tsoma_num_ímpares_intervalo_while.py\n",
      "\t\tsoma_par_ou_ímpar.py\n",
      "\t\tsoma_vlr_intervalo.py\n",
      "\t\tsubtrai_inteiros.py\n",
      "\t\ttabuada.py\n",
      "\t\ttriângulo_retângulo.py\n",
      "\t\ttriângulo_retângulo_invertido.py\n",
      "\t\tver_num_perfeito.py\n",
      "\t\tver_num_positivo.py\n",
      "\t\tver_num_primo.py\n",
      "\t\tvlr_menor_ou_igual_10.py\n",
      "\t\tvlr_par.py\n",
      "caminho: studyPY\\introdução à programação com PYTHON\n",
      "\t.ipynb_checkpoints\n",
      "\tcap 10\n",
      "\tcap 11\n",
      "\tcap 3\n",
      "\tcap 4\n",
      "\tcap 5\n",
      "\tcap 6\n",
      "\tcap 7\n",
      "\tcap 8\n",
      "\tcap 9\n",
      "caminho: studyPY\\introdução à programação com PYTHON\\.ipynb_checkpoints\n",
      "\t\tUntitled-checkpoint.ipynb\n",
      "caminho: studyPY\\introdução à programação com PYTHON\\cap 10\n",
      "\tclientes\n",
      "\tmapa_uf\n",
      "\t\tbanco_tatu.py\n",
      "\t\tclass_tv's.py\n",
      "\t\tclass_tv_parâmetros_canais.py\n",
      "\t\testados_cidades_e_população.py\n",
      "\t\tnome.py\n",
      "caminho: studyPY\\introdução à programação com PYTHON\\cap 10\\clientes\n",
      "\t__pycache__\n",
      "\t\tbancos.py\n",
      "\t\tclientes.py\n",
      "\t\tcontas.py\n",
      "\t\tverifica.py\n",
      "caminho: studyPY\\introdução à programação com PYTHON\\cap 10\\clientes\\__pycache__\n",
      "\t\tbancos.cpython-38.pyc\n",
      "\t\tclientes.cpython-38.pyc\n",
      "\t\tcontas.cpython-38.pyc\n",
      "\t\tverifica.cpython-38.pyc\n",
      "caminho: studyPY\\introdução à programação com PYTHON\\cap 10\\mapa_uf\n",
      "\t__pycache__\n",
      "\t\tcidades.py\n",
      "\t\testados.py\n",
      "caminho: studyPY\\introdução à programação com PYTHON\\cap 10\\mapa_uf\\__pycache__\n",
      "\t\tcidades.cpython-38.pyc\n",
      "\t\testados.cpython-38.pyc\n",
      "caminho: studyPY\\introdução à programação com PYTHON\\cap 11\n",
      "\t\tsql_armazena_preços.py\n",
      "\t\tsql_aumentando_preços.py\n",
      "\t\tsql_aumenta_preços_selecionado.py\n",
      "\t\tsql_busca_intervalo_valores.py\n",
      "\t\tsql_busca_produtos.py\n",
      "\t\tsql_dict_busca_nome.py\n",
      "\t\tsql_grupos_dos_estados.py\n",
      "\t\tsql_lendo_preços.py\n",
      "\t\tsql_mostra_preços.py\n",
      "\t\tsql_ver_intervalo_preços.py\n",
      "\t\tsql_ver_preços.py\n",
      "caminho: studyPY\\introdução à programação com PYTHON\\cap 3\n",
      "\t\ttmp_calc.py\n",
      "\t\ttot_aluguel_carro.py\n",
      "\t\tvida_fumante.py\n",
      "\t\t°c_°f.py\n",
      "caminho: studyPY\\introdução à programação com PYTHON\\cap 4\n",
      "\t\timposto_de_renda.py\n",
      "\t\tmulta_por_velocidade.py\n",
      "\t\tpreço_minutos.py\n",
      "caminho: studyPY\\introdução à programação com PYTHON\\cap 5\n",
      "\t\tcontador_de_cédulas.py\n",
      "\t\tcontador_de_cédulas_while.py\n",
      "\t\tcontador_de_moedas.py\n",
      "\t\tdivi_subtração_sucessiva.py\n",
      "\t\tjuros_conta_corrente_valor_múltiplo.py\n",
      "\t\tjuros_conta_corrente_valor_único.py\n",
      "\t\tlista_num_primos.py\n",
      "\t\tmulti_soma_sucessiva.py\n",
      "\t\tnum_primo.py\n",
      "\t\tresto_div_soma_e_subtração.py\n",
      "\t\ttabela_operações_while_True.py\n",
      "\t\ttempo_dívida_paga.py\n",
      "caminho: studyPY\\introdução à programação com PYTHON\\cap 6\n",
      "\t\t2_filas_de_banco.py\n",
      "\t\tbubble_sort.py\n",
      "\t\tdict_compra_supermercado.py\n",
      "\t\tdict_str.py\n",
      "\t\tdisponibilidade_no_cinema.py\n",
      "\t\tfila_de_banco.py\n",
      "\t\tfila_de_banco_vários_comandos.py\n",
      "\t\tlista_7_notas.py\n",
      "\t\tlista_de_compras.py\n",
      "\t\tlista_formada_por_2listas_sem_repetição.py\n",
      "\t\tlista_formado_por_2listas.py\n",
      "\t\tmodificação_com_set().py\n",
      "\t\toperações_com_set().py\n",
      "\t\tpilhas_de_prato.py\n",
      "\t\tpilha_de_parêntesis%.py\n",
      "\t\tprocurando_1vlr_lista.py\n",
      "\t\tprocurando_2vlr_lista.py\n",
      "\t\tprocurando_valores_em_uma_lista.py\n",
      "caminho: studyPY\\introdução à programação com PYTHON\\cap 7\n",
      "\t\tcaracteres_comuns_em_2str.py\n",
      "\t\tcaracteres_incomuns_em_2str.py\n",
      "\t\tdesenho_list_jogo_da_forca.py\n",
      "\t\tjogo_da_forca.py\n",
      "\t\tjogo_da_velha%.py\n",
      "\t\tjogo_da_velha.py\n",
      "\t\tjogo_da_velha_rspt.py\n",
      "\t\tlist_jogo_da_forca.py\n",
      "\t\tocorrência_de_um_str_em_outra.py\n",
      "\t\tpesquisa_de_todas_as_ocorrências.py\n",
      "\t\tpocurando_str.py\n",
      "\t\tqnt_caracteres_em_str.py\n",
      "\t\tstr1_sem_os_caracteres_da_2%%.py\n",
      "\t\tsubstituindo_caracteres_str%.py\n",
      "\t\tteste.py\n",
      "caminho: studyPY\\introdução à programação com PYTHON\\cap 8\n",
      "\t\tadivinhar_o_num_3vezes.py\n",
      "\t\tdef_1num_multiplo_2num.py\n",
      "\t\tdef_função_como_parâmetro.py\n",
      "\t\tdef_maior_num.py\n",
      "\t\tdef_máximo_divisor_comum.py\n",
      "\t\tdef_mínimo_múltiplo_comum.py\n",
      "\t\tdef_opção_str.py\n",
      "\t\tdef_pesquisa_de_valor_em_lista_ou_string.py\n",
      "\t\tdef_pesquisa_em_lista.py\n",
      "\t\tdef_printa_lista_com_tab%.py\n",
      "\t\tdef_seq_Fibonacci-2.py\n",
      "\t\tdef_seq_Fibonacci.py\n",
      "\t\tdef_somando_lista.py\n",
      "\t\tdef_str_na_lista.py\n",
      "\t\tdef_verificação_str.py\n",
      "\t\tdef__área_do_quadrado.py\n",
      "\t\tdef_área_do_triângulo.py\n",
      "\t\tgen_num_primos.py\n",
      "\t\tgen_seq_Fibonacci.py\n",
      "\t\tjogo_da_forca_random.py\n",
      "caminho: studyPY\\introdução à programação com PYTHON\\cap 9\n",
      "\tmodulos\n",
      "\t\t2_arq_no_prompt_cria_novo.py\n",
      "\t\tabre_arq_em_link_html_prompt%%.py\n",
      "\t\tarq_infor_html.py\n",
      "\t\tarq_paginado%%.py\n",
      "\t\tarq_prompt.py\n",
      "\t\tarq_sem_espaços_desnecessários%%.py\n",
      "\t\tcontrole_agenda__de_telefone.py\n",
      "\t\tdict_arq.py\n",
      "\t\tdict_arq_linha_coluna.py\n",
      "\t\tespaço_ocupado_dir_html%.py\n",
      "\t\tinverso_pares.py\n",
      "\t\tjg_forca_com_tempo_limite.py\n",
      "\t\tjogo_da_forca_com_arq.py\n",
      "\t\tler_arq_no_prompt.py\n",
      "\t\tler_arq_no_prompt_com_linhas.py\n",
      "\t\tlista_de_arq_1a1.py\n",
      "\t\tlista_de_arq_gera_novo.py\n",
      "\t\tmanipulando_arq.py\n",
      "\t\tpares_e_ímpares%%.py\n",
      "\t\tprocessamento_de_um_arq.py\n",
      "\t\tpágina_html.py\n",
      "\t\tver_arq_dir_existe.py\n",
      "caminho: studyPY\\introdução à programação com PYTHON\\cap 9\\modulos\n",
      "\t__pycache__\n",
      "\t\tver_arq.py\n",
      "caminho: studyPY\\introdução à programação com PYTHON\\cap 9\\modulos\\__pycache__\n",
      "\t\tmanipulação_plr_jg_forca.cpython-38.pyc\n",
      "\t\tver_arq.cpython-38.pyc\n",
      "caminho: studyPY\\pense em python\n",
      "\t.git\n",
      "\tcap 10\n",
      "\tcap 11\n",
      "\tcap 12\n",
      "\tcap 3\n",
      "\tcap 4\n",
      "\tcap 6\n",
      "\tcap 7\n",
      "\tcap 8\n",
      "\tcap 9\n",
      "\t__pycache__\n",
      "\t\t113809words.txt\n",
      "\t\tradioactive.py\n",
      "\t\tREADME.md\n",
      "\t\twords.txt\n",
      "caminho: studyPY\\pense em python\\.git\n",
      "\thooks\n",
      "\tinfo\n",
      "\tlogs\n",
      "\tobjects\n",
      "\trefs\n",
      "\t\tCOMMIT_EDITMSG\n",
      "\t\tconfig\n",
      "\t\tdescription\n",
      "\t\tFETCH_HEAD\n",
      "\t\tHEAD\n",
      "\t\tindex\n",
      "\t\tORIG_HEAD\n",
      "caminho: studyPY\\pense em python\\.git\\hooks\n",
      "\t\tapplypatch-msg.sample\n",
      "\t\tcommit-msg.sample\n",
      "\t\tfsmonitor-watchman.sample\n",
      "\t\tpost-update.sample\n",
      "\t\tpre-applypatch.sample\n",
      "\t\tpre-commit.sample\n",
      "\t\tpre-merge-commit.sample\n",
      "\t\tpre-push.sample\n",
      "\t\tpre-rebase.sample\n",
      "\t\tpre-receive.sample\n",
      "\t\tprepare-commit-msg.sample\n",
      "\t\tpush-to-checkout.sample\n",
      "\t\tupdate.sample\n",
      "caminho: studyPY\\pense em python\\.git\\info\n",
      "\t\texclude\n",
      "caminho: studyPY\\pense em python\\.git\\logs\n",
      "\trefs\n",
      "\t\tHEAD\n",
      "caminho: studyPY\\pense em python\\.git\\logs\\refs\n",
      "\theads\n",
      "\tremotes\n",
      "caminho: studyPY\\pense em python\\.git\\logs\\refs\\heads\n",
      "\t\tmain\n",
      "caminho: studyPY\\pense em python\\.git\\logs\\refs\\remotes\n",
      "\torigin\n",
      "caminho: studyPY\\pense em python\\.git\\logs\\refs\\remotes\\origin\n",
      "\t\tmain\n",
      "caminho: studyPY\\pense em python\\.git\\objects\n",
      "\t01\n",
      "\t10\n",
      "\t2c\n",
      "\t2f\n",
      "\t55\n",
      "\t5a\n",
      "\t73\n",
      "\tba\n",
      "\tbe\n",
      "\tf1\n",
      "\tf3\n",
      "\tfd\n",
      "\tinfo\n",
      "\tpack\n",
      "caminho: studyPY\\pense em python\\.git\\objects\\01\n",
      "\t\ta73cbba89db8cbe9e568f3e9bffd92bb53a720\n",
      "caminho: studyPY\\pense em python\\.git\\objects\\10\n",
      "\t\tb4f0ae92939506b3ad3190109e2d3995af6480\n",
      "caminho: studyPY\\pense em python\\.git\\objects\\2c\n",
      "\t\tfad53b53c13ce98429f53b2774f887f06f4e0b\n",
      "caminho: studyPY\\pense em python\\.git\\objects\\2f\n",
      "\t\te8d13842fd1282eb6fefd2242e24d5e9c5fdf3\n",
      "caminho: studyPY\\pense em python\\.git\\objects\\55\n",
      "\t\tcd28c66600238a9647b2de34e1dc0a48d1df78\n",
      "caminho: studyPY\\pense em python\\.git\\objects\\5a\n",
      "\t\t506f1b5e5819657eec7934ee575e2c04481954\n",
      "caminho: studyPY\\pense em python\\.git\\objects\\73\n",
      "\t\t37f6ca3fc72bd89261b4fb0fa2a819cebe51d5\n",
      "caminho: studyPY\\pense em python\\.git\\objects\\ba\n",
      "\t\t22325c12cab76096bb7b7a92f0a5e4d69b31a8\n",
      "caminho: studyPY\\pense em python\\.git\\objects\\be\n",
      "\t\t6bc20b21dacf13cc19ccb7a4dd9e4f0454c5d6\n",
      "caminho: studyPY\\pense em python\\.git\\objects\\f1\n",
      "\t\t2215e7020896667bb392507e1093ac2f7a00fc\n",
      "caminho: studyPY\\pense em python\\.git\\objects\\f3\n",
      "\t\tbb589e58e249da1a80f8cf7ecdabce9bab9209\n",
      "caminho: studyPY\\pense em python\\.git\\objects\\fd\n",
      "\t\tef0b664f008e0b1279f2e9d492319395503dcb\n",
      "caminho: studyPY\\pense em python\\.git\\objects\\info\n",
      "caminho: studyPY\\pense em python\\.git\\objects\\pack\n",
      "caminho: studyPY\\pense em python\\.git\\refs\n",
      "\theads\n",
      "\tremotes\n",
      "\ttags\n",
      "caminho: studyPY\\pense em python\\.git\\refs\\heads\n",
      "\t\tmain\n",
      "caminho: studyPY\\pense em python\\.git\\refs\\remotes\n",
      "\torigin\n",
      "caminho: studyPY\\pense em python\\.git\\refs\\remotes\\origin\n",
      "\t\tmain\n",
      "caminho: studyPY\\pense em python\\.git\\refs\\tags\n",
      "caminho: studyPY\\pense em python\\cap 10\n",
      "\t\tdef_lista_anagramas.py\n",
      "\t\tdef_lista_elemento_do_meio.py\n",
      "\t\tdef_lista_exclui_1º_e_útimo.py\n",
      "\t\tdef_lista_paradoxo_do_aniversário.py\n",
      "\t\tdef_lista_soma_cumulativa.py\n",
      "caminho: studyPY\\pense em python\\cap 11\n",
      "\t.ipynb_checkpoints\n",
      "\t\tdict_ackermann_memo.py\n",
      "\t\tdict_has_duplicates.py\n",
      "\t\tdict_inverte_dicionário.py\n",
      "\t\tdict_palavra_no_dicionário.py\n",
      "caminho: studyPY\\pense em python\\cap 11\\.ipynb_checkpoints\n",
      "\t\tin e len() com dict-checkpoint.ipynb\n",
      "\t\tmemos-checkpoint.ipynb\n",
      "caminho: studyPY\\pense em python\\cap 12\n",
      "\t__pycache__\n",
      "\t\tdict_frequência_de_letras.py\n",
      "\t\tlist_anagramas.py\n",
      "\t\tpalavras redutíveis.py\n",
      "\t\tpares_de_metátese.py\n",
      "caminho: studyPY\\pense em python\\cap 12\\__pycache__\n",
      "\t\tlist_anagramas.cpython-39.pyc\n",
      "caminho: studyPY\\pense em python\\cap 3\n",
      "\t\tdef_desenho_de_grade.py\n",
      "\t\tdef_desenho_de_grade_4.py\n",
      "\t\tdef_função_que_chama_função.py\n",
      "\t\tdef_passando_parâmetro_por funções.py\n",
      "caminho: studyPY\\pense em python\\cap 4\n",
      "\t\tdef_turtle_circunferência.py\n",
      "\t\tdef_turtle_círculo.py\n",
      "\t\tdef_turtle_espiral.py\n",
      "\t\tdef_turtle_gráfico_de_pizza%%.py\n",
      "\t\tdef_turtle_polígono.py\n",
      "\t\tdef_turtle_quadrado.py\n",
      "\t\tdef_turtle_retângulo.py\n",
      "\t\tdef_turtle_rosa%.py\n",
      "caminho: studyPY\\pense em python\\cap 6\n",
      "\t\tdef_ackermann.py\n",
      "\t\tdef_mdc.py\n",
      "\t\tdef_potência.py\n",
      "caminho: studyPY\\pense em python\\cap 7\n",
      "\t\tdef_método_Newton.py\n",
      "\t\tdef_série_Ramanujan.py\n",
      "caminho: studyPY\\pense em python\\cap 8\n",
      "\t\tdef_cifra_de_César.py\n",
      "caminho: studyPY\\pense em python\\cap 9\n",
      "\t\tdef_file_3_letras_consecutivas.py\n",
      "\t\tdef_file_contar_ee.py\n",
      "\t\tdef_file_encontra_palavras.py\n",
      "\t\tdef_file_usa_todas_as_letras.py\n",
      "\t\tdef_file_é_abecedário.py\n",
      "\t\tdef_idade_invertida%.py\n",
      "\t\tdef_num_palíndromo.py\n",
      "caminho: studyPY\\pense em python\\__pycache__\n",
      "\t\tcs.cpython-39.pyc\n",
      "\t\tdef_turtle_círculo.cpython-39.pyc\n",
      "caminho: studyPY\\__pycache__\n",
      "\t\tcria_arq.cpython-38.pyc\n",
      "\t\tquad_equação.cpython-39.pyc\n",
      "\t\tteste.cpython-39.pyc\n",
      "\t\tteste_2.cpython-39.pyc\n"
     ]
    }
   ],
   "source": [
    "for raiz, diretórios, arquivos in os.walk('studyPY'):\n",
    "    print(f'caminho: {raiz}')\n",
    "    for d in diretórios:\n",
    "        print(f'\\t{d}')\n",
    "    for a in arquivos:\n",
    "        print(f'\\t\\t{a}')"
   ]
  },
  {
   "cell_type": "markdown",
   "id": "935d6425-a3c5-4e36-a44f-a5740c792d7d",
   "metadata": {},
   "source": [
    "observe que foi criado listas dentro da lista que o `os.walk()` cria, e cada uma delas é referente a um diretório diferente com todos os seus arquivos."
   ]
  }
 ],
 "metadata": {
  "kernelspec": {
   "display_name": "Python 3 (ipykernel)",
   "language": "python",
   "name": "python3"
  },
  "language_info": {
   "codemirror_mode": {
    "name": "ipython",
    "version": 3
   },
   "file_extension": ".py",
   "mimetype": "text/x-python",
   "name": "python",
   "nbconvert_exporter": "python",
   "pygments_lexer": "ipython3",
   "version": "3.10.6"
  }
 },
 "nbformat": 4,
 "nbformat_minor": 5
}
