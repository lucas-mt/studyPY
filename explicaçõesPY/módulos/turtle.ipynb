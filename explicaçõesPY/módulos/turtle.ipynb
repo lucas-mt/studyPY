{
 "cells": [
  {
   "cell_type": "markdown",
   "id": "e70e8216-43c1-4196-b2d7-01d1729a5b5b",
   "metadata": {},
   "source": [
    "## ***desenhando com turtle***\n",
    "---"
   ]
  },
  {
   "cell_type": "code",
   "execution_count": 1,
   "id": "d70bfffb-b481-4e64-b239-f903c22c6fe7",
   "metadata": {},
   "outputs": [],
   "source": [
    "import turtle"
   ]
  },
  {
   "cell_type": "markdown",
   "id": "aa581799-ca68-417f-a93d-697e00f94b8c",
   "metadata": {},
   "source": [
    "com este módulo é possível fazer alguns desenhos. Para isto, é necessário atribuir a uma variável a classe turtle"
   ]
  },
  {
   "cell_type": "code",
   "execution_count": 2,
   "id": "7a152dfe-4432-456a-9870-cb323cf37682",
   "metadata": {},
   "outputs": [],
   "source": [
    "fc = turtle.Turtle()"
   ]
  },
  {
   "cell_type": "markdown",
   "id": "190c01a3-5a97-4385-b9df-3e44a7479bc1",
   "metadata": {},
   "source": [
    "a variável `fc`, agora, pode ser usada como um cursor ou uma caneta, passando as funções:\n",
    "função | inglês | significado\n",
    "---|---|---\n",
    "fd(x) | forward | desenha para frente\n",
    "bk(x) | backward | desenha para trás\n",
    "lt(y) | left | vira para esquerda\n",
    "rt(y) | right | vira para direita\n",
    "pu() | pen up | caneta para cima, não desenha\n",
    "pd() | pen down | caneta para baixo, volta a desenhar\n",
    "\n",
    "onde `x` é a quantidade de pixels que a caneta deve andar e `y` é o grau em que o caneta deve virar."
   ]
  },
  {
   "cell_type": "markdown",
   "id": "2e7c18e5-b912-49f3-a70f-210de9eb404e",
   "metadata": {},
   "source": [
    "um exemplo, para desenhar um quadrado, pode ser feito"
   ]
  },
  {
   "cell_type": "code",
   "execution_count": 3,
   "id": "0551c92d-2219-458a-9444-0c998b471503",
   "metadata": {},
   "outputs": [],
   "source": [
    "fc.fd(180)\n",
    "fc.lt(90)\n",
    "fc.fd(180)\n",
    "fc.lt(90)\n",
    "fc.fd(180)\n",
    "fc.lt(90)\n",
    "fc.fd(180)"
   ]
  },
  {
   "cell_type": "markdown",
   "id": "18f6c525-4665-4ff3-bad5-db4a44d0a2fc",
   "metadata": {},
   "source": [
    "ou, através do loop:"
   ]
  },
  {
   "cell_type": "code",
   "execution_count": 4,
   "id": "db40833c-d950-4350-b8cc-77d783485ce6",
   "metadata": {},
   "outputs": [],
   "source": [
    "for _ in range(4):\n",
    "    fc.fd(180)\n",
    "    fc.lt(90)"
   ]
  },
  {
   "cell_type": "markdown",
   "id": "f91108b3-b46b-4575-a255-a7ec29b911d3",
   "metadata": {},
   "source": [
    "é necessário, ao fim do código, colocar:"
   ]
  },
  {
   "cell_type": "code",
   "execution_count": 5,
   "id": "34f4e86f-63e0-46de-927a-074433772c74",
   "metadata": {},
   "outputs": [],
   "source": [
    "turtle.mainloop()"
   ]
  },
  {
   "cell_type": "markdown",
   "id": "a0751e2e-b0ea-4054-969d-a19a3b9a42b3",
   "metadata": {},
   "source": [
    "para que a janela permaneça aberta após a execução do desenho."
   ]
  }
 ],
 "metadata": {
  "kernelspec": {
   "display_name": "Python 3 (ipykernel)",
   "language": "python",
   "name": "python3"
  },
  "language_info": {
   "codemirror_mode": {
    "name": "ipython",
    "version": 3
   },
   "file_extension": ".py",
   "mimetype": "text/x-python",
   "name": "python",
   "nbconvert_exporter": "python",
   "pygments_lexer": "ipython3",
   "version": "3.9.5"
  }
 },
 "nbformat": 4,
 "nbformat_minor": 5
}
