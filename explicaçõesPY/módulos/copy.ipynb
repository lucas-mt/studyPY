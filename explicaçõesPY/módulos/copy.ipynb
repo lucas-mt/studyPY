{
 "cells": [
  {
   "cell_type": "markdown",
   "id": "11e9f327-783b-45f6-9a94-4f1763e0352a",
   "metadata": {},
   "source": [
    "## Copy\n",
    "---"
   ]
  },
  {
   "cell_type": "code",
   "execution_count": 2,
   "id": "1fa4a4e8-0782-40db-a5c6-3c958df445e1",
   "metadata": {},
   "outputs": [],
   "source": [
    "import copy"
   ]
  },
  {
   "cell_type": "markdown",
   "id": "b9cf36b6-b53d-458f-a200-03fed4f4f36d",
   "metadata": {},
   "source": [
    "é um módulo que serve para copiar objetos.\n",
    "\n",
    "Por exemplo:"
   ]
  },
  {
   "cell_type": "code",
   "execution_count": 1,
   "id": "748ef2ee-b267-44b3-adc8-2c835ab9158b",
   "metadata": {},
   "outputs": [],
   "source": [
    "class Point():\n",
    "    def __init__(self, x, y):\n",
    "        self.x = x\n",
    "        self.y = y\n",
    "\n",
    "class Rectangle:\n",
    "    def __init__(self, lar, alt):\n",
    "        self.h = alt\n",
    "        self.l = lar\n",
    "    def centro(self):\n",
    "        return (self.corner.x + (self.l/2), self.corner.y + (self.h/2))\n",
    "    def move(self, dx, dy):\n",
    "        self.corner.x += dx\n",
    "        self.corner.y += dy\n",
    "        return (self.corner.x, self.corner.y)\n",
    "\n",
    "box = Rectangle(100, 200)\n",
    "box.corner = Point(0, 0)"
   ]
  },
  {
   "cell_type": "markdown",
   "id": "92a1790c-ef42-465b-9eba-23ee97596fee",
   "metadata": {},
   "source": [
    "temos uma classe que cria o tipo `Rectangle` (retângulo) e criamos o objeto `box`, porém, supondo que desejamos fazer algumas alterações neste objeto, mas como não temos certeza se estas alterações implicariam em mudanças não desejadas, o que podemos fazer é copiar este objeto em um novo objeto e neste novo objeto fazer as alterações desejadas utilizando o método `copy()`"
   ]
  },
  {
   "cell_type": "code",
   "execution_count": 3,
   "id": "57c80045-1c4c-4dd1-a4ea-3cefc713336c",
   "metadata": {},
   "outputs": [],
   "source": [
    "new_box = copy.copy(box)"
   ]
  },
  {
   "cell_type": "markdown",
   "id": "01bab79a-4533-4e10-a593-3a9a3de917c3",
   "metadata": {},
   "source": [
    "o objeto `new_box` terá todos os valores atribuídos ao objeto `box` e eles são considerados duas variáveis diferentes"
   ]
  },
  {
   "cell_type": "code",
   "execution_count": 4,
   "id": "95452182-6b3a-41c1-b11d-4700171b4f3a",
   "metadata": {},
   "outputs": [
    {
     "name": "stdout",
     "output_type": "stream",
     "text": [
      "False\n",
      "False\n"
     ]
    }
   ],
   "source": [
    "print(new_box is box)\n",
    "print(new_box == box)"
   ]
  },
  {
   "cell_type": "markdown",
   "id": "74419819-1e6f-4355-9877-67b1baa3e246",
   "metadata": {},
   "source": [
    "porém, é necessário tomar cuidado quando um só objeto está atribuído à duas classes diferentes, pois o método `copy()` apenas copia a classe principal:"
   ]
  },
  {
   "cell_type": "code",
   "execution_count": 5,
   "id": "8a883640-3866-4aa8-a12f-00ab89da50eb",
   "metadata": {},
   "outputs": [
    {
     "name": "stdout",
     "output_type": "stream",
     "text": [
      "True\n"
     ]
    }
   ],
   "source": [
    "print(new_box.corner == box.corner)"
   ]
  },
  {
   "cell_type": "markdown",
   "id": "36abe067-db5a-494f-9393-367527cdeef7",
   "metadata": {},
   "source": [
    "isto é, a informação de `corner` foi passada para o novo objeto, porém, ele continua atrelado ao objeto orignal e, por isso, qualquer alteração em `new_box.corner` também será vista em `box.corner`"
   ]
  },
  {
   "cell_type": "markdown",
   "id": "fb07e9f0-6408-4799-84ab-9ae2221d46f3",
   "metadata": {},
   "source": [
    "para que isto não ocorra, pode ser usado o método `deepcopy()` que, copia não só o objeto, mas, também, os objetos que ele se refere e os objetos que estes se referem:"
   ]
  },
  {
   "cell_type": "code",
   "execution_count": 6,
   "id": "daabd192-673c-4233-9c22-188e8df7f20f",
   "metadata": {},
   "outputs": [
    {
     "name": "stdout",
     "output_type": "stream",
     "text": [
      "False\n",
      "False\n",
      "False\n"
     ]
    }
   ],
   "source": [
    "new_new_box = copy.deepcopy(box)\n",
    "print(new_new_box is box)\n",
    "print(new_new_box == box)\n",
    "print(new_new_box.corner == box.corner)"
   ]
  }
 ],
 "metadata": {
  "kernelspec": {
   "display_name": "Python 3 (ipykernel)",
   "language": "python",
   "name": "python3"
  },
  "language_info": {
   "codemirror_mode": {
    "name": "ipython",
    "version": 3
   },
   "file_extension": ".py",
   "mimetype": "text/x-python",
   "name": "python",
   "nbconvert_exporter": "python",
   "pygments_lexer": "ipython3",
   "version": "3.10.6"
  }
 },
 "nbformat": 4,
 "nbformat_minor": 5
}
