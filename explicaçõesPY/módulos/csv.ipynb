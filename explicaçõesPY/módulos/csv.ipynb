{
 "cells": [
  {
   "cell_type": "markdown",
   "id": "a719517e-2cc7-40fc-9407-e91a9a73d145",
   "metadata": {},
   "source": [
    "## csv\n",
    "---"
   ]
  },
  {
   "cell_type": "code",
   "execution_count": 1,
   "id": "c950f858-07d8-4c89-bc29-2891ca78817e",
   "metadata": {},
   "outputs": [],
   "source": [
    "import csv"
   ]
  },
  {
   "cell_type": "markdown",
   "id": "305c4748-ecb4-4587-be75-97307341bc59",
   "metadata": {},
   "source": [
    "para manipular arquivos csv com este módulo, é, antes, necessário abrir o arquivo com a sintaxe padrão de python:"
   ]
  },
  {
   "cell_type": "markdown",
   "id": "86aea37c-5a8a-439c-8de4-8aaf8a970062",
   "metadata": {},
   "source": [
    "```\n",
    "with open('<arq.csv>', 'r', enconding='utf-8') as dd:\n",
    "```"
   ]
  },
  {
   "cell_type": "markdown",
   "id": "698ac6e0-63b1-411b-9c33-1ff4febb7b82",
   "metadata": {},
   "source": [
    "em seguida, deve-se criar uma variável para ler as informações de <arq.csv>. isto será possível usando a função `reader()` que recebe como parâmetro o arquivo. depois, é preciso especificar que o separador de informações é uma vírgula, usando o parâmetro `delimiter=`"
   ]
  },
  {
   "cell_type": "markdown",
   "id": "7ebcf351-2079-4912-8f89-3e95e5d7938e",
   "metadata": {},
   "source": [
    "```\n",
    "    leitor = csv.reader(dd, delimiter=',')\n",
    "```"
   ]
  },
  {
   "cell_type": "markdown",
   "id": "5cb22837-9a08-46d4-add4-143b37150edf",
   "metadata": {},
   "source": [
    "só então, esta variável `leitor` pode ser usada em loops ou com indexings, etc.:"
   ]
  },
  {
   "cell_type": "markdown",
   "id": "f6266b6e-8c82-4a0b-aea7-ef72e7440424",
   "metadata": {},
   "source": [
    "```\n",
    "for i in leitor:\n",
    "    print(i)\n",
    "```"
   ]
  },
  {
   "cell_type": "code",
   "execution_count": null,
   "id": "eecb5e25-2404-4291-840c-0040a01ea5e5",
   "metadata": {},
   "outputs": [],
   "source": []
  }
 ],
 "metadata": {
  "kernelspec": {
   "display_name": "Python 3 (ipykernel)",
   "language": "python",
   "name": "python3"
  },
  "language_info": {
   "codemirror_mode": {
    "name": "ipython",
    "version": 3
   },
   "file_extension": ".py",
   "mimetype": "text/x-python",
   "name": "python",
   "nbconvert_exporter": "python",
   "pygments_lexer": "ipython3",
   "version": "3.10.6"
  }
 },
 "nbformat": 4,
 "nbformat_minor": 5
}
