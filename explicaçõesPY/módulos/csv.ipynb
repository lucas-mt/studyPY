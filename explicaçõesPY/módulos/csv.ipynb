{
 "cells": [
  {
   "cell_type": "markdown",
   "id": "a719517e-2cc7-40fc-9407-e91a9a73d145",
   "metadata": {},
   "source": [
    "## csv\n",
    "---"
   ]
  },
  {
   "cell_type": "code",
   "execution_count": 1,
   "id": "c950f858-07d8-4c89-bc29-2891ca78817e",
   "metadata": {},
   "outputs": [],
   "source": [
    "import csv"
   ]
  },
  {
   "cell_type": "markdown",
   "id": "5c1d7e13-a2e5-4571-88d0-6e6559930447",
   "metadata": {},
   "source": [
    "#### lendo csv\n",
    "---"
   ]
  },
  {
   "cell_type": "markdown",
   "id": "305c4748-ecb4-4587-be75-97307341bc59",
   "metadata": {},
   "source": [
    "para manipular arquivos csv com este módulo, é, antes, necessário abrir o arquivo com a sintaxe padrão de python:"
   ]
  },
  {
   "cell_type": "markdown",
   "id": "86aea37c-5a8a-439c-8de4-8aaf8a970062",
   "metadata": {},
   "source": [
    "```\n",
    "with open('<arq.csv>', 'r', enconding='utf-8') as dd:\n",
    "```"
   ]
  },
  {
   "cell_type": "markdown",
   "id": "698ac6e0-63b1-411b-9c33-1ff4febb7b82",
   "metadata": {},
   "source": [
    "em seguida, deve-se criar uma variável para ler as informações de <arq.csv>. isto será possível usando a função `reader()` que recebe como parâmetro o arquivo. depois, é preciso especificar que o separador de informações se este não for uma vírgula, usando o parâmetro `delimiter=`"
   ]
  },
  {
   "cell_type": "markdown",
   "id": "7ebcf351-2079-4912-8f89-3e95e5d7938e",
   "metadata": {},
   "source": [
    "```\n",
    "    leitor = csv.reader(dd, delimiter=',')\n",
    "```"
   ]
  },
  {
   "cell_type": "markdown",
   "id": "5cb22837-9a08-46d4-add4-143b37150edf",
   "metadata": {},
   "source": [
    "só então, esta variável `leitor` pode ser usada em loops ou com indexings, etc.:"
   ]
  },
  {
   "cell_type": "markdown",
   "id": "f6266b6e-8c82-4a0b-aea7-ef72e7440424",
   "metadata": {},
   "source": [
    "```\n",
    "for i in leitor:\n",
    "    print(i)\n",
    "```"
   ]
  },
  {
   "cell_type": "markdown",
   "id": "485c6574-d72e-4333-adaf-70f04ba8a744",
   "metadata": {},
   "source": [
    "como a primeira linha pode ser usada para nomear as colunas, é possível usar `next(<arq.csv>)` para pular a primeira linha se desejar:"
   ]
  },
  {
   "cell_type": "markdown",
   "id": "9076ee3c-1d7c-4aef-b1fa-a8feded114e5",
   "metadata": {},
   "source": [
    "```\n",
    "with open('<arq.csv>', 'r') as dd:\n",
    "    leitor = csv.reader(dd, delimiter=',')\n",
    "    next(leitor)\n",
    "    for i in leitor:\n",
    "        print(i)\n",
    "```"
   ]
  },
  {
   "cell_type": "markdown",
   "id": "6615682c-baa9-45c8-8834-37a0409b075d",
   "metadata": {},
   "source": [
    "se desejar ver as informações organizadas em um dicionário, deve-se trocar `.reader()` para `.DictReader()`, que receber os mesmos parâmetros que aquela.\n",
    "\n",
    "Esta função usa a primeira linha como os índices do dicinário, considerando como uma informação apenas a partir da segunda."
   ]
  },
  {
   "cell_type": "markdown",
   "id": "ca41712e-9ac1-4b92-b9af-c195268aa536",
   "metadata": {},
   "source": [
    "```\n",
    "with open('<arq.csv>', 'r') as dd:\n",
    "    leitor = csv.DictReader(dd, delimiter=',')\n",
    "    next(leitor)\n",
    "    for i in leitor:\n",
    "        print(i)\n",
    "```"
   ]
  },
  {
   "cell_type": "markdown",
   "id": "f15a7aa1-85d4-4f59-8e2a-3f7388715fe1",
   "metadata": {},
   "source": [
    "desta forma, `leitor` pode ser usado como um dicionário."
   ]
  },
  {
   "cell_type": "markdown",
   "id": "339a528e-91c4-4bf3-b58a-fc7884224183",
   "metadata": {},
   "source": [
    "#### escrevendo csv\n",
    "---"
   ]
  },
  {
   "cell_type": "markdown",
   "id": "410dd58f-86b3-47fd-bf51-c289eabb5c3e",
   "metadata": {},
   "source": [
    "de forma semelhante a ler um arquivo csv, é possível criar um objeto com a função `.writer()` que recebe os mesmos parâmetros: nome do arquivo, seguido do separador, se este não for uma vírgula:"
   ]
  },
  {
   "cell_type": "markdown",
   "id": "beca8abf-1b7e-4ad1-b965-dd32ac42f624",
   "metadata": {},
   "source": [
    "```\n",
    "with open('<arq.csv>', 'r') as neo:\n",
    "    escritor = csv.writer(neo, delimiter=';')\n",
    "```"
   ]
  },
  {
   "cell_type": "markdown",
   "id": "2c8d4a4c-77b1-4ff7-8554-50fdbefb4565",
   "metadata": {},
   "source": [
    "então, usando `.writerow(info)` é possível escrever neste arquivo:"
   ]
  },
  {
   "cell_type": "markdown",
   "id": "6730de56-cc77-442f-9eb9-cdf352f68d50",
   "metadata": {},
   "source": [
    "```\n",
    "    for infos in lista:\n",
    "        escritor.writerow(infos)\n",
    "```"
   ]
  }
 ],
 "metadata": {
  "kernelspec": {
   "display_name": "Python 3 (ipykernel)",
   "language": "python",
   "name": "python3"
  },
  "language_info": {
   "codemirror_mode": {
    "name": "ipython",
    "version": 3
   },
   "file_extension": ".py",
   "mimetype": "text/x-python",
   "name": "python",
   "nbconvert_exporter": "python",
   "pygments_lexer": "ipython3",
   "version": "3.10.6"
  }
 },
 "nbformat": 4,
 "nbformat_minor": 5
}
