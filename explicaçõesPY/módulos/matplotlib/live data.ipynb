{
 "cells": [
  {
   "cell_type": "markdown",
   "id": "d9606105-51a5-4a15-bfc1-39b425146dba",
   "metadata": {},
   "source": [
    "## matplotlib.pyplot: live data in real life\n",
    "---"
   ]
  },
  {
   "cell_type": "markdown",
   "id": "2fb10dfd-b845-4e59-9046-db5bee9671da",
   "metadata": {},
   "source": [
    "para fazer um gráfico que atualiza automaticamente seus valores, é necessário importar as bibliotecas:"
   ]
  },
  {
   "cell_type": "code",
   "execution_count": 2,
   "id": "93fc426d-e5c0-4e7f-a5ce-0a289775e315",
   "metadata": {},
   "outputs": [],
   "source": [
    "from matplotlib.animation import FuncAnimation as fa\n",
    "import matplotlib.pyplot as plt"
   ]
  },
  {
   "cell_type": "markdown",
   "id": "838a7e40-4b6a-4cf3-a330-47cb10954391",
   "metadata": {},
   "source": [
    "agora, é necessário declarar listas vazias que serão atualizadas com o tempo a partir de uma função específica, conforme o exemplo:"
   ]
  },
  {
   "cell_type": "code",
   "execution_count": 7,
   "id": "e69ccc1c-0b06-4fb9-b8d6-5566172dab11",
   "metadata": {},
   "outputs": [],
   "source": [
    "from random import randint\n",
    "from itertools import count\n",
    "\n",
    "index = count()\n",
    "x, y = [], []\n",
    "\n",
    "def animação(i):\n",
    "    x.append(next(index))\n",
    "    y.append(randint(0, 5))\n",
    "    plt.cla()\n",
    "    plt.plot(x, y)"
   ]
  },
  {
   "cell_type": "markdown",
   "id": "5cd748bc-b89b-4f8d-a71a-a884e2084651",
   "metadata": {},
   "source": [
    "a função `animação()`, também, é a responsável por plotar o gráfico. A linha `plt.cla()` é responsável por limpar o gráfico para que este não apenas desenhe um novo gráfico a cada vez que for atualizado."
   ]
  },
  {
   "cell_type": "markdown",
   "id": "ce7ea33f-8528-40f1-bf36-722d762541d7",
   "metadata": {},
   "source": [
    "em seguida, é necessário usar a função importada `fa()`. Nela tem-se que passar a imagem que deseja do gráfico, e isto é possível com o argumento `plt.gcf()`, que significa *get current figure*.\n",
    "\n",
    "Em seguida, passa-se a função que atualizará os valores de `x` e `y`, neste exemplo, `animação()`.\n",
    "\n",
    "Depois, é necessário passar o intervalo de atualização, e, como é contado em milisegundos, se deseja que seja atualizado a cada 1 segundo, o argumento a colocar é `interval=1000`."
   ]
  },
  {
   "cell_type": "code",
   "execution_count": 8,
   "id": "609be0d9-4e72-47a3-ac6f-0360712dd609",
   "metadata": {},
   "outputs": [
    {
     "data": {
      "image/png": "[encoded data removed]",
      "text/plain": [
       "<Figure size 640x480 with 1 Axes>"
      ]
     },
     "metadata": {},
     "output_type": "display_data"
    }
   ],
   "source": [
    "ani = fa(plt.gcf(), animação, interval=1000)"
   ]
  }
 ],
 "metadata": {
  "kernelspec": {
   "display_name": "Python 3 (ipykernel)",
   "language": "python",
   "name": "python3"
  },
  "language_info": {
   "codemirror_mode": {
    "name": "ipython",
    "version": 3
   },
   "file_extension": ".py",
   "mimetype": "text/x-python",
   "name": "python",
   "nbconvert_exporter": "python",
   "pygments_lexer": "ipython3",
   "version": "3.9.5"
  }
 },
 "nbformat": 4,
 "nbformat_minor": 5
}
