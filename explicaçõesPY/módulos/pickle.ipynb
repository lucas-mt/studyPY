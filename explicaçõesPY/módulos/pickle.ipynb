{
 "cells": [
  {
   "cell_type": "markdown",
   "id": "3a1e143d-1b34-42d5-9d07-6feae290faa4",
   "metadata": {},
   "source": [
    "## ***guardando arquivos em binário***\n",
    "---"
   ]
  },
  {
   "cell_type": "markdown",
   "id": "792668f1-d245-4cd9-b240-34b02a1f3dc0",
   "metadata": {},
   "source": [
    "pode-se usar o módulo `pickle` com valores do tipo booleano, inteiro, racional, irracional, números complexos, string(normal ou unicode), tuplas, listas, conjuntos e dicionários para transformá-lo em binário."
   ]
  },
  {
   "cell_type": "code",
   "execution_count": 1,
   "id": "262bdc64-9828-4fd8-b516-023422e4f975",
   "metadata": {},
   "outputs": [],
   "source": [
    "import pickle"
   ]
  },
  {
   "cell_type": "markdown",
   "id": "efbe5ba4-e194-4c98-b624-93e1babdae20",
   "metadata": {},
   "source": [
    "como exemplo:"
   ]
  },
  {
   "cell_type": "code",
   "execution_count": 2,
   "id": "38ed4516-3a5e-4f0b-8197-49e3625716a3",
   "metadata": {},
   "outputs": [
    {
     "name": "stdout",
     "output_type": "stream",
     "text": [
      "b'\\x80\\x04\\x95%\\x00\\x00\\x00\\x00\\x00\\x00\\x00}\\x94(\\x8c\\x05luxor\\x94K\\x05\\x8c\\x06odessa\\x94K\\x08\\x8c\\x06luanda\\x94K\\x14u.'\n"
     ]
    }
   ],
   "source": [
    "animais_dict = {'luxor': 5, 'odessa': 8, 'luanda': 20}\n",
    "animais_bin = pickle.dumps(animais_dict)\n",
    "print(animais_bin)"
   ]
  },
  {
   "cell_type": "markdown",
   "id": "859cb625-b0bb-4d11-acc6-c5d98709271c",
   "metadata": {},
   "source": [
    "observe que com a função `dumps()` foi possível transformar o dicionário em informação binária."
   ]
  },
  {
   "cell_type": "markdown",
   "id": "78316096-245c-4049-ae5d-b237dfcfe661",
   "metadata": {},
   "source": [
    "esta informação em binário pode ser revertida usando a função `loads()` "
   ]
  },
  {
   "cell_type": "code",
   "execution_count": 3,
   "id": "7c5f86ee-b433-404b-91b2-ddc1f62ce5f4",
   "metadata": {},
   "outputs": [
    {
     "name": "stdout",
     "output_type": "stream",
     "text": [
      "{'luxor': 5, 'odessa': 8, 'luanda': 20}\n"
     ]
    }
   ],
   "source": [
    "animais_desbin = pickle.loads(animais_bin)\n",
    "print(animais_desbin)"
   ]
  },
  {
   "cell_type": "markdown",
   "id": "4e8263b8-e152-4dae-a2d3-27e1305491ec",
   "metadata": {},
   "source": [
    "lembre-se que, para armazenar informações binárias em arquivos de texto, no modo de leitura é necessário usar `wb`:\n",
    "```\n",
    "with open('arquivo_de_texto.txt', 'wb') as arq:\n",
    "```\n",
    "assim, este arquivo estará pronto para receber estas informações da maneira correta."
   ]
  }
 ],
 "metadata": {
  "kernelspec": {
   "display_name": "Python 3 (ipykernel)",
   "language": "python",
   "name": "python3"
  },
  "language_info": {
   "codemirror_mode": {
    "name": "ipython",
    "version": 3
   },
   "file_extension": ".py",
   "mimetype": "text/x-python",
   "name": "python",
   "nbconvert_exporter": "python",
   "pygments_lexer": "ipython3",
   "version": "3.9.5"
  }
 },
 "nbformat": 4,
 "nbformat_minor": 5
}
