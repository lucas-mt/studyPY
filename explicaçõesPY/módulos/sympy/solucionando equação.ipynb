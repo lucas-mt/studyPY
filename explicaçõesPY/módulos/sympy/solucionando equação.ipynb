{
 "cells": [
  {
   "cell_type": "markdown",
   "id": "95fa3802-c792-4789-8bd1-aec30de1d800",
   "metadata": {},
   "source": [
    "## equações\n",
    "---"
   ]
  },
  {
   "cell_type": "code",
   "execution_count": 1,
   "id": "b609a155-3c26-469a-bfde-86e2a5aaeb84",
   "metadata": {},
   "outputs": [],
   "source": [
    "import sympy as sp"
   ]
  },
  {
   "cell_type": "markdown",
   "id": "78cbcac5-7445-4d4b-86d5-caff2abaa661",
   "metadata": {},
   "source": [
    "como em python `=` já é reservado para declarar variáveis e `==` é reservado para comparações booleanas, fica sendo necessário usar a função `Eq()` quando queremos declarar uma equação:"
   ]
  },
  {
   "cell_type": "code",
   "execution_count": 2,
   "id": "166c3ce8-6636-4f9e-9de8-36f828160043",
   "metadata": {},
   "outputs": [],
   "source": [
    "x = sp.Symbol('x')\n",
    "expr = x**2+2*x-2\n",
    "eq = sp.Eq(expr, 0)"
   ]
  },
  {
   "cell_type": "code",
   "execution_count": 3,
   "id": "8a662429-23d3-425c-8788-51c659e988ce",
   "metadata": {},
   "outputs": [
    {
     "data": {
      "text/latex": [
       "$\\displaystyle x^{2} + 2 x - 2 = 0$"
      ],
      "text/plain": [
       "Eq(x**2 + 2*x - 2, 0)"
      ]
     },
     "execution_count": 3,
     "metadata": {},
     "output_type": "execute_result"
    }
   ],
   "source": [
    "eq"
   ]
  },
  {
   "cell_type": "markdown",
   "id": "4c90c077-77f3-4152-8264-3993c951f49a",
   "metadata": {},
   "source": [
    "#### solve()\n",
    "---"
   ]
  },
  {
   "cell_type": "markdown",
   "id": "41325f95-64ef-4cfb-a780-3656f9ebc731",
   "metadata": {},
   "source": [
    "é a função usada para encontrar os zeros de uma função, bastando passar, como parâmetros, a variável e a função que deseja resolver:"
   ]
  },
  {
   "cell_type": "code",
   "execution_count": 4,
   "id": "d64a837f-18f4-419b-8785-20c9f90e7fd7",
   "metadata": {},
   "outputs": [
    {
     "data": {
      "text/plain": [
       "[-1 + sqrt(3), -sqrt(3) - 1]"
      ]
     },
     "execution_count": 4,
     "metadata": {},
     "output_type": "execute_result"
    }
   ],
   "source": [
    "sp.solve(expr, x)"
   ]
  },
  {
   "cell_type": "markdown",
   "id": "b43f2740-aac8-48d1-8f1b-09d97cf9123b",
   "metadata": {},
   "source": [
    "#### solveset\n",
    "---"
   ]
  },
  {
   "cell_type": "markdown",
   "id": "9379330d-d4e5-4d11-9333-cee77792bc80",
   "metadata": {},
   "source": [
    "é uma função usada para solucionar a equação:"
   ]
  },
  {
   "cell_type": "code",
   "execution_count": 5,
   "id": "f1480adb-8656-47c1-9adc-3cf9435448bd",
   "metadata": {},
   "outputs": [
    {
     "data": {
      "text/latex": [
       "$\\displaystyle \\left\\{-1 + \\sqrt{3}, - \\sqrt{3} - 1\\right\\}$"
      ],
      "text/plain": [
       "{-1 + sqrt(3), -sqrt(3) - 1}"
      ]
     },
     "execution_count": 5,
     "metadata": {},
     "output_type": "execute_result"
    }
   ],
   "source": [
    "resp = sp.solveset(eq)\n",
    "resp"
   ]
  },
  {
   "cell_type": "markdown",
   "id": "f56ed66b-417e-4054-97a8-0454a8f94ac6",
   "metadata": {},
   "source": [
    "é possível explicitar a variável da qual deseja-se a resolução quaso a função tenha mais de uma."
   ]
  },
  {
   "cell_type": "code",
   "execution_count": 6,
   "id": "0418ab18-8f4e-4671-bd1b-be2867e1bbde",
   "metadata": {},
   "outputs": [
    {
     "data": {
      "text/latex": [
       "$\\displaystyle x^{2} + e^{y} = 3$"
      ],
      "text/plain": [
       "Eq(x**2 + exp(y), 3)"
      ]
     },
     "execution_count": 6,
     "metadata": {},
     "output_type": "execute_result"
    }
   ],
   "source": [
    "y = sp.Symbol('y')\n",
    "expr = x**2+sp.exp(y)\n",
    "eq = sp.Eq(expr, 3)\n",
    "eq"
   ]
  },
  {
   "cell_type": "code",
   "execution_count": 7,
   "id": "5b9d15ef-ab1b-41c0-b259-6ba4d836c8f5",
   "metadata": {},
   "outputs": [
    {
     "data": {
      "text/latex": [
       "$\\displaystyle \\left\\{- \\sqrt{3 - e^{y}}, \\sqrt{3 - e^{y}}\\right\\}$"
      ],
      "text/plain": [
       "{-sqrt(3 - exp(y)), sqrt(3 - exp(y))}"
      ]
     },
     "execution_count": 7,
     "metadata": {},
     "output_type": "execute_result"
    }
   ],
   "source": [
    "sp.solveset(eq, x)"
   ]
  },
  {
   "cell_type": "code",
   "execution_count": 8,
   "id": "99238e98-2484-4274-af89-059f91bfd899",
   "metadata": {},
   "outputs": [
    {
     "data": {
      "text/latex": [
       "$\\displaystyle \\left\\{i \\left(2 n \\pi + \\arg{\\left(3 - x^{2} \\right)}\\right) + \\log{\\left(\\left|{x^{2} - 3}\\right| \\right)}\\; \\middle|\\; n \\in \\mathbb{Z}\\right\\}$"
      ],
      "text/plain": [
       "ImageSet(Lambda(_n, I*(2*_n*pi + arg(3 - x**2)) + log(Abs(x**2 - 3))), Integers)"
      ]
     },
     "execution_count": 8,
     "metadata": {},
     "output_type": "execute_result"
    }
   ],
   "source": [
    "sp.solveset(eq, y)"
   ]
  },
  {
   "cell_type": "markdown",
   "id": "ecafa9be-599d-4f7b-9351-21a30fa41fe3",
   "metadata": {},
   "source": [
    "observe que a resolução é dada um conjunto (set), e para poder ser usado como uma lista basta usar `list()` "
   ]
  },
  {
   "cell_type": "code",
   "execution_count": 9,
   "id": "8165f607-7e84-4902-833c-eefc04822c32",
   "metadata": {},
   "outputs": [],
   "source": [
    "lst = list(sp.solveset(eq, x))"
   ]
  },
  {
   "cell_type": "code",
   "execution_count": 10,
   "id": "8b5ae219-88e3-4a2d-af14-d7d098a5f9d2",
   "metadata": {},
   "outputs": [
    {
     "data": {
      "text/latex": [
       "$\\displaystyle \\sqrt{3 - e^{y}}$"
      ],
      "text/plain": [
       "sqrt(3 - exp(y))"
      ]
     },
     "execution_count": 10,
     "metadata": {},
     "output_type": "execute_result"
    }
   ],
   "source": [
    "lst[0]"
   ]
  },
  {
   "cell_type": "code",
   "execution_count": 11,
   "id": "004d6eb7-c710-4b2a-ae8b-3855c3c7bcc7",
   "metadata": {},
   "outputs": [
    {
     "data": {
      "text/latex": [
       "$\\displaystyle - \\sqrt{3 - e^{y}}$"
      ],
      "text/plain": [
       "-sqrt(3 - exp(y))"
      ]
     },
     "execution_count": 11,
     "metadata": {},
     "output_type": "execute_result"
    }
   ],
   "source": [
    "lst[1]"
   ]
  },
  {
   "cell_type": "markdown",
   "id": "781226af-fdba-4527-833d-b5c8dacf459a",
   "metadata": {},
   "source": [
    "observe que só é possível transformar `solveset()` em uma lista se houver um número finito de respostas, como no caso da resolução da equação `eq` usando `x`. Porém, não é possível se houver uma quantidade infinita de respostas, como é o caso da resolução da equação `eq` usando `y`."
   ]
  },
  {
   "cell_type": "markdown",
   "id": "adc83fbd-c12d-411a-918b-ef4f708878dd",
   "metadata": {},
   "source": [
    "aliás, nem sempre `solveset()` poderá dar uma resposta, como no exemplo:"
   ]
  },
  {
   "cell_type": "code",
   "execution_count": 12,
   "id": "2ad8184d-d79e-4cd9-8fda-3463d6025123",
   "metadata": {},
   "outputs": [
    {
     "data": {
      "text/latex": [
       "$\\displaystyle \\cos{\\left(x \\right)} = x$"
      ],
      "text/plain": [
       "Eq(cos(x), x)"
      ]
     },
     "execution_count": 12,
     "metadata": {},
     "output_type": "execute_result"
    }
   ],
   "source": [
    "eq1 = sp.Eq(sp.cos(x), x)\n",
    "eq1"
   ]
  },
  {
   "cell_type": "code",
   "execution_count": 13,
   "id": "52e7a5f9-07ac-4fe5-a204-777eb199809d",
   "metadata": {},
   "outputs": [
    {
     "data": {
      "text/latex": [
       "$\\displaystyle \\left\\{x\\; \\middle|\\; x \\in \\mathbb{C} \\wedge - x + \\cos{\\left(x \\right)} = 0 \\right\\}$"
      ],
      "text/plain": [
       "ConditionSet(x, Eq(-x + cos(x), 0), Complexes)"
      ]
     },
     "execution_count": 13,
     "metadata": {},
     "output_type": "execute_result"
    }
   ],
   "source": [
    "sp.solveset(eq1)"
   ]
  },
  {
   "cell_type": "markdown",
   "id": "6d28551f-076e-4c4b-a340-91731c78e774",
   "metadata": {},
   "source": [
    "conforme é visto, apenas informa que a resolução pertence aos números complexos, mas não indica a resposta de fato."
   ]
  },
  {
   "cell_type": "markdown",
   "id": "53b0d29c-9f85-443f-ae06-42faf62fb4fc",
   "metadata": {},
   "source": [
    "#### linsolve\n",
    "---"
   ]
  },
  {
   "cell_type": "markdown",
   "id": "a47901a6-e2a8-4292-8d41-24a552ef4e14",
   "metadata": {},
   "source": [
    "é uma função usada para solucionar equações lineares"
   ]
  },
  {
   "cell_type": "code",
   "execution_count": 14,
   "id": "2525ae66-3b63-4a75-b54a-4ec0b3c42a9f",
   "metadata": {},
   "outputs": [],
   "source": [
    "x, y, z = sp.symbols('x y z')\n",
    "\n",
    "lin1 = sp.Eq(x, 3*y+z)\n",
    "lin2 = sp.Eq(5*x - 3*z, y)"
   ]
  },
  {
   "cell_type": "markdown",
   "id": "40d584a0-36ed-4434-9055-46f3274c498a",
   "metadata": {},
   "source": [
    "agora, usa-se a função `linsolve()` sendo passado em uma lista as `Eq`'s e, então, sendo passada cada variável que participa das equações:"
   ]
  },
  {
   "cell_type": "code",
   "execution_count": 15,
   "id": "06b4b0fb-745a-4b5a-ba1a-5d0c4debf717",
   "metadata": {},
   "outputs": [
    {
     "data": {
      "text/latex": [
       "$\\displaystyle \\left\\{\\left( \\frac{4 z}{7}, \\  - \\frac{z}{7}, \\  z\\right)\\right\\}$"
      ],
      "text/plain": [
       "{(4*z/7, -z/7, z)}"
      ]
     },
     "execution_count": 15,
     "metadata": {},
     "output_type": "execute_result"
    }
   ],
   "source": [
    "sp.linsolve([lin1, lin2], x, y, z)"
   ]
  },
  {
   "cell_type": "markdown",
   "id": "ab538bfd-90ea-443e-b515-ef89152d69dc",
   "metadata": {},
   "source": [
    "#### subs()\n",
    "---"
   ]
  },
  {
   "cell_type": "markdown",
   "id": "c9669c61-4ed6-4f0d-9d9c-6c31184fecaf",
   "metadata": {},
   "source": [
    "esta função serve para substituir o valor da variável na função matemática e, com isso, ver seu valor:"
   ]
  },
  {
   "cell_type": "code",
   "execution_count": 16,
   "id": "0c7dd16c-95f7-4f15-9939-1ca07a097d4c",
   "metadata": {},
   "outputs": [
    {
     "data": {
      "text/latex": [
       "$\\displaystyle 2$"
      ],
      "text/plain": [
       "2"
      ]
     },
     "execution_count": 16,
     "metadata": {},
     "output_type": "execute_result"
    }
   ],
   "source": [
    "f = x**2 + 1\n",
    "\n",
    "f.subs(x, 1)"
   ]
  },
  {
   "cell_type": "markdown",
   "id": "6d197696-bd83-4615-8672-1e34f9586ff2",
   "metadata": {},
   "source": [
    "observe que é necessário passar o nome da variável que deseja subtituir e, em seguida, passar o valor da qual deseja atribuir a esta variável."
   ]
  },
  {
   "cell_type": "markdown",
   "id": "e7c5ad4e-3f63-4056-9d1e-4227f4743819",
   "metadata": {},
   "source": [
    "esta função não muda a expressão orginal, neste exemplo `f = x**2 + 1`:"
   ]
  },
  {
   "cell_type": "code",
   "execution_count": 17,
   "id": "9279d8a4-af07-48f1-bddb-ba68b535f298",
   "metadata": {},
   "outputs": [
    {
     "data": {
      "text/latex": [
       "$\\displaystyle x^{2} + 1$"
      ],
      "text/plain": [
       "x**2 + 1"
      ]
     },
     "execution_count": 17,
     "metadata": {},
     "output_type": "execute_result"
    }
   ],
   "source": [
    "f"
   ]
  },
  {
   "cell_type": "markdown",
   "id": "02c2f990-e9b6-41d1-9b9d-e1da279e7a69",
   "metadata": {},
   "source": [
    "com esta função, também é possível substituir a variável por uma outra expressão matemática:"
   ]
  },
  {
   "cell_type": "code",
   "execution_count": 18,
   "id": "b1878291-b80a-46ec-83a1-d7897d2736a6",
   "metadata": {},
   "outputs": [
    {
     "data": {
      "text/latex": [
       "$\\displaystyle \\cos^{2}{\\left(x \\right)} + 1$"
      ],
      "text/plain": [
       "cos(x)**2 + 1"
      ]
     },
     "execution_count": 18,
     "metadata": {},
     "output_type": "execute_result"
    }
   ],
   "source": [
    "f.subs(x, sp.cos(x))"
   ]
  },
  {
   "cell_type": "markdown",
   "id": "70e2e711-baba-479f-94c7-049a8204e488",
   "metadata": {},
   "source": [
    "é, também, possível substituir mais de uma variável ao mesmo tempo usando ou dois `.subs()` um seguido do outro ou usando dicionário em um único `.subs()`"
   ]
  },
  {
   "cell_type": "code",
   "execution_count": 19,
   "id": "3da08d94-782c-4a68-83b0-4357f55e450b",
   "metadata": {},
   "outputs": [
    {
     "data": {
      "text/latex": [
       "$\\displaystyle x^{2} + e^{y}$"
      ],
      "text/plain": [
       "x**2 + exp(y)"
      ]
     },
     "execution_count": 19,
     "metadata": {},
     "output_type": "execute_result"
    }
   ],
   "source": [
    "f = x**2+sp.exp(y)\n",
    "f"
   ]
  },
  {
   "cell_type": "code",
   "execution_count": 20,
   "id": "8107fd0b-e541-4929-9d78-db0c365b97bd",
   "metadata": {},
   "outputs": [
    {
     "data": {
      "text/latex": [
       "$\\displaystyle 1 + e$"
      ],
      "text/plain": [
       "1 + E"
      ]
     },
     "execution_count": 20,
     "metadata": {},
     "output_type": "execute_result"
    }
   ],
   "source": [
    "f.subs(x, 1).subs(y, 1)"
   ]
  },
  {
   "cell_type": "code",
   "execution_count": 21,
   "id": "ca7dfee2-ccf7-41f0-bd4d-c450b1c119c7",
   "metadata": {},
   "outputs": [
    {
     "data": {
      "text/latex": [
       "$\\displaystyle 1 + e$"
      ],
      "text/plain": [
       "1 + E"
      ]
     },
     "execution_count": 21,
     "metadata": {},
     "output_type": "execute_result"
    }
   ],
   "source": [
    "f.subs({x: 1, y: 1})"
   ]
  },
  {
   "cell_type": "markdown",
   "id": "8c3b95f3-ee71-4490-8811-da9f80831afe",
   "metadata": {},
   "source": [
    "#### N()\n",
    "---"
   ]
  },
  {
   "cell_type": "markdown",
   "id": "44ae7c54-6ef3-426d-9538-33d6739e5b32",
   "metadata": {},
   "source": [
    "esta função é usada para transformar alguns valores simbólicos em numéricos:"
   ]
  },
  {
   "cell_type": "code",
   "execution_count": 22,
   "id": "c1003d43-4c59-483c-8e84-3abee5ccac1e",
   "metadata": {},
   "outputs": [
    {
     "data": {
      "text/latex": [
       "$\\displaystyle 5 + \\pi^{2}$"
      ],
      "text/plain": [
       "5 + pi**2"
      ]
     },
     "execution_count": 22,
     "metadata": {},
     "output_type": "execute_result"
    }
   ],
   "source": [
    "f = 5 + sp.pi**2\n",
    "f"
   ]
  },
  {
   "cell_type": "markdown",
   "id": "b6000edf-ec64-415a-a953-261a964cea31",
   "metadata": {},
   "source": [
    "com esta função:"
   ]
  },
  {
   "cell_type": "code",
   "execution_count": 23,
   "id": "1ce9214e-c813-49ac-8225-e4d67ab5ee66",
   "metadata": {},
   "outputs": [
    {
     "data": {
      "text/latex": [
       "$\\displaystyle 14.8696044010894$"
      ],
      "text/plain": [
       "14.8696044010894"
      ]
     },
     "execution_count": 23,
     "metadata": {},
     "output_type": "execute_result"
    }
   ],
   "source": [
    "sp.N(f)"
   ]
  },
  {
   "cell_type": "markdown",
   "id": "b0b96a40-d1da-4d35-aa9e-cd93a640cbe7",
   "metadata": {},
   "source": [
    "com esta função, é possível, ainda, especificar o número de algarismos confiáveis:"
   ]
  },
  {
   "cell_type": "code",
   "execution_count": 24,
   "id": "5f53a0d1-fd33-4280-9e12-53633d9fd9a3",
   "metadata": {},
   "outputs": [
    {
     "data": {
      "text/latex": [
       "$\\displaystyle 14.9$"
      ],
      "text/plain": [
       "14.9"
      ]
     },
     "execution_count": 24,
     "metadata": {},
     "output_type": "execute_result"
    }
   ],
   "source": [
    "sp.N(f, 3)"
   ]
  },
  {
   "cell_type": "markdown",
   "id": "27adc45d-49eb-4749-844a-f9f5e8c47529",
   "metadata": {},
   "source": [
    "também, funciona com expressões matemáticas:"
   ]
  },
  {
   "cell_type": "code",
   "execution_count": 25,
   "id": "6ca88d7f-df12-4a71-994a-bff010c0083d",
   "metadata": {},
   "outputs": [
    {
     "data": {
      "text/latex": [
       "$\\displaystyle x^{2} + \\pi$"
      ],
      "text/plain": [
       "x**2 + pi"
      ]
     },
     "execution_count": 25,
     "metadata": {},
     "output_type": "execute_result"
    }
   ],
   "source": [
    "f = x**2 + sp.pi\n",
    "f"
   ]
  },
  {
   "cell_type": "code",
   "execution_count": 26,
   "id": "92d13059-572b-482f-a649-d71d431b0df3",
   "metadata": {},
   "outputs": [
    {
     "data": {
      "text/latex": [
       "$\\displaystyle x^{2} + 3.14159265358979$"
      ],
      "text/plain": [
       "x**2 + 3.14159265358979"
      ]
     },
     "execution_count": 26,
     "metadata": {},
     "output_type": "execute_result"
    }
   ],
   "source": [
    "sp.N(f)"
   ]
  },
  {
   "cell_type": "markdown",
   "id": "46dc6583-0daf-424b-84d0-108454501424",
   "metadata": {},
   "source": [
    "#### evalf()\n",
    "---"
   ]
  },
  {
   "cell_type": "markdown",
   "id": "3a29304f-f053-4fa2-ba98-b069ed7e0fd4",
   "metadata": {},
   "source": [
    "trabalha de forma semelhante à função `N()`:"
   ]
  },
  {
   "cell_type": "code",
   "execution_count": 27,
   "id": "3ae6a349-9168-4b63-8c6c-4ccdf9735973",
   "metadata": {},
   "outputs": [
    {
     "data": {
      "text/latex": [
       "$\\displaystyle \\pi x^{2} + e^{3 x}$"
      ],
      "text/plain": [
       "pi*x**2 + exp(3*x)"
      ]
     },
     "execution_count": 27,
     "metadata": {},
     "output_type": "execute_result"
    }
   ],
   "source": [
    "func = sp.pi*x**2 + sp.exp(3*x)\n",
    "func"
   ]
  },
  {
   "cell_type": "code",
   "execution_count": 28,
   "id": "018eccb7-a85c-4873-b83f-03ed7aac2e64",
   "metadata": {},
   "outputs": [
    {
     "data": {
      "text/latex": [
       "$\\displaystyle \\pi + e^{3}$"
      ],
      "text/plain": [
       "pi + exp(3)"
      ]
     },
     "execution_count": 28,
     "metadata": {},
     "output_type": "execute_result"
    }
   ],
   "source": [
    "val = func.subs(x, 1)\n",
    "val"
   ]
  },
  {
   "cell_type": "code",
   "execution_count": 29,
   "id": "64adf5ba-e510-433e-a70d-666c72ac036a",
   "metadata": {},
   "outputs": [
    {
     "data": {
      "text/latex": [
       "$\\displaystyle 23.2271295767775$"
      ],
      "text/plain": [
       "23.2271295767775"
      ]
     },
     "execution_count": 29,
     "metadata": {},
     "output_type": "execute_result"
    }
   ],
   "source": [
    "val.evalf()"
   ]
  },
  {
   "cell_type": "code",
   "execution_count": 30,
   "id": "c7dac732-52da-4959-a8e7-c275968671b6",
   "metadata": {},
   "outputs": [
    {
     "data": {
      "text/latex": [
       "$\\displaystyle 23.227$"
      ],
      "text/plain": [
       "23.227"
      ]
     },
     "execution_count": 30,
     "metadata": {},
     "output_type": "execute_result"
    }
   ],
   "source": [
    "val.evalf(5)"
   ]
  },
  {
   "cell_type": "markdown",
   "id": "5bb05d8c-f974-429c-aa2b-cae1185a0126",
   "metadata": {},
   "source": [
    "#### lambdify()\n",
    "---"
   ]
  },
  {
   "cell_type": "markdown",
   "id": "5a488766-e37f-4bc0-838d-69253b584f44",
   "metadata": {},
   "source": [
    "esta função torna a expressão matemática em um objeto iterável, o que é muito útil quando se deseja plotar um gráfico, por exemplo."
   ]
  },
  {
   "cell_type": "code",
   "execution_count": 31,
   "id": "229c4279-c23f-4dd1-a6b0-4f956aa3962a",
   "metadata": {},
   "outputs": [
    {
     "name": "stdout",
     "output_type": "stream",
     "text": [
      "1.0\n",
      "23.22712957677746\n",
      "415.9951641070943\n",
      "8131.358261457693\n",
      "162805.05690146136\n",
      "3269095.9122884506\n",
      "65660082.23466604\n",
      "1318815888.4212546\n",
      "26489122330.905403\n",
      "532048240856.2676\n",
      "10686474581838.623\n"
     ]
    }
   ],
   "source": [
    "ifunc = sp.lambdify(x, func)\n",
    "\n",
    "for i in range(11):\n",
    "    print(ifunc(i))"
   ]
  },
  {
   "cell_type": "markdown",
   "id": "9b7dfb96-40c0-48b8-99be-60beb51c87a8",
   "metadata": {},
   "source": [
    "observe que, como parâmetro, são passadas a variável e a expressão."
   ]
  },
  {
   "cell_type": "code",
   "execution_count": null,
   "id": "3091c76f-2963-4f6c-885e-d27576a95968",
   "metadata": {},
   "outputs": [],
   "source": []
  }
 ],
 "metadata": {
  "kernelspec": {
   "display_name": "Python 3 (ipykernel)",
   "language": "python",
   "name": "python3"
  },
  "language_info": {
   "codemirror_mode": {
    "name": "ipython",
    "version": 3
   },
   "file_extension": ".py",
   "mimetype": "text/x-python",
   "name": "python",
   "nbconvert_exporter": "python",
   "pygments_lexer": "ipython3",
   "version": "3.9.5"
  }
 },
 "nbformat": 4,
 "nbformat_minor": 5
}
