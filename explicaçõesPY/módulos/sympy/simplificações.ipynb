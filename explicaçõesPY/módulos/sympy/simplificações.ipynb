{
 "cells": [
  {
   "cell_type": "markdown",
   "id": "acd3cb0c-16c7-47e4-9693-4b44ca30e103",
   "metadata": {},
   "source": [
    "## simplicações de expressões\n",
    "---"
   ]
  },
  {
   "cell_type": "code",
   "execution_count": 1,
   "id": "5a23eda5-20eb-4820-80e9-5b7c36a3c957",
   "metadata": {},
   "outputs": [],
   "source": [
    "import sympy as sp"
   ]
  },
  {
   "cell_type": "code",
   "execution_count": 2,
   "id": "421ead6e-fbea-4d3b-acbb-0af60074e83a",
   "metadata": {},
   "outputs": [],
   "source": [
    "x, y, z = sp.symbols(\"x y z\")"
   ]
  },
  {
   "cell_type": "markdown",
   "id": "a939fd2a-a291-45d6-9afa-cadb406d38ec",
   "metadata": {},
   "source": [
    "#### cancel()\n",
    "---"
   ]
  },
  {
   "cell_type": "markdown",
   "id": "ab8972f0-b040-486c-8dc7-50f5a5245573",
   "metadata": {},
   "source": [
    "uma forma de simplificar frações polinomiais é usando a função `.cancel()`"
   ]
  },
  {
   "cell_type": "code",
   "execution_count": 3,
   "id": "f01dbe1b-0664-4d1f-8e23-bc59494f9afa",
   "metadata": {},
   "outputs": [
    {
     "data": {
      "text/latex": [
       "$\\displaystyle \\frac{x^{3} + 10 x^{2} + 31 x + 30}{x^{2} + 12 x + 35}$"
      ],
      "text/plain": [
       "(x**3 + 10*x**2 + 31*x + 30)/(x**2 + 12*x + 35)"
      ]
     },
     "execution_count": 3,
     "metadata": {},
     "output_type": "execute_result"
    }
   ],
   "source": [
    "p = x**3 + 10*x**2 + 31*x + 30\n",
    "q = x**2 + 12*x + 35\n",
    "frac = p/q\n",
    "frac"
   ]
  },
  {
   "cell_type": "code",
   "execution_count": 4,
   "id": "6440c594-13bf-4b5d-82da-b6d0a689316e",
   "metadata": {},
   "outputs": [
    {
     "data": {
      "text/latex": [
       "$\\displaystyle \\frac{x^{2} + 5 x + 6}{x + 7}$"
      ],
      "text/plain": [
       "(x**2 + 5*x + 6)/(x + 7)"
      ]
     },
     "execution_count": 4,
     "metadata": {},
     "output_type": "execute_result"
    }
   ],
   "source": [
    "#sp.cancel(frac) também funciona\n",
    "\n",
    "frac.cancel()"
   ]
  },
  {
   "cell_type": "markdown",
   "id": "cce178f8-20f5-4b11-876a-08b041e4116d",
   "metadata": {},
   "source": [
    "#### apart()\n",
    "---"
   ]
  },
  {
   "cell_type": "markdown",
   "id": "3af9c78b-f071-42bd-8400-c7ae6d39b178",
   "metadata": {},
   "source": [
    "funciona de forma semelhante ao `.cancel()`, porém, a função `.apart()` vai além simplificando ao máximo cada parte da função:"
   ]
  },
  {
   "cell_type": "code",
   "execution_count": 7,
   "id": "2cb30429-b2de-4dd7-9893-c745238f4d40",
   "metadata": {},
   "outputs": [
    {
     "data": {
      "text/latex": [
       "$\\displaystyle x - 2 + \\frac{20}{x + 7}$"
      ],
      "text/plain": [
       "x - 2 + 20/(x + 7)"
      ]
     },
     "execution_count": 7,
     "metadata": {},
     "output_type": "execute_result"
    }
   ],
   "source": [
    "#sp.adapt(frac) também funciona\n",
    "\n",
    "frac.apart()"
   ]
  },
  {
   "cell_type": "markdown",
   "id": "73aa815c-96c2-4e31-9a86-56844d4289b1",
   "metadata": {},
   "source": [
    "esse formato é ideal para resolver integrações"
   ]
  },
  {
   "cell_type": "markdown",
   "id": "3b31ba5c-99cc-4875-b924-61500d26ac9d",
   "metadata": {},
   "source": [
    "#### simplify()\n",
    "---"
   ]
  },
  {
   "cell_type": "markdown",
   "id": "94815e43-474a-4143-acfd-8668b3301afb",
   "metadata": {},
   "source": [
    "é uma função geral, não específica e mais lenta que serve da mesma forma que `cancel()`, `apart()`, `expand()` e `factor()`. Esta função, só é aconselhado o seu uso quando desejar apenas uma simplificação básica. Caso contrário, é interessante utilizar uma função mais específica."
   ]
  },
  {
   "cell_type": "code",
   "execution_count": 9,
   "id": "98f88db5-9542-40cf-a450-e562333539b4",
   "metadata": {},
   "outputs": [
    {
     "data": {
      "text/latex": [
       "$\\displaystyle \\frac{x^{2} + 5 x + 6}{x + 7}$"
      ],
      "text/plain": [
       "(x**2 + 5*x + 6)/(x + 7)"
      ]
     },
     "execution_count": 9,
     "metadata": {},
     "output_type": "execute_result"
    }
   ],
   "source": [
    "frac.simplify()"
   ]
  },
  {
   "cell_type": "markdown",
   "id": "8b684b05-8444-45da-a264-fc935587bf2d",
   "metadata": {},
   "source": [
    "#### rewrite()\n",
    "---"
   ]
  },
  {
   "cell_type": "markdown",
   "id": "01660b28-6c87-4e48-83ba-4b7444edd787",
   "metadata": {},
   "source": [
    "é uma função usada para reescrever uma expressão matemática em termos de uma outra, por exemplo:"
   ]
  },
  {
   "cell_type": "code",
   "execution_count": 10,
   "id": "2e24776f-6671-4a96-8251-aa56a2baae4f",
   "metadata": {},
   "outputs": [
    {
     "data": {
      "text/latex": [
       "$\\displaystyle e^{\\sinh{\\left(x \\right)}}$"
      ],
      "text/plain": [
       "exp(sinh(x))"
      ]
     },
     "execution_count": 10,
     "metadata": {},
     "output_type": "execute_result"
    }
   ],
   "source": [
    "f = sp.exp(sp.sinh(x))\n",
    "f"
   ]
  },
  {
   "cell_type": "code",
   "execution_count": 11,
   "id": "5a89c8d8-5f10-41a5-bc6a-6970db41a3f9",
   "metadata": {},
   "outputs": [
    {
     "data": {
      "text/latex": [
       "$\\displaystyle e^{\\frac{e^{x}}{2} - \\frac{e^{- x}}{2}}$"
      ],
      "text/plain": [
       "exp(exp(x)/2 - exp(-x)/2)"
      ]
     },
     "execution_count": 11,
     "metadata": {},
     "output_type": "execute_result"
    }
   ],
   "source": [
    "f.rewrite(sp.exp)"
   ]
  },
  {
   "cell_type": "markdown",
   "id": "181df3fc-2987-4806-9280-e038bbd71513",
   "metadata": {},
   "source": [
    "observe que `rewrite()` precisa receber a expressão na qual a expressão original será reescrita"
   ]
  },
  {
   "cell_type": "markdown",
   "id": "b34559e0-ae53-4636-a841-4167132efd89",
   "metadata": {},
   "source": [
    "é necessário notar que esta função é importante para ajudar na simplificação de algumas expressões matemáticas mais complicadas:"
   ]
  },
  {
   "cell_type": "code",
   "execution_count": 12,
   "id": "ff6de483-056b-4628-81aa-73e4de43e1b6",
   "metadata": {},
   "outputs": [
    {
     "data": {
      "text/latex": [
       "$\\displaystyle e^{- \\frac{e^{x}}{2}} e^{\\sinh{\\left(x \\right)}}$"
      ],
      "text/plain": [
       "exp(-exp(x)/2)*exp(sinh(x))"
      ]
     },
     "execution_count": 12,
     "metadata": {},
     "output_type": "execute_result"
    }
   ],
   "source": [
    "expr = sp.exp(sp.sinh(x))/sp.exp(sp.exp(x)/2)\n",
    "expr"
   ]
  },
  {
   "cell_type": "code",
   "execution_count": 14,
   "id": "6a87324b-eaa4-4ea6-8f5c-4283205df886",
   "metadata": {},
   "outputs": [
    {
     "data": {
      "text/latex": [
       "$\\displaystyle e^{\\frac{e^{x}}{2} - \\frac{e^{- x}}{2}} e^{- \\frac{e^{x}}{2}}$"
      ],
      "text/plain": [
       "exp(exp(x)/2 - exp(-x)/2)*exp(-exp(x)/2)"
      ]
     },
     "execution_count": 14,
     "metadata": {},
     "output_type": "execute_result"
    }
   ],
   "source": [
    "expo = expr.rewrite(sp.exp)\n",
    "expo"
   ]
  },
  {
   "cell_type": "code",
   "execution_count": 15,
   "id": "c06e1efa-7e14-4834-b4cd-e9d52684cfdf",
   "metadata": {},
   "outputs": [
    {
     "data": {
      "text/latex": [
       "$\\displaystyle e^{- \\frac{e^{- x}}{2}}$"
      ],
      "text/plain": [
       "exp(-exp(-x)/2)"
      ]
     },
     "execution_count": 15,
     "metadata": {},
     "output_type": "execute_result"
    }
   ],
   "source": [
    "expo.simplify()"
   ]
  },
  {
   "cell_type": "markdown",
   "id": "1958218e-d4fb-4215-b9a3-75c93fb548bd",
   "metadata": {},
   "source": [
    "esta simplificação não seria possível se fosse feita de forma direta:"
   ]
  },
  {
   "cell_type": "code",
   "execution_count": 16,
   "id": "259ddc06-ed8d-4672-9e0c-2e324ad72e91",
   "metadata": {},
   "outputs": [
    {
     "data": {
      "text/latex": [
       "$\\displaystyle e^{- \\frac{e^{x}}{2} + \\sinh{\\left(x \\right)}}$"
      ],
      "text/plain": [
       "exp(-exp(x)/2 + sinh(x))"
      ]
     },
     "execution_count": 16,
     "metadata": {},
     "output_type": "execute_result"
    }
   ],
   "source": [
    "expr.simplify()"
   ]
  }
 ],
 "metadata": {
  "kernelspec": {
   "display_name": "Python 3 (ipykernel)",
   "language": "python",
   "name": "python3"
  },
  "language_info": {
   "codemirror_mode": {
    "name": "ipython",
    "version": 3
   },
   "file_extension": ".py",
   "mimetype": "text/x-python",
   "name": "python",
   "nbconvert_exporter": "python",
   "pygments_lexer": "ipython3",
   "version": "3.9.5"
  }
 },
 "nbformat": 4,
 "nbformat_minor": 5
}
