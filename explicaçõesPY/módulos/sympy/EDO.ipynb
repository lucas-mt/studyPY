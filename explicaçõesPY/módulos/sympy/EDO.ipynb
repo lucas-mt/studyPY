{
 "cells": [
  {
   "cell_type": "markdown",
   "id": "6d599a73-f722-4344-ad2f-2e854e3cbeda",
   "metadata": {},
   "source": [
    "## equações diferenciais ordinárias\n",
    "---"
   ]
  },
  {
   "cell_type": "code",
   "execution_count": 1,
   "id": "1135d7c6-96e4-46d1-bcca-fb30e6213de0",
   "metadata": {},
   "outputs": [],
   "source": [
    "import sympy as sp\n",
    "\n",
    "x = sp.Symbol('x')"
   ]
  },
  {
   "cell_type": "markdown",
   "id": "41c5e5d0-cdc6-4b3e-8562-e8d326b93b6f",
   "metadata": {},
   "source": [
    "#### Funtion()()\n",
    "---"
   ]
  },
  {
   "cell_type": "markdown",
   "id": "ffe32e81-3b9f-4bba-b507-305cdee763d6",
   "metadata": {},
   "source": [
    "como EDO não possui funções definidas inicialmente a função `Function()()` deve ser usada para tal onde, entre os primeiros parêntesis é nomeada a função e entre os segundos parêntesis é nomeada a variável:"
   ]
  },
  {
   "cell_type": "code",
   "execution_count": 2,
   "id": "80e276fe-0756-4ffb-8abb-17cf28f359a0",
   "metadata": {},
   "outputs": [
    {
     "data": {
      "text/latex": [
       "$\\displaystyle f{\\left(x \\right)}$"
      ],
      "text/plain": [
       "f(x)"
      ]
     },
     "execution_count": 2,
     "metadata": {},
     "output_type": "execute_result"
    }
   ],
   "source": [
    "f = sp.Function('f')(x)\n",
    "f"
   ]
  },
  {
   "cell_type": "markdown",
   "id": "96c0520e-52f0-4692-af82-f321253ab04b",
   "metadata": {},
   "source": [
    "para criar as expressão da equação diferencial é usada a função `Eq()`:"
   ]
  },
  {
   "cell_type": "code",
   "execution_count": 3,
   "id": "5283e6e0-75a3-469c-83a5-41b469f116e5",
   "metadata": {},
   "outputs": [
    {
     "data": {
      "text/latex": [
       "$\\displaystyle x \\frac{d^{2}}{d x^{2}} f{\\left(x \\right)} + \\frac{d}{d x} f{\\left(x \\right)} = x^{3}$"
      ],
      "text/plain": [
       "Eq(x*Derivative(f(x), (x, 2)) + Derivative(f(x), x), x**3)"
      ]
     },
     "execution_count": 3,
     "metadata": {},
     "output_type": "execute_result"
    }
   ],
   "source": [
    "diff_eq = sp.Eq(x*f.diff(x,x)+f.diff(x), x**3)\n",
    "diff_eq"
   ]
  },
  {
   "cell_type": "markdown",
   "id": "edcef6cd-76f5-4bc3-855d-deafe36d65f7",
   "metadata": {},
   "source": [
    "é possível separar tudo que vem antes e depois da igualdade usando `rhs` e `lhs` que mostram o que vem depois e antes da igualdade, respectivamente."
   ]
  },
  {
   "cell_type": "code",
   "execution_count": 4,
   "id": "206639e6-4f2a-4b65-bcbc-a8cb45dffe2d",
   "metadata": {},
   "outputs": [
    {
     "data": {
      "text/latex": [
       "$\\displaystyle x^{3}$"
      ],
      "text/plain": [
       "x**3"
      ]
     },
     "execution_count": 4,
     "metadata": {},
     "output_type": "execute_result"
    }
   ],
   "source": [
    "diff_eq.rhs"
   ]
  },
  {
   "cell_type": "markdown",
   "id": "72a27a06-b1ba-49d9-b0ff-f7524b334221",
   "metadata": {},
   "source": [
    "#### dsolve()\n",
    "---"
   ]
  },
  {
   "cell_type": "markdown",
   "id": "625a6f87-c012-4e77-a2fc-be1e64e3883c",
   "metadata": {},
   "source": [
    "esta função é usada para solucionar a EDO. para isto, devem ser passados como parâmetros a EDO e a função que desejamos encontrar, neste exemplo, `f`."
   ]
  },
  {
   "cell_type": "code",
   "execution_count": 5,
   "id": "1fa3695f-ece0-4a64-9ce6-9d410bcd4d17",
   "metadata": {},
   "outputs": [
    {
     "data": {
      "text/latex": [
       "$\\displaystyle f{\\left(x \\right)} = C_{1} + C_{2} \\log{\\left(x \\right)} + \\frac{x^{4}}{16}$"
      ],
      "text/plain": [
       "Eq(f(x), C1 + C2*log(x) + x**4/16)"
      ]
     },
     "execution_count": 5,
     "metadata": {},
     "output_type": "execute_result"
    }
   ],
   "source": [
    "sol = sp.dsolve(diff_eq, f)\n",
    "sol"
   ]
  },
  {
   "cell_type": "markdown",
   "id": "a9d3c2c2-68b6-4072-8fc3-bc7062024ea6",
   "metadata": {},
   "source": [
    "observe que o resultado é uma equação e esta pode ser usada como tal."
   ]
  },
  {
   "cell_type": "markdown",
   "id": "96662e78-6133-4b5b-81c9-04ecd730d3b4",
   "metadata": {},
   "source": [
    "é possível observar o conjunto de variáveis na função encontrada usando `.free_symbols`"
   ]
  },
  {
   "cell_type": "code",
   "execution_count": 6,
   "id": "94917ad5-e874-47d5-97e4-37cf6f05e453",
   "metadata": {},
   "outputs": [
    {
     "data": {
      "text/plain": [
       "{C1, C2, x}"
      ]
     },
     "execution_count": 6,
     "metadata": {},
     "output_type": "execute_result"
    }
   ],
   "source": [
    "fs = sol.free_symbols\n",
    "fs"
   ]
  },
  {
   "cell_type": "markdown",
   "id": "1351d4b8-62cf-4256-9e14-1d4bc9c35832",
   "metadata": {},
   "source": [
    "este conjunto não pode ser iterado, por isso, se precisar de usá-lo é necessário transformar em outro tipo de container:"
   ]
  },
  {
   "cell_type": "code",
   "execution_count": 7,
   "id": "41a60186-60b2-47c7-874f-9dbb464e5dcf",
   "metadata": {},
   "outputs": [
    {
     "ename": "TypeError",
     "evalue": "'set' object is not subscriptable",
     "output_type": "error",
     "traceback": [
      "\u001b[1;31m---------------------------------------------------------------------------\u001b[0m",
      "\u001b[1;31mTypeError\u001b[0m                                 Traceback (most recent call last)",
      "Cell \u001b[1;32mIn [7], line 1\u001b[0m\n\u001b[1;32m----> 1\u001b[0m \u001b[43mfs\u001b[49m\u001b[43m[\u001b[49m\u001b[38;5;241;43m1\u001b[39;49m\u001b[43m]\u001b[49m\n",
      "\u001b[1;31mTypeError\u001b[0m: 'set' object is not subscriptable"
     ]
    }
   ],
   "source": [
    "fs[1]"
   ]
  },
  {
   "cell_type": "code",
   "execution_count": 10,
   "id": "96919938-8a49-46d3-b313-c39722e5f2c2",
   "metadata": {},
   "outputs": [
    {
     "data": {
      "text/plain": [
       "[x, C1, C2]"
      ]
     },
     "execution_count": 10,
     "metadata": {},
     "output_type": "execute_result"
    }
   ],
   "source": [
    "cfs = list(fs)\n",
    "cfs"
   ]
  },
  {
   "cell_type": "markdown",
   "id": "cfd77736-fbcb-4fc6-a6ca-d5de4d3b1bc6",
   "metadata": {},
   "source": [
    "a partir disso, é possível subtituir os valores das constantes no resultado:"
   ]
  },
  {
   "cell_type": "code",
   "execution_count": 11,
   "id": "88f9ed4c-e9ac-457e-9782-383c1e8775b5",
   "metadata": {},
   "outputs": [
    {
     "data": {
      "text/latex": [
       "$\\displaystyle f{\\left(x \\right)} = \\frac{x^{4}}{16} + \\log{\\left(x \\right)}$"
      ],
      "text/plain": [
       "Eq(f(x), x**4/16 + log(x))"
      ]
     },
     "execution_count": 11,
     "metadata": {},
     "output_type": "execute_result"
    }
   ],
   "source": [
    "sol.subs({cfs[1]: 0, cfs[2]: 1})"
   ]
  },
  {
   "cell_type": "markdown",
   "id": "316477d2-3a1d-4b1a-a796-cb63ee612076",
   "metadata": {},
   "source": [
    "#### EDO com condição inicial\n",
    "---"
   ]
  },
  {
   "cell_type": "markdown",
   "id": "a6fce5eb-2b97-4a2d-bdf2-9ec5625e17cf",
   "metadata": {},
   "source": [
    "é necessário criar um dicionário com estas condições iniciais, só precisando ter criado antes a função:"
   ]
  },
  {
   "cell_type": "code",
   "execution_count": 13,
   "id": "24880100-e828-47fd-8183-4e3d985629a0",
   "metadata": {},
   "outputs": [
    {
     "data": {
      "text/plain": [
       "{f(1): 0, Subs(Derivative(f(x), x), x, 2): 1}"
      ]
     },
     "execution_count": 13,
     "metadata": {},
     "output_type": "execute_result"
    }
   ],
   "source": [
    "ci = {f.subs(x, 1): 0, f.diff(x).subs(x, 2): 1}\n",
    "ci"
   ]
  },
  {
   "cell_type": "markdown",
   "id": "7c6c0c16-3220-4a47-acc8-0c514c2d74ca",
   "metadata": {},
   "source": [
    "agora, para resolver desta forma a EDO, usa-se, também, a função `.dsolve()` e, da mesma forma, será passada a EDO, porém, depois dela, será usada ao parâmetro `ics=` o dicionário que foi criado:"
   ]
  },
  {
   "cell_type": "code",
   "execution_count": 16,
   "id": "eb7bb8c2-94f6-4d22-847e-2f93d60b0fe5",
   "metadata": {},
   "outputs": [
    {
     "data": {
      "text/latex": [
       "$\\displaystyle f{\\left(x \\right)} = \\frac{x^{4}}{16} - 2 \\log{\\left(x \\right)} - \\frac{1}{16}$"
      ],
      "text/plain": [
       "Eq(f(x), x**4/16 - 2*log(x) - 1/16)"
      ]
     },
     "execution_count": 16,
     "metadata": {},
     "output_type": "execute_result"
    }
   ],
   "source": [
    "res = sp.dsolve(diff_eq, ics=ci)\n",
    "res"
   ]
  },
  {
   "cell_type": "markdown",
   "id": "c02a6c96-32c3-4830-98f5-59090e865080",
   "metadata": {},
   "source": [
    "se quiser observar que o resultado é correto, basta:"
   ]
  },
  {
   "cell_type": "code",
   "execution_count": 18,
   "id": "1f1df4d8-74a2-4895-9d03-8c941e78c6f2",
   "metadata": {},
   "outputs": [
    {
     "data": {
      "text/latex": [
       "$\\displaystyle 0$"
      ],
      "text/plain": [
       "0"
      ]
     },
     "execution_count": 18,
     "metadata": {},
     "output_type": "execute_result"
    }
   ],
   "source": [
    "res.rhs.subs(x, 1)"
   ]
  },
  {
   "cell_type": "code",
   "execution_count": 19,
   "id": "8a13e786-fe46-41f6-b985-4c48f9843ab1",
   "metadata": {},
   "outputs": [
    {
     "data": {
      "text/latex": [
       "$\\displaystyle 1$"
      ],
      "text/plain": [
       "1"
      ]
     },
     "execution_count": 19,
     "metadata": {},
     "output_type": "execute_result"
    }
   ],
   "source": [
    "res.rhs.diff(x).subs(x, 2)"
   ]
  }
 ],
 "metadata": {
  "kernelspec": {
   "display_name": "Python 3 (ipykernel)",
   "language": "python",
   "name": "python3"
  },
  "language_info": {
   "codemirror_mode": {
    "name": "ipython",
    "version": 3
   },
   "file_extension": ".py",
   "mimetype": "text/x-python",
   "name": "python",
   "nbconvert_exporter": "python",
   "pygments_lexer": "ipython3",
   "version": "3.9.5"
  }
 },
 "nbformat": 4,
 "nbformat_minor": 5
}
