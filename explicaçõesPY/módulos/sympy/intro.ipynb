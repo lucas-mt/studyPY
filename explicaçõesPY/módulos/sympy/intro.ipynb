{
 "cells": [
  {
   "cell_type": "markdown",
   "id": "4cc7749d-07bd-4589-8222-42480f1c8fef",
   "metadata": {},
   "source": [
    "## Introdução\n",
    "---"
   ]
  },
  {
   "cell_type": "markdown",
   "id": "b1d670b9-ee17-4886-ab3f-d410fa3d979c",
   "metadata": {},
   "source": [
    "#### matemática simbólica\n",
    "---"
   ]
  },
  {
   "cell_type": "markdown",
   "id": "eb3dadf4-ccb2-4997-b148-21a59f420462",
   "metadata": {},
   "source": [
    "é aquela matemática em que não nos preocupamos com o valor, mas sim, com o significado do símbolo."
   ]
  },
  {
   "cell_type": "code",
   "execution_count": 1,
   "id": "0ba16266-fe69-4e17-ae96-04380b7affd9",
   "metadata": {},
   "outputs": [],
   "source": [
    "import sympy as sp"
   ]
  },
  {
   "cell_type": "markdown",
   "id": "5382171d-c405-4415-a94c-17b8fd5381ed",
   "metadata": {},
   "source": [
    "por exemplo, ao invés de querermos saber o valor da raiz quadrada de 2, preferimos apenas a sua representação:"
   ]
  },
  {
   "cell_type": "code",
   "execution_count": 2,
   "id": "594c1408-1d5b-4d01-9fe8-c5d673e985d4",
   "metadata": {},
   "outputs": [
    {
     "name": "stdout",
     "output_type": "stream",
     "text": [
      "sqrt(2) é melhor que 1.4142135623730951\n"
     ]
    }
   ],
   "source": [
    "print(f'{sp.sqrt(2)} é melhor que {2**(1/2)}')"
   ]
  },
  {
   "cell_type": "markdown",
   "id": "f67b6334-8757-425e-95db-6e25f773fa19",
   "metadata": {},
   "source": [
    "isto evita erros de cálculo, compare, usando sympy:"
   ]
  },
  {
   "cell_type": "code",
   "execution_count": 3,
   "id": "6bec081d-0d58-4da3-8722-5c78a9399ff0",
   "metadata": {},
   "outputs": [
    {
     "data": {
      "text/latex": [
       "$\\displaystyle 2$"
      ],
      "text/plain": [
       "2"
      ]
     },
     "execution_count": 3,
     "metadata": {},
     "output_type": "execute_result"
    }
   ],
   "source": [
    "sp.sqrt(2) ** 2"
   ]
  },
  {
   "cell_type": "markdown",
   "id": "aeba905b-1179-4faf-a650-4a0f3e9931e6",
   "metadata": {},
   "source": [
    "agora, usando o módulo math:"
   ]
  },
  {
   "cell_type": "code",
   "execution_count": 4,
   "id": "1582f351-dd85-455d-af2c-cb8f4f06adec",
   "metadata": {},
   "outputs": [
    {
     "data": {
      "text/plain": [
       "2.0000000000000004"
      ]
     },
     "execution_count": 4,
     "metadata": {},
     "output_type": "execute_result"
    }
   ],
   "source": [
    "import math\n",
    "\n",
    "math.sqrt(2) ** 2"
   ]
  },
  {
   "cell_type": "markdown",
   "id": "bdb1754d-dbd1-41da-9dfa-061f98db742b",
   "metadata": {},
   "source": [
    "esta diferença dá-se pois `math` usa o valor da  raiz de 2 ao invés de usar o símbolo."
   ]
  },
  {
   "cell_type": "markdown",
   "id": "804124eb-659d-410a-8f6f-0314e62f183c",
   "metadata": {},
   "source": [
    "#### criando variáveis\n",
    "---"
   ]
  },
  {
   "cell_type": "markdown",
   "id": "0981c926-55ce-4c5f-92e3-262dfb30dbbc",
   "metadata": {},
   "source": [
    "para isto é necessário as funções `Symbol()` ou `symbols()`\n",
    "\n",
    "note que o primeiro tem o *S* maiúsculo enquanto que o segundo tem o *s* minúsculo:"
   ]
  },
  {
   "cell_type": "code",
   "execution_count": 5,
   "id": "97e93b62-8d3f-49d8-80aa-87fb6e181230",
   "metadata": {},
   "outputs": [],
   "source": [
    "x = sp.Symbol('x')\n",
    "y, z = sp.symbols('y, z')"
   ]
  },
  {
   "cell_type": "markdown",
   "id": "90c693dd-4cc2-4722-a59f-685aae36fbbe",
   "metadata": {},
   "source": [
    "a diferença entre um e outro é apenas que o primeiro só declara uma variável por vez, a segunda declara várias aos mesmo tempo."
   ]
  },
  {
   "cell_type": "markdown",
   "id": "b8de1ab2-f35f-4b79-ab78-ea8fdd90cc47",
   "metadata": {},
   "source": [
    "estas variáveis podem ser usadas para formar funções:"
   ]
  },
  {
   "cell_type": "code",
   "execution_count": 6,
   "id": "ea462d1c-172f-4538-879b-a2b9ed5cd82e",
   "metadata": {},
   "outputs": [
    {
     "data": {
      "text/latex": [
       "$\\displaystyle 2 x + 4$"
      ],
      "text/plain": [
       "2*x + 4"
      ]
     },
     "execution_count": 6,
     "metadata": {},
     "output_type": "execute_result"
    }
   ],
   "source": [
    "2*x+4"
   ]
  },
  {
   "cell_type": "code",
   "execution_count": 7,
   "id": "35f815d8-09c2-4210-9373-bf19e1dbef8a",
   "metadata": {},
   "outputs": [
    {
     "data": {
      "text/latex": [
       "$\\displaystyle 3^{y}$"
      ],
      "text/plain": [
       "3**y"
      ]
     },
     "execution_count": 7,
     "metadata": {},
     "output_type": "execute_result"
    }
   ],
   "source": [
    "3**y"
   ]
  },
  {
   "cell_type": "code",
   "execution_count": 8,
   "id": "3e4d317f-707c-4c5d-ac0e-bf71cabeb1d9",
   "metadata": {},
   "outputs": [
    {
     "data": {
      "text/latex": [
       "$\\displaystyle z^{3}$"
      ],
      "text/plain": [
       "z**3"
      ]
     },
     "execution_count": 8,
     "metadata": {},
     "output_type": "execute_result"
    }
   ],
   "source": [
    "z**3"
   ]
  },
  {
   "cell_type": "markdown",
   "id": "945d3934-bc96-4a78-815c-d6ea356db817",
   "metadata": {},
   "source": [
    "lembrando que `sympy` aceita escritas convencionais, então, ao invés de escrever `z**3`, pode ser escrito `z^3`"
   ]
  },
  {
   "cell_type": "markdown",
   "id": "7300df28-3a31-4d8f-8f9f-ce1b9580cdc1",
   "metadata": {},
   "source": [
    "observe que a variável antes da igualdade é como o interpretador python enxerga, mas a variável dentro de `Symbol()` ou `symbols()` é como o módulo `sympy` enxega, então, é possível:"
   ]
  },
  {
   "cell_type": "code",
   "execution_count": 9,
   "id": "509bf991-7b69-4107-a277-4faffef8ea15",
   "metadata": {},
   "outputs": [],
   "source": [
    "w = sp.Symbol('a')"
   ]
  },
  {
   "cell_type": "code",
   "execution_count": 10,
   "id": "f72a7870-eb1b-492c-a1c8-05d999b69c47",
   "metadata": {},
   "outputs": [
    {
     "data": {
      "text/latex": [
       "$\\displaystyle a$"
      ],
      "text/plain": [
       "a"
      ]
     },
     "execution_count": 10,
     "metadata": {},
     "output_type": "execute_result"
    }
   ],
   "source": [
    "w"
   ]
  },
  {
   "cell_type": "markdown",
   "id": "296ab02d-1995-417e-82be-b07c45a4d528",
   "metadata": {},
   "source": [
    "a função `symbols()`  pode receber uma tupla de variável"
   ]
  },
  {
   "cell_type": "code",
   "execution_count": 11,
   "id": "70e3df2a-520d-424b-9cb6-eacee3494add",
   "metadata": {},
   "outputs": [
    {
     "data": {
      "text/plain": [
       "(x0, x1, x2, x3, x4)"
      ]
     },
     "execution_count": 11,
     "metadata": {},
     "output_type": "execute_result"
    }
   ],
   "source": [
    "lista_var = sp.symbols('x0:5')\n",
    "lista_var"
   ]
  },
  {
   "cell_type": "markdown",
   "id": "95b7003a-bdea-4b98-887a-e9653bf96f16",
   "metadata": {},
   "source": [
    "ou seja, variáveis foram criadas de 0 a 4 e todas elas são usáveis:"
   ]
  },
  {
   "cell_type": "code",
   "execution_count": 12,
   "id": "42483b14-410f-4530-ba6d-23acc1d9f99c",
   "metadata": {},
   "outputs": [
    {
     "data": {
      "text/latex": [
       "$\\displaystyle \\frac{2}{x_{3}}$"
      ],
      "text/plain": [
       "2/x3"
      ]
     },
     "execution_count": 12,
     "metadata": {},
     "output_type": "execute_result"
    }
   ],
   "source": [
    "2/lista_var[3]"
   ]
  },
  {
   "cell_type": "markdown",
   "id": "0607d518-f967-4b78-a6f8-af8a375c0b15",
   "metadata": {},
   "source": [
    "é importante observar que é possível, tanto em `Symbol()`, quanto em `symbols()`, declarar o tipo da variável:"
   ]
  },
  {
   "cell_type": "code",
   "execution_count": 13,
   "id": "6b42a450-e4b0-4ce0-bf93-70d50ff139c6",
   "metadata": {},
   "outputs": [],
   "source": [
    "x = sp.Symbol('x', real=True)\n",
    "y = sp.Symbol('y', complex=True)"
   ]
  },
  {
   "cell_type": "code",
   "execution_count": 14,
   "id": "36dd835d-64b3-4866-99da-9be26ba8fea5",
   "metadata": {},
   "outputs": [
    {
     "name": "stdout",
     "output_type": "stream",
     "text": [
      "x\n",
      "Abs(x)\n",
      "log(exp(y))\n",
      "sqrt(y**2)\n"
     ]
    }
   ],
   "source": [
    "#porque x é real.\n",
    "print(sp.log(sp.exp(x)))\n",
    "print(sp.sqrt(x**2))\n",
    "#mas y é complexo!\n",
    "print(sp.log(sp.exp(y)))\n",
    "print(sp.sqrt(y**2))"
   ]
  },
  {
   "cell_type": "markdown",
   "id": "445584d9-dd53-4e98-9d8e-2d011dab1d41",
   "metadata": {},
   "source": [
    "todos os argumentos que pode levar são:\n",
    "\n",
    "\n",
    "tipos|\n",
    "---|\n",
    "real|\n",
    "complex|\n",
    "positive|\n",
    "negative|\n",
    "trig|\n",
    "rational|\n",
    "integer|"
   ]
  },
  {
   "cell_type": "markdown",
   "id": "b9bb28f9-3007-4c0c-93f7-7d30fa98dfcb",
   "metadata": {},
   "source": [
    "#### funções\n",
    "---"
   ]
  },
  {
   "cell_type": "markdown",
   "id": "9b606e8b-a351-4a3c-be2f-2d3583dfa760",
   "metadata": {},
   "source": [
    "função|math\n",
    "---|---\n",
    "sp.sin()|seno\n",
    "sp.cos()|cosseno\n",
    "sp.tan()|tangente\n",
    "sp.exp()|exponencial\n",
    "sp.pi|pi\n",
    "sp.E|e\n",
    "sp.I|unidade imaginária\n",
    "sp.oo|infinito\n",
    "sp.log()|ln"
   ]
  },
  {
   "cell_type": "markdown",
   "id": "475561ea-b8f9-4c4a-a5a9-23e8e99ba95d",
   "metadata": {},
   "source": [
    "#### expand\n",
    "---"
   ]
  },
  {
   "cell_type": "markdown",
   "id": "76190e97-7e3d-4dee-85a0-03916196c2c7",
   "metadata": {},
   "source": [
    "é a função responsável por expandir a função matemática se esta estiver em seu formato fatorado e pode ser feito:"
   ]
  },
  {
   "cell_type": "code",
   "execution_count": 15,
   "id": "df9b3ed4-502e-418a-803a-9fa07bccda11",
   "metadata": {},
   "outputs": [
    {
     "name": "stdin",
     "output_type": "stream",
     "text": [
      ">  (x+5)**2\n"
     ]
    }
   ],
   "source": [
    "#1\n",
    "fc = input('> ')\n",
    "f = sp.expand(fc)"
   ]
  },
  {
   "cell_type": "code",
   "execution_count": 16,
   "id": "a38e45c0-d398-4397-b82a-90f2e9843f29",
   "metadata": {},
   "outputs": [
    {
     "data": {
      "text/latex": [
       "$\\displaystyle x^{2} + 10 x + 25$"
      ],
      "text/plain": [
       "x**2 + 10*x + 25"
      ]
     },
     "execution_count": 16,
     "metadata": {},
     "output_type": "execute_result"
    }
   ],
   "source": [
    "f"
   ]
  },
  {
   "cell_type": "markdown",
   "id": "7bfbc77b-663c-40ca-91c3-50c895b17a2b",
   "metadata": {},
   "source": [
    "#### factor\n",
    "---"
   ]
  },
  {
   "cell_type": "markdown",
   "id": "dbd47e36-05f2-4379-bd4d-8f4d00cff84b",
   "metadata": {},
   "source": [
    "função de forma similar ao `expand()`, porém, tem a capacidade de fatorar expressões matemáticas:"
   ]
  },
  {
   "cell_type": "code",
   "execution_count": 17,
   "id": "b63663c1-d6b3-4d09-a356-f7fda06359a3",
   "metadata": {},
   "outputs": [],
   "source": [
    "fc = 'x^2+2*x-15'\n",
    "fe = sp.expand(fc)\n",
    "ff = sp.factor(fc)"
   ]
  },
  {
   "cell_type": "code",
   "execution_count": 18,
   "id": "5f46f123-610e-4068-8d0d-9b0b4f0dbe23",
   "metadata": {},
   "outputs": [
    {
     "data": {
      "text/latex": [
       "$\\displaystyle x^{2} + 2 x - 15$"
      ],
      "text/plain": [
       "x**2 + 2*x - 15"
      ]
     },
     "execution_count": 18,
     "metadata": {},
     "output_type": "execute_result"
    }
   ],
   "source": [
    "fe"
   ]
  },
  {
   "cell_type": "code",
   "execution_count": 19,
   "id": "12bb4f26-ddaf-4a95-b204-bacb6b84e4f4",
   "metadata": {},
   "outputs": [
    {
     "data": {
      "text/latex": [
       "$\\displaystyle \\left(x - 3\\right) \\left(x + 5\\right)$"
      ],
      "text/plain": [
       "(x - 3)*(x + 5)"
      ]
     },
     "execution_count": 19,
     "metadata": {},
     "output_type": "execute_result"
    }
   ],
   "source": [
    "ff"
   ]
  },
  {
   "cell_type": "markdown",
   "id": "735420e9-2519-49f7-9b78-a9a8dac6c78b",
   "metadata": {},
   "source": [
    "neste caso, é necessário que a função tenha raizes bem definidas."
   ]
  }
 ],
 "metadata": {
  "kernelspec": {
   "display_name": "Python 3 (ipykernel)",
   "language": "python",
   "name": "python3"
  },
  "language_info": {
   "codemirror_mode": {
    "name": "ipython",
    "version": 3
   },
   "file_extension": ".py",
   "mimetype": "text/x-python",
   "name": "python",
   "nbconvert_exporter": "python",
   "pygments_lexer": "ipython3",
   "version": "3.10.12"
  }
 },
 "nbformat": 4,
 "nbformat_minor": 5
}
