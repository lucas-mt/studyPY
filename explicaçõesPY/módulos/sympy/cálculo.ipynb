{
 "cells": [
  {
   "cell_type": "markdown",
   "id": "e47787c9-73a4-4231-96ce-bfb81496a83c",
   "metadata": {},
   "source": [
    "## cálculo\n",
    "---"
   ]
  },
  {
   "cell_type": "code",
   "execution_count": 1,
   "id": "a9e135eb-0426-4fee-8ec5-43e5af3db224",
   "metadata": {},
   "outputs": [],
   "source": [
    "import sympy as sp"
   ]
  },
  {
   "cell_type": "markdown",
   "id": "c4867176-19ab-4760-b43c-8a5fe7708e16",
   "metadata": {},
   "source": [
    "#### diff()\n",
    "---"
   ]
  },
  {
   "cell_type": "markdown",
   "id": "bd37edfc-b5e1-445d-b0fb-3894c44ccd48",
   "metadata": {},
   "source": [
    "esta função é usada para derivadas e diferenciações:"
   ]
  },
  {
   "cell_type": "code",
   "execution_count": 2,
   "id": "fcc865ca-c2da-4ec8-b5cf-c2f08d12ceb8",
   "metadata": {},
   "outputs": [],
   "source": [
    "x, y, z = sp.symbols('x y z')"
   ]
  },
  {
   "cell_type": "code",
   "execution_count": 3,
   "id": "580187d0-ef69-4f99-b953-2792eee2bb37",
   "metadata": {},
   "outputs": [
    {
     "data": {
      "text/latex": [
       "$\\displaystyle 2 e^{2 x} + \\cos{\\left(x \\right)}$"
      ],
      "text/plain": [
       "2*exp(2*x) + cos(x)"
      ]
     },
     "execution_count": 3,
     "metadata": {},
     "output_type": "execute_result"
    }
   ],
   "source": [
    "f = sp.exp(2*x) + sp.sin(x)\n",
    "\n",
    "f.diff() #ou sp.diff(f)"
   ]
  },
  {
   "cell_type": "markdown",
   "id": "abdc0b68-94e6-4cae-9d10-d28afcc8a12f",
   "metadata": {},
   "source": [
    "caso a função tenha mais de uma variável, é possível especificar a variável que deseja a diferenciação."
   ]
  },
  {
   "cell_type": "code",
   "execution_count": 4,
   "id": "926385aa-eb03-45ee-ac84-852d1e7be6fb",
   "metadata": {},
   "outputs": [
    {
     "data": {
      "text/latex": [
       "$\\displaystyle 2 x$"
      ],
      "text/plain": [
       "2*x"
      ]
     },
     "execution_count": 4,
     "metadata": {},
     "output_type": "execute_result"
    }
   ],
   "source": [
    "f = x**2 + y**2\n",
    "\n",
    "f.diff(x) #ou sp.diff(f, x)"
   ]
  },
  {
   "cell_type": "code",
   "execution_count": 5,
   "id": "7f52d160-ffb2-4519-a28a-ce9ec7ce4f6e",
   "metadata": {},
   "outputs": [
    {
     "data": {
      "text/latex": [
       "$\\displaystyle 2 y$"
      ],
      "text/plain": [
       "2*y"
      ]
     },
     "execution_count": 5,
     "metadata": {},
     "output_type": "execute_result"
    }
   ],
   "source": [
    "sp.diff(f, y) #ou f.diff(y)"
   ]
  },
  {
   "cell_type": "markdown",
   "id": "75f4161b-c682-4d4b-9337-853dd53b3abd",
   "metadata": {},
   "source": [
    "para diferenciar diversas vezes a mesma função, é possível passar a variável diversa vezes:"
   ]
  },
  {
   "cell_type": "code",
   "execution_count": 6,
   "id": "b24e5262-b7d9-4b27-b7a1-1ec54ba34c15",
   "metadata": {},
   "outputs": [
    {
     "data": {
      "text/latex": [
       "$\\displaystyle 16 e^{2 x} + \\cos{\\left(x \\right)}$"
      ],
      "text/plain": [
       "16*exp(2*x) + cos(x)"
      ]
     },
     "execution_count": 6,
     "metadata": {},
     "output_type": "execute_result"
    }
   ],
   "source": [
    "f = sp.exp(2*x) + sp.cos(x)\n",
    "\n",
    "f.diff(x, x, x, x) #ou sp.diff(f, x, x, x, x)"
   ]
  },
  {
   "cell_type": "markdown",
   "id": "25765225-66a3-441c-a690-0759f0e6720d",
   "metadata": {},
   "source": [
    "ou, para não precisar repetir muitas vezes, é possível passar o grau da derivada:"
   ]
  },
  {
   "cell_type": "code",
   "execution_count": 7,
   "id": "69723593-dc5a-42c3-b2d4-ea5174a9d1cf",
   "metadata": {},
   "outputs": [
    {
     "data": {
      "text/latex": [
       "$\\displaystyle 16 e^{2 x} + \\cos{\\left(x \\right)}$"
      ],
      "text/plain": [
       "16*exp(2*x) + cos(x)"
      ]
     },
     "execution_count": 7,
     "metadata": {},
     "output_type": "execute_result"
    }
   ],
   "source": [
    "f.diff(x, 4) #ou sp.diff(f, x, 4)"
   ]
  },
  {
   "cell_type": "markdown",
   "id": "63bb7b85-915e-451a-b7c1-641a9f6f0f45",
   "metadata": {},
   "source": [
    "isto pode ser usado para calcular o diferencial de várias variável se a função tiver: "
   ]
  },
  {
   "cell_type": "code",
   "execution_count": 8,
   "id": "b5fa4147-b271-4a42-af97-1741af44b03e",
   "metadata": {},
   "outputs": [
    {
     "data": {
      "text/latex": [
       "$\\displaystyle \\frac{2 \\pi x y^{\\pi} e^{x^{2} + y^{\\pi}}}{y}$"
      ],
      "text/plain": [
       "2*pi*x*y**pi*exp(x**2 + y**pi)/y"
      ]
     },
     "execution_count": 8,
     "metadata": {},
     "output_type": "execute_result"
    }
   ],
   "source": [
    "f = sp.exp(x**2+y**sp.pi)\n",
    "\n",
    "f.diff(x, y)"
   ]
  },
  {
   "cell_type": "markdown",
   "id": "61a091d9-d3cf-4d35-8cc0-2115f04a73e9",
   "metadata": {},
   "source": [
    "como também é possível fazer de formas repetitivas:"
   ]
  },
  {
   "cell_type": "code",
   "execution_count": 9,
   "id": "af8416c5-cbc7-44d0-b997-388336693fa9",
   "metadata": {},
   "outputs": [
    {
     "data": {
      "text/latex": [
       "$\\displaystyle \\frac{4 \\pi x y^{\\pi} \\left(2 \\pi x^{2} y^{\\pi} - 2 x^{2} + 2 \\pi x^{2} + 3 \\pi y^{\\pi} - 3 + 3 \\pi\\right) e^{x^{2} + y^{\\pi}}}{y^{2}}$"
      ],
      "text/plain": [
       "4*pi*x*y**pi*(2*pi*x**2*y**pi - 2*x**2 + 2*pi*x**2 + 3*pi*y**pi - 3 + 3*pi)*exp(x**2 + y**pi)/y**2"
      ]
     },
     "execution_count": 9,
     "metadata": {},
     "output_type": "execute_result"
    }
   ],
   "source": [
    "f.diff(x, 3, y, 2)"
   ]
  },
  {
   "cell_type": "markdown",
   "id": "9051890a-23fc-4cec-8d78-b9bc7adefae2",
   "metadata": {},
   "source": [
    "#### integrate()\n",
    "---"
   ]
  },
  {
   "cell_type": "markdown",
   "id": "2c47cf2c-a728-4745-92e7-dcd1f34d1063",
   "metadata": {},
   "source": [
    "é a função usada para integração:"
   ]
  },
  {
   "cell_type": "code",
   "execution_count": 10,
   "id": "56a2b694-1071-48e6-a104-7f04cfdaeed8",
   "metadata": {},
   "outputs": [
    {
     "data": {
      "text/latex": [
       "$\\displaystyle \\cos{\\left(x \\right)}$"
      ],
      "text/plain": [
       "cos(x)"
      ]
     },
     "execution_count": 10,
     "metadata": {},
     "output_type": "execute_result"
    }
   ],
   "source": [
    "f = sp.cos(x)\n",
    "\n",
    "f"
   ]
  },
  {
   "cell_type": "code",
   "execution_count": 11,
   "id": "08c35833-2f19-4ce2-bd3a-719c8011852e",
   "metadata": {},
   "outputs": [
    {
     "data": {
      "text/latex": [
       "$\\displaystyle \\sin{\\left(x \\right)}$"
      ],
      "text/plain": [
       "sin(x)"
      ]
     },
     "execution_count": 11,
     "metadata": {},
     "output_type": "execute_result"
    }
   ],
   "source": [
    "f.integrate() #ou sp.integrate(f)"
   ]
  },
  {
   "cell_type": "markdown",
   "id": "33b82c37-dead-464c-98ce-5bb69397936b",
   "metadata": {},
   "source": [
    "se a função tiver mais de uma variável, é possível especificar qual que deseja calcular a integral:"
   ]
  },
  {
   "cell_type": "code",
   "execution_count": 12,
   "id": "ba1656be-8cb8-4e25-a7d0-5f898bd3d3ea",
   "metadata": {},
   "outputs": [
    {
     "data": {
      "text/latex": [
       "$\\displaystyle x^{y}$"
      ],
      "text/plain": [
       "x**y"
      ]
     },
     "execution_count": 12,
     "metadata": {},
     "output_type": "execute_result"
    }
   ],
   "source": [
    "f = x**y\n",
    "\n",
    "f"
   ]
  },
  {
   "cell_type": "code",
   "execution_count": 13,
   "id": "c0403405-c883-418a-aade-d1a0419c0a97",
   "metadata": {},
   "outputs": [
    {
     "data": {
      "text/latex": [
       "$\\displaystyle \\begin{cases} \\frac{x^{y + 1}}{y + 1} & \\text{for}\\: y \\neq -1 \\\\\\log{\\left(x \\right)} & \\text{otherwise} \\end{cases}$"
      ],
      "text/plain": [
       "Piecewise((x**(y + 1)/(y + 1), Ne(y, -1)), (log(x), True))"
      ]
     },
     "execution_count": 13,
     "metadata": {},
     "output_type": "execute_result"
    }
   ],
   "source": [
    "f.integrate(x) #ou sp.integrate(f, x)"
   ]
  },
  {
   "cell_type": "code",
   "execution_count": 14,
   "id": "91491fef-69d8-4a79-81ac-9236a0e36348",
   "metadata": {},
   "outputs": [
    {
     "data": {
      "text/latex": [
       "$\\displaystyle \\begin{cases} \\frac{x^{y}}{\\log{\\left(x \\right)}} & \\text{for}\\: \\log{\\left(x \\right)} \\neq 0 \\\\y & \\text{otherwise} \\end{cases}$"
      ],
      "text/plain": [
       "Piecewise((x**y/log(x), Ne(log(x), 0)), (y, True))"
      ]
     },
     "execution_count": 14,
     "metadata": {},
     "output_type": "execute_result"
    }
   ],
   "source": [
    "f.integrate(y) #ou sp.integrate(f, y)"
   ]
  },
  {
   "cell_type": "markdown",
   "id": "4da86cb0-3d5e-480a-8f81-1e16a2f0ca2b",
   "metadata": {},
   "source": [
    "ainda é possível, assim como nas derivadas, integrar uma expressão matema´tica várias vezes, para isto, é necessário repetir a variável na quantidade de vezes que se deseja integrar:"
   ]
  },
  {
   "cell_type": "code",
   "execution_count": 15,
   "id": "2fe054dd-10db-45eb-b59f-876d64da8581",
   "metadata": {},
   "outputs": [
    {
     "data": {
      "text/latex": [
       "$\\displaystyle \\begin{cases} \\frac{\\begin{cases} \\frac{x^{y + 3}}{y + 3} & \\text{for}\\: y \\neq -3 \\\\\\log{\\left(x \\right)} & \\text{otherwise} \\end{cases}}{\\left(y + 1\\right) \\left(y + 2\\right)} & \\text{for}\\: \\left(y > -\\infty \\wedge y < -2\\right) \\vee \\left(y > -2 \\wedge y < -1\\right) \\vee \\left(y > -1 \\wedge y < \\infty\\right) \\\\\\frac{x^{2} \\log{\\left(x \\right)}}{2} - \\frac{3 x^{2}}{4} & \\text{for}\\: \\left(y > -\\infty \\wedge y < -2\\right) \\vee \\left(y > -\\infty \\wedge y < \\infty\\right) \\vee \\left(y > -2 \\wedge y < -1\\right) \\vee \\left(y > -1 \\wedge y < \\infty\\right) \\vee \\left(y > -\\infty \\wedge y < \\infty \\wedge y \\neq -2\\right) \\vee \\left(y > -\\infty \\wedge y < \\infty \\wedge y \\neq -1\\right) \\\\\\frac{x \\log{\\left(x \\right)}}{y + 1} - \\frac{x}{y + 1} & \\text{for}\\: y > -\\infty \\wedge y < \\infty \\wedge y \\neq -1 \\\\\\frac{x^{2} \\log{\\left(x \\right)}}{2} - \\frac{3 x^{2}}{4} & \\text{otherwise} \\end{cases}$"
      ],
      "text/plain": [
       "Piecewise((Piecewise((x**(y + 3)/(y + 3), Ne(y, -3)), (log(x), True))/((y + 1)*(y + 2)), ((y > -oo) & (y < -2)) | ((y > -2) & (y < -1)) | ((y > -1) & (y < oo))), (x**2*log(x)/2 - 3*x**2/4, ((y > -oo) & (y < -2)) | ((y > -oo) & (y < oo)) | ((y > -2) & (y < -1)) | ((y > -1) & (y < oo)) | ((y > -oo) & (y < oo) & Ne(y, -2)) | ((y > -oo) & (y < oo) & Ne(y, -1))), (x*log(x)/(y + 1) - x/(y + 1), (y > -oo) & (y < oo) & Ne(y, -1)), (x**2*log(x)/2 - 3*x**2/4, True))"
      ]
     },
     "execution_count": 15,
     "metadata": {},
     "output_type": "execute_result"
    }
   ],
   "source": [
    "f.integrate(x, x, x)"
   ]
  },
  {
   "cell_type": "markdown",
   "id": "543052fa-251e-4263-983d-8926d2d42233",
   "metadata": {},
   "source": [
    "bem como, é possível usar este método para integrar em várias variáveis:"
   ]
  },
  {
   "cell_type": "code",
   "execution_count": 16,
   "id": "48b5abc3-9bea-4351-92a2-4b6f3fa1ebe4",
   "metadata": {},
   "outputs": [
    {
     "data": {
      "text/latex": [
       "$\\displaystyle \\begin{cases} \\int \\frac{x^{y + 1}}{y + 1}\\, dy & \\text{for}\\: y < -1 \\\\\\int\\limits^{-1} \\frac{x^{y + 1}}{y + 1}\\, dy + \\int\\limits_{-1}^{y} \\frac{x^{y + 1}}{y + 1}\\, dy & \\text{otherwise} \\end{cases}$"
      ],
      "text/plain": [
       "Piecewise((Integral(x**(y + 1)/(y + 1), y), y < -1), (Integral(x**(y + 1)/(y + 1), (y, -1)) + Integral(x**(y + 1)/(y + 1), (y, -1, y)), True))"
      ]
     },
     "execution_count": 16,
     "metadata": {},
     "output_type": "execute_result"
    }
   ],
   "source": [
    "f.integrate(x, y)"
   ]
  },
  {
   "cell_type": "markdown",
   "id": "6923a54c-e9e4-4705-b262-a1d00186d917",
   "metadata": {},
   "source": [
    "#### integrais definidas\n",
    "---"
   ]
  },
  {
   "cell_type": "markdown",
   "id": "68c814e1-ece5-450d-a3f0-7a27c1170ed8",
   "metadata": {},
   "source": [
    "elas são possíveis calcular da seguinte maneira:"
   ]
  },
  {
   "cell_type": "code",
   "execution_count": 17,
   "id": "a797f405-28fd-4d3a-89f9-aa6aab99b537",
   "metadata": {},
   "outputs": [
    {
     "data": {
      "text/latex": [
       "$\\displaystyle x$"
      ],
      "text/plain": [
       "x"
      ]
     },
     "execution_count": 17,
     "metadata": {},
     "output_type": "execute_result"
    }
   ],
   "source": [
    "f = x\n",
    "\n",
    "f"
   ]
  },
  {
   "cell_type": "code",
   "execution_count": 18,
   "id": "347f7d6c-cddd-4324-bd7d-c31aea02fb20",
   "metadata": {},
   "outputs": [
    {
     "data": {
      "text/latex": [
       "$\\displaystyle 2$"
      ],
      "text/plain": [
       "2"
      ]
     },
     "execution_count": 18,
     "metadata": {},
     "output_type": "execute_result"
    }
   ],
   "source": [
    "f.integrate((x, 0, 2)) #ou sp.integrate(f, (x, 0, 2))"
   ]
  },
  {
   "cell_type": "markdown",
   "id": "584aa186-4211-48df-8523-82f3b20f6561",
   "metadata": {},
   "source": [
    "observe que é necessário passar a variável, independentemente se a função tiver mais de uma, seguida do limite inferior e do limite superior, tudo isso por uma tupla, caso contrário, não funciona."
   ]
  },
  {
   "cell_type": "markdown",
   "id": "8f986831-a522-4ac9-85bd-efd77937b577",
   "metadata": {},
   "source": [
    "também funciona com várias variáveis:"
   ]
  },
  {
   "cell_type": "code",
   "execution_count": 19,
   "id": "4b4c07e2-f584-4deb-886a-67de38d21302",
   "metadata": {},
   "outputs": [
    {
     "data": {
      "text/latex": [
       "$\\displaystyle 3$"
      ],
      "text/plain": [
       "3"
      ]
     },
     "execution_count": 19,
     "metadata": {},
     "output_type": "execute_result"
    }
   ],
   "source": [
    "f = x+y\n",
    "\n",
    "f.integrate((x, 0, 2), (y, 0, 1))#sp.integrate(f.integrate((x, 0, 1)), (y, 0, 2)) ou f.integrate((x, 0, 1)).integrate((y, 0, 2))"
   ]
  },
  {
   "cell_type": "markdown",
   "id": "3e34b056-4a14-438a-a456-386f73aac06f",
   "metadata": {},
   "source": [
    "#### limit()\n",
    "---"
   ]
  },
  {
   "cell_type": "markdown",
   "id": "bbc3c0ce-e100-41fa-b475-1975dbc059fe",
   "metadata": {},
   "source": [
    "a função `.limit()` recebe, como parâmetros, a função que deseja-se calcular o limite, a variável e o limite:"
   ]
  },
  {
   "cell_type": "code",
   "execution_count": 23,
   "id": "5257a34e-c9d2-42e6-bd62-dc29096a012f",
   "metadata": {},
   "outputs": [
    {
     "data": {
      "text/latex": [
       "$\\displaystyle \\infty$"
      ],
      "text/plain": [
       "oo"
      ]
     },
     "execution_count": 23,
     "metadata": {},
     "output_type": "execute_result"
    }
   ],
   "source": [
    "expr = 1/x\n",
    "\n",
    "sp.limit(expr, x, 0)"
   ]
  },
  {
   "cell_type": "code",
   "execution_count": 24,
   "id": "1cee6917-49ba-459d-80ac-eb6a34738779",
   "metadata": {},
   "outputs": [
    {
     "data": {
      "text/latex": [
       "$\\displaystyle 0$"
      ],
      "text/plain": [
       "0"
      ]
     },
     "execution_count": 24,
     "metadata": {},
     "output_type": "execute_result"
    }
   ],
   "source": [
    "sp.limit(expr, x, sp.oo)"
   ]
  },
  {
   "cell_type": "markdown",
   "id": "d8c0108f-4e58-4d6c-ba76-281ca600ea16",
   "metadata": {},
   "source": [
    "observe que, no primeiro exemplo, o limite foi calculado pela direita, que é o padrão do sympy. Se quiser esécificar que se deseja o limite pela esquerda é necessário acrescentar o parâmetro '-' na função."
   ]
  },
  {
   "cell_type": "code",
   "execution_count": 26,
   "id": "933f0d92-ed48-4d9d-a92f-2746bf6fd214",
   "metadata": {},
   "outputs": [
    {
     "data": {
      "text/latex": [
       "$\\displaystyle -\\infty$"
      ],
      "text/plain": [
       "-oo"
      ]
     },
     "execution_count": 26,
     "metadata": {},
     "output_type": "execute_result"
    }
   ],
   "source": [
    "sp.limit(expr, x, 0, '-')"
   ]
  },
  {
   "cell_type": "markdown",
   "id": "45ea2220-1fb3-4cd7-bf72-35e1643c8e42",
   "metadata": {},
   "source": [
    "se desejar especificar que o limite deve ser calculado pela direita, coloque '+' neste parâmetro, apesar de não ser necessário."
   ]
  },
  {
   "cell_type": "markdown",
   "id": "2a61cbf5-e0d2-48b5-9c86-bd051da8b245",
   "metadata": {},
   "source": [
    "se desejar calcular o limite por ambos os lados, basta pôr '+-':"
   ]
  },
  {
   "cell_type": "code",
   "execution_count": 27,
   "id": "bb032c3c-4149-4349-a680-475604c7b484",
   "metadata": {},
   "outputs": [
    {
     "data": {
      "text/latex": [
       "$\\displaystyle \\tilde{\\infty}$"
      ],
      "text/plain": [
       "zoo"
      ]
     },
     "execution_count": 27,
     "metadata": {},
     "output_type": "execute_result"
    }
   ],
   "source": [
    "sp.limit(expr, x, 0, '+-')"
   ]
  },
  {
   "cell_type": "markdown",
   "id": "c8c87efc-d019-4901-9f0a-63adff1690db",
   "metadata": {},
   "source": [
    "#### series()\n",
    "---"
   ]
  },
  {
   "cell_type": "markdown",
   "id": "ee7016a4-f105-4a7b-87f9-2ebbf825b87a",
   "metadata": {},
   "source": [
    "esta função é usada para calcular funçoes de Taylor e recebe como parâmetros a função a ser expandida em uma série, a variável em deseja a expansão e o ponto da expansão:"
   ]
  },
  {
   "cell_type": "code",
   "execution_count": 28,
   "id": "59714ef2-1bb9-4287-ac02-54769517573e",
   "metadata": {},
   "outputs": [
    {
     "data": {
      "text/latex": [
       "$\\displaystyle 1 - \\frac{\\left(x - \\frac{\\pi}{2}\\right)^{2}}{2} + \\frac{\\left(x - \\frac{\\pi}{2}\\right)^{4}}{24} + O\\left(\\left(x - \\frac{\\pi}{2}\\right)^{6}; x\\rightarrow \\frac{\\pi}{2}\\right)$"
      ],
      "text/plain": [
       "1 - (x - pi/2)**2/2 + (x - pi/2)**4/24 + O((x - pi/2)**6, (x, pi/2))"
      ]
     },
     "execution_count": 28,
     "metadata": {},
     "output_type": "execute_result"
    }
   ],
   "source": [
    "trig_func = sp.sin(x)\n",
    "\n",
    "sp.series(trig_func, x, sp.pi/2)"
   ]
  },
  {
   "cell_type": "markdown",
   "id": "c038e159-15d8-4f04-9c39-a1d23470f2e8",
   "metadata": {},
   "source": [
    "pode-se especificar a quantidade de termos que será apresentado, acrescentando `n=<valor>` como parâmetro"
   ]
  },
  {
   "cell_type": "code",
   "execution_count": 30,
   "id": "c2c119fe-a74a-49b0-ae8c-59306328438e",
   "metadata": {},
   "outputs": [
    {
     "data": {
      "text/latex": [
       "$\\displaystyle 1 - \\frac{\\left(x - \\frac{\\pi}{2}\\right)^{2}}{2} + \\frac{\\left(x - \\frac{\\pi}{2}\\right)^{4}}{24} - \\frac{\\left(x - \\frac{\\pi}{2}\\right)^{6}}{720} + O\\left(\\left(x - \\frac{\\pi}{2}\\right)^{8}; x\\rightarrow \\frac{\\pi}{2}\\right)$"
      ],
      "text/plain": [
       "1 - (x - pi/2)**2/2 + (x - pi/2)**4/24 - (x - pi/2)**6/720 + O((x - pi/2)**8, (x, pi/2))"
      ]
     },
     "execution_count": 30,
     "metadata": {},
     "output_type": "execute_result"
    }
   ],
   "source": [
    "sp.series(trig_func, x, sp.pi/2, n=8)"
   ]
  },
  {
   "cell_type": "markdown",
   "id": "c3b3a188-cfe9-41d5-b2eb-e78677ec911f",
   "metadata": {},
   "source": [
    "estas séries podem ser usadas normalmente para integrar, diferenciar e fazer qualquer tipo de operaçao aritmética com elas."
   ]
  },
  {
   "cell_type": "code",
   "execution_count": 31,
   "id": "88c8ff0b-7335-4580-85cd-d0e52c829229",
   "metadata": {},
   "outputs": [
    {
     "data": {
      "text/latex": [
       "$\\displaystyle 1 - \\frac{\\left(x - \\frac{\\pi}{2}\\right)^{2}}{2} + \\frac{\\left(x - \\frac{\\pi}{2}\\right)^{4}}{24} - \\frac{\\left(x - \\frac{\\pi}{2}\\right)^{6}}{720} + O\\left(\\left(x - \\frac{\\pi}{2}\\right)^{8}; x\\rightarrow \\frac{\\pi}{2}\\right)$"
      ],
      "text/plain": [
       "1 - (x - pi/2)**2/2 + (x - pi/2)**4/24 - (x - pi/2)**6/720 + O((x - pi/2)**8, (x, pi/2))"
      ]
     },
     "execution_count": 31,
     "metadata": {},
     "output_type": "execute_result"
    }
   ],
   "source": [
    "ts = sp.series(trig_func, x, sp.pi/2, n=8)\n",
    "ts"
   ]
  },
  {
   "cell_type": "code",
   "execution_count": 35,
   "id": "730e25c3-1217-457d-92c7-6c0b63bb958c",
   "metadata": {},
   "outputs": [
    {
     "data": {
      "text/latex": [
       "$\\displaystyle 1$"
      ],
      "text/plain": [
       "1"
      ]
     },
     "execution_count": 35,
     "metadata": {},
     "output_type": "execute_result"
    }
   ],
   "source": [
    "ts.subs(x, sp.pi/2)"
   ]
  },
  {
   "cell_type": "markdown",
   "id": "41b0c6c8-a763-4943-a9da-4ed421d1922f",
   "metadata": {},
   "source": [
    "usando a função `.remeveO()` a expressão O() é retirada do resultado final:"
   ]
  },
  {
   "cell_type": "code",
   "execution_count": 36,
   "id": "398df5ab-e95e-492b-913c-ddf352397660",
   "metadata": {},
   "outputs": [
    {
     "data": {
      "text/latex": [
       "$\\displaystyle - \\frac{\\left(x - \\frac{\\pi}{2}\\right)^{6}}{720} + \\frac{\\left(x - \\frac{\\pi}{2}\\right)^{4}}{24} - \\frac{\\left(x - \\frac{\\pi}{2}\\right)^{2}}{2} + 1$"
      ],
      "text/plain": [
       "-(x - pi/2)**6/720 + (x - pi/2)**4/24 - (x - pi/2)**2/2 + 1"
      ]
     },
     "execution_count": 36,
     "metadata": {},
     "output_type": "execute_result"
    }
   ],
   "source": [
    "ts.removeO()"
   ]
  },
  {
   "cell_type": "code",
   "execution_count": null,
   "id": "2a07e49d-ba12-465f-971f-316fee97d0d5",
   "metadata": {},
   "outputs": [],
   "source": []
  }
 ],
 "metadata": {
  "kernelspec": {
   "display_name": "Python 3 (ipykernel)",
   "language": "python",
   "name": "python3"
  },
  "language_info": {
   "codemirror_mode": {
    "name": "ipython",
    "version": 3
   },
   "file_extension": ".py",
   "mimetype": "text/x-python",
   "name": "python",
   "nbconvert_exporter": "python",
   "pygments_lexer": "ipython3",
   "version": "3.9.5"
  }
 },
 "nbformat": 4,
 "nbformat_minor": 5
}
