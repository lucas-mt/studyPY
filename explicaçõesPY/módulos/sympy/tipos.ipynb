{
 "cells": [
  {
   "cell_type": "markdown",
   "id": "ff598c64-108c-4207-8bda-440ecdfee91e",
   "metadata": {},
   "source": [
    "#### data types and built-ins\n",
    "---"
   ]
  },
  {
   "cell_type": "code",
   "execution_count": 1,
   "id": "3a504928-5d90-4f43-b14c-c50e8cac87db",
   "metadata": {},
   "outputs": [],
   "source": [
    "import sympy as sp"
   ]
  },
  {
   "cell_type": "markdown",
   "id": "10cc752e-07a6-49a8-9962-78b6e8bfeb69",
   "metadata": {},
   "source": [
    "#### Integer\n",
    "---"
   ]
  },
  {
   "cell_type": "markdown",
   "id": "1fa7c6f4-b71c-406f-bce2-8fbda380092e",
   "metadata": {},
   "source": [
    "pode ser usado quando queremos que o resultado permaneça em sua forma escrita com números inteiros. Por exemplo:"
   ]
  },
  {
   "cell_type": "code",
   "execution_count": 2,
   "id": "48bdf17d-67fa-456e-84f5-9809e31bca03",
   "metadata": {},
   "outputs": [],
   "source": [
    "x = sp.Symbol('x')"
   ]
  },
  {
   "cell_type": "code",
   "execution_count": 3,
   "id": "0e377e54-5d43-45ec-8b32-cb3a5655388b",
   "metadata": {},
   "outputs": [
    {
     "data": {
      "text/latex": [
       "$\\displaystyle x^{0.333333333333333}$"
      ],
      "text/plain": [
       "x**0.333333333333333"
      ]
     },
     "execution_count": 3,
     "metadata": {},
     "output_type": "execute_result"
    }
   ],
   "source": [
    "x**(1/3)"
   ]
  },
  {
   "cell_type": "code",
   "execution_count": 4,
   "id": "7ac3c505-550c-4c0a-a425-2c1db6496f90",
   "metadata": {},
   "outputs": [
    {
     "data": {
      "text/latex": [
       "$\\displaystyle \\sqrt[3]{x}$"
      ],
      "text/plain": [
       "x**(1/3)"
      ]
     },
     "execution_count": 4,
     "metadata": {},
     "output_type": "execute_result"
    }
   ],
   "source": [
    "x**(sp.Integer(1)/sp.Integer(3))"
   ]
  },
  {
   "cell_type": "markdown",
   "id": "019ca185-4835-48c0-9b0e-43eab34d4192",
   "metadata": {},
   "source": [
    "não é necessário colocar `Integer()` duas vezes"
   ]
  },
  {
   "cell_type": "code",
   "execution_count": 5,
   "id": "611e9ff6-feaa-466b-b9f2-bd8b9a700c18",
   "metadata": {},
   "outputs": [
    {
     "data": {
      "text/latex": [
       "$\\displaystyle \\sqrt[5]{x}$"
      ],
      "text/plain": [
       "x**(1/5)"
      ]
     },
     "execution_count": 5,
     "metadata": {},
     "output_type": "execute_result"
    }
   ],
   "source": [
    "x**(sp.Integer(1)/5)"
   ]
  },
  {
   "cell_type": "markdown",
   "id": "192a0525-2bc4-4b53-aa09-86cec1d7ee51",
   "metadata": {},
   "source": [
    "#### Rational\n",
    "---"
   ]
  },
  {
   "cell_type": "markdown",
   "id": "e9f946c2-ba55-4a1b-9341-a2a4d2416576",
   "metadata": {},
   "source": [
    "pode ser usado quando queremos um valor racional:"
   ]
  },
  {
   "cell_type": "code",
   "execution_count": 6,
   "id": "16799c81-462a-4894-b3a9-767890c3f6d6",
   "metadata": {},
   "outputs": [
    {
     "data": {
      "text/plain": [
       "0.3333333333333333"
      ]
     },
     "execution_count": 6,
     "metadata": {},
     "output_type": "execute_result"
    }
   ],
   "source": [
    "1/3"
   ]
  },
  {
   "cell_type": "code",
   "execution_count": 7,
   "id": "14203a8c-36b4-4506-8478-c29082fcf3c8",
   "metadata": {},
   "outputs": [
    {
     "data": {
      "text/latex": [
       "$\\displaystyle \\frac{1}{3}$"
      ],
      "text/plain": [
       "1/3"
      ]
     },
     "execution_count": 7,
     "metadata": {},
     "output_type": "execute_result"
    }
   ],
   "source": [
    "sp.Rational(1, 3)"
   ]
  },
  {
   "cell_type": "markdown",
   "id": "750e6596-7768-458b-b7e9-2749c90509eb",
   "metadata": {},
   "source": [
    "observe que o numerador é separado do denominador usando uma vírgula."
   ]
  },
  {
   "cell_type": "markdown",
   "id": "db93845e-c8cc-403f-b93c-f9aac1e91525",
   "metadata": {},
   "source": [
    "inclusive, o exemplo do `x` pode ser feito aqui, também:"
   ]
  },
  {
   "cell_type": "code",
   "execution_count": 8,
   "id": "1741b551-7415-4298-9f92-31fa4fdc15cc",
   "metadata": {},
   "outputs": [
    {
     "data": {
      "text/latex": [
       "$\\displaystyle \\sqrt[5]{x}$"
      ],
      "text/plain": [
       "x**(1/5)"
      ]
     },
     "execution_count": 8,
     "metadata": {},
     "output_type": "execute_result"
    }
   ],
   "source": [
    "x**sp.Rational(1, 5)"
   ]
  }
 ],
 "metadata": {
  "kernelspec": {
   "display_name": "Python 3 (ipykernel)",
   "language": "python",
   "name": "python3"
  },
  "language_info": {
   "codemirror_mode": {
    "name": "ipython",
    "version": 3
   },
   "file_extension": ".py",
   "mimetype": "text/x-python",
   "name": "python",
   "nbconvert_exporter": "python",
   "pygments_lexer": "ipython3",
   "version": "3.10.12"
  }
 },
 "nbformat": 4,
 "nbformat_minor": 5
}
