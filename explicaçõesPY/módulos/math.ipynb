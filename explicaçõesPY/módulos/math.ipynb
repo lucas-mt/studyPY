{
 "cells": [
  {
   "cell_type": "markdown",
   "id": "2f85307e-0861-4920-9257-279c3858e1ab",
   "metadata": {},
   "source": [
    "## ***Math Module***\n",
    "---"
   ]
  },
  {
   "cell_type": "code",
   "execution_count": 1,
   "id": "bd050674-3770-4d1f-b064-fc584b4ab69d",
   "metadata": {},
   "outputs": [],
   "source": [
    "import math"
   ]
  },
  {
   "cell_type": "markdown",
   "id": "e0289b12-f458-4015-80cd-cda78b734587",
   "metadata": {},
   "source": [
    "para calcular logaritmos, use a tabela:\n",
    "log na base e | log na base 2 | log na base 10\n",
    "---|---|---\n",
    "log(x) | log2(x) | log10(x)\n",
    "\n",
    "onde `x` é um valor qualquer"
   ]
  },
  {
   "cell_type": "code",
   "execution_count": 4,
   "id": "7d5e0747-35e0-4647-aaf3-83b2f4423a5c",
   "metadata": {},
   "outputs": [
    {
     "name": "stdout",
     "output_type": "stream",
     "text": [
      "0.6931471805599453\n",
      "1.0\n",
      "0.3010299956639812\n"
     ]
    }
   ],
   "source": [
    "v1 = math.log(2)\n",
    "v2 = math.log2(2)\n",
    "v3 = math.log10(2)\n",
    "print(f'{v1}\\n{v2}\\n{v3}')"
   ]
  },
  {
   "cell_type": "markdown",
   "id": "fa7ae7a6-b0aa-4e97-bb3b-962a4009ad82",
   "metadata": {},
   "source": [
    "as funções trigonométricas:\n",
    "seno | cosseno | tangente\n",
    "---|---|---\n",
    "sin(x) | cos(x) | tan(x)\n",
    "\n",
    "os valores, neste caso, estarão em graus. Se desejar em radiano, é necessário:\n",
    "seno | cosseno | tangente\n",
    "---|---|---\n",
    "sin(radians(x)) | cos(radians(x)) | tan(radians(x))"
   ]
  },
  {
   "cell_type": "code",
   "execution_count": 7,
   "id": "c98a008c-0bae-4736-9439-58970f477019",
   "metadata": {},
   "outputs": [
    {
     "name": "stdout",
     "output_type": "stream",
     "text": [
      "0.9092974268256817\n",
      "-0.4161468365471424\n",
      "-2.185039863261519\n",
      "0.03489949670250097\n",
      "0.9993908270190958\n",
      "0.03492076949174773\n"
     ]
    }
   ],
   "source": [
    "v1 = math.sin(2)\n",
    "v2 = math.cos(2)\n",
    "v3 = math.tan(2)\n",
    "print(f'{v1}\\n{v2}\\n{v3}')\n",
    "#ou\n",
    "v1 = math.sin(math.radians(2))\n",
    "v2 = math.cos(math.radians(2))\n",
    "v3 = math.tan(math.radians(2))\n",
    "print(f'{v1}\\n{v2}\\n{v3}')"
   ]
  },
  {
   "cell_type": "markdown",
   "id": "8f533104-60a3-47f9-94f6-9d945d4f46b6",
   "metadata": {},
   "source": [
    "para mostrar os valores de `pi` e de `e`"
   ]
  },
  {
   "cell_type": "code",
   "execution_count": 8,
   "id": "9b3ef25b-efdb-431c-b8f5-01249517f0db",
   "metadata": {},
   "outputs": [
    {
     "name": "stdout",
     "output_type": "stream",
     "text": [
      "3.141592653589793\n",
      "2.718281828459045\n"
     ]
    }
   ],
   "source": [
    "print(math.pi)\n",
    "print(math.e)"
   ]
  },
  {
   "cell_type": "markdown",
   "id": "81772143-de6d-4418-98e1-d88464f4f93a",
   "metadata": {},
   "source": [
    "para calcular a raiz quadrada"
   ]
  },
  {
   "cell_type": "code",
   "execution_count": 9,
   "id": "2a4a53ef-9e39-47f9-b6b6-0af8a503b4fb",
   "metadata": {},
   "outputs": [
    {
     "name": "stdout",
     "output_type": "stream",
     "text": [
      "1.4142135623730951\n"
     ]
    }
   ],
   "source": [
    "print(math.sqrt(2))"
   ]
  },
  {
   "cell_type": "markdown",
   "id": "d20c6b9a-61da-4182-9cd1-c1585f14a731",
   "metadata": {},
   "source": [
    "para exponenciação em geral usa-se `pow(x, y)`, onde `x` é a base e `y` é o expoente"
   ]
  },
  {
   "cell_type": "code",
   "execution_count": 11,
   "id": "9e9c53b8-d57b-446e-b380-ce8e892c5c1d",
   "metadata": {},
   "outputs": [
    {
     "name": "stdout",
     "output_type": "stream",
     "text": [
      "8.0\n"
     ]
    }
   ],
   "source": [
    "print(math.pow(2, 3))"
   ]
  },
  {
   "cell_type": "markdown",
   "id": "bf24894a-03ea-49d3-82f7-37455dedec76",
   "metadata": {},
   "source": [
    "se o expoente for e, então, usamos `exp(x)`:"
   ]
  },
  {
   "cell_type": "code",
   "execution_count": 12,
   "id": "97f816fd-8aef-4d2e-b201-1752116e50f6",
   "metadata": {},
   "outputs": [
    {
     "name": "stdout",
     "output_type": "stream",
     "text": [
      "7.38905609893065\n"
     ]
    }
   ],
   "source": [
    "print(math.exp(2))"
   ]
  }
 ],
 "metadata": {
  "kernelspec": {
   "display_name": "Python 3 (ipykernel)",
   "language": "python",
   "name": "python3"
  },
  "language_info": {
   "codemirror_mode": {
    "name": "ipython",
    "version": 3
   },
   "file_extension": ".py",
   "mimetype": "text/x-python",
   "name": "python",
   "nbconvert_exporter": "python",
   "pygments_lexer": "ipython3",
   "version": "3.10.6"
  }
 },
 "nbformat": 4,
 "nbformat_minor": 5
}
