{
 "cells": [
  {
   "cell_type": "markdown",
   "id": "3a1296d1-0ed1-483f-9eb5-a6fb0af1dbad",
   "metadata": {},
   "source": [
    "## ***módulo string***\n",
    "---"
   ]
  },
  {
   "cell_type": "code",
   "execution_count": 1,
   "id": "1a699613-6b83-4a14-8523-1db43e147499",
   "metadata": {},
   "outputs": [],
   "source": [
    "import string"
   ]
  },
  {
   "cell_type": "markdown",
   "id": "9f12b627-df0e-4048-90bd-712edad1c90c",
   "metadata": {},
   "source": [
    "para ver todas as pontuações possíveis:"
   ]
  },
  {
   "cell_type": "code",
   "execution_count": 6,
   "id": "36aa94ba-20a9-41ce-b81e-08a55a4e0627",
   "metadata": {},
   "outputs": [
    {
     "data": {
      "text/plain": [
       "'!\"#$%&\\'()*+,-./:;<=>?@[\\\\]^_`{|}~'"
      ]
     },
     "execution_count": 6,
     "metadata": {},
     "output_type": "execute_result"
    }
   ],
   "source": [
    "string.punctuation"
   ]
  },
  {
   "cell_type": "markdown",
   "id": "ca369edf-5d27-48d7-874a-aad3c51bbfd1",
   "metadata": {},
   "source": [
    "para ver todos os espaços em branco como space, o tab, o newline, etc.:"
   ]
  },
  {
   "cell_type": "code",
   "execution_count": 5,
   "id": "9ee44af3-cf96-4d20-98a0-68f9ec0f8723",
   "metadata": {},
   "outputs": [
    {
     "data": {
      "text/plain": [
       "' \\t\\n\\r\\x0b\\x0c'"
      ]
     },
     "execution_count": 5,
     "metadata": {},
     "output_type": "execute_result"
    }
   ],
   "source": [
    "string.whitespace"
   ]
  },
  {
   "cell_type": "markdown",
   "id": "dfa962a7-f6fe-4fa5-84e8-c1dd65460ad2",
   "metadata": {},
   "source": [
    "ou"
   ]
  },
  {
   "cell_type": "code",
   "execution_count": 7,
   "id": "c02cad16-c695-4c57-bc61-9c75e9078c0f",
   "metadata": {},
   "outputs": [
    {
     "name": "stdout",
     "output_type": "stream",
     "text": [
      " \t\n",
      "\u000b",
      "\f",
      "\n"
     ]
    }
   ],
   "source": [
    "print(string.whitespace)"
   ]
  },
  {
   "cell_type": "markdown",
   "id": "8a533610-16d8-4255-967a-e85de763f179",
   "metadata": {},
   "source": [
    "para ver todas as letras do alfabeto em caixas alta e bauxa:"
   ]
  },
  {
   "cell_type": "code",
   "execution_count": 4,
   "id": "7a034186-4023-4721-8448-819ca280ce45",
   "metadata": {},
   "outputs": [
    {
     "data": {
      "text/plain": [
       "'abcdefghijklmnopqrstuvwxyzABCDEFGHIJKLMNOPQRSTUVWXYZ'"
      ]
     },
     "execution_count": 4,
     "metadata": {},
     "output_type": "execute_result"
    }
   ],
   "source": [
    "string.ascii_letters"
   ]
  },
  {
   "cell_type": "markdown",
   "id": "de588c44-9b49-43e8-b092-5d2b1b6eea29",
   "metadata": {},
   "source": [
    "para ver somente as de caixa alta:"
   ]
  },
  {
   "cell_type": "code",
   "execution_count": 8,
   "id": "4da4e77b-77f9-4f80-b57a-e88fe53c506b",
   "metadata": {},
   "outputs": [
    {
     "data": {
      "text/plain": [
       "'ABCDEFGHIJKLMNOPQRSTUVWXYZ'"
      ]
     },
     "execution_count": 8,
     "metadata": {},
     "output_type": "execute_result"
    }
   ],
   "source": [
    "string.ascii_uppercase"
   ]
  },
  {
   "cell_type": "markdown",
   "id": "7022d884-8cb2-4c26-b66d-df14b1d331c1",
   "metadata": {},
   "source": [
    "ou, as só de caixa baixa:"
   ]
  },
  {
   "cell_type": "code",
   "execution_count": 9,
   "id": "fd15706a-f6f0-4409-82f7-4acc7d46130b",
   "metadata": {},
   "outputs": [
    {
     "data": {
      "text/plain": [
       "'abcdefghijklmnopqrstuvwxyz'"
      ]
     },
     "execution_count": 9,
     "metadata": {},
     "output_type": "execute_result"
    }
   ],
   "source": [
    "string.ascii_lowercase"
   ]
  },
  {
   "cell_type": "markdown",
   "id": "04038edb-4f86-4192-97c7-1d4638c83cab",
   "metadata": {},
   "source": [
    "para ver todos os números:"
   ]
  },
  {
   "cell_type": "code",
   "execution_count": 11,
   "id": "d910dad6-673b-44c5-a8a8-5f8a96ee748d",
   "metadata": {},
   "outputs": [
    {
     "data": {
      "text/plain": [
       "'0123456789'"
      ]
     },
     "execution_count": 11,
     "metadata": {},
     "output_type": "execute_result"
    }
   ],
   "source": [
    "string.digits"
   ]
  },
  {
   "cell_type": "markdown",
   "id": "13aa31e6-d502-4c1e-86fd-c1841e9fded4",
   "metadata": {},
   "source": [
    "ou, os números em hexadecimal:"
   ]
  },
  {
   "cell_type": "code",
   "execution_count": 12,
   "id": "cb344f7d-e727-4f2e-b8d4-ed39683ee929",
   "metadata": {},
   "outputs": [
    {
     "data": {
      "text/plain": [
       "'0123456789abcdefABCDEF'"
      ]
     },
     "execution_count": 12,
     "metadata": {},
     "output_type": "execute_result"
    }
   ],
   "source": [
    "string.hexdigits"
   ]
  },
  {
   "cell_type": "markdown",
   "id": "a5977e98-754a-4895-aa01-a35287499599",
   "metadata": {},
   "source": [
    "da mesma forma, em octadecimal:"
   ]
  },
  {
   "cell_type": "code",
   "execution_count": 13,
   "id": "684faf75-a9f7-4838-8857-068265ca12b6",
   "metadata": {},
   "outputs": [
    {
     "data": {
      "text/plain": [
       "'01234567'"
      ]
     },
     "execution_count": 13,
     "metadata": {},
     "output_type": "execute_result"
    }
   ],
   "source": [
    "string.octdigits"
   ]
  },
  {
   "cell_type": "markdown",
   "id": "7aacfbf6-90c4-42a7-9b28-448954f95e01",
   "metadata": {},
   "source": [
    "para ver todos os valores que são 'imprimíveis':"
   ]
  },
  {
   "cell_type": "code",
   "execution_count": 14,
   "id": "ce4c8c77-a27b-4670-a891-e184306e0a06",
   "metadata": {},
   "outputs": [
    {
     "data": {
      "text/plain": [
       "'0123456789abcdefghijklmnopqrstuvwxyzABCDEFGHIJKLMNOPQRSTUVWXYZ!\"#$%&\\'()*+,-./:;<=>?@[\\\\]^_`{|}~ \\t\\n\\r\\x0b\\x0c'"
      ]
     },
     "execution_count": 14,
     "metadata": {},
     "output_type": "execute_result"
    }
   ],
   "source": [
    "string.printable"
   ]
  },
  {
   "cell_type": "code",
   "execution_count": null,
   "id": "9e90a403-da0d-44b8-9a64-f9373b0dd01d",
   "metadata": {},
   "outputs": [],
   "source": []
  }
 ],
 "metadata": {
  "kernelspec": {
   "display_name": "Python 3 (ipykernel)",
   "language": "python",
   "name": "python3"
  },
  "language_info": {
   "codemirror_mode": {
    "name": "ipython",
    "version": 3
   },
   "file_extension": ".py",
   "mimetype": "text/x-python",
   "name": "python",
   "nbconvert_exporter": "python",
   "pygments_lexer": "ipython3",
   "version": "3.10.6"
  }
 },
 "nbformat": 4,
 "nbformat_minor": 5
}
