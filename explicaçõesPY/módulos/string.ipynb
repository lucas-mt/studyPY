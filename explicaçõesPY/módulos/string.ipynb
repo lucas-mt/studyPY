{
 "cells": [
  {
   "cell_type": "markdown",
   "id": "3a1296d1-0ed1-483f-9eb5-a6fb0af1dbad",
   "metadata": {},
   "source": [
    "## ***módulo string***\n",
    "---"
   ]
  },
  {
   "cell_type": "code",
   "execution_count": 1,
   "id": "1a699613-6b83-4a14-8523-1db43e147499",
   "metadata": {},
   "outputs": [],
   "source": [
    "import string"
   ]
  },
  {
   "cell_type": "markdown",
   "id": "9f12b627-df0e-4048-90bd-712edad1c90c",
   "metadata": {},
   "source": [
    "para ver todas as pontuações possíveis:"
   ]
  },
  {
   "cell_type": "code",
   "execution_count": 2,
   "id": "36aa94ba-20a9-41ce-b81e-08a55a4e0627",
   "metadata": {},
   "outputs": [
    {
     "name": "stdout",
     "output_type": "stream",
     "text": [
      "!\"#$%&'()*+,-./:;<=>?@[\\]^_`{|}~\n"
     ]
    }
   ],
   "source": [
    "print(string.punctuation)"
   ]
  },
  {
   "cell_type": "markdown",
   "id": "ca369edf-5d27-48d7-874a-aad3c51bbfd1",
   "metadata": {},
   "source": [
    "para ver todos os espaços em branco como space, o tab, o newline, etc.:"
   ]
  },
  {
   "cell_type": "code",
   "execution_count": 3,
   "id": "9ee44af3-cf96-4d20-98a0-68f9ec0f8723",
   "metadata": {},
   "outputs": [
    {
     "name": "stdout",
     "output_type": "stream",
     "text": [
      " \t\n",
      "\u000b",
      "\f",
      "\n"
     ]
    }
   ],
   "source": [
    "print(string.whitespace)"
   ]
  }
 ],
 "metadata": {
  "kernelspec": {
   "display_name": "Python 3 (ipykernel)",
   "language": "python",
   "name": "python3"
  },
  "language_info": {
   "codemirror_mode": {
    "name": "ipython",
    "version": 3
   },
   "file_extension": ".py",
   "mimetype": "text/x-python",
   "name": "python",
   "nbconvert_exporter": "python",
   "pygments_lexer": "ipython3",
   "version": "3.9.5"
  }
 },
 "nbformat": 4,
 "nbformat_minor": 5
}
