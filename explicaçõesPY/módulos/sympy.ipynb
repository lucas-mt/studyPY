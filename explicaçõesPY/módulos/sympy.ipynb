{
 "cells": [
  {
   "cell_type": "markdown",
   "id": "72d72f79-606c-4c31-8ece-5f83dfe31100",
   "metadata": {},
   "source": [
    "## ***Sympy***\n",
    "---"
   ]
  },
  {
   "cell_type": "markdown",
   "id": "13e0aaa2-3afc-4fa7-8624-6776be20b8bf",
   "metadata": {},
   "source": [
    "a biblioteca `sympy` pode ser usada para trabalhar com equações"
   ]
  },
  {
   "cell_type": "markdown",
   "id": "54d18c43-884b-4038-8aca-99169cf89dcc",
   "metadata": {},
   "source": [
    "deve-se iniciar sempre indidcando quais caracteres serão usados para servir de variáveis"
   ]
  },
  {
   "cell_type": "code",
   "execution_count": 2,
   "id": "394108fb-80c9-4390-95e7-779babd204ac",
   "metadata": {},
   "outputs": [],
   "source": [
    "from sympy import *\n",
    "\n",
    "x, y, z = symbols('x y z')"
   ]
  },
  {
   "cell_type": "markdown",
   "id": "96e84492-e2f7-4648-8a62-535f21201cd9",
   "metadata": {},
   "source": [
    "o função `expand()` pode receber uma equação pelo usuário e retorna-a como uma equação que o python entende"
   ]
  },
  {
   "cell_type": "code",
   "execution_count": 5,
   "id": "2d42740b-b5b9-4e36-878d-8fe314ee3d98",
   "metadata": {},
   "outputs": [
    {
     "name": "stdin",
     "output_type": "stream",
     "text": [
      ">  x^4-2*x^3-4*x^2+4*x+4\n"
     ]
    },
    {
     "name": "stdout",
     "output_type": "stream",
     "text": [
      "x**4 - 2*x**3 - 4*x**2 + 4*x + 4\n"
     ]
    }
   ],
   "source": [
    "eq = expand(input('> '))\n",
    "print(eq)"
   ]
  },
  {
   "cell_type": "markdown",
   "id": "c22f58ab-1468-4281-94fe-5f3dd273c3ce",
   "metadata": {},
   "source": [
    "e essa equação pode ser usada normalmente para encontrar os zeros da função, por exemplo, usando a função `solve()` que recebe a equação que desejo resolver e a variável que deverá ser resolvida:"
   ]
  },
  {
   "cell_type": "code",
   "execution_count": 6,
   "id": "27ae925a-7bee-4a82-a3e3-b8d9c49942d3",
   "metadata": {},
   "outputs": [
    {
     "name": "stdout",
     "output_type": "stream",
     "text": [
      "[-sqrt(2), sqrt(2), 1 - sqrt(3), 1 + sqrt(3)]\n"
     ]
    }
   ],
   "source": [
    "print(solve(eq, x))"
   ]
  },
  {
   "cell_type": "markdown",
   "id": "663e8353-960e-461f-beff-992ced033cb9",
   "metadata": {},
   "source": [
    "suas resoluções podem ser interpretadas normalmente como números e podem ser usadas como listas normais."
   ]
  },
  {
   "cell_type": "code",
   "execution_count": 7,
   "id": "af6c73bb-6b27-43fe-9ca3-508eaaeaa954",
   "metadata": {},
   "outputs": [
    {
     "name": "stdout",
     "output_type": "stream",
     "text": [
      "1 - sqrt(3)\n"
     ]
    }
   ],
   "source": [
    "from math import sqrt\n",
    "\n",
    "print(solve(eq, x)[2])"
   ]
  },
  {
   "cell_type": "markdown",
   "id": "ea514914-4cff-4f0b-9df7-bc9c95c669e5",
   "metadata": {},
   "source": [
    "ou"
   ]
  },
  {
   "cell_type": "code",
   "execution_count": 8,
   "id": "fd6cc7eb-b39a-4d9d-bfb2-f57847f507ab",
   "metadata": {},
   "outputs": [
    {
     "name": "stdout",
     "output_type": "stream",
     "text": [
      "-0.7320508075688773\n"
     ]
    }
   ],
   "source": [
    "print(float(solve(eq, x)[2]))"
   ]
  },
  {
   "cell_type": "markdown",
   "id": "d147e48c-ddd3-4943-842e-0b2b1c69c45d",
   "metadata": {},
   "source": [
    "pode ser usado a função `<nome_da_função>.subs()` que deve receber como primeiro parâmetro a variável, nestes exemplos, o `x`, e como segundo parâmetro um valor qualquer da qual a variável deva ser substituído na função para observar seu valor"
   ]
  },
  {
   "cell_type": "code",
   "execution_count": 10,
   "id": "dab5bd1f-4593-4c2c-b307-535e360a5cb2",
   "metadata": {},
   "outputs": [
    {
     "name": "stdout",
     "output_type": "stream",
     "text": [
      "0.812500000000000\n"
     ]
    }
   ],
   "source": [
    "print(eq.subs(x, -1.5))"
   ]
  },
  {
   "cell_type": "markdown",
   "id": "170f40bd-1ea3-4c51-9ec5-fb39eac775c0",
   "metadata": {},
   "source": [
    "#### calculo diferencial\n",
    "---"
   ]
  },
  {
   "cell_type": "markdown",
   "id": "2a3b4bc5-7bc2-45a5-a8ea-d53a3fd42f47",
   "metadata": {},
   "source": [
    "importe a biblioteca `sympy` com o seguinte código inicial"
   ]
  },
  {
   "cell_type": "code",
   "execution_count": 1,
   "id": "99c38377-10a5-4d13-a0f2-566d90317dff",
   "metadata": {},
   "outputs": [],
   "source": [
    "from sympy import *"
   ]
  },
  {
   "cell_type": "markdown",
   "id": "83608082-698f-499e-b14c-83efbd9ca766",
   "metadata": {},
   "source": [
    "após isso, pode declarar todas as variáveis da seguinte forma"
   ]
  },
  {
   "cell_type": "code",
   "execution_count": 2,
   "id": "46a57c01-7ee2-4b20-abaa-ac7ca01ea95d",
   "metadata": {},
   "outputs": [],
   "source": [
    "x, y, z = symbols('x y z')"
   ]
  },
  {
   "cell_type": "markdown",
   "id": "6cd56939-0802-45e2-a600-1f1306182881",
   "metadata": {},
   "source": [
    "agora, para que o print fique \"bonito\", pode acresentar a linha `init_printing(use_unicode=true)` após esta linha de cima"
   ]
  },
  {
   "cell_type": "markdown",
   "id": "60615b78-181e-49c1-aef0-5b3390e1b399",
   "metadata": {},
   "source": [
    "então, use a função `diff()` da qual deve receber como primeiro parâmetro a função que irá derivar e, em seguida, deve receber como segundo parâmetro a variável que a função deve derivar. P.Ex.:"
   ]
  },
  {
   "cell_type": "code",
   "execution_count": 3,
   "id": "d23addaa-e1c0-4c46-a9ba-c5af5147eeca",
   "metadata": {},
   "outputs": [
    {
     "name": "stdout",
     "output_type": "stream",
     "text": [
      "4*x**3 - 6*x**2 - 8*x + 4\n"
     ]
    }
   ],
   "source": [
    "print(diff(((x**4)-(2*(x**3))-(4*(x**2))+(4*x)+4), x))"
   ]
  },
  {
   "cell_type": "markdown",
   "id": "3a5a771b-e584-4959-af88-3a850008bd67",
   "metadata": {},
   "source": [
    "No caso, derivou a função em relação a `x`."
   ]
  },
  {
   "cell_type": "code",
   "execution_count": 4,
   "id": "10405197-83c1-47c2-b7c4-901fe5431975",
   "metadata": {},
   "outputs": [
    {
     "name": "stdout",
     "output_type": "stream",
     "text": [
      "0\n"
     ]
    }
   ],
   "source": [
    "print(diff(((x**4)-(2*(x**3))-(4*(x**2))+(4*x)+4), y))"
   ]
  },
  {
   "cell_type": "markdown",
   "id": "8db7ff96-720d-423d-82db-9f7b0b6f19c1",
   "metadata": {},
   "source": [
    "nesse caso, como não tem y na função, retorna zero."
   ]
  },
  {
   "cell_type": "markdown",
   "id": "6be34b72-f4d2-425d-bbda-1c53d7711104",
   "metadata": {},
   "source": [
    "#### cálculo integral\n",
    "---"
   ]
  },
  {
   "cell_type": "markdown",
   "id": "abb5d9c2-6e2c-4c7b-9865-4a10b67da6a8",
   "metadata": {},
   "source": [
    "use a função `integrate()` da qual deve receber como primeiro parâmetro a função que irá integrar e, em seguida, deve receber como segundo parâmetro a variável que a função deve integrar."
   ]
  },
  {
   "cell_type": "code",
   "execution_count": 5,
   "id": "a614a153-87ac-4444-b219-82338adf6ff3",
   "metadata": {},
   "outputs": [
    {
     "name": "stdout",
     "output_type": "stream",
     "text": [
      "x**4 - 2*x**3 - 4*x**2 + 4*x\n"
     ]
    }
   ],
   "source": [
    "print(integrate(4*x**3 - 6*x**2 - 8*x + 4, x))"
   ]
  },
  {
   "cell_type": "markdown",
   "id": "a799780f-1620-4556-9ce6-e4ec7419e386",
   "metadata": {},
   "source": [
    "e, na situação"
   ]
  },
  {
   "cell_type": "code",
   "execution_count": 6,
   "id": "e888e69a-9e23-4a5d-98d7-df1ec3b353c4",
   "metadata": {},
   "outputs": [
    {
     "name": "stdout",
     "output_type": "stream",
     "text": [
      "z*(4*x**3 - 6*x**2 - 8*x + 4)\n"
     ]
    }
   ],
   "source": [
    "print(integrate(4*x**3 - 6*x**2 - 8*x + 4, z))"
   ]
  }
 ],
 "metadata": {
  "kernelspec": {
   "display_name": "Python 3 (ipykernel)",
   "language": "python",
   "name": "python3"
  },
  "language_info": {
   "codemirror_mode": {
    "name": "ipython",
    "version": 3
   },
   "file_extension": ".py",
   "mimetype": "text/x-python",
   "name": "python",
   "nbconvert_exporter": "python",
   "pygments_lexer": "ipython3",
   "version": "3.9.5"
  }
 },
 "nbformat": 4,
 "nbformat_minor": 5
}
