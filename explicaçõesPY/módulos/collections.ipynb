{
 "cells": [
  {
   "cell_type": "markdown",
   "id": "ead74a93-d96b-4eef-9d31-5f7cbf70efbf",
   "metadata": {},
   "source": [
    "## collections\n",
    "---"
   ]
  },
  {
   "cell_type": "code",
   "execution_count": 1,
   "id": "27774ab0-9fbf-4091-a176-ec053bda047e",
   "metadata": {},
   "outputs": [],
   "source": [
    "import collections as col"
   ]
  },
  {
   "cell_type": "markdown",
   "id": "acf426f0-ed6e-4aad-b985-2ad8519f809c",
   "metadata": {},
   "source": [
    "É um módulo que provém diferentes tipos de contêineres.\n",
    "\n",
    "Um contêiner é um objeto usado para armazenar outros objetos e providenciar uma forma de acessá-los através de iterações. Alguns dos contêineres nativos do python são as listas, os dicionários, as tuplas, os cojuntos, etc."
   ]
  },
  {
   "cell_type": "markdown",
   "id": "4a5cd993-b282-426c-8ce4-959714ce128a",
   "metadata": {},
   "source": [
    "#### Counter\n",
    "---"
   ]
  },
  {
   "cell_type": "markdown",
   "id": "5dfcecad-8081-400a-9ef8-40c2301e4680",
   "metadata": {},
   "source": [
    "é um método usado para contar quantas vezes um elemento se repete em um objeto iterável. Ele retorna um dicionário com as chaves sendo o elemento e os valores sendo a quantidade de repetição.\n",
    "\n",
    "Exemplos de como pode ser usado:"
   ]
  },
  {
   "cell_type": "code",
   "execution_count": 2,
   "id": "9a9b3a4b-98b7-41ff-8827-b4713699e803",
   "metadata": {},
   "outputs": [
    {
     "name": "stdout",
     "output_type": "stream",
     "text": [
      "Counter({'a': 3, 'r': 2})\n"
     ]
    }
   ],
   "source": [
    "print(col.Counter(['a', 'r', 'a', 'r', 'a']))"
   ]
  },
  {
   "cell_type": "code",
   "execution_count": 3,
   "id": "2b995e3a-5a7a-49f7-bd22-99f0358be33f",
   "metadata": {},
   "outputs": [
    {
     "name": "stdout",
     "output_type": "stream",
     "text": [
      "Counter({'a': 3, 'r': 2})\n"
     ]
    }
   ],
   "source": [
    "print(col.Counter('arara'))"
   ]
  },
  {
   "cell_type": "code",
   "execution_count": 4,
   "id": "54e22ba9-97f0-449e-a930-6631d0359ecb",
   "metadata": {},
   "outputs": [
    {
     "name": "stdout",
     "output_type": "stream",
     "text": [
      "Counter({'a': 3, 'r': 2})\n"
     ]
    }
   ],
   "source": [
    "print(col.Counter({'a': 3, 'r':2}))"
   ]
  },
  {
   "cell_type": "code",
   "execution_count": 5,
   "id": "62285997-6808-4422-9ec9-786055db9cc3",
   "metadata": {},
   "outputs": [
    {
     "name": "stdout",
     "output_type": "stream",
     "text": [
      "Counter({'a': 3, 'r': 2})\n"
     ]
    }
   ],
   "source": [
    "a, r = 'a', 'r'\n",
    "\n",
    "print(col.Counter(a=3, r=2))"
   ]
  },
  {
   "cell_type": "markdown",
   "id": "b79285cf-efbd-49b3-b018-9f7d4b2da54a",
   "metadata": {},
   "source": [
    "usando `update()` é possível incluir valores a um `counter` já existente: "
   ]
  },
  {
   "cell_type": "code",
   "execution_count": 6,
   "id": "2cebab22-a909-445f-9aff-546d955c6337",
   "metadata": {},
   "outputs": [
    {
     "name": "stdout",
     "output_type": "stream",
     "text": [
      "Counter({1: 2, 2: 1, 3: 1, 23: 1})\n",
      "Counter({1: 2, 2: 2, 3: 1, 23: 1, 5: 1})\n"
     ]
    }
   ],
   "source": [
    "a = col.Counter([1, 2, 3, 1, 23])\n",
    "print(a)\n",
    "\n",
    "a.update([2, 5])\n",
    "print(a)"
   ]
  },
  {
   "cell_type": "markdown",
   "id": "8ec1ead1-e226-46d8-ac95-6bd764a5670c",
   "metadata": {},
   "source": [
    "uma forma de ver quais os valores mais comuns é:"
   ]
  },
  {
   "cell_type": "code",
   "execution_count": 7,
   "id": "3bbeb74e-cbac-47e1-859b-a5fcdb1cc704",
   "metadata": {},
   "outputs": [
    {
     "name": "stdout",
     "output_type": "stream",
     "text": [
      "[(1, 2), (2, 2)]\n"
     ]
    }
   ],
   "source": [
    "print(a.most_common(2))"
   ]
  },
  {
   "cell_type": "markdown",
   "id": "a88b9a4a-ce90-4ef7-8e4f-bb6b070dc92c",
   "metadata": {},
   "source": [
    "é necessário passar a quantidade que deseja ver."
   ]
  },
  {
   "cell_type": "markdown",
   "id": "63ebc07a-049b-4fb8-8c94-7800ecc2d82b",
   "metadata": {},
   "source": [
    "#### DefaultDict\n",
    "---"
   ]
  },
  {
   "cell_type": "markdown",
   "id": "fe7a2217-6af4-4fb2-b272-f3eba19646aa",
   "metadata": {},
   "source": [
    "sua funcionalidade é praticamente igual a um dicionário tradicional, porém, este pode receber uma função que retorne algum valor quando uma chave não existir."
   ]
  },
  {
   "cell_type": "code",
   "execution_count": 8,
   "id": "ee9de813-b524-48c0-bf77-ffbb5268f8c3",
   "metadata": {},
   "outputs": [
    {
     "name": "stdout",
     "output_type": "stream",
     "text": [
      "A\n",
      "B\n",
      "chave não existente\n"
     ]
    }
   ],
   "source": [
    "def error():\n",
    "    return 'chave não existente'\n",
    "\n",
    "d = col.defaultdict(error)\n",
    "d['a'] = 'A'\n",
    "d['b'] = 'B'\n",
    "\n",
    "print(d['a'])\n",
    "print(d['b'])\n",
    "print(d['c'])"
   ]
  },
  {
   "cell_type": "markdown",
   "id": "898486ed-78fe-4f33-82f7-d7c928843bad",
   "metadata": {},
   "source": [
    "se comporta de uma forma diferente que um dicionário:"
   ]
  },
  {
   "cell_type": "code",
   "execution_count": 9,
   "id": "4426d054-d929-4acd-89a2-2e1e50dd07bc",
   "metadata": {},
   "outputs": [
    {
     "name": "stdout",
     "output_type": "stream",
     "text": [
      "A\n",
      "B\n"
     ]
    },
    {
     "ename": "KeyError",
     "evalue": "'c'",
     "output_type": "error",
     "traceback": [
      "\u001b[1;31m---------------------------------------------------------------------------\u001b[0m",
      "\u001b[1;31mKeyError\u001b[0m                                  Traceback (most recent call last)",
      "Cell \u001b[1;32mIn [9], line 7\u001b[0m\n\u001b[0;32m      5\u001b[0m \u001b[38;5;28mprint\u001b[39m(d[\u001b[38;5;124m'\u001b[39m\u001b[38;5;124ma\u001b[39m\u001b[38;5;124m'\u001b[39m])\n\u001b[0;32m      6\u001b[0m \u001b[38;5;28mprint\u001b[39m(d[\u001b[38;5;124m'\u001b[39m\u001b[38;5;124mb\u001b[39m\u001b[38;5;124m'\u001b[39m])\n\u001b[1;32m----> 7\u001b[0m \u001b[38;5;28mprint\u001b[39m(\u001b[43md\u001b[49m\u001b[43m[\u001b[49m\u001b[38;5;124;43m'\u001b[39;49m\u001b[38;5;124;43mc\u001b[39;49m\u001b[38;5;124;43m'\u001b[39;49m\u001b[43m]\u001b[49m)\n",
      "\u001b[1;31mKeyError\u001b[0m: 'c'"
     ]
    }
   ],
   "source": [
    "d = dict()\n",
    "d['a'] = 'A'\n",
    "d['b'] = 'B'\n",
    "\n",
    "print(d['a'])\n",
    "print(d['b'])\n",
    "print(d['c'])"
   ]
  },
  {
   "cell_type": "markdown",
   "id": "8c8ce11d-da3a-4e9e-8a0c-b5be35de7a22",
   "metadata": {},
   "source": [
    "#### ChainMap\n",
    "---"
   ]
  },
  {
   "cell_type": "markdown",
   "id": "b47ae103-3868-4a9c-b776-6193c71b5687",
   "metadata": {},
   "source": [
    "é usado para encapsuular vários dicionários em uma lista."
   ]
  },
  {
   "cell_type": "code",
   "execution_count": 14,
   "id": "6d28e90d-b88d-4f7f-b3f7-b892d02beb6c",
   "metadata": {},
   "outputs": [
    {
     "name": "stdout",
     "output_type": "stream",
     "text": [
      "ChainMap({'a': 1, 'b': 2}, {'c': 3, 'd': 4})\n"
     ]
    }
   ],
   "source": [
    "d1 = {'a': 1, 'b': 2}\n",
    "d2 = {'c': 3, 'd': 4}\n",
    "\n",
    "lst_dicio = col.ChainMap(d1, d2)\n",
    "\n",
    "print(lst_dicio)"
   ]
  },
  {
   "cell_type": "markdown",
   "id": "52f8537d-aa7f-4107-a569-42227b6c0888",
   "metadata": {},
   "source": [
    "os valores desta lista devem ser acessados como um dicionário:"
   ]
  },
  {
   "cell_type": "code",
   "execution_count": 15,
   "id": "222bc58a-3f92-4fa9-82ff-b77f7aee3b57",
   "metadata": {},
   "outputs": [
    {
     "name": "stdout",
     "output_type": "stream",
     "text": [
      "3\n",
      "ValuesView(ChainMap({'a': 1, 'b': 2}, {'c': 3, 'd': 4}))\n",
      "KeysView(ChainMap({'a': 1, 'b': 2}, {'c': 3, 'd': 4}))\n",
      "ItemsView(ChainMap({'a': 1, 'b': 2}, {'c': 3, 'd': 4}))\n"
     ]
    }
   ],
   "source": [
    "print(lst_dicio['c'])\n",
    "print(lst_dicio.values())\n",
    "print(lst_dicio.keys())\n",
    "print(lst_dicio.items())"
   ]
  },
  {
   "cell_type": "markdown",
   "id": "cc380d15-eca3-440f-96bd-be38474cf01e",
   "metadata": {},
   "source": [
    "se precisar incluir mais um dicionário na lista já existente, é necessário usador o método `.new_child(<dict>)`, criando uma nova lista: este novo dicionário será adicionado no início da lista."
   ]
  },
  {
   "cell_type": "code",
   "execution_count": 16,
   "id": "3466a2a4-f6e4-4b30-8ba0-09df1e5394f3",
   "metadata": {},
   "outputs": [
    {
     "name": "stdout",
     "output_type": "stream",
     "text": [
      "ChainMap({'e': 5, 'f': 6}, {'a': 1, 'b': 2}, {'c': 3, 'd': 4})\n"
     ]
    }
   ],
   "source": [
    "lst_2 = lst_dicio.new_child({'e': 5, 'f': 6})\n",
    "\n",
    "print(lst_2)"
   ]
  },
  {
   "cell_type": "markdown",
   "id": "00547848-c4dd-4611-b771-65068ac49bd2",
   "metadata": {},
   "source": [
    "#### NamedTuple\n",
    "---"
   ]
  },
  {
   "cell_type": "markdown",
   "id": "a258d4de-cece-4b29-8fc2-1ce31b506f0c",
   "metadata": {},
   "source": [
    "consegue fazer com que um tupla se comporte semelhante a um dicionário, podendo chamar seus valores através de nomes, não inabilitando a forma tradicional de chamarr valares usando o index:"
   ]
  },
  {
   "cell_type": "code",
   "execution_count": 10,
   "id": "2ab64686-b768-4694-8a2c-7fc63fcb52e2",
   "metadata": {},
   "outputs": [
    {
     "name": "stdout",
     "output_type": "stream",
     "text": [
      "preço da feijão através do index: R$14.00\n",
      "preço da farinha usando o nome: R$5.00\n"
     ]
    }
   ],
   "source": [
    "comida = col.namedtuple('comida', ['carne', 'arroz', 'feijão', 'soja', 'farinha'])\n",
    "\n",
    "s = comida(34, 12, 14, 4.5, 5)\n",
    "\n",
    "print(f'preço da feijão através do index: R${s[2]:.2f}')\n",
    "print(f'preço da farinha usando o nome: R${s.farinha:.2f}')"
   ]
  },
  {
   "cell_type": "markdown",
   "id": "b762e74c-e420-4a99-ba4e-4d5b9e6e772a",
   "metadata": {},
   "source": [
    "usando o método `_make(<tuple>)` é possível criar uma tupla nomeada a partir de uma tupla comum: "
   ]
  },
  {
   "cell_type": "code",
   "execution_count": 11,
   "id": "6aa3079c-e36c-416e-b552-8db8b85ff2ce",
   "metadata": {},
   "outputs": [
    {
     "name": "stdout",
     "output_type": "stream",
     "text": [
      "arroz: R$10.50\n",
      "feijão: R$18.90\n"
     ]
    }
   ],
   "source": [
    "g = (31, 10.5, 18.9, 5.2, 4.39)\n",
    "j = comida._make(g)\n",
    "\n",
    "print(f'arroz: R${g[1]:.2f}')\n",
    "print(f'feijão: R${j.feijão:.2f}')"
   ]
  },
  {
   "cell_type": "markdown",
   "id": "0353fc82-4003-4f61-a788-49c43ae04f9e",
   "metadata": {},
   "source": [
    "uma forma de ver as chaves desta tupla é usando `._fields`"
   ]
  },
  {
   "cell_type": "code",
   "execution_count": 13,
   "id": "2db96f46-ba8a-403e-bdac-65b409d9c9a4",
   "metadata": {},
   "outputs": [
    {
     "name": "stdout",
     "output_type": "stream",
     "text": [
      "('carne', 'arroz', 'feijão', 'soja', 'farinha')\n"
     ]
    }
   ],
   "source": [
    "print(comida._fields)"
   ]
  },
  {
   "cell_type": "markdown",
   "id": "c2570416-ecea-49a7-a14c-8f76b90c631d",
   "metadata": {},
   "source": [
    "usando `._asdict()` a tupla pode ser usada e vista como um dicionário"
   ]
  },
  {
   "cell_type": "code",
   "execution_count": 23,
   "id": "560ada98-8f98-4e21-a7c3-39d126269e69",
   "metadata": {},
   "outputs": [
    {
     "name": "stdout",
     "output_type": "stream",
     "text": [
      "{'carne': 31, 'arroz': 10.5, 'feijão': 18.9, 'soja': 5.2, 'farinha': 4.39}\n"
     ]
    }
   ],
   "source": [
    "print(j._asdict())"
   ]
  },
  {
   "cell_type": "markdown",
   "id": "d49e4f94-6eea-4073-95ca-b7d94ed2c8a3",
   "metadata": {},
   "source": [
    "#### deque\n",
    "---"
   ]
  },
  {
   "cell_type": "markdown",
   "id": "1b1d2301-3dde-49ec-9f55-4a4df4a53093",
   "metadata": {},
   "source": [
    "serve para acrescentar os métodos `.appendleft()` e `.popleft()` nas listas. Estes métodos fazem o mesmo que `.append()` e `.pop()`, porém, ao inve´s de fazer no lado direito da lista, faz no lado esquerdo:"
   ]
  },
  {
   "cell_type": "code",
   "execution_count": 17,
   "id": "e2d65f81-9143-4354-b570-70d761290aa3",
   "metadata": {},
   "outputs": [
    {
     "name": "stdout",
     "output_type": "stream",
     "text": [
      "deque([1, 2, 3])\n",
      "deque([1, 2, 3, 4])\n",
      "deque([0, 1, 2, 3, 4])\n",
      "deque([0, 1, 2, 3])\n",
      "deque([1, 2, 3])\n"
     ]
    }
   ],
   "source": [
    "lst = col.deque([1, 2, 3])\n",
    "print(lst)\n",
    "\n",
    "lst.append(4)\n",
    "print(lst)\n",
    "\n",
    "lst.appendleft(0)\n",
    "print(lst)\n",
    "\n",
    "lst.pop()\n",
    "print(lst)\n",
    "\n",
    "lst.popleft()\n",
    "print(lst)"
   ]
  },
  {
   "cell_type": "markdown",
   "id": "cf2fe141-447f-4f64-a45a-d25a4d5a62b0",
   "metadata": {},
   "source": [
    "#### UserDict\n",
    "---"
   ]
  },
  {
   "cell_type": "markdown",
   "id": "b184ed12-fc43-4827-b5aa-7aeec9ba2c94",
   "metadata": {},
   "source": [
    "este funcionalidade é usado como atributo a uma classe quando o usuário quiser criar o próprio dicionário, podendo, este, criar os próprios métodos e funcionalidades, além de poder mudar os métodos já existentes do dicionário"
   ]
  },
  {
   "cell_type": "code",
   "execution_count": 18,
   "id": "5f9de4b6-dc01-4e8b-b379-2f2e2213a23a",
   "metadata": {},
   "outputs": [
    {
     "ename": "RuntimeError",
     "evalue": "deletion not allowed",
     "output_type": "error",
     "traceback": [
      "\u001b[1;31m---------------------------------------------------------------------------\u001b[0m",
      "\u001b[1;31mRuntimeError\u001b[0m                              Traceback (most recent call last)",
      "Cell \u001b[1;32mIn [18], line 7\u001b[0m\n\u001b[0;32m      3\u001b[0m         \u001b[38;5;28;01mraise\u001b[39;00m \u001b[38;5;167;01mRuntimeError\u001b[39;00m(\u001b[38;5;124m'\u001b[39m\u001b[38;5;124mdeletion not allowed\u001b[39m\u001b[38;5;124m'\u001b[39m)\n\u001b[0;32m      5\u001b[0m dicio \u001b[38;5;241m=\u001b[39m MyDict({\u001b[38;5;124m'\u001b[39m\u001b[38;5;124ma\u001b[39m\u001b[38;5;124m'\u001b[39m: \u001b[38;5;124m'\u001b[39m\u001b[38;5;124mA\u001b[39m\u001b[38;5;124m'\u001b[39m, \u001b[38;5;124m'\u001b[39m\u001b[38;5;124mb\u001b[39m\u001b[38;5;124m'\u001b[39m: \u001b[38;5;124m'\u001b[39m\u001b[38;5;124mB\u001b[39m\u001b[38;5;124m'\u001b[39m, \u001b[38;5;124m'\u001b[39m\u001b[38;5;124mc\u001b[39m\u001b[38;5;124m'\u001b[39m: \u001b[38;5;124m'\u001b[39m\u001b[38;5;124mC\u001b[39m\u001b[38;5;124m'\u001b[39m})\n\u001b[1;32m----> 7\u001b[0m \u001b[43mdicio\u001b[49m\u001b[38;5;241;43m.\u001b[39;49m\u001b[43mpop\u001b[49m\u001b[43m(\u001b[49m\u001b[38;5;124;43m'\u001b[39;49m\u001b[38;5;124;43ma\u001b[39;49m\u001b[38;5;124;43m'\u001b[39;49m\u001b[43m)\u001b[49m\n\u001b[0;32m      9\u001b[0m \u001b[38;5;28mprint\u001b[39m(dicio)\n",
      "Cell \u001b[1;32mIn [18], line 3\u001b[0m, in \u001b[0;36mMyDict.pop\u001b[1;34m(self, s)\u001b[0m\n\u001b[0;32m      2\u001b[0m \u001b[38;5;28;01mdef\u001b[39;00m \u001b[38;5;21mpop\u001b[39m(\u001b[38;5;28mself\u001b[39m, s):\n\u001b[1;32m----> 3\u001b[0m     \u001b[38;5;28;01mraise\u001b[39;00m \u001b[38;5;167;01mRuntimeError\u001b[39;00m(\u001b[38;5;124m'\u001b[39m\u001b[38;5;124mdeletion not allowed\u001b[39m\u001b[38;5;124m'\u001b[39m)\n",
      "\u001b[1;31mRuntimeError\u001b[0m: deletion not allowed"
     ]
    }
   ],
   "source": [
    "class MyDict(col.UserDict):\n",
    "    def pop(self, s):\n",
    "        raise RuntimeError('deletion not allowed')\n",
    "\n",
    "dicio = MyDict({'a': 'A', 'b': 'B', 'c': 'C'})\n",
    "\n",
    "dicio.pop('a')\n",
    "\n",
    "print(dicio)"
   ]
  },
  {
   "cell_type": "markdown",
   "id": "2ed7ced3-8dde-4517-a3d6-06de79b19094",
   "metadata": {},
   "source": [
    "#### UserList\n",
    "---"
   ]
  },
  {
   "cell_type": "markdown",
   "id": "94a5dcd0-a75f-4024-aa2a-298437ab3f8f",
   "metadata": {},
   "source": [
    "semelhante ao anterior, funciona como um atributo à uma classe, caso o usuário queira criar a própria lista"
   ]
  },
  {
   "cell_type": "code",
   "execution_count": 19,
   "id": "2c2a908a-b611-4b55-b761-74cd5985e90e",
   "metadata": {},
   "outputs": [],
   "source": [
    "class MyList(col.UserList):\n",
    "    def __delitem__(self, value):\n",
    "        raise Exception('deletion not allowed')\n",
    "    def append(self, value):\n",
    "        raise Exception('addition not allowed')"
   ]
  },
  {
   "cell_type": "code",
   "execution_count": 20,
   "id": "35ed3d37-e1e3-4916-b9ad-5e397d5d2591",
   "metadata": {},
   "outputs": [
    {
     "ename": "Exception",
     "evalue": "deletion not allowed",
     "output_type": "error",
     "traceback": [
      "\u001b[1;31m---------------------------------------------------------------------------\u001b[0m",
      "\u001b[1;31mException\u001b[0m                                 Traceback (most recent call last)",
      "Cell \u001b[1;32mIn [20], line 3\u001b[0m\n\u001b[0;32m      1\u001b[0m lst \u001b[38;5;241m=\u001b[39m MyList([\u001b[38;5;241m1\u001b[39m, \u001b[38;5;241m2\u001b[39m, \u001b[38;5;241m3\u001b[39m])\n\u001b[1;32m----> 3\u001b[0m \u001b[38;5;28;01mdel\u001b[39;00m lst[\u001b[38;5;241m1\u001b[39m]\n\u001b[0;32m      5\u001b[0m \u001b[38;5;28mprint\u001b[39m(lst)\n",
      "Cell \u001b[1;32mIn [19], line 3\u001b[0m, in \u001b[0;36mMyList.__delitem__\u001b[1;34m(self, value)\u001b[0m\n\u001b[0;32m      2\u001b[0m \u001b[38;5;28;01mdef\u001b[39;00m \u001b[38;5;21m__delitem__\u001b[39m(\u001b[38;5;28mself\u001b[39m, value):\n\u001b[1;32m----> 3\u001b[0m     \u001b[38;5;28;01mraise\u001b[39;00m \u001b[38;5;167;01mException\u001b[39;00m(\u001b[38;5;124m'\u001b[39m\u001b[38;5;124mdeletion not allowed\u001b[39m\u001b[38;5;124m'\u001b[39m)\n",
      "\u001b[1;31mException\u001b[0m: deletion not allowed"
     ]
    }
   ],
   "source": [
    "lst = MyList([1, 2, 3])\n",
    "\n",
    "del lst[1]\n",
    "\n",
    "print(lst)"
   ]
  },
  {
   "cell_type": "code",
   "execution_count": 21,
   "id": "66107f93-af25-490f-8f37-987840b532f3",
   "metadata": {},
   "outputs": [
    {
     "ename": "Exception",
     "evalue": "addition not allowed",
     "output_type": "error",
     "traceback": [
      "\u001b[1;31m---------------------------------------------------------------------------\u001b[0m",
      "\u001b[1;31mException\u001b[0m                                 Traceback (most recent call last)",
      "Cell \u001b[1;32mIn [21], line 3\u001b[0m\n\u001b[0;32m      1\u001b[0m lst \u001b[38;5;241m=\u001b[39m MyList([\u001b[38;5;241m1\u001b[39m, \u001b[38;5;241m2\u001b[39m, \u001b[38;5;241m3\u001b[39m])\n\u001b[1;32m----> 3\u001b[0m \u001b[43mlst\u001b[49m\u001b[38;5;241;43m.\u001b[39;49m\u001b[43mappend\u001b[49m\u001b[43m(\u001b[49m\u001b[38;5;241;43m4\u001b[39;49m\u001b[43m)\u001b[49m\n\u001b[0;32m      5\u001b[0m \u001b[38;5;28mprint\u001b[39m(lst)\n",
      "Cell \u001b[1;32mIn [19], line 5\u001b[0m, in \u001b[0;36mMyList.append\u001b[1;34m(self, value)\u001b[0m\n\u001b[0;32m      4\u001b[0m \u001b[38;5;28;01mdef\u001b[39;00m \u001b[38;5;21mappend\u001b[39m(\u001b[38;5;28mself\u001b[39m, value):\n\u001b[1;32m----> 5\u001b[0m     \u001b[38;5;28;01mraise\u001b[39;00m \u001b[38;5;167;01mException\u001b[39;00m(\u001b[38;5;124m'\u001b[39m\u001b[38;5;124maddition not allowed\u001b[39m\u001b[38;5;124m'\u001b[39m)\n",
      "\u001b[1;31mException\u001b[0m: addition not allowed"
     ]
    }
   ],
   "source": [
    "lst = MyList([1, 2, 3])\n",
    "\n",
    "lst.append(4)\n",
    "\n",
    "print(lst)\n"
   ]
  },
  {
   "cell_type": "markdown",
   "id": "9cd4879c-8c8d-43e8-8eda-d6f8d0fe1acd",
   "metadata": {},
   "source": [
    "#### UserString\n",
    "---"
   ]
  },
  {
   "cell_type": "markdown",
   "id": "4e987120-5e3d-447a-857e-2aca68dfcc38",
   "metadata": {},
   "source": [
    "da mesma forma que os dois atributos anteriores, este daqui também serve para que o usuário crie sua própria string:"
   ]
  },
  {
   "cell_type": "code",
   "execution_count": 22,
   "id": "00a6b510-f6b7-46d8-943c-7d3c80f82683",
   "metadata": {},
   "outputs": [
    {
     "ename": "Exception",
     "evalue": "trade not allowed",
     "output_type": "error",
     "traceback": [
      "\u001b[1;31m---------------------------------------------------------------------------\u001b[0m",
      "\u001b[1;31mException\u001b[0m                                 Traceback (most recent call last)",
      "Cell \u001b[1;32mIn [22], line 7\u001b[0m\n\u001b[0;32m      3\u001b[0m         \u001b[38;5;28;01mraise\u001b[39;00m \u001b[38;5;167;01mException\u001b[39;00m(\u001b[38;5;124m'\u001b[39m\u001b[38;5;124mtrade not allowed\u001b[39m\u001b[38;5;124m'\u001b[39m)\n\u001b[0;32m      5\u001b[0m nm \u001b[38;5;241m=\u001b[39m MyStr(\u001b[38;5;124m'\u001b[39m\u001b[38;5;124mlucas\u001b[39m\u001b[38;5;124m'\u001b[39m)\n\u001b[1;32m----> 7\u001b[0m \u001b[38;5;28mprint\u001b[39m(\u001b[43mnm\u001b[49m\u001b[38;5;241;43m.\u001b[39;49m\u001b[43mreplace\u001b[49m\u001b[43m(\u001b[49m\u001b[38;5;124;43m'\u001b[39;49m\u001b[38;5;124;43mu\u001b[39;49m\u001b[38;5;124;43m'\u001b[39;49m\u001b[43m,\u001b[49m\u001b[43m \u001b[49m\u001b[38;5;124;43m'\u001b[39;49m\u001b[38;5;124;43mou\u001b[39;49m\u001b[38;5;124;43m'\u001b[39;49m\u001b[43m)\u001b[49m)\n",
      "Cell \u001b[1;32mIn [22], line 3\u001b[0m, in \u001b[0;36mMyStr.replace\u001b[1;34m(self, value1, value2)\u001b[0m\n\u001b[0;32m      2\u001b[0m \u001b[38;5;28;01mdef\u001b[39;00m \u001b[38;5;21mreplace\u001b[39m(\u001b[38;5;28mself\u001b[39m, value1, value2):\n\u001b[1;32m----> 3\u001b[0m     \u001b[38;5;28;01mraise\u001b[39;00m \u001b[38;5;167;01mException\u001b[39;00m(\u001b[38;5;124m'\u001b[39m\u001b[38;5;124mtrade not allowed\u001b[39m\u001b[38;5;124m'\u001b[39m)\n",
      "\u001b[1;31mException\u001b[0m: trade not allowed"
     ]
    }
   ],
   "source": [
    "class MyStr(col.UserString):\n",
    "    def replace(self, value1, value2):\n",
    "        raise Exception('trade not allowed')\n",
    "\n",
    "nm = MyStr('lucas')\n",
    "\n",
    "print(nm.replace('u', 'ou'))"
   ]
  },
  {
   "cell_type": "code",
   "execution_count": null,
   "id": "c369f411-b811-403d-94c4-7ed6cf614cc2",
   "metadata": {},
   "outputs": [],
   "source": []
  }
 ],
 "metadata": {
  "kernelspec": {
   "display_name": "Python 3 (ipykernel)",
   "language": "python",
   "name": "python3"
  },
  "language_info": {
   "codemirror_mode": {
    "name": "ipython",
    "version": 3
   },
   "file_extension": ".py",
   "mimetype": "text/x-python",
   "name": "python",
   "nbconvert_exporter": "python",
   "pygments_lexer": "ipython3",
   "version": "3.9.5"
  }
 },
 "nbformat": 4,
 "nbformat_minor": 5
}
