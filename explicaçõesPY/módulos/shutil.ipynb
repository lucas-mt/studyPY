{
 "cells": [
  {
   "cell_type": "markdown",
   "id": "071c2ad3-fdca-422a-85a7-5e2d83569474",
   "metadata": {},
   "source": [
    "## manipulando arquivos e diretórios com *SHUTIL*\n",
    "---"
   ]
  },
  {
   "cell_type": "code",
   "execution_count": 1,
   "id": "b28b7ac3-5b1b-4044-be32-faf0f6d44ffb",
   "metadata": {},
   "outputs": [],
   "source": [
    "import shutil"
   ]
  },
  {
   "cell_type": "markdown",
   "id": "116d8d32-eff8-46c4-99b9-03cc70d6cc6c",
   "metadata": {},
   "source": [
    "as funções do módulo `os` só apagam diretórios vazios. caso precise apagar um diretório não vazio, deve-se usar este módulo com a função `.rmtree(<dir>)`:\n",
    "```\n",
    "shutil.rmtree(caminho/<dir>, ignore_errors = True)\n",
    "```\n",
    "\n",
    "o parâmetro `ignore_errors` deve receber o valor `True`; caso contrário, esta função cairá na mesma limitação das funções do módulo `os`: só apagam se o diretório estiver vazio."
   ]
  },
  {
   "cell_type": "code",
   "execution_count": null,
   "id": "9abbc55e-5595-4a31-83fe-8dcd0141d1a2",
   "metadata": {},
   "outputs": [],
   "source": []
  }
 ],
 "metadata": {
  "kernelspec": {
   "display_name": "Python 3 (ipykernel)",
   "language": "python",
   "name": "python3"
  },
  "language_info": {
   "codemirror_mode": {
    "name": "ipython",
    "version": 3
   },
   "file_extension": ".py",
   "mimetype": "text/x-python",
   "name": "python",
   "nbconvert_exporter": "python",
   "pygments_lexer": "ipython3",
   "version": "3.10.6"
  }
 },
 "nbformat": 4,
 "nbformat_minor": 5
}
