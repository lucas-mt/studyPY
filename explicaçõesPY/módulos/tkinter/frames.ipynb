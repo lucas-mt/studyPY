{
 "cells": [
  {
   "cell_type": "markdown",
   "id": "3ee43ea5-f6a5-47b3-beb3-241de3553858",
   "metadata": {},
   "source": [
    "## Frames\n",
    "---"
   ]
  },
  {
   "cell_type": "code",
   "execution_count": 8,
   "id": "604576b9-8dfb-4cd2-896c-25b2cbb53097",
   "metadata": {},
   "outputs": [],
   "source": [
    "from tkinter import *\n",
    "\n",
    "janela = Tk()"
   ]
  },
  {
   "cell_type": "markdown",
   "id": "a4ea8d11-52a2-4318-9ad8-6062f7f4ac5d",
   "metadata": {},
   "source": [
    "são caixas ou conjuntos que separam itens na tela."
   ]
  },
  {
   "cell_type": "markdown",
   "id": "4a32557b-ec94-46a4-a8a0-49b46278ba02",
   "metadata": {},
   "source": [
    "para trabalhar com ele, deve ser criado um objeto `Frame(<janela>)`, que deve ser passado como parâmetro a janela principal da aplicação. Deve ser criado um frame diferente para cada objeto na tela.\n",
    "\n",
    "Recebe como parâmetro `bg=` que recebe uma cor para o fundo do frame.\n",
    "\n",
    "os parâmetros `highlightbackground=` recebe uma cor e `highlightthickness=` recebe um valor para a borda do frame.\n",
    "\n",
    "Há três funções para posicionar um frame:\n",
    "1. .pack(): o mais simples e não permite muitas autonomia;\n",
    "2. .grid(): divide a tela em linhas e colunas;\n",
    "3. .place(): recebe valores de x e y na tela. Passando os parâmetros `relx=` e `rely=`, que recebem valores de 0 a 1, onde 0 e a porção anterior da janela e 1 a porção posterior; já os `relwidth=` e `relheight=` recebe os mesmos valores, mas em relação à altura e ao comprimento do objeto, permitindo que os frames se adaptem ao tamanho da tela.;"
   ]
  },
  {
   "cell_type": "code",
   "execution_count": 9,
   "id": "aa824489-62f2-407a-8c95-b2b0e308423e",
   "metadata": {},
   "outputs": [
    {
     "data": {
      "text/plain": [
       "<__main__.App at 0x7ba094687040>"
      ]
     },
     "execution_count": 9,
     "metadata": {},
     "output_type": "execute_result"
    }
   ],
   "source": [
    "class App():\n",
    "    def __init__(self):\n",
    "        self.root = janela\n",
    "        self.frames()\n",
    "        janela.mainloop()\n",
    "    def frames(self):\n",
    "        self.frame1 = Frame(self.root, bg='blue', highlightbackground='green', highlightthickness=2)\n",
    "        self.frame1.place(relx=0.1, rely=0.1, relwidth=0.8, relheight=0.40)\n",
    "\n",
    "App()"
   ]
  },
  {
   "cell_type": "code",
   "execution_count": null,
   "id": "64e6aa05-4eee-4bf1-a5de-162182e6745e",
   "metadata": {},
   "outputs": [],
   "source": []
  }
 ],
 "metadata": {
  "kernelspec": {
   "display_name": "Python 3 (ipykernel)",
   "language": "python",
   "name": "python3"
  },
  "language_info": {
   "codemirror_mode": {
    "name": "ipython",
    "version": 3
   },
   "file_extension": ".py",
   "mimetype": "text/x-python",
   "name": "python",
   "nbconvert_exporter": "python",
   "pygments_lexer": "ipython3",
   "version": "3.10.12"
  }
 },
 "nbformat": 4,
 "nbformat_minor": 5
}
