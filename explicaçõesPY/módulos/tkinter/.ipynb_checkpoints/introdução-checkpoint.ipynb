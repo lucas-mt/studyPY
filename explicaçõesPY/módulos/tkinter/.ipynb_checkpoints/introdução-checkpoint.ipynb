{
 "cells": [
  {
   "cell_type": "markdown",
   "id": "b0ce355c-1640-430f-9c47-7db6015f4ef4",
   "metadata": {},
   "source": [
    "## Introdução a tkinter\n",
    "---"
   ]
  },
  {
   "cell_type": "markdown",
   "id": "8c9f4802-8470-4fc6-ac35-06def1e134d0",
   "metadata": {},
   "source": [
    "o tkinter deve ser importado como"
   ]
  },
  {
   "cell_type": "code",
   "execution_count": 1,
   "id": "e38a70cb-3007-4627-b2ea-1ef7f4bde66c",
   "metadata": {},
   "outputs": [],
   "source": [
    "from tkinter import *"
   ]
  },
  {
   "cell_type": "markdown",
   "id": "48aeda29-e71a-405e-8523-d26b4011bd58",
   "metadata": {},
   "source": [
    "para usar as funcionalidades do tkinter, deve criar uma variável que receba a classe `Tk()`."
   ]
  },
  {
   "cell_type": "code",
   "execution_count": 4,
   "id": "9dda4917-3eb2-429c-826a-d68674f3b5a2",
   "metadata": {},
   "outputs": [],
   "source": [
    "janela = Tk()"
   ]
  },
  {
   "cell_type": "markdown",
   "id": "21ff81bb-f98d-4506-a06a-11fc908a8c65",
   "metadata": {},
   "source": [
    "deve-se criar uma classe para organizar todas as funcionalidades da aplicação. Esta classe receberá as informações dos botões, das entradas, e etc."
   ]
  },
  {
   "cell_type": "markdown",
   "id": "79b771a7-015d-4268-9249-2678c69f3e2b",
   "metadata": {},
   "source": [
    "observe que é necessário recriar o objeto `Tk()` dentro da classe, caso contrário não funcionará, e que, ao definir a classe `App`, este deve receber `()`."
   ]
  },
  {
   "cell_type": "markdown",
   "id": "859d12c7-453c-4685-a83f-8673765aa5ab",
   "metadata": {},
   "source": [
    "Vamos criar uma função em `App` para configurar a janela.\n",
    "\n",
    "a função `.title()` recebe uma *string* e dar um título à janela principal. \n",
    "\n",
    "a função `.configure()` pode receber os parâmetros `background=`, que dar cor ao fundo da janela, etc.\n",
    "\n",
    "a função `.geometry()` recebe uma *string* do tipo `'horizontal x vertical'` e isto será o tamanho da janela ao abrir.\n",
    "\n",
    "a função `.resizable` recebe dois valores booleanos e, o 1º para a horizontal e o 2º para a vertical. assim, com ela marcada com `True`, ela permite a reconfiguração da janela no momento que está aberta; marcada com `False`, ela não permite a reconfiguração da janela.\n",
    "\n",
    "as funções `.minsize()` e `.maxsize()`  permitem que as configurações da janela sejam reconfiguradas até um certo tamanho limite. Elas recebem os parâmetros `width=` e `height=`"
   ]
  },
  {
   "cell_type": "code",
   "execution_count": 9,
   "id": "5068d046-5451-422a-924a-6374bc380eee",
   "metadata": {},
   "outputs": [
    {
     "data": {
      "text/plain": [
       "<__main__.App at 0x78030614c4f0>"
      ]
     },
     "execution_count": 9,
     "metadata": {},
     "output_type": "execute_result"
    }
   ],
   "source": [
    "class App():\n",
    "    def __init__(self):\n",
    "        self.root = janela\n",
    "        self.tela()\n",
    "        janela.mainloop()\n",
    "    def tela(self):\n",
    "        self.root.title('cadastro de clientes')\n",
    "        self.root.configure(background='darkblue')\n",
    "        self.root.geometry('500x300')\n",
    "        self.root.resizable(True, True)\n",
    "        self.root.maxsize(width=800, height=500)\n",
    "        self.root.minsize(width=400, height=100)\n",
    "\n",
    "App()"
   ]
  },
  {
   "cell_type": "code",
   "execution_count": null,
   "id": "d32659fb-9ca8-4540-8787-17711c7eb5a5",
   "metadata": {},
   "outputs": [],
   "source": []
  }
 ],
 "metadata": {
  "kernelspec": {
   "display_name": "Python 3 (ipykernel)",
   "language": "python",
   "name": "python3"
  },
  "language_info": {
   "codemirror_mode": {
    "name": "ipython",
    "version": 3
   },
   "file_extension": ".py",
   "mimetype": "text/x-python",
   "name": "python",
   "nbconvert_exporter": "python",
   "pygments_lexer": "ipython3",
   "version": "3.10.12"
  }
 },
 "nbformat": 4,
 "nbformat_minor": 5
}
