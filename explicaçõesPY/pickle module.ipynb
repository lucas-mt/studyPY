{
 "cells": [
  {
   "cell_type": "markdown",
   "id": "3a1e143d-1b34-42d5-9d07-6feae290faa4",
   "metadata": {},
   "source": [
    "## ***guardando arquivos em binário***\n",
    "---"
   ]
  },
  {
   "cell_type": "markdown",
   "id": "792668f1-d245-4cd9-b240-34b02a1f3dc0",
   "metadata": {},
   "source": [
    "pode-se usar o módulo `pickle` com valores do tipo booleano, inteiro, racional, irracional, números complexos, string(normal ou unicode), tuplas, listas, conjuntos e dicionários para armazená-los em arquivos em binário."
   ]
  },
  {
   "cell_type": "code",
   "execution_count": 1,
   "id": "262bdc64-9828-4fd8-b516-023422e4f975",
   "metadata": {},
   "outputs": [],
   "source": [
    "import pickle"
   ]
  },
  {
   "cell_type": "markdown",
   "id": "efbe5ba4-e194-4c98-b624-93e1babdae20",
   "metadata": {},
   "source": [
    "como exemplo:"
   ]
  },
  {
   "cell_type": "code",
   "execution_count": 3,
   "id": "38ed4516-3a5e-4f0b-8197-49e3625716a3",
   "metadata": {},
   "outputs": [],
   "source": [
    "animais_dict = {'luxor': 5, 'odessa': 8, 'luanda': 20}"
   ]
  },
  {
   "cell_type": "markdown",
   "id": "383a07e3-f825-48a7-9140-df3a85ec9d53",
   "metadata": {},
   "source": [
    "agora, crie um arquivo sem extensão e usando o comando `pickle.dump()` criaremos o arquivo binarizado:"
   ]
  },
  {
   "cell_type": "markdown",
   "id": "8843c04a-811d-4359-82bd-4fb984bf48e3",
   "metadata": {},
   "source": [
    "```\n",
    "filename = '<caminho>//animais'\n",
    "outfile = open(filename, 'wb')\n",
    "```"
   ]
  },
  {
   "cell_type": "markdown",
   "id": "be1b48c1-ac90-4978-8c9e-182eb8791906",
   "metadata": {},
   "source": [
    "o `wb` significa que o arquivo `filename` será aberto para que nele seja escrito informações em binario."
   ]
  },
  {
   "cell_type": "markdown",
   "id": "96122f71-16ff-47c6-be68-05a244398ea7",
   "metadata": {},
   "source": [
    "e, então,\n",
    "```\n",
    "pickle.dump(animais_dict, outfile)\n",
    "```"
   ]
  },
  {
   "cell_type": "markdown",
   "id": "a44916a2-c2fb-4bd1-85e1-5d6c2d58ff55",
   "metadata": {},
   "source": [
    "nunca se esqueça de fechar o arquivo:\n",
    "```\n",
    "outfile.close()\n",
    "```"
   ]
  },
  {
   "cell_type": "markdown",
   "id": "d5860616-d9f9-4bd7-aa6a-907e3bdbf0f7",
   "metadata": {},
   "source": [
    "para ler estes arquivos em binário, é necessário:\n",
    "```\n",
    "infile = open(filename, 'rb')\n",
    "new_dict = pickle.load(infile)\n",
    "infile.close()\n",
    "```"
   ]
  },
  {
   "cell_type": "markdown",
   "id": "4eeafc22-a2d5-457c-a9a4-842726542c74",
   "metadata": {},
   "source": [
    "assim, a antiga lista `animais_dict` agora é a `new_dict` e para printá-lo, basta:\n",
    "```\n",
    "print(new_dict)\n",
    "```"
   ]
  }
 ],
 "metadata": {
  "kernelspec": {
   "display_name": "Python 3 (ipykernel)",
   "language": "python",
   "name": "python3"
  },
  "language_info": {
   "codemirror_mode": {
    "name": "ipython",
    "version": 3
   },
   "file_extension": ".py",
   "mimetype": "text/x-python",
   "name": "python",
   "nbconvert_exporter": "python",
   "pygments_lexer": "ipython3",
   "version": "3.9.5"
  }
 },
 "nbformat": 4,
 "nbformat_minor": 5
}
