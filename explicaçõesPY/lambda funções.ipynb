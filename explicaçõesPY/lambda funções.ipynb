{
 "cells": [
  {
   "cell_type": "markdown",
   "id": "0c99ade2-e94f-4cc1-b176-713806c35d0f",
   "metadata": {},
   "source": [
    "## ***Funções Lambda***\n",
    "---"
   ]
  },
  {
   "cell_type": "markdown",
   "id": "09444bb5-de96-4596-a300-ac9cf25b3e2b",
   "metadata": {},
   "source": [
    "são funções de um linha, simples, sem nome, elas devem ser associadas diretamente a variável"
   ]
  },
  {
   "cell_type": "code",
   "execution_count": 1,
   "id": "d988bc8c-826b-4550-9fc3-678fd16d5e61",
   "metadata": {},
   "outputs": [
    {
     "name": "stdout",
     "output_type": "stream",
     "text": [
      "2\n",
      "2\n"
     ]
    }
   ],
   "source": [
    "a = lambda x: x+1 if x%2!=0 else x\n",
    "print(a(1))\n",
    "print(a(2))"
   ]
  },
  {
   "cell_type": "code",
   "execution_count": 2,
   "id": "27e42305-5ff7-494c-abca-ffa8b8af8d82",
   "metadata": {},
   "outputs": [
    {
     "name": "stdout",
     "output_type": "stream",
     "text": [
      "9\n"
     ]
    }
   ],
   "source": [
    "b = lambda x: x**2\n",
    "print(b(3))"
   ]
  },
  {
   "cell_type": "markdown",
   "id": "7252fd9d-706b-4cd8-afb2-4589f19ffc54",
   "metadata": {},
   "source": [
    "a variável que recebe lambda passa a se comportar como uma função normal."
   ]
  },
  {
   "cell_type": "markdown",
   "id": "20a07a61-1de6-4b9c-8b85-6529a8b15b0e",
   "metadata": {},
   "source": [
    "lambda pode receber sem nenhum problema mais de uma variável"
   ]
  },
  {
   "cell_type": "code",
   "execution_count": 4,
   "id": "867750a0-382c-497a-bafd-10e181edb245",
   "metadata": {},
   "outputs": [
    {
     "name": "stdout",
     "output_type": "stream",
     "text": [
      "0.006\n"
     ]
    }
   ],
   "source": [
    "lb = lambda i, j: i*(j/1000)\n",
    "print(lb(2, 3))"
   ]
  },
  {
   "cell_type": "markdown",
   "id": "bf2ace9e-b8cb-4ada-9010-80b8c68cc5e7",
   "metadata": {},
   "source": [
    "além de não precisar receber nenhuma"
   ]
  },
  {
   "cell_type": "code",
   "execution_count": 1,
   "id": "f431f155-6280-4b8f-a1d0-fb7bc71fbd68",
   "metadata": {},
   "outputs": [
    {
     "name": "stdout",
     "output_type": "stream",
     "text": [
      "[0, 2, 4, 6, 8, 10]\n"
     ]
    }
   ],
   "source": [
    "bl = lambda: [x for x in range(0, 11) if x%2==0]\n",
    "print(bl())"
   ]
  }
 ],
 "metadata": {
  "kernelspec": {
   "display_name": "Python 3 (ipykernel)",
   "language": "python",
   "name": "python3"
  },
  "language_info": {
   "codemirror_mode": {
    "name": "ipython",
    "version": 3
   },
   "file_extension": ".py",
   "mimetype": "text/x-python",
   "name": "python",
   "nbconvert_exporter": "python",
   "pygments_lexer": "ipython3",
   "version": "3.9.5"
  }
 },
 "nbformat": 4,
 "nbformat_minor": 5
}
