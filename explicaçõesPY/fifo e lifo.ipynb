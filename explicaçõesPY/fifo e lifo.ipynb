{
 "cells": [
  {
   "cell_type": "markdown",
   "id": "8418e81c-77b9-4896-8a6d-46f59faa591b",
   "metadata": {},
   "source": [
    "## ***Filas e Pilhas***\n",
    "---"
   ]
  },
  {
   "cell_type": "markdown",
   "id": "65e49a45-0608-407d-9327-97d28c6cbcce",
   "metadata": {},
   "source": [
    "#### First In First Out"
   ]
  },
  {
   "cell_type": "markdown",
   "id": "b89d09df-d7a4-47e1-86eb-6043086aa0ed",
   "metadata": {},
   "source": [
    "é o método de organizar uma fila, lista, onde, a partir de um crto ponto, cada novo elemento adicionado, o mais antigo é retirado, p.ex.:"
   ]
  },
  {
   "cell_type": "code",
   "execution_count": 3,
   "id": "bedef8bf-451a-46ab-9162-0dccd8aa32b1",
   "metadata": {},
   "outputs": [
    {
     "name": "stdin",
     "output_type": "stream",
     "text": [
      "valor>  1\n"
     ]
    },
    {
     "name": "stdout",
     "output_type": "stream",
     "text": [
      "[1]\n"
     ]
    },
    {
     "name": "stdin",
     "output_type": "stream",
     "text": [
      "valor>  2\n"
     ]
    },
    {
     "name": "stdout",
     "output_type": "stream",
     "text": [
      "[1, 2]\n"
     ]
    },
    {
     "name": "stdin",
     "output_type": "stream",
     "text": [
      "valor>  3\n"
     ]
    },
    {
     "name": "stdout",
     "output_type": "stream",
     "text": [
      "[1, 2, 3]\n"
     ]
    },
    {
     "name": "stdin",
     "output_type": "stream",
     "text": [
      "valor>  4\n"
     ]
    },
    {
     "name": "stdout",
     "output_type": "stream",
     "text": [
      "[1, 2, 3, 4]\n"
     ]
    },
    {
     "name": "stdin",
     "output_type": "stream",
     "text": [
      "valor>  5\n"
     ]
    },
    {
     "name": "stdout",
     "output_type": "stream",
     "text": [
      "[1, 2, 3, 4, 5]\n"
     ]
    },
    {
     "name": "stdin",
     "output_type": "stream",
     "text": [
      "valor>  6\n"
     ]
    },
    {
     "name": "stdout",
     "output_type": "stream",
     "text": [
      "[2, 3, 4, 5, 6]\n"
     ]
    },
    {
     "name": "stdin",
     "output_type": "stream",
     "text": [
      "valor>  7\n"
     ]
    },
    {
     "name": "stdout",
     "output_type": "stream",
     "text": [
      "[3, 4, 5, 6, 7]\n"
     ]
    },
    {
     "name": "stdin",
     "output_type": "stream",
     "text": [
      "valor>  10\n"
     ]
    },
    {
     "name": "stdout",
     "output_type": "stream",
     "text": [
      "[4, 5, 6, 7, 10]\n"
     ]
    },
    {
     "name": "stdin",
     "output_type": "stream",
     "text": [
      "valor>  -1\n"
     ]
    },
    {
     "name": "stdout",
     "output_type": "stream",
     "text": [
      "lista final: [4, 5, 6, 7, 10]\n"
     ]
    }
   ],
   "source": [
    "lista = []\n",
    "while True:\n",
    "    num = int(input('valor> '))\n",
    "    if num == -1:\n",
    "        break\n",
    "    if len(lista) < 5:\n",
    "        lista.append(num)\n",
    "    else:\n",
    "        lista.pop(0)\n",
    "        lista.append(num)\n",
    "    print(lista)\n",
    "print(f'lista final: {lista}')"
   ]
  },
  {
   "cell_type": "markdown",
   "id": "220a8824-2502-48e1-bf7f-1f988faf16a5",
   "metadata": {},
   "source": [
    "ou seja, quando a lista atinge 5 elementos, se um sexto for adicionado o primeiro será apagado."
   ]
  },
  {
   "cell_type": "markdown",
   "id": "1c88dc35-b79d-407e-8c3e-6f84b6b25bf6",
   "metadata": {},
   "source": [
    "#### Last In First Out"
   ]
  },
  {
   "cell_type": "markdown",
   "id": "7e9c7660-ba6d-4840-8d8f-471e4a54087b",
   "metadata": {},
   "source": [
    "é o método onde o último elemento da pilha, lista, é apagado se um novo elemento for adicionado. p.ex.:"
   ]
  },
  {
   "cell_type": "code",
   "execution_count": 4,
   "id": "a42ffdc7-2e54-4052-9e45-2ae00e475ab5",
   "metadata": {},
   "outputs": [
    {
     "name": "stdin",
     "output_type": "stream",
     "text": [
      "valor>  1\n"
     ]
    },
    {
     "name": "stdout",
     "output_type": "stream",
     "text": [
      "[1]\n"
     ]
    },
    {
     "name": "stdin",
     "output_type": "stream",
     "text": [
      "valor>  2\n"
     ]
    },
    {
     "name": "stdout",
     "output_type": "stream",
     "text": [
      "[1, 2]\n"
     ]
    },
    {
     "name": "stdin",
     "output_type": "stream",
     "text": [
      "valor>  3\n"
     ]
    },
    {
     "name": "stdout",
     "output_type": "stream",
     "text": [
      "[1, 2, 3]\n"
     ]
    },
    {
     "name": "stdin",
     "output_type": "stream",
     "text": [
      "valor>  4\n"
     ]
    },
    {
     "name": "stdout",
     "output_type": "stream",
     "text": [
      "[1, 2, 3, 4]\n"
     ]
    },
    {
     "name": "stdin",
     "output_type": "stream",
     "text": [
      "valor>  5\n"
     ]
    },
    {
     "name": "stdout",
     "output_type": "stream",
     "text": [
      "[1, 2, 3, 4, 5]\n"
     ]
    },
    {
     "name": "stdin",
     "output_type": "stream",
     "text": [
      "valor>  6\n"
     ]
    },
    {
     "name": "stdout",
     "output_type": "stream",
     "text": [
      "[1, 2, 3, 4, 6]\n"
     ]
    },
    {
     "name": "stdin",
     "output_type": "stream",
     "text": [
      "valor>  7\n"
     ]
    },
    {
     "name": "stdout",
     "output_type": "stream",
     "text": [
      "[1, 2, 3, 4, 7]\n"
     ]
    },
    {
     "name": "stdin",
     "output_type": "stream",
     "text": [
      "valor>  10\n"
     ]
    },
    {
     "name": "stdout",
     "output_type": "stream",
     "text": [
      "[1, 2, 3, 4, 10]\n"
     ]
    },
    {
     "name": "stdin",
     "output_type": "stream",
     "text": [
      "valor>  -1\n"
     ]
    },
    {
     "name": "stdout",
     "output_type": "stream",
     "text": [
      "lista final: [1, 2, 3, 4, 10]\n"
     ]
    }
   ],
   "source": [
    "lista = []\n",
    "while True:\n",
    "    num = int(input('valor> '))\n",
    "    if num==-1:\n",
    "        break\n",
    "    if len(lista) < 5:\n",
    "        lista.append(num)\n",
    "    else:\n",
    "        lista.pop()\n",
    "        lista.append(num)\n",
    "    print(lista)\n",
    "print(f'lista final: {lista}')"
   ]
  }
 ],
 "metadata": {
  "kernelspec": {
   "display_name": "Python 3 (ipykernel)",
   "language": "python",
   "name": "python3"
  },
  "language_info": {
   "codemirror_mode": {
    "name": "ipython",
    "version": 3
   },
   "file_extension": ".py",
   "mimetype": "text/x-python",
   "name": "python",
   "nbconvert_exporter": "python",
   "pygments_lexer": "ipython3",
   "version": "3.9.5"
  }
 },
 "nbformat": 4,
 "nbformat_minor": 5
}
