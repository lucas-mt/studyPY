{
 "cells": [
  {
   "cell_type": "markdown",
   "id": "49dd0046-153a-4a3d-a5e5-a97136b31829",
   "metadata": {},
   "source": [
    "## ***Módulo random***\n",
    "---"
   ]
  },
  {
   "cell_type": "markdown",
   "id": "929ee62f-d08a-45a7-a3fa-2036a1dda33d",
   "metadata": {},
   "source": [
    "sobre o módulo random:"
   ]
  },
  {
   "cell_type": "code",
   "execution_count": 1,
   "id": "520ab88c-2b59-455b-acfa-78c5ba660d32",
   "metadata": {},
   "outputs": [],
   "source": [
    "import random"
   ]
  },
  {
   "cell_type": "markdown",
   "id": "64e2ef2e-ca9c-40b2-8280-04b5bd9d764f",
   "metadata": {},
   "source": [
    "o método ```random()``` não recebe parâmetro e retorna um valor aleatório entre 0 e 1"
   ]
  },
  {
   "cell_type": "code",
   "execution_count": 2,
   "id": "04f7016a-8bab-4ff8-9c78-c85f47692f42",
   "metadata": {},
   "outputs": [
    {
     "name": "stdout",
     "output_type": "stream",
     "text": [
      "0.16455901430623576\n"
     ]
    }
   ],
   "source": [
    "print(random.random())"
   ]
  },
  {
   "cell_type": "markdown",
   "id": "edb47e88-d4e5-4782-a0cf-aa0dd1573f0a",
   "metadata": {},
   "source": [
    "o método ```randint()``` recebe um intervalo de valores inteiros e devolve um valor dentro desse intervalo"
   ]
  },
  {
   "cell_type": "code",
   "execution_count": 3,
   "id": "65eddbe4-6b09-4a7f-a378-3af4523bb329",
   "metadata": {},
   "outputs": [
    {
     "name": "stdout",
     "output_type": "stream",
     "text": [
      "[34, 89, 59, 4, 77, 1, 19, 27, 61, 36, 28, 14, 31, 29, 71]\n"
     ]
    }
   ],
   "source": [
    "int_aleatório = [random.randint(0, 100) for _ in range(15)]\n",
    "print(int_aleatório)"
   ]
  },
  {
   "cell_type": "markdown",
   "id": "d3ea92f5-6912-49c4-be02-8584b3141b94",
   "metadata": {},
   "source": [
    "o método ```shuffle()``` recebe uma lista como parâmetro e embaralha-a"
   ]
  },
  {
   "cell_type": "code",
   "execution_count": 4,
   "id": "4df6d2c9-fd10-4c6c-acbb-37daae554b88",
   "metadata": {},
   "outputs": [
    {
     "name": "stdout",
     "output_type": "stream",
     "text": [
      "[34, 59, 36, 1, 71, 14, 28, 31, 89, 77, 27, 61, 29, 19, 4]\n"
     ]
    }
   ],
   "source": [
    "random.shuffle(int_aleatório)\n",
    "print(int_aleatório)"
   ]
  },
  {
   "cell_type": "markdown",
   "id": "88d95f03-9ac9-46b0-bc2c-b403f0612458",
   "metadata": {},
   "source": [
    "o método ```choice()``` recebe uma lista como parâmetro e escolhe um valor aleatório dessa lista"
   ]
  },
  {
   "cell_type": "code",
   "execution_count": 5,
   "id": "be5bbab5-98bf-4b38-85f3-bd9d4f4bb8da",
   "metadata": {},
   "outputs": [
    {
     "name": "stdout",
     "output_type": "stream",
     "text": [
      "1\n"
     ]
    }
   ],
   "source": [
    "escolha = random.choice(int_aleatório)\n",
    "print(escolha)"
   ]
  },
  {
   "cell_type": "markdown",
   "id": "e1916265-3d03-4565-b051-a5e953c7fa42",
   "metadata": {},
   "source": [
    "a função `sample()` recebe uma lista como parâmetro e retorna um valor aleatório dessa lista, pode também receber a quantidade de vezes que o usuário deseja receber valores"
   ]
  },
  {
   "cell_type": "code",
   "execution_count": 6,
   "id": "096da434-5f93-4ce1-9890-c854fbc1afd2",
   "metadata": {},
   "outputs": [
    {
     "name": "stdout",
     "output_type": "stream",
     "text": [
      "[1, 59, 4]\n"
     ]
    }
   ],
   "source": [
    "print(random.sample(int_aleatório, 3))"
   ]
  },
  {
   "cell_type": "markdown",
   "id": "a885f8e9-2e64-468d-8cb0-db80516556ed",
   "metadata": {},
   "source": [
    "a função `uniform()` também retorna valores aleatórios fracionários, porém, recebe como parâmetro um intervalo"
   ]
  },
  {
   "cell_type": "code",
   "execution_count": 7,
   "id": "62cc6b32-42bc-4f4c-ae2e-f573e3222719",
   "metadata": {},
   "outputs": [
    {
     "name": "stdout",
     "output_type": "stream",
     "text": [
      "1.073767577114566\n"
     ]
    }
   ],
   "source": [
    "print(random.uniform(1, 2))"
   ]
  }
 ],
 "metadata": {
  "kernelspec": {
   "display_name": "Python 3",
   "language": "python",
   "name": "python3"
  },
  "language_info": {
   "codemirror_mode": {
    "name": "ipython",
    "version": 3
   },
   "file_extension": ".py",
   "mimetype": "text/x-python",
   "name": "python",
   "nbconvert_exporter": "python",
   "pygments_lexer": "ipython3",
   "version": "3.9.5"
  }
 },
 "nbformat": 4,
 "nbformat_minor": 5
}
