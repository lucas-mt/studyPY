{
 "cells": [
  {
   "cell_type": "markdown",
   "id": "7df28fac-05f2-4319-9da9-45d6f57ecc29",
   "metadata": {},
   "source": [
    "## CSV\n",
    "---"
   ]
  },
  {
   "cell_type": "markdown",
   "id": "5709e98c-b7b2-4810-8826-667d29065b70",
   "metadata": {},
   "source": [
    "é um arquivo que separa dados apenas com uma vírgula. a primeira linha serve para nomear as colunas, se desejar."
   ]
  },
  {
   "cell_type": "markdown",
   "id": "5f1be900-df8c-4379-af9a-775d68f4a9c3",
   "metadata": {},
   "source": [
    "```\n",
    "nomeColuna1, nomeColuna2, nomeColuna3...\n",
    "linha1dado1, linha1dado2, linha1dado3...\n",
    "linha2dado1, linha2dado2, linha2dado3...\n",
    "linha3dado1, linha3dado2, linha3dado3...\n",
    "...\n",
    "```"
   ]
  },
  {
   "cell_type": "markdown",
   "id": "ffbccfd7-3976-40d3-ad97-84e2b2333d8d",
   "metadata": {},
   "source": [
    "o último dado da linha não precisa de vírgula. e, para separar uma linha da outra, basta quebrar a linha."
   ]
  },
  {
   "cell_type": "markdown",
   "id": "b4a8a6f1-3733-4e96-9283-65851172efc6",
   "metadata": {},
   "source": [
    "pode ser manipulada usando a biblioteca nativa do python, também chamada de csv."
   ]
  },
  {
   "cell_type": "code",
   "execution_count": null,
   "id": "fd7eb48e-e3c5-45b2-8a9a-74189d3c70e8",
   "metadata": {},
   "outputs": [],
   "source": []
  }
 ],
 "metadata": {
  "kernelspec": {
   "display_name": "Python 3 (ipykernel)",
   "language": "python",
   "name": "python3"
  },
  "language_info": {
   "codemirror_mode": {
    "name": "ipython",
    "version": 3
   },
   "file_extension": ".py",
   "mimetype": "text/x-python",
   "name": "python",
   "nbconvert_exporter": "python",
   "pygments_lexer": "ipython3",
   "version": "3.10.6"
  }
 },
 "nbformat": 4,
 "nbformat_minor": 5
}
