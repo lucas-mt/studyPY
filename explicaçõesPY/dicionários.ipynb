{
 "cells": [
  {
   "cell_type": "markdown",
   "id": "190363bb-c225-49be-803c-78017ddca1f9",
   "metadata": {},
   "source": [
    "## ***Dicionários***\n",
    "---"
   ]
  },
  {
   "cell_type": "markdown",
   "id": "9881671c-e1cd-490f-8185-48d2706f0566",
   "metadata": {},
   "source": [
    "dicionários podem ter suas chaves como sendo tuplas também, por exemplo"
   ]
  },
  {
   "cell_type": "code",
   "execution_count": 3,
   "id": "70066fd3-dbd2-4a8d-9176-a883a3e87e54",
   "metadata": {},
   "outputs": [
    {
     "name": "stdout",
     "output_type": "stream",
     "text": [
      "dict_values([123456789])\n",
      "dict_keys([('silva', 'joão')])\n"
     ]
    }
   ],
   "source": [
    "dic = {}\n",
    "last, name = 'silva', 'joão'\n",
    "\n",
    "dic[last, name] = 123456789\n",
    "print(dic.values())\n",
    "print(dic.keys())"
   ]
  },
  {
   "cell_type": "markdown",
   "id": "6bd12ce1-abed-4098-9070-d525392f8e27",
   "metadata": {},
   "source": [
    "#### Deletando itens"
   ]
  },
  {
   "cell_type": "markdown",
   "id": "9cdc4861-cb01-4930-b07c-5108b680c626",
   "metadata": {},
   "source": [
    "usa o comando `del` que deve ser mostrado o nome do dicionário e a chave que deve ser deletada"
   ]
  },
  {
   "cell_type": "code",
   "execution_count": 2,
   "id": "7707bdb2-f1d2-4875-94c1-16f51e29736d",
   "metadata": {},
   "outputs": [
    {
     "name": "stdout",
     "output_type": "stream",
     "text": [
      "{'um': 1, 'dois': 2, 'três': 3, 'quatro': 4}\n"
     ]
    }
   ],
   "source": [
    "dicio = {'um': 1, 'dois': 2, 'três': 3, 'quatro': 4, 'cinco': 5}\n",
    "del dicio['cinco']\n",
    "print(dicio)"
   ]
  },
  {
   "cell_type": "markdown",
   "id": "83e3cccc-11e7-4948-adba-3505607dd04d",
   "metadata": {},
   "source": [
    "#### Métodos internos"
   ]
  },
  {
   "cell_type": "markdown",
   "id": "a01814a8-d4f5-4398-8125-2bd08aa0f5e0",
   "metadata": {},
   "source": [
    "os índices dos dicionários são chamados de chaves, se desejar saber apenas sobre as chaves, pode ser usado o método `keys()`"
   ]
  },
  {
   "cell_type": "code",
   "execution_count": 3,
   "id": "eb5c2722-0daa-4170-8923-4a375a0b9b6d",
   "metadata": {},
   "outputs": [
    {
     "name": "stdout",
     "output_type": "stream",
     "text": [
      "dict_keys(['um', 'dois', 'três', 'quatro'])\n"
     ]
    }
   ],
   "source": [
    "print(dicio.keys())"
   ]
  },
  {
   "cell_type": "markdown",
   "id": "e039a6ba-f0f7-4ab5-8527-2753ae4188fd",
   "metadata": {},
   "source": [
    "assim como pode ser usado o método `values()` para usar somente os valores atribuídos a cada chave"
   ]
  },
  {
   "cell_type": "code",
   "execution_count": 4,
   "id": "ce6096d0-983c-432c-8bc7-87fa74ea3bea",
   "metadata": {},
   "outputs": [
    {
     "name": "stdout",
     "output_type": "stream",
     "text": [
      "dict_values([1, 2, 3, 4])\n"
     ]
    }
   ],
   "source": [
    "print(dicio.values())"
   ]
  },
  {
   "cell_type": "markdown",
   "id": "013e7b62-8d66-4099-b453-33f051ebe4a1",
   "metadata": {},
   "source": [
    "pode ainda usar o método `items()` para mostrar tudo"
   ]
  },
  {
   "cell_type": "code",
   "execution_count": 5,
   "id": "e11ba63c-bdd4-4f82-83e8-499d39355fc8",
   "metadata": {},
   "outputs": [
    {
     "name": "stdout",
     "output_type": "stream",
     "text": [
      "dict_items([('um', 1), ('dois', 2), ('três', 3), ('quatro', 4)])\n"
     ]
    }
   ],
   "source": [
    "print(dicio.items())"
   ]
  },
  {
   "cell_type": "markdown",
   "id": "fa920f9c-8e15-4840-975e-edc38b0a33cd",
   "metadata": {},
   "source": [
    "dessa forma, para printar os valores com suas chaves pode usar o loop `for` da seguinte forma"
   ]
  },
  {
   "cell_type": "code",
   "execution_count": 7,
   "id": "a76bf100-bb31-4dc1-a147-1d4ca78a7c1f",
   "metadata": {},
   "outputs": [
    {
     "name": "stdout",
     "output_type": "stream",
     "text": [
      "o valor 1 corresponde a escrita 'um'\n",
      "o valor 2 corresponde a escrita 'dois'\n",
      "o valor 3 corresponde a escrita 'três'\n",
      "o valor 4 corresponde a escrita 'quatro'\n"
     ]
    }
   ],
   "source": [
    "for key, value in dicio.items():\n",
    "    print(f'o valor {value} corresponde a escrita \\'{key}\\'')"
   ]
  },
  {
   "cell_type": "code",
   "execution_count": 8,
   "id": "4d7b6ad3-7b98-4189-8afc-b695e2dacef2",
   "metadata": {},
   "outputs": [
    {
     "name": "stdout",
     "output_type": "stream",
     "text": [
      "um: 1\n",
      "dois: 2\n",
      "três: 3\n",
      "quatro: 4\n"
     ]
    }
   ],
   "source": [
    "for key in dicio.keys():\n",
    "    print(f'{key}: {dicio[key]}')"
   ]
  },
  {
   "cell_type": "code",
   "execution_count": 9,
   "id": "adc11bae-4994-430a-99bd-4b3ce3617486",
   "metadata": {},
   "outputs": [
    {
     "name": "stdout",
     "output_type": "stream",
     "text": [
      "1\n",
      "2\n",
      "3\n",
      "4\n"
     ]
    }
   ],
   "source": [
    "for value in dicio.values():\n",
    "    print(f'{value}')"
   ]
  },
  {
   "cell_type": "markdown",
   "id": "ebcdf25b-332d-4649-aaa2-746511e72a1d",
   "metadata": {},
   "source": [
    "observe que todos esses métodos retornam uma tupla como resultado. assim sendo, uma lista de tuplas pode ser usada para criar um dicionário"
   ]
  },
  {
   "cell_type": "code",
   "execution_count": 1,
   "id": "f336ed58-2213-45df-9bbb-08854507b24d",
   "metadata": {},
   "outputs": [
    {
     "name": "stdout",
     "output_type": "stream",
     "text": [
      "{'um': 1, 'dois': 2, 'três': 3, 'quatro': 4, 'cinco': 5}\n"
     ]
    }
   ],
   "source": [
    "list_tuple = [('um', 1), ('dois', 2), ('três', 3), ('quatro', 4), ('cinco', 5)]\n",
    "d = dict(list_tuple)\n",
    "print(d)"
   ]
  },
  {
   "cell_type": "markdown",
   "id": "44f0d355-76b3-4a3d-8935-38c5b4b57078",
   "metadata": {},
   "source": [
    "logo, podemos concluir que usando a função `zip()` também é possível formar um dicionário"
   ]
  },
  {
   "cell_type": "code",
   "execution_count": 2,
   "id": "2d355acd-3c11-4970-91f2-17256b40a105",
   "metadata": {},
   "outputs": [
    {
     "name": "stdout",
     "output_type": "stream",
     "text": [
      "{'um': 1, 'dois': 2, 'três': 3, 'quatro': 4, 'cinco': 5}\n"
     ]
    }
   ],
   "source": [
    "d_zip = dict(zip(['um', 'dois', 'três', 'quatro', 'cinco'], [1, 2, 3, 4, 5]))\n",
    "print(d_zip)"
   ]
  },
  {
   "cell_type": "markdown",
   "id": "46bd062a-3e6b-47b4-b9f5-ef7e09c8dc93",
   "metadata": {},
   "source": [
    "#### Organizando um dicionário"
   ]
  },
  {
   "cell_type": "markdown",
   "id": "43bde0e4-becc-4d3c-98ec-9ce59424f6e8",
   "metadata": {},
   "source": [
    "é necessário"
   ]
  },
  {
   "cell_type": "code",
   "execution_count": 10,
   "id": "bac16993-d454-4f9a-863f-e4fc1c6c2bd0",
   "metadata": {},
   "outputs": [],
   "source": [
    "from operator import itemgetter"
   ]
  },
  {
   "cell_type": "markdown",
   "id": "dd19e892-5fa7-4fa2-a021-4abdbaca8995",
   "metadata": {},
   "source": [
    "tendo já um dicionário feito, criamos um outro dicionário suporte (dict_sup) e siga um código semelhante como o a seguir, usando a função `sorted()`"
   ]
  },
  {
   "cell_type": "code",
   "execution_count": 13,
   "id": "f1c39ad6-4d88-4984-95a0-724dc183d3f0",
   "metadata": {},
   "outputs": [
    {
     "name": "stdout",
     "output_type": "stream",
     "text": [
      "[('cidade', 'bairros'), ('país', 'estados'), ('estado', 'municípios')]\n"
     ]
    }
   ],
   "source": [
    "dicio = {'estado': 'municípios', 'país': 'estados', 'cidade':'bairros'}\n",
    "dict_sup = {}\n",
    "dict_sup = sorted(dicio.items(), key=itemgetter(1))\n",
    "print(dict_sup)"
   ]
  },
  {
   "cell_type": "markdown",
   "id": "6b971d02-2aa7-440e-ab44-10ec7431b193",
   "metadata": {},
   "source": [
    "em `key=itemgetter(<valor>)` deve ser passado um valor que mostra como deve ser organizado"
   ]
  },
  {
   "cell_type": "markdown",
   "id": "ee2955ff-5460-4f1e-b7b6-589eab300982",
   "metadata": {},
   "source": [
    "em ordem decrescente deve ser apenas acrescentado `reverse=True`"
   ]
  }
 ],
 "metadata": {
  "kernelspec": {
   "display_name": "Python 3 (ipykernel)",
   "language": "python",
   "name": "python3"
  },
  "language_info": {
   "codemirror_mode": {
    "name": "ipython",
    "version": 3
   },
   "file_extension": ".py",
   "mimetype": "text/x-python",
   "name": "python",
   "nbconvert_exporter": "python",
   "pygments_lexer": "ipython3",
   "version": "3.9.5"
  }
 },
 "nbformat": 4,
 "nbformat_minor": 5
}
