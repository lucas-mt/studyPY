{
 "cells": [
  {
   "cell_type": "markdown",
   "id": "d7ffa8f3-9cef-4cdc-9d0c-0bb01fb52dcf",
   "metadata": {},
   "source": [
    "## *Módulo SYS*\n",
    "---"
   ]
  },
  {
   "cell_type": "markdown",
   "id": "8edf13b5-738b-495f-a300-768197a30af1",
   "metadata": {},
   "source": [
    "importando o `sys` pode ser usado a linha de comando do próprio computador sem precisar de um idle do python para usar um programa"
   ]
  },
  {
   "cell_type": "code",
   "execution_count": 2,
   "id": "c7e724a6-28d2-4372-8a36-948704a05ca8",
   "metadata": {},
   "outputs": [],
   "source": [
    "import sys\n",
    "argumentos = sys.argv"
   ]
  },
  {
   "cell_type": "markdown",
   "id": "00fee871-1dbe-4512-8b92-b561619b0fb1",
   "metadata": {},
   "source": [
    "o `sys.argv` armazena em uma lista os argumentos passados no prompt de comandos que serão atribuídos à variável, nesse caso, `argumentos`."
   ]
  },
  {
   "cell_type": "markdown",
   "id": "86a0a315-0cf2-46b9-a5ce-c9cd4faf9f60",
   "metadata": {},
   "source": [
    "se a variável `argumentos` for printada, será mostrado o caminho do arquivo atual"
   ]
  },
  {
   "cell_type": "code",
   "execution_count": 4,
   "id": "02e02036-cd84-4baa-9dca-9c53d0b4c111",
   "metadata": {},
   "outputs": [],
   "source": [
    "if argumentos[1] == 'soma':\n",
    "    print(argumenstos[2] + argumentos[3])\n",
    "elif argumentos[1] == 'subtração':\n",
    "    print(argumenstos[2] - argumentos[3])\n",
    "elif argumentos[1] == 'divisão':\n",
    "    print(argumenstos[2] / argumentos[3])\n",
    "elif argumentos[1] == 'multiplicação':\n",
    "    print(argumenstos[2] * argumentos[3])"
   ]
  },
  {
   "cell_type": "markdown",
   "id": "60b5c484-5dc9-4c00-84b3-f195f7f98246",
   "metadata": {},
   "source": [
    "observe que a variável `argumentos` está sendo manipulada como uma lista, porque é isso que o `sys.argv` faz."
   ]
  },
  {
   "cell_type": "markdown",
   "id": "d79952ac-e9dc-4cd2-894d-fe145d7b7fe2",
   "metadata": {},
   "source": [
    "nesse caso, a posição 0 da lista `argumentos` sempre será o nome do arquivo em que está escrita o código que será usado a partir da posição 1, que, nesse caso, é uma operação matemática e nas posições 2 e 3, são números."
   ]
  }
 ],
 "metadata": {
  "kernelspec": {
   "display_name": "Python 3 (ipykernel)",
   "language": "python",
   "name": "python3"
  },
  "language_info": {
   "codemirror_mode": {
    "name": "ipython",
    "version": 3
   },
   "file_extension": ".py",
   "mimetype": "text/x-python",
   "name": "python",
   "nbconvert_exporter": "python",
   "pygments_lexer": "ipython3",
   "version": "3.9.5"
  }
 },
 "nbformat": 4,
 "nbformat_minor": 5
}
