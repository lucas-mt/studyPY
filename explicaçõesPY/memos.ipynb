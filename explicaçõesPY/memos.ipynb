{
 "cells": [
  {
   "cell_type": "markdown",
   "id": "8a903877-9a56-4749-874a-69ae3265d06b",
   "metadata": {},
   "source": [
    "## ***Memos***"
   ]
  },
  {
   "cell_type": "markdown",
   "id": "1c03c7f2-b7f5-4000-acb9-44582b5febc5",
   "metadata": {},
   "source": [
    "Memo é um valor que, por alguma funcionalidade anterior, já foi calculado e para não ser calculado novamente em códigos futuros, esse valor é armazenado em um dicionário.\n",
    "\n",
    "O melhor exemplo é a função de Fibonacci:\n",
    "1. Quando feita por recursividade e seja n=4:\n",
    "n->4, n->3, n->2 e n->1, n->1 e n->0;\n",
    "n->4, n->2, n->1 e n->0\n",
    "2. Quando feito usando memo e seja n=4, já estará armazenado os valores iniciais em um dicionário, nesse exemplo chamado ```known```"
   ]
  },
  {
   "cell_type": "code",
   "execution_count": 2,
   "id": "3ad197a5-3564-428a-9668-b3ce2cab5557",
   "metadata": {},
   "outputs": [],
   "source": [
    "known = {0:0, 1:1}"
   ]
  },
  {
   "cell_type": "markdown",
   "id": "03dcb2ff-a8e4-4d5b-a90d-5d58eae99271",
   "metadata": {},
   "source": [
    "e, à medida que for calculando novos valores, eles vão sendo adicionados ao dicionário. Então, se for necessário calculá-los novamente, eles já estarão armazenados"
   ]
  },
  {
   "cell_type": "code",
   "execution_count": 4,
   "id": "65a3de58-a20a-4f4e-979a-8cfa0e9f8fa1",
   "metadata": {},
   "outputs": [],
   "source": [
    "def fibonacci(n):\n",
    "    if n in known:\n",
    "        return known[n]\n",
    "    res = fibonacci(n-1)+fibonacci(n-2)\n",
    "    known[n] = res\n",
    "    return res"
   ]
  },
  {
   "cell_type": "code",
   "execution_count": 9,
   "id": "3dc80a98-b542-4865-b3ce-08eedd51a4ba",
   "metadata": {},
   "outputs": [
    {
     "name": "stdout",
     "output_type": "stream",
     "text": [
      "5\n"
     ]
    }
   ],
   "source": [
    "print(fibonacci(5))"
   ]
  },
  {
   "cell_type": "code",
   "execution_count": 6,
   "id": "f1f706c2-648e-44e9-ac02-3ac7e4d74f9b",
   "metadata": {},
   "outputs": [
    {
     "name": "stdout",
     "output_type": "stream",
     "text": [
      "55\n"
     ]
    }
   ],
   "source": [
    "print(fibonacci(10))"
   ]
  },
  {
   "cell_type": "code",
   "execution_count": 8,
   "id": "a3d593de-672a-4d2d-b551-baf94f7dc207",
   "metadata": {},
   "outputs": [
    {
     "name": "stdout",
     "output_type": "stream",
     "text": [
      "354224848179261915075\n"
     ]
    }
   ],
   "source": [
    "print(fibonacci(100))"
   ]
  },
  {
   "cell_type": "markdown",
   "id": "9dbd9f71-e4b8-482b-8302-1b1945739052",
   "metadata": {},
   "source": [
    "isso acelera o cálculo. Se fizer uma comparação com o método mais antigo de calcular fibonacci, verá que é muito mais lento à medida que os valore de n aumenta."
   ]
  }
 ],
 "metadata": {
  "kernelspec": {
   "display_name": "Python 3 (ipykernel)",
   "language": "python",
   "name": "python3"
  },
  "language_info": {
   "codemirror_mode": {
    "name": "ipython",
    "version": 3
   },
   "file_extension": ".py",
   "mimetype": "text/x-python",
   "name": "python",
   "nbconvert_exporter": "python",
   "pygments_lexer": "ipython3",
   "version": "3.9.5"
  }
 },
 "nbformat": 4,
 "nbformat_minor": 5
}
