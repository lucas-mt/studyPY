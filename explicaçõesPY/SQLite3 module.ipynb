{
 "cells": [
  {
   "cell_type": "markdown",
   "id": "7e4fc806-ceb4-4863-89c7-fa3bc099abfc",
   "metadata": {},
   "source": [
    "## Banco de Dados com SQLite\n",
    "---"
   ]
  },
  {
   "cell_type": "markdown",
   "id": "6e764ea2-dff7-4202-9e7e-dbc6fa4df962",
   "metadata": {},
   "source": [
    "aqui, é importante saber que:"
   ]
  },
  {
   "cell_type": "markdown",
   "id": "932b50a7-21e3-4a06-a47b-ab77e37f1611",
   "metadata": {},
   "source": [
    "campo: refere-se a menor unidade de informação como um nome, um número, etc.\n",
    "***\n",
    "registro: refere-se à informação total que se tem ao preencher diversos campos.\n",
    "***\n",
    "tabela: refere-se a unidade em que se divide os tipos de registro"
   ]
  },
  {
   "cell_type": "markdown",
   "id": "940f5c1f-e6be-4035-ba52-386671793b08",
   "metadata": {},
   "source": [
    "#### criando um arquivo de banco de dado com SQLite\n",
    "---"
   ]
  },
  {
   "cell_type": "code",
   "execution_count": 1,
   "id": "83c4b748-a543-44f1-b6ca-467e2b964db7",
   "metadata": {},
   "outputs": [],
   "source": [
    "import sqlite3"
   ]
  },
  {
   "cell_type": "markdown",
   "id": "f28f8ee3-ab7a-4a15-aa43-3ca480747f89",
   "metadata": {},
   "source": [
    "após importá-lo, é necessáro criar o banco de dado, como no exemplo:\n",
    "```\n",
    "bd = sqlite3.connect('agenda.db')\n",
    "```"
   ]
  },
  {
   "cell_type": "markdown",
   "id": "07e86ecb-c6e3-4127-a3ba-57ed46d9aa29",
   "metadata": {},
   "source": [
    "no exemplo, o arquivo do banco de dados chama-se `agenda` e a extensão db refere-se a database mas é mais uma convensão do que de fato uma necessidade de pô-lo no nome do arquivo, só é recomendado que ele seja diferente de uma extensão real como pdf, py, txt, etc."
   ]
  },
  {
   "cell_type": "markdown",
   "id": "c76a843d-be3f-4f80-80e0-37820b65c62c",
   "metadata": {},
   "source": [
    "após criar o banco de dados, é necessário criar um cursor.\n",
    "```\n",
    "cursor = bd.cursor()\n",
    "```\n",
    "Cursores são objetos utilizados para enviar comandos e receber resultados dos bancos de dados, sendo possível manipulá-los através dos cursores."
   ]
  },
  {
   "cell_type": "markdown",
   "id": "c3156bd5-a446-4ea4-9988-3cb1576d5f59",
   "metadata": {},
   "source": [
    "a primeira manipulação pode ser a criação duma tabela neste banco que vai armazenar nome e telefone de alguém ou alguma empresa, por exemplo. para isto, é necessário o uso do cursor:\n",
    "```\n",
    "cursor.execute('create table agenda(nome text, telefone text)')\n",
    "```\n",
    "o comando que cria a tabela é o `create table`, sendo necessário passar o nome da tabela, neste caso: `agenda`. em seguida, é necessário passar os campos desta tabela, neste caso: nome e telefone seguidos de seus tipos (text, que, no python, equivale a string)."
   ]
  },
  {
   "cell_type": "markdown",
   "id": "edeb565f-2d07-4ede-b21e-b528d1122b7c",
   "metadata": {},
   "source": [
    "com a tabela criada, para inserir informações nos campos da tabela é necessário:\n",
    "```\n",
    "cursor.execute('insert into agenda(nome, telefone) values(?, ?)', ('Lucas', '(84) 9.8747-4615'))\n",
    "```\n",
    "assim, o comando `insert` precisa do nome da tabela e de seus campos passados entre parêntesis, neste caso: `agenda(nome, telefone)`. o `value(?, ?)` é o campo que será preenchido com a tupla que vem logo em seguida, substituindo `?` pelas informações respectivas."
   ]
  },
  {
   "cell_type": "markdown",
   "id": "1c6a4fcd-ba96-42e7-bb2f-f406bd2e7eb7",
   "metadata": {},
   "source": [
    "para fazer vários registros ao mesmo tempo é necessário mudar o `execute` por `executemany` sendo todas as informações passadas por tuplas dentro de uma tupla ou lista principal:\n",
    "```\n",
    "cursor.executemany('insert into agenda(nome, telefone) values(?, ?)', [('Lucas', '(84) 9.8747-4615'), ('Pai', '(84) 9.8884-4785')])\n",
    "```"
   ]
  },
  {
   "cell_type": "markdown",
   "id": "23768ee3-7823-4597-a718-849f9af10b61",
   "metadata": {},
   "source": [
    "para que as mudanças sejam salvas, é necessário:\n",
    "```\n",
    "bd.commit()\n",
    "```\n",
    "e, em seguida, se nada mais for ser feito neste banco, é preciso fechar tanto o cursor quando o banco de dados:\n",
    "```\n",
    "cursor.close()\n",
    "bd.close()\n",
    "```"
   ]
  },
  {
   "cell_type": "markdown",
   "id": "1c795f7c-84df-4279-9b6b-116e3dd06675",
   "metadata": {},
   "source": [
    "pode criar um banco de dados usando `with`, porém, é necessário importar a biblioteca `contextlib` e usar o método `closing()` para que o banco e o curso sejam encerrados automaticamente ao fim do programa:\n",
    "```\n",
    "from contextlib import closing\n",
    "import sqlite3\n",
    "\n",
    "with sqlite3.connect('agenda.db') as conexão:\n",
    "    with closing(conexão.cursor()) as cursor()\n",
    "        cursor.execute('create table agenda(nome text, telefone text)')\n",
    "        cursor.execute('insert into <tabela>(nome, telefone) values(?, ?)', ('Lucas', '(84) 9.8747-4615'))\n",
    "        cursor.commit()\n",
    "```\n",
    "da mesma forma, se for mais de um registro gravado, pode mudar normalmete `execute()` para `executemany()`."
   ]
  },
  {
   "cell_type": "markdown",
   "id": "8efd8036-25f2-41e6-b79d-d1e4d377d4e3",
   "metadata": {},
   "source": [
    "#### lendo um arquivo de banco de dados com SQLite\n",
    "---"
   ]
  },
  {
   "cell_type": "markdown",
   "id": "efd12a1c-188d-4733-8458-ffbd487a88c9",
   "metadata": {},
   "source": [
    "para isto, além de ser necessário importar novamente a biblioteca `sqlite3`, deve ser criado um banco de dados e um cursor da mesma forma:\n",
    "```\n",
    "bd = saqlite.connect('agenda.db')\n",
    "cursor = bd.cursor()\n",
    "```\n",
    "no caso, o arquivo passado, no exemplo: `agenda`, tem que ser o que se deseja ler."
   ]
  },
  {
   "cell_type": "markdown",
   "id": "a3d98844-5dc9-4691-ae06-b8375b94a45c",
   "metadata": {},
   "source": [
    "em seguida, deve-se fazer:\n",
    "```\n",
    "cursor.execute('select * from agenda')\n",
    "```\n",
    "que basicamente está mandando selecionar __tudo__ da tabela `agenda`."
   ]
  },
  {
   "cell_type": "markdown",
   "id": "73fd5376-a758-4931-b204-9c578ea9de7c",
   "metadata": {},
   "source": [
    " em seguida, as informações da tabela serão transformadas em uma tupla:\n",
    "```\n",
    "info = cursor.fetchone()\n",
    "```\n",
    "sendo a variável `info` uma tupla contendo em cada um de seus índices as informações presente em cada campo:\n",
    "```\n",
    "print(info[0], info[1])\n",
    ">>> Lucas (84) 9.8747-4615\n",
    "```"
   ]
  },
  {
   "cell_type": "markdown",
   "id": "dfd4d699-8c4a-4f33-98d1-4010f961dd5e",
   "metadata": {},
   "source": [
    "se houver mais de um registro nesta tabela, para lê-la é necssário:\n",
    "```\n",
    "info = cursor.fetchall()\n",
    "```\n",
    "usando o `fetchall()` ao invés do `fetchone()`"
   ]
  },
  {
   "cell_type": "markdown",
   "id": "8f5f7228-09e9-4839-bb5c-8a8bc8c012c5",
   "metadata": {},
   "source": [
    "sendo que a variável `info` agora é uma lista com várias tuplas dentro. então, para lê-la:\n",
    "```\n",
    "print(info[0][0], info[0][1])\n",
    ">>> Lucas (84) 9. 8747-4615\n",
    "\n",
    "print(info[1][0], info[1][1])\n",
    ">>> pai (84) 9.8884-4785\n",
    "```\n",
    "ou pode ser usado um laço"
   ]
  },
  {
   "cell_type": "markdown",
   "id": "ae4cda5e-38dc-474d-97b7-f5d83ddba357",
   "metadata": {},
   "source": [
    "se não for mais usar este banco de dados, é necessário fechá-lo junto do cursor:\n",
    "```\n",
    "cursor.close()\n",
    "bd.close()\n",
    "```"
   ]
  },
  {
   "cell_type": "markdown",
   "id": "e56c9ba5-d752-45b0-b6f4-3314bf6a1a0b",
   "metadata": {},
   "source": [
    "outra forma de ler um banco de dados usando o `with`, mas para isso é necessário importar a biblioteca `contextlib` e usar seu método `closing` pois ele encerra automaticamente o banco e o cursor ao fim do with:\n",
    "```\n",
    "from contextlib import closing\n",
    "import sqlite3\n",
    "\n",
    "with sqlite3.connect('agenda.db') as conexão:\n",
    "    with closing(conexão.cursor()) as cursor():\n",
    "        cursor.execute('select * from agenda')\n",
    "        lendo = cursor.fetchone()\n",
    "        print(lendo[0], lendo[1])\n",
    "```\n",
    "pode mudar para `fetchall()` também, usando um laço para lê-lo, se for o caso."
   ]
  },
  {
   "cell_type": "markdown",
   "id": "ce80f871-33b8-442f-9319-550d9a23333b",
   "metadata": {},
   "source": [
    "#### lendo um arquivo de banco de dado como um dicionário\n",
    "---"
   ]
  },
  {
   "cell_type": "markdown",
   "id": "0f174c4b-deaf-4a1a-b104-ffa9b4e4acc4",
   "metadata": {},
   "source": [
    "observe:\n",
    "```\n",
    "with sqlite3.connect('agenda.db') as conexão:\n",
    "    conexão.row_factory = sqlite3.Row\n",
    "    with closing(conexão.cursor()) as cursor:\n",
    "        for i in cursor.execute('select * from agenda'):\n",
    "            print(f'{i[\"nome\"]} {i[\"telefone\"]}')\n",
    ">>> Lucas (84) 9.1234-6789\n",
    "```\n",
    "observe que o comando `conexão.row_factory = sqlite3.Row` é o responsável por transformar as informações de lista para dicionário."
   ]
  },
  {
   "cell_type": "markdown",
   "id": "e399f9d6-dc84-488b-9060-be0899be63cd",
   "metadata": {},
   "source": [
    "#### consultando e fazendo buscas nos registros\n",
    "---"
   ]
  },
  {
   "cell_type": "markdown",
   "id": "0950fde4-6258-47ae-a2bd-8d475bce01fc",
   "metadata": {},
   "source": [
    "já tendo importado as bibliotecas `sqlite3` e `contextlib`, faremos:\n",
    "```\n",
    "nm = input('nome> ')\n",
    "\n",
    "with sqlite3.connect('agenda.db') as conexão:\n",
    "    with closing(conexão.cursor()) as cursor():\n",
    "        cursor.execute(f'select * from agenda where nome =\"{nm}\"')\n",
    "        rst = cursor.fetchall()\n",
    "        print(rst)\n",
    "```\n",
    "no comando `select * from agenda where nome =\"Lucas\"` quer dizer que somente os campos `nome` preenchidos com o nome passado pelo usuário através da variável `nm` serão selecionados e a variável `rst` será, da mesma forma, uma lista com várias tuplas contendo os registros encontrados."
   ]
  },
  {
   "cell_type": "markdown",
   "id": "9d70248d-71fc-4f05-953d-7cdd9ac20847",
   "metadata": {},
   "source": [
    "uma vulnerabilidade deste método conhecida como `SQLInjection` é que, se na variável `nm` for colocado: `X\" or \"1\"=\"1`, a lista inteira vai aparecer."
   ]
  },
  {
   "cell_type": "markdown",
   "id": "e2e6e020-0a65-4fc0-aa49-fca96289589a",
   "metadata": {},
   "source": [
    "#### atualizando registros\n",
    "---"
   ]
  },
  {
   "cell_type": "markdown",
   "id": "3b975cba-dfd3-4955-bb7d-9106d7c1aeee",
   "metadata": {},
   "source": [
    "deve-se usar o comando como no exmplo: `cursor.execute('update agenda set telefone = \"(84) 9.1234-6789\") where nome = \"Lucas\"')`."
   ]
  },
  {
   "cell_type": "markdown",
   "id": "9b999c07-89ef-46f1-bb2e-21d9d86360f3",
   "metadata": {},
   "source": [
    "se todos os registros devem passar a conter a mesma informção, faça: `cursor.execute('uptade agenda set telefone = \"(84) 9.0000-0000\"')` sem selecionar um registro em específico."
   ]
  },
  {
   "cell_type": "markdown",
   "id": "5e0ae65e-c592-4ebf-a4f4-f3f65b2f17ab",
   "metadata": {},
   "source": [
    "se quiser atualizar vários registros, se não todos, mais cada um com diferentes informações, faça como o exemplo:\n",
    "```\n",
    "neo_dados = [(\"121\", \"fulano\"), (\"123\", \"sicrano\")]\n",
    "cursor.executemany('update agenda set telefone = ? where nome = ?', neo_dados)\n",
    "```"
   ]
  },
  {
   "cell_type": "markdown",
   "id": "e00031b2-36da-4bbd-87d8-5b7ccfee191c",
   "metadata": {},
   "source": [
    "fazendo `cursor.rowcount` mostra a quantidade de modificações que foram feitas no banco de dados."
   ]
  },
  {
   "cell_type": "markdown",
   "id": "0774ec92-bec0-4822-a330-b685be22ab69",
   "metadata": {},
   "source": [
    "fazendo `conexão.rollback()` reverte as modificações, funcionando como o inverso do `conexão.commit()`"
   ]
  },
  {
   "cell_type": "markdown",
   "id": "2b2bbfc8-7b55-4044-a039-e12990b2d931",
   "metadata": {},
   "source": [
    "#### alterando a tabela\n",
    "---"
   ]
  },
  {
   "cell_type": "markdown",
   "id": "b1715fa5-aca2-4961-a8bc-ad80743aba9e",
   "metadata": {},
   "source": [
    "usando o comando `cursor.execute(\"alter table agenda add idade interger\")` um novo campo, neste caso `idade`, será adicionada, por exemplo. `integer` é o tipo do campo `idade`."
   ]
  },
  {
   "cell_type": "markdown",
   "id": "02368d1e-89d7-4453-998a-69e303e0df2c",
   "metadata": {},
   "source": [
    "supondo que foi criado também um campo `cidade` junto do novo campo `idade`, para atualizar a tabela, deve-se fzaer:\n",
    "```\n",
    "dados = [22, \"mossoró\", \"Lucas\"]\n",
    "cursor.executemany('update agenda set idade = ?, cidade = ? where nome = ?', dados)\n",
    "```\n",
    "observe que deve ser usado o `executemany()` e, usando uma vírgula entre os campos, mais de um campo pode ser atualizado de uma só vez."
   ]
  },
  {
   "cell_type": "markdown",
   "id": "e3892951-1420-431a-94b9-8dcbaec7324c",
   "metadata": {},
   "source": [
    "#### apagando registros\n",
    "---"
   ]
  },
  {
   "cell_type": "markdown",
   "id": "eb8d42c4-0fb2-4234-8080-807fed0f0915",
   "metadata": {},
   "source": [
    "use o `cursor.execute('delete from agenda where nome = \"Lucas\"')`, por exemplo, para apagar o registro de `Lucas`."
   ]
  },
  {
   "cell_type": "markdown",
   "id": "613f0653-2396-413b-b33e-2226e89480c3",
   "metadata": {},
   "source": [
    "se desejar apagar todas as informações que o banco possui: `cursor.execute('delete from agenda')`."
   ]
  },
  {
   "cell_type": "markdown",
   "id": "32045a32-ea9d-4012-b4f8-386a6a2bf804",
   "metadata": {},
   "source": [
    "#### chave de identificação para os registros\n",
    "---"
   ]
  },
  {
   "cell_type": "markdown",
   "id": "845dbca5-9995-4506-8339-954fd7a059a8",
   "metadata": {},
   "source": [
    "usando o comando: `cursor.execute('id integer primary key autoincrement, nome text, telefone text')`, será criada uma chave aleatória de identificação para cada registro feito, que pode ser acessado pelo índice zero ou 'id', caso esteja usando como dicionário."
   ]
  },
  {
   "cell_type": "markdown",
   "id": "f64a76dc-9b49-4101-a508-77bb9b83013f",
   "metadata": {},
   "source": [
    "é bastante útil, pois evita erros com dados repetitivos."
   ]
  },
  {
   "cell_type": "markdown",
   "id": "ec8d5923-94e4-4152-936a-b913b9b9d7bd",
   "metadata": {},
   "source": [
    "#### ordenando os dados\n",
    "---"
   ]
  },
  {
   "cell_type": "markdown",
   "id": "be2200cf-1ad5-43be-8e35-4bccee090e52",
   "metadata": {},
   "source": [
    "para ordenar em ordem alfabética: `cursor.execute('select * from agenda ordem by nome')`, ou em ordem contrária à alfabética: `cursor.execute('select * from agenda order by name desc')`"
   ]
  },
  {
   "cell_type": "markdown",
   "id": "7718c4f8-15e7-45af-8bb1-e7c35ed61b3b",
   "metadata": {},
   "source": [
    "para ordem em ordem numérica crescente: `cursor.execute('select * from agenda ordem by telefone')`, ou, em ordem decrescente: `cursor.execute('select * from agenda ordem by telefone desc')`, se `telefone` um número."
   ]
  },
  {
   "cell_type": "markdown",
   "id": "59486fb2-3ba0-41c9-8822-d9a714d766a1",
   "metadata": {},
   "source": [
    "também, é possível ordenar pela chave primária: `cursor.execute('select * from agenda ordem by id')`, por exemplo."
   ]
  },
  {
   "cell_type": "markdown",
   "id": "69a17e04-ac37-4796-9c0a-b2a4fb1f16f5",
   "metadata": {},
   "source": [
    "#### agrupando dados\n",
    "---"
   ]
  },
  {
   "cell_type": "markdown",
   "id": "1bb7d303-448f-4826-8b08-7905ed89b1f0",
   "metadata": {},
   "source": [
    "com o comando `select` é possível grupos e extrair informações deste grupos usando funções como `count()`, `min()`, `max()`, `avg()` e `sum()`, por exmplo."
   ]
  }
 ],
 "metadata": {
  "kernelspec": {
   "display_name": "Python 3 (ipykernel)",
   "language": "python",
   "name": "python3"
  },
  "language_info": {
   "codemirror_mode": {
    "name": "ipython",
    "version": 3
   },
   "file_extension": ".py",
   "mimetype": "text/x-python",
   "name": "python",
   "nbconvert_exporter": "python",
   "pygments_lexer": "ipython3",
   "version": "3.9.5"
  }
 },
 "nbformat": 4,
 "nbformat_minor": 5
}
