{
 "cells": [
  {
   "cell_type": "markdown",
   "id": "cff90309-0ef7-4c4b-9017-0ddb90881389",
   "metadata": {},
   "source": [
    "## *f-string*\n",
    "---"
   ]
  },
  {
   "cell_type": "markdown",
   "id": "ab6678f8-633a-48d6-9976-c3e5dc56e500",
   "metadata": {},
   "source": [
    "serve para printar informações na tela:"
   ]
  },
  {
   "cell_type": "code",
   "execution_count": 1,
   "id": "260b1b4e-6b3b-4ee1-a8c7-c0d7ab682af8",
   "metadata": {},
   "outputs": [
    {
     "name": "stdout",
     "output_type": "stream",
     "text": [
      "abc\n"
     ]
    }
   ],
   "source": [
    "a = \"abc\"\n",
    "print(f'{a}')"
   ]
  },
  {
   "cell_type": "markdown",
   "id": "c315383b-0511-4c5d-aa1b-e72bc71ddfda",
   "metadata": {},
   "source": [
    "deve ser usar `{<var>}`, onde `<var>` é a variável que deseja mostrar."
   ]
  },
  {
   "cell_type": "markdown",
   "id": "2c4ef8b4-49f2-4745-af0d-78aafba472b7",
   "metadata": {},
   "source": [
    "se colocar `{<var>=}` mostra não só o valor atribuído à `<var>` mas, também, o nome dela:"
   ]
  },
  {
   "cell_type": "code",
   "execution_count": 3,
   "id": "ab7e03af-7568-443e-b3b2-25d6833c71cb",
   "metadata": {},
   "outputs": [
    {
     "name": "stdout",
     "output_type": "stream",
     "text": [
      "a='abc'\n"
     ]
    }
   ],
   "source": [
    "print(f'{a=}')"
   ]
  },
  {
   "cell_type": "markdown",
   "id": "bf0797ec-9b7f-4a7e-8291-4ddfb7e7abf7",
   "metadata": {},
   "source": [
    "inclusive todas as operações suportadas pelas variáveis de python podem ser visualizadas através desta forma:"
   ]
  },
  {
   "cell_type": "code",
   "execution_count": 6,
   "id": "5f94bd5c-1d81-4f8b-afa2-acf0e3a5297d",
   "metadata": {},
   "outputs": [
    {
     "name": "stdout",
     "output_type": "stream",
     "text": [
      "a.isalnum()=True\n"
     ]
    }
   ],
   "source": [
    "print(f'{a.isalnum()=}')"
   ]
  },
  {
   "cell_type": "code",
   "execution_count": 9,
   "id": "151d3d76-ea33-40d2-9d9e-afbfaaef8be9",
   "metadata": {},
   "outputs": [
    {
     "name": "stdout",
     "output_type": "stream",
     "text": [
      "b/2=160.5\n"
     ]
    }
   ],
   "source": [
    "b = 321\n",
    "print(f'{b/2=}')"
   ]
  },
  {
   "cell_type": "code",
   "execution_count": 15,
   "id": "5850260c-0bd4-464d-82fc-ef66c6609190",
   "metadata": {},
   "outputs": [
    {
     "name": "stdout",
     "output_type": "stream",
     "text": [
      "abs(c)=1\n"
     ]
    }
   ],
   "source": [
    "c = -1\n",
    "print(f'{abs(c)=}')"
   ]
  },
  {
   "cell_type": "markdown",
   "id": "6b17a14f-f995-48d3-a623-78df0c76fd02",
   "metadata": {},
   "source": [
    "assim, sucessivamente."
   ]
  },
  {
   "cell_type": "markdown",
   "id": "f6ee013b-011e-4917-a249-dbd20a5c4470",
   "metadata": {},
   "source": [
    "o operador `!a` serve para visualizar uma variável sem usar ASCII:"
   ]
  },
  {
   "cell_type": "code",
   "execution_count": 17,
   "id": "526a5b43-4b01-4e9b-8799-502402fdc7ef",
   "metadata": {},
   "outputs": [
    {
     "name": "stdout",
     "output_type": "stream",
     "text": [
      "'reposa \\U0001f98a'\n"
     ]
    }
   ],
   "source": [
    "emo = \"reposa 🦊\"\n",
    "print(f'{emo!a}')"
   ]
  },
  {
   "cell_type": "markdown",
   "id": "8a767294-e6e9-4544-aeda-e5151b0321ed",
   "metadata": {},
   "source": [
    "o operador `!r` e `!s` servem para presentar para o usuário a variável na forma desejada, com a diferença que a primeira trata a informação como uma string de fato; já a segunda trata-a antes de mostrá-la:"
   ]
  },
  {
   "cell_type": "code",
   "execution_count": 18,
   "id": "98396663-0fe5-4412-aad7-40e9ab826d58",
   "metadata": {},
   "outputs": [
    {
     "name": "stdout",
     "output_type": "stream",
     "text": [
      "'reposa 🦊'\n",
      "reposa 🦊\n"
     ]
    }
   ],
   "source": [
    "print(f'{emo!r}')\n",
    "print(f'{emo!s}')"
   ]
  },
  {
   "cell_type": "markdown",
   "id": "f89fbac2-a523-4ca3-bd57-5a6cb38d1f34",
   "metadata": {},
   "source": [
    "inclusive, usar `!r` é a mesma coisa de usar `repr()`"
   ]
  },
  {
   "cell_type": "code",
   "execution_count": 19,
   "id": "8aff5778-8bbc-4a93-9ab6-72ad7e74486f",
   "metadata": {},
   "outputs": [
    {
     "name": "stdout",
     "output_type": "stream",
     "text": [
      "'reposa 🦊'\n"
     ]
    }
   ],
   "source": [
    "print(f'{repr(emo)}')"
   ]
  },
  {
   "cell_type": "markdown",
   "id": "af2b8546-8d42-45a1-89e4-eafb30c9af02",
   "metadata": {},
   "source": [
    "quanto a usar `!s` é a mesma coisa de não usar nada, já que esta é a forma padrão de python:"
   ]
  },
  {
   "cell_type": "code",
   "execution_count": 20,
   "id": "9170b184-30dd-4f8f-ab80-b165ea8ef2cf",
   "metadata": {},
   "outputs": [
    {
     "name": "stdout",
     "output_type": "stream",
     "text": [
      "reposa 🦊\n"
     ]
    }
   ],
   "source": [
    "print(f'{emo}')"
   ]
  },
  {
   "cell_type": "markdown",
   "id": "0241e75a-3d5c-47e2-8403-c56b3cd8885e",
   "metadata": {},
   "source": []
  }
 ],
 "metadata": {
  "kernelspec": {
   "display_name": "Python 3 (ipykernel)",
   "language": "python",
   "name": "python3"
  },
  "language_info": {
   "codemirror_mode": {
    "name": "ipython",
    "version": 3
   },
   "file_extension": ".py",
   "mimetype": "text/x-python",
   "name": "python",
   "nbconvert_exporter": "python",
   "pygments_lexer": "ipython3",
   "version": "3.10.12"
  }
 },
 "nbformat": 4,
 "nbformat_minor": 5
}
