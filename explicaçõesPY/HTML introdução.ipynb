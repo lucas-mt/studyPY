{
 "cells": [
  {
   "cell_type": "markdown",
   "id": "81e5af7a-8eca-4f94-8e39-3aec6f66af09",
   "metadata": {},
   "source": [
    "## *introdução a HTML*\n",
    "---"
   ]
  },
  {
   "cell_type": "markdown",
   "id": "6f115fd9-548f-46f9-9d42-5e1ac93f9e18",
   "metadata": {},
   "source": [
    "o exemplo mais simples:"
   ]
  },
  {
   "cell_type": "markdown",
   "id": "fe1c2e44-0b3c-46c5-96d8-0da426985c29",
   "metadata": {},
   "source": [
    "```\n",
    "<!DOCTYPE html>\n",
    "<html lang=\"pt-BR\">\n",
    "<head>\n",
    "<meta charset=\"utf-8\">\n",
    "<title> OLÁ, MUNDO! </title>\n",
    "</head>\n",
    "<body>\n",
    "hello, world!\n",
    "</body>\n",
    "</html>\n",
    "```\n",
    "agora basta salvar, em qualquer editor de texto, com a extenção `.html`"
   ]
  },
  {
   "cell_type": "markdown",
   "id": "a8bc4447-d5b9-427a-a60f-3abe7644fa69",
   "metadata": {},
   "source": [
    "a linha 1 indica que o documento foi escrito no formato HTML."
   ]
  },
  {
   "cell_type": "markdown",
   "id": "547d241a-a13e-43f1-91ce-de24ba3ddff6",
   "metadata": {},
   "source": [
    "a linha 2 tem a tag html e é atribuída a lingua da página"
   ]
  },
  {
   "cell_type": "markdown",
   "id": "887e241e-cb82-40c5-9cb7-ca91de4da23f",
   "metadata": {},
   "source": [
    "a linha 4 expecifica a codificação da página"
   ]
  },
  {
   "cell_type": "markdown",
   "id": "f649f92b-7287-4c6a-baf9-b64c03a66b4b",
   "metadata": {},
   "source": [
    "a linha 5 trás o título que fica na aba da página"
   ]
  },
  {
   "cell_type": "markdown",
   "id": "c4e12cb3-3f1d-4bde-8c6d-81955f0280f2",
   "metadata": {},
   "source": [
    "observe que `<title>` e `<meta>` estão dentre de `<head>` que começa na linha 3 e termina na linha 6"
   ]
  },
  {
   "cell_type": "markdown",
   "id": "266b71b9-6a77-4cc2-9379-c5c44a1ce1bb",
   "metadata": {},
   "source": [
    "entre as linhas 7 e 9 é feito o corpo da página web"
   ]
  },
  {
   "cell_type": "markdown",
   "id": "dab110bf-0a3e-4c54-987e-3d44a2c767df",
   "metadata": {},
   "source": [
    "e, em 10, temos a tag que finaliza o elemento html, marcando o fim do documento."
   ]
  },
  {
   "cell_type": "markdown",
   "id": "802b1cb1-184c-43b4-a310-cf245ed50b01",
   "metadata": {},
   "source": [
    "como páginas web são arquivos texto, podemos criar facilmente em python"
   ]
  },
  {
   "cell_type": "markdown",
   "id": "65d26efc-e0b8-4d5c-a59a-d219600000a1",
   "metadata": {},
   "source": [
    "```\n",
    "with open('texto.html', 'w') as web:\n",
    "    web.write('''<!DOCTYPE html>\n",
    "                <html lang=\"pt-BR\">\n",
    "                <head>\n",
    "                <meta charset=\"utf-8\">\n",
    "                <title> OLÁ, MUNDO! </title>\n",
    "                </head>\n",
    "                <body>\n",
    "                hello, world!\n",
    "                </body>\n",
    "                </html>''')\n",
    "```"
   ]
  }
 ],
 "metadata": {
  "kernelspec": {
   "display_name": "Python 3 (ipykernel)",
   "language": "python",
   "name": "python3"
  },
  "language_info": {
   "codemirror_mode": {
    "name": "ipython",
    "version": 3
   },
   "file_extension": ".py",
   "mimetype": "text/x-python",
   "name": "python",
   "nbconvert_exporter": "python",
   "pygments_lexer": "ipython3",
   "version": "3.9.5"
  }
 },
 "nbformat": 4,
 "nbformat_minor": 5
}
