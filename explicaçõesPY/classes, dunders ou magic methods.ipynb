{
 "cells": [
  {
   "cell_type": "markdown",
   "id": "82ff6a9e-3a5c-45d6-a187-df999653db18",
   "metadata": {},
   "source": [
    "## ***Classes: dunders ou Magic Methods***\n",
    "---"
   ]
  },
  {
   "cell_type": "markdown",
   "id": "3b8da152-381b-4806-b4c9-17ccde5736a7",
   "metadata": {},
   "source": [
    "são semelhantes ao método `__init__()`, fazendo com que a classe ganhe novas formas de ser usada"
   ]
  },
  {
   "cell_type": "markdown",
   "id": "8a2bdb0d-6748-471b-add6-4eac03ed1fc0",
   "metadata": {},
   "source": [
    "#### método \\_\\_str\\_\\_() ou \\_\\_repr\\_\\_()\n",
    "---"
   ]
  },
  {
   "cell_type": "markdown",
   "id": "6485fb27-3972-4d76-896b-896d341c7fc9",
   "metadata": {},
   "source": [
    "faz a classe funcionar como uma string, se for necessário. por exemplo:"
   ]
  },
  {
   "cell_type": "code",
   "execution_count": 1,
   "id": "1c133a11-3f27-4409-bd42-62115bbd9e67",
   "metadata": {},
   "outputs": [],
   "source": [
    "class Time:\n",
    "    def __init__(self, hora, minuto, segundo):\n",
    "        self.hr = hora\n",
    "        self.min = minuto\n",
    "        self.seg = segundo\n",
    "    def showtime(self):\n",
    "        return f'{self.hr}:{self.min}:{self.seg}'\n",
    "        \n",
    "relógio = Time(10, 30, 45)"
   ]
  },
  {
   "cell_type": "code",
   "execution_count": 2,
   "id": "bae1087f-3cc2-4569-90a2-fc91c6d94056",
   "metadata": {},
   "outputs": [
    {
     "name": "stdout",
     "output_type": "stream",
     "text": [
      "10:30:45\n"
     ]
    }
   ],
   "source": [
    "print(relógio.showtime())"
   ]
  },
  {
   "cell_type": "markdown",
   "id": "b8f2e9a6-6cc1-4702-8cfb-261b89a86e9e",
   "metadata": {},
   "source": [
    "observe que foi necessário criar um método `showtime()` e depois, usando `print()`, chamá-lo para ver a hora."
   ]
  },
  {
   "cell_type": "markdown",
   "id": "43b79f1f-f078-4380-8346-10467eba0f38",
   "metadata": {},
   "source": [
    "usando o método `__str__()` isto não é necessário, pois fará com que a classe trabalhe como uma string, observe:"
   ]
  },
  {
   "cell_type": "code",
   "execution_count": 3,
   "id": "cbeac5ce-b808-4f89-93e7-aa254a2e452b",
   "metadata": {},
   "outputs": [
    {
     "name": "stdout",
     "output_type": "stream",
     "text": [
      "10:30:45\n"
     ]
    }
   ],
   "source": [
    "class Time:\n",
    "    def __init__(self, hora, minuto, segundo):\n",
    "        self.hr = hora\n",
    "        self.min = minuto\n",
    "        self.seg = segundo\n",
    "    def __str__(self):\n",
    "        return f'{self.hr}:{self.min}:{self.seg}'\n",
    "        \n",
    "relógio = Time(10, 30, 45)\n",
    "print(relógio)"
   ]
  },
  {
   "cell_type": "markdown",
   "id": "5f319d5f-8e9d-421b-9944-585a60358a7c",
   "metadata": {},
   "source": [
    "o dunder `__repr__()` funciona de forma semelhante ao `__str__()`:"
   ]
  },
  {
   "cell_type": "code",
   "execution_count": 4,
   "id": "be5dffa1-a200-49a8-b774-ac7c4ce6f19f",
   "metadata": {},
   "outputs": [
    {
     "name": "stdout",
     "output_type": "stream",
     "text": [
      "10:30:45\n"
     ]
    }
   ],
   "source": [
    "class Time:\n",
    "    def __init__(self, hora, minuto, segundo):\n",
    "        self.hr = hora\n",
    "        self.min = minuto\n",
    "        self.seg = segundo\n",
    "    def __repr__(self):\n",
    "        return f'{self.hr}:{self.min}:{self.seg}'\n",
    "        \n",
    "relógio = Time(10, 30, 45)\n",
    "print(relógio)"
   ]
  },
  {
   "cell_type": "markdown",
   "id": "1c31c0c0-1a33-4cc8-875d-2cb7465e24ef",
   "metadata": {},
   "source": [
    "#### método \\_\\_byte\\_\\_() ou \\_\\_bytes\\_\\_()\n",
    "---"
   ]
  },
  {
   "cell_type": "markdown",
   "id": "b8b0804a-af98-40b1-bd5b-febe5ff87eca",
   "metadata": {},
   "source": [
    "retorna a representação em byte de uma string:"
   ]
  },
  {
   "cell_type": "code",
   "execution_count": 5,
   "id": "fdee80f4-33e7-4c5f-8393-f727efe716c3",
   "metadata": {},
   "outputs": [
    {
     "name": "stdout",
     "output_type": "stream",
     "text": [
      "<__main__.Time object at 0x000001AE31127640>\n"
     ]
    }
   ],
   "source": [
    "class Time:\n",
    "    def __init__(self, hora, minuto, segundo):\n",
    "        self.hr = hora\n",
    "        self.min = minuto\n",
    "        self.seg = segundo\n",
    "    def __byte__(self):\n",
    "        return f'{self.hr}:{self.min}:{self.seg}'\n",
    "    \n",
    "relógio = Time(10, 30, 45)\n",
    "print(relógio)"
   ]
  },
  {
   "cell_type": "markdown",
   "id": "553a61ab-2ce9-4c8b-aed1-66f344b471c4",
   "metadata": {},
   "source": [
    "não existe diferença entre `__byte__()` e `__bytes__()`"
   ]
  },
  {
   "cell_type": "markdown",
   "id": "ea0e6df2-0ff3-43be-af7b-bf4491d6f3a9",
   "metadata": {},
   "source": [
    "#### método \\_\\_len\\_\\_()\n",
    "---"
   ]
  },
  {
   "cell_type": "markdown",
   "id": "6d58fd09-2c21-4e48-9d54-3e06ac15beac",
   "metadata": {},
   "source": [
    "permite à classe retornar um tamanho que esta possa ter, igual uma lista ou uma string, por exemplo:"
   ]
  },
  {
   "cell_type": "code",
   "execution_count": 6,
   "id": "db2d0fbc-0133-417d-81ec-a90590fe4506",
   "metadata": {},
   "outputs": [
    {
     "name": "stdout",
     "output_type": "stream",
     "text": [
      "6\n"
     ]
    }
   ],
   "source": [
    "class Time:\n",
    "    def __init__(self, lista):\n",
    "        self.lista = lista\n",
    "    def __len__(self):\n",
    "        return len(self.lista)\n",
    "    \n",
    "relógio = Time([10, 30, 45, 34, 56, 77])\n",
    "print(len(relógio))"
   ]
  },
  {
   "cell_type": "markdown",
   "id": "8d1c81a3-6da9-4e61-babc-db59e864d97f",
   "metadata": {},
   "source": [
    "#### método \\_\\_iter\\_\\_()\n",
    "---"
   ]
  },
  {
   "cell_type": "markdown",
   "id": "7a8ad866-8423-4805-a81a-84553a85c3f5",
   "metadata": {},
   "source": [
    "permite à classe iterar, igual uma lista ou uma string, por exemplo:"
   ]
  },
  {
   "cell_type": "code",
   "execution_count": 7,
   "id": "e2843b05-0e7d-4b02-a720-24d7ca90d63f",
   "metadata": {},
   "outputs": [
    {
     "name": "stdout",
     "output_type": "stream",
     "text": [
      "10 30 45 34 56 77 "
     ]
    }
   ],
   "source": [
    "class Time:\n",
    "    def __init__(self, lista):\n",
    "        self.lista = lista\n",
    "    def __iter__(self):\n",
    "        return iter(self.lista)\n",
    "    \n",
    "relógio = Time([10, 30, 45, 34, 56, 77])\n",
    "for i in relógio:\n",
    "    print(i, end=' ')"
   ]
  },
  {
   "cell_type": "markdown",
   "id": "562c102c-8ca3-435b-929e-ed0a7f02ba89",
   "metadata": {},
   "source": [
    "#### método \\_\\_getitem\\_\\_()\n",
    "---"
   ]
  },
  {
   "cell_type": "markdown",
   "id": "341dc7f0-24e3-45cc-94c1-f0ceeb08cbc9",
   "metadata": {},
   "source": [
    "assim como é possível localizar um valor de uma lista ou de uma string usando um índice, com este método, é possível localizar um valor de uma classe passando um índice. por exemplo:"
   ]
  },
  {
   "cell_type": "code",
   "execution_count": 8,
   "id": "dbbfad12-7237-4f20-8a96-00df27d2b737",
   "metadata": {},
   "outputs": [
    {
     "name": "stdout",
     "output_type": "stream",
     "text": [
      "45\n"
     ]
    }
   ],
   "source": [
    "class Time:\n",
    "    def __init__(self, lista):\n",
    "        self.lista = lista\n",
    "    def __getitem__(self, índice):\n",
    "        return self.lista[índice]\n",
    "    \n",
    "relógio = Time([10, 30, 45, 34, 56, 77])\n",
    "print(relógio[2])"
   ]
  },
  {
   "cell_type": "markdown",
   "id": "2f9c407d-02db-41eb-b1a2-a11f393c5bfb",
   "metadata": {},
   "source": [
    "#### método \\_\\_int\\_\\_()\n",
    "---"
   ]
  },
  {
   "cell_type": "markdown",
   "id": "4aa6550a-4b98-4d86-a437-dc8e44878d70",
   "metadata": {},
   "source": [
    "permite a classe ser tratada como um valor inteiro."
   ]
  },
  {
   "cell_type": "code",
   "execution_count": 9,
   "id": "5615895b-1821-495e-8af2-e7e8f1bf6070",
   "metadata": {},
   "outputs": [
    {
     "name": "stdout",
     "output_type": "stream",
     "text": [
      "154\n"
     ]
    }
   ],
   "source": [
    "class Time:\n",
    "    def __init__(self, valor):\n",
    "        self.vlr = valor\n",
    "    def __int__(self):\n",
    "        return self.vlr\n",
    "    \n",
    "relógio = Time(77)\n",
    "print(int(relógio)*2)"
   ]
  },
  {
   "cell_type": "markdown",
   "id": "47117c1e-ca1c-4eca-98a6-1cfa884bec90",
   "metadata": {},
   "source": [
    "#### método \\_\\_float\\_\\_()\n",
    "---"
   ]
  },
  {
   "cell_type": "markdown",
   "id": "f0d0b7a1-914c-451c-814d-6113e733b3f1",
   "metadata": {},
   "source": [
    "permite a classe ser tratada como um valor real."
   ]
  },
  {
   "cell_type": "code",
   "execution_count": 13,
   "id": "5bcf2d5e-e747-49ea-863e-ff92bc3597e6",
   "metadata": {},
   "outputs": [
    {
     "name": "stdout",
     "output_type": "stream",
     "text": [
      "75.2\n"
     ]
    }
   ],
   "source": [
    "class Time:\n",
    "    def __init__(self, valor):\n",
    "        self.vlr = valor\n",
    "    def __float__(self):\n",
    "        return self.vlr\n",
    "    \n",
    "relógio = Time(77.2)\n",
    "print(float(relógio)-2)"
   ]
  },
  {
   "cell_type": "markdown",
   "id": "fa15df24-6745-4c95-8e05-7da45251206a",
   "metadata": {},
   "source": [
    "#### método \\_\\_abs\\_\\_()\n",
    "---"
   ]
  },
  {
   "cell_type": "markdown",
   "id": "dc40525f-35cf-443c-b4cd-ef274ae31cf3",
   "metadata": {},
   "source": [
    "permite a classe retornar um valor absoluto."
   ]
  },
  {
   "cell_type": "code",
   "execution_count": 17,
   "id": "06c40be0-1ccb-4b30-a081-fef037a886d9",
   "metadata": {},
   "outputs": [
    {
     "name": "stdout",
     "output_type": "stream",
     "text": [
      "77\n"
     ]
    }
   ],
   "source": [
    "class Time:\n",
    "    def __init__(self, valor):\n",
    "        self.vlr = valor\n",
    "    def __abs__(self):\n",
    "        return abs(self.vlr)\n",
    "    \n",
    "relógio = Time(-77)\n",
    "print(abs(relógio))"
   ]
  },
  {
   "cell_type": "markdown",
   "id": "481b32b9-4ae5-4d23-84b5-addec7d13a6f",
   "metadata": {},
   "source": [
    "#### método \\_\\_complex\\_\\_()\n",
    "---"
   ]
  },
  {
   "cell_type": "markdown",
   "id": "22a0367e-a015-4aa9-9918-e3b2b8ab6b77",
   "metadata": {},
   "source": [
    "permite a classe ser usada como um valor complexo."
   ]
  },
  {
   "cell_type": "code",
   "execution_count": 25,
   "id": "82560d30-488b-49d6-9358-1db33e854c64",
   "metadata": {},
   "outputs": [
    {
     "name": "stdout",
     "output_type": "stream",
     "text": [
      "(77+14j)\n",
      "(77+14j)\n",
      "(77-14j)\n",
      "(-77+14j)\n"
     ]
    }
   ],
   "source": [
    "class Time:\n",
    "    def __init__(self, valor):\n",
    "        self.vlr = valor\n",
    "    def __complex__(self):\n",
    "        return complex(self.vlr)\n",
    "    \n",
    "relógio = Time(77+14j)\n",
    "print(complex(relógio))\n",
    "\n",
    "relógio = Time(14j+77)\n",
    "print(complex(relógio))\n",
    "\n",
    "relógio = Time(77-14j)\n",
    "print(complex(relógio))\n",
    "\n",
    "relógio = Time(14j-77)\n",
    "print(complex(relógio))"
   ]
  },
  {
   "cell_type": "markdown",
   "id": "75a5b85e-bcee-4a67-874f-3c3ef8b0f2f5",
   "metadata": {},
   "source": [
    "#### método \\_\\_ceil\\_\\_()\n",
    "---"
   ]
  },
  {
   "cell_type": "markdown",
   "id": "9c094668-a199-44cb-9c1f-a541f95339b6",
   "metadata": {},
   "source": [
    "permite a classe ter seu valor arredondado para cima, como um valor real."
   ]
  },
  {
   "cell_type": "code",
   "execution_count": 28,
   "id": "7d09af4b-c9f2-4bad-8167-b363c6bafe56",
   "metadata": {},
   "outputs": [
    {
     "name": "stdout",
     "output_type": "stream",
     "text": [
      "78\n"
     ]
    }
   ],
   "source": [
    "import math as mt\n",
    "class Time:\n",
    "    def __init__(self, valor):\n",
    "        self.vlr = valor\n",
    "    def __ceil__(self):\n",
    "        return mt.ceil(self.vlr)\n",
    "    \n",
    "relógio = Time(77.3)\n",
    "print(mt.ceil(relógio))"
   ]
  },
  {
   "cell_type": "markdown",
   "id": "e2b701ac-6138-48c3-a0fe-3db114b8f193",
   "metadata": {},
   "source": [
    "observe que  foi necessário chamar a biblioteca `math` para funcionar."
   ]
  },
  {
   "cell_type": "markdown",
   "id": "07da6e53-0ae0-4c14-a6c8-ee08987f37cf",
   "metadata": {},
   "source": [
    "#### método \\_\\_floor\\_\\_()\n",
    "---"
   ]
  },
  {
   "cell_type": "markdown",
   "id": "3082325d-ad77-43a6-a2b6-fa91b8eb08bc",
   "metadata": {},
   "source": [
    "permite a classe ter seu valor arredondado para baixo, como um valor real."
   ]
  },
  {
   "cell_type": "code",
   "execution_count": 30,
   "id": "0206dac3-474c-4e5b-a0aa-23477e2d0963",
   "metadata": {},
   "outputs": [
    {
     "name": "stdout",
     "output_type": "stream",
     "text": [
      "77\n"
     ]
    }
   ],
   "source": [
    "import math as mt\n",
    "class Time:\n",
    "    def __init__(self, valor):\n",
    "        self.vlr = valor\n",
    "    def __floor__(self):\n",
    "        return mt.floor(self.vlr)\n",
    "    \n",
    "relógio = Time(77.3)\n",
    "print(mt.floor(relógio))"
   ]
  },
  {
   "cell_type": "markdown",
   "id": "df6ff67c-42f6-4174-8559-2f9335798cc0",
   "metadata": {},
   "source": [
    "#### método \\_\\_round\\_\\_()\n",
    "---"
   ]
  },
  {
   "cell_type": "markdown",
   "id": "812d1703-9176-4396-bc57-acb44e8fcb45",
   "metadata": {},
   "source": [
    "permite a classe ter seu valor arredondado, como um valor real."
   ]
  },
  {
   "cell_type": "code",
   "execution_count": 33,
   "id": "204c4111-0321-4cd8-bd08-996af0e54753",
   "metadata": {},
   "outputs": [
    {
     "name": "stdout",
     "output_type": "stream",
     "text": [
      "77\n",
      "78\n"
     ]
    }
   ],
   "source": [
    "class Time:\n",
    "    def __init__(self, valor):\n",
    "        self.vlr = valor\n",
    "    def __round__(self):\n",
    "        return round(self.vlr)\n",
    "    \n",
    "relógio = Time(77.3)\n",
    "print(round(relógio))\n",
    "\n",
    "relógio = Time(77.7)\n",
    "print(round(relógio))"
   ]
  },
  {
   "cell_type": "markdown",
   "id": "6c74d992-6ff0-4aff-aafd-5b0e724706c1",
   "metadata": {},
   "source": [
    "#### método \\_\\_trunc\\_\\_()\n",
    "---"
   ]
  },
  {
   "cell_type": "markdown",
   "id": "9c8d62dc-97a3-4ebd-8a58-1a524f223fb1",
   "metadata": {},
   "source": [
    "permmite a classe ter seu valor truncado, como um valor real."
   ]
  },
  {
   "cell_type": "code",
   "execution_count": 35,
   "id": "999c9c0e-24d5-4457-8d94-9554160e4fd2",
   "metadata": {},
   "outputs": [
    {
     "name": "stdout",
     "output_type": "stream",
     "text": [
      "77\n",
      "77\n"
     ]
    }
   ],
   "source": [
    "import math as mt\n",
    "class Time:\n",
    "    def __init__(self, valor):\n",
    "        self.vlr = valor\n",
    "    def __trunc__(self):\n",
    "        return mt.trunc(self.vlr)\n",
    "    \n",
    "relógio = Time(77.3)\n",
    "print(mt.trunc(relógio))\n",
    "\n",
    "relógio = Time(77.7)\n",
    "print(mt.trunc(relógio))"
   ]
  },
  {
   "cell_type": "markdown",
   "id": "b6447c07-4847-4bbc-8a35-2e64c66511f7",
   "metadata": {},
   "source": [
    "#### métodos das operações fundamentais\n",
    "---"
   ]
  },
  {
   "cell_type": "markdown",
   "id": "8881dcfa-3adb-4af3-a0a1-092a52f0478e",
   "metadata": {},
   "source": [
    "os métodos a seguir permitem fazer cálculos com o objeto da classe.\n",
    "dunder|operação\n",
    "---|---\n",
    "\\_\\_add\\_\\_()|adição\n",
    "\\_\\_sub\\_\\_()|subtração\n",
    "\\_\\_mul\\_\\_()|multiplicação\n",
    "\\_\\_matmul\\_\\_()|multiplicação entre matrizes do numpy\n",
    "\\_\\_truediv\\_\\_()|divisão /\n",
    "\\_\\_floordiv\\_\\_()|divisão //"
   ]
  },
  {
   "cell_type": "markdown",
   "id": "070a7bbd-049a-42ff-b092-4d0ba605492d",
   "metadata": {},
   "source": [
    "por exemplo:"
   ]
  },
  {
   "cell_type": "code",
   "execution_count": 39,
   "id": "82ef5db1-37bb-4b0c-9314-83c0888419fe",
   "metadata": {},
   "outputs": [
    {
     "name": "stdout",
     "output_type": "stream",
     "text": [
      "add: 78.0\n",
      "mul: 54.10999999999999\n",
      "sub: 76.6\n",
      "truediv: 110.42857142857143\n",
      "floordiv: 110.0\n"
     ]
    }
   ],
   "source": [
    "class Time:\n",
    "    def __init__(self, valor):\n",
    "        self.vlr = valor\n",
    "    def __add__(self, other):\n",
    "        return self.vlr + other\n",
    "    def __mul__(self, other):\n",
    "        return self.vlr * other\n",
    "    def __sub__(self, other):\n",
    "        return self.vlr - other\n",
    "    def __truediv__(self, other):\n",
    "        return self.vlr / other\n",
    "    def __floordiv__(self, other):\n",
    "        return self.vlr // other\n",
    "    \n",
    "relógio = Time(77.3)\n",
    "print(f'add: {relógio + 0.7}')\n",
    "\n",
    "relógio = Time(77.3)\n",
    "print(f'mul: {relógio * 0.7}')\n",
    "\n",
    "relógio = Time(77.3)\n",
    "print(f'sub: {relógio - 0.7}')\n",
    "\n",
    "relógio = Time(77.3)\n",
    "print(f'truediv: {relógio / 0.7}')\n",
    "\n",
    "relógio = Time(77.3)\n",
    "print(f'floordiv: {relógio // 0.7}')"
   ]
  },
  {
   "cell_type": "markdown",
   "id": "47ef80c6-fb5d-4934-b90f-02286c2fbf2c",
   "metadata": {},
   "source": [
    "#### métodos para comparação\n",
    "---"
   ]
  },
  {
   "cell_type": "markdown",
   "id": "9194f6ed-4a1f-4bf6-9106-3c2a3f273db3",
   "metadata": {},
   "source": [
    "os métodos a seguir servem para fazer comparações com o objeto da classe:\n",
    "método|comparação\n",
    "---|---\n",
    "\\_\\_eq\\_\\_()|==\n",
    "\\_\\_lt\\_\\_()|<\n",
    "\\_\\_le\\_\\_()|<=\n",
    "\\_\\_ne\\_\\_()|!=\n",
    "\\_\\_gt\\_\\_()|>\n",
    "\\_\\_ge\\_\\_()|>="
   ]
  },
  {
   "cell_type": "markdown",
   "id": "974eb71c-2284-4055-94d4-fc8e761d83b7",
   "metadata": {},
   "source": [
    "por exemplo:"
   ]
  },
  {
   "cell_type": "code",
   "execution_count": 40,
   "id": "9f828846-f4a0-4d6a-bd9c-3a3172e6af7e",
   "metadata": {},
   "outputs": [
    {
     "name": "stdout",
     "output_type": "stream",
     "text": [
      "eq: False\n",
      "lt: False\n",
      "le: False\n",
      "ne: True\n",
      "gt: True\n",
      "ge: True\n"
     ]
    }
   ],
   "source": [
    "class Time:\n",
    "    def __init__(self, valor):\n",
    "        self.vlr = valor\n",
    "    def __eq__(self, other):\n",
    "        return self.vlr == other\n",
    "    def __lt__(self, other):\n",
    "        return self.vlr < other\n",
    "    def __le__(self, other):\n",
    "        return self.vlr <= other\n",
    "    def __ne__(self, other):\n",
    "        return self.vlr != other\n",
    "    def __gt__(self, other):\n",
    "        return self.vlr > other\n",
    "    def __ge__(self, other):\n",
    "        return self.vlr >= other\n",
    "    \n",
    "relógio = Time(77.3)\n",
    "print(f'eq: {relógio == 0.7}')\n",
    "\n",
    "relógio = Time(77.3)\n",
    "print(f'lt: {relógio < 0.7}')\n",
    "\n",
    "relógio = Time(77.3)\n",
    "print(f'le: {relógio <= 0.7}')\n",
    "\n",
    "relógio = Time(77.3)\n",
    "print(f'ne: {relógio != 0.7}')\n",
    "\n",
    "relógio = Time(77.3)\n",
    "print(f'gt: {relógio > 0.7}')\n",
    "\n",
    "relógio = Time(77.3)\n",
    "print(f'ge: {relógio >= 0.7}')"
   ]
  },
  {
   "cell_type": "markdown",
   "id": "216d847a-1b02-4956-9706-9933dfbd8568",
   "metadata": {},
   "source": [
    "#### método \\_\\_contain\\_\\_()\n",
    "---"
   ]
  }
 ],
 "metadata": {
  "kernelspec": {
   "display_name": "Python 3 (ipykernel)",
   "language": "python",
   "name": "python3"
  },
  "language_info": {
   "codemirror_mode": {
    "name": "ipython",
    "version": 3
   },
   "file_extension": ".py",
   "mimetype": "text/x-python",
   "name": "python",
   "nbconvert_exporter": "python",
   "pygments_lexer": "ipython3",
   "version": "3.10.6"
  }
 },
 "nbformat": 4,
 "nbformat_minor": 5
}
