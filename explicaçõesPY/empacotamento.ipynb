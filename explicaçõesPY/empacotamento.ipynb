{
 "cells": [
  {
   "cell_type": "markdown",
   "id": "37d35093-32b5-4dda-a2da-37f407fabe70",
   "metadata": {},
   "source": [
    "## ***Empacotamento***\n",
    "---"
   ]
  },
  {
   "cell_type": "markdown",
   "id": "fdf30322-27c1-4636-85b2-43ead93a1cee",
   "metadata": {},
   "source": [
    "#### gather"
   ]
  },
  {
   "cell_type": "markdown",
   "id": "88486bcd-d964-4873-a159-9af4c1c34de7",
   "metadata": {},
   "source": [
    "como não é sempre possível determinar quantos parâmetros uma função vai receber, usamos a ideia de empacotamento, reprentado por"
   ]
  },
  {
   "cell_type": "markdown",
   "id": "fbe1216b-07a6-4c2b-9957-3401522475db",
   "metadata": {},
   "source": [
    "```\n",
    "def func(*args):\n",
    "    <funcionalidade>\n",
    "```"
   ]
  },
  {
   "cell_type": "markdown",
   "id": "cd9167f0-1412-47c3-8cd8-ef8a01b1a980",
   "metadata": {},
   "source": [
    "por exemplo:"
   ]
  },
  {
   "cell_type": "code",
   "execution_count": 8,
   "id": "f81133b0-bbc1-4795-8bda-a3532a38e3ac",
   "metadata": {},
   "outputs": [],
   "source": [
    "def soma(*vlr):\n",
    "    return sum(vlr)"
   ]
  },
  {
   "cell_type": "code",
   "execution_count": 9,
   "id": "af31fe3e-1bbf-488c-8b88-384f4ebb9492",
   "metadata": {},
   "outputs": [
    {
     "name": "stdout",
     "output_type": "stream",
     "text": [
      "6\n"
     ]
    }
   ],
   "source": [
    "print(soma(1, 2, 3))"
   ]
  },
  {
   "cell_type": "code",
   "execution_count": 10,
   "id": "7e4c6053-25ce-409e-ad21-34d4701fe1b6",
   "metadata": {},
   "outputs": [
    {
     "name": "stdout",
     "output_type": "stream",
     "text": [
      "66.858\n"
     ]
    }
   ],
   "source": [
    "print(soma(14, 19, 28, 3.14, 2.718))"
   ]
  },
  {
   "cell_type": "markdown",
   "id": "8b69f59b-1f46-4144-b272-056fe111d279",
   "metadata": {},
   "source": [
    "sendo possível passar quantas informações forem necessárias"
   ]
  },
  {
   "cell_type": "markdown",
   "id": "873a33d2-3847-4d2a-8b10-1232e21877a3",
   "metadata": {},
   "source": [
    "quando os valores são passados como parâmetro para uma função empacotada, eles são interpretados como uma tupla"
   ]
  },
  {
   "cell_type": "code",
   "execution_count": 12,
   "id": "b042d799-34f7-4274-be41-eb3e6dea4fc8",
   "metadata": {},
   "outputs": [
    {
     "name": "stdout",
     "output_type": "stream",
     "text": [
      "(1, 2, 3)\n",
      "(4,)\n",
      "(1, 5, 6, 3, 4, 7)\n"
     ]
    }
   ],
   "source": [
    "def mostra_emp(*vlr):\n",
    "    print(vlr)\n",
    "    \n",
    "mostra_emp(1, 2, 3)\n",
    "mostra_emp(4)\n",
    "mostra_emp(1, 5, 6, 3, 4, 7)"
   ]
  },
  {
   "cell_type": "markdown",
   "id": "abf91270-baae-4fdb-937f-1879de69ad82",
   "metadata": {},
   "source": [
    "como é sempre melhor trabalhar com listas, os valores passados para a função podem ser condensadas em uma lista"
   ]
  },
  {
   "cell_type": "code",
   "execution_count": 13,
   "id": "05619af9-ccbc-479b-8c2f-5d1370e843d5",
   "metadata": {},
   "outputs": [
    {
     "name": "stdout",
     "output_type": "stream",
     "text": [
      "([1, 2, 3],)\n",
      "([4],)\n",
      "([1, 5, 6, 3, 4, 7],)\n"
     ]
    }
   ],
   "source": [
    "l1 = [1, 2, 3]\n",
    "l2 = [4]\n",
    "l3 = [1, 5, 6, 3, 4, 7]\n",
    "mostra_emp(l1)\n",
    "mostra_emp(l2)\n",
    "mostra_emp(l3)"
   ]
  },
  {
   "cell_type": "markdown",
   "id": "26cdfd9c-09d3-44c1-872e-63c648aa11e2",
   "metadata": {},
   "source": [
    "e, permanece funcionando da mesma forma, porém é necessário retirar o parâmetro contador"
   ]
  },
  {
   "cell_type": "code",
   "execution_count": 15,
   "id": "57a24885-b783-4de0-ab01-f1739cdf99bf",
   "metadata": {},
   "outputs": [
    {
     "name": "stdout",
     "output_type": "stream",
     "text": [
      "6\n",
      "4\n",
      "26\n"
     ]
    }
   ],
   "source": [
    "def soma(vlr):\n",
    "    return sum(vlr)\n",
    "\n",
    "print(soma(l1))\n",
    "print(soma(l2))\n",
    "print(soma(l3))"
   ]
  },
  {
   "cell_type": "markdown",
   "id": "231da993-fcf9-444c-aaa3-f1b5f15f4712",
   "metadata": {},
   "source": [
    "pois listas já são empacotadas por si só"
   ]
  },
  {
   "cell_type": "markdown",
   "id": "c7db19cd-e26f-4446-b54b-ef4b407a38a3",
   "metadata": {},
   "source": [
    "####  scatter"
   ]
  },
  {
   "cell_type": "markdown",
   "id": "680f0f1e-ce69-4afe-a9e7-a260d0c259db",
   "metadata": {},
   "source": [
    "caso uma função receba, por exemplo, dois ou mais parâmetros, e o usuário deseja passar todos os parâmtros como um tupla, por exemplo, ao ser passada a tupla com parâmetro ela deve ser acompanhada de um asterisco"
   ]
  },
  {
   "cell_type": "code",
   "execution_count": 1,
   "id": "513be50c-71da-4061-9a4d-ffe257c5e7a0",
   "metadata": {},
   "outputs": [],
   "source": [
    "def func(num1, num2):\n",
    "    return num1+num2"
   ]
  },
  {
   "cell_type": "code",
   "execution_count": 2,
   "id": "6d2bcf99-78b2-4185-80c3-f9ebc681c80d",
   "metadata": {},
   "outputs": [
    {
     "name": "stdout",
     "output_type": "stream",
     "text": [
      "7\n"
     ]
    }
   ],
   "source": [
    "tn = 3, 4\n",
    "print(func(*tn))"
   ]
  },
  {
   "cell_type": "markdown",
   "id": "884555e2-a6f7-4c28-8048-6cbe18333753",
   "metadata": {},
   "source": [
    "nesse caso, se não pôr o asterisco, dará um erro, pois a tupla será interpretada como um único elemento"
   ]
  },
  {
   "cell_type": "code",
   "execution_count": 3,
   "id": "9e715407-5745-4040-9724-27b990241eb2",
   "metadata": {},
   "outputs": [
    {
     "ename": "TypeError",
     "evalue": "func() missing 1 required positional argument: 'num2'",
     "output_type": "error",
     "traceback": [
      "\u001b[1;31m---------------------------------------------------------------------------\u001b[0m",
      "\u001b[1;31mTypeError\u001b[0m                                 Traceback (most recent call last)",
      "\u001b[1;32m<ipython-input-3-26844ba004ba>\u001b[0m in \u001b[0;36m<module>\u001b[1;34m\u001b[0m\n\u001b[1;32m----> 1\u001b[1;33m \u001b[0mprint\u001b[0m\u001b[1;33m(\u001b[0m\u001b[0mfunc\u001b[0m\u001b[1;33m(\u001b[0m\u001b[0mtn\u001b[0m\u001b[1;33m)\u001b[0m\u001b[1;33m)\u001b[0m\u001b[1;33m\u001b[0m\u001b[1;33m\u001b[0m\u001b[0m\n\u001b[0m",
      "\u001b[1;31mTypeError\u001b[0m: func() missing 1 required positional argument: 'num2'"
     ]
    }
   ],
   "source": [
    "print(func(tn))"
   ]
  },
  {
   "cell_type": "markdown",
   "id": "c2698298-3cb9-4032-b52f-5a1aad9168ed",
   "metadata": {},
   "source": [
    "lembrando que o gather e o scatter não servem apenas para funções, listas e variáveis podem ser atribuídas dessa forma"
   ]
  },
  {
   "cell_type": "code",
   "execution_count": 1,
   "id": "e2985525-833d-47fc-b6e3-38a913eac0f9",
   "metadata": {},
   "outputs": [
    {
     "name": "stdout",
     "output_type": "stream",
     "text": [
      "1\n",
      "[2, 3, 4, 5]\n"
     ]
    }
   ],
   "source": [
    "a, *b = 1, 2, 3, 4, 5\n",
    "print(a)\n",
    "print(b)"
   ]
  },
  {
   "cell_type": "markdown",
   "id": "1ec0ccee-937a-45a3-b601-0cc1d86af9cc",
   "metadata": {},
   "source": [
    "ou"
   ]
  },
  {
   "cell_type": "code",
   "execution_count": 2,
   "id": "b9162db8-6bc8-4795-bf29-319e8a38c709",
   "metadata": {},
   "outputs": [
    {
     "name": "stdout",
     "output_type": "stream",
     "text": [
      "['olá', 'eu', 'sou', 'o', 'dolly', 'seu']\n",
      "amiguinho\n"
     ]
    }
   ],
   "source": [
    "*c, d = 'olá', 'eu', 'sou', 'o', 'dolly', 'seu', 'amiguinho'\n",
    "print(c)\n",
    "print(d)"
   ]
  }
 ],
 "metadata": {
  "kernelspec": {
   "display_name": "Python 3",
   "language": "python",
   "name": "python3"
  },
  "language_info": {
   "codemirror_mode": {
    "name": "ipython",
    "version": 3
   },
   "file_extension": ".py",
   "mimetype": "text/x-python",
   "name": "python",
   "nbconvert_exporter": "python",
   "pygments_lexer": "ipython3",
   "version": "3.9.5"
  }
 },
 "nbformat": 4,
 "nbformat_minor": 5
}
