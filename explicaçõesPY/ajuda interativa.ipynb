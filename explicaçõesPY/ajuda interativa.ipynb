{
 "cells": [
  {
   "cell_type": "markdown",
   "id": "9b3a7540-9c86-4826-80f6-5461d9352331",
   "metadata": {},
   "source": [
    "## ***interactive help***\n",
    "---"
   ]
  },
  {
   "cell_type": "markdown",
   "id": "148d5493-cc4a-4889-8ff7-e5ab95c5d6e7",
   "metadata": {},
   "source": [
    "é a ajuda que os módulo apresentam ao usar o módulo `help(<comando>)`, onde `<comando>` pode ser qualquer função do python"
   ]
  },
  {
   "cell_type": "code",
   "execution_count": 1,
   "id": "bc80cd10-2ff9-4632-8217-9f8fac4978f0",
   "metadata": {},
   "outputs": [
    {
     "name": "stdout",
     "output_type": "stream",
     "text": [
      "Help on built-in function print in module builtins:\n",
      "\n",
      "print(...)\n",
      "    print(value, ..., sep=' ', end='\\n', file=sys.stdout, flush=False)\n",
      "    \n",
      "    Prints the values to a stream, or to sys.stdout by default.\n",
      "    Optional keyword arguments:\n",
      "    file:  a file-like object (stream); defaults to the current sys.stdout.\n",
      "    sep:   string inserted between values, default a space.\n",
      "    end:   string appended after the last value, default a newline.\n",
      "    flush: whether to forcibly flush the stream.\n",
      "\n",
      "None\n"
     ]
    }
   ],
   "source": [
    "print(help(print))"
   ]
  },
  {
   "cell_type": "markdown",
   "id": "998606fb-9d25-479c-95ad-89892ae80f72",
   "metadata": {},
   "source": [
    "neste caso, o `help(print)` esta servindo para explicar a função `print`."
   ]
  },
  {
   "cell_type": "markdown",
   "id": "09d21bb5-6ad8-43fa-9415-7c3e708e7504",
   "metadata": {},
   "source": [
    "#### criando as próprias interactive help"
   ]
  },
  {
   "cell_type": "markdown",
   "id": "077db3f7-68f6-49b7-9be7-3ffa50552877",
   "metadata": {},
   "source": [
    "quando for criar uma função, basta pôr a definição desta abaixo do comando `def` usando aspas triplas:"
   ]
  },
  {
   "cell_type": "code",
   "execution_count": 2,
   "id": "4ed089ad-4d95-4c44-a7bb-5a0fa71de45d",
   "metadata": {},
   "outputs": [],
   "source": [
    "def função():\n",
    "    \"\"\"\n",
    "    função modelo para mostrar como se cria a própria interactive help!\n",
    "    \"\"\"\n",
    "    print('hello, world!')"
   ]
  },
  {
   "cell_type": "markdown",
   "id": "3a676858-9c5c-450d-a287-1d4a513a0b5e",
   "metadata": {},
   "source": [
    "ao chamar esta função, ela funcionará normalmente:"
   ]
  },
  {
   "cell_type": "code",
   "execution_count": 3,
   "id": "e465e903-c979-42c3-93c3-4ebfa69c1d63",
   "metadata": {},
   "outputs": [
    {
     "name": "stdout",
     "output_type": "stream",
     "text": [
      "hello, world!\n"
     ]
    }
   ],
   "source": [
    "função()"
   ]
  },
  {
   "cell_type": "markdown",
   "id": "4c1f52a9-1df3-4d4e-bef1-004e1e5d2150",
   "metadata": {},
   "source": [
    "mas, se for necessário obter uma ajuda de como funciona:"
   ]
  },
  {
   "cell_type": "code",
   "execution_count": 4,
   "id": "565b8555-0127-4480-baf4-ac203df63f59",
   "metadata": {},
   "outputs": [
    {
     "name": "stdout",
     "output_type": "stream",
     "text": [
      "Help on function função in module __main__:\n",
      "\n",
      "função()\n",
      "    função modelo para mostrar como se cria a própria interactive help!\n",
      "\n",
      "None\n"
     ]
    }
   ],
   "source": [
    "print(help(função))"
   ]
  }
 ],
 "metadata": {
  "kernelspec": {
   "display_name": "Python 3 (ipykernel)",
   "language": "python",
   "name": "python3"
  },
  "language_info": {
   "codemirror_mode": {
    "name": "ipython",
    "version": 3
   },
   "file_extension": ".py",
   "mimetype": "text/x-python",
   "name": "python",
   "nbconvert_exporter": "python",
   "pygments_lexer": "ipython3",
   "version": "3.9.5"
  }
 },
 "nbformat": 4,
 "nbformat_minor": 5
}
