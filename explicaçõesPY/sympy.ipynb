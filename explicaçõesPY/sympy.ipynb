{
 "cells": [
  {
   "cell_type": "markdown",
   "id": "72d72f79-606c-4c31-8ece-5f83dfe31100",
   "metadata": {},
   "source": [
    "## ***Sympy***\n",
    "---"
   ]
  },
  {
   "cell_type": "markdown",
   "id": "13e0aaa2-3afc-4fa7-8624-6776be20b8bf",
   "metadata": {},
   "source": [
    "a biblioteca `sympy` pode ser usada para trabalhar com equações"
   ]
  },
  {
   "cell_type": "markdown",
   "id": "54d18c43-884b-4038-8aca-99169cf89dcc",
   "metadata": {},
   "source": [
    "deve-se iniciar sempre indidcando quais caracteres serão usados para servir de variáveis"
   ]
  },
  {
   "cell_type": "code",
   "execution_count": 2,
   "id": "394108fb-80c9-4390-95e7-779babd204ac",
   "metadata": {},
   "outputs": [],
   "source": [
    "from sympy import *\n",
    "\n",
    "x, y, z = symbols('x y z')"
   ]
  },
  {
   "cell_type": "markdown",
   "id": "96e84492-e2f7-4648-8a62-535f21201cd9",
   "metadata": {},
   "source": [
    "o função `expand()` pode receber uma equação pelo usuário e retorna-a como uma equação que o python entende"
   ]
  },
  {
   "cell_type": "code",
   "execution_count": 5,
   "id": "2d42740b-b5b9-4e36-878d-8fe314ee3d98",
   "metadata": {},
   "outputs": [
    {
     "name": "stdin",
     "output_type": "stream",
     "text": [
      ">  x^4-2*x^3-4*x^2+4*x+4\n"
     ]
    },
    {
     "name": "stdout",
     "output_type": "stream",
     "text": [
      "x**4 - 2*x**3 - 4*x**2 + 4*x + 4\n"
     ]
    }
   ],
   "source": [
    "eq = expand(input('> '))\n",
    "print(eq)"
   ]
  },
  {
   "cell_type": "markdown",
   "id": "c22f58ab-1468-4281-94fe-5f3dd273c3ce",
   "metadata": {},
   "source": [
    "e essa equação pode ser usada normalmente para encontrar os zeros da função, por exemplo, usando a função `solve()` que recebe a equação que desejo resolver e a variável que deverá ser resolvida:"
   ]
  },
  {
   "cell_type": "code",
   "execution_count": 6,
   "id": "27ae925a-7bee-4a82-a3e3-b8d9c49942d3",
   "metadata": {},
   "outputs": [
    {
     "name": "stdout",
     "output_type": "stream",
     "text": [
      "[-sqrt(2), sqrt(2), 1 - sqrt(3), 1 + sqrt(3)]\n"
     ]
    }
   ],
   "source": [
    "print(solve(eq, x))"
   ]
  },
  {
   "cell_type": "markdown",
   "id": "663e8353-960e-461f-beff-992ced033cb9",
   "metadata": {},
   "source": [
    "suas resoluções podem ser interpretadas normalmente como números e podem usadas como listas normais."
   ]
  },
  {
   "cell_type": "code",
   "execution_count": 7,
   "id": "af6c73bb-6b27-43fe-9ca3-508eaaeaa954",
   "metadata": {},
   "outputs": [
    {
     "name": "stdout",
     "output_type": "stream",
     "text": [
      "1 - sqrt(3)\n"
     ]
    }
   ],
   "source": [
    "from math import sqrt\n",
    "\n",
    "print(solve(eq, x)[2])"
   ]
  },
  {
   "cell_type": "markdown",
   "id": "ea514914-4cff-4f0b-9df7-bc9c95c669e5",
   "metadata": {},
   "source": [
    "ou"
   ]
  },
  {
   "cell_type": "code",
   "execution_count": 8,
   "id": "fd6cc7eb-b39a-4d9d-bfb2-f57847f507ab",
   "metadata": {},
   "outputs": [
    {
     "name": "stdout",
     "output_type": "stream",
     "text": [
      "-0.7320508075688773\n"
     ]
    }
   ],
   "source": [
    "print(float(solve(eq, x)[2]))"
   ]
  },
  {
   "cell_type": "markdown",
   "id": "d147e48c-ddd3-4943-842e-0b2b1c69c45d",
   "metadata": {},
   "source": [
    "pode ser usado a função `<nome_da_função>.subs()` que deve receber como primeiro parâmetro a variável, nestes exemplos, o x, e como segundo parâmetro um valor qualquer da qual a variável deva ser substituído na função para observar seu valor"
   ]
  },
  {
   "cell_type": "code",
   "execution_count": 10,
   "id": "dab5bd1f-4593-4c2c-b307-535e360a5cb2",
   "metadata": {},
   "outputs": [
    {
     "name": "stdout",
     "output_type": "stream",
     "text": [
      "0.812500000000000\n"
     ]
    }
   ],
   "source": [
    "print(eq.subs(x, -1.5))"
   ]
  }
 ],
 "metadata": {
  "kernelspec": {
   "display_name": "Python 3 (ipykernel)",
   "language": "python",
   "name": "python3"
  },
  "language_info": {
   "codemirror_mode": {
    "name": "ipython",
    "version": 3
   },
   "file_extension": ".py",
   "mimetype": "text/x-python",
   "name": "python",
   "nbconvert_exporter": "python",
   "pygments_lexer": "ipython3",
   "version": "3.9.5"
  }
 },
 "nbformat": 4,
 "nbformat_minor": 5
}
