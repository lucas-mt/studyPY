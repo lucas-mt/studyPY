{
 "cells": [
  {
   "cell_type": "markdown",
   "id": "8b23e877-1a7c-4cdf-b157-254c1b0c069d",
   "metadata": {},
   "source": [
    "## *decorators*\n",
    "---"
   ]
  },
  {
   "cell_type": "markdown",
   "id": "0a75c6ba-c664-4007-85c5-5a370e8f2657",
   "metadata": {},
   "source": [
    "decorators é uma forma de mudar a funcionalidade de uma função ou método sem precisar mudar o código interno da função, observe:"
   ]
  }
 ],
 "metadata": {
  "kernelspec": {
   "display_name": "Python 3 (ipykernel)",
   "language": "python",
   "name": "python3"
  },
  "language_info": {
   "codemirror_mode": {
    "name": "ipython",
    "version": 3
   },
   "file_extension": ".py",
   "mimetype": "text/x-python",
   "name": "python",
   "nbconvert_exporter": "python",
   "pygments_lexer": "ipython3",
   "version": "3.9.5"
  }
 },
 "nbformat": 4,
 "nbformat_minor": 5
}
