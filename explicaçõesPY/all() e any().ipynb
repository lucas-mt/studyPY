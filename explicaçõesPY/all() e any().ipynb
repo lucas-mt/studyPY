{
 "cells": [
  {
   "cell_type": "markdown",
   "id": "82ed7696-933e-46c0-ad53-389d2abb1503",
   "metadata": {},
   "source": [
    "## *Any e All*\n",
    "---"
   ]
  },
  {
   "cell_type": "markdown",
   "id": "1ea0c8ee-8a7d-4d5f-a069-63d6c8a7dc41",
   "metadata": {},
   "source": [
    "```any``` recebe uma lista e retorna true se um desses valores for ```True```"
   ]
  },
  {
   "cell_type": "code",
   "execution_count": 1,
   "id": "b185b0dc-c248-4756-95a8-acc9cbe2651d",
   "metadata": {},
   "outputs": [
    {
     "name": "stdout",
     "output_type": "stream",
     "text": [
      "encontrou\n"
     ]
    }
   ],
   "source": [
    "lst = [False, False, True, False]\n",
    "if any(lst):\n",
    "    print('encontrou')\n",
    "else:\n",
    "    print('não funciona')"
   ]
  },
  {
   "cell_type": "markdown",
   "id": "69645123-4f21-4a90-bc80-e1e353d2c046",
   "metadata": {},
   "source": [
    "outro exemplo:"
   ]
  },
  {
   "cell_type": "code",
   "execution_count": 3,
   "id": "3ce8cdaf-d9b2-441b-b204-ee6a724f8802",
   "metadata": {},
   "outputs": [
    {
     "name": "stdout",
     "output_type": "stream",
     "text": [
      "detectado\n"
     ]
    }
   ],
   "source": [
    "plv = 'olá, mundo!'\n",
    "avoid = ['.', '!', '?']\n",
    "if any(x in avoid for x in plv):\n",
    "    print('detectado')\n",
    "else:\n",
    "    print('não detectado')"
   ]
  },
  {
   "cell_type": "markdown",
   "id": "ffbc1c5b-1119-4655-b49c-f3ef4eb4d0f4",
   "metadata": {},
   "source": [
    "já o ```all``` recebe uma lista e retorna ```True``` se todos os valores forem verdadeiros:"
   ]
  },
  {
   "cell_type": "code",
   "execution_count": 4,
   "id": "1a3df027-c83a-4c73-9afb-13a35cf0d646",
   "metadata": {},
   "outputs": [
    {
     "name": "stdout",
     "output_type": "stream",
     "text": [
      "vdd\n"
     ]
    }
   ],
   "source": [
    "lst = ['True', 'True', 'True']\n",
    "print('vdd' if all(lst) else 'fls')"
   ]
  }
 ],
 "metadata": {
  "kernelspec": {
   "display_name": "Python 3 (ipykernel)",
   "language": "python",
   "name": "python3"
  },
  "language_info": {
   "codemirror_mode": {
    "name": "ipython",
    "version": 3
   },
   "file_extension": ".py",
   "mimetype": "text/x-python",
   "name": "python",
   "nbconvert_exporter": "python",
   "pygments_lexer": "ipython3",
   "version": "3.10.6"
  }
 },
 "nbformat": 4,
 "nbformat_minor": 5
}
